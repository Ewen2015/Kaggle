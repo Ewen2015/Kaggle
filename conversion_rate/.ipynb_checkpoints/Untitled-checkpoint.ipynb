{
 "cells": [
  {
   "cell_type": "code",
   "execution_count": 53,
   "metadata": {
    "ExecuteTime": {
     "end_time": "2018-04-02T10:02:02.231132Z",
     "start_time": "2018-04-02T10:01:52.916509Z"
    }
   },
   "outputs": [],
   "source": [
    "import pandas as pd\n",
    "import time\n",
    "\n",
    "wd = '/Users/ewenwang/Documents/practice_data/conversion_rate/'\n",
    "\n",
    "file = ['round1_ijcai_18_train_20180301.txt', 'round1_ijcai_18_test_a_20180301.txt']\n",
    "\n",
    "train, test = pd.read_csv(wd+file[0], sep=' '), pd.read_csv(wd+file[1], sep=' ')\n",
    "data = pd.concat([train, test])\n",
    "\n",
    "def timestamp_datetime(timestamp):\n",
    "    return time.strftime(\"%Y-%m-%d %H:%M:%S\", time.localtime(timestamp))\n",
    "\n",
    "data['realtime'] = pd.to_datetime(data['context_timestamp'].apply(timestamp_datetime))\n",
    "data['day'] = data['realtime'].dt.day\n",
    "\n"
   ]
  },
  {
   "cell_type": "code",
   "execution_count": null,
   "metadata": {
    "ExecuteTime": {
     "end_time": "2018-04-01T08:15:58.370237Z",
     "start_time": "2018-04-01T08:15:58.354609Z"
    }
   },
   "outputs": [],
   "source": [
    "def EngCVR(train, feature):\n",
    "    \"\"\"Calculate CVR features for categorical features.\"\"\"\n",
    "    \n",
    "    feature_clk_df = pd.DataFrame(train.groupby([feature], as_index=False).size().reset_index())\n",
    "    feature_clk_df.rename(columns={0:feature+'_count'}, inplace=True)\n",
    "\n",
    "    feature_cv_df = pd.DataFrame(train[(train.is_trade==1)].groupby([feature], as_index=False).size().reset_index())\n",
    "    feature_cv_df.rename(columns={0:feature+'_trade_count'}, inplace=True)\n",
    "\n",
    "    feature_cvr_df = feature_clk_df.merge(feature_cv_df, on=feature, how='left')\n",
    "    feature_cvr_df[feature+'_cvr'] = feature_cvr_df[feature+'_trade_count']/feature_cvr_df[feature+'_count']\n",
    "\n",
    "    return feature_cvr_df"
   ]
  },
  {
   "cell_type": "code",
   "execution_count": null,
   "metadata": {
    "ExecuteTime": {
     "end_time": "2018-04-01T08:18:23.463792Z",
     "start_time": "2018-04-01T08:18:23.461559Z"
    }
   },
   "outputs": [],
   "source": [
    "feature_list = ['user_id', 'item_id', 'context_id', 'shop_id']\n",
    "\n",
    "cvr_df = EngCVR(temp, feature_list)"
   ]
  },
  {
   "cell_type": "code",
   "execution_count": null,
   "metadata": {
    "ExecuteTime": {
     "end_time": "2018-04-01T08:20:13.979369Z",
     "start_time": "2018-04-01T08:20:13.968889Z"
    }
   },
   "outputs": [],
   "source": [
    "feature = 'user_id'\n",
    "\n",
    "feature_clk_df = pd.DataFrame(temp.groupby([feature], as_index=False).size().reset_index())\n",
    "feature_clk_df.rename(columns={0:feature+'_count'}, inplace=True)\n",
    "\n",
    "feature_cv_df = pd.DataFrame(temp[(temp.is_trade==1)].groupby([feature], as_index=False).size().reset_index())\n",
    "feature_cv_df.rename(columns={0:feature+'_trade_count'}, inplace=True)\n",
    "\n",
    "feature_cvr_df = feature_clk_df.merge(feature_cv_df, on=feature, how='left')\n",
    "feature_cvr_df[feature+'_cvr'] = feature_cvr_df[feature+'_trade_count']/feature_cvr_df[feature+'_count']"
   ]
  },
  {
   "cell_type": "code",
   "execution_count": null,
   "metadata": {
    "ExecuteTime": {
     "end_time": "2018-04-01T08:23:03.018642Z",
     "start_time": "2018-04-01T08:23:03.003064Z"
    }
   },
   "outputs": [],
   "source": [
    "feature_cvr_df.sort_values(by=['user_id_trade_count'], ascending=False).head()"
   ]
  },
  {
   "cell_type": "code",
   "execution_count": null,
   "metadata": {
    "ExecuteTime": {
     "end_time": "2018-04-01T09:37:54.899987Z",
     "start_time": "2018-04-01T09:37:54.889120Z"
    }
   },
   "outputs": [],
   "source": [
    "def EngCVR(line, feature):\n",
    "    \"\"\"Calculate CVR features for categorical features.\"\"\"\n",
    "    temp = train[(train.day == line.day-1) & (train[feature] == line[feature])]\n",
    "\n",
    "    count = temp.shape[0]\n",
    "    if count == 0:\n",
    "        return None\n",
    "    conversed= temp[(temp.is_trade==1)].shape[0]\n",
    "    cvr = conversed/count\n",
    "\n",
    "    return cvr"
   ]
  },
  {
   "cell_type": "code",
   "execution_count": null,
   "metadata": {
    "ExecuteTime": {
     "end_time": "2018-04-01T09:40:31.213619Z",
     "start_time": "2018-04-01T09:37:56.082416Z"
    }
   },
   "outputs": [],
   "source": [
    "train19 = train[(train.day==19)]\n",
    "train19['user_cvr'] = train19.apply(lambda x: EngCVR(x, 'user_id'), axis=1)"
   ]
  },
  {
   "cell_type": "code",
   "execution_count": null,
   "metadata": {
    "ExecuteTime": {
     "end_time": "2018-04-01T09:40:59.590942Z",
     "start_time": "2018-04-01T09:40:59.409752Z"
    },
    "scrolled": true
   },
   "outputs": [],
   "source": [
    "train19.sort_values(by='user_cvr', ascending=False)"
   ]
  },
  {
   "cell_type": "code",
   "execution_count": 2,
   "metadata": {
    "ExecuteTime": {
     "end_time": "2018-04-02T08:56:29.479622Z",
     "start_time": "2018-04-02T08:56:29.415020Z"
    }
   },
   "outputs": [],
   "source": [
    "def EngCVR(data, day, feature):\n",
    "    \"\"\"Calculate CVR features for categorical features.\"\"\"\n",
    "    \n",
    "    data = data[(data.day == day)]\n",
    "    feature_clk_df = pd.DataFrame(data.groupby([feature], as_index=False).size().reset_index())\n",
    "    feature_clk_df.rename(columns={0:feature+'_count'}, inplace=True)\n",
    "\n",
    "    feature_cv_df = pd.DataFrame(data[(data.is_trade==1)].groupby([feature], as_index=False).size().reset_index())\n",
    "    feature_cv_df.rename(columns={0:feature+'_trade_count'}, inplace=True)\n",
    "\n",
    "    feature_cvr_df = feature_clk_df.merge(feature_cv_df, on=feature, how='left')\n",
    "    feature_cvr_df[feature+'_cvr'] = feature_cvr_df[feature+'_trade_count']/feature_cvr_df[feature+'_count']\n",
    "\n",
    "    return feature_cvr_df"
   ]
  },
  {
   "cell_type": "code",
   "execution_count": 5,
   "metadata": {
    "ExecuteTime": {
     "end_time": "2018-04-02T08:59:04.950693Z",
     "start_time": "2018-04-02T08:59:04.908198Z"
    }
   },
   "outputs": [
    {
     "data": {
      "text/html": [
       "<div>\n",
       "<style scoped>\n",
       "    .dataframe tbody tr th:only-of-type {\n",
       "        vertical-align: middle;\n",
       "    }\n",
       "\n",
       "    .dataframe tbody tr th {\n",
       "        vertical-align: top;\n",
       "    }\n",
       "\n",
       "    .dataframe thead th {\n",
       "        text-align: right;\n",
       "    }\n",
       "</style>\n",
       "<table border=\"1\" class=\"dataframe\">\n",
       "  <thead>\n",
       "    <tr style=\"text-align: right;\">\n",
       "      <th></th>\n",
       "      <th>user_id</th>\n",
       "      <th>user_id_count</th>\n",
       "      <th>user_id_trade_count</th>\n",
       "      <th>user_id_cvr</th>\n",
       "    </tr>\n",
       "  </thead>\n",
       "  <tbody>\n",
       "    <tr>\n",
       "      <th>14851</th>\n",
       "      <td>3996770415362098116</td>\n",
       "      <td>7</td>\n",
       "      <td>3.0</td>\n",
       "      <td>0.428571</td>\n",
       "    </tr>\n",
       "    <tr>\n",
       "      <th>4897</th>\n",
       "      <td>1312449399120292157</td>\n",
       "      <td>4</td>\n",
       "      <td>2.0</td>\n",
       "      <td>0.500000</td>\n",
       "    </tr>\n",
       "    <tr>\n",
       "      <th>3986</th>\n",
       "      <td>1072283350770182831</td>\n",
       "      <td>8</td>\n",
       "      <td>2.0</td>\n",
       "      <td>0.250000</td>\n",
       "    </tr>\n",
       "    <tr>\n",
       "      <th>16393</th>\n",
       "      <td>4418327075663359810</td>\n",
       "      <td>3</td>\n",
       "      <td>2.0</td>\n",
       "      <td>0.666667</td>\n",
       "    </tr>\n",
       "    <tr>\n",
       "      <th>22979</th>\n",
       "      <td>6206783699089672711</td>\n",
       "      <td>6</td>\n",
       "      <td>2.0</td>\n",
       "      <td>0.333333</td>\n",
       "    </tr>\n",
       "  </tbody>\n",
       "</table>\n",
       "</div>"
      ],
      "text/plain": [
       "                   user_id  user_id_count  user_id_trade_count  user_id_cvr\n",
       "14851  3996770415362098116              7                  3.0     0.428571\n",
       "4897   1312449399120292157              4                  2.0     0.500000\n",
       "3986   1072283350770182831              8                  2.0     0.250000\n",
       "16393  4418327075663359810              3                  2.0     0.666667\n",
       "22979  6206783699089672711              6                  2.0     0.333333"
      ]
     },
     "execution_count": 5,
     "metadata": {},
     "output_type": "execute_result"
    }
   ],
   "source": [
    "user_19 = EngCVR(train, 19, 'user_id')\n",
    "user_19.sort_values(by='user_id_trade_count', ascending=False).head()"
   ]
  },
  {
   "cell_type": "code",
   "execution_count": 18,
   "metadata": {
    "ExecuteTime": {
     "end_time": "2018-04-02T09:20:19.800847Z",
     "start_time": "2018-04-02T09:20:19.797286Z"
    }
   },
   "outputs": [],
   "source": [
    "id_list = ['user_id', 'item_id', 'shop_id', 'context_id']\n",
    "date_list = [18, 19, 20, 21, 22, 23, 24]"
   ]
  },
  {
   "cell_type": "code",
   "execution_count": 13,
   "metadata": {
    "ExecuteTime": {
     "end_time": "2018-04-02T09:17:41.964382Z",
     "start_time": "2018-04-02T09:17:41.700962Z"
    }
   },
   "outputs": [],
   "source": [
    "feature = 'user_id'\n",
    "\n",
    "df = {}\n",
    "for date in date_list:\n",
    "    df['_'.join([feature, str(date)])] = EngCVR(train, date, feature) "
   ]
  },
  {
   "cell_type": "code",
   "execution_count": 17,
   "metadata": {
    "ExecuteTime": {
     "end_time": "2018-04-02T09:18:55.127682Z",
     "start_time": "2018-04-02T09:18:55.107042Z"
    }
   },
   "outputs": [
    {
     "data": {
      "text/html": [
       "<div>\n",
       "<style scoped>\n",
       "    .dataframe tbody tr th:only-of-type {\n",
       "        vertical-align: middle;\n",
       "    }\n",
       "\n",
       "    .dataframe tbody tr th {\n",
       "        vertical-align: top;\n",
       "    }\n",
       "\n",
       "    .dataframe thead th {\n",
       "        text-align: right;\n",
       "    }\n",
       "</style>\n",
       "<table border=\"1\" class=\"dataframe\">\n",
       "  <thead>\n",
       "    <tr style=\"text-align: right;\">\n",
       "      <th></th>\n",
       "      <th>user_id</th>\n",
       "      <th>user_id_count</th>\n",
       "      <th>user_id_trade_count</th>\n",
       "      <th>user_id_cvr</th>\n",
       "    </tr>\n",
       "  </thead>\n",
       "  <tbody>\n",
       "    <tr>\n",
       "      <th>14851</th>\n",
       "      <td>3996770415362098116</td>\n",
       "      <td>7</td>\n",
       "      <td>3.0</td>\n",
       "      <td>0.428571</td>\n",
       "    </tr>\n",
       "    <tr>\n",
       "      <th>4897</th>\n",
       "      <td>1312449399120292157</td>\n",
       "      <td>4</td>\n",
       "      <td>2.0</td>\n",
       "      <td>0.500000</td>\n",
       "    </tr>\n",
       "    <tr>\n",
       "      <th>3986</th>\n",
       "      <td>1072283350770182831</td>\n",
       "      <td>8</td>\n",
       "      <td>2.0</td>\n",
       "      <td>0.250000</td>\n",
       "    </tr>\n",
       "    <tr>\n",
       "      <th>16393</th>\n",
       "      <td>4418327075663359810</td>\n",
       "      <td>3</td>\n",
       "      <td>2.0</td>\n",
       "      <td>0.666667</td>\n",
       "    </tr>\n",
       "    <tr>\n",
       "      <th>22979</th>\n",
       "      <td>6206783699089672711</td>\n",
       "      <td>6</td>\n",
       "      <td>2.0</td>\n",
       "      <td>0.333333</td>\n",
       "    </tr>\n",
       "    <tr>\n",
       "      <th>21012</th>\n",
       "      <td>5680395797812000158</td>\n",
       "      <td>5</td>\n",
       "      <td>2.0</td>\n",
       "      <td>0.400000</td>\n",
       "    </tr>\n",
       "    <tr>\n",
       "      <th>15139</th>\n",
       "      <td>4081407113175208858</td>\n",
       "      <td>6</td>\n",
       "      <td>2.0</td>\n",
       "      <td>0.333333</td>\n",
       "    </tr>\n",
       "    <tr>\n",
       "      <th>20850</th>\n",
       "      <td>5640692426959486830</td>\n",
       "      <td>3</td>\n",
       "      <td>2.0</td>\n",
       "      <td>0.666667</td>\n",
       "    </tr>\n",
       "    <tr>\n",
       "      <th>26471</th>\n",
       "      <td>7126688615059572797</td>\n",
       "      <td>13</td>\n",
       "      <td>2.0</td>\n",
       "      <td>0.153846</td>\n",
       "    </tr>\n",
       "    <tr>\n",
       "      <th>16670</th>\n",
       "      <td>4488485750593727694</td>\n",
       "      <td>3</td>\n",
       "      <td>2.0</td>\n",
       "      <td>0.666667</td>\n",
       "    </tr>\n",
       "  </tbody>\n",
       "</table>\n",
       "</div>"
      ],
      "text/plain": [
       "                   user_id  user_id_count  user_id_trade_count  user_id_cvr\n",
       "14851  3996770415362098116              7                  3.0     0.428571\n",
       "4897   1312449399120292157              4                  2.0     0.500000\n",
       "3986   1072283350770182831              8                  2.0     0.250000\n",
       "16393  4418327075663359810              3                  2.0     0.666667\n",
       "22979  6206783699089672711              6                  2.0     0.333333\n",
       "21012  5680395797812000158              5                  2.0     0.400000\n",
       "15139  4081407113175208858              6                  2.0     0.333333\n",
       "20850  5640692426959486830              3                  2.0     0.666667\n",
       "26471  7126688615059572797             13                  2.0     0.153846\n",
       "16670  4488485750593727694              3                  2.0     0.666667"
      ]
     },
     "execution_count": 17,
     "metadata": {},
     "output_type": "execute_result"
    }
   ],
   "source": [
    "df['_'.join(['user_id', str(19)])].sort_values(by='user_id_trade_count', ascending=False).head(10)"
   ]
  },
  {
   "cell_type": "code",
   "execution_count": 46,
   "metadata": {
    "ExecuteTime": {
     "end_time": "2018-04-02T09:50:36.687060Z",
     "start_time": "2018-04-02T09:50:35.875219Z"
    }
   },
   "outputs": [],
   "source": [
    "id_list = ['user_id', 'item_id', 'shop_id', 'context_id']\n",
    "date_list = [18, 19, 20, 21, 22, 23, 24]\n",
    "\n",
    "df = {}\n",
    "\n",
    "for feature in id_list:\n",
    "    for date in date_list:\n",
    "        df['_'.join([feature, str(date)])] = EngCVR(train, date, feature)"
   ]
  },
  {
   "cell_type": "code",
   "execution_count": 27,
   "metadata": {
    "ExecuteTime": {
     "end_time": "2018-04-02T09:37:06.720715Z",
     "start_time": "2018-04-02T09:37:06.706810Z"
    }
   },
   "outputs": [
    {
     "data": {
      "text/html": [
       "<div>\n",
       "<style scoped>\n",
       "    .dataframe tbody tr th:only-of-type {\n",
       "        vertical-align: middle;\n",
       "    }\n",
       "\n",
       "    .dataframe tbody tr th {\n",
       "        vertical-align: top;\n",
       "    }\n",
       "\n",
       "    .dataframe thead th {\n",
       "        text-align: right;\n",
       "    }\n",
       "</style>\n",
       "<table border=\"1\" class=\"dataframe\">\n",
       "  <thead>\n",
       "    <tr style=\"text-align: right;\">\n",
       "      <th></th>\n",
       "      <th>shop_id</th>\n",
       "      <th>shop_id_count</th>\n",
       "      <th>shop_id_trade_count</th>\n",
       "      <th>shop_id_cvr</th>\n",
       "    </tr>\n",
       "  </thead>\n",
       "  <tbody>\n",
       "    <tr>\n",
       "      <th>528</th>\n",
       "      <td>1932086538588242822</td>\n",
       "      <td>1130</td>\n",
       "      <td>27.0</td>\n",
       "      <td>0.023894</td>\n",
       "    </tr>\n",
       "    <tr>\n",
       "      <th>559</th>\n",
       "      <td>2025576994711098052</td>\n",
       "      <td>501</td>\n",
       "      <td>15.0</td>\n",
       "      <td>0.029940</td>\n",
       "    </tr>\n",
       "    <tr>\n",
       "      <th>2542</th>\n",
       "      <td>8860698437199963449</td>\n",
       "      <td>341</td>\n",
       "      <td>13.0</td>\n",
       "      <td>0.038123</td>\n",
       "    </tr>\n",
       "    <tr>\n",
       "      <th>1216</th>\n",
       "      <td>4320282932876077668</td>\n",
       "      <td>222</td>\n",
       "      <td>12.0</td>\n",
       "      <td>0.054054</td>\n",
       "    </tr>\n",
       "    <tr>\n",
       "      <th>2572</th>\n",
       "      <td>8953967780295706657</td>\n",
       "      <td>755</td>\n",
       "      <td>12.0</td>\n",
       "      <td>0.015894</td>\n",
       "    </tr>\n",
       "    <tr>\n",
       "      <th>1878</th>\n",
       "      <td>6597981382309269962</td>\n",
       "      <td>1403</td>\n",
       "      <td>12.0</td>\n",
       "      <td>0.008553</td>\n",
       "    </tr>\n",
       "    <tr>\n",
       "      <th>1674</th>\n",
       "      <td>5813143468854095050</td>\n",
       "      <td>473</td>\n",
       "      <td>10.0</td>\n",
       "      <td>0.021142</td>\n",
       "    </tr>\n",
       "    <tr>\n",
       "      <th>165</th>\n",
       "      <td>572084226203388679</td>\n",
       "      <td>298</td>\n",
       "      <td>8.0</td>\n",
       "      <td>0.026846</td>\n",
       "    </tr>\n",
       "    <tr>\n",
       "      <th>7</th>\n",
       "      <td>20482721174257713</td>\n",
       "      <td>256</td>\n",
       "      <td>8.0</td>\n",
       "      <td>0.031250</td>\n",
       "    </tr>\n",
       "    <tr>\n",
       "      <th>610</th>\n",
       "      <td>2219589651442346735</td>\n",
       "      <td>49</td>\n",
       "      <td>7.0</td>\n",
       "      <td>0.142857</td>\n",
       "    </tr>\n",
       "  </tbody>\n",
       "</table>\n",
       "</div>"
      ],
      "text/plain": [
       "                  shop_id  shop_id_count  shop_id_trade_count  shop_id_cvr\n",
       "528   1932086538588242822           1130                 27.0     0.023894\n",
       "559   2025576994711098052            501                 15.0     0.029940\n",
       "2542  8860698437199963449            341                 13.0     0.038123\n",
       "1216  4320282932876077668            222                 12.0     0.054054\n",
       "2572  8953967780295706657            755                 12.0     0.015894\n",
       "1878  6597981382309269962           1403                 12.0     0.008553\n",
       "1674  5813143468854095050            473                 10.0     0.021142\n",
       "165    572084226203388679            298                  8.0     0.026846\n",
       "7       20482721174257713            256                  8.0     0.031250\n",
       "610   2219589651442346735             49                  7.0     0.142857"
      ]
     },
     "execution_count": 27,
     "metadata": {},
     "output_type": "execute_result"
    }
   ],
   "source": [
    "df['_'.join(['shop_id', str(24)])].sort_values(by='shop_id_trade_count', ascending=False).head(10)"
   ]
  },
  {
   "cell_type": "code",
   "execution_count": 28,
   "metadata": {
    "ExecuteTime": {
     "end_time": "2018-04-02T09:39:33.436673Z",
     "start_time": "2018-04-02T09:39:32.667841Z"
    }
   },
   "outputs": [],
   "source": [
    "train[(train.day==19)] = train[(train.day==19)].merge(df['_'.join(['shop_id', str(18)])], on='shop_id', how='left')"
   ]
  },
  {
   "cell_type": "code",
   "execution_count": 33,
   "metadata": {
    "ExecuteTime": {
     "end_time": "2018-04-02T09:41:50.486672Z",
     "start_time": "2018-04-02T09:41:50.471314Z"
    }
   },
   "outputs": [],
   "source": [
    "train_19 = train[(train.day==19)]"
   ]
  },
  {
   "cell_type": "code",
   "execution_count": 32,
   "metadata": {
    "ExecuteTime": {
     "end_time": "2018-04-02T09:41:25.798082Z",
     "start_time": "2018-04-02T09:41:25.785772Z"
    }
   },
   "outputs": [
    {
     "data": {
      "text/html": [
       "<div>\n",
       "<style scoped>\n",
       "    .dataframe tbody tr th:only-of-type {\n",
       "        vertical-align: middle;\n",
       "    }\n",
       "\n",
       "    .dataframe tbody tr th {\n",
       "        vertical-align: top;\n",
       "    }\n",
       "\n",
       "    .dataframe thead th {\n",
       "        text-align: right;\n",
       "    }\n",
       "</style>\n",
       "<table border=\"1\" class=\"dataframe\">\n",
       "  <thead>\n",
       "    <tr style=\"text-align: right;\">\n",
       "      <th></th>\n",
       "      <th>shop_id</th>\n",
       "      <th>shop_id_count</th>\n",
       "      <th>shop_id_trade_count</th>\n",
       "      <th>shop_id_cvr</th>\n",
       "    </tr>\n",
       "  </thead>\n",
       "  <tbody>\n",
       "    <tr>\n",
       "      <th>0</th>\n",
       "      <td>1543559655939246</td>\n",
       "      <td>1</td>\n",
       "      <td>NaN</td>\n",
       "      <td>NaN</td>\n",
       "    </tr>\n",
       "    <tr>\n",
       "      <th>1</th>\n",
       "      <td>6515295840140210</td>\n",
       "      <td>7</td>\n",
       "      <td>1.0</td>\n",
       "      <td>0.142857</td>\n",
       "    </tr>\n",
       "    <tr>\n",
       "      <th>2</th>\n",
       "      <td>9230153951388399</td>\n",
       "      <td>11</td>\n",
       "      <td>NaN</td>\n",
       "      <td>NaN</td>\n",
       "    </tr>\n",
       "    <tr>\n",
       "      <th>3</th>\n",
       "      <td>10653466129289268</td>\n",
       "      <td>1</td>\n",
       "      <td>NaN</td>\n",
       "      <td>NaN</td>\n",
       "    </tr>\n",
       "    <tr>\n",
       "      <th>4</th>\n",
       "      <td>12057125006548226</td>\n",
       "      <td>12</td>\n",
       "      <td>NaN</td>\n",
       "      <td>NaN</td>\n",
       "    </tr>\n",
       "  </tbody>\n",
       "</table>\n",
       "</div>"
      ],
      "text/plain": [
       "             shop_id  shop_id_count  shop_id_trade_count  shop_id_cvr\n",
       "0   1543559655939246              1                  NaN          NaN\n",
       "1   6515295840140210              7                  1.0     0.142857\n",
       "2   9230153951388399             11                  NaN          NaN\n",
       "3  10653466129289268              1                  NaN          NaN\n",
       "4  12057125006548226             12                  NaN          NaN"
      ]
     },
     "execution_count": 32,
     "metadata": {},
     "output_type": "execute_result"
    }
   ],
   "source": [
    "df['_'.join(['shop_id', str(18)])]"
   ]
  },
  {
   "cell_type": "code",
   "execution_count": 47,
   "metadata": {
    "ExecuteTime": {
     "end_time": "2018-04-02T09:50:49.047407Z",
     "start_time": "2018-04-02T09:50:48.929220Z"
    }
   },
   "outputs": [],
   "source": [
    "date = 18\n",
    "feature = 'shop_id'\n",
    "\n",
    "df['_'.join([feature, str(date)])] = EngCVR(train, date, feature) \n",
    "df_temp = df['_'.join([feature, str(date)])]\n",
    "train_19 = train_19.merge(df_temp, on=feature, how='left')"
   ]
  },
  {
   "cell_type": "code",
   "execution_count": 68,
   "metadata": {
    "ExecuteTime": {
     "end_time": "2018-04-02T10:15:25.591630Z",
     "start_time": "2018-04-02T10:15:25.459854Z"
    }
   },
   "outputs": [],
   "source": [
    "df_temp = EngCVR(data, date, feature) \n",
    "train_19 = train_19.merge(df_temp, on=feature, how='left')"
   ]
  },
  {
   "cell_type": "code",
   "execution_count": 69,
   "metadata": {
    "ExecuteTime": {
     "end_time": "2018-04-02T10:15:27.714386Z",
     "start_time": "2018-04-02T10:15:27.682407Z"
    }
   },
   "outputs": [
    {
     "data": {
      "text/html": [
       "<div>\n",
       "<style scoped>\n",
       "    .dataframe tbody tr th:only-of-type {\n",
       "        vertical-align: middle;\n",
       "    }\n",
       "\n",
       "    .dataframe tbody tr th {\n",
       "        vertical-align: top;\n",
       "    }\n",
       "\n",
       "    .dataframe thead th {\n",
       "        text-align: right;\n",
       "    }\n",
       "</style>\n",
       "<table border=\"1\" class=\"dataframe\">\n",
       "  <thead>\n",
       "    <tr style=\"text-align: right;\">\n",
       "      <th></th>\n",
       "      <th>instance_id</th>\n",
       "      <th>item_id</th>\n",
       "      <th>item_category_list</th>\n",
       "      <th>item_property_list</th>\n",
       "      <th>item_brand_id</th>\n",
       "      <th>item_city_id</th>\n",
       "      <th>item_price_level</th>\n",
       "      <th>item_sales_level</th>\n",
       "      <th>item_collected_level</th>\n",
       "      <th>item_pv_level</th>\n",
       "      <th>...</th>\n",
       "      <th>shop_id_cvr_y</th>\n",
       "      <th>shop_id_count_x</th>\n",
       "      <th>shop_id_trade_count_x</th>\n",
       "      <th>shop_id_cvr_x</th>\n",
       "      <th>shop_id_count_y</th>\n",
       "      <th>shop_id_trade_count_y</th>\n",
       "      <th>shop_id_cvr_y</th>\n",
       "      <th>context_id_count</th>\n",
       "      <th>context_id_trade_count</th>\n",
       "      <th>context_id_cvr</th>\n",
       "    </tr>\n",
       "  </thead>\n",
       "  <tbody>\n",
       "    <tr>\n",
       "      <th>0</th>\n",
       "      <td>8020414902236616944</td>\n",
       "      <td>3412720377098676069</td>\n",
       "      <td>7908382889764677758;5799347067982556520</td>\n",
       "      <td>2072967855524022579;5131280576272319091;263639...</td>\n",
       "      <td>1975590437749032870</td>\n",
       "      <td>3948283326616421003</td>\n",
       "      <td>3</td>\n",
       "      <td>4</td>\n",
       "      <td>4</td>\n",
       "      <td>14</td>\n",
       "      <td>...</td>\n",
       "      <td>NaN</td>\n",
       "      <td>6.0</td>\n",
       "      <td>NaN</td>\n",
       "      <td>NaN</td>\n",
       "      <td>6.0</td>\n",
       "      <td>NaN</td>\n",
       "      <td>NaN</td>\n",
       "      <td>NaN</td>\n",
       "      <td>NaN</td>\n",
       "      <td>NaN</td>\n",
       "    </tr>\n",
       "    <tr>\n",
       "      <th>1</th>\n",
       "      <td>4859094599505998036</td>\n",
       "      <td>3412720377098676069</td>\n",
       "      <td>7908382889764677758;5799347067982556520</td>\n",
       "      <td>2072967855524022579;5131280576272319091;263639...</td>\n",
       "      <td>1975590437749032870</td>\n",
       "      <td>3948283326616421003</td>\n",
       "      <td>3</td>\n",
       "      <td>4</td>\n",
       "      <td>4</td>\n",
       "      <td>14</td>\n",
       "      <td>...</td>\n",
       "      <td>NaN</td>\n",
       "      <td>6.0</td>\n",
       "      <td>NaN</td>\n",
       "      <td>NaN</td>\n",
       "      <td>6.0</td>\n",
       "      <td>NaN</td>\n",
       "      <td>NaN</td>\n",
       "      <td>NaN</td>\n",
       "      <td>NaN</td>\n",
       "      <td>NaN</td>\n",
       "    </tr>\n",
       "    <tr>\n",
       "      <th>2</th>\n",
       "      <td>5558126838111646808</td>\n",
       "      <td>3412720377098676069</td>\n",
       "      <td>7908382889764677758;5799347067982556520</td>\n",
       "      <td>2072967855524022579;5131280576272319091;263639...</td>\n",
       "      <td>1975590437749032870</td>\n",
       "      <td>3948283326616421003</td>\n",
       "      <td>3</td>\n",
       "      <td>4</td>\n",
       "      <td>4</td>\n",
       "      <td>14</td>\n",
       "      <td>...</td>\n",
       "      <td>NaN</td>\n",
       "      <td>6.0</td>\n",
       "      <td>NaN</td>\n",
       "      <td>NaN</td>\n",
       "      <td>6.0</td>\n",
       "      <td>NaN</td>\n",
       "      <td>NaN</td>\n",
       "      <td>NaN</td>\n",
       "      <td>NaN</td>\n",
       "      <td>NaN</td>\n",
       "    </tr>\n",
       "    <tr>\n",
       "      <th>3</th>\n",
       "      <td>847092414099368634</td>\n",
       "      <td>3412720377098676069</td>\n",
       "      <td>7908382889764677758;5799347067982556520</td>\n",
       "      <td>2072967855524022579;5131280576272319091;263639...</td>\n",
       "      <td>1975590437749032870</td>\n",
       "      <td>3948283326616421003</td>\n",
       "      <td>3</td>\n",
       "      <td>4</td>\n",
       "      <td>4</td>\n",
       "      <td>14</td>\n",
       "      <td>...</td>\n",
       "      <td>NaN</td>\n",
       "      <td>6.0</td>\n",
       "      <td>NaN</td>\n",
       "      <td>NaN</td>\n",
       "      <td>6.0</td>\n",
       "      <td>NaN</td>\n",
       "      <td>NaN</td>\n",
       "      <td>NaN</td>\n",
       "      <td>NaN</td>\n",
       "      <td>NaN</td>\n",
       "    </tr>\n",
       "    <tr>\n",
       "      <th>4</th>\n",
       "      <td>8795328164245101288</td>\n",
       "      <td>3412720377098676069</td>\n",
       "      <td>7908382889764677758;5799347067982556520</td>\n",
       "      <td>2072967855524022579;5131280576272319091;263639...</td>\n",
       "      <td>1975590437749032870</td>\n",
       "      <td>3948283326616421003</td>\n",
       "      <td>3</td>\n",
       "      <td>4</td>\n",
       "      <td>4</td>\n",
       "      <td>14</td>\n",
       "      <td>...</td>\n",
       "      <td>NaN</td>\n",
       "      <td>6.0</td>\n",
       "      <td>NaN</td>\n",
       "      <td>NaN</td>\n",
       "      <td>6.0</td>\n",
       "      <td>NaN</td>\n",
       "      <td>NaN</td>\n",
       "      <td>NaN</td>\n",
       "      <td>NaN</td>\n",
       "      <td>NaN</td>\n",
       "    </tr>\n",
       "  </tbody>\n",
       "</table>\n",
       "<p>5 rows × 44 columns</p>\n",
       "</div>"
      ],
      "text/plain": [
       "           instance_id              item_id  \\\n",
       "0  8020414902236616944  3412720377098676069   \n",
       "1  4859094599505998036  3412720377098676069   \n",
       "2  5558126838111646808  3412720377098676069   \n",
       "3   847092414099368634  3412720377098676069   \n",
       "4  8795328164245101288  3412720377098676069   \n",
       "\n",
       "                        item_category_list  \\\n",
       "0  7908382889764677758;5799347067982556520   \n",
       "1  7908382889764677758;5799347067982556520   \n",
       "2  7908382889764677758;5799347067982556520   \n",
       "3  7908382889764677758;5799347067982556520   \n",
       "4  7908382889764677758;5799347067982556520   \n",
       "\n",
       "                                  item_property_list        item_brand_id  \\\n",
       "0  2072967855524022579;5131280576272319091;263639...  1975590437749032870   \n",
       "1  2072967855524022579;5131280576272319091;263639...  1975590437749032870   \n",
       "2  2072967855524022579;5131280576272319091;263639...  1975590437749032870   \n",
       "3  2072967855524022579;5131280576272319091;263639...  1975590437749032870   \n",
       "4  2072967855524022579;5131280576272319091;263639...  1975590437749032870   \n",
       "\n",
       "          item_city_id  item_price_level  item_sales_level  \\\n",
       "0  3948283326616421003                 3                 4   \n",
       "1  3948283326616421003                 3                 4   \n",
       "2  3948283326616421003                 3                 4   \n",
       "3  3948283326616421003                 3                 4   \n",
       "4  3948283326616421003                 3                 4   \n",
       "\n",
       "   item_collected_level  item_pv_level       ...        shop_id_cvr_y  \\\n",
       "0                     4             14       ...                  NaN   \n",
       "1                     4             14       ...                  NaN   \n",
       "2                     4             14       ...                  NaN   \n",
       "3                     4             14       ...                  NaN   \n",
       "4                     4             14       ...                  NaN   \n",
       "\n",
       "   shop_id_count_x  shop_id_trade_count_x  shop_id_cvr_x  shop_id_count_y  \\\n",
       "0              6.0                    NaN            NaN              6.0   \n",
       "1              6.0                    NaN            NaN              6.0   \n",
       "2              6.0                    NaN            NaN              6.0   \n",
       "3              6.0                    NaN            NaN              6.0   \n",
       "4              6.0                    NaN            NaN              6.0   \n",
       "\n",
       "   shop_id_trade_count_y  shop_id_cvr_y  context_id_count  \\\n",
       "0                    NaN            NaN               NaN   \n",
       "1                    NaN            NaN               NaN   \n",
       "2                    NaN            NaN               NaN   \n",
       "3                    NaN            NaN               NaN   \n",
       "4                    NaN            NaN               NaN   \n",
       "\n",
       "  context_id_trade_count  context_id_cvr  \n",
       "0                    NaN             NaN  \n",
       "1                    NaN             NaN  \n",
       "2                    NaN             NaN  \n",
       "3                    NaN             NaN  \n",
       "4                    NaN             NaN  \n",
       "\n",
       "[5 rows x 44 columns]"
      ]
     },
     "execution_count": 69,
     "metadata": {},
     "output_type": "execute_result"
    }
   ],
   "source": [
    "train_19.head()"
   ]
  },
  {
   "cell_type": "code",
   "execution_count": 58,
   "metadata": {
    "ExecuteTime": {
     "end_time": "2018-04-02T10:06:52.236450Z",
     "start_time": "2018-04-02T10:06:52.140521Z"
    }
   },
   "outputs": [],
   "source": [
    "class CVR(object):\n",
    "    \"\"\"docstring for CVR\"\"\"\n",
    "    def __init__(self, data):\n",
    "        super(CVR, self).__init__()\n",
    "        self.data = data\n",
    "\n",
    "    def EngCVR(self, day, feature):\n",
    "        \"\"\"Calculate CVR features for categorical features.\"\"\"\n",
    "        \n",
    "        temp = self.data[(self.data.day == day)]\n",
    "        feature_clk_df = pd.DataFrame(temp.groupby([feature], as_index=False).size().reset_index())\n",
    "        feature_clk_df.rename(columns={0:feature+'_count'}, inplace=True)\n",
    "\n",
    "        feature_cv_df = pd.DataFrame(temp[(temp.is_trade==1)].groupby([feature], as_index=False).size().reset_index())\n",
    "        feature_cv_df.rename(columns={0:feature+'_trade_count'}, inplace=True)\n",
    "\n",
    "        feature_cvr_df = feature_clk_df.merge(feature_cv_df, on=feature, how='left')\n",
    "        feature_cvr_df[feature+'_cvr'] = feature_cvr_df[feature+'_trade_count']/feature_cvr_df[feature+'_count']\n",
    "\n",
    "        return feature_cvr_df\n",
    "\n",
    "    def store(self):\n",
    "        id_list = ['user_id', 'item_id', 'shop_id', 'context_id']\n",
    "        date_list = [18, 19, 20, 21, 22, 23, 24]\n",
    "\n",
    "        for date in date_list:\n",
    "            for feature in id_list:\n",
    "                df_add = self.EngCVR(day=date, feature=feature)\n",
    "                self.data[(self.data.day==date+1)] = self.data[(self.data.day==date+1)].merge(df_add, on=feature, how='left')\n",
    "\n",
    "        return self.data"
   ]
  },
  {
   "cell_type": "code",
   "execution_count": 59,
   "metadata": {
    "ExecuteTime": {
     "end_time": "2018-04-02T10:08:14.747958Z",
     "start_time": "2018-04-02T10:08:10.721495Z"
    }
   },
   "outputs": [],
   "source": [
    "cvr_data = CVR(data).store()"
   ]
  },
  {
   "cell_type": "code",
   "execution_count": 60,
   "metadata": {
    "ExecuteTime": {
     "end_time": "2018-04-02T10:08:16.084957Z",
     "start_time": "2018-04-02T10:08:16.078798Z"
    }
   },
   "outputs": [
    {
     "data": {
      "text/plain": [
       "Index(['context_id', 'context_page_id', 'context_timestamp', 'instance_id',\n",
       "       'is_trade', 'item_brand_id', 'item_category_list', 'item_city_id',\n",
       "       'item_collected_level', 'item_id', 'item_price_level',\n",
       "       'item_property_list', 'item_pv_level', 'item_sales_level',\n",
       "       'predict_category_property', 'shop_id', 'shop_review_num_level',\n",
       "       'shop_review_positive_rate', 'shop_score_delivery',\n",
       "       'shop_score_description', 'shop_score_service', 'shop_star_level',\n",
       "       'user_age_level', 'user_gender_id', 'user_id', 'user_occupation_id',\n",
       "       'user_star_level', 'realtime', 'day'],\n",
       "      dtype='object')"
      ]
     },
     "execution_count": 60,
     "metadata": {},
     "output_type": "execute_result"
    }
   ],
   "source": [
    "cvr_data.columns"
   ]
  },
  {
   "cell_type": "code",
   "execution_count": 85,
   "metadata": {
    "ExecuteTime": {
     "end_time": "2018-04-02T10:34:16.601426Z",
     "start_time": "2018-04-02T10:34:16.494755Z"
    }
   },
   "outputs": [],
   "source": [
    "def EngCVR(data, day, feature):\n",
    "    \"\"\"Calculate CVR features for categorical features.\"\"\"\n",
    "    \n",
    "    data = data[(data.day == day)]\n",
    "    feature_clk_df = pd.DataFrame(data.groupby([feature], as_index=False).size().reset_index())\n",
    "    feature_clk_df.rename(columns={0:feature+'_count'}, inplace=True)\n",
    "\n",
    "    feature_cv_df = pd.DataFrame(data[(data.is_trade==1)].groupby([feature], as_index=False).size().reset_index())\n",
    "    feature_cv_df.rename(columns={0:feature+'_trade_count'}, inplace=True)\n",
    "\n",
    "    feature_cvr_df = feature_clk_df.merge(feature_cv_df, on=feature, how='left')\n",
    "    feature_cvr_df[feature+'_cvr'] = feature_cvr_df[feature+'_trade_count']/feature_cvr_df[feature+'_count']\n",
    "\n",
    "    return feature_cvr_df\n",
    "\n",
    "def store(data):\n",
    "    id_list = ['user_id', 'item_id', 'shop_id', 'context_id']\n",
    "    date_list = [18]\n",
    "    new_data = pd.DataFrame()\n",
    "    n = 1\n",
    "    for date in date_list:\n",
    "        for feature in id_list:\n",
    "            df_add = EngCVR(data, day=date, feature=feature)\n",
    "            data_temp = data[(data.day==date+1)]\n",
    "            data_temp = data_temp.merge(df_add, on=feature, how='left')\n",
    "            if n==1:\n",
    "                new_data = data_temp\n",
    "            else:\n",
    "                new_data = pd.concat([data_temp, new_data])\n",
    "            n += 1\n",
    "            print(n)\n",
    "    \n",
    "    return new_data"
   ]
  },
  {
   "cell_type": "code",
   "execution_count": 86,
   "metadata": {
    "ExecuteTime": {
     "end_time": "2018-04-02T10:34:18.574663Z",
     "start_time": "2018-04-02T10:34:18.084522Z"
    }
   },
   "outputs": [
    {
     "name": "stdout",
     "output_type": "stream",
     "text": [
      "2\n",
      "3\n",
      "4\n",
      "5\n"
     ]
    }
   ],
   "source": [
    "cvr_data = store(data)"
   ]
  },
  {
   "cell_type": "code",
   "execution_count": 87,
   "metadata": {
    "ExecuteTime": {
     "end_time": "2018-04-02T10:34:21.007636Z",
     "start_time": "2018-04-02T10:34:21.003318Z"
    }
   },
   "outputs": [
    {
     "name": "stdout",
     "output_type": "stream",
     "text": [
      "(496509, 29) (0, 41)\n"
     ]
    }
   ],
   "source": [
    "print(data.shape, cvr_data.shape)"
   ]
  },
  {
   "cell_type": "code",
   "execution_count": 90,
   "metadata": {
    "ExecuteTime": {
     "end_time": "2018-04-02T10:34:32.318274Z",
     "start_time": "2018-04-02T10:34:32.302419Z"
    }
   },
   "outputs": [
    {
     "data": {
      "text/html": [
       "<div>\n",
       "<style scoped>\n",
       "    .dataframe tbody tr th:only-of-type {\n",
       "        vertical-align: middle;\n",
       "    }\n",
       "\n",
       "    .dataframe tbody tr th {\n",
       "        vertical-align: top;\n",
       "    }\n",
       "\n",
       "    .dataframe thead th {\n",
       "        text-align: right;\n",
       "    }\n",
       "</style>\n",
       "<table border=\"1\" class=\"dataframe\">\n",
       "  <thead>\n",
       "    <tr style=\"text-align: right;\">\n",
       "      <th></th>\n",
       "      <th>context_id</th>\n",
       "      <th>context_id_count</th>\n",
       "      <th>context_id_cvr</th>\n",
       "      <th>context_id_trade_count</th>\n",
       "      <th>context_page_id</th>\n",
       "      <th>context_timestamp</th>\n",
       "      <th>day</th>\n",
       "      <th>instance_id</th>\n",
       "      <th>is_trade</th>\n",
       "      <th>item_brand_id</th>\n",
       "      <th>...</th>\n",
       "      <th>shop_score_service</th>\n",
       "      <th>shop_star_level</th>\n",
       "      <th>user_age_level</th>\n",
       "      <th>user_gender_id</th>\n",
       "      <th>user_id</th>\n",
       "      <th>user_id_count</th>\n",
       "      <th>user_id_cvr</th>\n",
       "      <th>user_id_trade_count</th>\n",
       "      <th>user_occupation_id</th>\n",
       "      <th>user_star_level</th>\n",
       "    </tr>\n",
       "  </thead>\n",
       "  <tbody>\n",
       "  </tbody>\n",
       "</table>\n",
       "<p>0 rows × 41 columns</p>\n",
       "</div>"
      ],
      "text/plain": [
       "Empty DataFrame\n",
       "Columns: [context_id, context_id_count, context_id_cvr, context_id_trade_count, context_page_id, context_timestamp, day, instance_id, is_trade, item_brand_id, item_category_list, item_city_id, item_collected_level, item_id, item_id_count, item_id_cvr, item_id_trade_count, item_price_level, item_property_list, item_pv_level, item_sales_level, predict_category_property, realtime, shop_id, shop_id_count, shop_id_cvr, shop_id_trade_count, shop_review_num_level, shop_review_positive_rate, shop_score_delivery, shop_score_description, shop_score_service, shop_star_level, user_age_level, user_gender_id, user_id, user_id_count, user_id_cvr, user_id_trade_count, user_occupation_id, user_star_level]\n",
       "Index: []\n",
       "\n",
       "[0 rows x 41 columns]"
      ]
     },
     "execution_count": 90,
     "metadata": {},
     "output_type": "execute_result"
    }
   ],
   "source": [
    "cvr_data.head()"
   ]
  },
  {
   "cell_type": "code",
   "execution_count": 89,
   "metadata": {
    "ExecuteTime": {
     "end_time": "2018-04-02T10:34:25.784347Z",
     "start_time": "2018-04-02T10:34:25.776835Z"
    }
   },
   "outputs": [
    {
     "data": {
      "text/plain": [
       "array([], dtype=float64)"
      ]
     },
     "execution_count": 89,
     "metadata": {},
     "output_type": "execute_result"
    }
   ],
   "source": [
    "cvr_data.day.unique()"
   ]
  },
  {
   "cell_type": "code",
   "execution_count": 65,
   "metadata": {
    "ExecuteTime": {
     "end_time": "2018-04-02T10:13:03.043788Z",
     "start_time": "2018-04-02T10:12:58.513465Z"
    }
   },
   "outputs": [],
   "source": [
    "data_c = data\n",
    "\n",
    "for date in date_list:\n",
    "    for feature in id_list:\n",
    "        df_add = EngCVR(data, day=date, feature=feature)\n",
    "        data_c[(data_c.day==date+1)] = data_c[(data_c.day==date+1)].merge(df_add, on=feature, how='left')"
   ]
  },
  {
   "cell_type": "code",
   "execution_count": 66,
   "metadata": {
    "ExecuteTime": {
     "end_time": "2018-04-02T10:13:05.093743Z",
     "start_time": "2018-04-02T10:13:05.041588Z"
    }
   },
   "outputs": [
    {
     "data": {
      "text/html": [
       "<div>\n",
       "<style scoped>\n",
       "    .dataframe tbody tr th:only-of-type {\n",
       "        vertical-align: middle;\n",
       "    }\n",
       "\n",
       "    .dataframe tbody tr th {\n",
       "        vertical-align: top;\n",
       "    }\n",
       "\n",
       "    .dataframe thead th {\n",
       "        text-align: right;\n",
       "    }\n",
       "</style>\n",
       "<table border=\"1\" class=\"dataframe\">\n",
       "  <thead>\n",
       "    <tr style=\"text-align: right;\">\n",
       "      <th></th>\n",
       "      <th>context_id</th>\n",
       "      <th>context_page_id</th>\n",
       "      <th>context_timestamp</th>\n",
       "      <th>instance_id</th>\n",
       "      <th>is_trade</th>\n",
       "      <th>item_brand_id</th>\n",
       "      <th>item_category_list</th>\n",
       "      <th>item_city_id</th>\n",
       "      <th>item_collected_level</th>\n",
       "      <th>item_id</th>\n",
       "      <th>...</th>\n",
       "      <th>shop_score_description</th>\n",
       "      <th>shop_score_service</th>\n",
       "      <th>shop_star_level</th>\n",
       "      <th>user_age_level</th>\n",
       "      <th>user_gender_id</th>\n",
       "      <th>user_id</th>\n",
       "      <th>user_occupation_id</th>\n",
       "      <th>user_star_level</th>\n",
       "      <th>realtime</th>\n",
       "      <th>day</th>\n",
       "    </tr>\n",
       "  </thead>\n",
       "  <tbody>\n",
       "    <tr>\n",
       "      <th>0</th>\n",
       "      <td>2.829246e+17</td>\n",
       "      <td>4006.0</td>\n",
       "      <td>1.537237e+09</td>\n",
       "      <td>1.086411e+17</td>\n",
       "      <td>0.0</td>\n",
       "      <td>1.975590e+18</td>\n",
       "      <td>7908382889764677758;5799347067982556520</td>\n",
       "      <td>3.948283e+18</td>\n",
       "      <td>4.0</td>\n",
       "      <td>3.412720e+18</td>\n",
       "      <td>...</td>\n",
       "      <td>1.0</td>\n",
       "      <td>1.0</td>\n",
       "      <td>5002.0</td>\n",
       "      <td>1003.0</td>\n",
       "      <td>1.0</td>\n",
       "      <td>4.505773e+18</td>\n",
       "      <td>2005.0</td>\n",
       "      <td>3003.0</td>\n",
       "      <td>2018-09-18 10:09:04</td>\n",
       "      <td>18.0</td>\n",
       "    </tr>\n",
       "    <tr>\n",
       "      <th>1</th>\n",
       "      <td>4.007979e+18</td>\n",
       "      <td>4001.0</td>\n",
       "      <td>1.537243e+09</td>\n",
       "      <td>5.754714e+18</td>\n",
       "      <td>0.0</td>\n",
       "      <td>1.975590e+18</td>\n",
       "      <td>7908382889764677758;5799347067982556520</td>\n",
       "      <td>3.948283e+18</td>\n",
       "      <td>4.0</td>\n",
       "      <td>3.412720e+18</td>\n",
       "      <td>...</td>\n",
       "      <td>1.0</td>\n",
       "      <td>1.0</td>\n",
       "      <td>5002.0</td>\n",
       "      <td>1002.0</td>\n",
       "      <td>0.0</td>\n",
       "      <td>2.692638e+18</td>\n",
       "      <td>2005.0</td>\n",
       "      <td>3006.0</td>\n",
       "      <td>2018-09-18 12:00:32</td>\n",
       "      <td>18.0</td>\n",
       "    </tr>\n",
       "    <tr>\n",
       "      <th>2</th>\n",
       "      <td>4.884875e+18</td>\n",
       "      <td>4001.0</td>\n",
       "      <td>1.537211e+09</td>\n",
       "      <td>8.426795e+17</td>\n",
       "      <td>0.0</td>\n",
       "      <td>1.975590e+18</td>\n",
       "      <td>7908382889764677758;5799347067982556520</td>\n",
       "      <td>3.948283e+18</td>\n",
       "      <td>4.0</td>\n",
       "      <td>3.412720e+18</td>\n",
       "      <td>...</td>\n",
       "      <td>1.0</td>\n",
       "      <td>1.0</td>\n",
       "      <td>5002.0</td>\n",
       "      <td>1003.0</td>\n",
       "      <td>0.0</td>\n",
       "      <td>5.247924e+18</td>\n",
       "      <td>2005.0</td>\n",
       "      <td>3004.0</td>\n",
       "      <td>2018-09-18 03:04:12</td>\n",
       "      <td>18.0</td>\n",
       "    </tr>\n",
       "    <tr>\n",
       "      <th>3</th>\n",
       "      <td>8.401194e+17</td>\n",
       "      <td>4016.0</td>\n",
       "      <td>1.537223e+09</td>\n",
       "      <td>9.370889e+17</td>\n",
       "      <td>0.0</td>\n",
       "      <td>1.975590e+18</td>\n",
       "      <td>7908382889764677758;5799347067982556520</td>\n",
       "      <td>3.948283e+18</td>\n",
       "      <td>4.0</td>\n",
       "      <td>3.412720e+18</td>\n",
       "      <td>...</td>\n",
       "      <td>1.0</td>\n",
       "      <td>1.0</td>\n",
       "      <td>5002.0</td>\n",
       "      <td>1004.0</td>\n",
       "      <td>1.0</td>\n",
       "      <td>2.681414e+18</td>\n",
       "      <td>2005.0</td>\n",
       "      <td>3006.0</td>\n",
       "      <td>2018-09-18 06:17:50</td>\n",
       "      <td>18.0</td>\n",
       "    </tr>\n",
       "    <tr>\n",
       "      <th>4</th>\n",
       "      <td>1.736770e+18</td>\n",
       "      <td>4001.0</td>\n",
       "      <td>1.537271e+09</td>\n",
       "      <td>7.975697e+18</td>\n",
       "      <td>0.0</td>\n",
       "      <td>1.975590e+18</td>\n",
       "      <td>7908382889764677758;5799347067982556520</td>\n",
       "      <td>3.948283e+18</td>\n",
       "      <td>4.0</td>\n",
       "      <td>3.412720e+18</td>\n",
       "      <td>...</td>\n",
       "      <td>1.0</td>\n",
       "      <td>1.0</td>\n",
       "      <td>5002.0</td>\n",
       "      <td>1002.0</td>\n",
       "      <td>0.0</td>\n",
       "      <td>2.729476e+18</td>\n",
       "      <td>2005.0</td>\n",
       "      <td>3001.0</td>\n",
       "      <td>2018-09-18 19:48:40</td>\n",
       "      <td>18.0</td>\n",
       "    </tr>\n",
       "  </tbody>\n",
       "</table>\n",
       "<p>5 rows × 29 columns</p>\n",
       "</div>"
      ],
      "text/plain": [
       "     context_id  context_page_id  context_timestamp   instance_id  is_trade  \\\n",
       "0  2.829246e+17           4006.0       1.537237e+09  1.086411e+17       0.0   \n",
       "1  4.007979e+18           4001.0       1.537243e+09  5.754714e+18       0.0   \n",
       "2  4.884875e+18           4001.0       1.537211e+09  8.426795e+17       0.0   \n",
       "3  8.401194e+17           4016.0       1.537223e+09  9.370889e+17       0.0   \n",
       "4  1.736770e+18           4001.0       1.537271e+09  7.975697e+18       0.0   \n",
       "\n",
       "   item_brand_id                       item_category_list  item_city_id  \\\n",
       "0   1.975590e+18  7908382889764677758;5799347067982556520  3.948283e+18   \n",
       "1   1.975590e+18  7908382889764677758;5799347067982556520  3.948283e+18   \n",
       "2   1.975590e+18  7908382889764677758;5799347067982556520  3.948283e+18   \n",
       "3   1.975590e+18  7908382889764677758;5799347067982556520  3.948283e+18   \n",
       "4   1.975590e+18  7908382889764677758;5799347067982556520  3.948283e+18   \n",
       "\n",
       "   item_collected_level       item_id  ...   shop_score_description  \\\n",
       "0                   4.0  3.412720e+18  ...                      1.0   \n",
       "1                   4.0  3.412720e+18  ...                      1.0   \n",
       "2                   4.0  3.412720e+18  ...                      1.0   \n",
       "3                   4.0  3.412720e+18  ...                      1.0   \n",
       "4                   4.0  3.412720e+18  ...                      1.0   \n",
       "\n",
       "  shop_score_service  shop_star_level  user_age_level user_gender_id  \\\n",
       "0                1.0           5002.0          1003.0            1.0   \n",
       "1                1.0           5002.0          1002.0            0.0   \n",
       "2                1.0           5002.0          1003.0            0.0   \n",
       "3                1.0           5002.0          1004.0            1.0   \n",
       "4                1.0           5002.0          1002.0            0.0   \n",
       "\n",
       "        user_id  user_occupation_id  user_star_level            realtime   day  \n",
       "0  4.505773e+18              2005.0           3003.0 2018-09-18 10:09:04  18.0  \n",
       "1  2.692638e+18              2005.0           3006.0 2018-09-18 12:00:32  18.0  \n",
       "2  5.247924e+18              2005.0           3004.0 2018-09-18 03:04:12  18.0  \n",
       "3  2.681414e+18              2005.0           3006.0 2018-09-18 06:17:50  18.0  \n",
       "4  2.729476e+18              2005.0           3001.0 2018-09-18 19:48:40  18.0  \n",
       "\n",
       "[5 rows x 29 columns]"
      ]
     },
     "execution_count": 66,
     "metadata": {},
     "output_type": "execute_result"
    }
   ],
   "source": [
    "data_c.head()"
   ]
  },
  {
   "cell_type": "code",
   "execution_count": null,
   "metadata": {},
   "outputs": [],
   "source": []
  },
  {
   "cell_type": "code",
   "execution_count": null,
   "metadata": {},
   "outputs": [],
   "source": []
  },
  {
   "cell_type": "code",
   "execution_count": null,
   "metadata": {},
   "outputs": [],
   "source": []
  }
 ],
 "metadata": {
  "kernelspec": {
   "display_name": "Python 3",
   "language": "python",
   "name": "python3"
  },
  "language_info": {
   "codemirror_mode": {
    "name": "ipython",
    "version": 3
   },
   "file_extension": ".py",
   "mimetype": "text/x-python",
   "name": "python",
   "nbconvert_exporter": "python",
   "pygments_lexer": "ipython3",
   "version": "3.6.3"
  },
  "toc": {
   "nav_menu": {},
   "number_sections": true,
   "sideBar": true,
   "skip_h1_title": false,
   "toc_cell": false,
   "toc_position": {},
   "toc_section_display": "block",
   "toc_window_display": false
  },
  "varInspector": {
   "cols": {
    "lenName": 16,
    "lenType": 16,
    "lenVar": 40
   },
   "kernels_config": {
    "python": {
     "delete_cmd_postfix": "",
     "delete_cmd_prefix": "del ",
     "library": "var_list.py",
     "varRefreshCmd": "print(var_dic_list())"
    },
    "r": {
     "delete_cmd_postfix": ") ",
     "delete_cmd_prefix": "rm(",
     "library": "var_list.r",
     "varRefreshCmd": "cat(var_dic_list()) "
    }
   },
   "types_to_exclude": [
    "module",
    "function",
    "builtin_function_or_method",
    "instance",
    "_Feature"
   ],
   "window_display": false
  }
 },
 "nbformat": 4,
 "nbformat_minor": 2
}
