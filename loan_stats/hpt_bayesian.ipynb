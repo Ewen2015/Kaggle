{
 "cells": [
  {
   "cell_type": "code",
   "execution_count": 1,
   "metadata": {
    "ExecuteTime": {
     "end_time": "2018-01-08T11:08:08.908831Z",
     "start_time": "2018-01-08T11:08:07.330343Z"
    }
   },
   "outputs": [],
   "source": [
    "import os\n",
    "import pandas as pd\n",
    "import warnings\n",
    "warnings.filterwarnings('ignore')"
   ]
  },
  {
   "cell_type": "code",
   "execution_count": 3,
   "metadata": {
    "ExecuteTime": {
     "end_time": "2018-01-08T11:16:17.750690Z",
     "start_time": "2018-01-08T11:16:17.746366Z"
    }
   },
   "outputs": [],
   "source": [
    "wd = '/Users/ewenwang/Documents/practice_data'\n",
    "os.chdir(wd)\n",
    "\n",
    "file = 'loan_stats.csv'"
   ]
  },
  {
   "cell_type": "code",
   "execution_count": 4,
   "metadata": {
    "ExecuteTime": {
     "end_time": "2018-01-08T11:16:41.608758Z",
     "start_time": "2018-01-08T11:16:39.987664Z"
    }
   },
   "outputs": [
    {
     "name": "stderr",
     "output_type": "stream",
     "text": [
      "/Library/Frameworks/Python.framework/Versions/3.6/lib/python3.6/site-packages/sklearn/cross_validation.py:41: DeprecationWarning: This module was deprecated in version 0.18 in favor of the model_selection module into which all the refactored classes and functions are moved. Also note that the interface of the new CV iterators are different from that of this module. This module will be removed in 0.20.\n",
      "  \"This module will be removed in 0.20.\", DeprecationWarning)\n"
     ]
    }
   ],
   "source": [
    "import xgboost as xgb"
   ]
  },
  {
   "cell_type": "code",
   "execution_count": 7,
   "metadata": {
    "ExecuteTime": {
     "end_time": "2018-01-08T11:19:26.527795Z",
     "start_time": "2018-01-08T11:19:26.468341Z"
    }
   },
   "outputs": [],
   "source": [
    "from tqdm import tqdm\n",
    "from sklearn.preprocessing import LabelEncoder"
   ]
  },
  {
   "cell_type": "code",
   "execution_count": 5,
   "metadata": {
    "ExecuteTime": {
     "end_time": "2018-01-08T11:18:11.015970Z",
     "start_time": "2018-01-08T11:18:10.998023Z"
    }
   },
   "outputs": [],
   "source": [
    "def prepare_data():\n",
    "    train = pd.read_csv(file)\n",
    "    categorical_columns = train.select_dtypes(include=['object']).columns\n",
    "\n",
    "    for column in tqdm(categorical_columns):\n",
    "        le = LabelEncoder()\n",
    "        train[column] = le.fit_transform(train[column])\n",
    "\n",
    "    y = train['loan_status']\n",
    "\n",
    "    X = train.drop(['loan_status'], 1)\n",
    "    xgtrain = xgb.DMatrix(X, label=y)\n",
    "\n",
    "    return xgtrain"
   ]
  },
  {
   "cell_type": "code",
   "execution_count": 8,
   "metadata": {
    "ExecuteTime": {
     "end_time": "2018-01-08T11:19:32.041933Z",
     "start_time": "2018-01-08T11:19:29.214566Z"
    }
   },
   "outputs": [
    {
     "name": "stderr",
     "output_type": "stream",
     "text": [
      "0it [00:00, ?it/s]\n"
     ]
    }
   ],
   "source": [
    "xgtrain = prepare_data()"
   ]
  },
  {
   "cell_type": "code",
   "execution_count": 11,
   "metadata": {
    "ExecuteTime": {
     "end_time": "2018-01-08T11:29:30.842732Z",
     "start_time": "2018-01-08T11:29:30.837434Z"
    }
   },
   "outputs": [],
   "source": [
    "num_rounds = 3000\n",
    "random_state = 2018\n",
    "num_iter = 25\n",
    "init_points = 5\n",
    "params = {\n",
    "    'eta': 0.01,\n",
    "    'silent': 1,\n",
    "    'eval_metric': 'mae',\n",
    "    'verbose_eval': True,\n",
    "    'seed': random_state\n",
    "}"
   ]
  },
  {
   "cell_type": "code",
   "execution_count": 10,
   "metadata": {
    "ExecuteTime": {
     "end_time": "2018-01-08T11:29:26.833134Z",
     "start_time": "2018-01-08T11:29:26.815902Z"
    }
   },
   "outputs": [],
   "source": [
    "def xgb_evaluate(min_child_weight,\n",
    "                 colsample_bytree,\n",
    "                 max_depth,\n",
    "                 subsample,\n",
    "                 gamma,\n",
    "                 alpha):\n",
    "\n",
    "    params['min_child_weight'] = int(min_child_weight)\n",
    "    params['cosample_bytree'] = max(min(colsample_bytree, 1), 0)\n",
    "    params['max_depth'] = int(max_depth)\n",
    "    params['subsample'] = max(min(subsample, 1), 0)\n",
    "    params['gamma'] = max(gamma, 0)\n",
    "    params['alpha'] = max(alpha, 0)\n",
    "\n",
    "\n",
    "    cv_result = xgb.cv(params, xgtrain, num_boost_round=num_rounds, nfold=5,\n",
    "             seed=random_state,\n",
    "             callbacks=[xgb.callback.early_stop(50)])\n",
    "\n",
    "    return -cv_result['test-mae-mean'].values[-1]"
   ]
  },
  {
   "cell_type": "code",
   "execution_count": 12,
   "metadata": {
    "ExecuteTime": {
     "end_time": "2018-01-08T11:32:34.368491Z",
     "start_time": "2018-01-08T11:32:34.337302Z"
    }
   },
   "outputs": [],
   "source": [
    "from sklearn.metrics import mean_absolute_error\n",
    "from bayes_opt import BayesianOptimization"
   ]
  },
  {
   "cell_type": "code",
   "execution_count": 14,
   "metadata": {
    "ExecuteTime": {
     "end_time": "2018-01-08T14:08:28.874225Z",
     "start_time": "2018-01-08T14:08:28.866753Z"
    }
   },
   "outputs": [],
   "source": [
    "num_rounds = 3000\n",
    "random_state = 2018\n",
    "num_iter = 25\n",
    "init_points = 5\n",
    "params = {\n",
    "    'eta': 0.01,\n",
    "    'silent': 1,\n",
    "    'eval_metric': 'auc',\n",
    "    'verbose_eval': True,\n",
    "    'seed': random_state\n",
    "}"
   ]
  },
  {
   "cell_type": "code",
   "execution_count": 23,
   "metadata": {
    "ExecuteTime": {
     "end_time": "2018-01-08T14:19:43.227688Z",
     "start_time": "2018-01-08T14:19:43.215344Z"
    }
   },
   "outputs": [],
   "source": [
    "def xgb_evaluate(max_depth,\n",
    "                 colsample_bytree,\n",
    "                 subsample):\n",
    "    \n",
    "    params['max_depth'] = int(max_depth)\n",
    "    params['cosample_bytree'] = max(min(colsample_bytree, 1), 0)   \n",
    "    params['subsample'] = max(min(subsample, 1), 0)\n",
    "\n",
    "    cv_result = xgb.cv(params, xgtrain, num_boost_round=num_rounds, nfold=5,\n",
    "             seed=random_state,\n",
    "             callbacks=[xgb.callback.early_stop(20)])\n",
    "\n",
    "    return cv_result['test-auc-mean'].values[-1]"
   ]
  },
  {
   "cell_type": "code",
   "execution_count": 24,
   "metadata": {
    "ExecuteTime": {
     "end_time": "2018-01-08T17:44:34.272140Z",
     "start_time": "2018-01-08T14:19:43.929436Z"
    },
    "scrolled": true
   },
   "outputs": [
    {
     "name": "stdout",
     "output_type": "stream",
     "text": [
      "\u001b[31mInitialization\u001b[0m\n",
      "\u001b[94m------------------------------------------------------------------------------\u001b[0m\n",
      " Step |   Time |      Value |   colsample_bytree |   max_depth |   subsample | \n",
      "Multiple eval metrics have been passed: 'test-auc' will be used for early stopping.\n",
      "\n",
      "Will train until test-auc hasn't improved in 20 rounds.\n",
      "Stopping. Best iteration:\n",
      "[30]\ttrain-auc:0.744275+0.00456637\ttest-auc:0.691921+0.00783145\n",
      "\n",
      "    1 | 01m51s | \u001b[35m   0.69192\u001b[0m | \u001b[32m            0.1729\u001b[0m | \u001b[32m     9.2601\u001b[0m | \u001b[32m     0.7253\u001b[0m | \n",
      "Multiple eval metrics have been passed: 'test-auc' will be used for early stopping.\n",
      "\n",
      "Will train until test-auc hasn't improved in 20 rounds.\n",
      "Stopping. Best iteration:\n",
      "[1148]\ttrain-auc:0.732238+0.000501479\ttest-auc:0.700981+0.00636184\n",
      "\n",
      "    2 | 08m58s | \u001b[35m   0.70098\u001b[0m | \u001b[32m            0.8014\u001b[0m | \u001b[32m     2.4474\u001b[0m | \u001b[32m     0.9944\u001b[0m | \n",
      "Multiple eval metrics have been passed: 'test-auc' will be used for early stopping.\n",
      "\n",
      "Will train until test-auc hasn't improved in 20 rounds.\n",
      "Stopping. Best iteration:\n",
      "[87]\ttrain-auc:0.765253+0.00376945\ttest-auc:0.694123+0.00762653\n",
      "\n",
      "    3 | 03m17s |    0.69412 |             0.4639 |      8.7361 |      0.7599 | \n",
      "Multiple eval metrics have been passed: 'test-auc' will be used for early stopping.\n",
      "\n",
      "Will train until test-auc hasn't improved in 20 rounds.\n",
      "Stopping. Best iteration:\n",
      "[396]\ttrain-auc:0.812775+0.00208682\ttest-auc:0.701997+0.005868\n",
      "\n",
      "    4 | 08m22s | \u001b[35m   0.70200\u001b[0m | \u001b[32m            0.3288\u001b[0m | \u001b[32m     6.9942\u001b[0m | \u001b[32m     0.9571\u001b[0m | \n",
      "Multiple eval metrics have been passed: 'test-auc' will be used for early stopping.\n",
      "\n",
      "Will train until test-auc hasn't improved in 20 rounds.\n",
      "Stopping. Best iteration:\n",
      "[55]\ttrain-auc:0.819612+0.00869793\ttest-auc:0.691275+0.00558076\n",
      "\n",
      "    5 | 03m42s |    0.69128 |             0.4113 |     12.3364 |      0.7219 | \n",
      "\u001b[31mBayesian Optimization\u001b[0m\n",
      "\u001b[94m------------------------------------------------------------------------------\u001b[0m\n",
      " Step |   Time |      Value |   colsample_bytree |   max_depth |   subsample | \n",
      "Multiple eval metrics have been passed: 'test-auc' will be used for early stopping.\n",
      "\n",
      "Will train until test-auc hasn't improved in 20 rounds.\n",
      "Stopping. Best iteration:\n",
      "[60]\ttrain-auc:0.836421+0.0121999\ttest-auc:0.687217+0.00540258\n",
      "\n",
      "    6 | 04m18s |    0.68722 |             1.0000 |     15.0000 |      1.0000 | \n",
      "Multiple eval metrics have been passed: 'test-auc' will be used for early stopping.\n",
      "\n",
      "Will train until test-auc hasn't improved in 20 rounds.\n",
      "Stopping. Best iteration:\n",
      "[119]\ttrain-auc:0.816528+0.00908679\ttest-auc:0.691079+0.00611944\n",
      "\n",
      "    7 | 04m58s |    0.69108 |             1.0000 |     10.6739 |      1.0000 | \n",
      "Multiple eval metrics have been passed: 'test-auc' will be used for early stopping.\n",
      "\n",
      "Will train until test-auc hasn't improved in 20 rounds.\n",
      "Stopping. Best iteration:\n",
      "[865]\ttrain-auc:0.759442+0.000966364\ttest-auc:0.702319+0.00547899\n",
      "\n",
      "    8 | 12m04s | \u001b[35m   0.70232\u001b[0m | \u001b[32m            0.1000\u001b[0m | \u001b[32m     3.8697\u001b[0m | \u001b[32m     0.5000\u001b[0m | \n",
      "Multiple eval metrics have been passed: 'test-auc' will be used for early stopping.\n",
      "\n",
      "Will train until test-auc hasn't improved in 20 rounds.\n",
      "Stopping. Best iteration:\n",
      "[570]\ttrain-auc:0.774118+0.00128089\ttest-auc:0.701643+0.00557412\n",
      "\n",
      "    9 | 10m12s |    0.70164 |             1.0000 |      4.6132 |      0.5000 | \n",
      "Multiple eval metrics have been passed: 'test-auc' will be used for early stopping.\n",
      "\n",
      "Will train until test-auc hasn't improved in 20 rounds.\n",
      "Stopping. Best iteration:\n",
      "[700]\ttrain-auc:0.770268+0.000717791\ttest-auc:0.702117+0.00658792\n",
      "\n",
      "   10 | 09m47s |    0.70212 |             0.1374 |      4.3433 |      0.9979 | \n",
      "Multiple eval metrics have been passed: 'test-auc' will be used for early stopping.\n",
      "\n",
      "Will train until test-auc hasn't improved in 20 rounds.\n",
      "Stopping. Best iteration:\n",
      "[748]\ttrain-auc:0.704282+0.00124042\ttest-auc:0.694343+0.00735452\n",
      "\n",
      "   11 | 04m25s |    0.69434 |             0.1000 |      1.0000 |      0.5000 | \n",
      "Multiple eval metrics have been passed: 'test-auc' will be used for early stopping.\n",
      "\n",
      "Will train until test-auc hasn't improved in 20 rounds.\n",
      "Stopping. Best iteration:\n",
      "[44]\ttrain-auc:0.825644+0.009964\ttest-auc:0.685612+0.00747671\n",
      "\n",
      "   12 | 03m38s |    0.68561 |             0.1000 |     15.0000 |      1.0000 | \n",
      "Multiple eval metrics have been passed: 'test-auc' will be used for early stopping.\n",
      "\n",
      "Will train until test-auc hasn't improved in 20 rounds.\n",
      "Stopping. Best iteration:\n",
      "[423]\ttrain-auc:0.791461+0.00251258\ttest-auc:0.701829+0.00532902\n",
      "\n",
      "   13 | 09m33s |    0.70183 |             0.1028 |      5.9695 |      0.5112 | \n",
      "Multiple eval metrics have been passed: 'test-auc' will be used for early stopping.\n",
      "\n",
      "Will train until test-auc hasn't improved in 20 rounds.\n",
      "Stopping. Best iteration:\n",
      "[1036]\ttrain-auc:0.709401+0.00115672\ttest-auc:0.69622+0.00680648\n",
      "\n",
      "   14 | 06m10s |    0.69622 |             0.9990 |      1.9905 |      0.5185 | \n",
      "Multiple eval metrics have been passed: 'test-auc' will be used for early stopping.\n",
      "\n",
      "Will train until test-auc hasn't improved in 20 rounds.\n",
      "Stopping. Best iteration:\n",
      "[584]\ttrain-auc:0.788482+0.00295976\ttest-auc:0.702359+0.00634954\n",
      "\n",
      "   15 | 09m58s | \u001b[35m   0.70236\u001b[0m | \u001b[32m            0.9814\u001b[0m | \u001b[32m     5.9937\u001b[0m | \u001b[32m     1.0000\u001b[0m | \n",
      "Multiple eval metrics have been passed: 'test-auc' will be used for early stopping.\n",
      "\n",
      "Will train until test-auc hasn't improved in 20 rounds.\n",
      "Stopping. Best iteration:\n",
      "[1334]\ttrain-auc:0.736313+0.000473727\ttest-auc:0.70192+0.00631773\n",
      "\n",
      "   16 | 09m44s |    0.70192 |             0.1144 |      2.7777 |      0.9946 | \n",
      "Multiple eval metrics have been passed: 'test-auc' will be used for early stopping.\n",
      "\n",
      "Will train until test-auc hasn't improved in 20 rounds.\n",
      "Stopping. Best iteration:\n",
      "[826]\ttrain-auc:0.747921+0.000601871\ttest-auc:0.701361+0.00658654\n",
      "\n",
      "   17 | 09m57s |    0.70136 |             0.9919 |      3.7146 |      0.9953 | \n",
      "Multiple eval metrics have been passed: 'test-auc' will be used for early stopping.\n",
      "\n",
      "Will train until test-auc hasn't improved in 20 rounds.\n",
      "Stopping. Best iteration:\n",
      "[535]\ttrain-auc:0.787864+0.00243509\ttest-auc:0.702041+0.00619316\n",
      "\n",
      "   18 | 09m31s |    0.70204 |             0.4859 |      5.6143 |      0.9987 | \n",
      "Multiple eval metrics have been passed: 'test-auc' will be used for early stopping.\n",
      "\n",
      "Will train until test-auc hasn't improved in 20 rounds.\n",
      "Stopping. Best iteration:\n",
      "[305]\ttrain-auc:0.800162+0.00171559\ttest-auc:0.700475+0.00629214\n",
      "\n",
      "   19 | 08m19s |    0.70048 |             0.7847 |      6.5203 |      0.5025 | \n",
      "Multiple eval metrics have been passed: 'test-auc' will be used for early stopping.\n",
      "\n",
      "Will train until test-auc hasn't improved in 20 rounds.\n",
      "Stopping. Best iteration:\n",
      "[468]\ttrain-auc:0.816822+0.00268338\ttest-auc:0.701796+0.00574577\n",
      "\n",
      "   20 | 10m12s |    0.70180 |             0.1010 |      6.4097 |      0.9936 | \n",
      "Multiple eval metrics have been passed: 'test-auc' will be used for early stopping.\n",
      "\n",
      "Will train until test-auc hasn't improved in 20 rounds.\n",
      "Stopping. Best iteration:\n",
      "[428]\ttrain-auc:0.758915+0.00130954\ttest-auc:0.700254+0.0060519\n",
      "\n",
      "   21 | 06m50s |    0.70025 |             0.1028 |      4.6772 |      0.5083 | \n",
      "Multiple eval metrics have been passed: 'test-auc' will be used for early stopping.\n",
      "\n",
      "Will train until test-auc hasn't improved in 20 rounds.\n",
      "Stopping. Best iteration:\n",
      "[78]\ttrain-auc:0.885484+0.00531309\ttest-auc:0.687767+0.00828589\n",
      "\n",
      "   22 | 05m45s |    0.68777 |             1.0000 |     15.0000 |      0.5000 | \n",
      "Multiple eval metrics have been passed: 'test-auc' will be used for early stopping.\n",
      "\n",
      "Will train until test-auc hasn't improved in 20 rounds.\n",
      "Stopping. Best iteration:\n",
      "[0]\ttrain-auc:0.508521+0.000630955\ttest-auc:0.50851+0.00257048\n",
      "\n",
      "   23 | 00m24s |    0.50851 |             0.9589 |      1.0065 |      0.9754 | \n",
      "Multiple eval metrics have been passed: 'test-auc' will be used for early stopping.\n",
      "\n",
      "Will train until test-auc hasn't improved in 20 rounds.\n",
      "Stopping. Best iteration:\n",
      "[59]\ttrain-auc:0.814806+0.0127122\ttest-auc:0.688432+0.00759592\n",
      "\n",
      "   24 | 03m51s |    0.68843 |             1.0000 |     13.5259 |      1.0000 | \n",
      "Multiple eval metrics have been passed: 'test-auc' will be used for early stopping.\n",
      "\n",
      "Will train until test-auc hasn't improved in 20 rounds.\n"
     ]
    },
    {
     "name": "stdout",
     "output_type": "stream",
     "text": [
      "Stopping. Best iteration:\n",
      "[96]\ttrain-auc:0.838303+0.00662455\ttest-auc:0.692696+0.00714847\n",
      "\n",
      "   25 | 05m21s |    0.69270 |             1.0000 |     11.3893 |      0.5000 | \n",
      "Multiple eval metrics have been passed: 'test-auc' will be used for early stopping.\n",
      "\n",
      "Will train until test-auc hasn't improved in 20 rounds.\n",
      "Stopping. Best iteration:\n",
      "[439]\ttrain-auc:0.713603+0.000725138\ttest-auc:0.696322+0.00697872\n",
      "\n",
      "   26 | 04m28s |    0.69632 |             0.1000 |      2.0228 |      0.5000 | \n",
      "Multiple eval metrics have been passed: 'test-auc' will be used for early stopping.\n",
      "\n",
      "Will train until test-auc hasn't improved in 20 rounds.\n",
      "Stopping. Best iteration:\n",
      "[71]\ttrain-auc:0.858022+0.00676897\ttest-auc:0.690697+0.00788605\n",
      "\n",
      "   27 | 05m13s |    0.69070 |             0.1000 |     13.7561 |      0.5000 | \n",
      "Multiple eval metrics have been passed: 'test-auc' will be used for early stopping.\n",
      "\n",
      "Will train until test-auc hasn't improved in 20 rounds.\n",
      "Stopping. Best iteration:\n",
      "[865]\ttrain-auc:0.759442+0.000966364\ttest-auc:0.702319+0.00547899\n",
      "\n",
      "   28 | 11m35s |    0.70232 |             1.0000 |      3.0091 |      0.5000 | \n",
      "Multiple eval metrics have been passed: 'test-auc' will be used for early stopping.\n",
      "\n",
      "Will train until test-auc hasn't improved in 20 rounds.\n",
      "Stopping. Best iteration:\n",
      "[167]\ttrain-auc:0.868092+0.00358823\ttest-auc:0.69532+0.00673446\n",
      "\n",
      "   29 | 07m57s |    0.69532 |             0.1000 |     10.9307 |      0.5000 | \n",
      "Multiple eval metrics have been passed: 'test-auc' will be used for early stopping.\n",
      "\n",
      "Will train until test-auc hasn't improved in 20 rounds.\n",
      "Stopping. Best iteration:\n",
      "[96]\ttrain-auc:0.79135+0.00637263\ttest-auc:0.693691+0.00722196\n",
      "\n",
      "   30 | 04m08s |    0.69369 |             1.0000 |      9.6051 |      0.5000 | \n"
     ]
    }
   ],
   "source": [
    "xgbBO = BayesianOptimization(xgb_evaluate, {'max_depth': (1, 15),\n",
    "                                            'colsample_bytree': (0.1, 1),\n",
    "                                            'subsample': (0.5, 1)})\n",
    "\n",
    "xgbBO.maximize(init_points=init_points, n_iter=num_iter)"
   ]
  },
  {
   "cell_type": "code",
   "execution_count": null,
   "metadata": {},
   "outputs": [],
   "source": []
  }
 ],
 "metadata": {
  "kernelspec": {
   "display_name": "Python 3",
   "language": "python",
   "name": "python3"
  },
  "language_info": {
   "codemirror_mode": {
    "name": "ipython",
    "version": 3
   },
   "file_extension": ".py",
   "mimetype": "text/x-python",
   "name": "python",
   "nbconvert_exporter": "python",
   "pygments_lexer": "ipython3",
   "version": "3.6.3"
  },
  "toc": {
   "nav_menu": {},
   "number_sections": true,
   "sideBar": true,
   "skip_h1_title": false,
   "toc_cell": false,
   "toc_position": {},
   "toc_section_display": "block",
   "toc_window_display": false
  },
  "varInspector": {
   "cols": {
    "lenName": 16,
    "lenType": 16,
    "lenVar": 40
   },
   "kernels_config": {
    "python": {
     "delete_cmd_postfix": "",
     "delete_cmd_prefix": "del ",
     "library": "var_list.py",
     "varRefreshCmd": "print(var_dic_list())"
    },
    "r": {
     "delete_cmd_postfix": ") ",
     "delete_cmd_prefix": "rm(",
     "library": "var_list.r",
     "varRefreshCmd": "cat(var_dic_list()) "
    }
   },
   "types_to_exclude": [
    "module",
    "function",
    "builtin_function_or_method",
    "instance",
    "_Feature"
   ],
   "window_display": false
  }
 },
 "nbformat": 4,
 "nbformat_minor": 2
}
