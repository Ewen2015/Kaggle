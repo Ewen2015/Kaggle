{
 "cells": [
  {
   "cell_type": "code",
   "execution_count": 1,
   "metadata": {
    "ExecuteTime": {
     "end_time": "2018-02-02T02:25:54.450748Z",
     "start_time": "2018-02-02T02:25:50.835638Z"
    }
   },
   "outputs": [],
   "source": [
    "import os\n",
    "import pandas as pd\n",
    "import numpy as np\n",
    "from datetime import datetime\n",
    "from functools import partial\n",
    "from sklearn.linear_model import LogisticRegression as LR\n",
    "from sklearn.model_selection import train_test_split\n",
    "from sklearn.metrics import classification_report\n",
    "from sklearn import metrics\n",
    "import features\n",
    "import warnings\n",
    "warnings.filterwarnings(\"ignore\")"
   ]
  },
  {
   "cell_type": "code",
   "execution_count": 3,
   "metadata": {
    "ExecuteTime": {
     "end_time": "2018-02-02T02:26:55.967778Z",
     "start_time": "2018-02-02T02:26:17.069366Z"
    }
   },
   "outputs": [
    {
     "name": "stdout",
     "output_type": "stream",
     "text": [
      "\n",
      "Actually,  0:00:38.867103\n"
     ]
    },
    {
     "data": {
      "text/plain": [
       "(105471, 771)"
      ]
     },
     "execution_count": 3,
     "metadata": {},
     "output_type": "execute_result"
    }
   ],
   "source": [
    "path = '/Users/ewenwang/Documents/practice_data/'\n",
    "filename = 'loan_default.csv'\n",
    "st = datetime.now()\n",
    "dataset = pd.read_csv(os.path.join(path, filename))\n",
    "dataset = pd.DataFrame(dataset)\n",
    "print('\\nActually, ', datetime.now()-st)\n",
    "\n",
    "dataset.shape"
   ]
  },
  {
   "cell_type": "code",
   "execution_count": 4,
   "metadata": {
    "ExecuteTime": {
     "end_time": "2018-02-02T02:27:04.427677Z",
     "start_time": "2018-02-02T02:27:04.385866Z"
    }
   },
   "outputs": [
    {
     "data": {
      "text/html": [
       "<div>\n",
       "<style scoped>\n",
       "    .dataframe tbody tr th:only-of-type {\n",
       "        vertical-align: middle;\n",
       "    }\n",
       "\n",
       "    .dataframe tbody tr th {\n",
       "        vertical-align: top;\n",
       "    }\n",
       "\n",
       "    .dataframe thead th {\n",
       "        text-align: right;\n",
       "    }\n",
       "</style>\n",
       "<table border=\"1\" class=\"dataframe\">\n",
       "  <thead>\n",
       "    <tr style=\"text-align: right;\">\n",
       "      <th></th>\n",
       "      <th>id</th>\n",
       "      <th>f1</th>\n",
       "      <th>f2</th>\n",
       "      <th>f3</th>\n",
       "      <th>f4</th>\n",
       "      <th>f5</th>\n",
       "      <th>f6</th>\n",
       "      <th>f7</th>\n",
       "      <th>f8</th>\n",
       "      <th>f9</th>\n",
       "      <th>...</th>\n",
       "      <th>f770</th>\n",
       "      <th>f771</th>\n",
       "      <th>f772</th>\n",
       "      <th>f773</th>\n",
       "      <th>f774</th>\n",
       "      <th>f775</th>\n",
       "      <th>f776</th>\n",
       "      <th>f777</th>\n",
       "      <th>f778</th>\n",
       "      <th>loss</th>\n",
       "    </tr>\n",
       "  </thead>\n",
       "  <tbody>\n",
       "    <tr>\n",
       "      <th>0</th>\n",
       "      <td>1</td>\n",
       "      <td>126</td>\n",
       "      <td>10</td>\n",
       "      <td>0.686842</td>\n",
       "      <td>1100</td>\n",
       "      <td>3</td>\n",
       "      <td>13699</td>\n",
       "      <td>7201.0</td>\n",
       "      <td>4949.0</td>\n",
       "      <td>126.75</td>\n",
       "      <td>...</td>\n",
       "      <td>5</td>\n",
       "      <td>2.14</td>\n",
       "      <td>-1.54</td>\n",
       "      <td>1.18</td>\n",
       "      <td>0.1833</td>\n",
       "      <td>0.7873</td>\n",
       "      <td>1</td>\n",
       "      <td>0</td>\n",
       "      <td>5</td>\n",
       "      <td>0</td>\n",
       "    </tr>\n",
       "    <tr>\n",
       "      <th>1</th>\n",
       "      <td>2</td>\n",
       "      <td>121</td>\n",
       "      <td>10</td>\n",
       "      <td>0.782776</td>\n",
       "      <td>1100</td>\n",
       "      <td>3</td>\n",
       "      <td>84645</td>\n",
       "      <td>240.0</td>\n",
       "      <td>1625.0</td>\n",
       "      <td>123.52</td>\n",
       "      <td>...</td>\n",
       "      <td>6</td>\n",
       "      <td>0.54</td>\n",
       "      <td>-0.24</td>\n",
       "      <td>0.13</td>\n",
       "      <td>0.1926</td>\n",
       "      <td>-0.6787</td>\n",
       "      <td>1</td>\n",
       "      <td>0</td>\n",
       "      <td>5</td>\n",
       "      <td>0</td>\n",
       "    </tr>\n",
       "    <tr>\n",
       "      <th>2</th>\n",
       "      <td>3</td>\n",
       "      <td>126</td>\n",
       "      <td>10</td>\n",
       "      <td>0.500080</td>\n",
       "      <td>1100</td>\n",
       "      <td>3</td>\n",
       "      <td>83607</td>\n",
       "      <td>1800.0</td>\n",
       "      <td>1527.0</td>\n",
       "      <td>127.76</td>\n",
       "      <td>...</td>\n",
       "      <td>13</td>\n",
       "      <td>2.89</td>\n",
       "      <td>-1.73</td>\n",
       "      <td>1.04</td>\n",
       "      <td>0.2521</td>\n",
       "      <td>0.7258</td>\n",
       "      <td>1</td>\n",
       "      <td>0</td>\n",
       "      <td>5</td>\n",
       "      <td>0</td>\n",
       "    </tr>\n",
       "    <tr>\n",
       "      <th>3</th>\n",
       "      <td>4</td>\n",
       "      <td>134</td>\n",
       "      <td>10</td>\n",
       "      <td>0.439874</td>\n",
       "      <td>1100</td>\n",
       "      <td>3</td>\n",
       "      <td>82642</td>\n",
       "      <td>7542.0</td>\n",
       "      <td>1730.0</td>\n",
       "      <td>132.94</td>\n",
       "      <td>...</td>\n",
       "      <td>4</td>\n",
       "      <td>1.29</td>\n",
       "      <td>-0.89</td>\n",
       "      <td>0.66</td>\n",
       "      <td>0.2498</td>\n",
       "      <td>0.7119</td>\n",
       "      <td>1</td>\n",
       "      <td>0</td>\n",
       "      <td>5</td>\n",
       "      <td>0</td>\n",
       "    </tr>\n",
       "    <tr>\n",
       "      <th>4</th>\n",
       "      <td>5</td>\n",
       "      <td>109</td>\n",
       "      <td>9</td>\n",
       "      <td>0.502749</td>\n",
       "      <td>2900</td>\n",
       "      <td>4</td>\n",
       "      <td>79124</td>\n",
       "      <td>89.0</td>\n",
       "      <td>491.0</td>\n",
       "      <td>122.72</td>\n",
       "      <td>...</td>\n",
       "      <td>26</td>\n",
       "      <td>6.11</td>\n",
       "      <td>-3.82</td>\n",
       "      <td>2.51</td>\n",
       "      <td>0.2282</td>\n",
       "      <td>-0.5399</td>\n",
       "      <td>0</td>\n",
       "      <td>0</td>\n",
       "      <td>5</td>\n",
       "      <td>0</td>\n",
       "    </tr>\n",
       "  </tbody>\n",
       "</table>\n",
       "<p>5 rows × 771 columns</p>\n",
       "</div>"
      ],
      "text/plain": [
       "   id   f1  f2        f3    f4  f5     f6      f7      f8      f9  ...   f770  \\\n",
       "0   1  126  10  0.686842  1100   3  13699  7201.0  4949.0  126.75  ...      5   \n",
       "1   2  121  10  0.782776  1100   3  84645   240.0  1625.0  123.52  ...      6   \n",
       "2   3  126  10  0.500080  1100   3  83607  1800.0  1527.0  127.76  ...     13   \n",
       "3   4  134  10  0.439874  1100   3  82642  7542.0  1730.0  132.94  ...      4   \n",
       "4   5  109   9  0.502749  2900   4  79124    89.0   491.0  122.72  ...     26   \n",
       "\n",
       "   f771  f772  f773    f774    f775  f776  f777  f778  loss  \n",
       "0  2.14 -1.54  1.18  0.1833  0.7873     1     0     5     0  \n",
       "1  0.54 -0.24  0.13  0.1926 -0.6787     1     0     5     0  \n",
       "2  2.89 -1.73  1.04  0.2521  0.7258     1     0     5     0  \n",
       "3  1.29 -0.89  0.66  0.2498  0.7119     1     0     5     0  \n",
       "4  6.11 -3.82  2.51  0.2282 -0.5399     0     0     5     0  \n",
       "\n",
       "[5 rows x 771 columns]"
      ]
     },
     "execution_count": 4,
     "metadata": {},
     "output_type": "execute_result"
    }
   ],
   "source": [
    "dataset.head()"
   ]
  },
  {
   "cell_type": "code",
   "execution_count": 5,
   "metadata": {
    "ExecuteTime": {
     "end_time": "2018-02-02T02:27:10.465625Z",
     "start_time": "2018-02-02T02:27:10.451956Z"
    }
   },
   "outputs": [
    {
     "name": "stdout",
     "output_type": "stream",
     "text": [
      "<class 'pandas.core.frame.DataFrame'>\n",
      "RangeIndex: 105471 entries, 0 to 105470\n",
      "Columns: 771 entries, id to loss\n",
      "dtypes: float64(652), int64(99), object(19), uint64(1)\n",
      "memory usage: 620.4+ MB\n"
     ]
    }
   ],
   "source": [
    "dataset.info()"
   ]
  },
  {
   "cell_type": "code",
   "execution_count": 5,
   "metadata": {},
   "outputs": [
    {
     "data": {
      "text/plain": [
       "(array([462]),)"
      ]
     },
     "execution_count": 5,
     "metadata": {},
     "output_type": "execute_result"
    }
   ],
   "source": [
    "np.where(dataset.dtypes == 'uint64')"
   ]
  },
  {
   "cell_type": "code",
   "execution_count": 40,
   "metadata": {},
   "outputs": [],
   "source": [
    "# unitFeature = dataset.columns[462]"
   ]
  },
  {
   "cell_type": "code",
   "execution_count": 1,
   "metadata": {},
   "outputs": [],
   "source": [
    "# dataset[unitFeature]"
   ]
  },
  {
   "cell_type": "code",
   "execution_count": 57,
   "metadata": {},
   "outputs": [
    {
     "data": {
      "text/html": [
       "<div>\n",
       "<style scoped>\n",
       "    .dataframe tbody tr th:only-of-type {\n",
       "        vertical-align: middle;\n",
       "    }\n",
       "\n",
       "    .dataframe tbody tr th {\n",
       "        vertical-align: top;\n",
       "    }\n",
       "\n",
       "    .dataframe thead th {\n",
       "        text-align: right;\n",
       "    }\n",
       "</style>\n",
       "<table border=\"1\" class=\"dataframe\">\n",
       "  <thead>\n",
       "    <tr style=\"text-align: right;\">\n",
       "      <th></th>\n",
       "      <th>id</th>\n",
       "      <th>f1</th>\n",
       "      <th>f2</th>\n",
       "      <th>f3</th>\n",
       "      <th>f4</th>\n",
       "      <th>f5</th>\n",
       "      <th>f6</th>\n",
       "      <th>f7</th>\n",
       "      <th>f8</th>\n",
       "    </tr>\n",
       "  </thead>\n",
       "  <tbody>\n",
       "    <tr>\n",
       "      <th>0</th>\n",
       "      <td>1</td>\n",
       "      <td>126</td>\n",
       "      <td>10</td>\n",
       "      <td>0.686842</td>\n",
       "      <td>1100</td>\n",
       "      <td>3</td>\n",
       "      <td>13699</td>\n",
       "      <td>7201.0</td>\n",
       "      <td>4949.0</td>\n",
       "    </tr>\n",
       "    <tr>\n",
       "      <th>1</th>\n",
       "      <td>2</td>\n",
       "      <td>121</td>\n",
       "      <td>10</td>\n",
       "      <td>0.782776</td>\n",
       "      <td>1100</td>\n",
       "      <td>3</td>\n",
       "      <td>84645</td>\n",
       "      <td>240.0</td>\n",
       "      <td>1625.0</td>\n",
       "    </tr>\n",
       "    <tr>\n",
       "      <th>2</th>\n",
       "      <td>3</td>\n",
       "      <td>126</td>\n",
       "      <td>10</td>\n",
       "      <td>0.500080</td>\n",
       "      <td>1100</td>\n",
       "      <td>3</td>\n",
       "      <td>83607</td>\n",
       "      <td>1800.0</td>\n",
       "      <td>1527.0</td>\n",
       "    </tr>\n",
       "    <tr>\n",
       "      <th>3</th>\n",
       "      <td>4</td>\n",
       "      <td>134</td>\n",
       "      <td>10</td>\n",
       "      <td>0.439874</td>\n",
       "      <td>1100</td>\n",
       "      <td>3</td>\n",
       "      <td>82642</td>\n",
       "      <td>7542.0</td>\n",
       "      <td>1730.0</td>\n",
       "    </tr>\n",
       "  </tbody>\n",
       "</table>\n",
       "</div>"
      ],
      "text/plain": [
       "   id   f1  f2        f3    f4  f5     f6      f7      f8\n",
       "0   1  126  10  0.686842  1100   3  13699  7201.0  4949.0\n",
       "1   2  121  10  0.782776  1100   3  84645   240.0  1625.0\n",
       "2   3  126  10  0.500080  1100   3  83607  1800.0  1527.0\n",
       "3   4  134  10  0.439874  1100   3  82642  7542.0  1730.0"
      ]
     },
     "execution_count": 57,
     "metadata": {},
     "output_type": "execute_result"
    }
   ],
   "source": [
    "dataset.iloc[0:4, :9]"
   ]
  },
  {
   "cell_type": "code",
   "execution_count": 52,
   "metadata": {},
   "outputs": [
    {
     "data": {
      "text/plain": [
       "array([ 32,  33,  35,  36,  56,  84,  85,  86,  94,  95,  96, 104, 105,\n",
       "       106, 114, 115, 116, 124, 125, 126, 153, 154, 155, 163, 164, 165,\n",
       "       173, 174, 175, 183, 184, 185, 193, 194, 195, 223, 224, 225, 233,\n",
       "       234, 235, 243, 244, 245, 253, 254, 255, 263, 264, 265, 292, 293,\n",
       "       294, 300, 301, 302, 308, 309, 310, 316, 317, 318, 324, 325, 326,\n",
       "       343, 352, 360, 369, 377, 406, 415, 425, 455, 472, 482, 492, 502,\n",
       "       547, 557, 567, 576, 593, 669, 691, 692, 693, 720, 732, 755, 761])"
      ]
     },
     "execution_count": 52,
     "metadata": {},
     "output_type": "execute_result"
    }
   ],
   "source": [
    "np.where(dataset.head(5000).T.duplicated())[0]"
   ]
  },
  {
   "cell_type": "code",
   "execution_count": 36,
   "metadata": {},
   "outputs": [
    {
     "data": {
      "text/plain": [
       "True"
      ]
     },
     "execution_count": 36,
     "metadata": {},
     "output_type": "execute_result"
    }
   ],
   "source": [
    "dataset.head(5000).T.duplicated().any()"
   ]
  },
  {
   "cell_type": "code",
   "execution_count": 7,
   "metadata": {
    "ExecuteTime": {
     "end_time": "2018-02-02T02:28:50.330835Z",
     "start_time": "2018-02-02T02:28:50.327561Z"
    }
   },
   "outputs": [],
   "source": [
    "df = dataset"
   ]
  },
  {
   "cell_type": "code",
   "execution_count": 8,
   "metadata": {
    "ExecuteTime": {
     "end_time": "2018-02-02T02:28:51.361068Z",
     "start_time": "2018-02-02T02:28:51.348100Z"
    }
   },
   "outputs": [],
   "source": [
    "def features_dup(df, n_head = 5000, print_dup = False):\n",
    "    \"\"\"Check first n_head rows and obtain duplicated features.\"\"\"\n",
    "    if dataset.head(n_head).T.duplicated().any():\n",
    "        dup_list = np.where(df.head(n_head).T.duplicated())[0].tolist()\n",
    "        dup_features = df.columns[dup_list]\n",
    "        if print_dup:\n",
    "            print(dup_features)\n",
    "    return dup_features.tolist()"
   ]
  },
  {
   "cell_type": "code",
   "execution_count": 9,
   "metadata": {
    "ExecuteTime": {
     "end_time": "2018-02-02T02:28:58.889067Z",
     "start_time": "2018-02-02T02:28:52.358006Z"
    }
   },
   "outputs": [],
   "source": [
    "d = features_dup(df)"
   ]
  },
  {
   "cell_type": "code",
   "execution_count": 111,
   "metadata": {},
   "outputs": [],
   "source": [
    "# d.tolist()"
   ]
  },
  {
   "cell_type": "code",
   "execution_count": 124,
   "metadata": {},
   "outputs": [],
   "source": [
    "# [target, 'id', d.tolist()]\n",
    "# d.tolist()+['id', target]"
   ]
  },
  {
   "cell_type": "code",
   "execution_count": 10,
   "metadata": {
    "ExecuteTime": {
     "end_time": "2018-02-02T02:29:00.175220Z",
     "start_time": "2018-02-02T02:29:00.170644Z"
    }
   },
   "outputs": [
    {
     "data": {
      "text/plain": [
       "91"
      ]
     },
     "execution_count": 10,
     "metadata": {},
     "output_type": "execute_result"
    }
   ],
   "source": [
    "len(d)"
   ]
  },
  {
   "cell_type": "code",
   "execution_count": 11,
   "metadata": {
    "ExecuteTime": {
     "end_time": "2018-02-02T02:29:03.404525Z",
     "start_time": "2018-02-02T02:29:03.400236Z"
    }
   },
   "outputs": [],
   "source": [
    "# features\n",
    "\n",
    "target = 'loss'\n",
    "features = [x for x in dataset.columns if x not in ['id', 'defualt', target, d]]"
   ]
  },
  {
   "cell_type": "code",
   "execution_count": null,
   "metadata": {},
   "outputs": [],
   "source": []
  },
  {
   "cell_type": "code",
   "execution_count": 12,
   "metadata": {
    "ExecuteTime": {
     "end_time": "2018-02-02T02:29:04.862170Z",
     "start_time": "2018-02-02T02:29:04.857444Z"
    }
   },
   "outputs": [
    {
     "data": {
      "text/plain": [
       "769"
      ]
     },
     "execution_count": 12,
     "metadata": {},
     "output_type": "execute_result"
    }
   ],
   "source": [
    "len(features)"
   ]
  },
  {
   "cell_type": "code",
   "execution_count": 8,
   "metadata": {},
   "outputs": [],
   "source": [
    "def features_clf(df, features):\n",
    "    dtypes = df[features].dtypes.apply(lambda x: x.name).to_dict()\n",
    "    int_features, float_features, object_features = [], [], []\n",
    "    for col, dtype in dtypes.items():\n",
    "        if dtype == 'int64':\n",
    "            int_features.append(col)\n",
    "        elif dtype == 'float64':\n",
    "            float_features.append(col)\n",
    "        elif dtype == 'object':\n",
    "            object_features.append(col)\n",
    "    return int_features, float_features, object_features"
   ]
  },
  {
   "cell_type": "code",
   "execution_count": 26,
   "metadata": {},
   "outputs": [],
   "source": [
    "# dtypes = df[features].dtypes.apply(lambda x: x.name).to_dict()"
   ]
  },
  {
   "cell_type": "code",
   "execution_count": 19,
   "metadata": {},
   "outputs": [],
   "source": [
    "int_cols, float_cols, object_cols = [], [], []\n",
    "for col, dtype in dtypes.items():\n",
    "    if dtype == 'object':\n",
    "        object_cols.append(col)\n",
    "    elif dtype == 'float64':\n",
    "        float_cols.append(col)\n",
    "    elif dtype == 'int64':\n",
    "        int_cols.append(col)"
   ]
  },
  {
   "cell_type": "code",
   "execution_count": 17,
   "metadata": {},
   "outputs": [
    {
     "data": {
      "text/plain": [
       "771"
      ]
     },
     "execution_count": 17,
     "metadata": {},
     "output_type": "execute_result"
    }
   ],
   "source": [
    "len(int_cols)+len(float_cols)+len(object_cols)+2"
   ]
  },
  {
   "cell_type": "code",
   "execution_count": 9,
   "metadata": {},
   "outputs": [],
   "source": [
    "i, f, o = features_clf(df, features)"
   ]
  },
  {
   "cell_type": "code",
   "execution_count": 14,
   "metadata": {},
   "outputs": [
    {
     "data": {
      "text/plain": [
       "91"
      ]
     },
     "execution_count": 14,
     "metadata": {},
     "output_type": "execute_result"
    }
   ],
   "source": [
    "len(d)"
   ]
  },
  {
   "cell_type": "code",
   "execution_count": 15,
   "metadata": {},
   "outputs": [
    {
     "data": {
      "text/plain": [
       "677"
      ]
     },
     "execution_count": 15,
     "metadata": {},
     "output_type": "execute_result"
    }
   ],
   "source": [
    "len(i) + len(f) + len(o)"
   ]
  },
  {
   "cell_type": "code",
   "execution_count": 51,
   "metadata": {},
   "outputs": [],
   "source": [
    "# find_corr_pairs_sub(df[f])"
   ]
  },
  {
   "cell_type": "code",
   "execution_count": 10,
   "metadata": {},
   "outputs": [],
   "source": [
    "def corr_pairs(df, gamma=0.99999):\n",
    "    corr_matrix = df.corr().abs()\n",
    "    os = (corr_matrix.where(np.triu(np.ones(corr_matrix.shape), k=1).astype(np.bool))\n",
    "          .stack()\n",
    "          .sort_values(ascending=False))\n",
    "    return os[os>gamma].index.values.tolist()"
   ]
  },
  {
   "cell_type": "code",
   "execution_count": 11,
   "metadata": {},
   "outputs": [],
   "source": [
    "i_l = corr_pairs(df[i])"
   ]
  },
  {
   "cell_type": "code",
   "execution_count": 18,
   "metadata": {},
   "outputs": [
    {
     "data": {
      "text/plain": [
       "[('f74', 'f722'), ('f36', 'f74'), ('f36', 'f722')]"
      ]
     },
     "execution_count": 18,
     "metadata": {},
     "output_type": "execute_result"
    }
   ],
   "source": [
    "i_l"
   ]
  },
  {
   "cell_type": "code",
   "execution_count": 12,
   "metadata": {},
   "outputs": [],
   "source": [
    "f_l = corr_pairs(df[f])"
   ]
  },
  {
   "cell_type": "code",
   "execution_count": 84,
   "metadata": {},
   "outputs": [
    {
     "data": {
      "text/plain": [
       "[('f676', 'f765'),\n",
       " ('f21', 'f763'),\n",
       " ('f7', 'f439'),\n",
       " ('f264', 'f578'),\n",
       " ('f115', 'f484'),\n",
       " ('f254', 'f569'),\n",
       " ('f85', 'f453'),\n",
       " ('f95', 'f494'),\n",
       " ('f224', 'f539'),\n",
       " ('f105', 'f504'),\n",
       " ('f234', 'f549'),\n",
       " ('f244', 'f559'),\n",
       " ('f8', 'f543'),\n",
       " ('f577', 'f578'),\n",
       " ('f483', 'f484'),\n",
       " ('f264', 'f577'),\n",
       " ('f568', 'f569'),\n",
       " ('f115', 'f483'),\n",
       " ('f452', 'f453'),\n",
       " ('f254', 'f568'),\n",
       " ('f493', 'f494'),\n",
       " ('f85', 'f452'),\n",
       " ('f538', 'f539'),\n",
       " ('f406', 'f768'),\n",
       " ('f503', 'f504'),\n",
       " ('f548', 'f549'),\n",
       " ('f95', 'f493'),\n",
       " ('f224', 'f538'),\n",
       " ('f558', 'f559'),\n",
       " ('f105', 'f503'),\n",
       " ('f234', 'f548'),\n",
       " ('f527', 'f528'),\n",
       " ('f244', 'f558'),\n",
       " ('f274', 'f527'),\n",
       " ('f274', 'f528'),\n",
       " ('f42', 'f644'),\n",
       " ('f389', 'f625'),\n",
       " ('f7', 'f608'),\n",
       " ('f439', 'f608')]"
      ]
     },
     "execution_count": 84,
     "metadata": {},
     "output_type": "execute_result"
    }
   ],
   "source": [
    "f_l"
   ]
  },
  {
   "cell_type": "code",
   "execution_count": 85,
   "metadata": {},
   "outputs": [
    {
     "data": {
      "text/plain": [
       "39"
      ]
     },
     "execution_count": 85,
     "metadata": {},
     "output_type": "execute_result"
    }
   ],
   "source": [
    "n_f_l = len(f_l)\n",
    "n_f_l"
   ]
  },
  {
   "cell_type": "code",
   "execution_count": 43,
   "metadata": {},
   "outputs": [
    {
     "data": {
      "text/html": [
       "<div>\n",
       "<style scoped>\n",
       "    .dataframe tbody tr th:only-of-type {\n",
       "        vertical-align: middle;\n",
       "    }\n",
       "\n",
       "    .dataframe tbody tr th {\n",
       "        vertical-align: top;\n",
       "    }\n",
       "\n",
       "    .dataframe thead th {\n",
       "        text-align: right;\n",
       "    }\n",
       "</style>\n",
       "<table border=\"1\" class=\"dataframe\">\n",
       "  <thead>\n",
       "    <tr style=\"text-align: right;\">\n",
       "      <th></th>\n",
       "      <th>f74</th>\n",
       "      <th>f722</th>\n",
       "    </tr>\n",
       "  </thead>\n",
       "  <tbody>\n",
       "    <tr>\n",
       "      <th>0</th>\n",
       "      <td>5</td>\n",
       "      <td>6</td>\n",
       "    </tr>\n",
       "    <tr>\n",
       "      <th>1</th>\n",
       "      <td>6</td>\n",
       "      <td>7</td>\n",
       "    </tr>\n",
       "    <tr>\n",
       "      <th>2</th>\n",
       "      <td>13</td>\n",
       "      <td>14</td>\n",
       "    </tr>\n",
       "    <tr>\n",
       "      <th>3</th>\n",
       "      <td>4</td>\n",
       "      <td>5</td>\n",
       "    </tr>\n",
       "    <tr>\n",
       "      <th>4</th>\n",
       "      <td>26</td>\n",
       "      <td>27</td>\n",
       "    </tr>\n",
       "  </tbody>\n",
       "</table>\n",
       "</div>"
      ],
      "text/plain": [
       "   f74  f722\n",
       "0    5     6\n",
       "1    6     7\n",
       "2   13    14\n",
       "3    4     5\n",
       "4   26    27"
      ]
     },
     "execution_count": 43,
     "metadata": {},
     "output_type": "execute_result"
    }
   ],
   "source": [
    "df[df.columns & i_l[0]].head()"
   ]
  },
  {
   "cell_type": "code",
   "execution_count": 46,
   "metadata": {},
   "outputs": [
    {
     "data": {
      "text/plain": [
       "array([1])"
      ]
     },
     "execution_count": 46,
     "metadata": {},
     "output_type": "execute_result"
    }
   ],
   "source": [
    "abs(df[i_l[0][0]]-df[i_l[0][1]]).unique()"
   ]
  },
  {
   "cell_type": "code",
   "execution_count": 63,
   "metadata": {},
   "outputs": [
    {
     "name": "stdout",
     "output_type": "stream",
     "text": [
      "0 f74-f722\n",
      "1 f36-f74\n",
      "2 f36-f722\n"
     ]
    }
   ],
   "source": [
    "for index, value in enumerate(i_l):\n",
    "    print(index, '-'.join(value))"
   ]
  },
  {
   "cell_type": "code",
   "execution_count": 64,
   "metadata": {},
   "outputs": [],
   "source": [
    "new_i = pd.DataFrame()\n",
    "for index, value in enumerate(i_l):\n",
    "    new_i['-'.join(value)] = abs(df[i_l[index][0]]-df[i_l[index][1]])"
   ]
  },
  {
   "cell_type": "code",
   "execution_count": 65,
   "metadata": {},
   "outputs": [
    {
     "data": {
      "text/html": [
       "<div>\n",
       "<style scoped>\n",
       "    .dataframe tbody tr th:only-of-type {\n",
       "        vertical-align: middle;\n",
       "    }\n",
       "\n",
       "    .dataframe tbody tr th {\n",
       "        vertical-align: top;\n",
       "    }\n",
       "\n",
       "    .dataframe thead th {\n",
       "        text-align: right;\n",
       "    }\n",
       "</style>\n",
       "<table border=\"1\" class=\"dataframe\">\n",
       "  <thead>\n",
       "    <tr style=\"text-align: right;\">\n",
       "      <th></th>\n",
       "      <th>f74-f722</th>\n",
       "      <th>f36-f74</th>\n",
       "      <th>f36-f722</th>\n",
       "    </tr>\n",
       "  </thead>\n",
       "  <tbody>\n",
       "    <tr>\n",
       "      <th>0</th>\n",
       "      <td>1</td>\n",
       "      <td>0</td>\n",
       "      <td>1</td>\n",
       "    </tr>\n",
       "    <tr>\n",
       "      <th>1</th>\n",
       "      <td>1</td>\n",
       "      <td>0</td>\n",
       "      <td>1</td>\n",
       "    </tr>\n",
       "    <tr>\n",
       "      <th>2</th>\n",
       "      <td>1</td>\n",
       "      <td>0</td>\n",
       "      <td>1</td>\n",
       "    </tr>\n",
       "    <tr>\n",
       "      <th>3</th>\n",
       "      <td>1</td>\n",
       "      <td>0</td>\n",
       "      <td>1</td>\n",
       "    </tr>\n",
       "    <tr>\n",
       "      <th>4</th>\n",
       "      <td>1</td>\n",
       "      <td>0</td>\n",
       "      <td>1</td>\n",
       "    </tr>\n",
       "  </tbody>\n",
       "</table>\n",
       "</div>"
      ],
      "text/plain": [
       "   f74-f722  f36-f74  f36-f722\n",
       "0         1        0         1\n",
       "1         1        0         1\n",
       "2         1        0         1\n",
       "3         1        0         1\n",
       "4         1        0         1"
      ]
     },
     "execution_count": 65,
     "metadata": {},
     "output_type": "execute_result"
    }
   ],
   "source": [
    "new_i.head()"
   ]
  },
  {
   "cell_type": "code",
   "execution_count": 69,
   "metadata": {},
   "outputs": [
    {
     "data": {
      "text/html": [
       "<div>\n",
       "<style scoped>\n",
       "    .dataframe tbody tr th:only-of-type {\n",
       "        vertical-align: middle;\n",
       "    }\n",
       "\n",
       "    .dataframe tbody tr th {\n",
       "        vertical-align: top;\n",
       "    }\n",
       "\n",
       "    .dataframe thead th {\n",
       "        text-align: right;\n",
       "    }\n",
       "</style>\n",
       "<table border=\"1\" class=\"dataframe\">\n",
       "  <thead>\n",
       "    <tr style=\"text-align: right;\">\n",
       "      <th></th>\n",
       "      <th>f74-f722</th>\n",
       "      <th>f36-f74</th>\n",
       "      <th>f36-f722</th>\n",
       "    </tr>\n",
       "  </thead>\n",
       "  <tbody>\n",
       "    <tr>\n",
       "      <th>count</th>\n",
       "      <td>105471.0</td>\n",
       "      <td>105471.000000</td>\n",
       "      <td>105471.000000</td>\n",
       "    </tr>\n",
       "    <tr>\n",
       "      <th>mean</th>\n",
       "      <td>1.0</td>\n",
       "      <td>0.001489</td>\n",
       "      <td>1.001489</td>\n",
       "    </tr>\n",
       "    <tr>\n",
       "      <th>std</th>\n",
       "      <td>0.0</td>\n",
       "      <td>0.038553</td>\n",
       "      <td>0.038553</td>\n",
       "    </tr>\n",
       "    <tr>\n",
       "      <th>min</th>\n",
       "      <td>1.0</td>\n",
       "      <td>0.000000</td>\n",
       "      <td>1.000000</td>\n",
       "    </tr>\n",
       "    <tr>\n",
       "      <th>25%</th>\n",
       "      <td>1.0</td>\n",
       "      <td>0.000000</td>\n",
       "      <td>1.000000</td>\n",
       "    </tr>\n",
       "    <tr>\n",
       "      <th>50%</th>\n",
       "      <td>1.0</td>\n",
       "      <td>0.000000</td>\n",
       "      <td>1.000000</td>\n",
       "    </tr>\n",
       "    <tr>\n",
       "      <th>75%</th>\n",
       "      <td>1.0</td>\n",
       "      <td>0.000000</td>\n",
       "      <td>1.000000</td>\n",
       "    </tr>\n",
       "    <tr>\n",
       "      <th>max</th>\n",
       "      <td>1.0</td>\n",
       "      <td>1.000000</td>\n",
       "      <td>2.000000</td>\n",
       "    </tr>\n",
       "  </tbody>\n",
       "</table>\n",
       "</div>"
      ],
      "text/plain": [
       "       f74-f722        f36-f74       f36-f722\n",
       "count  105471.0  105471.000000  105471.000000\n",
       "mean        1.0       0.001489       1.001489\n",
       "std         0.0       0.038553       0.038553\n",
       "min         1.0       0.000000       1.000000\n",
       "25%         1.0       0.000000       1.000000\n",
       "50%         1.0       0.000000       1.000000\n",
       "75%         1.0       0.000000       1.000000\n",
       "max         1.0       1.000000       2.000000"
      ]
     },
     "execution_count": 69,
     "metadata": {},
     "output_type": "execute_result"
    }
   ],
   "source": [
    "new_i.describe()"
   ]
  },
  {
   "cell_type": "code",
   "execution_count": 72,
   "metadata": {},
   "outputs": [
    {
     "name": "stdout",
     "output_type": "stream",
     "text": [
      "[1]\n",
      "[0 1]\n",
      "[1 2]\n"
     ]
    }
   ],
   "source": [
    "for i in new_i.columns:\n",
    "    print(new_i[i].unique())"
   ]
  },
  {
   "cell_type": "code",
   "execution_count": 81,
   "metadata": {},
   "outputs": [
    {
     "data": {
      "text/plain": [
       "1"
      ]
     },
     "execution_count": 81,
     "metadata": {},
     "output_type": "execute_result"
    }
   ],
   "source": [
    "len((df[i_l[0][0]]-df[i_l[0][1]]).unique())"
   ]
  },
  {
   "cell_type": "code",
   "execution_count": 13,
   "metadata": {},
   "outputs": [],
   "source": [
    "def features_new(df, ls):\n",
    "    new = pd.DataFrame()\n",
    "    for index, value in enumerate(ls):\n",
    "        if len((df[ls[index][0]]-df[ls[index][1]]).unique()) > 1:\n",
    "            new['-'.join(value)] = df[ls[index][0]]-df[ls[index][1]]\n",
    "    return new   "
   ]
  },
  {
   "cell_type": "code",
   "execution_count": 80,
   "metadata": {},
   "outputs": [
    {
     "data": {
      "text/html": [
       "<div>\n",
       "<style scoped>\n",
       "    .dataframe tbody tr th:only-of-type {\n",
       "        vertical-align: middle;\n",
       "    }\n",
       "\n",
       "    .dataframe tbody tr th {\n",
       "        vertical-align: top;\n",
       "    }\n",
       "\n",
       "    .dataframe thead th {\n",
       "        text-align: right;\n",
       "    }\n",
       "</style>\n",
       "<table border=\"1\" class=\"dataframe\">\n",
       "  <thead>\n",
       "    <tr style=\"text-align: right;\">\n",
       "      <th></th>\n",
       "      <th>f36-f74</th>\n",
       "      <th>f36-f722</th>\n",
       "    </tr>\n",
       "  </thead>\n",
       "  <tbody>\n",
       "    <tr>\n",
       "      <th>0</th>\n",
       "      <td>0</td>\n",
       "      <td>-1</td>\n",
       "    </tr>\n",
       "    <tr>\n",
       "      <th>1</th>\n",
       "      <td>0</td>\n",
       "      <td>-1</td>\n",
       "    </tr>\n",
       "    <tr>\n",
       "      <th>2</th>\n",
       "      <td>0</td>\n",
       "      <td>-1</td>\n",
       "    </tr>\n",
       "    <tr>\n",
       "      <th>3</th>\n",
       "      <td>0</td>\n",
       "      <td>-1</td>\n",
       "    </tr>\n",
       "    <tr>\n",
       "      <th>4</th>\n",
       "      <td>0</td>\n",
       "      <td>-1</td>\n",
       "    </tr>\n",
       "  </tbody>\n",
       "</table>\n",
       "</div>"
      ],
      "text/plain": [
       "   f36-f74  f36-f722\n",
       "0        0        -1\n",
       "1        0        -1\n",
       "2        0        -1\n",
       "3        0        -1\n",
       "4        0        -1"
      ]
     },
     "execution_count": 80,
     "metadata": {},
     "output_type": "execute_result"
    }
   ],
   "source": [
    "features_new(df, i_l).head()"
   ]
  },
  {
   "cell_type": "code",
   "execution_count": 15,
   "metadata": {},
   "outputs": [],
   "source": [
    "new_i = features_new(df, i_l)"
   ]
  },
  {
   "cell_type": "code",
   "execution_count": 16,
   "metadata": {},
   "outputs": [],
   "source": [
    "new_f = features_new(df, f_l)"
   ]
  },
  {
   "cell_type": "code",
   "execution_count": 88,
   "metadata": {},
   "outputs": [
    {
     "data": {
      "text/html": [
       "<div>\n",
       "<style scoped>\n",
       "    .dataframe tbody tr th:only-of-type {\n",
       "        vertical-align: middle;\n",
       "    }\n",
       "\n",
       "    .dataframe tbody tr th {\n",
       "        vertical-align: top;\n",
       "    }\n",
       "\n",
       "    .dataframe thead th {\n",
       "        text-align: right;\n",
       "    }\n",
       "</style>\n",
       "<table border=\"1\" class=\"dataframe\">\n",
       "  <thead>\n",
       "    <tr style=\"text-align: right;\">\n",
       "      <th></th>\n",
       "      <th>f676-f765</th>\n",
       "      <th>f21-f763</th>\n",
       "      <th>f7-f439</th>\n",
       "      <th>f264-f578</th>\n",
       "      <th>f115-f484</th>\n",
       "      <th>f254-f569</th>\n",
       "      <th>f85-f453</th>\n",
       "      <th>f95-f494</th>\n",
       "      <th>f224-f539</th>\n",
       "      <th>f105-f504</th>\n",
       "      <th>...</th>\n",
       "      <th>f105-f503</th>\n",
       "      <th>f234-f548</th>\n",
       "      <th>f527-f528</th>\n",
       "      <th>f244-f558</th>\n",
       "      <th>f274-f527</th>\n",
       "      <th>f274-f528</th>\n",
       "      <th>f42-f644</th>\n",
       "      <th>f389-f625</th>\n",
       "      <th>f7-f608</th>\n",
       "      <th>f439-f608</th>\n",
       "    </tr>\n",
       "  </thead>\n",
       "  <tbody>\n",
       "    <tr>\n",
       "      <th>count</th>\n",
       "      <td>105470.0</td>\n",
       "      <td>1.036310e+05</td>\n",
       "      <td>105289.000000</td>\n",
       "      <td>105297.000000</td>\n",
       "      <td>105136.000000</td>\n",
       "      <td>105297.000000</td>\n",
       "      <td>105136.000000</td>\n",
       "      <td>105136.000000</td>\n",
       "      <td>105297.000000</td>\n",
       "      <td>105136.000000</td>\n",
       "      <td>...</td>\n",
       "      <td>105136.000000</td>\n",
       "      <td>105297.000000</td>\n",
       "      <td>105370.000000</td>\n",
       "      <td>105297.000000</td>\n",
       "      <td>105370.000000</td>\n",
       "      <td>105370.000000</td>\n",
       "      <td>105469.000000</td>\n",
       "      <td>104773.000000</td>\n",
       "      <td>105270.000000</td>\n",
       "      <td>105270.000000</td>\n",
       "    </tr>\n",
       "    <tr>\n",
       "      <th>mean</th>\n",
       "      <td>1.0</td>\n",
       "      <td>1.000000e+00</td>\n",
       "      <td>0.000038</td>\n",
       "      <td>0.031978</td>\n",
       "      <td>0.021674</td>\n",
       "      <td>0.021271</td>\n",
       "      <td>0.010875</td>\n",
       "      <td>0.010799</td>\n",
       "      <td>0.010637</td>\n",
       "      <td>0.010751</td>\n",
       "      <td>...</td>\n",
       "      <td>0.095420</td>\n",
       "      <td>0.094411</td>\n",
       "      <td>-1044.903701</td>\n",
       "      <td>0.094870</td>\n",
       "      <td>-2.062121</td>\n",
       "      <td>-1046.965822</td>\n",
       "      <td>0.002095</td>\n",
       "      <td>0.002157</td>\n",
       "      <td>6.851449</td>\n",
       "      <td>6.851411</td>\n",
       "    </tr>\n",
       "    <tr>\n",
       "      <th>std</th>\n",
       "      <td>0.0</td>\n",
       "      <td>1.035788e-17</td>\n",
       "      <td>0.006164</td>\n",
       "      <td>0.049767</td>\n",
       "      <td>0.040132</td>\n",
       "      <td>0.042264</td>\n",
       "      <td>0.030071</td>\n",
       "      <td>0.029932</td>\n",
       "      <td>0.030983</td>\n",
       "      <td>0.029867</td>\n",
       "      <td>...</td>\n",
       "      <td>0.172139</td>\n",
       "      <td>0.175715</td>\n",
       "      <td>4345.411083</td>\n",
       "      <td>0.175305</td>\n",
       "      <td>6226.262833</td>\n",
       "      <td>7636.026910</td>\n",
       "      <td>0.055813</td>\n",
       "      <td>0.056757</td>\n",
       "      <td>11.445368</td>\n",
       "      <td>11.445392</td>\n",
       "    </tr>\n",
       "    <tr>\n",
       "      <th>min</th>\n",
       "      <td>1.0</td>\n",
       "      <td>1.000000e+00</td>\n",
       "      <td>0.000000</td>\n",
       "      <td>-0.300000</td>\n",
       "      <td>0.000000</td>\n",
       "      <td>-0.200000</td>\n",
       "      <td>0.000000</td>\n",
       "      <td>0.000000</td>\n",
       "      <td>-0.100000</td>\n",
       "      <td>0.000000</td>\n",
       "      <td>...</td>\n",
       "      <td>0.000000</td>\n",
       "      <td>-0.560000</td>\n",
       "      <td>-364241.990000</td>\n",
       "      <td>-0.570000</td>\n",
       "      <td>-711219.040000</td>\n",
       "      <td>-877109.430000</td>\n",
       "      <td>0.000000</td>\n",
       "      <td>0.000000</td>\n",
       "      <td>0.000000</td>\n",
       "      <td>-1.000000</td>\n",
       "    </tr>\n",
       "    <tr>\n",
       "      <th>25%</th>\n",
       "      <td>1.0</td>\n",
       "      <td>1.000000e+00</td>\n",
       "      <td>0.000000</td>\n",
       "      <td>0.000000</td>\n",
       "      <td>0.000000</td>\n",
       "      <td>0.000000</td>\n",
       "      <td>0.000000</td>\n",
       "      <td>0.000000</td>\n",
       "      <td>0.000000</td>\n",
       "      <td>0.000000</td>\n",
       "      <td>...</td>\n",
       "      <td>0.000000</td>\n",
       "      <td>0.000000</td>\n",
       "      <td>-906.742500</td>\n",
       "      <td>0.000000</td>\n",
       "      <td>-89.967500</td>\n",
       "      <td>-544.107500</td>\n",
       "      <td>0.000000</td>\n",
       "      <td>0.000000</td>\n",
       "      <td>0.000000</td>\n",
       "      <td>0.000000</td>\n",
       "    </tr>\n",
       "    <tr>\n",
       "      <th>50%</th>\n",
       "      <td>1.0</td>\n",
       "      <td>1.000000e+00</td>\n",
       "      <td>0.000000</td>\n",
       "      <td>0.000000</td>\n",
       "      <td>0.000000</td>\n",
       "      <td>0.000000</td>\n",
       "      <td>0.000000</td>\n",
       "      <td>0.000000</td>\n",
       "      <td>0.000000</td>\n",
       "      <td>0.000000</td>\n",
       "      <td>...</td>\n",
       "      <td>0.000000</td>\n",
       "      <td>0.000000</td>\n",
       "      <td>-313.625000</td>\n",
       "      <td>0.000000</td>\n",
       "      <td>58.725000</td>\n",
       "      <td>0.000000</td>\n",
       "      <td>0.000000</td>\n",
       "      <td>0.000000</td>\n",
       "      <td>2.000000</td>\n",
       "      <td>2.000000</td>\n",
       "    </tr>\n",
       "    <tr>\n",
       "      <th>75%</th>\n",
       "      <td>1.0</td>\n",
       "      <td>1.000000e+00</td>\n",
       "      <td>0.000000</td>\n",
       "      <td>0.100000</td>\n",
       "      <td>0.010000</td>\n",
       "      <td>0.010000</td>\n",
       "      <td>0.000000</td>\n",
       "      <td>0.000000</td>\n",
       "      <td>0.000000</td>\n",
       "      <td>0.000000</td>\n",
       "      <td>...</td>\n",
       "      <td>0.120000</td>\n",
       "      <td>0.120000</td>\n",
       "      <td>-85.692500</td>\n",
       "      <td>0.120000</td>\n",
       "      <td>309.292500</td>\n",
       "      <td>1.980000</td>\n",
       "      <td>0.000000</td>\n",
       "      <td>0.000000</td>\n",
       "      <td>8.000000</td>\n",
       "      <td>8.000000</td>\n",
       "    </tr>\n",
       "    <tr>\n",
       "      <th>max</th>\n",
       "      <td>1.0</td>\n",
       "      <td>1.000000e+00</td>\n",
       "      <td>1.000000</td>\n",
       "      <td>0.410000</td>\n",
       "      <td>0.110000</td>\n",
       "      <td>0.310000</td>\n",
       "      <td>0.110000</td>\n",
       "      <td>0.110000</td>\n",
       "      <td>0.210000</td>\n",
       "      <td>0.110000</td>\n",
       "      <td>...</td>\n",
       "      <td>0.980000</td>\n",
       "      <td>1.280000</td>\n",
       "      <td>0.000000</td>\n",
       "      <td>1.250000</td>\n",
       "      <td>609823.870000</td>\n",
       "      <td>379757.440000</td>\n",
       "      <td>3.000000</td>\n",
       "      <td>3.000000</td>\n",
       "      <td>72.000000</td>\n",
       "      <td>72.000000</td>\n",
       "    </tr>\n",
       "  </tbody>\n",
       "</table>\n",
       "<p>8 rows × 39 columns</p>\n",
       "</div>"
      ],
      "text/plain": [
       "       f676-f765      f21-f763        f7-f439      f264-f578      f115-f484  \\\n",
       "count   105470.0  1.036310e+05  105289.000000  105297.000000  105136.000000   \n",
       "mean         1.0  1.000000e+00       0.000038       0.031978       0.021674   \n",
       "std          0.0  1.035788e-17       0.006164       0.049767       0.040132   \n",
       "min          1.0  1.000000e+00       0.000000      -0.300000       0.000000   \n",
       "25%          1.0  1.000000e+00       0.000000       0.000000       0.000000   \n",
       "50%          1.0  1.000000e+00       0.000000       0.000000       0.000000   \n",
       "75%          1.0  1.000000e+00       0.000000       0.100000       0.010000   \n",
       "max          1.0  1.000000e+00       1.000000       0.410000       0.110000   \n",
       "\n",
       "           f254-f569       f85-f453       f95-f494      f224-f539  \\\n",
       "count  105297.000000  105136.000000  105136.000000  105297.000000   \n",
       "mean        0.021271       0.010875       0.010799       0.010637   \n",
       "std         0.042264       0.030071       0.029932       0.030983   \n",
       "min        -0.200000       0.000000       0.000000      -0.100000   \n",
       "25%         0.000000       0.000000       0.000000       0.000000   \n",
       "50%         0.000000       0.000000       0.000000       0.000000   \n",
       "75%         0.010000       0.000000       0.000000       0.000000   \n",
       "max         0.310000       0.110000       0.110000       0.210000   \n",
       "\n",
       "           f105-f504      ...            f105-f503      f234-f548  \\\n",
       "count  105136.000000      ...        105136.000000  105297.000000   \n",
       "mean        0.010751      ...             0.095420       0.094411   \n",
       "std         0.029867      ...             0.172139       0.175715   \n",
       "min         0.000000      ...             0.000000      -0.560000   \n",
       "25%         0.000000      ...             0.000000       0.000000   \n",
       "50%         0.000000      ...             0.000000       0.000000   \n",
       "75%         0.000000      ...             0.120000       0.120000   \n",
       "max         0.110000      ...             0.980000       1.280000   \n",
       "\n",
       "           f527-f528      f244-f558      f274-f527      f274-f528  \\\n",
       "count  105370.000000  105297.000000  105370.000000  105370.000000   \n",
       "mean    -1044.903701       0.094870      -2.062121   -1046.965822   \n",
       "std      4345.411083       0.175305    6226.262833    7636.026910   \n",
       "min   -364241.990000      -0.570000 -711219.040000 -877109.430000   \n",
       "25%      -906.742500       0.000000     -89.967500    -544.107500   \n",
       "50%      -313.625000       0.000000      58.725000       0.000000   \n",
       "75%       -85.692500       0.120000     309.292500       1.980000   \n",
       "max         0.000000       1.250000  609823.870000  379757.440000   \n",
       "\n",
       "            f42-f644      f389-f625        f7-f608      f439-f608  \n",
       "count  105469.000000  104773.000000  105270.000000  105270.000000  \n",
       "mean        0.002095       0.002157       6.851449       6.851411  \n",
       "std         0.055813       0.056757      11.445368      11.445392  \n",
       "min         0.000000       0.000000       0.000000      -1.000000  \n",
       "25%         0.000000       0.000000       0.000000       0.000000  \n",
       "50%         0.000000       0.000000       2.000000       2.000000  \n",
       "75%         0.000000       0.000000       8.000000       8.000000  \n",
       "max         3.000000       3.000000      72.000000      72.000000  \n",
       "\n",
       "[8 rows x 39 columns]"
      ]
     },
     "execution_count": 88,
     "metadata": {},
     "output_type": "execute_result"
    }
   ],
   "source": [
    "new_f.describe()"
   ]
  },
  {
   "cell_type": "code",
   "execution_count": 17,
   "metadata": {},
   "outputs": [
    {
     "data": {
      "text/plain": [
       "0   -414.28\n",
       "1    -35.73\n",
       "2   -122.26\n",
       "3   -120.58\n",
       "4    -21.47\n",
       "Name: f527-f528, dtype: float64"
      ]
     },
     "execution_count": 17,
     "metadata": {},
     "output_type": "execute_result"
    }
   ],
   "source": [
    "new_f['f527-f528'].head()"
   ]
  },
  {
   "cell_type": "code",
   "execution_count": 19,
   "metadata": {},
   "outputs": [],
   "source": [
    "from sklearn.linear_model import LogisticRegression as LR"
   ]
  },
  {
   "cell_type": "code",
   "execution_count": 39,
   "metadata": {},
   "outputs": [
    {
     "data": {
      "text/html": [
       "<div>\n",
       "<style scoped>\n",
       "    .dataframe tbody tr th:only-of-type {\n",
       "        vertical-align: middle;\n",
       "    }\n",
       "\n",
       "    .dataframe tbody tr th {\n",
       "        vertical-align: top;\n",
       "    }\n",
       "\n",
       "    .dataframe thead th {\n",
       "        text-align: right;\n",
       "    }\n",
       "</style>\n",
       "<table border=\"1\" class=\"dataframe\">\n",
       "  <thead>\n",
       "    <tr style=\"text-align: right;\">\n",
       "      <th></th>\n",
       "      <th>f527-f528</th>\n",
       "    </tr>\n",
       "  </thead>\n",
       "  <tbody>\n",
       "    <tr>\n",
       "      <th>0</th>\n",
       "      <td>-414.28</td>\n",
       "    </tr>\n",
       "    <tr>\n",
       "      <th>1</th>\n",
       "      <td>-35.73</td>\n",
       "    </tr>\n",
       "    <tr>\n",
       "      <th>2</th>\n",
       "      <td>-122.26</td>\n",
       "    </tr>\n",
       "    <tr>\n",
       "      <th>3</th>\n",
       "      <td>-120.58</td>\n",
       "    </tr>\n",
       "    <tr>\n",
       "      <th>4</th>\n",
       "      <td>-21.47</td>\n",
       "    </tr>\n",
       "  </tbody>\n",
       "</table>\n",
       "</div>"
      ],
      "text/plain": [
       "   f527-f528\n",
       "0    -414.28\n",
       "1     -35.73\n",
       "2    -122.26\n",
       "3    -120.58\n",
       "4     -21.47"
      ]
     },
     "execution_count": 39,
     "metadata": {},
     "output_type": "execute_result"
    }
   ],
   "source": [
    "pd.DataFrame(new_f['f527-f528'].fillna(new_f['f527-f528'].median())).head()"
   ]
  },
  {
   "cell_type": "code",
   "execution_count": 40,
   "metadata": {},
   "outputs": [
    {
     "data": {
      "text/plain": [
       "LogisticRegression(C=1.0, class_weight=None, dual=False, fit_intercept=True,\n",
       "          intercept_scaling=1, max_iter=100, multi_class='ovr', n_jobs=1,\n",
       "          penalty='l2', random_state=None, solver='liblinear', tol=0.0001,\n",
       "          verbose=0, warm_start=False)"
      ]
     },
     "execution_count": 40,
     "metadata": {},
     "output_type": "execute_result"
    }
   ],
   "source": [
    "lr = LR()\n",
    "lr.fit(pd.DataFrame(new_f['f527-f528'].fillna(new_f['f527-f528'].median())), df[target])\n",
    "# new_f['f527-f528'].fillna(new_f['f527-f528'].median()).reshape(-1, 1)[:10,:]"
   ]
  },
  {
   "cell_type": "code",
   "execution_count": 41,
   "metadata": {},
   "outputs": [],
   "source": [
    "prob = lr.predict_proba(pd.DataFrame(new_f['f527-f528'].fillna(new_f['f527-f528'].median())))"
   ]
  },
  {
   "cell_type": "code",
   "execution_count": 43,
   "metadata": {},
   "outputs": [
    {
     "data": {
      "text/plain": [
       "dtype('float64')"
      ]
     },
     "execution_count": 43,
     "metadata": {},
     "output_type": "execute_result"
    }
   ],
   "source": [
    "prob.dtype"
   ]
  },
  {
   "cell_type": "code",
   "execution_count": 45,
   "metadata": {},
   "outputs": [
    {
     "data": {
      "text/plain": [
       "array([  0,   1,  16,  19,   4,  11,  21,   2,   9,   5,   3,   7,  13,\n",
       "         6,  25,  44,  17, 100,  10,   8,  65,  15,  12,  29,  22,  20,\n",
       "        18,  41,  55,  28,  23,  14,  38,  42,  33,  27,  24,  39,  26,\n",
       "        31,  35,  64,  32,  54,  37,  61,  79,  51,  43,  77,  47,  36,\n",
       "        46,  81,  78,  60,  45,  85,  84,  34,  90,  40,  50,  92,  74,\n",
       "        62,  53,  59,  89,  48,  30,  49,  99,  73,  95,  83,  56,  70,\n",
       "        71,  68,  94,  72,  57,  58,  52,  63,  69,  76,  80])"
      ]
     },
     "execution_count": 45,
     "metadata": {},
     "output_type": "execute_result"
    }
   ],
   "source": [
    "df[target].unique()"
   ]
  },
  {
   "cell_type": "code",
   "execution_count": 50,
   "metadata": {},
   "outputs": [],
   "source": [
    "default = df[target]\n",
    "default[default>0] = 1"
   ]
  },
  {
   "cell_type": "code",
   "execution_count": 60,
   "metadata": {},
   "outputs": [],
   "source": [
    "df['default'] = default"
   ]
  },
  {
   "cell_type": "code",
   "execution_count": 51,
   "metadata": {},
   "outputs": [],
   "source": [
    "gf = pd.DataFrame(new_f['f527-f528'].fillna(new_f['f527-f528'].median()))"
   ]
  },
  {
   "cell_type": "code",
   "execution_count": 52,
   "metadata": {},
   "outputs": [
    {
     "data": {
      "text/plain": [
       "LogisticRegression(C=1.0, class_weight=None, dual=False, fit_intercept=True,\n",
       "          intercept_scaling=1, max_iter=100, multi_class='ovr', n_jobs=1,\n",
       "          penalty='l2', random_state=None, solver='liblinear', tol=0.0001,\n",
       "          verbose=0, warm_start=False)"
      ]
     },
     "execution_count": 52,
     "metadata": {},
     "output_type": "execute_result"
    }
   ],
   "source": [
    "lr = LR()\n",
    "lr.fit(gf, default)"
   ]
  },
  {
   "cell_type": "code",
   "execution_count": 58,
   "metadata": {},
   "outputs": [],
   "source": [
    "prob = lr.predict_proba(gf)[:,1]"
   ]
  },
  {
   "cell_type": "code",
   "execution_count": 57,
   "metadata": {},
   "outputs": [
    {
     "data": {
      "text/plain": [
       "array([[ 0.91826533,  0.08173467],\n",
       "       [ 0.92285023,  0.07714977],\n",
       "       [ 0.92182344,  0.07817656],\n",
       "       [ 0.92184349,  0.07815651],\n",
       "       [ 0.92301825,  0.07698175],\n",
       "       [ 0.91895742,  0.08104258],\n",
       "       [ 0.92236336,  0.07763664],\n",
       "       [ 0.90897127,  0.09102873],\n",
       "       [ 0.91189284,  0.08810716],\n",
       "       [ 0.91951075,  0.08048925]])"
      ]
     },
     "execution_count": 57,
     "metadata": {},
     "output_type": "execute_result"
    }
   ],
   "source": [
    "prob[:10,:]"
   ]
  },
  {
   "cell_type": "code",
   "execution_count": 59,
   "metadata": {},
   "outputs": [
    {
     "name": "stdout",
     "output_type": "stream",
     "text": [
      "AUC Score (Train): 0.915607\n"
     ]
    }
   ],
   "source": [
    "print(\"AUC Score (Train): %f\" % metrics.roc_auc_score(default, prob))"
   ]
  },
  {
   "cell_type": "code",
   "execution_count": 66,
   "metadata": {},
   "outputs": [],
   "source": [
    "temp = pd.DataFrame(df[i_l[0][0]]-df[i_l[0][1]])"
   ]
  },
  {
   "cell_type": "code",
   "execution_count": 81,
   "metadata": {},
   "outputs": [
    {
     "ename": "AttributeError",
     "evalue": "'numpy.ndarray' object has no attribute 'unique'",
     "output_type": "error",
     "traceback": [
      "\u001b[0;31m---------------------------------------------------------------------------\u001b[0m",
      "\u001b[0;31mAttributeError\u001b[0m                            Traceback (most recent call last)",
      "\u001b[0;32m<ipython-input-81-d6de73edf7f4>\u001b[0m in \u001b[0;36m<module>\u001b[0;34m()\u001b[0m\n\u001b[0;32m----> 1\u001b[0;31m \u001b[0mtemp\u001b[0m\u001b[0;34m.\u001b[0m\u001b[0mvalues\u001b[0m\u001b[0;34m.\u001b[0m\u001b[0mravel\u001b[0m\u001b[0;34m(\u001b[0m\u001b[0;34m)\u001b[0m\u001b[0;34m.\u001b[0m\u001b[0munique\u001b[0m\u001b[0;34m(\u001b[0m\u001b[0;34m)\u001b[0m\u001b[0;34m\u001b[0m\u001b[0m\n\u001b[0m",
      "\u001b[0;31mAttributeError\u001b[0m: 'numpy.ndarray' object has no attribute 'unique'"
     ]
    }
   ],
   "source": [
    "temp.values.ravel().unique()"
   ]
  },
  {
   "cell_type": "code",
   "execution_count": 95,
   "metadata": {},
   "outputs": [],
   "source": [
    "def features_new(df, ls, target, auc_score=0.75, silent = False):\n",
    "    new = pd.DataFrame()\n",
    "    for index, value in enumerate(ls):\n",
    "        temp = df[ls[index][0]]-df[ls[index][1]]\n",
    "        if len(temp.unique()) > 1:\n",
    "            temp = pd.DataFrame(temp.fillna(temp.median()))\n",
    "            lr = LR()\n",
    "            lr.fit(temp, df[target])\n",
    "            prob = lr.predict_proba(temp)[:,1]\n",
    "            auc = metrics.roc_auc_score(df[target], prob)\n",
    "            if auc > auc_score:\n",
    "                if silent:\n",
    "                    print('-'.join(value), ' AUC (train): ', auc)\n",
    "                new['-'.join(value)] = df[ls[index][0]]-df[ls[index][1]]\n",
    "    return new"
   ]
  },
  {
   "cell_type": "code",
   "execution_count": 91,
   "metadata": {},
   "outputs": [
    {
     "data": {
      "text/html": [
       "<div>\n",
       "<style scoped>\n",
       "    .dataframe tbody tr th:only-of-type {\n",
       "        vertical-align: middle;\n",
       "    }\n",
       "\n",
       "    .dataframe tbody tr th {\n",
       "        vertical-align: top;\n",
       "    }\n",
       "\n",
       "    .dataframe thead th {\n",
       "        text-align: right;\n",
       "    }\n",
       "</style>\n",
       "<table border=\"1\" class=\"dataframe\">\n",
       "  <thead>\n",
       "    <tr style=\"text-align: right;\">\n",
       "      <th></th>\n",
       "    </tr>\n",
       "  </thead>\n",
       "  <tbody>\n",
       "  </tbody>\n",
       "</table>\n",
       "</div>"
      ],
      "text/plain": [
       "Empty DataFrame\n",
       "Columns: []\n",
       "Index: []"
      ]
     },
     "execution_count": 91,
     "metadata": {},
     "output_type": "execute_result"
    }
   ],
   "source": [
    "features_new(df, i_l, 'default').head()"
   ]
  },
  {
   "cell_type": "code",
   "execution_count": 96,
   "metadata": {},
   "outputs": [
    {
     "name": "stdout",
     "output_type": "stream",
     "text": [
      "f527-f528  AUC (train):  0.915607274654\n",
      "f274-f527  AUC (train):  0.900140457424\n",
      "f274-f528  AUC (train):  0.937543347206\n"
     ]
    },
    {
     "data": {
      "text/html": [
       "<div>\n",
       "<style scoped>\n",
       "    .dataframe tbody tr th:only-of-type {\n",
       "        vertical-align: middle;\n",
       "    }\n",
       "\n",
       "    .dataframe tbody tr th {\n",
       "        vertical-align: top;\n",
       "    }\n",
       "\n",
       "    .dataframe thead th {\n",
       "        text-align: right;\n",
       "    }\n",
       "</style>\n",
       "<table border=\"1\" class=\"dataframe\">\n",
       "  <thead>\n",
       "    <tr style=\"text-align: right;\">\n",
       "      <th></th>\n",
       "      <th>f527-f528</th>\n",
       "      <th>f274-f527</th>\n",
       "      <th>f274-f528</th>\n",
       "    </tr>\n",
       "  </thead>\n",
       "  <tbody>\n",
       "    <tr>\n",
       "      <th>0</th>\n",
       "      <td>-414.28</td>\n",
       "      <td>-105.69</td>\n",
       "      <td>-519.97</td>\n",
       "    </tr>\n",
       "    <tr>\n",
       "      <th>1</th>\n",
       "      <td>-35.73</td>\n",
       "      <td>35.73</td>\n",
       "      <td>0.00</td>\n",
       "    </tr>\n",
       "    <tr>\n",
       "      <th>2</th>\n",
       "      <td>-122.26</td>\n",
       "      <td>-137.84</td>\n",
       "      <td>-260.10</td>\n",
       "    </tr>\n",
       "    <tr>\n",
       "      <th>3</th>\n",
       "      <td>-120.58</td>\n",
       "      <td>-8.78</td>\n",
       "      <td>-129.36</td>\n",
       "    </tr>\n",
       "    <tr>\n",
       "      <th>4</th>\n",
       "      <td>-21.47</td>\n",
       "      <td>21.50</td>\n",
       "      <td>0.03</td>\n",
       "    </tr>\n",
       "  </tbody>\n",
       "</table>\n",
       "</div>"
      ],
      "text/plain": [
       "   f527-f528  f274-f527  f274-f528\n",
       "0    -414.28    -105.69    -519.97\n",
       "1     -35.73      35.73       0.00\n",
       "2    -122.26    -137.84    -260.10\n",
       "3    -120.58      -8.78    -129.36\n",
       "4     -21.47      21.50       0.03"
      ]
     },
     "execution_count": 96,
     "metadata": {},
     "output_type": "execute_result"
    }
   ],
   "source": [
    "features_new(df, f_l, target='default', auc_score=0.75, silent=True).head()"
   ]
  },
  {
   "cell_type": "code",
   "execution_count": null,
   "metadata": {},
   "outputs": [],
   "source": []
  },
  {
   "cell_type": "code",
   "execution_count": null,
   "metadata": {},
   "outputs": [],
   "source": []
  },
  {
   "cell_type": "code",
   "execution_count": null,
   "metadata": {},
   "outputs": [],
   "source": []
  },
  {
   "cell_type": "code",
   "execution_count": null,
   "metadata": {},
   "outputs": [],
   "source": []
  },
  {
   "cell_type": "code",
   "execution_count": null,
   "metadata": {},
   "outputs": [],
   "source": []
  },
  {
   "cell_type": "code",
   "execution_count": null,
   "metadata": {},
   "outputs": [],
   "source": []
  },
  {
   "cell_type": "code",
   "execution_count": 14,
   "metadata": {
    "ExecuteTime": {
     "end_time": "2018-02-02T02:47:15.846552Z",
     "start_time": "2018-02-02T02:47:15.843596Z"
    }
   },
   "outputs": [],
   "source": [
    "data = dataset"
   ]
  },
  {
   "cell_type": "code",
   "execution_count": 57,
   "metadata": {
    "ExecuteTime": {
     "end_time": "2018-02-02T06:46:14.795446Z",
     "start_time": "2018-02-02T06:46:14.372031Z"
    }
   },
   "outputs": [],
   "source": [
    "default = dataset['loss']\n",
    "default[default>0] = 1\n",
    "data[target] = default"
   ]
  },
  {
   "cell_type": "code",
   "execution_count": 58,
   "metadata": {
    "ExecuteTime": {
     "end_time": "2018-02-02T06:46:32.664304Z",
     "start_time": "2018-02-02T06:46:32.657720Z"
    }
   },
   "outputs": [
    {
     "data": {
      "text/plain": [
       "array([0, 1])"
      ]
     },
     "execution_count": 58,
     "metadata": {},
     "output_type": "execute_result"
    }
   ],
   "source": [
    "data[target].unique()"
   ]
  },
  {
   "cell_type": "code",
   "execution_count": null,
   "metadata": {},
   "outputs": [],
   "source": [
    "##LDA\n",
    "import itertools\n",
    "from sklearn.preprocessing import StandardScaler\n",
    "from sklearn.discriminant_analysis import LinearDiscriminantAnalysis as LDA\n",
    "\n",
    "cl = data_x.columns\n",
    "while (len(cl) - 20 > 5):\n",
    "    lda = LDA(n_components=2)\n",
    "    all_features=StandardScaler().fit_transform(data_x[cl])\n",
    "    X_r2 = lda.fit(all_features, train_loss).transform(all_features)\n",
    "    result_coff=pd.DataFrame({'title':data_x[cl].columns,'coff':lda.coef_.reshape(data_x[cl].shape[1])})\n",
    "    result_coff['coff']=np.abs(result_coff['coff'])\n",
    "    cl = list(result_coff.sort_values(ascending=False,by=['coff']).iloc[:,1].values)\n",
    "    del cl[-20:]\n",
    "    print('Turns Left:', len(cl)/20)\n",
    "\n",
    "cl1 = list(itertools.combinations(cl, 3))\n",
    "aucList = pd.DataFrame(columns= [['AUC values','features']]).astype('object')\n",
    "\n",
    "for i in range(len(cl1)):\n",
    "        golden_features = data_x[list(cl1[i])]\n",
    "        lda = LDA(n_components=2)\n",
    "        X_r2 = lda.fit(golden_features, train_loss).transform(golden_features)\n",
    "        aucList.loc[i] = [dq.F_AUC(X_r2,train_loss,features=['lda']).loc[0][0], list(cl1[i])]\n",
    "        print('Turns Remaining:', len(cl1)-i)\n",
    "\n",
    "aucList.sort_values(['AUC values'],ascending=[False])"
   ]
  },
  {
   "cell_type": "code",
   "execution_count": 13,
   "metadata": {
    "ExecuteTime": {
     "end_time": "2018-02-02T02:31:14.649720Z",
     "start_time": "2018-02-02T02:31:14.594814Z"
    }
   },
   "outputs": [],
   "source": [
    "import itertools\n",
    "from sklearn.preprocessing import StandardScaler\n",
    "from sklearn.discriminant_analysis import LinearDiscriminantAnalysis as LDA"
   ]
  },
  {
   "cell_type": "code",
   "execution_count": 60,
   "metadata": {
    "ExecuteTime": {
     "end_time": "2018-02-02T06:54:04.016006Z",
     "start_time": "2018-02-02T06:49:04.535210Z"
    }
   },
   "outputs": [
    {
     "name": "stdout",
     "output_type": "stream",
     "text": [
      "Turns Left: 14\n",
      "Turns Left: 13\n",
      "Turns Left: 12\n",
      "Turns Left: 11\n",
      "Turns Left: 10\n",
      "Turns Left: 9\n",
      "Turns Left: 8\n",
      "Turns Left: 7\n",
      "Turns Left: 6\n",
      "Turns Left: 5\n",
      "Turns Left: 4\n",
      "Turns Left: 3\n",
      "Turns Left: 2\n",
      "Turns Left: 1\n"
     ]
    }
   ],
   "source": [
    "top_n_features = 100\n",
    "k = 50\n",
    "\n",
    "X_train = data[features]\n",
    "y_train = data[target]\n",
    "\n",
    "cl = X_train.columns\n",
    "\n",
    "while (len(cl) > top_n_features):\n",
    "    \n",
    "    lda = LDA(n_components=2)\n",
    "    all_features=StandardScaler().fit_transform(X_train[cl].fillna(0))\n",
    "    X_r2 = lda.fit(all_features, y_train).transform(all_features)\n",
    "    \n",
    "    result_coff = pd.DataFrame({'title':X_train[cl].columns,'coff':lda.coef_.reshape(X_train[cl].shape[1])})\n",
    "    \n",
    "    result_coff['coff'] = np.abs(result_coff['coff'])\n",
    "    cl = list(result_coff.sort_values(ascending=False,by=['coff']).iloc[:,1].values)\n",
    "    del cl[-k:]\n",
    "    print('Turns Left:', round(len(cl)/k))"
   ]
  },
  {
   "cell_type": "code",
   "execution_count": 93,
   "metadata": {
    "ExecuteTime": {
     "end_time": "2018-02-02T09:05:41.676159Z",
     "start_time": "2018-02-02T08:59:32.533212Z"
    }
   },
   "outputs": [
    {
     "name": "stdout",
     "output_type": "stream",
     "text": [
      "Turns Remaining:  2346\n",
      "Turns Remaining:  2146\n",
      "Turns Remaining:  1946\n",
      "Turns Remaining:  1746\n",
      "Turns Remaining:  1546\n",
      "Turns Remaining:  1346\n",
      "Turns Remaining:  1146\n",
      "Turns Remaining:  946\n",
      "Turns Remaining:  746\n",
      "Turns Remaining:  546\n",
      "Turns Remaining:  346\n",
      "Turns Remaining:  146\n"
     ]
    }
   ],
   "source": [
    "from sklearn.linear_model import LogisticRegression\n",
    "\n",
    "n_combinations = 2\n",
    "\n",
    "cl1 = list(itertools.combinations(cl, n_combinations))\n",
    "\n",
    "aucList = pd.DataFrame(columns= ['AUC values','features','lda','Coefficients','Intercept']).astype('object')\n",
    "\n",
    "for i in range(len(cl1)):\n",
    "    golden_features = X_train[list(cl1[i])]\n",
    "    lda = LDA(n_components=2)\n",
    "    \n",
    "    temp = lda.fit(golden_features.fillna(golden_features.median()), y_train).transform(golden_features.fillna(golden_features.median()))\n",
    "    \n",
    "    lr = LogisticRegression()\n",
    "    lr.fit(temp, data[target])\n",
    "    prob = lr.predict_proba(temp)[:, 1]\n",
    "    auc = metrics.roc_auc_score(data[target], prob)\n",
    "    \n",
    "    aucList.loc[i] = [auc, list(cl1[i]), temp, lda.coef_, lda.intercept_]\n",
    "    if i % 200 == 0:\n",
    "        print('Turns Remaining: ', len(cl1)-i)\n",
    "    \n",
    "a = aucList.sort_values(by='AUC values', ascending = False)"
   ]
  },
  {
   "cell_type": "code",
   "execution_count": 71,
   "metadata": {
    "ExecuteTime": {
     "end_time": "2018-02-02T07:39:02.019856Z",
     "start_time": "2018-02-02T07:39:01.889313Z"
    }
   },
   "outputs": [
    {
     "data": {
      "text/html": [
       "<div>\n",
       "<style scoped>\n",
       "    .dataframe tbody tr th:only-of-type {\n",
       "        vertical-align: middle;\n",
       "    }\n",
       "\n",
       "    .dataframe tbody tr th {\n",
       "        vertical-align: top;\n",
       "    }\n",
       "\n",
       "    .dataframe thead th {\n",
       "        text-align: right;\n",
       "    }\n",
       "</style>\n",
       "<table border=\"1\" class=\"dataframe\">\n",
       "  <thead>\n",
       "    <tr style=\"text-align: right;\">\n",
       "      <th></th>\n",
       "      <th>AUC values</th>\n",
       "      <th>features</th>\n",
       "      <th>lda</th>\n",
       "      <th>Coefficients</th>\n",
       "      <th>Intercept</th>\n",
       "    </tr>\n",
       "  </thead>\n",
       "  <tbody>\n",
       "    <tr>\n",
       "      <th>1</th>\n",
       "      <td>0.915916</td>\n",
       "      <td>[f528, f274]</td>\n",
       "      <td>[[-0.020856040082200163], [-0.1952926515529436...</td>\n",
       "      <td>[[9.46644625763452e-05, -9.464951523195939e-05]]</td>\n",
       "      <td>[-2.6475546324596793]</td>\n",
       "    </tr>\n",
       "    <tr>\n",
       "      <th>2</th>\n",
       "      <td>0.908568</td>\n",
       "      <td>[f528, f527]</td>\n",
       "      <td>[[-0.1338492500811424], [-0.24989236418620872]...</td>\n",
       "      <td>[[0.00015477622284477263, -0.00015477260775100...</td>\n",
       "      <td>[-2.6357665363116793]</td>\n",
       "    </tr>\n",
       "    <tr>\n",
       "      <th>135</th>\n",
       "      <td>0.792702</td>\n",
       "      <td>[f274, f527]</td>\n",
       "      <td>[[0.1701305568187403], [-0.19560273970133604],...</td>\n",
       "      <td>[[-6.684526035591448e-05, 6.687542376883961e-05]]</td>\n",
       "      <td>[-2.472474463221431]</td>\n",
       "    </tr>\n",
       "    <tr>\n",
       "      <th>2220</th>\n",
       "      <td>0.617207</td>\n",
       "      <td>[f454, f768]</td>\n",
       "      <td>[[1.4389251438221848], [-1.894257009827319], [...</td>\n",
       "      <td>[[0.0017013326816901053, -2.4898950496924503]]</td>\n",
       "      <td>[-3.732562973608983]</td>\n",
       "    </tr>\n",
       "    <tr>\n",
       "      <th>2221</th>\n",
       "      <td>0.617205</td>\n",
       "      <td>[f454, f406]</td>\n",
       "      <td>[[1.4389405000250073], [-1.8942431943901619], ...</td>\n",
       "      <td>[[0.0017013505727199133, -2.489842629539181]]</td>\n",
       "      <td>[-1.24269105285767]</td>\n",
       "    </tr>\n",
       "  </tbody>\n",
       "</table>\n",
       "</div>"
      ],
      "text/plain": [
       "      AUC values      features  \\\n",
       "1       0.915916  [f528, f274]   \n",
       "2       0.908568  [f528, f527]   \n",
       "135     0.792702  [f274, f527]   \n",
       "2220    0.617207  [f454, f768]   \n",
       "2221    0.617205  [f454, f406]   \n",
       "\n",
       "                                                    lda  \\\n",
       "1     [[-0.020856040082200163], [-0.1952926515529436...   \n",
       "2     [[-0.1338492500811424], [-0.24989236418620872]...   \n",
       "135   [[0.1701305568187403], [-0.19560273970133604],...   \n",
       "2220  [[1.4389251438221848], [-1.894257009827319], [...   \n",
       "2221  [[1.4389405000250073], [-1.8942431943901619], ...   \n",
       "\n",
       "                                           Coefficients              Intercept  \n",
       "1      [[9.46644625763452e-05, -9.464951523195939e-05]]  [-2.6475546324596793]  \n",
       "2     [[0.00015477622284477263, -0.00015477260775100...  [-2.6357665363116793]  \n",
       "135   [[-6.684526035591448e-05, 6.687542376883961e-05]]   [-2.472474463221431]  \n",
       "2220     [[0.0017013326816901053, -2.4898950496924503]]   [-3.732562973608983]  \n",
       "2221      [[0.0017013505727199133, -2.489842629539181]]    [-1.24269105285767]  "
      ]
     },
     "execution_count": 71,
     "metadata": {},
     "output_type": "execute_result"
    }
   ],
   "source": [
    "a.head()"
   ]
  },
  {
   "cell_type": "code",
   "execution_count": 73,
   "metadata": {
    "ExecuteTime": {
     "end_time": "2018-02-02T08:08:41.737867Z",
     "start_time": "2018-02-02T07:55:13.552624Z"
    }
   },
   "outputs": [
    {
     "name": "stdout",
     "output_type": "stream",
     "text": [
      "Turns Left: 14\n",
      "Turns Left: 13\n",
      "Turns Left: 12\n",
      "Turns Left: 11\n",
      "Turns Left: 10\n",
      "Turns Left: 9\n",
      "Turns Left: 8\n",
      "Turns Left: 7\n",
      "Turns Left: 6\n",
      "Turns Left: 5\n",
      "Turns Left: 4\n",
      "Turns Left: 3\n",
      "Turns Left: 2\n",
      "Turns Left: 1\n"
     ]
    }
   ],
   "source": [
    "features_max = 100\n",
    "kill = 50\n",
    "\n",
    "X = data[features]\n",
    "y = data[target]\n",
    "\n",
    "features_temp = X.columns\n",
    "\n",
    "while (len(features_temp) > features_max):\n",
    "    \n",
    "    lda = LinearDiscriminantAnalysis(n_components=2)\n",
    "    temp = StandardScaler().fit_transform(X[features_temp].fillna(X.median()))\n",
    "    lda.fit(temp, y)\n",
    "    result = pd.DataFrame({'title': X[features_temp].columns,\n",
    "                           'coff': np.abs(lda.coef_.reshape(X[features_temp].shape[1]))})\n",
    "    features_temp = list(result.sort_values(ascending=False, by=['coff']).iloc[:, 1].values)\n",
    "    del features_temp[-kill:]\n",
    "    print('Turns Left:', round(len(features_temp)/kill))\n",
    "\n",
    "print('\\nNumber of features left: ', len(features_temp))"
   ]
  },
  {
   "cell_type": "code",
   "execution_count": 108,
   "metadata": {
    "ExecuteTime": {
     "end_time": "2018-02-02T09:26:21.048888Z",
     "start_time": "2018-02-02T09:23:20.792465Z"
    }
   },
   "outputs": [
    {
     "name": "stdout",
     "output_type": "stream",
     "text": [
      "Turns Remaining:  2346\n",
      "f528-f274  AUC (train):  0.9159164255404907\n",
      "f528-f527  AUC (train):  0.9085675695490736\n",
      "f274-f527  AUC (train):  0.7927021145240822\n",
      "Turns Remaining:  2146\n",
      "Turns Remaining:  1946\n",
      "Turns Remaining:  1746\n",
      "Turns Remaining:  1546\n",
      "Turns Remaining:  1346\n",
      "Turns Remaining:  1146\n",
      "Turns Remaining:  946\n",
      "Turns Remaining:  746\n",
      "Turns Remaining:  546\n",
      "Turns Remaining:  346\n",
      "Turns Remaining:  146\n"
     ]
    }
   ],
   "source": [
    "n_combinations = 2\n",
    "auc_score = 0.7\n",
    "features_comb = list(itertools.combinations(features_temp, n_combinations))\n",
    "result_COM = pd.DataFrame(\n",
    "    columns=['Features', 'AUC', 'Coefficients', 'Intercept'])\n",
    "new_data = pd.DataFrame()\n",
    "\n",
    "for index, value in enumerate(features_comb):\n",
    "\n",
    "    golden_features = X[list(value)]\n",
    "    lda = LinearDiscriminantAnalysis(n_components=2)\n",
    "    temp = lda.fit_transform(golden_features.fillna(golden_features.median()), y)\n",
    "    prob = lda.predict_proba(golden_features.fillna(golden_features.median()))[:, 1]\n",
    "    auc = metrics.roc_auc_score(y, prob)\n",
    "\n",
    "    if auc > auc_score:\n",
    "        print('-'.join(value), ' AUC (train): ', auc)\n",
    "        new_data['-'.join(value)] = temp.tolist()\n",
    "        result_COM=result_COM.append({'Features': value, 'AUC': auc,\n",
    "                                      'Coefficients': lda.coef_,'Intercept': lda.intercept_}, \n",
    "                                     ignore_index=True)\n",
    "\n",
    "    if index % 200 == 0:\n",
    "        print('Turns Remaining: ', len(features_comb) - index)\n",
    "\n",
    "result_COM = result_COM.sort_values(by='AUC', ascending=False)"
   ]
  },
  {
   "cell_type": "code",
   "execution_count": 109,
   "metadata": {
    "ExecuteTime": {
     "end_time": "2018-02-02T09:26:41.705288Z",
     "start_time": "2018-02-02T09:26:41.689778Z"
    }
   },
   "outputs": [
    {
     "data": {
      "text/html": [
       "<div>\n",
       "<style scoped>\n",
       "    .dataframe tbody tr th:only-of-type {\n",
       "        vertical-align: middle;\n",
       "    }\n",
       "\n",
       "    .dataframe tbody tr th {\n",
       "        vertical-align: top;\n",
       "    }\n",
       "\n",
       "    .dataframe thead th {\n",
       "        text-align: right;\n",
       "    }\n",
       "</style>\n",
       "<table border=\"1\" class=\"dataframe\">\n",
       "  <thead>\n",
       "    <tr style=\"text-align: right;\">\n",
       "      <th></th>\n",
       "      <th>Features</th>\n",
       "      <th>AUC</th>\n",
       "      <th>Coefficients</th>\n",
       "      <th>Intercept</th>\n",
       "    </tr>\n",
       "  </thead>\n",
       "  <tbody>\n",
       "    <tr>\n",
       "      <th>0</th>\n",
       "      <td>(f528, f274)</td>\n",
       "      <td>0.915916</td>\n",
       "      <td>[[9.46644625763452e-05, -9.464951523195939e-05]]</td>\n",
       "      <td>[-2.6475546324596793]</td>\n",
       "    </tr>\n",
       "    <tr>\n",
       "      <th>1</th>\n",
       "      <td>(f528, f527)</td>\n",
       "      <td>0.908568</td>\n",
       "      <td>[[0.00015477622284477263, -0.00015477260775100...</td>\n",
       "      <td>[-2.6357665363116793]</td>\n",
       "    </tr>\n",
       "    <tr>\n",
       "      <th>2</th>\n",
       "      <td>(f274, f527)</td>\n",
       "      <td>0.792702</td>\n",
       "      <td>[[-6.684526035591448e-05, 6.687542376883961e-05]]</td>\n",
       "      <td>[-2.472474463221431]</td>\n",
       "    </tr>\n",
       "  </tbody>\n",
       "</table>\n",
       "</div>"
      ],
      "text/plain": [
       "       Features       AUC                                       Coefficients  \\\n",
       "0  (f528, f274)  0.915916   [[9.46644625763452e-05, -9.464951523195939e-05]]   \n",
       "1  (f528, f527)  0.908568  [[0.00015477622284477263, -0.00015477260775100...   \n",
       "2  (f274, f527)  0.792702  [[-6.684526035591448e-05, 6.687542376883961e-05]]   \n",
       "\n",
       "               Intercept  \n",
       "0  [-2.6475546324596793]  \n",
       "1  [-2.6357665363116793]  \n",
       "2   [-2.472474463221431]  "
      ]
     },
     "execution_count": 109,
     "metadata": {},
     "output_type": "execute_result"
    }
   ],
   "source": [
    "result_COM"
   ]
  },
  {
   "cell_type": "code",
   "execution_count": 110,
   "metadata": {
    "ExecuteTime": {
     "end_time": "2018-02-02T09:26:53.532508Z",
     "start_time": "2018-02-02T09:26:53.512932Z"
    }
   },
   "outputs": [
    {
     "data": {
      "text/html": [
       "<div>\n",
       "<style scoped>\n",
       "    .dataframe tbody tr th:only-of-type {\n",
       "        vertical-align: middle;\n",
       "    }\n",
       "\n",
       "    .dataframe tbody tr th {\n",
       "        vertical-align: top;\n",
       "    }\n",
       "\n",
       "    .dataframe thead th {\n",
       "        text-align: right;\n",
       "    }\n",
       "</style>\n",
       "<table border=\"1\" class=\"dataframe\">\n",
       "  <thead>\n",
       "    <tr style=\"text-align: right;\">\n",
       "      <th></th>\n",
       "      <th>f528-f274</th>\n",
       "      <th>f528-f527</th>\n",
       "      <th>f274-f527</th>\n",
       "    </tr>\n",
       "  </thead>\n",
       "  <tbody>\n",
       "    <tr>\n",
       "      <th>0</th>\n",
       "      <td>[-0.020856040082200163]</td>\n",
       "      <td>[-0.1338492500811424]</td>\n",
       "      <td>[0.1701305568187403]</td>\n",
       "    </tr>\n",
       "    <tr>\n",
       "      <th>1</th>\n",
       "      <td>[-0.19529265155294365]</td>\n",
       "      <td>[-0.24989236418620872]</td>\n",
       "      <td>[-0.19560273970133604]</td>\n",
       "    </tr>\n",
       "    <tr>\n",
       "      <th>2</th>\n",
       "      <td>[-0.16344982857896093]</td>\n",
       "      <td>[-0.23033668792716835]</td>\n",
       "      <td>[-0.17674768295155524]</td>\n",
       "    </tr>\n",
       "    <tr>\n",
       "      <th>3</th>\n",
       "      <td>[-0.178419095988636]</td>\n",
       "      <td>[-0.23017638341392913]</td>\n",
       "      <td>[-0.18905246311934235]</td>\n",
       "    </tr>\n",
       "    <tr>\n",
       "      <th>4</th>\n",
       "      <td>[-0.20722057333205712]</td>\n",
       "      <td>[-0.2563468959911145]</td>\n",
       "      <td>[-0.2320795127096353]</td>\n",
       "    </tr>\n",
       "  </tbody>\n",
       "</table>\n",
       "</div>"
      ],
      "text/plain": [
       "                 f528-f274               f528-f527               f274-f527\n",
       "0  [-0.020856040082200163]   [-0.1338492500811424]    [0.1701305568187403]\n",
       "1   [-0.19529265155294365]  [-0.24989236418620872]  [-0.19560273970133604]\n",
       "2   [-0.16344982857896093]  [-0.23033668792716835]  [-0.17674768295155524]\n",
       "3     [-0.178419095988636]  [-0.23017638341392913]  [-0.18905246311934235]\n",
       "4   [-0.20722057333205712]   [-0.2563468959911145]   [-0.2320795127096353]"
      ]
     },
     "execution_count": 110,
     "metadata": {},
     "output_type": "execute_result"
    }
   ],
   "source": [
    "new_data.head()"
   ]
  },
  {
   "cell_type": "code",
   "execution_count": 81,
   "metadata": {
    "ExecuteTime": {
     "end_time": "2018-02-02T08:45:55.351410Z",
     "start_time": "2018-02-02T08:45:55.342116Z"
    }
   },
   "outputs": [],
   "source": [
    "n_combinations = 2\n",
    "auc_score = 0.7\n",
    "features_comb = list(itertools.combinations(features_temp, n_combinations))\n",
    "result_COM = pd.DataFrame(columns= ['Features', 'AUC', 'LDA', 'Coefficients', 'Intercept'])\n",
    "new_data = pd.DataFrame()"
   ]
  },
  {
   "cell_type": "code",
   "execution_count": 102,
   "metadata": {
    "ExecuteTime": {
     "end_time": "2018-02-02T09:17:39.239569Z",
     "start_time": "2018-02-02T09:17:39.121169Z"
    }
   },
   "outputs": [],
   "source": [
    "index, value = 1, features_comb[1]\n",
    "\n",
    "golden_features = X[list(value)]\n",
    "lda = LDA(n_components=2)\n",
    "temp = lda.fit_transform(golden_features.fillna(golden_features.median()), y)\n",
    "prob = lda.predict_proba(golden_features.fillna(golden_features.median()))[:, 1]\n",
    "auc = metrics.roc_auc_score(y, prob)"
   ]
  },
  {
   "cell_type": "code",
   "execution_count": 107,
   "metadata": {
    "ExecuteTime": {
     "end_time": "2018-02-02T09:18:18.277064Z",
     "start_time": "2018-02-02T09:18:18.269852Z"
    }
   },
   "outputs": [
    {
     "data": {
      "text/plain": [
       "105471"
      ]
     },
     "execution_count": 107,
     "metadata": {},
     "output_type": "execute_result"
    }
   ],
   "source": [
    "len(temp)"
   ]
  },
  {
   "cell_type": "code",
   "execution_count": 84,
   "metadata": {
    "ExecuteTime": {
     "end_time": "2018-02-02T08:47:41.422900Z",
     "start_time": "2018-02-02T08:47:41.408314Z"
    }
   },
   "outputs": [
    {
     "data": {
      "text/html": [
       "<div>\n",
       "<style scoped>\n",
       "    .dataframe tbody tr th:only-of-type {\n",
       "        vertical-align: middle;\n",
       "    }\n",
       "\n",
       "    .dataframe tbody tr th {\n",
       "        vertical-align: top;\n",
       "    }\n",
       "\n",
       "    .dataframe thead th {\n",
       "        text-align: right;\n",
       "    }\n",
       "</style>\n",
       "<table border=\"1\" class=\"dataframe\">\n",
       "  <thead>\n",
       "    <tr style=\"text-align: right;\">\n",
       "      <th></th>\n",
       "      <th>f528</th>\n",
       "      <th>f274</th>\n",
       "    </tr>\n",
       "  </thead>\n",
       "  <tbody>\n",
       "    <tr>\n",
       "      <th>0</th>\n",
       "      <td>5920883.97</td>\n",
       "      <td>5920364.0</td>\n",
       "    </tr>\n",
       "    <tr>\n",
       "      <th>1</th>\n",
       "      <td>748569.00</td>\n",
       "      <td>748569.0</td>\n",
       "    </tr>\n",
       "    <tr>\n",
       "      <th>2</th>\n",
       "      <td>646798.10</td>\n",
       "      <td>646538.0</td>\n",
       "    </tr>\n",
       "    <tr>\n",
       "      <th>3</th>\n",
       "      <td>748257.36</td>\n",
       "      <td>748128.0</td>\n",
       "    </tr>\n",
       "    <tr>\n",
       "      <th>4</th>\n",
       "      <td>169933.97</td>\n",
       "      <td>169934.0</td>\n",
       "    </tr>\n",
       "  </tbody>\n",
       "</table>\n",
       "</div>"
      ],
      "text/plain": [
       "         f528       f274\n",
       "0  5920883.97  5920364.0\n",
       "1   748569.00   748569.0\n",
       "2   646798.10   646538.0\n",
       "3   748257.36   748128.0\n",
       "4   169933.97   169934.0"
      ]
     },
     "execution_count": 84,
     "metadata": {},
     "output_type": "execute_result"
    }
   ],
   "source": [
    "golden_features = X[list(value)]\n",
    "golden_features.head()"
   ]
  },
  {
   "cell_type": "code",
   "execution_count": 85,
   "metadata": {
    "ExecuteTime": {
     "end_time": "2018-02-02T08:47:57.315488Z",
     "start_time": "2018-02-02T08:47:57.252459Z"
    }
   },
   "outputs": [],
   "source": [
    "lda = LDA(n_components=2)\n",
    "temp = lda.fit_transform(golden_features.fillna(golden_features.median()), y)"
   ]
  },
  {
   "cell_type": "code",
   "execution_count": 86,
   "metadata": {
    "ExecuteTime": {
     "end_time": "2018-02-02T08:48:00.654127Z",
     "start_time": "2018-02-02T08:48:00.646033Z"
    }
   },
   "outputs": [
    {
     "data": {
      "text/plain": [
       "array([[-0.02085604],\n",
       "       [-0.19529265],\n",
       "       [-0.16344983],\n",
       "       ...,\n",
       "       [ 0.20940748],\n",
       "       [-0.14562513],\n",
       "       [ 0.11825181]])"
      ]
     },
     "execution_count": 86,
     "metadata": {},
     "output_type": "execute_result"
    }
   ],
   "source": [
    "temp"
   ]
  },
  {
   "cell_type": "code",
   "execution_count": 117,
   "metadata": {
    "ExecuteTime": {
     "end_time": "2018-02-09T01:08:37.256676Z",
     "start_time": "2018-02-09T01:08:36.979355Z"
    }
   },
   "outputs": [],
   "source": [
    "class Feature(object):\n",
    "\n",
    "\tdef __init__(self, data, target, features):\n",
    "\t\t\"\"\"\n",
    "\t\tArgs:\n",
    "\t\t\tdata: A dataset you wanna play with.\n",
    "\t\t\ttarget: The target name of your dataset.\n",
    "\t\t\tfeatures: The feature names of your dataset.\n",
    "\t\t\"\"\"\n",
    "\t\tself.data = data\n",
    "\t\tself.target = target\n",
    "\t\tself.features = features\n",
    "\n",
    "\t\tself.predictors = []\n",
    "\t\tself.dup = []\n",
    "\t\tself.int_lst, self.float_lst, self.object_lst = [], [], []\n",
    "\t\tself.corr_lst = []\n",
    "\t\tself.new_data_comb = pd.DataFrame()\n",
    "\t\tself.new_col_comb = []\n",
    "\t\tself.result_COM = pd.DataFrame()\n",
    "\t\tself.result_LDA = pd.DataFrame()\n",
    "\n",
    "\n",
    "\tdef generate_comb(self, features_max = 100, kill = 50, n_combinations = 2, auc_score = 0.7):\n",
    "\n",
    "\t\tX = self.data[self.features]\n",
    "\t\ty = self.data[self.target]\n",
    "\n",
    "\t\tfeatures_temp = X.columns\n",
    "\n",
    "\t\tself.result_COM = pd.DataFrame(columns=['Features', 'AUC', 'Coefficients', 'Intercept'])\n",
    "\t\tself.new_data_comb = pd.DataFrame()\n",
    "\n",
    "\t\twhile (len(features_temp) > features_max):\n",
    "\t\t    \n",
    "\t\t    lda = LinearDiscriminantAnalysis(n_components=2)\n",
    "\t\t    temp = StandardScaler().fit_transform(X[features_temp].fillna(X.median()))\n",
    "\t\t    lda.fit(temp, y)\n",
    "\t\t    self.result_LDA = pd.DataFrame({'title': X[features_temp].columns,\n",
    "\t\t                               'coff': np.abs(lda.coef_.reshape(X[features_temp].shape[1]))})\n",
    "\t\t    features_temp = list(self.result_LDA.sort_values(ascending=False, by=['coff']).iloc[:, 1].values)\n",
    "\t\t    del features_temp[-kill:]\n",
    "\t\t    print('Turns Left:', round(len(features_temp)/kill))\n",
    "\n",
    "\t\tprint('\\nNumber of features left: ', len(features_temp))\n",
    "\n",
    "\t\tfeatures_comb = list(itertools.combinations(features_temp, n_combinations))\n",
    "\n",
    "\t\tfor index, value in enumerate(features_comb):\n",
    "\n",
    "\t\t    golden_features = X[list(value)]\n",
    "\t\t    lda = LinearDiscriminantAnalysis(n_components=2)\n",
    "\t\t    temp = lda.fit_transform(golden_features.fillna(golden_features.median()), y)\n",
    "\t\t    prob = lda.predict_proba(golden_features.fillna(golden_features.median()))[:, 1]\n",
    "\t\t    auc = metrics.roc_auc_score(y, prob)\n",
    "\n",
    "\t\t    if auc > auc_score:\n",
    "\t\t        print('-'.join(value), ' AUC (train): ', auc)\n",
    "\t\t        self.new_data_comb['-'.join(value)] = temp.tolist()\n",
    "\t\t        self.result_COM=self.result_COM.append({'Features': value, 'AUC': auc,\n",
    "\t\t                                      'Coefficients': lda.coef_,'Intercept': lda.intercept_}, \n",
    "\t\t                                     ignore_index=True)\n",
    "\n",
    "\t\t    if index % 200 == 0:\n",
    "\t\t        print('Turns Remaining: ', len(features_comb) - index)\n",
    "\n",
    "\t\tself.result_COM = self.result_COM.sort_values(by='AUC', ascending=False)\n",
    "\n",
    "\t\treturn self.new_data_comb, self.new_data_comb.columns.tolist()"
   ]
  },
  {
   "cell_type": "code",
   "execution_count": 118,
   "metadata": {
    "ExecuteTime": {
     "end_time": "2018-02-09T01:11:04.543285Z",
     "start_time": "2018-02-09T01:11:04.538939Z"
    }
   },
   "outputs": [],
   "source": [
    "fea = Feature(data=data, target=target, features=features)"
   ]
  },
  {
   "cell_type": "code",
   "execution_count": 120,
   "metadata": {
    "ExecuteTime": {
     "end_time": "2018-02-09T03:41:04.116963Z",
     "start_time": "2018-02-09T01:45:29.843150Z"
    },
    "scrolled": true
   },
   "outputs": [
    {
     "name": "stdout",
     "output_type": "stream",
     "text": [
      "Turns Left: 14\n",
      "Turns Left: 13\n",
      "Turns Left: 12\n",
      "Turns Left: 11\n",
      "Turns Left: 10\n",
      "Turns Left: 9\n",
      "Turns Left: 8\n",
      "Turns Left: 7\n",
      "Turns Left: 6\n",
      "Turns Left: 5\n",
      "Turns Left: 4\n",
      "Turns Left: 3\n",
      "Turns Left: 2\n",
      "Turns Left: 1\n",
      "\n",
      "Number of features left:  69\n",
      "Turns Remaining:  52394\n",
      "f528-f274-f527  AUC (train):  0.9434719065454327\n",
      "Turns Remaining:  52194\n",
      "Turns Remaining:  51994\n",
      "Turns Remaining:  51794\n",
      "Turns Remaining:  51594\n",
      "Turns Remaining:  51394\n",
      "Turns Remaining:  51194\n",
      "Turns Remaining:  50994\n",
      "Turns Remaining:  50794\n",
      "Turns Remaining:  50594\n",
      "Turns Remaining:  50394\n",
      "Turns Remaining:  50194\n",
      "Turns Remaining:  49994\n",
      "Turns Remaining:  49794\n",
      "Turns Remaining:  49594\n",
      "Turns Remaining:  49394\n",
      "Turns Remaining:  49194\n",
      "Turns Remaining:  48994\n",
      "Turns Remaining:  48794\n",
      "Turns Remaining:  48594\n",
      "Turns Remaining:  48394\n",
      "Turns Remaining:  48194\n",
      "Turns Remaining:  47994\n",
      "Turns Remaining:  47794\n",
      "Turns Remaining:  47594\n",
      "Turns Remaining:  47394\n",
      "Turns Remaining:  47194\n",
      "Turns Remaining:  46994\n",
      "Turns Remaining:  46794\n",
      "Turns Remaining:  46594\n",
      "Turns Remaining:  46394\n",
      "Turns Remaining:  46194\n",
      "Turns Remaining:  45994\n",
      "Turns Remaining:  45794\n",
      "Turns Remaining:  45594\n",
      "Turns Remaining:  45394\n",
      "Turns Remaining:  45194\n",
      "Turns Remaining:  44994\n",
      "Turns Remaining:  44794\n",
      "Turns Remaining:  44594\n",
      "Turns Remaining:  44394\n",
      "Turns Remaining:  44194\n",
      "Turns Remaining:  43994\n",
      "Turns Remaining:  43794\n",
      "Turns Remaining:  43594\n",
      "Turns Remaining:  43394\n",
      "Turns Remaining:  43194\n",
      "Turns Remaining:  42994\n",
      "Turns Remaining:  42794\n",
      "Turns Remaining:  42594\n",
      "Turns Remaining:  42394\n",
      "Turns Remaining:  42194\n",
      "Turns Remaining:  41994\n",
      "Turns Remaining:  41794\n",
      "Turns Remaining:  41594\n",
      "Turns Remaining:  41394\n",
      "Turns Remaining:  41194\n",
      "Turns Remaining:  40994\n",
      "Turns Remaining:  40794\n",
      "Turns Remaining:  40594\n",
      "Turns Remaining:  40394\n",
      "Turns Remaining:  40194\n",
      "Turns Remaining:  39994\n",
      "Turns Remaining:  39794\n",
      "Turns Remaining:  39594\n",
      "Turns Remaining:  39394\n",
      "Turns Remaining:  39194\n",
      "Turns Remaining:  38994\n",
      "Turns Remaining:  38794\n",
      "Turns Remaining:  38594\n",
      "Turns Remaining:  38394\n",
      "Turns Remaining:  38194\n",
      "Turns Remaining:  37994\n",
      "Turns Remaining:  37794\n",
      "Turns Remaining:  37594\n",
      "Turns Remaining:  37394\n",
      "Turns Remaining:  37194\n",
      "Turns Remaining:  36994\n",
      "Turns Remaining:  36794\n",
      "Turns Remaining:  36594\n",
      "Turns Remaining:  36394\n",
      "Turns Remaining:  36194\n",
      "Turns Remaining:  35994\n",
      "Turns Remaining:  35794\n",
      "Turns Remaining:  35594\n",
      "Turns Remaining:  35394\n",
      "Turns Remaining:  35194\n",
      "Turns Remaining:  34994\n",
      "Turns Remaining:  34794\n",
      "Turns Remaining:  34594\n",
      "Turns Remaining:  34394\n",
      "Turns Remaining:  34194\n",
      "Turns Remaining:  33994\n",
      "Turns Remaining:  33794\n",
      "Turns Remaining:  33594\n",
      "Turns Remaining:  33394\n",
      "Turns Remaining:  33194\n",
      "Turns Remaining:  32994\n",
      "Turns Remaining:  32794\n",
      "Turns Remaining:  32594\n",
      "Turns Remaining:  32394\n",
      "Turns Remaining:  32194\n",
      "Turns Remaining:  31994\n",
      "Turns Remaining:  31794\n",
      "Turns Remaining:  31594\n",
      "Turns Remaining:  31394\n",
      "Turns Remaining:  31194\n",
      "Turns Remaining:  30994\n",
      "Turns Remaining:  30794\n",
      "Turns Remaining:  30594\n",
      "Turns Remaining:  30394\n",
      "Turns Remaining:  30194\n",
      "Turns Remaining:  29994\n",
      "Turns Remaining:  29794\n",
      "Turns Remaining:  29594\n",
      "Turns Remaining:  29394\n",
      "Turns Remaining:  29194\n",
      "Turns Remaining:  28994\n",
      "Turns Remaining:  28794\n",
      "Turns Remaining:  28594\n",
      "Turns Remaining:  28394\n",
      "Turns Remaining:  28194\n",
      "Turns Remaining:  27994\n",
      "Turns Remaining:  27794\n",
      "Turns Remaining:  27594\n",
      "Turns Remaining:  27394\n",
      "Turns Remaining:  27194\n",
      "Turns Remaining:  26994\n",
      "Turns Remaining:  26794\n",
      "Turns Remaining:  26594\n",
      "Turns Remaining:  26394\n",
      "Turns Remaining:  26194\n",
      "Turns Remaining:  25994\n",
      "Turns Remaining:  25794\n",
      "Turns Remaining:  25594\n",
      "Turns Remaining:  25394\n",
      "Turns Remaining:  25194\n",
      "Turns Remaining:  24994\n",
      "Turns Remaining:  24794\n",
      "Turns Remaining:  24594\n",
      "Turns Remaining:  24394\n",
      "Turns Remaining:  24194\n",
      "Turns Remaining:  23994\n",
      "Turns Remaining:  23794\n",
      "Turns Remaining:  23594\n",
      "Turns Remaining:  23394\n",
      "Turns Remaining:  23194\n",
      "Turns Remaining:  22994\n",
      "Turns Remaining:  22794\n",
      "Turns Remaining:  22594\n",
      "Turns Remaining:  22394\n",
      "Turns Remaining:  22194\n",
      "Turns Remaining:  21994\n",
      "Turns Remaining:  21794\n",
      "Turns Remaining:  21594\n",
      "Turns Remaining:  21394\n",
      "Turns Remaining:  21194\n",
      "Turns Remaining:  20994\n",
      "Turns Remaining:  20794\n",
      "Turns Remaining:  20594\n",
      "Turns Remaining:  20394\n",
      "Turns Remaining:  20194\n",
      "Turns Remaining:  19994\n",
      "Turns Remaining:  19794\n",
      "Turns Remaining:  19594\n",
      "Turns Remaining:  19394\n",
      "Turns Remaining:  19194\n",
      "Turns Remaining:  18994\n",
      "Turns Remaining:  18794\n",
      "Turns Remaining:  18594\n",
      "Turns Remaining:  18394\n",
      "Turns Remaining:  18194\n",
      "Turns Remaining:  17994\n",
      "Turns Remaining:  17794\n",
      "Turns Remaining:  17594\n",
      "Turns Remaining:  17394\n",
      "Turns Remaining:  17194\n",
      "Turns Remaining:  16994\n",
      "Turns Remaining:  16794\n",
      "Turns Remaining:  16594\n",
      "Turns Remaining:  16394\n",
      "Turns Remaining:  16194\n",
      "Turns Remaining:  15994\n",
      "Turns Remaining:  15794\n",
      "Turns Remaining:  15594\n",
      "Turns Remaining:  15394\n",
      "Turns Remaining:  15194\n",
      "Turns Remaining:  14994\n",
      "Turns Remaining:  14794\n",
      "Turns Remaining:  14594\n",
      "Turns Remaining:  14394\n",
      "Turns Remaining:  14194\n",
      "Turns Remaining:  13994\n",
      "Turns Remaining:  13794\n",
      "Turns Remaining:  13594\n",
      "Turns Remaining:  13394\n",
      "Turns Remaining:  13194\n",
      "Turns Remaining:  12994\n",
      "Turns Remaining:  12794\n",
      "Turns Remaining:  12594\n",
      "Turns Remaining:  12394\n",
      "Turns Remaining:  12194\n",
      "Turns Remaining:  11994\n",
      "Turns Remaining:  11794\n",
      "Turns Remaining:  11594\n",
      "Turns Remaining:  11394\n",
      "Turns Remaining:  11194\n",
      "Turns Remaining:  10994\n",
      "Turns Remaining:  10794\n",
      "Turns Remaining:  10594\n",
      "Turns Remaining:  10394\n",
      "Turns Remaining:  10194\n",
      "Turns Remaining:  9994\n",
      "Turns Remaining:  9794\n",
      "Turns Remaining:  9594\n",
      "Turns Remaining:  9394\n",
      "Turns Remaining:  9194\n",
      "Turns Remaining:  8994\n",
      "Turns Remaining:  8794\n",
      "Turns Remaining:  8594\n",
      "Turns Remaining:  8394\n",
      "Turns Remaining:  8194\n",
      "Turns Remaining:  7994\n",
      "Turns Remaining:  7794\n",
      "Turns Remaining:  7594\n",
      "Turns Remaining:  7394\n",
      "Turns Remaining:  7194\n",
      "Turns Remaining:  6994\n",
      "Turns Remaining:  6794\n",
      "Turns Remaining:  6594\n",
      "Turns Remaining:  6394\n",
      "Turns Remaining:  6194\n",
      "Turns Remaining:  5994\n",
      "Turns Remaining:  5794\n",
      "Turns Remaining:  5594\n",
      "Turns Remaining:  5394\n",
      "Turns Remaining:  5194\n",
      "Turns Remaining:  4994\n",
      "Turns Remaining:  4794\n",
      "Turns Remaining:  4594\n",
      "Turns Remaining:  4394\n",
      "Turns Remaining:  4194\n",
      "Turns Remaining:  3994\n",
      "Turns Remaining:  3794\n",
      "Turns Remaining:  3594\n",
      "Turns Remaining:  3394\n",
      "Turns Remaining:  3194\n",
      "Turns Remaining:  2994\n",
      "Turns Remaining:  2794\n",
      "Turns Remaining:  2594\n",
      "Turns Remaining:  2394\n",
      "Turns Remaining:  2194\n",
      "Turns Remaining:  1994\n",
      "Turns Remaining:  1794\n",
      "Turns Remaining:  1594\n",
      "Turns Remaining:  1394\n",
      "Turns Remaining:  1194\n",
      "Turns Remaining:  994\n",
      "Turns Remaining:  794\n",
      "Turns Remaining:  594\n",
      "Turns Remaining:  394\n",
      "Turns Remaining:  194\n"
     ]
    }
   ],
   "source": [
    "new_data, new_col = fea.generate_comb(n_combinations=3, auc_score=0.916)"
   ]
  },
  {
   "cell_type": "code",
   "execution_count": 121,
   "metadata": {
    "ExecuteTime": {
     "end_time": "2018-02-09T05:40:07.410054Z",
     "start_time": "2018-02-09T05:40:07.388017Z"
    }
   },
   "outputs": [
    {
     "data": {
      "text/plain": [
       "['f528-f274-f527']"
      ]
     },
     "execution_count": 121,
     "metadata": {},
     "output_type": "execute_result"
    }
   ],
   "source": [
    "new_col"
   ]
  },
  {
   "cell_type": "code",
   "execution_count": 122,
   "metadata": {
    "ExecuteTime": {
     "end_time": "2018-02-09T05:40:23.208594Z",
     "start_time": "2018-02-09T05:40:23.183862Z"
    }
   },
   "outputs": [
    {
     "data": {
      "text/html": [
       "<div>\n",
       "<style scoped>\n",
       "    .dataframe tbody tr th:only-of-type {\n",
       "        vertical-align: middle;\n",
       "    }\n",
       "\n",
       "    .dataframe tbody tr th {\n",
       "        vertical-align: top;\n",
       "    }\n",
       "\n",
       "    .dataframe thead th {\n",
       "        text-align: right;\n",
       "    }\n",
       "</style>\n",
       "<table border=\"1\" class=\"dataframe\">\n",
       "  <thead>\n",
       "    <tr style=\"text-align: right;\">\n",
       "      <th></th>\n",
       "      <th>f528-f274-f527</th>\n",
       "    </tr>\n",
       "  </thead>\n",
       "  <tbody>\n",
       "    <tr>\n",
       "      <th>0</th>\n",
       "      <td>[-0.10250413997119737]</td>\n",
       "    </tr>\n",
       "    <tr>\n",
       "      <th>1</th>\n",
       "      <td>[-0.21899116161503057]</td>\n",
       "    </tr>\n",
       "    <tr>\n",
       "      <th>2</th>\n",
       "      <td>[-0.18753426873294018]</td>\n",
       "    </tr>\n",
       "    <tr>\n",
       "      <th>3</th>\n",
       "      <td>[-0.19838379701719025]</td>\n",
       "    </tr>\n",
       "    <tr>\n",
       "      <th>4</th>\n",
       "      <td>[-0.22388354154438686]</td>\n",
       "    </tr>\n",
       "  </tbody>\n",
       "</table>\n",
       "</div>"
      ],
      "text/plain": [
       "           f528-f274-f527\n",
       "0  [-0.10250413997119737]\n",
       "1  [-0.21899116161503057]\n",
       "2  [-0.18753426873294018]\n",
       "3  [-0.19838379701719025]\n",
       "4  [-0.22388354154438686]"
      ]
     },
     "execution_count": 122,
     "metadata": {},
     "output_type": "execute_result"
    }
   ],
   "source": [
    "new_data.head()"
   ]
  },
  {
   "cell_type": "code",
   "execution_count": null,
   "metadata": {},
   "outputs": [],
   "source": []
  },
  {
   "cell_type": "code",
   "execution_count": 114,
   "metadata": {
    "ExecuteTime": {
     "end_time": "2018-02-02T09:52:47.516836Z",
     "start_time": "2018-02-02T09:52:47.512633Z"
    }
   },
   "outputs": [],
   "source": [
    "f = Feature(data=data, target=target, features=features)"
   ]
  },
  {
   "cell_type": "code",
   "execution_count": 116,
   "metadata": {
    "ExecuteTime": {
     "end_time": "2018-02-02T09:52:58.674790Z",
     "start_time": "2018-02-02T09:52:58.671671Z"
    }
   },
   "outputs": [],
   "source": [
    "#f.generate_comb()"
   ]
  },
  {
   "cell_type": "code",
   "execution_count": null,
   "metadata": {},
   "outputs": [],
   "source": []
  },
  {
   "cell_type": "code",
   "execution_count": 28,
   "metadata": {},
   "outputs": [],
   "source": [
    "corr_matrix = df[i].corr().abs()\n",
    "\n",
    "#the matrix is symmetric so we need to extract upper triangle matrix without diagonal (k = 1)\n",
    "os_i = (corr_matrix.where(np.triu(np.ones(corr_matrix.shape), k=1).astype(np.bool))\n",
    "                 .stack()\n",
    "                 .sort_values(ascending=False))\n",
    "#first element of os series is the pair with the bigest correlation"
   ]
  },
  {
   "cell_type": "code",
   "execution_count": 34,
   "metadata": {},
   "outputs": [],
   "source": [
    "pairs_i = os_i[os_i > .99999]"
   ]
  },
  {
   "cell_type": "code",
   "execution_count": 39,
   "metadata": {},
   "outputs": [
    {
     "data": {
      "text/plain": [
       "f74  f722    1.000000\n",
       "f36  f74     0.999998\n",
       "     f722    0.999998\n",
       "dtype: float64"
      ]
     },
     "execution_count": 39,
     "metadata": {},
     "output_type": "execute_result"
    }
   ],
   "source": [
    "pairs_i"
   ]
  },
  {
   "cell_type": "code",
   "execution_count": 30,
   "metadata": {},
   "outputs": [],
   "source": [
    "corr_matrix = df[f].corr().abs()\n",
    "\n",
    "#the matrix is symmetric so we need to extract upper triangle matrix without diagonal (k = 1)\n",
    "os_f = (corr_matrix.where(np.triu(np.ones(corr_matrix.shape), k=1).astype(np.bool))\n",
    "                 .stack()\n",
    "                 .sort_values(ascending=False))\n",
    "#first element of os series is the pair with the bigest correlation"
   ]
  },
  {
   "cell_type": "code",
   "execution_count": null,
   "metadata": {},
   "outputs": [],
   "source": []
  },
  {
   "cell_type": "code",
   "execution_count": null,
   "metadata": {},
   "outputs": [],
   "source": []
  },
  {
   "cell_type": "code",
   "execution_count": null,
   "metadata": {},
   "outputs": [],
   "source": []
  },
  {
   "cell_type": "code",
   "execution_count": null,
   "metadata": {},
   "outputs": [],
   "source": []
  },
  {
   "cell_type": "code",
   "execution_count": null,
   "metadata": {},
   "outputs": [],
   "source": [
    "c = df[i].corr().abs()\n",
    "s = c.unstack()\n",
    "so = s.order(kind=\"quicksort\")"
   ]
  },
  {
   "cell_type": "code",
   "execution_count": 130,
   "metadata": {},
   "outputs": [],
   "source": [
    "c = df[i].corr().abs()"
   ]
  },
  {
   "cell_type": "code",
   "execution_count": 148,
   "metadata": {},
   "outputs": [
    {
     "data": {
      "text/plain": [
       "(array([ 9, 57]),)"
      ]
     },
     "execution_count": 148,
     "metadata": {},
     "output_type": "execute_result"
    }
   ],
   "source": [
    "# c.columns() \n",
    "np.where(c.isnull().all())"
   ]
  },
  {
   "cell_type": "code",
   "execution_count": null,
   "metadata": {},
   "outputs": [],
   "source": []
  },
  {
   "cell_type": "code",
   "execution_count": 143,
   "metadata": {},
   "outputs": [
    {
     "data": {
      "text/html": [
       "<div>\n",
       "<style scoped>\n",
       "    .dataframe tbody tr th:only-of-type {\n",
       "        vertical-align: middle;\n",
       "    }\n",
       "\n",
       "    .dataframe tbody tr th {\n",
       "        vertical-align: top;\n",
       "    }\n",
       "\n",
       "    .dataframe thead th {\n",
       "        text-align: right;\n",
       "    }\n",
       "</style>\n",
       "<table border=\"1\" class=\"dataframe\">\n",
       "  <thead>\n",
       "    <tr style=\"text-align: right;\">\n",
       "      <th></th>\n",
       "      <th>f1</th>\n",
       "      <th>f2</th>\n",
       "      <th>f4</th>\n",
       "      <th>f5</th>\n",
       "      <th>f6</th>\n",
       "      <th>f13</th>\n",
       "      <th>f16</th>\n",
       "      <th>f24</th>\n",
       "      <th>f25</th>\n",
       "      <th>f33</th>\n",
       "      <th>...</th>\n",
       "      <th>f722</th>\n",
       "      <th>f725</th>\n",
       "      <th>f728</th>\n",
       "      <th>f730</th>\n",
       "      <th>f731</th>\n",
       "      <th>f732</th>\n",
       "      <th>f736</th>\n",
       "      <th>f776</th>\n",
       "      <th>f777</th>\n",
       "      <th>f778</th>\n",
       "    </tr>\n",
       "  </thead>\n",
       "  <tbody>\n",
       "    <tr>\n",
       "      <th>f1</th>\n",
       "      <td>1.000000</td>\n",
       "      <td>0.210388</td>\n",
       "      <td>0.782389</td>\n",
       "      <td>0.269849</td>\n",
       "      <td>0.102250</td>\n",
       "      <td>0.056130</td>\n",
       "      <td>0.075052</td>\n",
       "      <td>0.299080</td>\n",
       "      <td>0.302254</td>\n",
       "      <td>NaN</td>\n",
       "      <td>...</td>\n",
       "      <td>0.081430</td>\n",
       "      <td>0.080732</td>\n",
       "      <td>0.003761</td>\n",
       "      <td>0.083830</td>\n",
       "      <td>0.176596</td>\n",
       "      <td>0.267671</td>\n",
       "      <td>NaN</td>\n",
       "      <td>0.078637</td>\n",
       "      <td>0.873927</td>\n",
       "      <td>0.270134</td>\n",
       "    </tr>\n",
       "    <tr>\n",
       "      <th>f2</th>\n",
       "      <td>0.210388</td>\n",
       "      <td>1.000000</td>\n",
       "      <td>0.215980</td>\n",
       "      <td>0.221009</td>\n",
       "      <td>0.091765</td>\n",
       "      <td>0.063015</td>\n",
       "      <td>0.260137</td>\n",
       "      <td>0.026845</td>\n",
       "      <td>0.494467</td>\n",
       "      <td>NaN</td>\n",
       "      <td>...</td>\n",
       "      <td>0.078268</td>\n",
       "      <td>0.241238</td>\n",
       "      <td>0.051839</td>\n",
       "      <td>0.021537</td>\n",
       "      <td>0.011294</td>\n",
       "      <td>0.044443</td>\n",
       "      <td>NaN</td>\n",
       "      <td>0.097982</td>\n",
       "      <td>0.225693</td>\n",
       "      <td>0.221553</td>\n",
       "    </tr>\n",
       "    <tr>\n",
       "      <th>f4</th>\n",
       "      <td>0.782389</td>\n",
       "      <td>0.215980</td>\n",
       "      <td>1.000000</td>\n",
       "      <td>0.256425</td>\n",
       "      <td>0.119798</td>\n",
       "      <td>0.049142</td>\n",
       "      <td>0.106806</td>\n",
       "      <td>0.337085</td>\n",
       "      <td>0.216014</td>\n",
       "      <td>NaN</td>\n",
       "      <td>...</td>\n",
       "      <td>0.108048</td>\n",
       "      <td>0.088469</td>\n",
       "      <td>0.027852</td>\n",
       "      <td>0.063114</td>\n",
       "      <td>0.159975</td>\n",
       "      <td>0.255563</td>\n",
       "      <td>NaN</td>\n",
       "      <td>0.038133</td>\n",
       "      <td>0.875710</td>\n",
       "      <td>0.262051</td>\n",
       "    </tr>\n",
       "    <tr>\n",
       "      <th>f5</th>\n",
       "      <td>0.269849</td>\n",
       "      <td>0.221009</td>\n",
       "      <td>0.256425</td>\n",
       "      <td>1.000000</td>\n",
       "      <td>0.055828</td>\n",
       "      <td>0.113924</td>\n",
       "      <td>0.007983</td>\n",
       "      <td>0.097416</td>\n",
       "      <td>0.115824</td>\n",
       "      <td>NaN</td>\n",
       "      <td>...</td>\n",
       "      <td>0.084133</td>\n",
       "      <td>0.103954</td>\n",
       "      <td>0.057205</td>\n",
       "      <td>0.025927</td>\n",
       "      <td>0.008229</td>\n",
       "      <td>0.042850</td>\n",
       "      <td>NaN</td>\n",
       "      <td>0.036634</td>\n",
       "      <td>0.303485</td>\n",
       "      <td>0.770800</td>\n",
       "    </tr>\n",
       "    <tr>\n",
       "      <th>f6</th>\n",
       "      <td>0.102250</td>\n",
       "      <td>0.091765</td>\n",
       "      <td>0.119798</td>\n",
       "      <td>0.055828</td>\n",
       "      <td>1.000000</td>\n",
       "      <td>0.001726</td>\n",
       "      <td>0.230357</td>\n",
       "      <td>0.090395</td>\n",
       "      <td>0.057398</td>\n",
       "      <td>NaN</td>\n",
       "      <td>...</td>\n",
       "      <td>0.006449</td>\n",
       "      <td>0.010516</td>\n",
       "      <td>0.013691</td>\n",
       "      <td>0.021994</td>\n",
       "      <td>0.030764</td>\n",
       "      <td>0.039208</td>\n",
       "      <td>NaN</td>\n",
       "      <td>0.010537</td>\n",
       "      <td>0.161654</td>\n",
       "      <td>0.070763</td>\n",
       "    </tr>\n",
       "  </tbody>\n",
       "</table>\n",
       "<p>5 rows × 61 columns</p>\n",
       "</div>"
      ],
      "text/plain": [
       "          f1        f2        f4        f5        f6       f13       f16  \\\n",
       "f1  1.000000  0.210388  0.782389  0.269849  0.102250  0.056130  0.075052   \n",
       "f2  0.210388  1.000000  0.215980  0.221009  0.091765  0.063015  0.260137   \n",
       "f4  0.782389  0.215980  1.000000  0.256425  0.119798  0.049142  0.106806   \n",
       "f5  0.269849  0.221009  0.256425  1.000000  0.055828  0.113924  0.007983   \n",
       "f6  0.102250  0.091765  0.119798  0.055828  1.000000  0.001726  0.230357   \n",
       "\n",
       "         f24       f25  f33    ...         f722      f725      f728      f730  \\\n",
       "f1  0.299080  0.302254  NaN    ...     0.081430  0.080732  0.003761  0.083830   \n",
       "f2  0.026845  0.494467  NaN    ...     0.078268  0.241238  0.051839  0.021537   \n",
       "f4  0.337085  0.216014  NaN    ...     0.108048  0.088469  0.027852  0.063114   \n",
       "f5  0.097416  0.115824  NaN    ...     0.084133  0.103954  0.057205  0.025927   \n",
       "f6  0.090395  0.057398  NaN    ...     0.006449  0.010516  0.013691  0.021994   \n",
       "\n",
       "        f731      f732  f736      f776      f777      f778  \n",
       "f1  0.176596  0.267671   NaN  0.078637  0.873927  0.270134  \n",
       "f2  0.011294  0.044443   NaN  0.097982  0.225693  0.221553  \n",
       "f4  0.159975  0.255563   NaN  0.038133  0.875710  0.262051  \n",
       "f5  0.008229  0.042850   NaN  0.036634  0.303485  0.770800  \n",
       "f6  0.030764  0.039208   NaN  0.010537  0.161654  0.070763  \n",
       "\n",
       "[5 rows x 61 columns]"
      ]
     },
     "execution_count": 143,
     "metadata": {},
     "output_type": "execute_result"
    }
   ],
   "source": [
    "c.head()"
   ]
  },
  {
   "cell_type": "code",
   "execution_count": null,
   "metadata": {},
   "outputs": [],
   "source": []
  },
  {
   "cell_type": "code",
   "execution_count": 132,
   "metadata": {},
   "outputs": [],
   "source": [
    "s = c.unstack()"
   ]
  },
  {
   "cell_type": "code",
   "execution_count": 152,
   "metadata": {},
   "outputs": [],
   "source": [
    "so = s.sort_values(kind=\"quicksort\", ascending=False)"
   ]
  },
  {
   "cell_type": "code",
   "execution_count": 164,
   "metadata": {},
   "outputs": [
    {
     "data": {
      "text/plain": [
       "f74   f36     0.999998\n",
       "f36   f74     0.999998\n",
       "      f722    0.999998\n",
       "f722  f36     0.999998\n",
       "f681  f74     0.999855\n",
       "f74   f681    0.999855\n",
       "f681  f722    0.999855\n",
       "f722  f681    0.999855\n",
       "f36   f681    0.999854\n",
       "f681  f36     0.999854\n",
       "f467  f447    0.999364\n",
       "f447  f467    0.999364\n",
       "f532  f521    0.998688\n",
       "f521  f532    0.998688\n",
       "f728  f681    0.994136\n",
       "f681  f728    0.994136\n",
       "f728  f36     0.993618\n",
       "f36   f728    0.993618\n",
       "f722  f728    0.993612\n",
       "f728  f74     0.993612\n",
       "f74   f728    0.993612\n",
       "f728  f722    0.993612\n",
       "      f730    0.991874\n",
       "f730  f728    0.991874\n",
       "      f731    0.990528\n",
       "f731  f730    0.990528\n",
       "      f732    0.990072\n",
       "f732  f731    0.990072\n",
       "dtype: float64"
      ]
     },
     "execution_count": 164,
     "metadata": {},
     "output_type": "execute_result"
    }
   ],
   "source": [
    "so[so > .99][so < 1]"
   ]
  },
  {
   "cell_type": "code",
   "execution_count": null,
   "metadata": {},
   "outputs": [],
   "source": []
  },
  {
   "cell_type": "code",
   "execution_count": 90,
   "metadata": {},
   "outputs": [
    {
     "data": {
      "text/plain": [
       "(nan, 1.0)"
      ]
     },
     "execution_count": 90,
     "metadata": {},
     "output_type": "execute_result"
    }
   ],
   "source": [
    "from scipy.stats.stats import pearsonr\n",
    "pearsonr(dataset.f527, dataset.f528)"
   ]
  },
  {
   "cell_type": "code",
   "execution_count": 5,
   "metadata": {},
   "outputs": [
    {
     "data": {
      "text/plain": [
       "True"
      ]
     },
     "execution_count": 5,
     "metadata": {},
     "output_type": "execute_result"
    }
   ],
   "source": [
    "dataset.f527.isnull().any()"
   ]
  },
  {
   "cell_type": "code",
   "execution_count": 6,
   "metadata": {},
   "outputs": [],
   "source": [
    "df = dataset"
   ]
  },
  {
   "cell_type": "code",
   "execution_count": 11,
   "metadata": {},
   "outputs": [],
   "source": [
    "df.f527 = df.f527.fillna(df.f527.median())\n",
    "df.f528 = df.f528.fillna(df.f528.median())\n",
    "# np.corrcoef(df.f527, df.f528)"
   ]
  },
  {
   "cell_type": "code",
   "execution_count": 13,
   "metadata": {},
   "outputs": [
    {
     "data": {
      "text/plain": [
       "0.99999977947009588"
      ]
     },
     "execution_count": 13,
     "metadata": {},
     "output_type": "execute_result"
    }
   ],
   "source": [
    "np.corrcoef(df.f527, df.f528)[0, 1]"
   ]
  },
  {
   "cell_type": "code",
   "execution_count": 15,
   "metadata": {},
   "outputs": [],
   "source": [
    "target = df.loss\n",
    "target[target > 0] = 1"
   ]
  },
  {
   "cell_type": "code",
   "execution_count": 16,
   "metadata": {},
   "outputs": [
    {
     "data": {
      "text/plain": [
       "-0.18959896011181998"
      ]
     },
     "execution_count": 16,
     "metadata": {},
     "output_type": "execute_result"
    }
   ],
   "source": [
    "np.corrcoef(df.f527-df.f528, target)[0, 1]"
   ]
  },
  {
   "cell_type": "code",
   "execution_count": 95,
   "metadata": {},
   "outputs": [],
   "source": [
    "#dataset.f527"
   ]
  },
  {
   "cell_type": "code",
   "execution_count": 50,
   "metadata": {
    "scrolled": false
   },
   "outputs": [
    {
     "data": {
      "text/html": [
       "<div>\n",
       "<style scoped>\n",
       "    .dataframe tbody tr th:only-of-type {\n",
       "        vertical-align: middle;\n",
       "    }\n",
       "\n",
       "    .dataframe tbody tr th {\n",
       "        vertical-align: top;\n",
       "    }\n",
       "\n",
       "    .dataframe thead th {\n",
       "        text-align: right;\n",
       "    }\n",
       "</style>\n",
       "<table border=\"1\" class=\"dataframe\">\n",
       "  <thead>\n",
       "    <tr style=\"text-align: right;\">\n",
       "      <th></th>\n",
       "      <th>f34</th>\n",
       "      <th>f35</th>\n",
       "      <th>f37</th>\n",
       "      <th>f38</th>\n",
       "      <th>f58</th>\n",
       "      <th>f86</th>\n",
       "      <th>f87</th>\n",
       "      <th>f88</th>\n",
       "      <th>f96</th>\n",
       "      <th>f97</th>\n",
       "      <th>...</th>\n",
       "      <th>f678</th>\n",
       "      <th>f700</th>\n",
       "      <th>f701</th>\n",
       "      <th>f702</th>\n",
       "      <th>f724</th>\n",
       "      <th>f725</th>\n",
       "      <th>f729</th>\n",
       "      <th>f741</th>\n",
       "      <th>f764</th>\n",
       "      <th>f770</th>\n",
       "    </tr>\n",
       "  </thead>\n",
       "  <tbody>\n",
       "    <tr>\n",
       "      <th>0</th>\n",
       "      <td>0</td>\n",
       "      <td>0</td>\n",
       "      <td>0</td>\n",
       "      <td>0</td>\n",
       "      <td>5.0</td>\n",
       "      <td>862.0</td>\n",
       "      <td>862.0</td>\n",
       "      <td>862.0</td>\n",
       "      <td>851.0</td>\n",
       "      <td>851.0</td>\n",
       "      <td>...</td>\n",
       "      <td>0.0</td>\n",
       "      <td>0</td>\n",
       "      <td>0</td>\n",
       "      <td>0</td>\n",
       "      <td>0.0</td>\n",
       "      <td>0</td>\n",
       "      <td>6</td>\n",
       "      <td>6</td>\n",
       "      <td>1</td>\n",
       "      <td>5</td>\n",
       "    </tr>\n",
       "    <tr>\n",
       "      <th>1</th>\n",
       "      <td>0</td>\n",
       "      <td>0</td>\n",
       "      <td>0</td>\n",
       "      <td>0</td>\n",
       "      <td>6.0</td>\n",
       "      <td>26.0</td>\n",
       "      <td>26.0</td>\n",
       "      <td>26.0</td>\n",
       "      <td>20.0</td>\n",
       "      <td>20.0</td>\n",
       "      <td>...</td>\n",
       "      <td>0.0</td>\n",
       "      <td>0</td>\n",
       "      <td>0</td>\n",
       "      <td>0</td>\n",
       "      <td>0.0</td>\n",
       "      <td>0</td>\n",
       "      <td>7</td>\n",
       "      <td>7</td>\n",
       "      <td>1</td>\n",
       "      <td>6</td>\n",
       "    </tr>\n",
       "    <tr>\n",
       "      <th>2</th>\n",
       "      <td>0</td>\n",
       "      <td>0</td>\n",
       "      <td>0</td>\n",
       "      <td>0</td>\n",
       "      <td>13.0</td>\n",
       "      <td>134.0</td>\n",
       "      <td>134.0</td>\n",
       "      <td>134.0</td>\n",
       "      <td>124.0</td>\n",
       "      <td>124.0</td>\n",
       "      <td>...</td>\n",
       "      <td>0.0</td>\n",
       "      <td>0</td>\n",
       "      <td>0</td>\n",
       "      <td>0</td>\n",
       "      <td>0.0</td>\n",
       "      <td>0</td>\n",
       "      <td>14</td>\n",
       "      <td>14</td>\n",
       "      <td>1</td>\n",
       "      <td>13</td>\n",
       "    </tr>\n",
       "    <tr>\n",
       "      <th>3</th>\n",
       "      <td>0</td>\n",
       "      <td>0</td>\n",
       "      <td>0</td>\n",
       "      <td>0</td>\n",
       "      <td>4.0</td>\n",
       "      <td>1088.0</td>\n",
       "      <td>1088.0</td>\n",
       "      <td>1088.0</td>\n",
       "      <td>903.0</td>\n",
       "      <td>903.0</td>\n",
       "      <td>...</td>\n",
       "      <td>0.0</td>\n",
       "      <td>0</td>\n",
       "      <td>0</td>\n",
       "      <td>0</td>\n",
       "      <td>0.0</td>\n",
       "      <td>0</td>\n",
       "      <td>5</td>\n",
       "      <td>5</td>\n",
       "      <td>1</td>\n",
       "      <td>4</td>\n",
       "    </tr>\n",
       "    <tr>\n",
       "      <th>4</th>\n",
       "      <td>0</td>\n",
       "      <td>0</td>\n",
       "      <td>0</td>\n",
       "      <td>0</td>\n",
       "      <td>26.0</td>\n",
       "      <td>5.0</td>\n",
       "      <td>5.0</td>\n",
       "      <td>5.0</td>\n",
       "      <td>5.0</td>\n",
       "      <td>5.0</td>\n",
       "      <td>...</td>\n",
       "      <td>0.0</td>\n",
       "      <td>0</td>\n",
       "      <td>0</td>\n",
       "      <td>0</td>\n",
       "      <td>0.0</td>\n",
       "      <td>0</td>\n",
       "      <td>27</td>\n",
       "      <td>27</td>\n",
       "      <td>1</td>\n",
       "      <td>26</td>\n",
       "    </tr>\n",
       "    <tr>\n",
       "      <th>5</th>\n",
       "      <td>0</td>\n",
       "      <td>0</td>\n",
       "      <td>0</td>\n",
       "      <td>0</td>\n",
       "      <td>22.0</td>\n",
       "      <td>137.0</td>\n",
       "      <td>137.0</td>\n",
       "      <td>137.0</td>\n",
       "      <td>131.0</td>\n",
       "      <td>131.0</td>\n",
       "      <td>...</td>\n",
       "      <td>0.0</td>\n",
       "      <td>0</td>\n",
       "      <td>0</td>\n",
       "      <td>0</td>\n",
       "      <td>0.0</td>\n",
       "      <td>0</td>\n",
       "      <td>23</td>\n",
       "      <td>23</td>\n",
       "      <td>1</td>\n",
       "      <td>22</td>\n",
       "    </tr>\n",
       "    <tr>\n",
       "      <th>6</th>\n",
       "      <td>0</td>\n",
       "      <td>0</td>\n",
       "      <td>0</td>\n",
       "      <td>0</td>\n",
       "      <td>23.0</td>\n",
       "      <td>349.0</td>\n",
       "      <td>349.0</td>\n",
       "      <td>349.0</td>\n",
       "      <td>399.0</td>\n",
       "      <td>399.0</td>\n",
       "      <td>...</td>\n",
       "      <td>0.0</td>\n",
       "      <td>0</td>\n",
       "      <td>0</td>\n",
       "      <td>0</td>\n",
       "      <td>0.0</td>\n",
       "      <td>0</td>\n",
       "      <td>24</td>\n",
       "      <td>24</td>\n",
       "      <td>1</td>\n",
       "      <td>23</td>\n",
       "    </tr>\n",
       "    <tr>\n",
       "      <th>7</th>\n",
       "      <td>0</td>\n",
       "      <td>0</td>\n",
       "      <td>0</td>\n",
       "      <td>0</td>\n",
       "      <td>17.0</td>\n",
       "      <td>956.0</td>\n",
       "      <td>956.0</td>\n",
       "      <td>956.0</td>\n",
       "      <td>837.0</td>\n",
       "      <td>837.0</td>\n",
       "      <td>...</td>\n",
       "      <td>0.0</td>\n",
       "      <td>0</td>\n",
       "      <td>0</td>\n",
       "      <td>0</td>\n",
       "      <td>0.0</td>\n",
       "      <td>0</td>\n",
       "      <td>18</td>\n",
       "      <td>18</td>\n",
       "      <td>1</td>\n",
       "      <td>17</td>\n",
       "    </tr>\n",
       "    <tr>\n",
       "      <th>8</th>\n",
       "      <td>0</td>\n",
       "      <td>0</td>\n",
       "      <td>0</td>\n",
       "      <td>0</td>\n",
       "      <td>7.0</td>\n",
       "      <td>239.0</td>\n",
       "      <td>239.0</td>\n",
       "      <td>239.0</td>\n",
       "      <td>253.0</td>\n",
       "      <td>253.0</td>\n",
       "      <td>...</td>\n",
       "      <td>0.0</td>\n",
       "      <td>0</td>\n",
       "      <td>0</td>\n",
       "      <td>0</td>\n",
       "      <td>0.0</td>\n",
       "      <td>0</td>\n",
       "      <td>8</td>\n",
       "      <td>8</td>\n",
       "      <td>1</td>\n",
       "      <td>7</td>\n",
       "    </tr>\n",
       "    <tr>\n",
       "      <th>9</th>\n",
       "      <td>0</td>\n",
       "      <td>0</td>\n",
       "      <td>0</td>\n",
       "      <td>0</td>\n",
       "      <td>5.0</td>\n",
       "      <td>83.0</td>\n",
       "      <td>83.0</td>\n",
       "      <td>83.0</td>\n",
       "      <td>82.0</td>\n",
       "      <td>82.0</td>\n",
       "      <td>...</td>\n",
       "      <td>0.0</td>\n",
       "      <td>0</td>\n",
       "      <td>0</td>\n",
       "      <td>0</td>\n",
       "      <td>0.0</td>\n",
       "      <td>0</td>\n",
       "      <td>6</td>\n",
       "      <td>6</td>\n",
       "      <td>1</td>\n",
       "      <td>5</td>\n",
       "    </tr>\n",
       "  </tbody>\n",
       "</table>\n",
       "<p>10 rows × 96 columns</p>\n",
       "</div>"
      ],
      "text/plain": [
       "   f34  f35  f37  f38   f58     f86     f87     f88    f96    f97  ...   f678  \\\n",
       "0    0    0    0    0   5.0   862.0   862.0   862.0  851.0  851.0  ...    0.0   \n",
       "1    0    0    0    0   6.0    26.0    26.0    26.0   20.0   20.0  ...    0.0   \n",
       "2    0    0    0    0  13.0   134.0   134.0   134.0  124.0  124.0  ...    0.0   \n",
       "3    0    0    0    0   4.0  1088.0  1088.0  1088.0  903.0  903.0  ...    0.0   \n",
       "4    0    0    0    0  26.0     5.0     5.0     5.0    5.0    5.0  ...    0.0   \n",
       "5    0    0    0    0  22.0   137.0   137.0   137.0  131.0  131.0  ...    0.0   \n",
       "6    0    0    0    0  23.0   349.0   349.0   349.0  399.0  399.0  ...    0.0   \n",
       "7    0    0    0    0  17.0   956.0   956.0   956.0  837.0  837.0  ...    0.0   \n",
       "8    0    0    0    0   7.0   239.0   239.0   239.0  253.0  253.0  ...    0.0   \n",
       "9    0    0    0    0   5.0    83.0    83.0    83.0   82.0   82.0  ...    0.0   \n",
       "\n",
       "   f700  f701  f702  f724  f725  f729  f741  f764  f770  \n",
       "0     0     0     0   0.0     0     6     6     1     5  \n",
       "1     0     0     0   0.0     0     7     7     1     6  \n",
       "2     0     0     0   0.0     0    14    14     1    13  \n",
       "3     0     0     0   0.0     0     5     5     1     4  \n",
       "4     0     0     0   0.0     0    27    27     1    26  \n",
       "5     0     0     0   0.0     0    23    23     1    22  \n",
       "6     0     0     0   0.0     0    24    24     1    23  \n",
       "7     0     0     0   0.0     0    18    18     1    17  \n",
       "8     0     0     0   0.0     0     8     8     1     7  \n",
       "9     0     0     0   0.0     0     6     6     1     5  \n",
       "\n",
       "[10 rows x 96 columns]"
      ]
     },
     "execution_count": 50,
     "metadata": {},
     "output_type": "execute_result"
    }
   ],
   "source": [
    "df = dataset\n",
    "n_head = 250\n",
    "#print(np.where(dataset.head(n_head).T.duplicated())[0])\n",
    "df.iloc[0:10, np.where(dataset.head(n_head).T.duplicated())[0]]"
   ]
  },
  {
   "cell_type": "code",
   "execution_count": null,
   "metadata": {},
   "outputs": [],
   "source": []
  }
 ],
 "metadata": {
  "kernelspec": {
   "display_name": "Python 3",
   "language": "python",
   "name": "python3"
  },
  "language_info": {
   "codemirror_mode": {
    "name": "ipython",
    "version": 3
   },
   "file_extension": ".py",
   "mimetype": "text/x-python",
   "name": "python",
   "nbconvert_exporter": "python",
   "pygments_lexer": "ipython3",
   "version": "3.6.3"
  },
  "toc": {
   "nav_menu": {},
   "number_sections": true,
   "sideBar": true,
   "skip_h1_title": false,
   "toc_cell": false,
   "toc_position": {},
   "toc_section_display": "block",
   "toc_window_display": false
  },
  "varInspector": {
   "cols": {
    "lenName": 16,
    "lenType": 16,
    "lenVar": 40
   },
   "kernels_config": {
    "python": {
     "delete_cmd_postfix": "",
     "delete_cmd_prefix": "del ",
     "library": "var_list.py",
     "varRefreshCmd": "print(var_dic_list())"
    },
    "r": {
     "delete_cmd_postfix": ") ",
     "delete_cmd_prefix": "rm(",
     "library": "var_list.r",
     "varRefreshCmd": "cat(var_dic_list()) "
    }
   },
   "types_to_exclude": [
    "module",
    "function",
    "builtin_function_or_method",
    "instance",
    "_Feature"
   ],
   "window_display": false
  }
 },
 "nbformat": 4,
 "nbformat_minor": 2
}
