{
 "cells": [
  {
   "cell_type": "code",
   "execution_count": 1,
   "metadata": {
    "ExecuteTime": {
     "end_time": "2018-01-23T17:20:29.880842Z",
     "start_time": "2018-01-23T17:20:24.858050Z"
    }
   },
   "outputs": [],
   "source": [
    "import os\n",
    "import pandas as pd\n",
    "import gossipcat as gc"
   ]
  },
  {
   "cell_type": "code",
   "execution_count": 3,
   "metadata": {
    "ExecuteTime": {
     "end_time": "2018-01-23T17:29:09.905334Z",
     "start_time": "2018-01-23T17:29:07.543926Z"
    }
   },
   "outputs": [],
   "source": [
    "# load dataset\n",
    "wd = '/Users/ewenwang/Documents/practice_data'\n",
    "os.chdir(wd)\n",
    "DataFile = 'loan_stats.csv'\n",
    "dataset = pd.read_csv(DataFile)"
   ]
  },
  {
   "cell_type": "code",
   "execution_count": 5,
   "metadata": {
    "ExecuteTime": {
     "end_time": "2018-01-23T17:30:51.469186Z",
     "start_time": "2018-01-23T17:30:51.466345Z"
    }
   },
   "outputs": [],
   "source": [
    "from sklearn.model_selection import train_test_split"
   ]
  },
  {
   "cell_type": "code",
   "execution_count": 6,
   "metadata": {
    "ExecuteTime": {
     "end_time": "2018-01-23T17:31:03.870445Z",
     "start_time": "2018-01-23T17:31:03.866579Z"
    }
   },
   "outputs": [],
   "source": [
    "import warnings\n",
    "warnings.filterwarnings('ignore')"
   ]
  },
  {
   "cell_type": "code",
   "execution_count": 7,
   "metadata": {
    "ExecuteTime": {
     "end_time": "2018-01-23T17:31:16.317430Z",
     "start_time": "2018-01-23T17:31:16.086120Z"
    }
   },
   "outputs": [],
   "source": [
    "dtrain, dtest = train_test_split(dataset, test_size=0.333, random_state=7)\n",
    "\n",
    "target = 'loan_status'\n",
    "predictors = [x for x in dataset.columns if x not in [target]]"
   ]
  },
  {
   "cell_type": "code",
   "execution_count": 8,
   "metadata": {
    "ExecuteTime": {
     "end_time": "2018-01-23T17:31:47.379668Z",
     "start_time": "2018-01-23T17:31:47.373601Z"
    }
   },
   "outputs": [
    {
     "name": "stdout",
     "output_type": "stream",
     "text": [
      "Help on function simAnneal in module gossipcat.core:\n",
      "\n",
      "simAnneal(train, target, predictors, params={'max_depth': [1, 2, 3, 4, 5, 6, 7, 8, 9, 10], 'subsample': [0.1, 0.2, 0.3, 0.4, 0.5, 0.6, 0.7, 0.8, 0.9, 1.0], 'colsample_bytree': [0.1, 0.2, 0.3, 0.4, 0.5, 0.6, 0.7, 0.8, 0.9, 1.0]}, results=True, seed=2017)\n",
      "    Hyper parameter tuning with simulated annealing.\n",
      "    \n",
      "    Employes the simulated annealing to find the optimal hyper parameters and \n",
      "    return an optimized classifier.\n",
      "    \n",
      "    Args:\n",
      "        train: A training set of your machine learning project.\n",
      "        target: The target variablet; limited to binary.\n",
      "        predictors: The predictors.\n",
      "        cate_features: The categorical features.\n",
      "        param: A hyper parameter dictionary for tuning task; default with param_1.\n",
      "        results: Whether print the progress out; default with True.\n",
      "    \n",
      "    Returns:\n",
      "        optimized_clf: An optimized classifier after hyper parameter tuning.\n",
      "\n"
     ]
    }
   ],
   "source": [
    "help(gc.simAnneal)"
   ]
  },
  {
   "cell_type": "code",
   "execution_count": null,
   "metadata": {
    "ExecuteTime": {
     "start_time": "2018-01-23T09:32:54.612Z"
    }
   },
   "outputs": [
    {
     "name": "stdout",
     "output_type": "stream",
     "text": [
      "simulating...\n",
      "\n",
      "INFO: Number of possible iterations given cooling schedule: 160\n",
      "\n"
     ]
    },
    {
     "name": "stderr",
     "output_type": "stream",
     "text": [
      "[Parallel(n_jobs=1)]: Done   5 out of   5 | elapsed:  7.2min finished\n"
     ]
    },
    {
     "name": "stdout",
     "output_type": "stream",
     "text": [
      "2 T: 10.0, score: 0.6516, std: 0.0072, params: {'max_depth': '10.00', 'subsample': '0.70', 'colsample_bytree': '0.80'}\n"
     ]
    },
    {
     "name": "stderr",
     "output_type": "stream",
     "text": [
      "[Parallel(n_jobs=1)]: Done   5 out of   5 | elapsed:  7.5min finished\n"
     ]
    },
    {
     "name": "stdout",
     "output_type": "stream",
     "text": [
      "3 T: 10.0, score: 0.6442, std: 0.0067, params: {'max_depth': '10.00', 'subsample': '0.90', 'colsample_bytree': '0.80'}\n"
     ]
    },
    {
     "name": "stderr",
     "output_type": "stream",
     "text": [
      "[Parallel(n_jobs=1)]: Done   5 out of   5 | elapsed:  7.8min finished\n"
     ]
    },
    {
     "name": "stdout",
     "output_type": "stream",
     "text": [
      "4 T: 10.0, score: 0.6417, std: 0.0065, params: {'max_depth': '9.00', 'subsample': '0.90', 'colsample_bytree': '0.80'}\n"
     ]
    },
    {
     "name": "stderr",
     "output_type": "stream",
     "text": [
      "[Parallel(n_jobs=1)]: Done   5 out of   5 | elapsed:  6.5min finished\n"
     ]
    },
    {
     "name": "stdout",
     "output_type": "stream",
     "text": [
      "5 T: 10.0, score: 0.6403, std: 0.0081, params: {'max_depth': '6.00', 'subsample': '0.90', 'colsample_bytree': '0.80'}\n"
     ]
    }
   ],
   "source": [
    "clf = gc.simAnneal(dtrain, target, predictors)"
   ]
  },
  {
   "cell_type": "code",
   "execution_count": null,
   "metadata": {},
   "outputs": [],
   "source": []
  }
 ],
 "metadata": {
  "kernelspec": {
   "display_name": "Python 3",
   "language": "python",
   "name": "python3"
  },
  "language_info": {
   "codemirror_mode": {
    "name": "ipython",
    "version": 3
   },
   "file_extension": ".py",
   "mimetype": "text/x-python",
   "name": "python",
   "nbconvert_exporter": "python",
   "pygments_lexer": "ipython3",
   "version": "3.6.3"
  },
  "toc": {
   "nav_menu": {},
   "number_sections": true,
   "sideBar": true,
   "skip_h1_title": false,
   "toc_cell": false,
   "toc_position": {},
   "toc_section_display": "block",
   "toc_window_display": false
  },
  "varInspector": {
   "cols": {
    "lenName": 16,
    "lenType": 16,
    "lenVar": 40
   },
   "kernels_config": {
    "python": {
     "delete_cmd_postfix": "",
     "delete_cmd_prefix": "del ",
     "library": "var_list.py",
     "varRefreshCmd": "print(var_dic_list())"
    },
    "r": {
     "delete_cmd_postfix": ") ",
     "delete_cmd_prefix": "rm(",
     "library": "var_list.r",
     "varRefreshCmd": "cat(var_dic_list()) "
    }
   },
   "types_to_exclude": [
    "module",
    "function",
    "builtin_function_or_method",
    "instance",
    "_Feature"
   ],
   "window_display": false
  }
 },
 "nbformat": 4,
 "nbformat_minor": 2
}
