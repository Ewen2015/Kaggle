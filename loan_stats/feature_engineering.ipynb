{
 "cells": [
  {
   "cell_type": "markdown",
   "metadata": {},
   "source": [
    "# ICBC Project Warm-Up: Feature Engineering"
   ]
  },
  {
   "cell_type": "code",
   "execution_count": 1,
   "metadata": {},
   "outputs": [],
   "source": [
    "import os\n",
    "import numpy as  np\n",
    "import pandas as pd"
   ]
  },
  {
   "cell_type": "code",
   "execution_count": 31,
   "metadata": {},
   "outputs": [
    {
     "name": "stderr",
     "output_type": "stream",
     "text": [
      "/Library/Frameworks/Python.framework/Versions/3.6/lib/python3.6/site-packages/IPython/core/interactiveshell.py:2728: DtypeWarning: Columns (12,34) have mixed types. Specify dtype option on import or set low_memory=False.\n",
      "  interactivity=interactivity, compiler=compiler, result=result)\n"
     ]
    },
    {
     "name": "stdout",
     "output_type": "stream",
     "text": [
      "<class 'pandas.core.frame.DataFrame'>\n",
      "RangeIndex: 95210 entries, 0 to 95209\n",
      "Data columns (total 90 columns):\n",
      "loan_amnt                         95210 non-null int64\n",
      "term                              95210 non-null object\n",
      "int_rate                          95210 non-null float64\n",
      "installment                       95210 non-null float64\n",
      "emp_title                         89516 non-null object\n",
      "emp_length                        95210 non-null int64\n",
      "home_ownership                    95210 non-null object\n",
      "annual_inc                        95210 non-null float64\n",
      "verification_status               95210 non-null object\n",
      "issue_d                           95210 non-null object\n",
      "loan_status                       95210 non-null int64\n",
      "pymnt_plan                        95210 non-null object\n",
      "desc                              6 non-null object\n",
      "purpose                           95210 non-null object\n",
      "title                             90065 non-null object\n",
      "zip_code                          95210 non-null object\n",
      "addr_state                        95210 non-null object\n",
      "dti                               95210 non-null float64\n",
      "delinq_2yrs                       95210 non-null int64\n",
      "earliest_cr_line                  95210 non-null object\n",
      "inq_last_6mths                    95210 non-null int64\n",
      "mths_since_last_delinq            51229 non-null float64\n",
      "mths_since_last_record            18903 non-null float64\n",
      "open_acc                          95210 non-null int64\n",
      "pub_rec                           95210 non-null int64\n",
      "revol_bal                         95210 non-null int64\n",
      "revol_util                        95151 non-null float64\n",
      "total_acc                         95210 non-null int64\n",
      "initial_list_status               95210 non-null object\n",
      "collections_12_mths_ex_med        95210 non-null int64\n",
      "mths_since_last_major_derog       28125 non-null float64\n",
      "application_type                  95210 non-null object\n",
      "annual_inc_joint                  501 non-null float64\n",
      "dti_joint                         501 non-null float64\n",
      "verification_status_joint         501 non-null object\n",
      "acc_now_delinq                    95210 non-null int64\n",
      "tot_coll_amt                      95210 non-null int64\n",
      "tot_cur_bal                       95210 non-null int64\n",
      "open_acc_6m                       95210 non-null int64\n",
      "open_il_6m                        95210 non-null int64\n",
      "open_il_12m                       95210 non-null int64\n",
      "open_il_24m                       95210 non-null int64\n",
      "mths_since_rcnt_il                92660 non-null float64\n",
      "total_bal_il                      95210 non-null int64\n",
      "il_util                           82017 non-null float64\n",
      "open_rv_12m                       95210 non-null int64\n",
      "open_rv_24m                       95210 non-null int64\n",
      "max_bal_bc                        95210 non-null int64\n",
      "all_util                          95204 non-null float64\n",
      "total_rev_hi_lim                  95210 non-null int64\n",
      "inq_fi                            95210 non-null int64\n",
      "total_cu_tl                       95210 non-null int64\n",
      "inq_last_12m                      95210 non-null int64\n",
      "acc_open_past_24mths              95210 non-null int64\n",
      "avg_cur_bal                       95210 non-null int64\n",
      "bc_open_to_buy                    94160 non-null float64\n",
      "bc_util                           94126 non-null float64\n",
      "chargeoff_within_12_mths          95210 non-null int64\n",
      "delinq_amnt                       95210 non-null int64\n",
      "mo_sin_old_il_acct                92660 non-null float64\n",
      "mo_sin_old_rev_tl_op              95210 non-null int64\n",
      "mo_sin_rcnt_rev_tl_op             95210 non-null int64\n",
      "mo_sin_rcnt_tl                    95210 non-null int64\n",
      "mort_acc                          95210 non-null int64\n",
      "mths_since_recent_bc              94212 non-null float64\n",
      "mths_since_recent_bc_dlq          24968 non-null float64\n",
      "mths_since_recent_inq             85581 non-null float64\n",
      "mths_since_recent_revol_delinq    35158 non-null float64\n",
      "num_accts_ever_120_pd             95210 non-null int64\n",
      "num_actv_bc_tl                    95210 non-null int64\n",
      "num_actv_rev_tl                   95210 non-null int64\n",
      "num_bc_sats                       95210 non-null int64\n",
      "num_bc_tl                         95210 non-null int64\n",
      "num_il_tl                         95210 non-null int64\n",
      "num_op_rev_tl                     95210 non-null int64\n",
      "num_rev_accts                     95210 non-null int64\n",
      "num_rev_tl_bal_gt_0               95210 non-null int64\n",
      "num_sats                          95210 non-null int64\n",
      "num_tl_120dpd_2m                  91951 non-null float64\n",
      "num_tl_30dpd                      95210 non-null int64\n",
      "num_tl_90g_dpd_24m                95210 non-null int64\n",
      "num_tl_op_past_12m                95210 non-null int64\n",
      "pct_tl_nvr_dlq                    95210 non-null float64\n",
      "percent_bc_gt_75                  94156 non-null float64\n",
      "pub_rec_bankruptcies              95210 non-null int64\n",
      "tax_liens                         95210 non-null int64\n",
      "tot_hi_cred_lim                   95210 non-null int64\n",
      "total_bal_ex_mort                 95210 non-null int64\n",
      "total_bc_limit                    95210 non-null int64\n",
      "total_il_high_credit_limit        95210 non-null int64\n",
      "dtypes: float64(23), int64(52), object(15)\n",
      "memory usage: 65.4+ MB\n"
     ]
    }
   ],
   "source": [
    "wd = '/Users/ewenwang/OneDrive/IBM/Project_ICBC/code_wu'\n",
    "os.chdir(wd)\n",
    "datafile = 'lc_2016Q3_clean.csv'\n",
    "data = pd.read_csv(datafile, header=0, encoding='latin-1')\n",
    "data.info()"
   ]
  },
  {
   "cell_type": "code",
   "execution_count": 32,
   "metadata": {},
   "outputs": [
    {
     "data": {
      "text/html": [
       "<div>\n",
       "<style scoped>\n",
       "    .dataframe tbody tr th:only-of-type {\n",
       "        vertical-align: middle;\n",
       "    }\n",
       "\n",
       "    .dataframe tbody tr th {\n",
       "        vertical-align: top;\n",
       "    }\n",
       "\n",
       "    .dataframe thead th {\n",
       "        text-align: right;\n",
       "    }\n",
       "</style>\n",
       "<table border=\"1\" class=\"dataframe\">\n",
       "  <thead>\n",
       "    <tr style=\"text-align: right;\">\n",
       "      <th></th>\n",
       "      <th>loan_amnt</th>\n",
       "      <th>term</th>\n",
       "      <th>int_rate</th>\n",
       "      <th>installment</th>\n",
       "      <th>emp_title</th>\n",
       "      <th>emp_length</th>\n",
       "      <th>home_ownership</th>\n",
       "      <th>annual_inc</th>\n",
       "      <th>verification_status</th>\n",
       "      <th>issue_d</th>\n",
       "      <th>...</th>\n",
       "      <th>num_tl_90g_dpd_24m</th>\n",
       "      <th>num_tl_op_past_12m</th>\n",
       "      <th>pct_tl_nvr_dlq</th>\n",
       "      <th>percent_bc_gt_75</th>\n",
       "      <th>pub_rec_bankruptcies</th>\n",
       "      <th>tax_liens</th>\n",
       "      <th>tot_hi_cred_lim</th>\n",
       "      <th>total_bal_ex_mort</th>\n",
       "      <th>total_bc_limit</th>\n",
       "      <th>total_il_high_credit_limit</th>\n",
       "    </tr>\n",
       "  </thead>\n",
       "  <tbody>\n",
       "    <tr>\n",
       "      <th>0</th>\n",
       "      <td>15000</td>\n",
       "      <td>36 months</td>\n",
       "      <td>13.99</td>\n",
       "      <td>512.60</td>\n",
       "      <td>Fiscal Director</td>\n",
       "      <td>2</td>\n",
       "      <td>RENT</td>\n",
       "      <td>55000.0</td>\n",
       "      <td>Not Verified</td>\n",
       "      <td>01/09/2016</td>\n",
       "      <td>...</td>\n",
       "      <td>0</td>\n",
       "      <td>5</td>\n",
       "      <td>100.0</td>\n",
       "      <td>33.3</td>\n",
       "      <td>0</td>\n",
       "      <td>0</td>\n",
       "      <td>147587</td>\n",
       "      <td>140492</td>\n",
       "      <td>30200</td>\n",
       "      <td>108587</td>\n",
       "    </tr>\n",
       "    <tr>\n",
       "      <th>1</th>\n",
       "      <td>2600</td>\n",
       "      <td>36 months</td>\n",
       "      <td>8.99</td>\n",
       "      <td>82.67</td>\n",
       "      <td>Loaner Coordinator</td>\n",
       "      <td>3</td>\n",
       "      <td>RENT</td>\n",
       "      <td>35000.0</td>\n",
       "      <td>Source Verified</td>\n",
       "      <td>01/09/2016</td>\n",
       "      <td>...</td>\n",
       "      <td>0</td>\n",
       "      <td>0</td>\n",
       "      <td>100.0</td>\n",
       "      <td>0.0</td>\n",
       "      <td>0</td>\n",
       "      <td>0</td>\n",
       "      <td>73227</td>\n",
       "      <td>19497</td>\n",
       "      <td>50200</td>\n",
       "      <td>20527</td>\n",
       "    </tr>\n",
       "    <tr>\n",
       "      <th>2</th>\n",
       "      <td>32200</td>\n",
       "      <td>60 months</td>\n",
       "      <td>21.49</td>\n",
       "      <td>880.02</td>\n",
       "      <td>warehouse/supervisor</td>\n",
       "      <td>10</td>\n",
       "      <td>MORTGAGE</td>\n",
       "      <td>65000.0</td>\n",
       "      <td>Not Verified</td>\n",
       "      <td>01/09/2016</td>\n",
       "      <td>...</td>\n",
       "      <td>0</td>\n",
       "      <td>2</td>\n",
       "      <td>100.0</td>\n",
       "      <td>40.0</td>\n",
       "      <td>1</td>\n",
       "      <td>0</td>\n",
       "      <td>199969</td>\n",
       "      <td>24934</td>\n",
       "      <td>13900</td>\n",
       "      <td>15886</td>\n",
       "    </tr>\n",
       "    <tr>\n",
       "      <th>3</th>\n",
       "      <td>10000</td>\n",
       "      <td>36 months</td>\n",
       "      <td>11.49</td>\n",
       "      <td>329.72</td>\n",
       "      <td>Teacher</td>\n",
       "      <td>10</td>\n",
       "      <td>OWN</td>\n",
       "      <td>55900.0</td>\n",
       "      <td>Not Verified</td>\n",
       "      <td>01/09/2016</td>\n",
       "      <td>...</td>\n",
       "      <td>0</td>\n",
       "      <td>6</td>\n",
       "      <td>100.0</td>\n",
       "      <td>66.7</td>\n",
       "      <td>0</td>\n",
       "      <td>0</td>\n",
       "      <td>68831</td>\n",
       "      <td>38085</td>\n",
       "      <td>13500</td>\n",
       "      <td>36431</td>\n",
       "    </tr>\n",
       "  </tbody>\n",
       "</table>\n",
       "<p>4 rows × 90 columns</p>\n",
       "</div>"
      ],
      "text/plain": [
       "   loan_amnt        term  int_rate  installment             emp_title  \\\n",
       "0      15000   36 months     13.99       512.60       Fiscal Director   \n",
       "1       2600   36 months      8.99        82.67    Loaner Coordinator   \n",
       "2      32200   60 months     21.49       880.02  warehouse/supervisor   \n",
       "3      10000   36 months     11.49       329.72               Teacher   \n",
       "\n",
       "   emp_length home_ownership  annual_inc verification_status     issue_d  \\\n",
       "0           2           RENT     55000.0        Not Verified  01/09/2016   \n",
       "1           3           RENT     35000.0     Source Verified  01/09/2016   \n",
       "2          10       MORTGAGE     65000.0        Not Verified  01/09/2016   \n",
       "3          10            OWN     55900.0        Not Verified  01/09/2016   \n",
       "\n",
       "             ...              num_tl_90g_dpd_24m num_tl_op_past_12m  \\\n",
       "0            ...                               0                  5   \n",
       "1            ...                               0                  0   \n",
       "2            ...                               0                  2   \n",
       "3            ...                               0                  6   \n",
       "\n",
       "  pct_tl_nvr_dlq percent_bc_gt_75 pub_rec_bankruptcies tax_liens  \\\n",
       "0          100.0             33.3                    0         0   \n",
       "1          100.0              0.0                    0         0   \n",
       "2          100.0             40.0                    1         0   \n",
       "3          100.0             66.7                    0         0   \n",
       "\n",
       "  tot_hi_cred_lim  total_bal_ex_mort  total_bc_limit  \\\n",
       "0          147587             140492           30200   \n",
       "1           73227              19497           50200   \n",
       "2          199969              24934           13900   \n",
       "3           68831              38085           13500   \n",
       "\n",
       "  total_il_high_credit_limit  \n",
       "0                     108587  \n",
       "1                      20527  \n",
       "2                      15886  \n",
       "3                      36431  \n",
       "\n",
       "[4 rows x 90 columns]"
      ]
     },
     "execution_count": 32,
     "metadata": {},
     "output_type": "execute_result"
    }
   ],
   "source": [
    "data.head(4)"
   ]
  },
  {
   "cell_type": "code",
   "execution_count": 33,
   "metadata": {},
   "outputs": [],
   "source": [
    "target = data['loan_status']"
   ]
  },
  {
   "cell_type": "code",
   "execution_count": 34,
   "metadata": {},
   "outputs": [],
   "source": [
    "data = data.drop(['loan_status'], 1)"
   ]
  },
  {
   "cell_type": "code",
   "execution_count": 41,
   "metadata": {},
   "outputs": [
    {
     "data": {
      "text/html": [
       "<div>\n",
       "<style scoped>\n",
       "    .dataframe tbody tr th:only-of-type {\n",
       "        vertical-align: middle;\n",
       "    }\n",
       "\n",
       "    .dataframe tbody tr th {\n",
       "        vertical-align: top;\n",
       "    }\n",
       "\n",
       "    .dataframe thead th {\n",
       "        text-align: right;\n",
       "    }\n",
       "</style>\n",
       "<table border=\"1\" class=\"dataframe\">\n",
       "  <thead>\n",
       "    <tr style=\"text-align: right;\">\n",
       "      <th></th>\n",
       "      <th>home_ownership</th>\n",
       "      <th>verification_status</th>\n",
       "      <th>issue_d</th>\n",
       "      <th>desc</th>\n",
       "      <th>purpose</th>\n",
       "      <th>title</th>\n",
       "      <th>addr_state</th>\n",
       "      <th>earliest_cr_line</th>\n",
       "      <th>application_type</th>\n",
       "    </tr>\n",
       "  </thead>\n",
       "  <tbody>\n",
       "    <tr>\n",
       "      <th>0</th>\n",
       "      <td>RENT</td>\n",
       "      <td>Not Verified</td>\n",
       "      <td>01/09/2016</td>\n",
       "      <td>NaN</td>\n",
       "      <td>debt_consolidation</td>\n",
       "      <td>Debt consolidation</td>\n",
       "      <td>TN</td>\n",
       "      <td>01/01/1996</td>\n",
       "      <td>INDIVIDUAL</td>\n",
       "    </tr>\n",
       "    <tr>\n",
       "      <th>1</th>\n",
       "      <td>RENT</td>\n",
       "      <td>Source Verified</td>\n",
       "      <td>01/09/2016</td>\n",
       "      <td>NaN</td>\n",
       "      <td>moving</td>\n",
       "      <td>Moving and relocation</td>\n",
       "      <td>OR</td>\n",
       "      <td>01/09/2009</td>\n",
       "      <td>INDIVIDUAL</td>\n",
       "    </tr>\n",
       "    <tr>\n",
       "      <th>2</th>\n",
       "      <td>MORTGAGE</td>\n",
       "      <td>Not Verified</td>\n",
       "      <td>01/09/2016</td>\n",
       "      <td>NaN</td>\n",
       "      <td>credit_card</td>\n",
       "      <td>Credit card refinancing</td>\n",
       "      <td>CA</td>\n",
       "      <td>01/11/1992</td>\n",
       "      <td>INDIVIDUAL</td>\n",
       "    </tr>\n",
       "    <tr>\n",
       "      <th>3</th>\n",
       "      <td>OWN</td>\n",
       "      <td>Not Verified</td>\n",
       "      <td>01/09/2016</td>\n",
       "      <td>NaN</td>\n",
       "      <td>debt_consolidation</td>\n",
       "      <td>Debt consolidation</td>\n",
       "      <td>TX</td>\n",
       "      <td>01/07/1987</td>\n",
       "      <td>INDIVIDUAL</td>\n",
       "    </tr>\n",
       "  </tbody>\n",
       "</table>\n",
       "</div>"
      ],
      "text/plain": [
       "  home_ownership verification_status     issue_d desc             purpose  \\\n",
       "0           RENT        Not Verified  01/09/2016  NaN  debt_consolidation   \n",
       "1           RENT     Source Verified  01/09/2016  NaN              moving   \n",
       "2       MORTGAGE        Not Verified  01/09/2016  NaN         credit_card   \n",
       "3            OWN        Not Verified  01/09/2016  NaN  debt_consolidation   \n",
       "\n",
       "                     title addr_state earliest_cr_line application_type  \n",
       "0       Debt consolidation         TN       01/01/1996       INDIVIDUAL  \n",
       "1    Moving and relocation         OR       01/09/2009       INDIVIDUAL  \n",
       "2  Credit card refinancing         CA       01/11/1992       INDIVIDUAL  \n",
       "3       Debt consolidation         TX       01/07/1987       INDIVIDUAL  "
      ]
     },
     "execution_count": 41,
     "metadata": {},
     "output_type": "execute_result"
    }
   ],
   "source": [
    "data.select_dtypes(include=['object']).iloc[:,0:20].head(4)"
   ]
  },
  {
   "cell_type": "code",
   "execution_count": 36,
   "metadata": {},
   "outputs": [
    {
     "name": "stdout",
     "output_type": "stream",
     "text": [
      "<class 'pandas.core.frame.DataFrame'>\n",
      "RangeIndex: 95210 entries, 0 to 95209\n",
      "Data columns (total 15 columns):\n",
      "term                         95210 non-null object\n",
      "emp_title                    89516 non-null object\n",
      "home_ownership               95210 non-null object\n",
      "verification_status          95210 non-null object\n",
      "issue_d                      95210 non-null object\n",
      "pymnt_plan                   95210 non-null object\n",
      "desc                         6 non-null object\n",
      "purpose                      95210 non-null object\n",
      "title                        90065 non-null object\n",
      "zip_code                     95210 non-null object\n",
      "addr_state                   95210 non-null object\n",
      "earliest_cr_line             95210 non-null object\n",
      "initial_list_status          95210 non-null object\n",
      "application_type             95210 non-null object\n",
      "verification_status_joint    501 non-null object\n",
      "dtypes: object(15)\n",
      "memory usage: 10.9+ MB\n"
     ]
    }
   ],
   "source": [
    "data.select_dtypes(include=['object']).info()"
   ]
  },
  {
   "cell_type": "code",
   "execution_count": 37,
   "metadata": {},
   "outputs": [],
   "source": [
    "## strings\n",
    "# titles\n",
    "senior = ['Manager', 'Director', 'Senior', 'manager', 'Supervisor', 'Lead', 'Sr.', 'Officer', 'Sr',\n",
    "          'supervisor', 'Administrator', 'Management', 'Executive', 'VP', 'Vice', 'President', 'Chief',\n",
    "          'director', 'Admin', 'Administrative', 'Director,' 'MANAGER', 'lead', 'officer', 'Leader',\n",
    "          'Manager,', 'Mgr', 'Head', 'associate', 'Associate', 'leader', 'Partner', 'Manger',\n",
    "          'SR']\n",
    "middle = ['Coordinator', 'Operations', 'Consultant', 'operator', 'Operator', 'consultant',\n",
    "          'Representative', 'coordinator', 'Advisor',  'Counselor', 'Instructor', 'District', 'Architect',\n",
    "          'Planner', 'Technologist', 'Master', 'Therapist', 'therapist', 'Professor', 'Investigator',\n",
    "          'Coach']\n",
    "junior = ['Specialist', 'Analyst', 'Assistant', 'Sales', 'Engineer', 'Technician', 'Support', 'specialist',\n",
    "          'Account', 'service', 'technician', 'Clerk', 'Nurse', 'assistant', 'Maintenance', 'driver', 'Driver',\n",
    "          'clerk', 'Client', 'Staff', 'Worker', 'HR', 'Teacher', 'Designer', 'nurse', 'worker', 'Accountant',\n",
    "          'Inspector', 'agent', 'teacher', 'Member', 'Trainer', 'Secretary', 'Auditor', 'Sergeant', 'Processor',\n",
    "          'customer', 'SPECIALIST', 'Banker', 'Student', 'ASSISTANT']\n",
    "\n",
    "def replace_titles(title):\n",
    "    \"\"\" Replacing all titles with 3, 2, 1, 0.\"\"\"\n",
    "    x = str(title['emp_title'])\n",
    "    x = x.split()\n",
    "    if any(i in senior for i in x):\n",
    "        return 3\n",
    "    elif any(i in middle for i in x):\n",
    "        return 2\n",
    "    elif any(i in junior for i in x):\n",
    "        return 1\n",
    "    else:\n",
    "        return 0\n",
    "\n",
    "def makeString(dataframe):\n",
    "    \"\"\" Convert strings to numbers.\"\"\"\n",
    "    dataframe['term'] = dataframe['term'].map(\n",
    "        {' 36 months': 0, ' 60 months': 1})\n",
    "    dataframe['zip_code'] = dataframe['zip_code'].str.strip('xx').astype(int)\n",
    "    dataframe['emp_title'] = pd.DataFrame(\n",
    "        dataframe['emp_title']).apply(replace_titles, axis=1)\n",
    "    dataframe['pymnt_plan'] = dataframe['pymnt_plan'].map({'n': 0, 'y': 1})\n",
    "    dataframe['initial_list_status'] = dataframe[\n",
    "        'initial_list_status'].map({'f': 0, 'w': 1})\n",
    "    dataframe['verification_status_joint'] = dataframe[\n",
    "        'verification_status_joint'].map({'nan': 0, 'Not Verified': 1})\n",
    "    return None\n",
    "\n",
    "\n",
    "## categories\n",
    "cates = ['home_ownership', 'verification_status',\n",
    "         'purpose', 'addr_state', 'title', 'application_type']\n",
    "\n",
    "def makeDummy(dataframe):\n",
    "    \"\"\" Convert categories to dummies. \"\"\"\n",
    "    features = pd.DataFrame()\n",
    "    for cate in cates:\n",
    "        features = pd.get_dummies(dataframe[cate])\n",
    "        dataframe = dataframe.join(features)\n",
    "        dataframe = dataframe.drop([cate], 1)\n",
    "    dataframe[DateTime] = dataframe[DateTime].apply(date2delta, axis=0)\n",
    "    return None\n",
    "\n",
    "# datetime\n",
    "DateTime = ['issue_d']\n",
    "\n",
    "def date2delta(time):\n",
    "    date = pd.to_datetime(time)\n",
    "    delta = date - date.min()\n",
    "    return delta.dt.days"
   ]
  },
  {
   "cell_type": "code",
   "execution_count": 39,
   "metadata": {},
   "outputs": [],
   "source": [
    "makeString(data)\n",
    "makeDummy(data)"
   ]
  },
  {
   "cell_type": "code",
   "execution_count": 44,
   "metadata": {},
   "outputs": [],
   "source": [
    "    data['term'] = data['term'].map(\n",
    "        {' 36 months': 0, ' 60 months': 1})\n",
    "    data['emp_title'] = pd.DataFrame(\n",
    "        data['emp_title']).apply(replace_titles, axis=1)\n",
    "    data['pymnt_plan'] = data['pymnt_plan'].map({'n': 0, 'y': 1})\n",
    "    data['initial_list_status'] = data[\n",
    "        'initial_list_status'].map({'f': 0, 'w': 1})\n",
    "    data['verification_status_joint'] = data[\n",
    "        'verification_status_joint'].map({'nan': 0, 'Not Verified': 1})"
   ]
  },
  {
   "cell_type": "code",
   "execution_count": 48,
   "metadata": {},
   "outputs": [],
   "source": [
    "#data['zip_code'] = data['zip_code'].strip('xx').astype(int)\n",
    "makeDummy(data)"
   ]
  },
  {
   "cell_type": "code",
   "execution_count": null,
   "metadata": {},
   "outputs": [],
   "source": []
  },
  {
   "cell_type": "code",
   "execution_count": 49,
   "metadata": {},
   "outputs": [
    {
     "name": "stdout",
     "output_type": "stream",
     "text": [
      "<class 'pandas.core.frame.DataFrame'>\n",
      "RangeIndex: 95210 entries, 0 to 95209\n",
      "Data columns (total 9 columns):\n",
      "home_ownership         95210 non-null object\n",
      "verification_status    95210 non-null object\n",
      "issue_d                95210 non-null object\n",
      "desc                   6 non-null object\n",
      "purpose                95210 non-null object\n",
      "title                  90065 non-null object\n",
      "addr_state             95210 non-null object\n",
      "earliest_cr_line       95210 non-null object\n",
      "application_type       95210 non-null object\n",
      "dtypes: object(9)\n",
      "memory usage: 6.5+ MB\n"
     ]
    }
   ],
   "source": [
    "data.select_dtypes(include=['object']).info()"
   ]
  },
  {
   "cell_type": "code",
   "execution_count": null,
   "metadata": {},
   "outputs": [],
   "source": []
  },
  {
   "cell_type": "markdown",
   "metadata": {},
   "source": [
    "### Strings"
   ]
  },
  {
   "cell_type": "code",
   "execution_count": 9,
   "metadata": {},
   "outputs": [
    {
     "data": {
      "text/plain": [
       "array([' 36 months', ' 60 months'], dtype=object)"
      ]
     },
     "execution_count": 9,
     "metadata": {},
     "output_type": "execute_result"
    }
   ],
   "source": [
    "data.term.unique()\n",
    "#data.iloc[:,3].unique()"
   ]
  },
  {
   "cell_type": "code",
   "execution_count": 17,
   "metadata": {},
   "outputs": [],
   "source": [
    "data['term'] = data['term'].map({' 36 months': 0, ' 60 months': 1})"
   ]
  },
  {
   "cell_type": "code",
   "execution_count": 11,
   "metadata": {},
   "outputs": [],
   "source": [
    "#data['int_rate'] = data['int_rate'].str.strip('%').astype(float)"
   ]
  },
  {
   "cell_type": "code",
   "execution_count": 12,
   "metadata": {},
   "outputs": [],
   "source": [
    "#data['revol_util'] = data['revol_util'].str.strip('%').astype(float)"
   ]
  },
  {
   "cell_type": "code",
   "execution_count": 13,
   "metadata": {},
   "outputs": [
    {
     "data": {
      "text/plain": [
       "array(['2 years', '3 years', '10+ years', '5 years', nan, '4 years',\n",
       "       '7 years', '8 years', '9 years', '1 year', '6 years', '< 1 year'], dtype=object)"
      ]
     },
     "execution_count": 13,
     "metadata": {},
     "output_type": "execute_result"
    }
   ],
   "source": [
    "data['emp_length'].unique()"
   ]
  },
  {
   "cell_type": "code",
   "execution_count": 14,
   "metadata": {},
   "outputs": [],
   "source": [
    "empl = data['emp_length']"
   ]
  },
  {
   "cell_type": "code",
   "execution_count": 15,
   "metadata": {},
   "outputs": [
    {
     "data": {
      "text/plain": [
       "array(['2 years', '3 years', '10+ years', '5 years', nan, '4 years',\n",
       "       '7 years', '8 years', '9 years', '1 year', '6 years', '< 1 year'], dtype=object)"
      ]
     },
     "execution_count": 15,
     "metadata": {},
     "output_type": "execute_result"
    }
   ],
   "source": [
    "empl.unique()"
   ]
  },
  {
   "cell_type": "code",
   "execution_count": 16,
   "metadata": {},
   "outputs": [
    {
     "name": "stderr",
     "output_type": "stream",
     "text": [
      "/Library/Frameworks/Python.framework/Versions/3.6/lib/python3.6/site-packages/ipykernel_launcher.py:1: FutureWarning: currently extract(expand=None) means expand=False (return Index/Series/DataFrame) but in a future version of pandas this will be changed to expand=True (return DataFrame)\n",
      "  \"\"\"Entry point for launching an IPython kernel.\n"
     ]
    }
   ],
   "source": [
    "empl = empl.str.extract('(\\d+)').astype(float)"
   ]
  },
  {
   "cell_type": "code",
   "execution_count": 17,
   "metadata": {},
   "outputs": [
    {
     "name": "stderr",
     "output_type": "stream",
     "text": [
      "/Library/Frameworks/Python.framework/Versions/3.6/lib/python3.6/site-packages/ipykernel_launcher.py:1: FutureWarning: currently extract(expand=None) means expand=False (return Index/Series/DataFrame) but in a future version of pandas this will be changed to expand=True (return DataFrame)\n",
      "  \"\"\"Entry point for launching an IPython kernel.\n"
     ]
    }
   ],
   "source": [
    "data['emp_length'] = data['emp_length'].str.extract('(\\d+)').astype(float)"
   ]
  },
  {
   "cell_type": "code",
   "execution_count": 18,
   "metadata": {},
   "outputs": [],
   "source": [
    "#data['zip_code'].unique()"
   ]
  },
  {
   "cell_type": "code",
   "execution_count": 19,
   "metadata": {},
   "outputs": [],
   "source": [
    "data['zip_code'] = data['zip_code'].str.strip('xx').astype(int)"
   ]
  },
  {
   "cell_type": "code",
   "execution_count": 20,
   "metadata": {},
   "outputs": [
    {
     "data": {
      "text/plain": [
       "Teacher             1851\n",
       "Manager             1626\n",
       "Owner                957\n",
       "Supervisor           756\n",
       "Registered Nurse     727\n",
       "Name: emp_title, dtype: int64"
      ]
     },
     "execution_count": 20,
     "metadata": {},
     "output_type": "execute_result"
    }
   ],
   "source": [
    "v = data['emp_title'].value_counts()\n",
    "\n",
    "v.head()"
   ]
  },
  {
   "cell_type": "code",
   "execution_count": 80,
   "metadata": {},
   "outputs": [
    {
     "data": {
      "text/plain": [
       "Administrator         121\n",
       "Teacher               121\n",
       "Professor             120\n",
       "Account Executive     120\n",
       "Executive Director    116\n",
       "Name: emp_title, dtype: int64"
      ]
     },
     "execution_count": 80,
     "metadata": {},
     "output_type": "execute_result"
    }
   ],
   "source": [
    "v.nlargest(60).tail()"
   ]
  },
  {
   "cell_type": "code",
   "execution_count": 87,
   "metadata": {},
   "outputs": [],
   "source": [
    "titles = v.index.astype(list)"
   ]
  },
  {
   "cell_type": "code",
   "execution_count": 91,
   "metadata": {},
   "outputs": [],
   "source": [
    "splite_titles = [words for segments in titles for words in segments.split()]"
   ]
  },
  {
   "cell_type": "code",
   "execution_count": 99,
   "metadata": {},
   "outputs": [
    {
     "data": {
      "text/plain": [
       "90858"
      ]
     },
     "execution_count": 99,
     "metadata": {},
     "output_type": "execute_result"
    }
   ],
   "source": [
    "len(splite_titles)"
   ]
  },
  {
   "cell_type": "code",
   "execution_count": 98,
   "metadata": {},
   "outputs": [],
   "source": [
    "title_dict = dict((i, splite_titles.count(i)) for i in splite_titles)"
   ]
  },
  {
   "cell_type": "code",
   "execution_count": 105,
   "metadata": {},
   "outputs": [],
   "source": [
    "import operator\n",
    "\n",
    "sorted_title = sorted(title_dict.items(), key=operator.itemgetter(1), reverse=True)"
   ]
  },
  {
   "cell_type": "code",
   "execution_count": 106,
   "metadata": {},
   "outputs": [
    {
     "data": {
      "text/plain": [
       "[('Manager', 2787),\n",
       " ('Director', 1459),\n",
       " ('Specialist', 1345),\n",
       " ('Senior', 1276),\n",
       " ('of', 1214),\n",
       " ('manager', 965),\n",
       " ('Analyst', 927),\n",
       " ('Assistant', 900),\n",
       " ('Sales', 785),\n",
       " ('Coordinator', 778),\n",
       " ('Supervisor', 710),\n",
       " ('Engineer', 669),\n",
       " ('Lead', 662),\n",
       " ('Technician', 616),\n",
       " ('Service', 608),\n",
       " ('and', 608),\n",
       " ('Sr.', 574),\n",
       " ('Operations', 543),\n",
       " ('Associate', 515),\n",
       " ('Officer', 494),\n",
       " ('Tech', 484),\n",
       " ('Services', 469),\n",
       " ('Support', 464),\n",
       " ('Business', 461),\n",
       " ('&', 404),\n",
       " ('Sr', 403),\n",
       " ('tech', 398),\n",
       " ('II', 391),\n",
       " ('Consultant', 389),\n",
       " ('specialist', 373),\n",
       " ('IT', 364),\n",
       " ('supervisor', 328),\n",
       " ('operator', 319),\n",
       " ('Project', 306),\n",
       " ('Customer', 304),\n",
       " ('Administrator', 297),\n",
       " ('Operator', 294),\n",
       " ('Management', 287),\n",
       " ('Account', 284),\n",
       " ('Executive', 282),\n",
       " ('service', 278),\n",
       " ('technician', 275),\n",
       " ('Program', 269),\n",
       " ('Clerk', 266),\n",
       " ('Systems', 262),\n",
       " ('Nurse', 259),\n",
       " ('Development', 248),\n",
       " ('Office', 247),\n",
       " ('VP', 247),\n",
       " ('Technical', 244),\n",
       " ('Clinical', 243),\n",
       " ('Vice', 241),\n",
       " ('Medical', 241),\n",
       " ('assistant', 241),\n",
       " ('/', 238),\n",
       " ('sales', 237),\n",
       " ('Representative', 231),\n",
       " ('Marketing', 230),\n",
       " ('-', 230),\n",
       " ('Financial', 228),\n",
       " ('President', 226),\n",
       " ('coordinator', 221),\n",
       " ('Field', 217),\n",
       " ('Quality', 216),\n",
       " ('Security', 213),\n",
       " ('Team', 211),\n",
       " ('Regional', 205),\n",
       " ('Chief', 204),\n",
       " ('Production', 200),\n",
       " ('III', 197),\n",
       " ('Maintenance', 195),\n",
       " ('Health', 194),\n",
       " ('director', 190),\n",
       " ('driver', 189),\n",
       " ('Driver', 187),\n",
       " ('Admin', 186),\n",
       " ('Care', 180),\n",
       " ('General', 179),\n",
       " ('Administrative', 178),\n",
       " ('Director,', 173),\n",
       " ('clerk', 170),\n",
       " ('Client', 170),\n",
       " ('engineer', 168),\n",
       " ('2', 168),\n",
       " ('Agent', 167),\n",
       " ('Data', 167),\n",
       " ('Rep', 162),\n",
       " ('Staff', 160),\n",
       " ('analyst', 158),\n",
       " ('MANAGER', 157),\n",
       " ('lead', 152),\n",
       " ('officer', 149),\n",
       " ('Worker', 149),\n",
       " ('Product', 147),\n",
       " ('Leader', 146),\n",
       " ('Loan', 146),\n",
       " ('HR', 143),\n",
       " ('Engineering', 143),\n",
       " ('Teacher', 142),\n",
       " ('Control', 142),\n",
       " ('Manager,', 141),\n",
       " ('Compliance', 140),\n",
       " ('Research', 139),\n",
       " ('Human', 137),\n",
       " ('Mgr', 136),\n",
       " ('Head', 134),\n",
       " ('Advisor', 133),\n",
       " ('Designer', 133),\n",
       " ('Claims', 133),\n",
       " ('System', 131),\n",
       " ('RN', 130),\n",
       " ('Software', 130),\n",
       " ('Network', 129),\n",
       " ('Finance', 128),\n",
       " ('Information', 125),\n",
       " ('Patient', 124),\n",
       " ('support', 123),\n",
       " ('Accounting', 120),\n",
       " ('Safety', 120),\n",
       " ('associate', 119),\n",
       " ('Professional', 119),\n",
       " ('Counselor', 118),\n",
       " ('Technology', 116),\n",
       " ('Asst', 112),\n",
       " ('Commercial', 112),\n",
       " ('nurse', 111),\n",
       " ('Deputy', 109),\n",
       " ('worker', 109),\n",
       " ('Registered', 108),\n",
       " ('Developer', 108),\n",
       " ('Center', 108),\n",
       " ('3', 108),\n",
       " ('Principal', 107),\n",
       " ('mechanic', 107),\n",
       " ('Training', 107),\n",
       " ('rep', 105),\n",
       " ('Process', 105),\n",
       " ('Certified', 105),\n",
       " ('Global', 105),\n",
       " ('Mechanic', 104),\n",
       " ('Special', 101),\n",
       " ('Insurance', 100),\n",
       " ('Tax', 100),\n",
       " ('1', 100),\n",
       " ('Warehouse', 98),\n",
       " ('consultant', 97),\n",
       " ('Social', 96),\n",
       " ('Supply', 96),\n",
       " ('Accountant', 95),\n",
       " ('Corporate', 95),\n",
       " ('Accounts', 94),\n",
       " ('operations', 94),\n",
       " ('senior', 94),\n",
       " ('Police', 93),\n",
       " ('Inspector', 93),\n",
       " ('Retail', 93),\n",
       " ('care', 93),\n",
       " ('services', 91),\n",
       " ('School', 90),\n",
       " ('Case', 89),\n",
       " ('Relations', 89),\n",
       " ('Community', 87),\n",
       " ('Department', 86),\n",
       " ('Application', 86),\n",
       " ('Asst.', 86),\n",
       " ('Instructor', 85),\n",
       " ('Lab', 84),\n",
       " ('I', 84),\n",
       " ('District', 83),\n",
       " ('Administration', 83),\n",
       " ('Architect', 83),\n",
       " ('Credit', 83),\n",
       " ('Risk', 83),\n",
       " ('Planner', 82),\n",
       " ('Mortgage', 82),\n",
       " ('agent', 82),\n",
       " ('Nursing', 81),\n",
       " ('Branch', 80),\n",
       " ('Pharmacy', 80),\n",
       " ('Logistics', 80),\n",
       " ('Billing', 80),\n",
       " ('Resources', 78),\n",
       " ('Design', 78),\n",
       " ('Home', 77),\n",
       " ('Owner', 76),\n",
       " ('Foreman', 76),\n",
       " ('Computer', 76),\n",
       " ('Education', 75),\n",
       " ('Digital', 75),\n",
       " ('Technologist', 74),\n",
       " ('Communications', 74),\n",
       " ('maintenance', 73),\n",
       " ('leader', 73),\n",
       " ('Legal', 72),\n",
       " ('Payroll', 72),\n",
       " ('Coach', 72),\n",
       " ('Food', 72),\n",
       " ('Licensed', 71),\n",
       " ('teacher', 70),\n",
       " ('Front', 70),\n",
       " ('Public', 70),\n",
       " ('Superintendent', 68),\n",
       " ('Property', 68),\n",
       " ('Member', 68),\n",
       " ('representative', 68),\n",
       " ('Inventory', 67),\n",
       " ('QA', 67),\n",
       " ('Master', 67),\n",
       " ('Therapist', 66),\n",
       " ('Area', 66),\n",
       " ('Construction', 66),\n",
       " ('Facilities', 66),\n",
       " ('Trainer', 65),\n",
       " ('National', 65),\n",
       " ('Fire', 65),\n",
       " ('Group', 65),\n",
       " ('Programmer', 64),\n",
       " ('Plant', 64),\n",
       " ('Contract', 64),\n",
       " ('Transportation', 64),\n",
       " ('Solutions', 64),\n",
       " ('Attorney', 63),\n",
       " ('Truck', 63),\n",
       " ('Secretary', 63),\n",
       " ('Auditor', 63),\n",
       " ('Personal', 63),\n",
       " ('Electrical', 63),\n",
       " ('Aide', 63),\n",
       " ('Material', 61),\n",
       " ('Equipment', 61),\n",
       " ('Ops', 61),\n",
       " ('Desk', 60),\n",
       " ('Sergeant', 59),\n",
       " ('office', 59),\n",
       " ('Processor', 59),\n",
       " ('Line', 59),\n",
       " ('Planning', 58),\n",
       " ('Store', 57),\n",
       " ('Underwriter', 57),\n",
       " ('Division', 57),\n",
       " ('mgr', 57),\n",
       " ('IV', 57),\n",
       " ('customer', 56),\n",
       " ('Market', 56),\n",
       " ('Unit', 56),\n",
       " ('technologist', 56),\n",
       " ('SPECIALIST', 56),\n",
       " ('Banker', 55),\n",
       " ('Parts', 55),\n",
       " ('therapist', 55),\n",
       " ('health', 55),\n",
       " ('Strategic', 55),\n",
       " ('Partner', 54),\n",
       " ('Dental', 54),\n",
       " ('management', 54),\n",
       " ('Resource', 54),\n",
       " ('Examiner', 54),\n",
       " ('Processing', 54),\n",
       " ('Manger', 54),\n",
       " ('control', 54),\n",
       " ('Controller', 53),\n",
       " ('Shift', 53),\n",
       " ('Scientist', 52),\n",
       " ('Operation', 52),\n",
       " ('Test', 52),\n",
       " ('Auto', 52),\n",
       " ('Family', 52),\n",
       " ('Delivery', 51),\n",
       " ('foreman', 51),\n",
       " ('Web', 51),\n",
       " ('medical', 51),\n",
       " ('Manufacturing', 51),\n",
       " ('account', 51),\n",
       " ('Aid', 51),\n",
       " ('administrator', 51),\n",
       " ('Physician', 50),\n",
       " ('Purchasing', 50),\n",
       " ('Revenue', 50),\n",
       " ('Records', 50),\n",
       " ('Machine', 49),\n",
       " ('Assurance', 49),\n",
       " ('Surgical', 49),\n",
       " ('Environmental', 48),\n",
       " ('Real', 48),\n",
       " ('SR', 48),\n",
       " ('production', 47),\n",
       " ('team', 47),\n",
       " ('Laboratory', 47),\n",
       " ('Student', 47),\n",
       " ('Shipping', 46),\n",
       " ('Database', 46),\n",
       " ('Benefits', 46),\n",
       " ('Court', 46),\n",
       " ('SALES', 45),\n",
       " ('Provider', 45),\n",
       " ('inspector', 45),\n",
       " ('Chef', 44),\n",
       " ('Asset', 44),\n",
       " ('ASSISTANT', 44),\n",
       " ('Talent', 44),\n",
       " ('Professor', 43),\n",
       " ('Investigator', 43),\n",
       " ('Site', 43),\n",
       " ('business', 43),\n",
       " ('SENIOR', 43),\n",
       " ('TECH', 43),\n",
       " ('owner', 42),\n",
       " ('Correctional', 42),\n",
       " ('Managing', 42),\n",
       " ('Attendant', 42),\n",
       " ('Bus', 42),\n",
       " ('Chain', 42),\n",
       " ('Counsel', 42),\n",
       " ('Route', 42),\n",
       " ('Estate', 42),\n",
       " ('Media', 42),\n",
       " ('VP,', 42),\n",
       " ('Physical', 41),\n",
       " ('SUPERVISOR', 41),\n",
       " ('AVP', 41),\n",
       " ('Academic', 41),\n",
       " ('Building', 41),\n",
       " ('Direct', 41),\n",
       " ('Distribution', 41),\n",
       " ('Enterprise', 41),\n",
       " ('International', 41),\n",
       " ('Relationship', 40),\n",
       " ('aide', 40),\n",
       " ('Investment', 40),\n",
       " ('staff', 40),\n",
       " ('to', 40),\n",
       " ('Emergency', 40),\n",
       " ('project', 39),\n",
       " ('Practice', 39),\n",
       " ('SVP', 39),\n",
       " ('Charge', 39),\n",
       " ('City', 39),\n",
       " ('Facility', 39),\n",
       " ('Audit', 39),\n",
       " ('Procurement', 39),\n",
       " ('Protection', 39),\n",
       " ('Experience', 39),\n",
       " ('Applications', 39),\n",
       " ('Order', 39),\n",
       " ('Child', 39),\n",
       " ('Supervisory', 39),\n",
       " ('Room', 39),\n",
       " ('Producer', 38),\n",
       " ('warehouse', 38),\n",
       " ('security', 38),\n",
       " ('Journeyman', 38),\n",
       " ('OFFICER', 38),\n",
       " ('Contracts', 38),\n",
       " ('advisor', 38),\n",
       " ('Night', 38),\n",
       " ('executive', 38),\n",
       " ('Dept', 38),\n",
       " ('in', 38),\n",
       " ('Analysis', 38),\n",
       " ('Dispatcher', 37),\n",
       " ('Adjuster', 37),\n",
       " ('Traffic', 37),\n",
       " ('DIRECTOR', 37),\n",
       " ('Receiving', 37),\n",
       " ('Inside', 36),\n",
       " ('Creative', 36),\n",
       " ('Mechanical', 36),\n",
       " ('Assembly', 36),\n",
       " ('Materials', 36),\n",
       " ('Mental', 36),\n",
       " ('Programs', 36),\n",
       " ('Mgr.', 36),\n",
       " ('New', 36),\n",
       " ('Payable', 35),\n",
       " ('Events', 35),\n",
       " ('Claim', 35),\n",
       " ('Car', 35),\n",
       " ('truck', 34),\n",
       " ('Buyer', 34),\n",
       " ('Mail', 34),\n",
       " ('attendant', 34),\n",
       " ('Fleet', 34),\n",
       " ('Shop', 34),\n",
       " ('counselor', 34),\n",
       " ('House', 34),\n",
       " ('TECHNICIAN', 34),\n",
       " ('Utility', 34),\n",
       " ('Liaison', 34),\n",
       " ('Content', 34),\n",
       " ('Flight', 33),\n",
       " ('Handler', 33),\n",
       " ('Crew', 33),\n",
       " ('SERVICE', 33),\n",
       " ('Floor', 33),\n",
       " ('Admissions', 33),\n",
       " ('Guest', 33),\n",
       " ('Personnel', 33),\n",
       " ('development', 33),\n",
       " ('clinical', 33),\n",
       " ('Learning', 33),\n",
       " ('for', 33),\n",
       " ('President,', 33),\n",
       " ('Electrician', 32),\n",
       " ('handler', 32),\n",
       " ('Resident', 32),\n",
       " ('Nuclear', 32),\n",
       " ('Internal', 32),\n",
       " ('designer', 32),\n",
       " ('Residential', 32),\n",
       " ('safety', 32),\n",
       " ('Paralegal', 31),\n",
       " ('Server', 31),\n",
       " ('Captain', 31),\n",
       " ('Carrier', 31),\n",
       " ('Occupational', 31),\n",
       " ('Portfolio', 31),\n",
       " ('banker', 31),\n",
       " ('Electronic', 31),\n",
       " ('Dean', 31),\n",
       " ('State', 31),\n",
       " ('A', 31),\n",
       " ('man', 31),\n",
       " ('Full', 31),\n",
       " ('Affairs', 31),\n",
       " ('Event', 31),\n",
       " ('ANALYST', 31),\n",
       " ('Consumer', 31),\n",
       " ('Prevention', 31),\n",
       " ('Recruiter', 30),\n",
       " ('Graphic', 30),\n",
       " ('store', 30),\n",
       " ('Aircraft', 30),\n",
       " ('Broker', 30),\n",
       " ('Writer', 30),\n",
       " ('admin', 30),\n",
       " ('loan', 30),\n",
       " ('processor', 30),\n",
       " ('Union', 30),\n",
       " ('Lending', 30),\n",
       " ('Travel', 30),\n",
       " ('Assitant', 30),\n",
       " ('chief', 30),\n",
       " ('Consulting', 30),\n",
       " ('Access', 30),\n",
       " ('head', 30),\n",
       " ('the', 30),\n",
       " ('COORDINATOR', 30),\n",
       " ('asst', 30),\n",
       " ('Scheduler', 29),\n",
       " ('Infrastructure', 29),\n",
       " ('Industrial', 29),\n",
       " ('Employee', 29),\n",
       " ('Library', 29),\n",
       " ('Section', 29),\n",
       " ('Benefit', 29),\n",
       " ('Cash', 29),\n",
       " ('Respiratory', 28),\n",
       " ('DRIVER', 28),\n",
       " ('Editor', 28),\n",
       " ('Implementation', 28),\n",
       " ('Private', 28),\n",
       " ('shop', 28),\n",
       " ('OPERATOR', 28),\n",
       " ('HVAC', 28),\n",
       " ('Solution', 28),\n",
       " ('shift', 28),\n",
       " ('Expert', 28),\n",
       " ('Therapy', 28),\n",
       " ('field', 28),\n",
       " ('line', 28),\n",
       " ('Performance', 28),\n",
       " ('systems', 28),\n",
       " ('professional', 28),\n",
       " ('Banking', 28),\n",
       " ('SR.', 28),\n",
       " ('Teller', 27),\n",
       " ('general', 27),\n",
       " ('electrician', 27),\n",
       " ('Labor', 27),\n",
       " ('Budget', 27),\n",
       " ('NURSE', 27),\n",
       " ('Electronics', 27),\n",
       " ('Instructional', 27),\n",
       " ('Operating', 27),\n",
       " ('installer', 27),\n",
       " ('Of', 27),\n",
       " ('Desktop', 27),\n",
       " ('Radiology', 27),\n",
       " ('Merchandise', 27),\n",
       " ('plant', 27),\n",
       " ('Outreach', 27),\n",
       " ('Regulatory', 27),\n",
       " ('Tech.', 27),\n",
       " ('Loss', 27),\n",
       " ('Mobile', 27),\n",
       " ('Water', 27),\n",
       " ('Enrollment', 27),\n",
       " ('Pastor', 26),\n",
       " ('carrier', 26),\n",
       " ('Dealer', 26),\n",
       " ('chef', 26),\n",
       " ('Speech', 26),\n",
       " ('Air', 26),\n",
       " ('marketing', 26),\n",
       " ('Underwriting', 26),\n",
       " ('Reporting', 26),\n",
       " ('Document', 26),\n",
       " ('End', 26),\n",
       " ('planner', 26),\n",
       " ('Supervising', 26),\n",
       " ('president', 25),\n",
       " ('Probation', 25),\n",
       " ('case', 25),\n",
       " ('equipment', 25),\n",
       " ('Leasing', 25),\n",
       " ('Eligibility', 25),\n",
       " ('Treasury', 25),\n",
       " ('Advocate', 25),\n",
       " ('Controls', 25),\n",
       " ('manger', 25),\n",
       " ('QC', 25),\n",
       " ('Telecom', 25),\n",
       " ('member', 25),\n",
       " ('Youth', 25),\n",
       " ('Pricing', 25),\n",
       " ('sr', 25),\n",
       " ('provider', 25),\n",
       " ('Work', 25),\n",
       " ('LEAD', 25),\n",
       " ('Territory', 24),\n",
       " ('cook', 24),\n",
       " ('Faculty', 24),\n",
       " ('Heavy', 24),\n",
       " ('superintendent', 24),\n",
       " ('software', 24),\n",
       " ('secretary', 24),\n",
       " ('dealer', 24),\n",
       " ('financial', 24),\n",
       " ('lab', 24),\n",
       " ('CNC', 24),\n",
       " ('Meat', 24),\n",
       " ('adjuster', 24),\n",
       " ('Law', 24),\n",
       " ('Catering', 24),\n",
       " ('Integration', 24),\n",
       " ('Acquisition', 24),\n",
       " ('Projects', 24),\n",
       " ('Advanced', 24),\n",
       " ('Recovery', 24),\n",
       " ('Review', 24),\n",
       " ('Level', 24),\n",
       " ('Welder', 23),\n",
       " ('CSR', 23),\n",
       " ('machine', 23),\n",
       " ('machinist', 23),\n",
       " ('accountant', 23),\n",
       " ('Civil', 23),\n",
       " ('Coder', 23),\n",
       " ('Dispatch', 23),\n",
       " ('Federal', 23),\n",
       " ('program', 23),\n",
       " ('Policy', 23),\n",
       " ('trainer', 23),\n",
       " ('AP', 23),\n",
       " ('Improvement', 23),\n",
       " ('Title', 23),\n",
       " ('Admin.', 23),\n",
       " ('claims', 23),\n",
       " ('Casino', 23),\n",
       " ('MGR', 23),\n",
       " ('4', 23),\n",
       " ('Sale', 23),\n",
       " ('Corrections', 22),\n",
       " ('Forman', 22),\n",
       " ('Kitchen', 22),\n",
       " ('Banquet', 22),\n",
       " ('Military', 22),\n",
       " ('Class', 22),\n",
       " ('assembly', 22),\n",
       " ('nursing', 22),\n",
       " ('Collections', 22),\n",
       " ('Help', 22),\n",
       " ('Trust', 22),\n",
       " ('Behavior', 22),\n",
       " ('Exec', 22),\n",
       " ('instructor', 22),\n",
       " ('Repair', 22),\n",
       " ('Psychiatric', 22),\n",
       " ('Analytics', 22),\n",
       " ('time', 22),\n",
       " ('Vehicle', 22),\n",
       " ('aid', 22),\n",
       " ('Strategy', 22),\n",
       " ('Fiscal', 22),\n",
       " ('2nd', 22),\n",
       " ('system', 22),\n",
       " ('Assembler', 21),\n",
       " ('Estimator', 21),\n",
       " ('OFFICE', 21),\n",
       " ('Lieutenant', 21),\n",
       " ('Chemist', 21),\n",
       " ('developer', 21),\n",
       " ('department', 21),\n",
       " ('Automation', 21),\n",
       " ('Assist', 21),\n",
       " ('Bank', 21),\n",
       " ('Dept.', 21),\n",
       " ('Assistance', 21),\n",
       " ('Enforcement', 21),\n",
       " ('Principle', 21),\n",
       " ('home', 21),\n",
       " ('Artist', 21),\n",
       " ('Body', 21),\n",
       " ('desk', 21),\n",
       " ('accounts', 21),\n",
       " ('Career', 21),\n",
       " ('parts', 21),\n",
       " ('Collection', 21),\n",
       " ('Energy', 21),\n",
       " ('Visual', 21),\n",
       " ('RN,', 21),\n",
       " ('Mgmt', 21),\n",
       " ('Retirement', 21),\n",
       " ('tech.', 21),\n",
       " ('Pilot', 20),\n",
       " ('Educator', 20),\n",
       " ('welder', 20),\n",
       " ('Installer', 20),\n",
       " ('Patrol', 20),\n",
       " ('dispatcher', 20),\n",
       " ('CLERK', 20),\n",
       " ('Intelligence', 20),\n",
       " ('auditor', 20),\n",
       " ('Grocery', 20),\n",
       " ('It', 20),\n",
       " ('Engagement', 20),\n",
       " ('food', 20),\n",
       " ('Fraud', 20),\n",
       " ('Cyber', 20),\n",
       " ('Facilitator', 20),\n",
       " ('Intake', 20),\n",
       " ('Imaging', 20),\n",
       " ('Compensation', 20),\n",
       " ('quality', 20),\n",
       " ('room', 20),\n",
       " ('Healthcare', 20),\n",
       " ('Surgery', 20),\n",
       " ('assistance', 20),\n",
       " ('Trade', 20),\n",
       " ('center', 20),\n",
       " ('OF', 20),\n",
       " ('Government', 20),\n",
       " ('Life', 20),\n",
       " ('Bookkeeper', 19),\n",
       " ('Paramedic', 19),\n",
       " ('Librarian', 19),\n",
       " ('accounting', 19),\n",
       " ('Recruiting', 19),\n",
       " ('Outside', 19),\n",
       " ('Medicine', 19),\n",
       " ('CUSTOMER', 19),\n",
       " ('ENGINEER', 19),\n",
       " ('Table', 19),\n",
       " ('Call', 19),\n",
       " ('Sourcing', 19),\n",
       " ('shipping', 19),\n",
       " ('maker', 19),\n",
       " ('Litigation', 19),\n",
       " ('Housing', 19),\n",
       " ('NCO', 19),\n",
       " ('Junior', 19),\n",
       " ('Rehab', 19),\n",
       " ('User', 19),\n",
       " ('design', 19),\n",
       " ('Spec', 19),\n",
       " ('R&D', 19),\n",
       " ('Practitioner', 18),\n",
       " ('Correction', 18),\n",
       " ('police', 18),\n",
       " ('Housekeeping', 18),\n",
       " ('Registrar', 18),\n",
       " ('Guard', 18),\n",
       " ('Contractor', 18),\n",
       " ('vice', 18),\n",
       " ('First', 18),\n",
       " ('Appraiser', 18),\n",
       " ('Key', 18),\n",
       " ('OPERATIONS', 18),\n",
       " ('Cost', 18),\n",
       " ('programmer', 18),\n",
       " ('Produce', 18),\n",
       " ('Fellow', 18),\n",
       " ('Employment', 18),\n",
       " ('Internet', 18),\n",
       " ('Coding', 18),\n",
       " ('computer', 18),\n",
       " ('floor', 18),\n",
       " ('Reimbursement', 18),\n",
       " ('patient', 18),\n",
       " ('Merchandising', 18),\n",
       " ('Nutrition', 18),\n",
       " ('Motor', 18),\n",
       " ('Monitor', 18),\n",
       " ('Packaging', 18),\n",
       " ('Video', 18),\n",
       " ('engineering', 18),\n",
       " ('AR', 18),\n",
       " ('Strategist', 18),\n",
       " ('technical', 18),\n",
       " ('architect', 18),\n",
       " ('Post', 18),\n",
       " ('Dir', 18),\n",
       " ('repair', 18),\n",
       " ('Cook', 17),\n",
       " ('Custodian', 17),\n",
       " ('cashier', 17),\n",
       " ('laborer', 17),\n",
       " ('Generalist', 17),\n",
       " ('Pathologist', 17),\n",
       " ('Escrow', 17),\n",
       " ('Chemical', 17),\n",
       " ('Automotive', 17),\n",
       " ('Train', 17),\n",
       " ('principal', 17),\n",
       " ('stylist', 17),\n",
       " ('Cardiac', 17),\n",
       " ('Road', 17),\n",
       " ('Beverage', 17),\n",
       " ('school', 17),\n",
       " ('Forensic', 17),\n",
       " ('Closing', 17),\n",
       " ('Clinic', 17),\n",
       " ('Educational', 17),\n",
       " ('crew', 17),\n",
       " ('College', 17),\n",
       " ('surgical', 17),\n",
       " ('Apprentice', 17),\n",
       " ('Servicing', 17),\n",
       " ('Hospital', 17),\n",
       " ('Tool', 17),\n",
       " ('Print', 17),\n",
       " ('ADMINISTRATOR', 17),\n",
       " ('DATA', 17),\n",
       " ('records', 17),\n",
       " ('Freight', 17),\n",
       " ('Time', 17),\n",
       " ('processing', 17),\n",
       " ('Supervisor,', 17),\n",
       " ('Gas', 17),\n",
       " ('CEO', 16),\n",
       " ('LPN', 16),\n",
       " ('Machinist', 16),\n",
       " ('Receptionist', 16),\n",
       " ('server', 16),\n",
       " ('Psychologist', 16),\n",
       " ('Art', 16),\n",
       " ('Forklift', 16),\n",
       " ('Researcher', 16),\n",
       " ('painter', 16),\n",
       " ('Receivable', 16),\n",
       " ('Veterinary', 16),\n",
       " ('Restaurant', 16),\n",
       " ('GIS', 16),\n",
       " ('Commander', 16),\n",
       " ('sergeant', 16),\n",
       " ('Major', 16),\n",
       " ('High', 16),\n",
       " ('Bakery', 16),\n",
       " ('MEDICAL', 16),\n",
       " ('License', 16),\n",
       " ('Deli', 16),\n",
       " ('dept', 16),\n",
       " ('person', 16),\n",
       " ('REP', 16),\n",
       " ('Campus', 16),\n",
       " ('payable', 16),\n",
       " ('Staffing', 16),\n",
       " ('data', 16),\n",
       " ('work', 16),\n",
       " ('Treatment', 16),\n",
       " ('BUSINESS', 16),\n",
       " ('Skilled', 16),\n",
       " ('Resolution', 16),\n",
       " ('Independent', 16),\n",
       " ('Region', 16),\n",
       " ('Transport', 16),\n",
       " ('Behavioral', 16),\n",
       " ('Maker', 16),\n",
       " ('Central', 16),\n",
       " ('Online', 16),\n",
       " ('Acct', 16),\n",
       " ('up', 16),\n",
       " ('US', 16),\n",
       " ('Plan', 16),\n",
       " ('operation', 16),\n",
       " ('Dev', 16),\n",
       " ('Cashier', 15),\n",
       " ('Pharmacist', 15),\n",
       " ('Carpenter', 15),\n",
       " ('Clerical', 15),\n",
       " ('Collector', 15),\n",
       " ('Massage', 15),\n",
       " ('pharmacy', 15),\n",
       " ('AGENT', 15),\n",
       " ('underwriter', 15),\n",
       " ('CT', 15),\n",
       " ('Entry', 15),\n",
       " ('Diesel', 15),\n",
       " ('Wealth', 15),\n",
       " ('Co', 15),\n",
       " ('Success', 15),\n",
       " ('Recreation', 15),\n",
       " ('Athletic', 15),\n",
       " ('scientist', 15),\n",
       " ('Rehabilitation', 15),\n",
       " ('Music', 15),\n",
       " ('Vp', 15),\n",
       " ('Installation', 15),\n",
       " ('Pipe', 15),\n",
       " ('Communication', 15),\n",
       " ('Supplier', 15),\n",
       " ('Builder', 15),\n",
       " ('Exec.', 15),\n",
       " ('EXECUTIVE', 15),\n",
       " ('Paint', 15),\n",
       " ('insurance', 15),\n",
       " ('Vendor', 15),\n",
       " ('scheduler', 15),\n",
       " ('relations', 15),\n",
       " ('Power', 15),\n",
       " ('compliance', 15),\n",
       " ('Waste', 15),\n",
       " ('sr.', 15),\n",
       " ('Graduate', 15),\n",
       " ('Manager/', 15),\n",
       " ('Aviation', 15),\n",
       " ('Sheriff', 14),\n",
       " ('carpenter', 14),\n",
       " ('Stylist', 14),\n",
       " ('bus', 14),\n",
       " ('Language', 14),\n",
       " ('social', 14),\n",
       " ('plumber', 14),\n",
       " ('delivery', 14),\n",
       " ('branch', 14),\n",
       " ('Clinician', 14),\n",
       " ('certified', 14),\n",
       " ('Membership', 14),\n",
       " ('Tester', 14),\n",
       " ('construction', 14),\n",
       " ('Dietary', 14),\n",
       " ('Fulfillment', 14),\n",
       " ('Signal', 14),\n",
       " ('Operational', 14),\n",
       " ('tax', 14),\n",
       " ('asst.', 14),\n",
       " ('Agency', 14),\n",
       " ('assurance', 14),\n",
       " ('personal', 14),\n",
       " ('Manage', 14),\n",
       " ('retail', 14),\n",
       " ('billing', 14),\n",
       " ('client', 14),\n",
       " ('inventory', 14),\n",
       " ('hand', 14),\n",
       " ('logistics', 14),\n",
       " ('Informatics', 14),\n",
       " ('Metal', 14),\n",
       " ('licensed', 14),\n",
       " ('Wellness', 14),\n",
       " ('Sterile', 14),\n",
       " ('Grounds', 14),\n",
       " ('3rd', 14),\n",
       " ('ADMIN', 14),\n",
       " ('County', 14),\n",
       " ('Adult', 14),\n",
       " ('V', 14),\n",
       " ('product', 14),\n",
       " ('Man', 14),\n",
       " ('SERVICES', 14),\n",
       " ('IS', 14),\n",
       " ('AND', 14),\n",
       " ('Dir.', 14),\n",
       " ('Contact', 14),\n",
       " ('research', 14),\n",
       " ('SAP', 14),\n",
       " ('Bartender', 13),\n",
       " ('Painter', 13),\n",
       " ('mail', 13),\n",
       " ('Sonographer', 13),\n",
       " ('material', 13),\n",
       " ('Detention', 13),\n",
       " ('CDL', 13),\n",
       " ('forman', 13),\n",
       " ('Contracting', 13),\n",
       " ('administrative', 13),\n",
       " ('labor', 13),\n",
       " ('Vocational', 13),\n",
       " ('Science', 13),\n",
       " ('Press', 13),\n",
       " ('Hair', 13),\n",
       " ('911', 13),\n",
       " ('deputy', 13),\n",
       " ('press', 13),\n",
       " ('Sanitation', 13),\n",
       " ('coder', 13),\n",
       " ('Judicial', 13),\n",
       " ('Teaching', 13),\n",
       " ('Golf', 13),\n",
       " ('controller', 13),\n",
       " ('Brand', 13),\n",
       " ('Hvac', 13),\n",
       " ('Ultrasound', 13),\n",
       " ('Closer', 13),\n",
       " ('Stock', 13),\n",
       " ('journeyman', 13),\n",
       " ('INSURANCE', 13),\n",
       " ('Licensing', 13),\n",
       " ('fitter', 13),\n",
       " ('Tire', 13),\n",
       " ('route', 13),\n",
       " ('Parole', 13),\n",
       " ('Mananger', 13),\n",
       " ('process', 13),\n",
       " ('Scheduling', 13),\n",
       " ('utility', 13),\n",
       " ('Station', 13),\n",
       " ('Mill', 13),\n",
       " ('Warranty', 13),\n",
       " ('front', 13),\n",
       " ('network', 13),\n",
       " ('A/R', 13),\n",
       " ('examiner', 13),\n",
       " ('operater', 13),\n",
       " ('ER', 13),\n",
       " ('receiving', 13),\n",
       " ('Marine', 13),\n",
       " ('Die', 13),\n",
       " ('Hr', 13),\n",
       " ('Capital', 13),\n",
       " ('Chair', 13),\n",
       " ('car', 13),\n",
       " ('News', 13),\n",
       " ('In', 13),\n",
       " ('Pediatric', 13),\n",
       " ('Highway', 13),\n",
       " ('Testing', 13),\n",
       " ('Tier', 13),\n",
       " ('CONSULTANT', 13),\n",
       " ('Disability', 13),\n",
       " ('Works', 13),\n",
       " ('coach', 13),\n",
       " ('Assoc', 13),\n",
       " ('Cordinator', 13),\n",
       " ('Transfer', 13),\n",
       " ('Reviewer', 13),\n",
       " ('Laborer', 12),\n",
       " ('Merchandiser', 12),\n",
       " ('ACCOUNTANT', 12),\n",
       " ('Loader', 12),\n",
       " ('Rural', 12),\n",
       " ('Judge', 12),\n",
       " ('FINANCE', 12),\n",
       " ('Minister', 12),\n",
       " ('PROJECT', 12),\n",
       " ('Funeral', 12),\n",
       " ('attorney', 12),\n",
       " ('Ramp', 12),\n",
       " ('ACCOUNTING', 12),\n",
       " ('games', 12),\n",
       " ('MRI', 12),\n",
       " ('dental', 12),\n",
       " ('ACCOUNT', 12),\n",
       " ('meat', 12),\n",
       " ('finance', 12),\n",
       " ('Patent', 12),\n",
       " ('Adjunct', 12),\n",
       " ('Fitness', 12),\n",
       " ('Army', 12),\n",
       " ('Corporal', 12),\n",
       " ('Sole', 12),\n",
       " ('Protective', 12),\n",
       " ('administration', 12),\n",
       " ('Owner/', 12),\n",
       " ('unit', 12),\n",
       " ('Yard', 12),\n",
       " ('Survey', 12),\n",
       " ('educator', 12),\n",
       " ('charge', 12),\n",
       " ('Package', 12),\n",
       " ('I.T.', 12),\n",
       " ('technology', 12),\n",
       " ('ASST', 12),\n",
       " ('Rental', 12),\n",
       " ('Counter', 12),\n",
       " ('Overnight', 12),\n",
       " ('Dining', 12),\n",
       " ('captain', 12),\n",
       " ('Managment', 12),\n",
       " ('Assessment', 12),\n",
       " ...]"
      ]
     },
     "execution_count": 106,
     "metadata": {},
     "output_type": "execute_result"
    }
   ],
   "source": [
    "sorted_title"
   ]
  },
  {
   "cell_type": "code",
   "execution_count": 107,
   "metadata": {},
   "outputs": [
    {
     "data": {
      "text/plain": [
       "<function list.index>"
      ]
     },
     "execution_count": 107,
     "metadata": {},
     "output_type": "execute_result"
    }
   ],
   "source": [
    "sorted_title.index"
   ]
  },
  {
   "cell_type": "code",
   "execution_count": 23,
   "metadata": {},
   "outputs": [
    {
     "data": {
      "text/html": [
       "<div>\n",
       "<style scoped>\n",
       "    .dataframe tbody tr th:only-of-type {\n",
       "        vertical-align: middle;\n",
       "    }\n",
       "\n",
       "    .dataframe tbody tr th {\n",
       "        vertical-align: top;\n",
       "    }\n",
       "\n",
       "    .dataframe thead th {\n",
       "        text-align: right;\n",
       "    }\n",
       "</style>\n",
       "<table border=\"1\" class=\"dataframe\">\n",
       "  <thead>\n",
       "    <tr style=\"text-align: right;\">\n",
       "      <th></th>\n",
       "      <th>emp_title</th>\n",
       "    </tr>\n",
       "  </thead>\n",
       "  <tbody>\n",
       "    <tr>\n",
       "      <th>0</th>\n",
       "      <td>Fiscal Director</td>\n",
       "    </tr>\n",
       "    <tr>\n",
       "      <th>1</th>\n",
       "      <td>Loaner Coordinator</td>\n",
       "    </tr>\n",
       "    <tr>\n",
       "      <th>2</th>\n",
       "      <td>warehouse/supervisor</td>\n",
       "    </tr>\n",
       "    <tr>\n",
       "      <th>3</th>\n",
       "      <td>Teacher</td>\n",
       "    </tr>\n",
       "    <tr>\n",
       "      <th>4</th>\n",
       "      <td>SERVICE MGR</td>\n",
       "    </tr>\n",
       "  </tbody>\n",
       "</table>\n",
       "</div>"
      ],
      "text/plain": [
       "              emp_title\n",
       "0       Fiscal Director\n",
       "1    Loaner Coordinator\n",
       "2  warehouse/supervisor\n",
       "3               Teacher\n",
       "4           SERVICE MGR"
      ]
     },
     "execution_count": 23,
     "metadata": {},
     "output_type": "execute_result"
    }
   ],
   "source": [
    "title_data = pd.DataFrame(data['emp_title'])\n",
    "title_data.head()"
   ]
  },
  {
   "cell_type": "code",
   "execution_count": 142,
   "metadata": {},
   "outputs": [
    {
     "data": {
      "text/plain": [
       "pandas.core.frame.DataFrame"
      ]
     },
     "execution_count": 142,
     "metadata": {},
     "output_type": "execute_result"
    }
   ],
   "source": [
    "type(title_data)"
   ]
  },
  {
   "cell_type": "code",
   "execution_count": 21,
   "metadata": {},
   "outputs": [],
   "source": [
    "senior = ['Manager', 'Director', 'Senior', 'manager', 'Supervisor', 'Lead', 'Sr.', 'Officer', 'Sr',\n",
    "         'supervisor', 'Administrator','Management', 'Executive', 'VP', 'Vice', 'President', 'Chief',\n",
    "         'director', 'Admin', 'Administrative', 'Director,' 'MANAGER', 'lead', 'officer','Leader',\n",
    "         'Manager,', 'Mgr', 'Head', 'associate', 'Associate', 'leader', 'Partner', 'Manger', \n",
    "         'SR']\n",
    "middle = ['Coordinator', 'Operations', 'Consultant', 'operator', 'Operator', 'consultant', \n",
    "         'Representative', 'coordinator', 'Advisor',  'Counselor', 'Instructor', 'District', 'Architect', \n",
    "          'Planner', 'Technologist', 'Master', 'Therapist', 'therapist', 'Professor', 'Investigator', \n",
    "         'Coach']\n",
    "junior = ['Specialist', 'Analyst', 'Assistant', 'Sales', 'Engineer', 'Technician', 'Support', 'specialist', \n",
    "          'Account', 'service', 'technician', 'Clerk', 'Nurse','assistant', 'Maintenance', 'driver', 'Driver', \n",
    "          'clerk', 'Client', 'Staff', 'Worker', 'HR', 'Teacher', 'Designer', 'nurse', 'worker', 'Accountant', \n",
    "          'Inspector', 'agent', 'teacher', 'Member', 'Trainer', 'Secretary', 'Auditor', 'Sergeant', 'Processor', \n",
    "          'customer', 'SPECIALIST', 'Banker', 'Student', 'ASSISTANT']\n",
    "\n",
    "#replacing all titles with 3, 2, 1, 0\n",
    "def replace_titles(title):\n",
    "    x = str(title['emp_title'])\n",
    "    x = x.split()\n",
    "    if any(i in senior for i in x):\n",
    "        return 3\n",
    "    elif any(i in middle for i in x):\n",
    "        return 2\n",
    "    elif any(i in junior for i in x):\n",
    "        return 1\n",
    "    else:\n",
    "        return 0"
   ]
  },
  {
   "cell_type": "code",
   "execution_count": 24,
   "metadata": {},
   "outputs": [
    {
     "data": {
      "text/plain": [
       "0    3\n",
       "1    2\n",
       "2    0\n",
       "3    1\n",
       "4    0\n",
       "dtype: int64"
      ]
     },
     "execution_count": 24,
     "metadata": {},
     "output_type": "execute_result"
    }
   ],
   "source": [
    "title_data = title_data.apply(replace_titles, axis = 1)\n",
    "title_data.head()"
   ]
  },
  {
   "cell_type": "code",
   "execution_count": 25,
   "metadata": {},
   "outputs": [],
   "source": [
    "data['emp_title'] = title_data"
   ]
  },
  {
   "cell_type": "code",
   "execution_count": null,
   "metadata": {},
   "outputs": [],
   "source": []
  },
  {
   "cell_type": "code",
   "execution_count": null,
   "metadata": {},
   "outputs": [],
   "source": []
  },
  {
   "cell_type": "markdown",
   "metadata": {},
   "source": [
    "### Categories"
   ]
  },
  {
   "cell_type": "code",
   "execution_count": 20,
   "metadata": {},
   "outputs": [
    {
     "data": {
      "text/plain": [
       "array(['C', 'B', 'D', 'E', 'A', 'F', 'G'], dtype=object)"
      ]
     },
     "execution_count": 20,
     "metadata": {},
     "output_type": "execute_result"
    }
   ],
   "source": [
    "data['grade'].unique()"
   ]
  },
  {
   "cell_type": "code",
   "execution_count": 21,
   "metadata": {},
   "outputs": [],
   "source": [
    "data['grade'] = data['grade'].map({\n",
    "    'A': 1,\n",
    "    'B': 2,\n",
    "    'C': 3,\n",
    "    'D': 4,\n",
    "    'E': 5,\n",
    "    'F': 6,\n",
    "    'G': 7})"
   ]
  },
  {
   "cell_type": "code",
   "execution_count": 22,
   "metadata": {},
   "outputs": [
    {
     "data": {
      "text/plain": [
       "array(['C3', 'B1', 'D5', 'B5', 'C2', 'C4', 'D4', 'E4', 'B4', 'C1', 'B2',\n",
       "       'A1', 'D3', 'C5', 'A3', 'A5', 'B3', 'E1', 'A4', 'F2', 'D1', 'D2',\n",
       "       'A2', 'G3', 'F4', 'G1', 'E2', 'E5', 'F1', 'E3', 'F5', 'G4', 'F3',\n",
       "       'G2', 'G5'], dtype=object)"
      ]
     },
     "execution_count": 22,
     "metadata": {},
     "output_type": "execute_result"
    }
   ],
   "source": [
    "data['sub_grade'].unique()"
   ]
  },
  {
   "cell_type": "code",
   "execution_count": 23,
   "metadata": {},
   "outputs": [],
   "source": [
    "data['sub_grade'] = data['sub_grade'].map({\n",
    "    'A1': 10,\n",
    "    'A2': 12,\n",
    "    'A3': 14,\n",
    "    'A4': 16,\n",
    "    'A5': 18,\n",
    "    'B1': 20,\n",
    "    'B2': 22,\n",
    "    'B3': 24,\n",
    "    'B4': 26,\n",
    "    'B5': 28,\n",
    "    'C1': 30,\n",
    "    'C2': 32,\n",
    "    'C3': 34,\n",
    "    'C4': 36,\n",
    "    'C5': 38,\n",
    "    'D1': 40,\n",
    "    'D2': 42,\n",
    "    'D3': 44,\n",
    "    'D4': 46,\n",
    "    'D5': 48,\n",
    "    'E1': 50,\n",
    "    'E2': 52,\n",
    "    'E3': 54,\n",
    "    'E4': 56,\n",
    "    'E5': 58,\n",
    "    'F1': 60,\n",
    "    'F2': 62,\n",
    "    'F3': 64,\n",
    "    'F4': 66,\n",
    "    'F5': 68,\n",
    "    'G1': 70,\n",
    "    'G2': 72,\n",
    "    'G3': 74,\n",
    "    'G4': 76,\n",
    "    'G5': 78,\n",
    "    })"
   ]
  },
  {
   "cell_type": "code",
   "execution_count": 27,
   "metadata": {},
   "outputs": [
    {
     "data": {
      "text/plain": [
       "array(['RENT', 'MORTGAGE', 'OWN', 'ANY'], dtype=object)"
      ]
     },
     "execution_count": 27,
     "metadata": {},
     "output_type": "execute_result"
    }
   ],
   "source": [
    "data['home_ownership'].unique()"
   ]
  },
  {
   "cell_type": "code",
   "execution_count": 28,
   "metadata": {},
   "outputs": [
    {
     "ename": "NameError",
     "evalue": "name 'home' is not defined",
     "output_type": "error",
     "traceback": [
      "\u001b[0;31m---------------------------------------------------------------------------\u001b[0m",
      "\u001b[0;31mNameError\u001b[0m                                 Traceback (most recent call last)",
      "\u001b[0;32m<ipython-input-28-3378c3f0f3b6>\u001b[0m in \u001b[0;36m<module>\u001b[0;34m()\u001b[0m\n\u001b[1;32m      1\u001b[0m \u001b[0;31m#home = data['home_ownership']\u001b[0m\u001b[0;34m\u001b[0m\u001b[0;34m\u001b[0m\u001b[0m\n\u001b[0;32m----> 2\u001b[0;31m \u001b[0mfeatures\u001b[0m \u001b[0;34m=\u001b[0m \u001b[0mpd\u001b[0m\u001b[0;34m.\u001b[0m\u001b[0mget_dummies\u001b[0m\u001b[0;34m(\u001b[0m\u001b[0mhome\u001b[0m\u001b[0;34m)\u001b[0m\u001b[0;34m\u001b[0m\u001b[0m\n\u001b[0m\u001b[1;32m      3\u001b[0m \u001b[0;31m#data = data.drop(['home_ownership'], 1)\u001b[0m\u001b[0;34m\u001b[0m\u001b[0;34m\u001b[0m\u001b[0m\n",
      "\u001b[0;31mNameError\u001b[0m: name 'home' is not defined"
     ]
    }
   ],
   "source": [
    "#home = data['home_ownership']\n",
    "features = pd.get_dummies(home)\n",
    "#data = data.drop(['home_ownership'], 1)"
   ]
  },
  {
   "cell_type": "code",
   "execution_count": 177,
   "metadata": {},
   "outputs": [
    {
     "data": {
      "text/html": [
       "<div>\n",
       "<style scoped>\n",
       "    .dataframe tbody tr th:only-of-type {\n",
       "        vertical-align: middle;\n",
       "    }\n",
       "\n",
       "    .dataframe tbody tr th {\n",
       "        vertical-align: top;\n",
       "    }\n",
       "\n",
       "    .dataframe thead th {\n",
       "        text-align: right;\n",
       "    }\n",
       "</style>\n",
       "<table border=\"1\" class=\"dataframe\">\n",
       "  <thead>\n",
       "    <tr style=\"text-align: right;\">\n",
       "      <th></th>\n",
       "      <th>ANY</th>\n",
       "      <th>MORTGAGE</th>\n",
       "      <th>OWN</th>\n",
       "      <th>RENT</th>\n",
       "    </tr>\n",
       "  </thead>\n",
       "  <tbody>\n",
       "    <tr>\n",
       "      <th>0</th>\n",
       "      <td>0</td>\n",
       "      <td>0</td>\n",
       "      <td>0</td>\n",
       "      <td>1</td>\n",
       "    </tr>\n",
       "    <tr>\n",
       "      <th>1</th>\n",
       "      <td>0</td>\n",
       "      <td>0</td>\n",
       "      <td>0</td>\n",
       "      <td>1</td>\n",
       "    </tr>\n",
       "    <tr>\n",
       "      <th>2</th>\n",
       "      <td>0</td>\n",
       "      <td>1</td>\n",
       "      <td>0</td>\n",
       "      <td>0</td>\n",
       "    </tr>\n",
       "    <tr>\n",
       "      <th>3</th>\n",
       "      <td>0</td>\n",
       "      <td>0</td>\n",
       "      <td>1</td>\n",
       "      <td>0</td>\n",
       "    </tr>\n",
       "    <tr>\n",
       "      <th>4</th>\n",
       "      <td>0</td>\n",
       "      <td>0</td>\n",
       "      <td>0</td>\n",
       "      <td>1</td>\n",
       "    </tr>\n",
       "  </tbody>\n",
       "</table>\n",
       "</div>"
      ],
      "text/plain": [
       "   ANY  MORTGAGE  OWN  RENT\n",
       "0    0         0    0     1\n",
       "1    0         0    0     1\n",
       "2    0         1    0     0\n",
       "3    0         0    1     0\n",
       "4    0         0    0     1"
      ]
     },
     "execution_count": 177,
     "metadata": {},
     "output_type": "execute_result"
    }
   ],
   "source": [
    "features.head()"
   ]
  },
  {
   "cell_type": "code",
   "execution_count": 176,
   "metadata": {},
   "outputs": [
    {
     "name": "stdout",
     "output_type": "stream",
     "text": [
      "<class 'pandas.core.frame.DataFrame'>\n",
      "RangeIndex: 95210 entries, 0 to 95209\n",
      "Data columns (total 4 columns):\n",
      "ANY         95210 non-null uint8\n",
      "MORTGAGE    95210 non-null uint8\n",
      "OWN         95210 non-null uint8\n",
      "RENT        95210 non-null uint8\n",
      "dtypes: uint8(4)\n",
      "memory usage: 372.0 KB\n"
     ]
    }
   ],
   "source": [
    "features.info()"
   ]
  },
  {
   "cell_type": "code",
   "execution_count": 29,
   "metadata": {},
   "outputs": [
    {
     "data": {
      "text/plain": [
       "array(['Not Verified', 'Source Verified', 'Verified'], dtype=object)"
      ]
     },
     "execution_count": 29,
     "metadata": {},
     "output_type": "execute_result"
    }
   ],
   "source": [
    "data['verification_status'].unique()"
   ]
  },
  {
   "cell_type": "code",
   "execution_count": 30,
   "metadata": {},
   "outputs": [
    {
     "ename": "NameError",
     "evalue": "name 'features' is not defined",
     "output_type": "error",
     "traceback": [
      "\u001b[0;31m---------------------------------------------------------------------------\u001b[0m",
      "\u001b[0;31mNameError\u001b[0m                                 Traceback (most recent call last)",
      "\u001b[0;32m<ipython-input-30-34efcd4915d8>\u001b[0m in \u001b[0;36m<module>\u001b[0;34m()\u001b[0m\n\u001b[1;32m      1\u001b[0m \u001b[0madd\u001b[0m \u001b[0;34m=\u001b[0m \u001b[0mpd\u001b[0m\u001b[0;34m.\u001b[0m\u001b[0mget_dummies\u001b[0m\u001b[0;34m(\u001b[0m\u001b[0mdata\u001b[0m\u001b[0;34m[\u001b[0m\u001b[0;34m'verification_status'\u001b[0m\u001b[0;34m]\u001b[0m\u001b[0;34m)\u001b[0m\u001b[0;34m\u001b[0m\u001b[0m\n\u001b[0;32m----> 2\u001b[0;31m \u001b[0mfeatures\u001b[0m \u001b[0;34m=\u001b[0m \u001b[0mpd\u001b[0m\u001b[0;34m.\u001b[0m\u001b[0mconcat\u001b[0m\u001b[0;34m(\u001b[0m\u001b[0;34m[\u001b[0m\u001b[0mfeatures\u001b[0m\u001b[0;34m,\u001b[0m \u001b[0madd\u001b[0m\u001b[0;34m]\u001b[0m\u001b[0;34m)\u001b[0m\u001b[0;34m\u001b[0m\u001b[0m\n\u001b[0m\u001b[1;32m      3\u001b[0m \u001b[0mdata\u001b[0m \u001b[0;34m=\u001b[0m \u001b[0mdata\u001b[0m\u001b[0;34m.\u001b[0m\u001b[0mdrop\u001b[0m\u001b[0;34m(\u001b[0m\u001b[0;34m[\u001b[0m\u001b[0;34m'verification_status'\u001b[0m\u001b[0;34m]\u001b[0m\u001b[0;34m,\u001b[0m \u001b[0;36m1\u001b[0m\u001b[0;34m)\u001b[0m\u001b[0;34m\u001b[0m\u001b[0m\n",
      "\u001b[0;31mNameError\u001b[0m: name 'features' is not defined"
     ]
    }
   ],
   "source": [
    "add = pd.get_dummies(data['verification_status'])\n",
    "features = pd.concat([features, add])\n",
    "data = data.drop(['verification_status'], 1)"
   ]
  },
  {
   "cell_type": "code",
   "execution_count": 29,
   "metadata": {},
   "outputs": [
    {
     "data": {
      "text/plain": [
       "array(['n', 'y'], dtype=object)"
      ]
     },
     "execution_count": 29,
     "metadata": {},
     "output_type": "execute_result"
    }
   ],
   "source": [
    "data['pymnt_plan'].unique()"
   ]
  },
  {
   "cell_type": "code",
   "execution_count": 30,
   "metadata": {},
   "outputs": [],
   "source": [
    "data['pymnt_plan'] = data['pymnt_plan'].map({'n': 0, 'y': 1})"
   ]
  },
  {
   "cell_type": "code",
   "execution_count": 31,
   "metadata": {},
   "outputs": [
    {
     "data": {
      "text/plain": [
       "array(['debt_consolidation', 'moving', 'credit_card', 'medical', 'house',\n",
       "       'major_purchase', 'home_improvement', 'other', 'car',\n",
       "       'small_business', 'vacation', 'renewable_energy', 'wedding'], dtype=object)"
      ]
     },
     "execution_count": 31,
     "metadata": {},
     "output_type": "execute_result"
    }
   ],
   "source": [
    "data['purpose'].unique()"
   ]
  },
  {
   "cell_type": "code",
   "execution_count": 32,
   "metadata": {},
   "outputs": [],
   "source": [
    "add2 = pd.get_dummies(data['purpose'])\n",
    "features = pd.concat([features, add2])\n",
    "data = data.drop(['purpose'], 1)"
   ]
  },
  {
   "cell_type": "code",
   "execution_count": 33,
   "metadata": {},
   "outputs": [
    {
     "data": {
      "text/plain": [
       "array(['TN', 'OR', 'CA', 'TX', 'VA', 'IL', 'FL', 'OH', 'IN', 'WA', 'NJ',\n",
       "       'NC', 'LA', 'NY', 'SC', 'CT', 'GA', 'MI', 'NH', 'OK', 'ME', 'RI',\n",
       "       'AL', 'PA', 'MA', 'NV', 'CO', 'AZ', 'DC', 'AR', 'WI', 'MT', 'ID',\n",
       "       'NE', 'HI', 'MD', 'MN', 'KS', 'MO', 'NM', 'VT', 'KY', 'UT', 'SD',\n",
       "       'ND', 'MS', 'AK', 'WY', 'DE', 'WV'], dtype=object)"
      ]
     },
     "execution_count": 33,
     "metadata": {},
     "output_type": "execute_result"
    }
   ],
   "source": [
    "data['addr_state'].unique()"
   ]
  },
  {
   "cell_type": "code",
   "execution_count": 34,
   "metadata": {},
   "outputs": [],
   "source": [
    "add3 = pd.get_dummies(data['addr_state'])\n",
    "features = pd.concat([features, add3])\n",
    "data = data.drop(['addr_state'], 1)"
   ]
  },
  {
   "cell_type": "code",
   "execution_count": 35,
   "metadata": {},
   "outputs": [
    {
     "data": {
      "text/plain": [
       "array(['f', 'w'], dtype=object)"
      ]
     },
     "execution_count": 35,
     "metadata": {},
     "output_type": "execute_result"
    }
   ],
   "source": [
    "data['initial_list_status'].unique()"
   ]
  },
  {
   "cell_type": "code",
   "execution_count": 36,
   "metadata": {},
   "outputs": [],
   "source": [
    "data['initial_list_status'] = data['initial_list_status'].map({'f': 0, 'w': 1})"
   ]
  },
  {
   "cell_type": "code",
   "execution_count": 37,
   "metadata": {},
   "outputs": [
    {
     "data": {
      "text/plain": [
       "array(['Debt consolidation', 'Moving and relocation',\n",
       "       'Credit card refinancing', 'Medical expenses', 'Home buying',\n",
       "       'Major purchase', 'Home improvement', 'Other', 'Car financing',\n",
       "       'Business', 'Vacation', nan, 'Green loan'], dtype=object)"
      ]
     },
     "execution_count": 37,
     "metadata": {},
     "output_type": "execute_result"
    }
   ],
   "source": [
    "data['title'].unique()"
   ]
  },
  {
   "cell_type": "code",
   "execution_count": 38,
   "metadata": {},
   "outputs": [],
   "source": [
    "add4 = pd.get_dummies(data['title'])\n",
    "features = pd.concat([features, add4])\n",
    "data = data.drop(['title'], 1)"
   ]
  },
  {
   "cell_type": "code",
   "execution_count": 39,
   "metadata": {},
   "outputs": [
    {
     "data": {
      "text/plain": [
       "array(['INDIVIDUAL', 'JOINT', 'DIRECT_PAY'], dtype=object)"
      ]
     },
     "execution_count": 39,
     "metadata": {},
     "output_type": "execute_result"
    }
   ],
   "source": [
    "data['application_type'].unique()"
   ]
  },
  {
   "cell_type": "code",
   "execution_count": 40,
   "metadata": {},
   "outputs": [],
   "source": [
    "add5 = pd.get_dummies(data['application_type'])\n",
    "features = pd.concat([features, add5])\n",
    "data = data.drop(['application_type'], 1)"
   ]
  },
  {
   "cell_type": "code",
   "execution_count": 41,
   "metadata": {},
   "outputs": [
    {
     "data": {
      "text/plain": [
       "array([nan, 'Not Verified'], dtype=object)"
      ]
     },
     "execution_count": 41,
     "metadata": {},
     "output_type": "execute_result"
    }
   ],
   "source": [
    "data['verification_status_joint'].unique()"
   ]
  },
  {
   "cell_type": "code",
   "execution_count": 42,
   "metadata": {},
   "outputs": [],
   "source": [
    "data['verification_status_joint'] = data['verification_status_joint'].map({'nan': 0, 'Not Verified': 1})"
   ]
  },
  {
   "cell_type": "code",
   "execution_count": null,
   "metadata": {},
   "outputs": [],
   "source": []
  },
  {
   "cell_type": "markdown",
   "metadata": {},
   "source": [
    "### Datatime"
   ]
  },
  {
   "cell_type": "code",
   "execution_count": 44,
   "metadata": {},
   "outputs": [
    {
     "data": {
      "text/plain": [
       "pandas.core.series.Series"
      ]
     },
     "execution_count": 44,
     "metadata": {},
     "output_type": "execute_result"
    }
   ],
   "source": [
    "type(data['issue_d'])"
   ]
  },
  {
   "cell_type": "code",
   "execution_count": 47,
   "metadata": {},
   "outputs": [],
   "source": [
    "#issue = pd.DataFrame(data['issue_d'])\n",
    "issue = pd.to_datetime(data['issue_d'])"
   ]
  },
  {
   "cell_type": "code",
   "execution_count": 49,
   "metadata": {},
   "outputs": [
    {
     "data": {
      "text/plain": [
       "0   2017-09-16\n",
       "1   2017-09-16\n",
       "2   2017-09-16\n",
       "3   2017-09-16\n",
       "4   2017-09-16\n",
       "Name: issue_d, dtype: datetime64[ns]"
      ]
     },
     "execution_count": 49,
     "metadata": {},
     "output_type": "execute_result"
    }
   ],
   "source": [
    "type(issue)\n",
    "issue.head()"
   ]
  },
  {
   "cell_type": "code",
   "execution_count": 52,
   "metadata": {},
   "outputs": [
    {
     "data": {
      "text/plain": [
       "0   62 days\n",
       "1   62 days\n",
       "2   62 days\n",
       "3   62 days\n",
       "4   62 days\n",
       "Name: issue_d, dtype: timedelta64[ns]"
      ]
     },
     "execution_count": 52,
     "metadata": {},
     "output_type": "execute_result"
    }
   ],
   "source": [
    "delta = issue - issue.min()\n",
    "delta.head()"
   ]
  },
  {
   "cell_type": "code",
   "execution_count": 57,
   "metadata": {},
   "outputs": [
    {
     "data": {
      "text/plain": [
       "array([62, 31,  0])"
      ]
     },
     "execution_count": 57,
     "metadata": {},
     "output_type": "execute_result"
    }
   ],
   "source": [
    "delta.dt.days.unique()"
   ]
  },
  {
   "cell_type": "code",
   "execution_count": 58,
   "metadata": {},
   "outputs": [],
   "source": [
    "data['issue_d'] = delta.dt.days"
   ]
  },
  {
   "cell_type": "code",
   "execution_count": 59,
   "metadata": {},
   "outputs": [
    {
     "data": {
      "text/plain": [
       "array(['6/17/2017', '1/17/2017', '4/17/2017', '3/17/2017', '11/16/2017',\n",
       "       '5/17/2017', '10/16/2017', '2/17/2017', '12/16/2017', '9/16/2017',\n",
       "       '8/16/2017', '7/16/2017'], dtype=object)"
      ]
     },
     "execution_count": 59,
     "metadata": {},
     "output_type": "execute_result"
    }
   ],
   "source": [
    "data['last_pymnt_d'].unique()"
   ]
  },
  {
   "cell_type": "code",
   "execution_count": 60,
   "metadata": {},
   "outputs": [],
   "source": [
    "def date2delta(datetime):\n",
    "    date = pd.to_datetime(datetime)\n",
    "    delta = date - date.min()\n",
    "    return delta.dt.days"
   ]
  },
  {
   "cell_type": "code",
   "execution_count": 61,
   "metadata": {},
   "outputs": [
    {
     "data": {
      "text/plain": [
       "array([151,   0,  90,  59, 303, 120, 272,  31, 333, 242, 211, 180])"
      ]
     },
     "execution_count": 61,
     "metadata": {},
     "output_type": "execute_result"
    }
   ],
   "source": [
    "lastp = date2delta(data['last_pymnt_d'])\n",
    "lastp.unique()"
   ]
  },
  {
   "cell_type": "code",
   "execution_count": 62,
   "metadata": {},
   "outputs": [],
   "source": [
    "data['last_pymnt_d'] = date2delta(data['last_pymnt_d'])"
   ]
  },
  {
   "cell_type": "code",
   "execution_count": 63,
   "metadata": {},
   "outputs": [
    {
     "data": {
      "text/plain": [
       "array(['6/17/2017', '1/17/2017', '5/17/2017', '4/17/2017', '2/17/2017',\n",
       "       '10/16/2017', '11/16/2017', '9/16/2017', '3/17/2017', '12/16/2017',\n",
       "       nan, '8/16/2017', '7/16/2017', '6/16/2017'], dtype=object)"
      ]
     },
     "execution_count": 63,
     "metadata": {},
     "output_type": "execute_result"
    }
   ],
   "source": [
    "data['last_credit_pull_d'].unique()"
   ]
  },
  {
   "cell_type": "code",
   "execution_count": 64,
   "metadata": {},
   "outputs": [],
   "source": [
    "data['last_credit_pull_d'] = date2delta(data['last_credit_pull_d'])"
   ]
  },
  {
   "cell_type": "code",
   "execution_count": 65,
   "metadata": {},
   "outputs": [
    {
     "data": {
      "text/plain": [
       "array([ 151.,    0.,  120.,   90.,   31.,  272.,  303.,  242.,   59.,\n",
       "        333.,   nan,  211.,  180.,  150.])"
      ]
     },
     "execution_count": 65,
     "metadata": {},
     "output_type": "execute_result"
    }
   ],
   "source": [
    "data['last_credit_pull_d'].unique()"
   ]
  },
  {
   "cell_type": "code",
   "execution_count": 66,
   "metadata": {},
   "outputs": [
    {
     "data": {
      "text/plain": [
       "array(['9/9/2017', '11/1/1992', '7/1/1987', '7/1/1996', '8/4/2017',\n",
       "       '2/4/2017', '6/1/2017', '6/1/1993', '8/1/1986'], dtype=object)"
      ]
     },
     "execution_count": 66,
     "metadata": {},
     "output_type": "execute_result"
    }
   ],
   "source": [
    "data['earliest_cr_line'].unique()[1:10]"
   ]
  },
  {
   "cell_type": "code",
   "execution_count": 68,
   "metadata": {},
   "outputs": [
    {
     "data": {
      "text/plain": [
       "array([27798, 18720, 16770, 20058, 27762, 27581, 27698, 18932, 16436])"
      ]
     },
     "execution_count": 68,
     "metadata": {},
     "output_type": "execute_result"
    }
   ],
   "source": [
    "data['earliest_cr_line'] = date2delta(data['earliest_cr_line'])\n",
    "data['earliest_cr_line'].unique()[1:10]"
   ]
  },
  {
   "cell_type": "code",
   "execution_count": 70,
   "metadata": {},
   "outputs": [
    {
     "data": {
      "text/plain": [
       "array(['7/17/2017', nan, '6/17/2017', '8/17/2017'], dtype=object)"
      ]
     },
     "execution_count": 70,
     "metadata": {},
     "output_type": "execute_result"
    }
   ],
   "source": [
    "data['next_pymnt_d'].unique()"
   ]
  },
  {
   "cell_type": "code",
   "execution_count": 71,
   "metadata": {},
   "outputs": [
    {
     "data": {
      "text/plain": [
       "array([ 30.,  nan,   0.,  61.])"
      ]
     },
     "execution_count": 71,
     "metadata": {},
     "output_type": "execute_result"
    }
   ],
   "source": [
    "data['next_pymnt_d'] = date2delta(data['next_pymnt_d'])\n",
    "data['next_pymnt_d'].unique()"
   ]
  },
  {
   "cell_type": "code",
   "execution_count": null,
   "metadata": {},
   "outputs": [],
   "source": []
  },
  {
   "cell_type": "markdown",
   "metadata": {},
   "source": [
    "### Combine all features"
   ]
  },
  {
   "cell_type": "code",
   "execution_count": 167,
   "metadata": {},
   "outputs": [
    {
     "data": {
      "text/plain": [
       "<bound method DataFrame.info of        loan_amnt  funded_amnt  funded_amnt_inv  term  int_rate  installment  \\\n",
       "0          15000        15000            15000     0      0.14       512.60   \n",
       "1           2600         2600             2600     0      0.09        82.67   \n",
       "2          32200        32200            32200     1      0.21       880.02   \n",
       "3          10000        10000            10000     0      0.11       329.72   \n",
       "4           6000         6000             6000     0      0.13       203.59   \n",
       "5          30000        30000            30000     1      0.14       697.90   \n",
       "6           3250         3250             3250     0      0.13       110.28   \n",
       "7           3000         3000             3000     0      0.14       103.25   \n",
       "8          35000        35000            35000     0      0.20      1300.55   \n",
       "9          20000        20000            20000     0      0.14       688.33   \n",
       "10         20150        20150            20150     1      0.25       591.32   \n",
       "11         12000        12000            12000     1      0.25       352.15   \n",
       "12          9000         9000             9000     0      0.11       294.61   \n",
       "13         17000        17000            17000     0      0.14       585.08   \n",
       "14          5000         5000             5000     0      0.09       158.98   \n",
       "15         12000        12000            12000     1      0.13       271.75   \n",
       "16         15000        15000            15000     0      0.14       512.60   \n",
       "17          3000         3000             3000     0      0.14       102.52   \n",
       "18         10000        10000            10000     0      0.09       320.29   \n",
       "19          7000         7000             7000     0      0.13       235.16   \n",
       "20         15000        15000            15000     0      0.05       451.73   \n",
       "21         12000        12000            12000     1      0.19       311.23   \n",
       "22          5000         5000             5000     0      0.14       170.87   \n",
       "23         30000        30000            30000     1      0.25       880.37   \n",
       "24          3000         3000             3000     0      0.11        98.92   \n",
       "25         24000        24000            24000     1      0.16       578.42   \n",
       "26         12000        12000            12000     0      0.16       419.46   \n",
       "27          4500         4500             4500     0      0.13       151.17   \n",
       "28         18000        18000            18000     1      0.09       373.57   \n",
       "29         12000        12000            12000     0      0.05       361.38   \n",
       "...          ...          ...              ...   ...       ...          ...   \n",
       "95180      25000        25000            25000     1      0.11       543.44   \n",
       "95181       5000         5000             5000     0      0.11       163.67   \n",
       "95182      13000        13000            13000     0      0.10       422.48   \n",
       "95183       7200         7200             7200     0      0.11       235.69   \n",
       "95184      20000        20000            20000     1      0.09       415.08   \n",
       "95185      15500        15500            15500     1      0.09       318.68   \n",
       "95186      25000        25000            25000     0      0.17       891.20   \n",
       "95187       2425         2425             2425     0      0.26        97.31   \n",
       "95188      11000        11000            11000     1      0.13       249.11   \n",
       "95189      28000        28000            28000     1      0.11       608.65   \n",
       "95190      25000        25000            25000     1      0.11       543.44   \n",
       "95191      30000        30000            30000     1      0.10       644.67   \n",
       "95192      20000        20000            20000     1      0.11       439.76   \n",
       "95193      30000        30000            30000     1      0.11       652.13   \n",
       "95194      24000        24000            24000     1      0.09       498.09   \n",
       "95195      24000        24000            24000     1      0.11       527.71   \n",
       "95196       7000         7000             7000     0      0.14       239.21   \n",
       "95197      21000        21000            21000     1      0.09       431.76   \n",
       "95198      25000        25000            25000     1      0.10       537.23   \n",
       "95199      12000        12000            12000     0      0.13       407.17   \n",
       "95200      18000        18000            18000     1      0.10       386.81   \n",
       "95201      20000        20000            20000     0      0.13       678.61   \n",
       "95202      28600        28600            28600     1      0.22       796.26   \n",
       "95203       6000         6000             6000     0      0.09       189.66   \n",
       "95204      18000        18000            18000     1      0.14       418.74   \n",
       "95205       5000         5000             5000     0      0.07       155.28   \n",
       "95206       2100         2100             2100     0      0.11        68.51   \n",
       "95207      32000        32000            32000     1      0.10       687.65   \n",
       "95208       1600         1600             1600     0      0.14        55.07   \n",
       "95209      34000        34000            34000     1      0.08       687.61   \n",
       "\n",
       "       grade  sub_grade  emp_title  emp_length             ...              \\\n",
       "0          3         34          3         2.0             ...               \n",
       "1          2         20          2         3.0             ...               \n",
       "2          4         48          0        10.0             ...               \n",
       "3          2         28          1        10.0             ...               \n",
       "4          3         32          0         5.0             ...               \n",
       "5          3         34          3        10.0             ...               \n",
       "6          3         32          1         2.0             ...               \n",
       "7          3         36          0         NaN             ...               \n",
       "8          4         46          0        10.0             ...               \n",
       "9          3         36          0        10.0             ...               \n",
       "10         5         56          0         4.0             ...               \n",
       "11         5         56          3        10.0             ...               \n",
       "12         2         26          3         7.0             ...               \n",
       "13         3         36          3         5.0             ...               \n",
       "14         2         20          0         8.0             ...               \n",
       "15         3         30          3         3.0             ...               \n",
       "16         3         34          1         3.0             ...               \n",
       "17         3         34          1        10.0             ...               \n",
       "18         2         22          2        10.0             ...               \n",
       "19         3         30          2         7.0             ...               \n",
       "20         1         10          1         8.0             ...               \n",
       "21         4         44          0         8.0             ...               \n",
       "22         3         34          3         9.0             ...               \n",
       "23         5         56          3        10.0             ...               \n",
       "24         2         28          1        10.0             ...               \n",
       "25         3         38          0        10.0             ...               \n",
       "26         3         38          1        10.0             ...               \n",
       "27         3         30          0         NaN             ...               \n",
       "28         2         20          0         3.0             ...               \n",
       "29         1         10          0         NaN             ...               \n",
       "...      ...        ...        ...         ...             ...               \n",
       "95180      2         26          3         3.0             ...               \n",
       "95181      2         26          3        10.0             ...               \n",
       "95182      2         24          1        10.0             ...               \n",
       "95183      2         26          1        10.0             ...               \n",
       "95184      2         20          3         7.0             ...               \n",
       "95185      1         18          1         4.0             ...               \n",
       "95186      4         40          3        10.0             ...               \n",
       "95187      6         60          1         2.0             ...               \n",
       "95188      3         30          3        10.0             ...               \n",
       "95189      2         26          3         4.0             ...               \n",
       "95190      2         26          3         8.0             ...               \n",
       "95191      2         24          3         1.0             ...               \n",
       "95192      2         28          0        10.0             ...               \n",
       "95193      2         26          2         4.0             ...               \n",
       "95194      2         20          1         3.0             ...               \n",
       "95195      2         28          3        10.0             ...               \n",
       "95196      3         34          0         3.0             ...               \n",
       "95197      1         18          3         5.0             ...               \n",
       "95198      2         24          0         1.0             ...               \n",
       "95199      3         32          0        10.0             ...               \n",
       "95200      2         24          3         4.0             ...               \n",
       "95201      3         32          0         NaN             ...               \n",
       "95202      5         50          3         4.0             ...               \n",
       "95203      1         18          0         3.0             ...               \n",
       "95204      3         34          3         2.0             ...               \n",
       "95205      1         16          3        10.0             ...               \n",
       "95206      2         26          0         NaN             ...               \n",
       "95207      2         24          3         4.0             ...               \n",
       "95208      3         36          0        10.0             ...               \n",
       "95209      1         18          1         6.0             ...               \n",
       "\n",
       "       num_tl_90g_dpd_24m  num_tl_op_past_12m  pct_tl_nvr_dlq  \\\n",
       "0                       0                   5           100.0   \n",
       "1                       0                   0           100.0   \n",
       "2                       0                   2           100.0   \n",
       "3                       0                   6           100.0   \n",
       "4                       0                   1           100.0   \n",
       "5                       0                   2           100.0   \n",
       "6                       0                   1            90.0   \n",
       "7                       0                   2           100.0   \n",
       "8                       0                   0           100.0   \n",
       "9                       0                   3            78.9   \n",
       "10                      0                   0            82.6   \n",
       "11                      0                   2           100.0   \n",
       "12                      0                   1            54.5   \n",
       "13                      2                   3            82.4   \n",
       "14                      0                   1            82.4   \n",
       "15                      0                   4           100.0   \n",
       "16                      0                   2           100.0   \n",
       "17                      0                   3           100.0   \n",
       "18                      0                   4            75.0   \n",
       "19                      0                   4           100.0   \n",
       "20                      0                   4            86.2   \n",
       "21                      2                   9            78.4   \n",
       "22                      0                   3            73.1   \n",
       "23                      0                   0           100.0   \n",
       "24                      0                   2            92.0   \n",
       "25                      0                   2           100.0   \n",
       "26                      0                   1           100.0   \n",
       "27                      0                   5            89.5   \n",
       "28                      0                   0           100.0   \n",
       "29                      0                   0           100.0   \n",
       "...                   ...                 ...             ...   \n",
       "95180                   0                   3            88.9   \n",
       "95181                   0                   1           100.0   \n",
       "95182                   0                   1            80.0   \n",
       "95183                   0                   1            65.0   \n",
       "95184                   4                   0            66.7   \n",
       "95185                   0                   2            94.1   \n",
       "95186                   0                   2           100.0   \n",
       "95187                   1                   7            74.3   \n",
       "95188                   0                   1            94.4   \n",
       "95189                   0                   0           100.0   \n",
       "95190                   0                   2           100.0   \n",
       "95191                   0                   0            73.3   \n",
       "95192                   0                   1           100.0   \n",
       "95193                   0                   4            96.8   \n",
       "95194                   0                   5            91.3   \n",
       "95195                   0                   1           100.0   \n",
       "95196                   0                   2            90.9   \n",
       "95197                   0                   5            98.5   \n",
       "95198                   0                   2            81.8   \n",
       "95199                   0                   1            91.3   \n",
       "95200                   0                   1           100.0   \n",
       "95201                   0                   4            85.7   \n",
       "95202                   0                   2            94.4   \n",
       "95203                   0                   1           100.0   \n",
       "95204                   0                   2            90.0   \n",
       "95205                   0                   0            94.4   \n",
       "95206                   0                   1            80.0   \n",
       "95207                   0                   4            91.7   \n",
       "95208                   0                   1           100.0   \n",
       "95209                   0                   7           100.0   \n",
       "\n",
       "       percent_bc_gt_75  pub_rec_bankruptcies  tax_liens  tot_hi_cred_lim  \\\n",
       "0                  33.3                     0          0           147587   \n",
       "1                   0.0                     0          0            73227   \n",
       "2                  40.0                     1          0           199969   \n",
       "3                  66.7                     0          0            68831   \n",
       "4                 100.0                     0          0            17500   \n",
       "5                  33.3                     0          0           166422   \n",
       "6                   0.0                     0          0             4700   \n",
       "7                 100.0                     0          0             9900   \n",
       "8                 100.0                     0          0            49046   \n",
       "9                  33.3                     0          0           153809   \n",
       "10                 90.0                     0          0            35146   \n",
       "11                100.0                     0          0           194415   \n",
       "12                 50.0                     0          0            17620   \n",
       "13                 40.0                     0          0            32410   \n",
       "14                  0.0                     0          0            50953   \n",
       "15                  0.0                     0          0           152823   \n",
       "16                 25.0                     0          0           151344   \n",
       "17                100.0                     1          0           112925   \n",
       "18                 12.5                     0          0           320817   \n",
       "19                 50.0                     1          0            54284   \n",
       "20                  6.7                     0          0           114322   \n",
       "21                 20.0                     0          0           290671   \n",
       "22                  0.0                     0          0           363550   \n",
       "23                100.0                     0          0            50600   \n",
       "24                 20.0                     0          0            36269   \n",
       "25                  0.0                     0          0           308780   \n",
       "26                100.0                     1          0            38851   \n",
       "27                  0.0                     1          0           172519   \n",
       "28                 20.0                     0          0           174900   \n",
       "29                  0.0                     0          0           486000   \n",
       "...                 ...                   ...        ...              ...   \n",
       "95180               0.0                     0          0           196891   \n",
       "95181             100.0                     0          1            95146   \n",
       "95182              50.0                     0          0           208585   \n",
       "95183             100.0                     0          0           429825   \n",
       "95184              66.7                     0          0           258030   \n",
       "95185               0.0                     0          0           269334   \n",
       "95186               0.0                     0          0           229229   \n",
       "95187             100.0                     0          0           166093   \n",
       "95188              60.0                     0          0            36281   \n",
       "95189              16.7                     0          0            86200   \n",
       "95190               0.0                     1          0           286050   \n",
       "95191               0.0                     0          0           113329   \n",
       "95192             100.0                     1          0           119998   \n",
       "95193               0.0                     0          0            89038   \n",
       "95194              55.6                     0          0           285244   \n",
       "95195              28.6                     1          0           280679   \n",
       "95196              33.3                     0          0            24616   \n",
       "95197               0.0                     0          0           549363   \n",
       "95198              50.0                     0          0           419958   \n",
       "95199              50.0                     0          0            82838   \n",
       "95200              71.4                     0          0           550125   \n",
       "95201               0.0                     0          0           395565   \n",
       "95202              40.0                     0          0           499574   \n",
       "95203               0.0                     0          0            41274   \n",
       "95204             100.0                     1          0            17100   \n",
       "95205               0.0                     0          0            40357   \n",
       "95206              50.0                     0          0            13451   \n",
       "95207               0.0                     0          0           359000   \n",
       "95208              33.3                     1          0            15947   \n",
       "95209               0.0                     0          0           603045   \n",
       "\n",
       "       total_bal_ex_mort  total_bc_limit  total_il_high_credit_limit  \n",
       "0                 140492           30200                      108587  \n",
       "1                  19497           50200                       20527  \n",
       "2                  24934           13900                       15886  \n",
       "3                  38085           13500                       36431  \n",
       "4                  15393            4800                       12700  \n",
       "5                  46662           22300                       41751  \n",
       "6                   2574            2600                           0  \n",
       "7                   8976            3600                        6300  \n",
       "8                  30981           21800                       22046  \n",
       "9                  42894            8200                       53309  \n",
       "10                 26270           15000                        3646  \n",
       "11                 29917            3800                       29993  \n",
       "12                 14671            7000                       10620  \n",
       "13                 24644           12100                       18310  \n",
       "14                 27102           12500                       35453  \n",
       "15                108236           36000                      100523  \n",
       "16                133970           24800                      126544  \n",
       "17                 22032            2700                       27025  \n",
       "18                 61171           40500                       60817  \n",
       "19                 18886           10300                       25584  \n",
       "20                 57840           56200                       58122  \n",
       "21                 43438           11000                       35386  \n",
       "22                 21533            2000                       15625  \n",
       "23                 48251           48000                           0  \n",
       "24                 10211           10900                        7469  \n",
       "25                 50155           33200                       64160  \n",
       "26                 29760            4700                       24151  \n",
       "27                 42279           25500                       44819  \n",
       "28                 23138           46300                           0  \n",
       "29                 37584          153700                       39000  \n",
       "...                  ...             ...                         ...  \n",
       "95180             152247           40000                      156891  \n",
       "95181              14991            4800                       20004  \n",
       "95182              34171           21000                       29735  \n",
       "95183              45776            9600                       44125  \n",
       "95184             238539           23800                      233530  \n",
       "95185              89618            8700                      102842  \n",
       "95186              19238            5300                        9637  \n",
       "95187               4484            1300                        3500  \n",
       "95188              25526           11400                       18181  \n",
       "95189              17090           86200                           0  \n",
       "95190              86745           43400                       93250  \n",
       "95191              13063           23700                           0  \n",
       "95192             107020            9900                      110098  \n",
       "95193              50814           35600                       47938  \n",
       "95194             125503           50500                       10000  \n",
       "95195              27113           16100                       25855  \n",
       "95196              10290            3800                       15816  \n",
       "95197              32700           74100                       25963  \n",
       "95198              30286           11500                       30725  \n",
       "95199              63694           40700                       42138  \n",
       "95200              34571           18300                       38225  \n",
       "95201             121636            5000                      108462  \n",
       "95202              85367           29600                       74174  \n",
       "95203              24812           15000                       19674  \n",
       "95204              12418           13000                           0  \n",
       "95205              11297           28000                       10357  \n",
       "95206               3740            2400                        3251  \n",
       "95207               3406           36700                           0  \n",
       "95208               7934            9300                        4647  \n",
       "95209             102966          103800                       88579  \n",
       "\n",
       "[95210 rows x 100 columns]>"
      ]
     },
     "execution_count": 167,
     "metadata": {},
     "output_type": "execute_result"
    }
   ],
   "source": [
    "data.info"
   ]
  },
  {
   "cell_type": "code",
   "execution_count": 170,
   "metadata": {},
   "outputs": [
    {
     "data": {
      "text/plain": [
       "<bound method DataFrame.info of          0  AK  AL  ANY  AR  AZ  Business  CA  CO  CT    ...     total_pymnt  \\\n",
       "0      0.0 NaN NaN  NaN NaN NaN       NaN NaN NaN NaN    ...             NaN   \n",
       "1      0.0 NaN NaN  NaN NaN NaN       NaN NaN NaN NaN    ...             NaN   \n",
       "2      0.0 NaN NaN  NaN NaN NaN       NaN NaN NaN NaN    ...             NaN   \n",
       "3      0.0 NaN NaN  NaN NaN NaN       NaN NaN NaN NaN    ...             NaN   \n",
       "4      0.0 NaN NaN  NaN NaN NaN       NaN NaN NaN NaN    ...             NaN   \n",
       "5      0.0 NaN NaN  NaN NaN NaN       NaN NaN NaN NaN    ...             NaN   \n",
       "6      0.0 NaN NaN  NaN NaN NaN       NaN NaN NaN NaN    ...             NaN   \n",
       "7      0.0 NaN NaN  NaN NaN NaN       NaN NaN NaN NaN    ...             NaN   \n",
       "8      0.0 NaN NaN  NaN NaN NaN       NaN NaN NaN NaN    ...             NaN   \n",
       "9      0.0 NaN NaN  NaN NaN NaN       NaN NaN NaN NaN    ...             NaN   \n",
       "10     0.0 NaN NaN  NaN NaN NaN       NaN NaN NaN NaN    ...             NaN   \n",
       "11     0.0 NaN NaN  NaN NaN NaN       NaN NaN NaN NaN    ...             NaN   \n",
       "12     0.0 NaN NaN  NaN NaN NaN       NaN NaN NaN NaN    ...             NaN   \n",
       "13     0.0 NaN NaN  NaN NaN NaN       NaN NaN NaN NaN    ...             NaN   \n",
       "14     0.0 NaN NaN  NaN NaN NaN       NaN NaN NaN NaN    ...             NaN   \n",
       "15     0.0 NaN NaN  NaN NaN NaN       NaN NaN NaN NaN    ...             NaN   \n",
       "16     0.0 NaN NaN  NaN NaN NaN       NaN NaN NaN NaN    ...             NaN   \n",
       "17     1.0 NaN NaN  NaN NaN NaN       NaN NaN NaN NaN    ...             NaN   \n",
       "18     0.0 NaN NaN  NaN NaN NaN       NaN NaN NaN NaN    ...             NaN   \n",
       "19     0.0 NaN NaN  NaN NaN NaN       NaN NaN NaN NaN    ...             NaN   \n",
       "20     0.0 NaN NaN  NaN NaN NaN       NaN NaN NaN NaN    ...             NaN   \n",
       "21     0.0 NaN NaN  NaN NaN NaN       NaN NaN NaN NaN    ...             NaN   \n",
       "22     0.0 NaN NaN  NaN NaN NaN       NaN NaN NaN NaN    ...             NaN   \n",
       "23     0.0 NaN NaN  NaN NaN NaN       NaN NaN NaN NaN    ...             NaN   \n",
       "24     0.0 NaN NaN  NaN NaN NaN       NaN NaN NaN NaN    ...             NaN   \n",
       "25     0.0 NaN NaN  NaN NaN NaN       NaN NaN NaN NaN    ...             NaN   \n",
       "26     0.0 NaN NaN  NaN NaN NaN       NaN NaN NaN NaN    ...             NaN   \n",
       "27     0.0 NaN NaN  NaN NaN NaN       NaN NaN NaN NaN    ...             NaN   \n",
       "28     0.0 NaN NaN  NaN NaN NaN       NaN NaN NaN NaN    ...             NaN   \n",
       "29     0.0 NaN NaN  NaN NaN NaN       NaN NaN NaN NaN    ...             NaN   \n",
       "...    ...  ..  ..  ...  ..  ..       ...  ..  ..  ..    ...             ...   \n",
       "95180  NaN NaN NaN  NaN NaN NaN       NaN NaN NaN NaN    ...             NaN   \n",
       "95181  NaN NaN NaN  NaN NaN NaN       NaN NaN NaN NaN    ...             NaN   \n",
       "95182  NaN NaN NaN  NaN NaN NaN       NaN NaN NaN NaN    ...             NaN   \n",
       "95183  NaN NaN NaN  NaN NaN NaN       NaN NaN NaN NaN    ...             NaN   \n",
       "95184  NaN NaN NaN  NaN NaN NaN       NaN NaN NaN NaN    ...             NaN   \n",
       "95185  NaN NaN NaN  NaN NaN NaN       NaN NaN NaN NaN    ...             NaN   \n",
       "95186  NaN NaN NaN  NaN NaN NaN       NaN NaN NaN NaN    ...             NaN   \n",
       "95187  NaN NaN NaN  NaN NaN NaN       NaN NaN NaN NaN    ...             NaN   \n",
       "95188  NaN NaN NaN  NaN NaN NaN       NaN NaN NaN NaN    ...             NaN   \n",
       "95189  NaN NaN NaN  NaN NaN NaN       NaN NaN NaN NaN    ...             NaN   \n",
       "95190  NaN NaN NaN  NaN NaN NaN       NaN NaN NaN NaN    ...             NaN   \n",
       "95191  NaN NaN NaN  NaN NaN NaN       NaN NaN NaN NaN    ...             NaN   \n",
       "95192  NaN NaN NaN  NaN NaN NaN       NaN NaN NaN NaN    ...             NaN   \n",
       "95193  NaN NaN NaN  NaN NaN NaN       NaN NaN NaN NaN    ...             NaN   \n",
       "95194  NaN NaN NaN  NaN NaN NaN       NaN NaN NaN NaN    ...             NaN   \n",
       "95195  NaN NaN NaN  NaN NaN NaN       NaN NaN NaN NaN    ...             NaN   \n",
       "95196  NaN NaN NaN  NaN NaN NaN       NaN NaN NaN NaN    ...             NaN   \n",
       "95197  NaN NaN NaN  NaN NaN NaN       NaN NaN NaN NaN    ...             NaN   \n",
       "95198  NaN NaN NaN  NaN NaN NaN       NaN NaN NaN NaN    ...             NaN   \n",
       "95199  NaN NaN NaN  NaN NaN NaN       NaN NaN NaN NaN    ...             NaN   \n",
       "95200  NaN NaN NaN  NaN NaN NaN       NaN NaN NaN NaN    ...             NaN   \n",
       "95201  NaN NaN NaN  NaN NaN NaN       NaN NaN NaN NaN    ...             NaN   \n",
       "95202  NaN NaN NaN  NaN NaN NaN       NaN NaN NaN NaN    ...             NaN   \n",
       "95203  NaN NaN NaN  NaN NaN NaN       NaN NaN NaN NaN    ...             NaN   \n",
       "95204  NaN NaN NaN  NaN NaN NaN       NaN NaN NaN NaN    ...             NaN   \n",
       "95205  NaN NaN NaN  NaN NaN NaN       NaN NaN NaN NaN    ...             NaN   \n",
       "95206  NaN NaN NaN  NaN NaN NaN       NaN NaN NaN NaN    ...             NaN   \n",
       "95207  NaN NaN NaN  NaN NaN NaN       NaN NaN NaN NaN    ...             NaN   \n",
       "95208  NaN NaN NaN  NaN NaN NaN       NaN NaN NaN NaN    ...             NaN   \n",
       "95209  NaN NaN NaN  NaN NaN NaN       NaN NaN NaN NaN    ...             NaN   \n",
       "\n",
       "       total_pymnt_inv  total_rec_int  total_rec_late_fee  total_rec_prncp  \\\n",
       "0                  NaN            NaN                 NaN              NaN   \n",
       "1                  NaN            NaN                 NaN              NaN   \n",
       "2                  NaN            NaN                 NaN              NaN   \n",
       "3                  NaN            NaN                 NaN              NaN   \n",
       "4                  NaN            NaN                 NaN              NaN   \n",
       "5                  NaN            NaN                 NaN              NaN   \n",
       "6                  NaN            NaN                 NaN              NaN   \n",
       "7                  NaN            NaN                 NaN              NaN   \n",
       "8                  NaN            NaN                 NaN              NaN   \n",
       "9                  NaN            NaN                 NaN              NaN   \n",
       "10                 NaN            NaN                 NaN              NaN   \n",
       "11                 NaN            NaN                 NaN              NaN   \n",
       "12                 NaN            NaN                 NaN              NaN   \n",
       "13                 NaN            NaN                 NaN              NaN   \n",
       "14                 NaN            NaN                 NaN              NaN   \n",
       "15                 NaN            NaN                 NaN              NaN   \n",
       "16                 NaN            NaN                 NaN              NaN   \n",
       "17                 NaN            NaN                 NaN              NaN   \n",
       "18                 NaN            NaN                 NaN              NaN   \n",
       "19                 NaN            NaN                 NaN              NaN   \n",
       "20                 NaN            NaN                 NaN              NaN   \n",
       "21                 NaN            NaN                 NaN              NaN   \n",
       "22                 NaN            NaN                 NaN              NaN   \n",
       "23                 NaN            NaN                 NaN              NaN   \n",
       "24                 NaN            NaN                 NaN              NaN   \n",
       "25                 NaN            NaN                 NaN              NaN   \n",
       "26                 NaN            NaN                 NaN              NaN   \n",
       "27                 NaN            NaN                 NaN              NaN   \n",
       "28                 NaN            NaN                 NaN              NaN   \n",
       "29                 NaN            NaN                 NaN              NaN   \n",
       "...                ...            ...                 ...              ...   \n",
       "95180              NaN            NaN                 NaN              NaN   \n",
       "95181              NaN            NaN                 NaN              NaN   \n",
       "95182              NaN            NaN                 NaN              NaN   \n",
       "95183              NaN            NaN                 NaN              NaN   \n",
       "95184              NaN            NaN                 NaN              NaN   \n",
       "95185              NaN            NaN                 NaN              NaN   \n",
       "95186              NaN            NaN                 NaN              NaN   \n",
       "95187              NaN            NaN                 NaN              NaN   \n",
       "95188              NaN            NaN                 NaN              NaN   \n",
       "95189              NaN            NaN                 NaN              NaN   \n",
       "95190              NaN            NaN                 NaN              NaN   \n",
       "95191              NaN            NaN                 NaN              NaN   \n",
       "95192              NaN            NaN                 NaN              NaN   \n",
       "95193              NaN            NaN                 NaN              NaN   \n",
       "95194              NaN            NaN                 NaN              NaN   \n",
       "95195              NaN            NaN                 NaN              NaN   \n",
       "95196              NaN            NaN                 NaN              NaN   \n",
       "95197              NaN            NaN                 NaN              NaN   \n",
       "95198              NaN            NaN                 NaN              NaN   \n",
       "95199              NaN            NaN                 NaN              NaN   \n",
       "95200              NaN            NaN                 NaN              NaN   \n",
       "95201              NaN            NaN                 NaN              NaN   \n",
       "95202              NaN            NaN                 NaN              NaN   \n",
       "95203              NaN            NaN                 NaN              NaN   \n",
       "95204              NaN            NaN                 NaN              NaN   \n",
       "95205              NaN            NaN                 NaN              NaN   \n",
       "95206              NaN            NaN                 NaN              NaN   \n",
       "95207              NaN            NaN                 NaN              NaN   \n",
       "95208              NaN            NaN                 NaN              NaN   \n",
       "95209              NaN            NaN                 NaN              NaN   \n",
       "\n",
       "       total_rev_hi_lim  vacation  verification_status_joint  wedding  \\\n",
       "0                   NaN       NaN                        NaN      NaN   \n",
       "1                   NaN       NaN                        NaN      NaN   \n",
       "2                   NaN       NaN                        NaN      NaN   \n",
       "3                   NaN       NaN                        NaN      NaN   \n",
       "4                   NaN       NaN                        NaN      NaN   \n",
       "5                   NaN       NaN                        NaN      NaN   \n",
       "6                   NaN       NaN                        NaN      NaN   \n",
       "7                   NaN       NaN                        NaN      NaN   \n",
       "8                   NaN       NaN                        NaN      NaN   \n",
       "9                   NaN       NaN                        NaN      NaN   \n",
       "10                  NaN       NaN                        NaN      NaN   \n",
       "11                  NaN       NaN                        NaN      NaN   \n",
       "12                  NaN       NaN                        NaN      NaN   \n",
       "13                  NaN       NaN                        NaN      NaN   \n",
       "14                  NaN       NaN                        NaN      NaN   \n",
       "15                  NaN       NaN                        NaN      NaN   \n",
       "16                  NaN       NaN                        NaN      NaN   \n",
       "17                  NaN       NaN                        NaN      NaN   \n",
       "18                  NaN       NaN                        NaN      NaN   \n",
       "19                  NaN       NaN                        NaN      NaN   \n",
       "20                  NaN       NaN                        NaN      NaN   \n",
       "21                  NaN       NaN                        NaN      NaN   \n",
       "22                  NaN       NaN                        NaN      NaN   \n",
       "23                  NaN       NaN                        NaN      NaN   \n",
       "24                  NaN       NaN                        NaN      NaN   \n",
       "25                  NaN       NaN                        NaN      NaN   \n",
       "26                  NaN       NaN                        NaN      NaN   \n",
       "27                  NaN       NaN                        NaN      NaN   \n",
       "28                  NaN       NaN                        NaN      NaN   \n",
       "29                  NaN       NaN                        NaN      NaN   \n",
       "...                 ...       ...                        ...      ...   \n",
       "95180               NaN       NaN                        NaN      NaN   \n",
       "95181               NaN       NaN                        NaN      NaN   \n",
       "95182               NaN       NaN                        NaN      NaN   \n",
       "95183               NaN       NaN                        NaN      NaN   \n",
       "95184               NaN       NaN                        NaN      NaN   \n",
       "95185               NaN       NaN                        NaN      NaN   \n",
       "95186               NaN       NaN                        NaN      NaN   \n",
       "95187               NaN       NaN                        NaN      NaN   \n",
       "95188               NaN       NaN                        NaN      NaN   \n",
       "95189               NaN       NaN                        NaN      NaN   \n",
       "95190               NaN       NaN                        NaN      NaN   \n",
       "95191               NaN       NaN                        NaN      NaN   \n",
       "95192               NaN       NaN                        NaN      NaN   \n",
       "95193               NaN       NaN                        NaN      NaN   \n",
       "95194               NaN       NaN                        NaN      NaN   \n",
       "95195               NaN       NaN                        NaN      NaN   \n",
       "95196               NaN       NaN                        NaN      NaN   \n",
       "95197               NaN       NaN                        NaN      NaN   \n",
       "95198               NaN       NaN                        NaN      NaN   \n",
       "95199               NaN       NaN                        NaN      NaN   \n",
       "95200               NaN       NaN                        NaN      NaN   \n",
       "95201               NaN       NaN                        NaN      NaN   \n",
       "95202               NaN       NaN                        NaN      NaN   \n",
       "95203               NaN       NaN                        NaN      NaN   \n",
       "95204               NaN       NaN                        NaN      NaN   \n",
       "95205               NaN       NaN                        NaN      NaN   \n",
       "95206               NaN       NaN                        NaN      NaN   \n",
       "95207               NaN       NaN                        NaN      NaN   \n",
       "95208               NaN       NaN                        NaN      NaN   \n",
       "95209               NaN       NaN                        NaN      NaN   \n",
       "\n",
       "       zip_code  \n",
       "0           NaN  \n",
       "1           NaN  \n",
       "2           NaN  \n",
       "3           NaN  \n",
       "4           NaN  \n",
       "5           NaN  \n",
       "6           NaN  \n",
       "7           NaN  \n",
       "8           NaN  \n",
       "9           NaN  \n",
       "10          NaN  \n",
       "11          NaN  \n",
       "12          NaN  \n",
       "13          NaN  \n",
       "14          NaN  \n",
       "15          NaN  \n",
       "16          NaN  \n",
       "17          NaN  \n",
       "18          NaN  \n",
       "19          NaN  \n",
       "20          NaN  \n",
       "21          NaN  \n",
       "22          NaN  \n",
       "23          NaN  \n",
       "24          NaN  \n",
       "25          NaN  \n",
       "26          NaN  \n",
       "27          NaN  \n",
       "28          NaN  \n",
       "29          NaN  \n",
       "...         ...  \n",
       "95180       NaN  \n",
       "95181       NaN  \n",
       "95182       NaN  \n",
       "95183       NaN  \n",
       "95184       NaN  \n",
       "95185       NaN  \n",
       "95186       NaN  \n",
       "95187       NaN  \n",
       "95188       NaN  \n",
       "95189       NaN  \n",
       "95190       NaN  \n",
       "95191       NaN  \n",
       "95192       NaN  \n",
       "95193       NaN  \n",
       "95194       NaN  \n",
       "95195       NaN  \n",
       "95196       NaN  \n",
       "95197       NaN  \n",
       "95198       NaN  \n",
       "95199       NaN  \n",
       "95200       NaN  \n",
       "95201       NaN  \n",
       "95202       NaN  \n",
       "95203       NaN  \n",
       "95204       NaN  \n",
       "95205       NaN  \n",
       "95206       NaN  \n",
       "95207       NaN  \n",
       "95208       NaN  \n",
       "95209       NaN  \n",
       "\n",
       "[761680 rows x 186 columns]>"
      ]
     },
     "execution_count": 170,
     "metadata": {},
     "output_type": "execute_result"
    }
   ],
   "source": [
    "dataset = pd.concat([data, features])\n",
    "dataset = pd.concat([target, dataset])\n",
    "dataset.info"
   ]
  },
  {
   "cell_type": "code",
   "execution_count": null,
   "metadata": {},
   "outputs": [],
   "source": []
  }
 ],
 "metadata": {
  "kernelspec": {
   "display_name": "Python 3",
   "language": "python",
   "name": "python3"
  },
  "language_info": {
   "codemirror_mode": {
    "name": "ipython",
    "version": 3
   },
   "file_extension": ".py",
   "mimetype": "text/x-python",
   "name": "python",
   "nbconvert_exporter": "python",
   "pygments_lexer": "ipython3",
   "version": "3.6.3"
  }
 },
 "nbformat": 4,
 "nbformat_minor": 2
}
