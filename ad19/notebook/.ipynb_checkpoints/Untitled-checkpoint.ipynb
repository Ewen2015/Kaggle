{
 "cells": [
  {
   "cell_type": "code",
   "execution_count": 2,
   "metadata": {
    "ExecuteTime": {
     "end_time": "2019-04-27T06:50:06.399649Z",
     "start_time": "2019-04-27T06:50:06.384995Z"
    }
   },
   "outputs": [],
   "source": [
    "import pandas as pd\n",
    "import json\n",
    "import matplotlib.pyplot as plt\n",
    "%matplotlib inline\n",
    "import warnings\n",
    "warnings.filterwarnings('ignore')\n",
    "pd.set_option('display.max_columns', 600)\n",
    "\n",
    "config = dict()\n",
    "\n",
    "with open('config.json', 'r') as f:\n",
    "    config = json.load(f)"
   ]
  },
  {
   "cell_type": "code",
   "execution_count": 4,
   "metadata": {
    "ExecuteTime": {
     "end_time": "2019-04-27T06:52:47.426111Z",
     "start_time": "2019-04-27T06:52:47.356375Z"
    }
   },
   "outputs": [
    {
     "name": "stdout",
     "output_type": "stream",
     "text": [
      "(10, 10)\n"
     ]
    },
    {
     "data": {
      "text/html": [
       "<div>\n",
       "<style scoped>\n",
       "    .dataframe tbody tr th:only-of-type {\n",
       "        vertical-align: middle;\n",
       "    }\n",
       "\n",
       "    .dataframe tbody tr th {\n",
       "        vertical-align: top;\n",
       "    }\n",
       "\n",
       "    .dataframe thead th {\n",
       "        text-align: right;\n",
       "    }\n",
       "</style>\n",
       "<table border=\"1\" class=\"dataframe\">\n",
       "  <thead>\n",
       "    <tr style=\"text-align: right;\">\n",
       "      <th></th>\n",
       "      <th>53991770</th>\n",
       "      <th>1550409746</th>\n",
       "      <th>94</th>\n",
       "      <th>1160618</th>\n",
       "      <th>451525</th>\n",
       "      <th>50</th>\n",
       "      <th>46</th>\n",
       "      <th>47.217</th>\n",
       "      <th>944.34</th>\n",
       "      <th>3122.34</th>\n",
       "    </tr>\n",
       "  </thead>\n",
       "  <tbody>\n",
       "    <tr>\n",
       "      <th>0</th>\n",
       "      <td>25942318</td>\n",
       "      <td>1550370892</td>\n",
       "      <td>79</td>\n",
       "      <td>203814</td>\n",
       "      <td>214797</td>\n",
       "      <td>64</td>\n",
       "      <td>10</td>\n",
       "      <td>49.094</td>\n",
       "      <td>981.88</td>\n",
       "      <td>1471.880</td>\n",
       "    </tr>\n",
       "    <tr>\n",
       "      <th>1</th>\n",
       "      <td>66156247</td>\n",
       "      <td>1550416600</td>\n",
       "      <td>18</td>\n",
       "      <td>808543</td>\n",
       "      <td>92253</td>\n",
       "      <td>40</td>\n",
       "      <td>96</td>\n",
       "      <td>3.824</td>\n",
       "      <td>76.48</td>\n",
       "      <td>443.584</td>\n",
       "    </tr>\n",
       "    <tr>\n",
       "      <th>2</th>\n",
       "      <td>5935886</td>\n",
       "      <td>1550365898</td>\n",
       "      <td>198</td>\n",
       "      <td>7270</td>\n",
       "      <td>160082</td>\n",
       "      <td>64</td>\n",
       "      <td>85</td>\n",
       "      <td>6.123</td>\n",
       "      <td>122.46</td>\n",
       "      <td>642.915</td>\n",
       "    </tr>\n",
       "    <tr>\n",
       "      <th>3</th>\n",
       "      <td>11624425</td>\n",
       "      <td>1550361159</td>\n",
       "      <td>168</td>\n",
       "      <td>852707</td>\n",
       "      <td>253902</td>\n",
       "      <td>64</td>\n",
       "      <td>60</td>\n",
       "      <td>4.329</td>\n",
       "      <td>86.58</td>\n",
       "      <td>346.320</td>\n",
       "    </tr>\n",
       "    <tr>\n",
       "      <th>4</th>\n",
       "      <td>87085212</td>\n",
       "      <td>1550406108</td>\n",
       "      <td>209</td>\n",
       "      <td>794015</td>\n",
       "      <td>126362</td>\n",
       "      <td>64</td>\n",
       "      <td>236</td>\n",
       "      <td>13.914</td>\n",
       "      <td>278.28</td>\n",
       "      <td>3561.984</td>\n",
       "    </tr>\n",
       "  </tbody>\n",
       "</table>\n",
       "</div>"
      ],
      "text/plain": [
       "   53991770  1550409746   94  1160618  451525  50   46  47.217  944.34  \\\n",
       "0  25942318  1550370892   79   203814  214797  64   10  49.094  981.88   \n",
       "1  66156247  1550416600   18   808543   92253  40   96   3.824   76.48   \n",
       "2   5935886  1550365898  198     7270  160082  64   85   6.123  122.46   \n",
       "3  11624425  1550361159  168   852707  253902  64   60   4.329   86.58   \n",
       "4  87085212  1550406108  209   794015  126362  64  236  13.914  278.28   \n",
       "\n",
       "    3122.34  \n",
       "0  1471.880  \n",
       "1   443.584  \n",
       "2   642.915  \n",
       "3   346.320  \n",
       "4  3561.984  "
      ]
     },
     "execution_count": 4,
     "metadata": {},
     "output_type": "execute_result"
    }
   ],
   "source": [
    "df = pd.read_csv(config['dir_data']+config['file_log'], sep='\\t', nrows=10)\n",
    "print(df.shape)\n",
    "df.head()"
   ]
  },
  {
   "cell_type": "code",
   "execution_count": null,
   "metadata": {},
   "outputs": [],
   "source": []
  }
 ],
 "metadata": {
  "kernelspec": {
   "display_name": "python3.7",
   "language": "python",
   "name": "python3.7"
  },
  "language_info": {
   "codemirror_mode": {
    "name": "ipython",
    "version": 3
   },
   "file_extension": ".py",
   "mimetype": "text/x-python",
   "name": "python",
   "nbconvert_exporter": "python",
   "pygments_lexer": "ipython3",
   "version": "3.7.3"
  },
  "toc": {
   "nav_menu": {},
   "number_sections": true,
   "sideBar": true,
   "skip_h1_title": false,
   "toc_cell": false,
   "toc_position": {},
   "toc_section_display": "block",
   "toc_window_display": false
  },
  "varInspector": {
   "cols": {
    "lenName": 16,
    "lenType": 16,
    "lenVar": 40
   },
   "kernels_config": {
    "python": {
     "delete_cmd_postfix": "",
     "delete_cmd_prefix": "del ",
     "library": "var_list.py",
     "varRefreshCmd": "print(var_dic_list())"
    },
    "r": {
     "delete_cmd_postfix": ") ",
     "delete_cmd_prefix": "rm(",
     "library": "var_list.r",
     "varRefreshCmd": "cat(var_dic_list()) "
    }
   },
   "types_to_exclude": [
    "module",
    "function",
    "builtin_function_or_method",
    "instance",
    "_Feature"
   ],
   "window_display": false
  }
 },
 "nbformat": 4,
 "nbformat_minor": 2
}
