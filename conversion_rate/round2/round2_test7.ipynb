{
 "cells": [
  {
   "cell_type": "code",
   "execution_count": 1,
   "metadata": {
    "ExecuteTime": {
     "end_time": "2018-05-09T07:30:53.825553Z",
     "start_time": "2018-05-09T07:30:53.818385Z"
    }
   },
   "outputs": [],
   "source": [
    "import MLFeatureSelection"
   ]
  },
  {
   "cell_type": "code",
   "execution_count": 4,
   "metadata": {
    "ExecuteTime": {
     "end_time": "2018-05-09T15:03:52.387744Z",
     "start_time": "2018-05-09T15:03:51.959067Z"
    }
   },
   "outputs": [],
   "source": [
    "import pandas as pd\n",
    "import numpy as np\n",
    "\n",
    "wd = '/Users/ewenwang/Documents/practice_data/conversion_rate/'\n",
    "file = 'round1_ijcai_18_test_a_20180301.txt'\n",
    "\n",
    "data = pd.read_csv(wd+file, sep=' ')"
   ]
  },
  {
   "cell_type": "code",
   "execution_count": 5,
   "metadata": {
    "ExecuteTime": {
     "end_time": "2018-05-09T15:03:53.731631Z",
     "start_time": "2018-05-09T15:03:53.690261Z"
    }
   },
   "outputs": [
    {
     "data": {
      "text/html": [
       "<div>\n",
       "<style scoped>\n",
       "    .dataframe tbody tr th:only-of-type {\n",
       "        vertical-align: middle;\n",
       "    }\n",
       "\n",
       "    .dataframe tbody tr th {\n",
       "        vertical-align: top;\n",
       "    }\n",
       "\n",
       "    .dataframe thead th {\n",
       "        text-align: right;\n",
       "    }\n",
       "</style>\n",
       "<table border=\"1\" class=\"dataframe\">\n",
       "  <thead>\n",
       "    <tr style=\"text-align: right;\">\n",
       "      <th></th>\n",
       "      <th>instance_id</th>\n",
       "      <th>item_id</th>\n",
       "      <th>item_category_list</th>\n",
       "      <th>item_property_list</th>\n",
       "      <th>item_brand_id</th>\n",
       "      <th>item_city_id</th>\n",
       "      <th>item_price_level</th>\n",
       "      <th>item_sales_level</th>\n",
       "      <th>item_collected_level</th>\n",
       "      <th>item_pv_level</th>\n",
       "      <th>...</th>\n",
       "      <th>context_timestamp</th>\n",
       "      <th>context_page_id</th>\n",
       "      <th>predict_category_property</th>\n",
       "      <th>shop_id</th>\n",
       "      <th>shop_review_num_level</th>\n",
       "      <th>shop_review_positive_rate</th>\n",
       "      <th>shop_star_level</th>\n",
       "      <th>shop_score_service</th>\n",
       "      <th>shop_score_delivery</th>\n",
       "      <th>shop_score_description</th>\n",
       "    </tr>\n",
       "  </thead>\n",
       "  <tbody>\n",
       "    <tr>\n",
       "      <th>0</th>\n",
       "      <td>2475218615076601065</td>\n",
       "      <td>2275895163219263378</td>\n",
       "      <td>7908382889764677758;8277336076276184272</td>\n",
       "      <td>2636395404473730413;7515802706813700848;302719...</td>\n",
       "      <td>7838285046767229711</td>\n",
       "      <td>7534238860363577544</td>\n",
       "      <td>7</td>\n",
       "      <td>6</td>\n",
       "      <td>8</td>\n",
       "      <td>14</td>\n",
       "      <td>...</td>\n",
       "      <td>1537885700</td>\n",
       "      <td>4005</td>\n",
       "      <td>8277336076276184272:-1;5799347067982556520:-1;...</td>\n",
       "      <td>5275548996133547595</td>\n",
       "      <td>13</td>\n",
       "      <td>0.985244</td>\n",
       "      <td>5011</td>\n",
       "      <td>0.964023</td>\n",
       "      <td>0.966550</td>\n",
       "      <td>0.955378</td>\n",
       "    </tr>\n",
       "    <tr>\n",
       "      <th>1</th>\n",
       "      <td>398316874173557226</td>\n",
       "      <td>7096238490711246967</td>\n",
       "      <td>7908382889764677758;5755694407684602296</td>\n",
       "      <td>5131280576272319091;2636395404473730413;734498...</td>\n",
       "      <td>8126195666233054089</td>\n",
       "      <td>3948283326616421003</td>\n",
       "      <td>6</td>\n",
       "      <td>9</td>\n",
       "      <td>8</td>\n",
       "      <td>16</td>\n",
       "      <td>...</td>\n",
       "      <td>1537862843</td>\n",
       "      <td>4001</td>\n",
       "      <td>5755694407684602296:216555019471416386,2636395...</td>\n",
       "      <td>329470548383752413</td>\n",
       "      <td>14</td>\n",
       "      <td>0.989068</td>\n",
       "      <td>5012</td>\n",
       "      <td>0.963794</td>\n",
       "      <td>0.964225</td>\n",
       "      <td>0.959134</td>\n",
       "    </tr>\n",
       "    <tr>\n",
       "      <th>2</th>\n",
       "      <td>6586402638209028583</td>\n",
       "      <td>7096238490711246967</td>\n",
       "      <td>7908382889764677758;5755694407684602296</td>\n",
       "      <td>5131280576272319091;2636395404473730413;734498...</td>\n",
       "      <td>8126195666233054089</td>\n",
       "      <td>3948283326616421003</td>\n",
       "      <td>6</td>\n",
       "      <td>9</td>\n",
       "      <td>8</td>\n",
       "      <td>16</td>\n",
       "      <td>...</td>\n",
       "      <td>1537858222</td>\n",
       "      <td>4011</td>\n",
       "      <td>5755694407684602296:2636395404473730413;871073...</td>\n",
       "      <td>329470548383752413</td>\n",
       "      <td>14</td>\n",
       "      <td>0.989068</td>\n",
       "      <td>5012</td>\n",
       "      <td>0.963794</td>\n",
       "      <td>0.964225</td>\n",
       "      <td>0.959134</td>\n",
       "    </tr>\n",
       "    <tr>\n",
       "      <th>3</th>\n",
       "      <td>1040996105851528465</td>\n",
       "      <td>7096238490711246967</td>\n",
       "      <td>7908382889764677758;5755694407684602296</td>\n",
       "      <td>5131280576272319091;2636395404473730413;734498...</td>\n",
       "      <td>8126195666233054089</td>\n",
       "      <td>3948283326616421003</td>\n",
       "      <td>6</td>\n",
       "      <td>9</td>\n",
       "      <td>8</td>\n",
       "      <td>16</td>\n",
       "      <td>...</td>\n",
       "      <td>1537860915</td>\n",
       "      <td>4001</td>\n",
       "      <td>8710739180200009128:-1;5755694407684602296:263...</td>\n",
       "      <td>329470548383752413</td>\n",
       "      <td>14</td>\n",
       "      <td>0.989068</td>\n",
       "      <td>5012</td>\n",
       "      <td>0.963794</td>\n",
       "      <td>0.964225</td>\n",
       "      <td>0.959134</td>\n",
       "    </tr>\n",
       "    <tr>\n",
       "      <th>4</th>\n",
       "      <td>6316278569655873454</td>\n",
       "      <td>7096238490711246967</td>\n",
       "      <td>7908382889764677758;5755694407684602296</td>\n",
       "      <td>5131280576272319091;2636395404473730413;734498...</td>\n",
       "      <td>8126195666233054089</td>\n",
       "      <td>3948283326616421003</td>\n",
       "      <td>6</td>\n",
       "      <td>9</td>\n",
       "      <td>8</td>\n",
       "      <td>16</td>\n",
       "      <td>...</td>\n",
       "      <td>1537859074</td>\n",
       "      <td>4001</td>\n",
       "      <td>5755694407684602296:5131280576272319091;871073...</td>\n",
       "      <td>329470548383752413</td>\n",
       "      <td>14</td>\n",
       "      <td>0.989068</td>\n",
       "      <td>5012</td>\n",
       "      <td>0.963794</td>\n",
       "      <td>0.964225</td>\n",
       "      <td>0.959134</td>\n",
       "    </tr>\n",
       "  </tbody>\n",
       "</table>\n",
       "<p>5 rows × 26 columns</p>\n",
       "</div>"
      ],
      "text/plain": [
       "           instance_id              item_id  \\\n",
       "0  2475218615076601065  2275895163219263378   \n",
       "1   398316874173557226  7096238490711246967   \n",
       "2  6586402638209028583  7096238490711246967   \n",
       "3  1040996105851528465  7096238490711246967   \n",
       "4  6316278569655873454  7096238490711246967   \n",
       "\n",
       "                        item_category_list  \\\n",
       "0  7908382889764677758;8277336076276184272   \n",
       "1  7908382889764677758;5755694407684602296   \n",
       "2  7908382889764677758;5755694407684602296   \n",
       "3  7908382889764677758;5755694407684602296   \n",
       "4  7908382889764677758;5755694407684602296   \n",
       "\n",
       "                                  item_property_list        item_brand_id  \\\n",
       "0  2636395404473730413;7515802706813700848;302719...  7838285046767229711   \n",
       "1  5131280576272319091;2636395404473730413;734498...  8126195666233054089   \n",
       "2  5131280576272319091;2636395404473730413;734498...  8126195666233054089   \n",
       "3  5131280576272319091;2636395404473730413;734498...  8126195666233054089   \n",
       "4  5131280576272319091;2636395404473730413;734498...  8126195666233054089   \n",
       "\n",
       "          item_city_id  item_price_level  item_sales_level  \\\n",
       "0  7534238860363577544                 7                 6   \n",
       "1  3948283326616421003                 6                 9   \n",
       "2  3948283326616421003                 6                 9   \n",
       "3  3948283326616421003                 6                 9   \n",
       "4  3948283326616421003                 6                 9   \n",
       "\n",
       "   item_collected_level  item_pv_level           ...            \\\n",
       "0                     8             14           ...             \n",
       "1                     8             16           ...             \n",
       "2                     8             16           ...             \n",
       "3                     8             16           ...             \n",
       "4                     8             16           ...             \n",
       "\n",
       "   context_timestamp  context_page_id  \\\n",
       "0         1537885700             4005   \n",
       "1         1537862843             4001   \n",
       "2         1537858222             4011   \n",
       "3         1537860915             4001   \n",
       "4         1537859074             4001   \n",
       "\n",
       "                           predict_category_property              shop_id  \\\n",
       "0  8277336076276184272:-1;5799347067982556520:-1;...  5275548996133547595   \n",
       "1  5755694407684602296:216555019471416386,2636395...   329470548383752413   \n",
       "2  5755694407684602296:2636395404473730413;871073...   329470548383752413   \n",
       "3  8710739180200009128:-1;5755694407684602296:263...   329470548383752413   \n",
       "4  5755694407684602296:5131280576272319091;871073...   329470548383752413   \n",
       "\n",
       "   shop_review_num_level  shop_review_positive_rate  shop_star_level  \\\n",
       "0                     13                   0.985244             5011   \n",
       "1                     14                   0.989068             5012   \n",
       "2                     14                   0.989068             5012   \n",
       "3                     14                   0.989068             5012   \n",
       "4                     14                   0.989068             5012   \n",
       "\n",
       "   shop_score_service shop_score_delivery  shop_score_description  \n",
       "0            0.964023            0.966550                0.955378  \n",
       "1            0.963794            0.964225                0.959134  \n",
       "2            0.963794            0.964225                0.959134  \n",
       "3            0.963794            0.964225                0.959134  \n",
       "4            0.963794            0.964225                0.959134  \n",
       "\n",
       "[5 rows x 26 columns]"
      ]
     },
     "execution_count": 5,
     "metadata": {},
     "output_type": "execute_result"
    }
   ],
   "source": [
    "data.head()"
   ]
  },
  {
   "cell_type": "code",
   "execution_count": 6,
   "metadata": {
    "ExecuteTime": {
     "end_time": "2018-05-09T15:04:32.257922Z",
     "start_time": "2018-05-09T15:04:32.245716Z"
    }
   },
   "outputs": [],
   "source": [
    "def add(x,y):\n",
    "    return x + y\n",
    "\n",
    "def substract(x,y):\n",
    "    return x - y\n",
    "\n",
    "def times(x,y):\n",
    "    return x * y\n",
    "\n",
    "def divide(x,y):\n",
    "    return (x + 0.001)/(y + 0.001)"
   ]
  },
  {
   "cell_type": "code",
   "execution_count": 14,
   "metadata": {
    "ExecuteTime": {
     "end_time": "2018-05-09T15:37:18.936176Z",
     "start_time": "2018-05-09T15:37:18.920386Z"
    }
   },
   "outputs": [],
   "source": [
    "x = data['user_age_level']\n",
    "y = data['item_price_level']"
   ]
  },
  {
   "cell_type": "code",
   "execution_count": 15,
   "metadata": {
    "ExecuteTime": {
     "end_time": "2018-05-09T15:37:20.441192Z",
     "start_time": "2018-05-09T15:37:20.431231Z"
    }
   },
   "outputs": [],
   "source": [
    "m = add(x, y)"
   ]
  }
 ],
 "metadata": {
  "kernelspec": {
   "display_name": "Python 3",
   "language": "python",
   "name": "python3"
  },
  "language_info": {
   "codemirror_mode": {
    "name": "ipython",
    "version": 3
   },
   "file_extension": ".py",
   "mimetype": "text/x-python",
   "name": "python",
   "nbconvert_exporter": "python",
   "pygments_lexer": "ipython3",
   "version": "3.6.3"
  },
  "toc": {
   "nav_menu": {},
   "number_sections": true,
   "sideBar": true,
   "skip_h1_title": false,
   "toc_cell": false,
   "toc_position": {},
   "toc_section_display": "block",
   "toc_window_display": false
  },
  "varInspector": {
   "cols": {
    "lenName": 16,
    "lenType": 16,
    "lenVar": 40
   },
   "kernels_config": {
    "python": {
     "delete_cmd_postfix": "",
     "delete_cmd_prefix": "del ",
     "library": "var_list.py",
     "varRefreshCmd": "print(var_dic_list())"
    },
    "r": {
     "delete_cmd_postfix": ") ",
     "delete_cmd_prefix": "rm(",
     "library": "var_list.r",
     "varRefreshCmd": "cat(var_dic_list()) "
    }
   },
   "types_to_exclude": [
    "module",
    "function",
    "builtin_function_or_method",
    "instance",
    "_Feature"
   ],
   "window_display": false
  }
 },
 "nbformat": 4,
 "nbformat_minor": 2
}
