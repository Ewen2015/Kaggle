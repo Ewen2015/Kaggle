{
 "cells": [
  {
   "cell_type": "code",
   "execution_count": 1,
   "metadata": {
    "ExecuteTime": {
     "end_time": "2018-03-25T17:00:17.947199Z",
     "start_time": "2018-03-25T17:00:15.804523Z"
    }
   },
   "outputs": [],
   "source": [
    "import pandas as pd\n",
    "import lightgbm as lgb\n",
    "import Conversion\n",
    "from Conversion import Data\n",
    "from Conversion import Algorithm\n",
    "\n",
    "import warnings\n",
    "warnings.filterwarnings('ignore')"
   ]
  },
  {
   "cell_type": "code",
   "execution_count": null,
   "metadata": {},
   "outputs": [],
   "source": [
    "dat = Data()\n",
    "train, test = dat.Load(wd=Conversion.wd, data_list=Conversion.new_data)\n",
    "dtrain_, dvalidation_ = dat.Engineering(validation_day=24)"
   ]
  },
  {
   "cell_type": "code",
   "execution_count": null,
   "metadata": {
    "ExecuteTime": {
     "start_time": "2018-03-27T12:58:10.939Z"
    }
   },
   "outputs": [],
   "source": [
    "dvalidation_.shape"
   ]
  },
  {
   "cell_type": "code",
   "execution_count": 8,
   "metadata": {
    "ExecuteTime": {
     "end_time": "2018-03-25T17:19:23.843503Z",
     "start_time": "2018-03-25T17:18:41.288091Z"
    }
   },
   "outputs": [
    {
     "data": {
      "text/plain": [
       "LGBMClassifier(boosting_type='gbdt', class_weight=None, colsample_bytree=0.75,\n",
       "        learning_rate=0.01, max_depth=-1, min_child_samples=20,\n",
       "        min_child_weight=0.001, min_split_gain=0.0, n_estimators=500,\n",
       "        n_jobs=-1, num_leaves=31, objective=None, random_state=2018,\n",
       "        reg_alpha=0.0, reg_lambda=0.0, silent=True, subsample=0.75,\n",
       "        subsample_for_bin=200000, subsample_freq=1)"
      ]
     },
     "execution_count": 8,
     "metadata": {},
     "output_type": "execute_result"
    }
   ],
   "source": [
    "clf = lgb.LGBMClassifier(\n",
    "    boosting_type='gbdt', \n",
    "    num_leaves=31, \n",
    "    max_depth=-1,                    #\n",
    "    learning_rate=0.01,                     #\n",
    "    n_estimators=500,                       #\n",
    "    subsample_for_bin=200000, \n",
    "    objective=None, \n",
    "    class_weight=None, \n",
    "    min_split_gain=0.0, \n",
    "    min_child_weight=0.001, \n",
    "    min_child_samples=20, \n",
    "    subsample=0.75,                    #\n",
    "    subsample_freq=1, \n",
    "    colsample_bytree=0.75,      #\n",
    "    reg_alpha=0.0, \n",
    "    reg_lambda=0.0, \n",
    "    random_state=2018,                      #\n",
    "    n_jobs=-1, \n",
    "    silent=True)\n",
    "\n",
    "clf.fit(dtrain_[dat.predictors], dtrain_[dat.target], feature_name=dat.predictors)"
   ]
  },
  {
   "cell_type": "code",
   "execution_count": 9,
   "metadata": {
    "ExecuteTime": {
     "end_time": "2018-03-25T17:19:28.954626Z",
     "start_time": "2018-03-25T17:19:28.217088Z"
    }
   },
   "outputs": [],
   "source": [
    "dvalidation_['predicted_score'] = clf.predict_proba(dvalidation_[dat.predictors])[:, 1]"
   ]
  },
  {
   "cell_type": "code",
   "execution_count": 10,
   "metadata": {
    "ExecuteTime": {
     "end_time": "2018-03-25T17:19:30.722917Z",
     "start_time": "2018-03-25T17:19:30.684854Z"
    }
   },
   "outputs": [
    {
     "data": {
      "text/plain": [
       "0.09957758930675385"
      ]
     },
     "execution_count": 10,
     "metadata": {},
     "output_type": "execute_result"
    }
   ],
   "source": [
    "from sklearn.metrics import log_loss\n",
    "\n",
    "log_loss(dvalidation_[dat.target], dvalidation_['predicted_score'])"
   ]
  },
  {
   "cell_type": "code",
   "execution_count": 11,
   "metadata": {
    "ExecuteTime": {
     "end_time": "2018-03-25T17:24:39.896687Z",
     "start_time": "2018-03-25T17:24:39.475263Z"
    }
   },
   "outputs": [],
   "source": [
    "alg = Algorithm(train=dtrain_, test=dvalidation_, target=dat.target, features=dat.predictors, validation_day=24)"
   ]
  },
  {
   "cell_type": "code",
   "execution_count": 13,
   "metadata": {
    "ExecuteTime": {
     "end_time": "2018-03-25T17:27:18.073619Z",
     "start_time": "2018-03-25T17:27:18.070708Z"
    }
   },
   "outputs": [],
   "source": [
    "# bsline = alg.Baseline()"
   ]
  },
  {
   "cell_type": "code",
   "execution_count": 14,
   "metadata": {
    "ExecuteTime": {
     "end_time": "2018-03-25T22:08:51.624316Z",
     "start_time": "2018-03-25T17:27:23.544596Z"
    }
   },
   "outputs": [
    {
     "name": "stdout",
     "output_type": "stream",
     "text": [
      "simulating...\n",
      "\n",
      "INFO: Number of possible iterations given cooling schedule: 4582\n",
      "\n"
     ]
    },
    {
     "name": "stderr",
     "output_type": "stream",
     "text": [
      "[Parallel(n_jobs=1)]: Done   5 out of   5 | elapsed:  5.4min finished\n"
     ]
    },
    {
     "name": "stdout",
     "output_type": "stream",
     "text": [
      "2 T: 10.0, score: -0.0000, std: 0.0000, params: {'max_depth': '14.00', 'subsample': '0.70', 'colsample_bytree': '0.79'}\n"
     ]
    },
    {
     "name": "stderr",
     "output_type": "stream",
     "text": [
      "[Parallel(n_jobs=1)]: Done   5 out of   5 | elapsed: 31.8min finished\n"
     ]
    },
    {
     "name": "stdout",
     "output_type": "stream",
     "text": [
      "3 T: 10.0, score: -0.0000, std: 0.0000, params: {'max_depth': '15.00', 'subsample': '0.70', 'colsample_bytree': '0.79'}\n"
     ]
    },
    {
     "name": "stderr",
     "output_type": "stream",
     "text": [
      "[Parallel(n_jobs=1)]: Done   5 out of   5 | elapsed: 216.4min finished\n"
     ]
    },
    {
     "name": "stdout",
     "output_type": "stream",
     "text": [
      "4 T: 10.0, score: -0.0000, std: 0.0000, params: {'max_depth': '15.00', 'subsample': '0.70', 'colsample_bytree': '0.49'}\n"
     ]
    },
    {
     "name": "stderr",
     "output_type": "stream",
     "text": [
      "[Parallel(n_jobs=1)]: Done   5 out of   5 | elapsed: 13.5min finished\n"
     ]
    },
    {
     "name": "stdout",
     "output_type": "stream",
     "text": [
      "5 T: 10.0, score: -0.0000, std: 0.0000, params: {'max_depth': '20.00', 'subsample': '0.70', 'colsample_bytree': '0.49'}\n"
     ]
    },
    {
     "name": "stderr",
     "output_type": "stream",
     "text": [
      "[Parallel(n_jobs=1)]: Done   5 out of   5 | elapsed:  6.3min finished\n"
     ]
    },
    {
     "name": "stdout",
     "output_type": "stream",
     "text": [
      "6 T: 10.0, score: -0.0001, std: 0.0000, params: {'max_depth': '20.00', 'subsample': '0.70', 'colsample_bytree': '0.41'}\n"
     ]
    },
    {
     "ename": "ValueError",
     "evalue": "Found array with 0 sample(s) (shape=(0,)) while a minimum of 1 is required.",
     "output_type": "error",
     "traceback": [
      "\u001b[0;31m---------------------------------------------------------------------------\u001b[0m",
      "\u001b[0;31mValueError\u001b[0m                                Traceback (most recent call last)",
      "\u001b[0;32m<ipython-input-14-d951163eb537>\u001b[0m in \u001b[0;36m<module>\u001b[0;34m()\u001b[0m\n\u001b[0;32m----> 1\u001b[0;31m \u001b[0mclf_sim_1\u001b[0m \u001b[0;34m=\u001b[0m \u001b[0malg\u001b[0m\u001b[0;34m.\u001b[0m\u001b[0msimAnneal\u001b[0m\u001b[0;34m(\u001b[0m\u001b[0malpha\u001b[0m\u001b[0;34m=\u001b[0m\u001b[0;36m0.99\u001b[0m\u001b[0;34m,\u001b[0m \u001b[0mscoring\u001b[0m\u001b[0;34m=\u001b[0m\u001b[0;34m'neg_log_loss'\u001b[0m\u001b[0;34m)\u001b[0m\u001b[0;34m\u001b[0m\u001b[0m\n\u001b[0m",
      "\u001b[0;32m~/Documents/GitHub/Kaggle/conversion_rate/Conversion.py\u001b[0m in \u001b[0;36msimAnneal\u001b[0;34m(self, alpha, scoring, n_jobs, results, seed)\u001b[0m\n\u001b[1;32m    279\u001b[0m         \u001b[0;32mif\u001b[0m \u001b[0mresults\u001b[0m\u001b[0;34m:\u001b[0m\u001b[0;34m\u001b[0m\u001b[0m\n\u001b[1;32m    280\u001b[0m             print('\\nbest score:', '{:.6f}'.format(sa.best_score_),\n\u001b[0;32m--> 281\u001b[0;31m                   \u001b[0;34m'\\nlog loss:'\u001b[0m\u001b[0;34m,\u001b[0m \u001b[0;34m'{:.6f}'\u001b[0m\u001b[0;34m.\u001b[0m\u001b[0mformat\u001b[0m\u001b[0;34m(\u001b[0m\u001b[0mlog_loss\u001b[0m\u001b[0;34m(\u001b[0m\u001b[0mself\u001b[0m\u001b[0;34m.\u001b[0m\u001b[0mvalidation\u001b[0m\u001b[0;34m[\u001b[0m\u001b[0mself\u001b[0m\u001b[0;34m.\u001b[0m\u001b[0mtarget\u001b[0m\u001b[0;34m]\u001b[0m\u001b[0;34m,\u001b[0m \u001b[0mself\u001b[0m\u001b[0;34m.\u001b[0m\u001b[0mvalidation\u001b[0m\u001b[0;34m[\u001b[0m\u001b[0;34m'predicted_score'\u001b[0m\u001b[0;34m]\u001b[0m\u001b[0;34m)\u001b[0m\u001b[0;34m)\u001b[0m\u001b[0;34m,\u001b[0m\u001b[0;34m\u001b[0m\u001b[0m\n\u001b[0m\u001b[1;32m    282\u001b[0m                   '\\nbest parameters:', str({key: '{:.2f}'.format(value) for key, value in sa.best_params_.items()}))\n\u001b[1;32m    283\u001b[0m \u001b[0;34m\u001b[0m\u001b[0m\n",
      "\u001b[0;32m/Library/Frameworks/Python.framework/Versions/3.6/lib/python3.6/site-packages/sklearn/metrics/classification.py\u001b[0m in \u001b[0;36mlog_loss\u001b[0;34m(y_true, y_pred, eps, normalize, sample_weight, labels)\u001b[0m\n\u001b[1;32m   1638\u001b[0m     \u001b[0mThe\u001b[0m \u001b[0mlogarithm\u001b[0m \u001b[0mused\u001b[0m \u001b[0;32mis\u001b[0m \u001b[0mthe\u001b[0m \u001b[0mnatural\u001b[0m \u001b[0mlogarithm\u001b[0m \u001b[0;34m(\u001b[0m\u001b[0mbase\u001b[0m\u001b[0;34m-\u001b[0m\u001b[0me\u001b[0m\u001b[0;34m)\u001b[0m\u001b[0;34m.\u001b[0m\u001b[0;34m\u001b[0m\u001b[0m\n\u001b[1;32m   1639\u001b[0m     \"\"\"\n\u001b[0;32m-> 1640\u001b[0;31m     \u001b[0my_pred\u001b[0m \u001b[0;34m=\u001b[0m \u001b[0mcheck_array\u001b[0m\u001b[0;34m(\u001b[0m\u001b[0my_pred\u001b[0m\u001b[0;34m,\u001b[0m \u001b[0mensure_2d\u001b[0m\u001b[0;34m=\u001b[0m\u001b[0;32mFalse\u001b[0m\u001b[0;34m)\u001b[0m\u001b[0;34m\u001b[0m\u001b[0m\n\u001b[0m\u001b[1;32m   1641\u001b[0m     \u001b[0mcheck_consistent_length\u001b[0m\u001b[0;34m(\u001b[0m\u001b[0my_pred\u001b[0m\u001b[0;34m,\u001b[0m \u001b[0my_true\u001b[0m\u001b[0;34m)\u001b[0m\u001b[0;34m\u001b[0m\u001b[0m\n\u001b[1;32m   1642\u001b[0m \u001b[0;34m\u001b[0m\u001b[0m\n",
      "\u001b[0;32m/Library/Frameworks/Python.framework/Versions/3.6/lib/python3.6/site-packages/sklearn/utils/validation.py\u001b[0m in \u001b[0;36mcheck_array\u001b[0;34m(array, accept_sparse, dtype, order, copy, force_all_finite, ensure_2d, allow_nd, ensure_min_samples, ensure_min_features, warn_on_dtype, estimator)\u001b[0m\n\u001b[1;32m    460\u001b[0m                              \u001b[0;34m\" minimum of %d is required%s.\"\u001b[0m\u001b[0;34m\u001b[0m\u001b[0m\n\u001b[1;32m    461\u001b[0m                              % (n_samples, shape_repr, ensure_min_samples,\n\u001b[0;32m--> 462\u001b[0;31m                                 context))\n\u001b[0m\u001b[1;32m    463\u001b[0m \u001b[0;34m\u001b[0m\u001b[0m\n\u001b[1;32m    464\u001b[0m     \u001b[0;32mif\u001b[0m \u001b[0mensure_min_features\u001b[0m \u001b[0;34m>\u001b[0m \u001b[0;36m0\u001b[0m \u001b[0;32mand\u001b[0m \u001b[0marray\u001b[0m\u001b[0;34m.\u001b[0m\u001b[0mndim\u001b[0m \u001b[0;34m==\u001b[0m \u001b[0;36m2\u001b[0m\u001b[0;34m:\u001b[0m\u001b[0;34m\u001b[0m\u001b[0m\n",
      "\u001b[0;31mValueError\u001b[0m: Found array with 0 sample(s) (shape=(0,)) while a minimum of 1 is required."
     ]
    }
   ],
   "source": [
    "clf_sim_1 = alg.simAnneal(alpha=0.99, scoring='neg_log_loss')"
   ]
  },
  {
   "cell_type": "code",
   "execution_count": 4,
   "metadata": {
    "ExecuteTime": {
     "end_time": "2018-03-25T09:32:50.392949Z",
     "start_time": "2018-03-25T09:20:48.334657Z"
    }
   },
   "outputs": [
    {
     "name": "stdout",
     "output_type": "stream",
     "text": [
      "simulating...\n",
      "\n",
      "INFO: Number of possible iterations given cooling schedule: 2279\n",
      "\n"
     ]
    },
    {
     "name": "stderr",
     "output_type": "stream",
     "text": [
      "[Parallel(n_jobs=1)]: Done   5 out of   5 | elapsed:  2.3min finished\n"
     ]
    },
    {
     "name": "stdout",
     "output_type": "stream",
     "text": [
      "2 T: 10.0, score: 0.6902, std: 0.0050, params: {'max_depth': '14.00', 'subsample': '0.99', 'colsample_bytree': '0.40'}\n"
     ]
    },
    {
     "name": "stderr",
     "output_type": "stream",
     "text": [
      "[Parallel(n_jobs=1)]: Done   5 out of   5 | elapsed:  2.2min finished\n"
     ]
    },
    {
     "name": "stdout",
     "output_type": "stream",
     "text": [
      "3 T: 10.0, score: 0.6905, std: 0.0049, params: {'max_depth': '14.00', 'subsample': '0.90', 'colsample_bytree': '0.40'}\n"
     ]
    },
    {
     "name": "stderr",
     "output_type": "stream",
     "text": [
      "[Parallel(n_jobs=1)]: Done   5 out of   5 | elapsed:  2.1min finished\n"
     ]
    },
    {
     "name": "stdout",
     "output_type": "stream",
     "text": [
      "4 T: 10.0, score: 0.6706, std: 0.0041, params: {'max_depth': '14.00', 'subsample': '0.90', 'colsample_bytree': '0.01'}\n"
     ]
    },
    {
     "name": "stderr",
     "output_type": "stream",
     "text": [
      "[Parallel(n_jobs=1)]: Done   5 out of   5 | elapsed:  1.3min finished\n"
     ]
    },
    {
     "name": "stdout",
     "output_type": "stream",
     "text": [
      "5 T: 10.0, score: 0.6705, std: 0.0036, params: {'max_depth': '14.00', 'subsample': '0.09', 'colsample_bytree': '0.01'}\n"
     ]
    },
    {
     "name": "stderr",
     "output_type": "stream",
     "text": [
      "[Parallel(n_jobs=1)]: Done   5 out of   5 | elapsed:  1.3min finished\n"
     ]
    },
    {
     "name": "stdout",
     "output_type": "stream",
     "text": [
      "6 T: 10.0, score: 0.6704, std: 0.0036, params: {'max_depth': '13.00', 'subsample': '0.09', 'colsample_bytree': '0.01'}\n",
      "\n",
      "best score: 0.690520 \n",
      "log loss: 0.082087 \n",
      "best parameters: {'max_depth': '14.00', 'subsample': '0.90', 'colsample_bytree': '0.40'}\n"
     ]
    }
   ],
   "source": [
    "clf_sim_2 = models.simAnneal(alpha=0.98, scoring='roc_auc')"
   ]
  },
  {
   "cell_type": "code",
   "execution_count": 5,
   "metadata": {
    "ExecuteTime": {
     "end_time": "2018-03-25T09:46:15.771494Z",
     "start_time": "2018-03-25T09:35:31.159615Z"
    }
   },
   "outputs": [
    {
     "name": "stdout",
     "output_type": "stream",
     "text": [
      "simulating...\n",
      "\n",
      "INFO: Number of possible iterations given cooling schedule: 2279\n",
      "\n"
     ]
    },
    {
     "name": "stderr",
     "output_type": "stream",
     "text": [
      "[Parallel(n_jobs=1)]: Done   5 out of   5 | elapsed:  1.2min finished\n"
     ]
    },
    {
     "name": "stdout",
     "output_type": "stream",
     "text": [
      "2 T: 10.0, score: -0.0900, std: 0.0029, params: {'max_depth': '4.00', 'subsample': '0.16', 'colsample_bytree': '0.62'}\n"
     ]
    },
    {
     "name": "stderr",
     "output_type": "stream",
     "text": [
      "[Parallel(n_jobs=1)]: Done   5 out of   5 | elapsed:  1.7min finished\n"
     ]
    },
    {
     "name": "stdout",
     "output_type": "stream",
     "text": [
      "3 T: 10.0, score: -0.0900, std: 0.0029, params: {'max_depth': '4.00', 'subsample': '0.92', 'colsample_bytree': '0.62'}\n"
     ]
    },
    {
     "name": "stderr",
     "output_type": "stream",
     "text": [
      "[Parallel(n_jobs=1)]: Done   5 out of   5 | elapsed:  1.6min finished\n"
     ]
    },
    {
     "name": "stdout",
     "output_type": "stream",
     "text": [
      "4 T: 10.0, score: -0.0900, std: 0.0029, params: {'max_depth': '4.00', 'subsample': '0.87', 'colsample_bytree': '0.62'}\n"
     ]
    },
    {
     "name": "stderr",
     "output_type": "stream",
     "text": [
      "[Parallel(n_jobs=1)]: Done   5 out of   5 | elapsed:  2.1min finished\n"
     ]
    },
    {
     "name": "stdout",
     "output_type": "stream",
     "text": [
      "5 T: 10.0, score: -0.0898, std: 0.0029, params: {'max_depth': '11.00', 'subsample': '0.87', 'colsample_bytree': '0.62'}\n"
     ]
    },
    {
     "name": "stderr",
     "output_type": "stream",
     "text": [
      "[Parallel(n_jobs=1)]: Done   5 out of   5 | elapsed:  2.1min finished\n"
     ]
    },
    {
     "name": "stdout",
     "output_type": "stream",
     "text": [
      "6 T: 10.0, score: -0.0898, std: 0.0029, params: {'max_depth': '11.00', 'subsample': '0.87', 'colsample_bytree': '0.83'}\n",
      "\n",
      "best score: -0.089830 \n",
      "log loss: 0.082067 \n",
      "best parameters: {'max_depth': '11.00', 'subsample': '0.87', 'colsample_bytree': '0.83'}\n"
     ]
    }
   ],
   "source": [
    "clf_sim_3 = models.simAnneal(alpha=0.98, scoring='neg_log_loss', seed=0)"
   ]
  },
  {
   "cell_type": "code",
   "execution_count": 6,
   "metadata": {
    "ExecuteTime": {
     "end_time": "2018-03-25T10:04:04.521226Z",
     "start_time": "2018-03-25T09:47:56.354284Z"
    }
   },
   "outputs": [
    {
     "name": "stdout",
     "output_type": "stream",
     "text": [
      "simulating...\n",
      "\n",
      "INFO: Number of possible iterations given cooling schedule: 4582\n",
      "\n"
     ]
    },
    {
     "name": "stderr",
     "output_type": "stream",
     "text": [
      "[Parallel(n_jobs=1)]: Done   5 out of   5 | elapsed:  2.0min finished\n"
     ]
    },
    {
     "name": "stdout",
     "output_type": "stream",
     "text": [
      "2 T: 10.0, score: -0.0898, std: 0.0029, params: {'max_depth': '15.00', 'subsample': '0.68', 'colsample_bytree': '0.86'}\n"
     ]
    },
    {
     "name": "stderr",
     "output_type": "stream",
     "text": [
      "[Parallel(n_jobs=1)]: Done   5 out of   5 | elapsed:  3.9min finished\n"
     ]
    },
    {
     "name": "stdout",
     "output_type": "stream",
     "text": [
      "3 T: 10.0, score: -0.0898, std: 0.0029, params: {'max_depth': '9.00', 'subsample': '0.68', 'colsample_bytree': '0.86'}\n"
     ]
    },
    {
     "name": "stderr",
     "output_type": "stream",
     "text": [
      "[Parallel(n_jobs=1)]: Done   5 out of   5 | elapsed:  2.1min finished\n"
     ]
    },
    {
     "name": "stdout",
     "output_type": "stream",
     "text": [
      "4 T: 10.0, score: -0.0898, std: 0.0029, params: {'max_depth': '18.00', 'subsample': '0.68', 'colsample_bytree': '0.86'}\n"
     ]
    },
    {
     "name": "stderr",
     "output_type": "stream",
     "text": [
      "[Parallel(n_jobs=1)]: Done   5 out of   5 | elapsed:  2.0min finished\n"
     ]
    },
    {
     "name": "stdout",
     "output_type": "stream",
     "text": [
      "5 T: 10.0, score: -0.0899, std: 0.0029, params: {'max_depth': '18.00', 'subsample': '0.68', 'colsample_bytree': '0.97'}\n"
     ]
    },
    {
     "name": "stderr",
     "output_type": "stream",
     "text": [
      "[Parallel(n_jobs=1)]: Done   5 out of   5 | elapsed:  3.7min finished\n"
     ]
    },
    {
     "name": "stdout",
     "output_type": "stream",
     "text": [
      "6 T: 10.0, score: -0.0915, std: 0.0029, params: {'max_depth': '18.00', 'subsample': '0.68', 'colsample_bytree': '0.11'}\n",
      "\n",
      "best score: -0.089812 \n",
      "log loss: 0.082051 \n",
      "best parameters: {'max_depth': '9.00', 'subsample': '0.68', 'colsample_bytree': '0.86'}\n"
     ]
    }
   ],
   "source": [
    "clf_sim_4 = models.simAnneal(alpha=0.99, scoring='neg_log_loss', seed=0)"
   ]
  },
  {
   "cell_type": "code",
   "execution_count": 15,
   "metadata": {
    "ExecuteTime": {
     "end_time": "2018-03-25T22:15:42.759503Z",
     "start_time": "2018-03-25T22:15:27.725775Z"
    }
   },
   "outputs": [],
   "source": [
    "eng_train, eng_test = dat.Load(wd=Conversion.wd, data_list=Conversion.eng_data)"
   ]
  },
  {
   "cell_type": "code",
   "execution_count": 33,
   "metadata": {
    "ExecuteTime": {
     "end_time": "2018-03-25T22:49:21.124846Z",
     "start_time": "2018-03-25T22:49:16.695827Z"
    }
   },
   "outputs": [
    {
     "name": "stdout",
     "output_type": "stream",
     "text": [
      "Start training...\n",
      "[1]\tvalid_0's binary_logloss: 0.683535\n",
      "[2]\tvalid_0's binary_logloss: 0.674117\n",
      "[3]\tvalid_0's binary_logloss: 0.664887\n",
      "[4]\tvalid_0's binary_logloss: 0.655839\n",
      "[5]\tvalid_0's binary_logloss: 0.646969\n",
      "[6]\tvalid_0's binary_logloss: 0.638271\n",
      "[7]\tvalid_0's binary_logloss: 0.62974\n",
      "[8]\tvalid_0's binary_logloss: 0.621373\n",
      "[9]\tvalid_0's binary_logloss: 0.613163\n",
      "[10]\tvalid_0's binary_logloss: 0.605108\n",
      "Feature importances: [7, 9, 1, 1, 0, 1, 0, 3, 0, 2, 2, 2, 0, 0, 3, 0, 0, 0, 0, 0, 0, 0, 1, 0, 1, 1, 0, 0, 0, 0, 0, 0, 0, 0, 0, 0, 0, 0, 0, 0, 0, 0, 0, 0, 0, 0, 0, 0, 0, 0, 0, 0, 0, 0, 10, 0, 0, 0, 0, 0, 0, 0, 0, 1, 0, 0, 0, 1, 0, 0, 0, 0, 0, 0, 0, 0, 0, 0, 0, 0, 0, 0, 0, 0, 0, 0, 0, 0, 0, 0, 0, 0, 0, 0, 0, 0, 0, 0, 0, 0, 0, 0, 0, 0, 0, 0, 0, 0, 0, 0, 0, 0, 0, 0, 0, 0, 0, 0]\n",
      "Load model to predict\n"
     ]
    },
    {
     "ename": "AttributeError",
     "evalue": "'int' object has no attribute 'predict_proba'",
     "output_type": "error",
     "traceback": [
      "\u001b[0;31m---------------------------------------------------------------------------\u001b[0m",
      "\u001b[0;31mAttributeError\u001b[0m                            Traceback (most recent call last)",
      "\u001b[0;32m<ipython-input-33-651edac7a8e9>\u001b[0m in \u001b[0;36m<module>\u001b[0;34m()\u001b[0m\n\u001b[1;32m     56\u001b[0m \u001b[0mbst\u001b[0m \u001b[0;34m=\u001b[0m \u001b[0mlgb\u001b[0m\u001b[0;34m.\u001b[0m\u001b[0mBooster\u001b[0m\u001b[0;34m(\u001b[0m\u001b[0mmodel_file\u001b[0m\u001b[0;34m=\u001b[0m\u001b[0;34m'model_2.txt'\u001b[0m\u001b[0;34m)\u001b[0m\u001b[0;34m\u001b[0m\u001b[0m\n\u001b[1;32m     57\u001b[0m \u001b[0;31m# can only predict with the best iteration (or the saving iteration)\u001b[0m\u001b[0;34m\u001b[0m\u001b[0;34m\u001b[0m\u001b[0m\n\u001b[0;32m---> 58\u001b[0;31m \u001b[0mprediction\u001b[0m \u001b[0;34m=\u001b[0m \u001b[0mbst\u001b[0m\u001b[0;34m.\u001b[0m\u001b[0mbest_iteration\u001b[0m\u001b[0;34m.\u001b[0m\u001b[0mpredict_proba\u001b[0m\u001b[0;34m(\u001b[0m\u001b[0mtest\u001b[0m\u001b[0;34m[\u001b[0m\u001b[0mdat\u001b[0m\u001b[0;34m.\u001b[0m\u001b[0mpredictors\u001b[0m\u001b[0;34m]\u001b[0m\u001b[0;34m)\u001b[0m\u001b[0;34m[\u001b[0m\u001b[0;34m:\u001b[0m\u001b[0;34m,\u001b[0m\u001b[0;36m1\u001b[0m\u001b[0;34m]\u001b[0m\u001b[0;34m\u001b[0m\u001b[0m\n\u001b[0m\u001b[1;32m     59\u001b[0m \u001b[0;34m\u001b[0m\u001b[0m\n\u001b[1;32m     60\u001b[0m \u001b[0;34m\u001b[0m\u001b[0m\n",
      "\u001b[0;31mAttributeError\u001b[0m: 'int' object has no attribute 'predict_proba'"
     ]
    }
   ],
   "source": [
    "clf = lgb.LGBMClassifier(\n",
    "    boosting_type='gbdt', \n",
    "    num_leaves=31, \n",
    "    max_depth=9,                    #\n",
    "    learning_rate=0.01,                     #\n",
    "    n_estimators=500,                       #\n",
    "    subsample_for_bin=200000, \n",
    "    objective=None, \n",
    "    class_weight=None, \n",
    "    min_split_gain=0.0, \n",
    "    min_child_weight=0.001, \n",
    "    min_child_samples=20, \n",
    "    subsample=0.68,                    #\n",
    "    subsample_freq=1, \n",
    "    colsample_bytree=0.86,      #\n",
    "    reg_alpha=0.0, \n",
    "    reg_lambda=0.0, \n",
    "    random_state=2018,                      #\n",
    "    n_jobs=-1, \n",
    "    silent=True)\n",
    "# clf.fit(dtrain_[dat.predictors], dtrain_[dat.target], feature_name=dat.predictors)\n",
    "\n",
    "lgb_train = lgb.Dataset(dtrain_[dat.predictors], dtrain_[dat.target], free_raw_data=False)\n",
    "lgb_eval = lgb.Dataset(dvalidation_[dat.predictors], dvalidation_[dat.target], reference=lgb_train, free_raw_data=False)\n",
    "\n",
    "# specify your configurations as a dict\n",
    "params = {\n",
    "    'boosting_type': 'gbdt',\n",
    "    'objective': 'binary',\n",
    "    'metric': 'binary_logloss',\n",
    "    'num_leaves': 31,\n",
    "    'learning_rate': 0.01,\n",
    "    'feature_fraction': 0.86,\n",
    "    'bagging_fraction': 0.68,\n",
    "    'bagging_freq': 5,\n",
    "    'verbose': 1\n",
    "}\n",
    "\n",
    "print('Start training...')\n",
    "# feature_name and categorical_feature\n",
    "gbm = lgb.train(params,\n",
    "                lgb_train,\n",
    "                num_boost_round=10,\n",
    "                valid_sets=lgb_eval,  # eval training data\n",
    "                feature_name=dat.predictors)\n",
    "\n",
    "\n",
    "# save model to file\n",
    "gbm.save_model('model_2.txt')\n",
    "\n",
    "# feature importances\n",
    "print('Feature importances:', list(gbm.feature_importance()))\n",
    "\n",
    "# load model to predict\n",
    "print('Load model to predict')\n",
    "bst = lgb.Booster(model_file='model_2.txt')\n",
    "# can only predict with the best iteration (or the saving iteration)\n",
    "prediction = bst.best_iteration.predict_proba(test[dat.predictors])[:,1]\n",
    "\n",
    "\n",
    "# output = pd.DataFrame()\n",
    "# prediction = pd.DataFrame(clf.predict_proba(eng_test[dat.predictors])[:,1])\n",
    "# output['instance_id'] = test['instance_id']\n",
    "# output['predicted_score'] = prediction\n",
    "\n",
    "# output.head()"
   ]
  },
  {
   "cell_type": "code",
   "execution_count": 31,
   "metadata": {
    "ExecuteTime": {
     "end_time": "2018-03-25T22:31:59.731065Z",
     "start_time": "2018-03-25T22:31:58.120191Z"
    }
   },
   "outputs": [
    {
     "data": {
      "text/plain": [
       "<matplotlib.axes._subplots.AxesSubplot at 0x121002da0>"
      ]
     },
     "execution_count": 31,
     "metadata": {},
     "output_type": "execute_result"
    },
    {
     "data": {
      "image/png": "[encoded data removed]",
      "text/plain": [
       "<matplotlib.figure.Figure at 0x1210960f0>"
      ]
     },
     "metadata": {},
     "output_type": "display_data"
    }
   ],
   "source": [
    "lgb.plot_importance(clf, figsize=(8,12))"
   ]
  },
  {
   "cell_type": "code",
   "execution_count": 20,
   "metadata": {
    "ExecuteTime": {
     "end_time": "2018-03-25T22:21:23.626765Z",
     "start_time": "2018-03-25T22:21:23.621185Z"
    }
   },
   "outputs": [
    {
     "data": {
      "text/plain": [
       "0.003360747324018415"
      ]
     },
     "execution_count": 20,
     "metadata": {},
     "output_type": "execute_result"
    }
   ],
   "source": [
    "output['predicted_score'].mean()"
   ]
  },
  {
   "cell_type": "code",
   "execution_count": 27,
   "metadata": {
    "ExecuteTime": {
     "end_time": "2018-03-25T22:27:54.391469Z",
     "start_time": "2018-03-25T22:27:54.273058Z"
    }
   },
   "outputs": [],
   "source": [
    "wd = '/Users/ewenwang/Documents/practice_data/conversion_rate/'\n",
    "\n",
    "output.to_csv(wd+'result_2.txt', index=False, sep=' ')"
   ]
  },
  {
   "cell_type": "code",
   "execution_count": 26,
   "metadata": {
    "ExecuteTime": {
     "end_time": "2018-03-25T22:24:37.206385Z",
     "start_time": "2018-03-25T22:24:36.912538Z"
    }
   },
   "outputs": [
    {
     "name": "stdout",
     "output_type": "stream",
     "text": [
      "0.024673150379262147\n"
     ]
    },
    {
     "data": {
      "text/plain": [
       "<matplotlib.axes._subplots.AxesSubplot at 0x150a41550>"
      ]
     },
     "execution_count": 26,
     "metadata": {},
     "output_type": "execute_result"
    },
    {
     "data": {
      "image/png": "[encoded data removed]",
      "text/plain": [
       "<matplotlib.figure.Figure at 0x11cfbda58>"
      ]
     },
     "metadata": {},
     "output_type": "display_data"
    }
   ],
   "source": [
    "wd = '/Users/ewenwang/Documents/practice_data/conversion_rate/'\n",
    "\n",
    "output_1 = pd.read_csv(wd+'result_1.txt', sep=' ')\n",
    "print(output_1.predicted_score.mean())\n",
    "output_1.predicted_score.hist()"
   ]
  },
  {
   "cell_type": "code",
   "execution_count": null,
   "metadata": {},
   "outputs": [],
   "source": []
  }
 ],
 "metadata": {
  "kernelspec": {
   "display_name": "Python 3",
   "language": "python",
   "name": "python3"
  },
  "language_info": {
   "codemirror_mode": {
    "name": "ipython",
    "version": 3
   },
   "file_extension": ".py",
   "mimetype": "text/x-python",
   "name": "python",
   "nbconvert_exporter": "python",
   "pygments_lexer": "ipython3",
   "version": "3.6.3"
  },
  "toc": {
   "nav_menu": {},
   "number_sections": true,
   "sideBar": true,
   "skip_h1_title": false,
   "toc_cell": false,
   "toc_position": {},
   "toc_section_display": "block",
   "toc_window_display": false
  },
  "varInspector": {
   "cols": {
    "lenName": 16,
    "lenType": 16,
    "lenVar": 40
   },
   "kernels_config": {
    "python": {
     "delete_cmd_postfix": "",
     "delete_cmd_prefix": "del ",
     "library": "var_list.py",
     "varRefreshCmd": "print(var_dic_list())"
    },
    "r": {
     "delete_cmd_postfix": ") ",
     "delete_cmd_prefix": "rm(",
     "library": "var_list.r",
     "varRefreshCmd": "cat(var_dic_list()) "
    }
   },
   "types_to_exclude": [
    "module",
    "function",
    "builtin_function_or_method",
    "instance",
    "_Feature"
   ],
   "window_display": false
  }
 },
 "nbformat": 4,
 "nbformat_minor": 2
}
