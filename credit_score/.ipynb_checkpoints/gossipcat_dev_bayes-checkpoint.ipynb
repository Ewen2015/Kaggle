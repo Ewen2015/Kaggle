{
 "cells": [
  {
   "cell_type": "code",
   "execution_count": 1,
   "metadata": {
    "ExecuteTime": {
     "end_time": "2018-01-30T09:56:25.162538Z",
     "start_time": "2018-01-30T09:56:22.100065Z"
    }
   },
   "outputs": [],
   "source": [
    "import os\n",
    "import pandas as pd\n",
    "from tqdm import tqdm\n",
    "from sklearn.preprocessing import LabelEncoder\n",
    "from sklearn.metrics import mean_absolute_error\n",
    "from bayes_opt import BayesianOptimization\n",
    "import warnings\n",
    "warnings.filterwarnings('ignore')"
   ]
  },
  {
   "cell_type": "code",
   "execution_count": 2,
   "metadata": {
    "ExecuteTime": {
     "end_time": "2018-01-30T09:57:39.374592Z",
     "start_time": "2018-01-30T09:57:39.013899Z"
    }
   },
   "outputs": [],
   "source": [
    "wd = '/Users/ewenwang/Documents/practice_data'\n",
    "os.chdir(wd)\n",
    "\n",
    "file = 'credit_score.csv'\n",
    "dataset = pd.read_csv(file)"
   ]
  },
  {
   "cell_type": "code",
   "execution_count": 3,
   "metadata": {
    "ExecuteTime": {
     "end_time": "2018-01-30T09:57:44.660964Z",
     "start_time": "2018-01-30T09:57:44.631541Z"
    }
   },
   "outputs": [
    {
     "data": {
      "text/html": [
       "<div>\n",
       "<style scoped>\n",
       "    .dataframe tbody tr th:only-of-type {\n",
       "        vertical-align: middle;\n",
       "    }\n",
       "\n",
       "    .dataframe tbody tr th {\n",
       "        vertical-align: top;\n",
       "    }\n",
       "\n",
       "    .dataframe thead th {\n",
       "        text-align: right;\n",
       "    }\n",
       "</style>\n",
       "<table border=\"1\" class=\"dataframe\">\n",
       "  <thead>\n",
       "    <tr style=\"text-align: right;\">\n",
       "      <th></th>\n",
       "      <th>SeriousDlqin2yrs</th>\n",
       "      <th>RevolvingUtilizationOfUnsecuredLines</th>\n",
       "      <th>age</th>\n",
       "      <th>NumberOfTime30-59DaysPastDueNotWorse</th>\n",
       "      <th>DebtRatio</th>\n",
       "      <th>MonthlyIncome</th>\n",
       "      <th>NumberOfOpenCreditLinesAndLoans</th>\n",
       "      <th>NumberOfTimes90DaysLate</th>\n",
       "      <th>NumberRealEstateLoansOrLines</th>\n",
       "      <th>NumberOfTime60-89DaysPastDueNotWorse</th>\n",
       "      <th>NumberOfDependents</th>\n",
       "    </tr>\n",
       "  </thead>\n",
       "  <tbody>\n",
       "    <tr>\n",
       "      <th>0</th>\n",
       "      <td>1</td>\n",
       "      <td>0.766127</td>\n",
       "      <td>45</td>\n",
       "      <td>2</td>\n",
       "      <td>0.802982</td>\n",
       "      <td>9120.0</td>\n",
       "      <td>13</td>\n",
       "      <td>0</td>\n",
       "      <td>6</td>\n",
       "      <td>0</td>\n",
       "      <td>2.0</td>\n",
       "    </tr>\n",
       "    <tr>\n",
       "      <th>1</th>\n",
       "      <td>0</td>\n",
       "      <td>0.957151</td>\n",
       "      <td>40</td>\n",
       "      <td>0</td>\n",
       "      <td>0.121876</td>\n",
       "      <td>2600.0</td>\n",
       "      <td>4</td>\n",
       "      <td>0</td>\n",
       "      <td>0</td>\n",
       "      <td>0</td>\n",
       "      <td>1.0</td>\n",
       "    </tr>\n",
       "    <tr>\n",
       "      <th>2</th>\n",
       "      <td>0</td>\n",
       "      <td>0.658180</td>\n",
       "      <td>38</td>\n",
       "      <td>1</td>\n",
       "      <td>0.085113</td>\n",
       "      <td>3042.0</td>\n",
       "      <td>2</td>\n",
       "      <td>1</td>\n",
       "      <td>0</td>\n",
       "      <td>0</td>\n",
       "      <td>0.0</td>\n",
       "    </tr>\n",
       "    <tr>\n",
       "      <th>3</th>\n",
       "      <td>0</td>\n",
       "      <td>0.233810</td>\n",
       "      <td>30</td>\n",
       "      <td>0</td>\n",
       "      <td>0.036050</td>\n",
       "      <td>3300.0</td>\n",
       "      <td>5</td>\n",
       "      <td>0</td>\n",
       "      <td>0</td>\n",
       "      <td>0</td>\n",
       "      <td>0.0</td>\n",
       "    </tr>\n",
       "    <tr>\n",
       "      <th>4</th>\n",
       "      <td>0</td>\n",
       "      <td>0.907239</td>\n",
       "      <td>49</td>\n",
       "      <td>1</td>\n",
       "      <td>0.024926</td>\n",
       "      <td>63588.0</td>\n",
       "      <td>7</td>\n",
       "      <td>0</td>\n",
       "      <td>1</td>\n",
       "      <td>0</td>\n",
       "      <td>0.0</td>\n",
       "    </tr>\n",
       "  </tbody>\n",
       "</table>\n",
       "</div>"
      ],
      "text/plain": [
       "   SeriousDlqin2yrs  RevolvingUtilizationOfUnsecuredLines  age  \\\n",
       "0                 1                              0.766127   45   \n",
       "1                 0                              0.957151   40   \n",
       "2                 0                              0.658180   38   \n",
       "3                 0                              0.233810   30   \n",
       "4                 0                              0.907239   49   \n",
       "\n",
       "   NumberOfTime30-59DaysPastDueNotWorse  DebtRatio  MonthlyIncome  \\\n",
       "0                                     2   0.802982         9120.0   \n",
       "1                                     0   0.121876         2600.0   \n",
       "2                                     1   0.085113         3042.0   \n",
       "3                                     0   0.036050         3300.0   \n",
       "4                                     1   0.024926        63588.0   \n",
       "\n",
       "   NumberOfOpenCreditLinesAndLoans  NumberOfTimes90DaysLate  \\\n",
       "0                               13                        0   \n",
       "1                                4                        0   \n",
       "2                                2                        1   \n",
       "3                                5                        0   \n",
       "4                                7                        0   \n",
       "\n",
       "   NumberRealEstateLoansOrLines  NumberOfTime60-89DaysPastDueNotWorse  \\\n",
       "0                             6                                     0   \n",
       "1                             0                                     0   \n",
       "2                             0                                     0   \n",
       "3                             0                                     0   \n",
       "4                             1                                     0   \n",
       "\n",
       "   NumberOfDependents  \n",
       "0                 2.0  \n",
       "1                 1.0  \n",
       "2                 0.0  \n",
       "3                 0.0  \n",
       "4                 0.0  "
      ]
     },
     "execution_count": 3,
     "metadata": {},
     "output_type": "execute_result"
    }
   ],
   "source": [
    "dataset.head()"
   ]
  },
  {
   "cell_type": "code",
   "execution_count": 18,
   "metadata": {
    "ExecuteTime": {
     "end_time": "2018-01-30T11:07:08.285286Z",
     "start_time": "2018-01-30T11:07:08.232423Z"
    }
   },
   "outputs": [],
   "source": [
    "from sklearn.model_selection import train_test_split\n",
    "dtrain, dtest = train_test_split(dataset, test_size=0.33, random_state=2018)\n",
    "\n",
    "target = 'SeriousDlqin2yrs'\n",
    "predictors = [x for x in dataset.columns if x not in [target]]\n",
    "\n",
    "y = dtrain[target]\n",
    "X = dtrain[predictors]\n",
    "\n",
    "Dtrain = lgb.Dataset(X, label = y)"
   ]
  },
  {
   "cell_type": "code",
   "execution_count": 68,
   "metadata": {
    "ExecuteTime": {
     "end_time": "2018-01-30T15:27:53.020246Z",
     "start_time": "2018-01-30T15:27:52.947762Z"
    }
   },
   "outputs": [],
   "source": [
    "def bayesOpt(train, target, predictors, results=True, seed=2018):\n",
    "    \"\"\" Hyper parameter tuning with Bayesian optimization.\n",
    "\n",
    "    Employes the Bayesian optimization to find the optimal hyper parameters and \n",
    "    return an optimized classifier.\n",
    "\n",
    "    Args:\n",
    "        train: A training set of your machine learning project.\n",
    "        target: The target variablet; limited to binary.\n",
    "        predictors: The predictors.\n",
    "        results: Whether print the progress out; default with True.\n",
    "        seed: The random state.\n",
    "        \n",
    "    Returns:\n",
    "        None.\n",
    "    \"\"\"\n",
    "    print('optimizing...')\n",
    "    \n",
    "    y = dtrain[target]\n",
    "    X = dtrain[predictors]\n",
    "\n",
    "    Dtrain = lgb.Dataset(X, label = y)\n",
    "\n",
    "    def lgb_evaluate(max_depth, colsample_bytree, subsample):\n",
    "    \n",
    "        params = {\n",
    "            'eta': 0.01,\n",
    "            'silent': 1,\n",
    "            'num_boost_round':3000,\n",
    "            'early_stopping_round':20,\n",
    "            'n_fold':5,\n",
    "            'verbose_eval': True,\n",
    "            'seed': seed\n",
    "        }\n",
    "\n",
    "        params['max_depth'] = int(max_depth)\n",
    "        params['cosample_bytree'] = max(min(colsample_bytree, 1), 0)   \n",
    "        params['subsample'] = max(min(subsample, 1), 0)\n",
    "\n",
    "        cv_result = lgb.cv(params, Dtrain, metrics='auc')\n",
    "        return cv_result['auc-mean'][-1]\n",
    "\n",
    "    lgbBO = BayesianOptimization(lgb_evaluate, {'max_depth': (1, 20),\n",
    "                                                'colsample_bytree': (0.1, 1),\n",
    "                                                'subsample': (0.1, 1)})\n",
    "    lgbBO.maximize(init_points=5, n_iter=25)\n",
    "\n",
    "    if results:\n",
    "        print('\\nbest score:', '{:.6f}'.format(lgbBO.res['max']['max_val']),\n",
    "              '\\nbest parameters:', str({key: '{:.2f}'.format(value) for key, value in lgbBO.res['max']['max_params'].items()}))\n",
    "\n",
    "    return None"
   ]
  },
  {
   "cell_type": "code",
   "execution_count": 7,
   "metadata": {
    "ExecuteTime": {
     "end_time": "2018-01-30T10:34:05.389788Z",
     "start_time": "2018-01-30T10:34:05.135013Z"
    }
   },
   "outputs": [],
   "source": [
    "import lightgbm as lgb"
   ]
  },
  {
   "cell_type": "code",
   "execution_count": 53,
   "metadata": {
    "ExecuteTime": {
     "end_time": "2018-01-30T14:09:42.503656Z",
     "start_time": "2018-01-30T14:09:42.489772Z"
    }
   },
   "outputs": [],
   "source": [
    "def lgb_evaluate(max_depth, colsample_bytree, subsample):\n",
    "    \n",
    "    params = {\n",
    "        'eta': 0.01,\n",
    "        'silent': 1,\n",
    "        'num_boost_round':3000,\n",
    "        'early_stopping_round':20,\n",
    "        'nfold':5,\n",
    "        'seed': 2018\n",
    "    }\n",
    "    \n",
    "    params['max_depth'] = int(max_depth)\n",
    "    params['cosample_bytree'] = max(min(colsample_bytree, 1), 0)   \n",
    "    params['subsample'] = max(min(subsample, 1), 0)\n",
    "    \n",
    "    cv_result = lgb.cv(params, Dtrain, metrics='auc')\n",
    "    return cv_result['auc-mean'][-1]"
   ]
  },
  {
   "cell_type": "code",
   "execution_count": 54,
   "metadata": {
    "ExecuteTime": {
     "end_time": "2018-01-30T14:16:12.904905Z",
     "start_time": "2018-01-30T14:09:43.094879Z"
    },
    "scrolled": false
   },
   "outputs": [
    {
     "name": "stdout",
     "output_type": "stream",
     "text": [
      "\u001b[31mInitialization\u001b[0m\n",
      "\u001b[94m------------------------------------------------------------------------------\u001b[0m\n",
      " Step |   Time |      Value |   colsample_bytree |   max_depth |   subsample | \n",
      "    1 | 00m03s | \u001b[35m   0.86461\u001b[0m | \u001b[32m            0.3215\u001b[0m | \u001b[32m    19.6647\u001b[0m | \u001b[32m     0.1316\u001b[0m | \n",
      "    2 | 00m05s | \u001b[35m   0.86489\u001b[0m | \u001b[32m            0.1849\u001b[0m | \u001b[32m     2.1540\u001b[0m | \u001b[32m     0.5680\u001b[0m | \n",
      "    3 | 00m05s |    0.86489 |             0.8014 |      2.3137 |      0.7659 | \n",
      "    4 | 00m02s | \u001b[35m   0.86555\u001b[0m | \u001b[32m            0.1448\u001b[0m | \u001b[32m     3.5075\u001b[0m | \u001b[32m     0.5262\u001b[0m | \n",
      "    5 | 00m03s |    0.86462 |             0.1192 |     16.0070 |      0.2090 | \n",
      "\u001b[31mBayesian Optimization\u001b[0m\n",
      "\u001b[94m------------------------------------------------------------------------------\u001b[0m\n",
      " Step |   Time |      Value |   colsample_bytree |   max_depth |   subsample | \n",
      "    6 | 00m13s |    0.86461 |             0.1102 |     19.9747 |      0.9924 | \n",
      "    7 | 00m13s |    0.86510 |             0.9965 |      6.6762 |      0.1104 | \n",
      "    8 | 00m12s |    0.86533 |             0.1073 |      7.9698 |      0.9910 | \n",
      "    9 | 00m12s |    0.86462 |             0.9997 |     18.1250 |      0.9917 | \n",
      "   10 | 00m11s |    0.86517 |             0.1193 |      4.6487 |      0.9790 | \n",
      "   11 | 00m14s |    0.86503 |             0.1000 |     11.1945 |      0.1002 | \n",
      "   12 | 00m14s |    0.86489 |             0.9831 |      2.5273 |      0.1094 | \n",
      "   13 | 00m14s |    0.86503 |             0.9830 |     11.8515 |      0.9846 | \n",
      "   14 | 00m13s |    0.86510 |             0.1079 |      6.5291 |      0.1203 | \n",
      "   15 | 00m13s |    0.86504 |             0.9789 |      9.3657 |      0.9660 | \n",
      "   16 | 00m13s |    0.86491 |             0.1132 |     13.7188 |      0.9962 | \n",
      "   17 | 00m14s |    0.86461 |             0.9880 |     19.9855 |      0.3305 | \n",
      "   18 | 00m17s |    0.86555 |             0.6623 |      3.9437 |      0.3802 | \n",
      "   19 | 00m13s |    0.86555 |             0.3649 |      3.1941 |      0.2090 | \n",
      "   20 | 00m12s |    0.86517 |             0.6989 |      4.1084 |      0.4019 | \n",
      "   21 | 00m15s |    0.86482 |             0.9884 |     14.1831 |      0.1135 | \n",
      "   22 | 00m14s |    0.86504 |             0.9943 |      9.5124 |      0.1051 | \n",
      "   23 | 00m20s |    0.86246 |             0.1588 |      1.0024 |      0.9828 | \n",
      "   24 | 00m14s |    0.86480 |             0.9732 |     15.5788 |      0.9961 | \n",
      "   25 | 00m14s |    0.86463 |             0.1410 |     10.6318 |      0.9942 | \n",
      "   26 | 00m14s |    0.86459 |             0.9993 |     17.1179 |      0.1092 | \n",
      "   27 | 00m14s |    0.86459 |             0.1113 |     17.1848 |      0.9806 | \n",
      "   28 | 00m13s |    0.86533 |             0.4226 |      7.9655 |      0.1034 | \n",
      "   29 | 00m15s |    0.86489 |             0.1540 |      2.7293 |      0.9992 | \n",
      "   30 | 00m15s |    0.86510 |             0.5252 |      6.8180 |      0.9459 | \n"
     ]
    }
   ],
   "source": [
    "lgbBO = BayesianOptimization(lgb_evaluate, {'max_depth': (1, 20),\n",
    "                                            'colsample_bytree': (0.1, 1),\n",
    "                                            'subsample': (0.1, 1)})\n",
    "lgbBO.maximize(init_points=5, n_iter=25)"
   ]
  },
  {
   "cell_type": "code",
   "execution_count": 56,
   "metadata": {
    "ExecuteTime": {
     "end_time": "2018-01-30T14:19:16.730996Z",
     "start_time": "2018-01-30T14:19:16.722350Z"
    }
   },
   "outputs": [
    {
     "data": {
      "text/plain": [
       "{'max_params': {'colsample_bytree': 0.14478551565784675,\n",
       "  'max_depth': 3.5075184925185616,\n",
       "  'subsample': 0.52621530408354555},\n",
       " 'max_val': 0.86554964969257586}"
      ]
     },
     "execution_count": 56,
     "metadata": {},
     "output_type": "execute_result"
    }
   ],
   "source": [
    "lgbBO.res['max']"
   ]
  },
  {
   "cell_type": "code",
   "execution_count": 64,
   "metadata": {
    "ExecuteTime": {
     "end_time": "2018-01-30T15:16:10.902653Z",
     "start_time": "2018-01-30T15:16:10.896666Z"
    }
   },
   "outputs": [
    {
     "name": "stdout",
     "output_type": "stream",
     "text": [
      "\n",
      "best score: 0.865550 \n",
      "best parameters: {'max_depth': '3.51', 'colsample_bytree': '0.14', 'subsample': '0.53'}\n"
     ]
    }
   ],
   "source": [
    "print('\\nbest score:', '{:.6f}'.format(lgbBO.res['max']['max_val']),\n",
    "      '\\nbest parameters:', str({key: '{:.2f}'.format(value) for key, value in lgbBO.res['max']['max_params'].items()}))"
   ]
  },
  {
   "cell_type": "code",
   "execution_count": 63,
   "metadata": {
    "ExecuteTime": {
     "end_time": "2018-01-30T15:15:07.580071Z",
     "start_time": "2018-01-30T15:15:07.572996Z"
    }
   },
   "outputs": [
    {
     "data": {
      "text/plain": [
       "{'colsample_bytree': 0.14478551565784675,\n",
       " 'max_depth': 3.5075184925185616,\n",
       " 'subsample': 0.52621530408354555}"
      ]
     },
     "execution_count": 63,
     "metadata": {},
     "output_type": "execute_result"
    }
   ],
   "source": [
    "lgbBO.res['max']['max_params']"
   ]
  },
  {
   "cell_type": "code",
   "execution_count": 69,
   "metadata": {
    "ExecuteTime": {
     "end_time": "2018-01-30T15:34:23.465001Z",
     "start_time": "2018-01-30T15:28:29.125339Z"
    }
   },
   "outputs": [
    {
     "name": "stdout",
     "output_type": "stream",
     "text": [
      "optimizing...\n",
      "\u001b[31mInitialization\u001b[0m\n",
      "\u001b[94m------------------------------------------------------------------------------\u001b[0m\n",
      " Step |   Time |      Value |   colsample_bytree |   max_depth |   subsample | \n",
      "    1 | 00m02s | \u001b[35m   0.86555\u001b[0m | \u001b[32m            0.5061\u001b[0m | \u001b[32m     3.7085\u001b[0m | \u001b[32m     0.2833\u001b[0m | \n",
      "    2 | 00m03s |    0.86504 |             0.4472 |      9.8492 |      0.3578 | \n",
      "    3 | 00m03s |    0.86459 |             0.9775 |     17.5730 |      0.7476 | \n",
      "    4 | 00m07s |    0.86246 |             0.7680 |      1.2237 |      0.4353 | \n",
      "    5 | 00m05s |    0.86489 |             0.1100 |      2.4297 |      0.7048 | \n",
      "\u001b[31mBayesian Optimization\u001b[0m\n",
      "\u001b[94m------------------------------------------------------------------------------\u001b[0m\n",
      " Step |   Time |      Value |   colsample_bytree |   max_depth |   subsample | \n",
      "    6 | 00m14s |    0.86461 |             0.1000 |     20.0000 |      0.1000 | \n",
      "    7 | 00m13s |    0.86468 |             0.9940 |      5.8144 |      0.9987 | \n",
      "    8 | 00m13s |    0.86461 |             0.1171 |     19.9571 |      0.9837 | \n",
      "    9 | 00m13s |    0.86461 |             0.9969 |     19.9893 |      0.3990 | \n",
      "   10 | 00m12s |    0.86468 |             0.1073 |      5.9990 |      0.1235 | \n",
      "   11 | 00m14s |    0.86491 |             0.1069 |     13.6282 |      0.9930 | \n",
      "   12 | 00m12s |    0.86491 |             0.9914 |     13.1136 |      0.1112 | \n",
      "   13 | 00m12s |    0.86503 |             0.9907 |     11.5575 |      0.9970 | \n",
      "   14 | 00m12s |    0.86517 |             0.1162 |      4.2787 |      0.9914 | \n",
      "   15 | 00m13s |    0.86555 |             0.1141 |      3.2468 |      0.1263 | \n",
      "   16 | 00m13s |    0.86503 |             0.1326 |     11.7963 |      0.1092 | \n",
      "   17 | 00m12s |    0.86555 |             0.9572 |      3.9791 |      0.1339 | \n",
      "   18 | 00m11s |    0.86555 |             0.6071 |      3.7116 |      0.1505 | \n",
      "   19 | 00m10s |    0.86517 |             0.2246 |      4.6361 |      0.2433 | \n",
      "   20 | 00m12s |    0.86517 |             0.7967 |      4.4611 |      0.3219 | \n",
      "   21 | 00m12s |    0.86555 |             0.5881 |      3.3672 |      0.9864 | \n",
      "   22 | 00m12s |    0.86555 |             0.9001 |      3.5424 |      0.7880 | \n",
      "   23 | 00m14s |    0.86489 |             0.9482 |      2.9010 |      0.9208 | \n",
      "   24 | 00m13s |    0.86480 |             0.1294 |     15.8833 |      0.1270 | \n",
      "   25 | 00m12s |    0.86482 |             0.9056 |     14.7989 |      0.9884 | \n",
      "   26 | 00m11s |    0.86504 |             0.9898 |      9.1441 |      0.1087 | \n",
      "   27 | 00m13s |    0.86504 |             0.8609 |      9.4198 |      0.9799 | \n",
      "   28 | 00m13s |    0.86555 |             0.9986 |      3.8693 |      0.9761 | \n",
      "   29 | 00m12s |    0.86555 |             0.4740 |      3.8358 |      0.8144 | \n",
      "   30 | 00m12s |    0.86555 |             0.3512 |      3.6644 |      0.5353 | \n",
      "\n",
      "best score: 0.865550 \n",
      "best parameters: {'max_depth': '3.71', 'colsample_bytree': '0.51', 'subsample': '0.28'}\n"
     ]
    }
   ],
   "source": [
    "bayesOpt(dtrain, target=target, predictors=predictors)"
   ]
  },
  {
   "cell_type": "code",
   "execution_count": 60,
   "metadata": {
    "ExecuteTime": {
     "end_time": "2018-01-30T14:34:56.750922Z",
     "start_time": "2018-01-30T14:34:56.087408Z"
    }
   },
   "outputs": [],
   "source": [
    "import gossipcat as gc"
   ]
  },
  {
   "cell_type": "code",
   "execution_count": 61,
   "metadata": {
    "ExecuteTime": {
     "end_time": "2018-01-30T14:57:53.948176Z",
     "start_time": "2018-01-30T14:35:35.281216Z"
    }
   },
   "outputs": [
    {
     "name": "stdout",
     "output_type": "stream",
     "text": [
      "simulating...\n",
      "\n",
      "INFO: Number of possible iterations given cooling schedule: 160\n",
      "\n"
     ]
    },
    {
     "name": "stderr",
     "output_type": "stream",
     "text": [
      "[Parallel(n_jobs=1)]: Done   5 out of   5 | elapsed:  2.6min finished\n"
     ]
    },
    {
     "name": "stdout",
     "output_type": "stream",
     "text": [
      "2 T: 10.0, score: 0.8629, std: 0.0064, params: {'max_depth': '4.00', 'subsample': '0.30', 'colsample_bytree': '0.30'}\n"
     ]
    },
    {
     "name": "stderr",
     "output_type": "stream",
     "text": [
      "[Parallel(n_jobs=1)]: Done   5 out of   5 | elapsed:  4.8min finished\n"
     ]
    },
    {
     "name": "stdout",
     "output_type": "stream",
     "text": [
      "3 T: 10.0, score: 0.8552, std: 0.0062, params: {'max_depth': '10.00', 'subsample': '0.30', 'colsample_bytree': '0.30'}\n"
     ]
    },
    {
     "name": "stderr",
     "output_type": "stream",
     "text": [
      "[Parallel(n_jobs=1)]: Done   5 out of   5 | elapsed:  5.0min finished\n"
     ]
    },
    {
     "name": "stdout",
     "output_type": "stream",
     "text": [
      "4 T: 10.0, score: 0.8537, std: 0.0076, params: {'max_depth': '10.00', 'subsample': '0.30', 'colsample_bytree': '0.50'}\n"
     ]
    },
    {
     "name": "stderr",
     "output_type": "stream",
     "text": [
      "[Parallel(n_jobs=1)]: Done   5 out of   5 | elapsed:  3.7min finished\n"
     ]
    },
    {
     "name": "stdout",
     "output_type": "stream",
     "text": [
      "5 T: 10.0, score: 0.8568, std: 0.0068, params: {'max_depth': '5.00', 'subsample': '0.30', 'colsample_bytree': '0.50'}\n"
     ]
    },
    {
     "name": "stderr",
     "output_type": "stream",
     "text": [
      "[Parallel(n_jobs=1)]: Done   5 out of   5 | elapsed:  5.0min finished\n"
     ]
    },
    {
     "name": "stdout",
     "output_type": "stream",
     "text": [
      "6 T: 10.0, score: 0.8530, std: 0.0072, params: {'max_depth': '8.00', 'subsample': '0.30', 'colsample_bytree': '0.50'}\n",
      "\n",
      "best score: 0.863770 \n",
      "best parameters: {'max_depth': '1.00', 'subsample': '0.30', 'colsample_bytree': '0.30'}\n"
     ]
    }
   ],
   "source": [
    "SA_clf = gc.simAnneal(dtrain, target=target, predictors=predictors)"
   ]
  },
  {
   "cell_type": "code",
   "execution_count": null,
   "metadata": {},
   "outputs": [],
   "source": []
  }
 ],
 "metadata": {
  "kernelspec": {
   "display_name": "Python 3",
   "language": "python",
   "name": "python3"
  },
  "language_info": {
   "codemirror_mode": {
    "name": "ipython",
    "version": 3
   },
   "file_extension": ".py",
   "mimetype": "text/x-python",
   "name": "python",
   "nbconvert_exporter": "python",
   "pygments_lexer": "ipython3",
   "version": "3.6.3"
  },
  "toc": {
   "nav_menu": {},
   "number_sections": true,
   "sideBar": true,
   "skip_h1_title": false,
   "toc_cell": false,
   "toc_position": {},
   "toc_section_display": "block",
   "toc_window_display": false
  },
  "varInspector": {
   "cols": {
    "lenName": 16,
    "lenType": 16,
    "lenVar": 40
   },
   "kernels_config": {
    "python": {
     "delete_cmd_postfix": "",
     "delete_cmd_prefix": "del ",
     "library": "var_list.py",
     "varRefreshCmd": "print(var_dic_list())"
    },
    "r": {
     "delete_cmd_postfix": ") ",
     "delete_cmd_prefix": "rm(",
     "library": "var_list.r",
     "varRefreshCmd": "cat(var_dic_list()) "
    }
   },
   "types_to_exclude": [
    "module",
    "function",
    "builtin_function_or_method",
    "instance",
    "_Feature"
   ],
   "window_display": false
  }
 },
 "nbformat": 4,
 "nbformat_minor": 2
}
