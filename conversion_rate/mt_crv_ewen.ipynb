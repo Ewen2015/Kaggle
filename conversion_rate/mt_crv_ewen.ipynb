{
 "cells": [
  {
   "cell_type": "code",
   "execution_count": 1,
   "metadata": {
    "ExecuteTime": {
     "end_time": "2018-03-24T02:14:40.800486Z",
     "start_time": "2018-03-24T02:14:30.257496Z"
    }
   },
   "outputs": [],
   "source": [
    "import os \n",
    "import pandas as pd\n",
    "import gossipcat as gc\n",
    "\n",
    "wd = '/Users/ewenwang/Documents/practice_data/conversion_rate'\n",
    "os.chdir(wd)\n",
    "\n",
    "train_file = 'round1_ijcai_18_train_20180301.txt'\n",
    "train_data = pd.read_csv(train_file, sep=' ')\n",
    "\n",
    "test_file = 'round1_ijcai_18_test_a_20180301.txt'\n",
    "test_data = pd.read_csv(test_file, sep=' ')\n",
    "\n",
    "target = 'is_trade'\n",
    "features = [x for x in train_data.columns if x not in [target]]\n",
    "\n",
    "feature = gc.Feature(data=train_data, target=target, features=features)"
   ]
  },
  {
   "cell_type": "code",
   "execution_count": 2,
   "metadata": {
    "ExecuteTime": {
     "end_time": "2018-03-24T02:14:42.624614Z",
     "start_time": "2018-03-24T02:14:42.290481Z"
    }
   },
   "outputs": [],
   "source": [
    "from sklearn.model_selection import train_test_split\n",
    "\n",
    "seed = 2018\n",
    "test_size = 0.2\n",
    "\n",
    "dtrain, dtest = train_test_split(train_data, test_size = test_size, random_state = seed)"
   ]
  },
  {
   "cell_type": "code",
   "execution_count": 3,
   "metadata": {
    "ExecuteTime": {
     "end_time": "2018-03-24T02:14:44.264988Z",
     "start_time": "2018-03-24T02:14:44.159386Z"
    }
   },
   "outputs": [
    {
     "name": "stdout",
     "output_type": "stream",
     "text": [
      "classifying...\n",
      "int features count: 19 \n",
      "float features count: 4 \n",
      "object features count: 3\n"
     ]
    }
   ],
   "source": [
    "int_f, float_f, obj_f = feature.classify()\n",
    "\n",
    "predictors = [x for x in train_data.columns if x not in obj_f+[target]]"
   ]
  },
  {
   "cell_type": "code",
   "execution_count": 4,
   "metadata": {
    "ExecuteTime": {
     "end_time": "2018-03-24T02:14:45.172499Z",
     "start_time": "2018-03-24T02:14:45.166312Z"
    }
   },
   "outputs": [
    {
     "data": {
      "text/plain": [
       "['item_category_list', 'item_property_list', 'predict_category_property']"
      ]
     },
     "execution_count": 4,
     "metadata": {},
     "output_type": "execute_result"
    }
   ],
   "source": [
    "obj_f"
   ]
  },
  {
   "cell_type": "code",
   "execution_count": 5,
   "metadata": {
    "ExecuteTime": {
     "end_time": "2018-03-24T02:14:46.259005Z",
     "start_time": "2018-03-24T02:14:46.251022Z"
    }
   },
   "outputs": [
    {
     "data": {
      "text/plain": [
       "['instance_id',\n",
       " 'item_id',\n",
       " 'item_brand_id',\n",
       " 'item_city_id',\n",
       " 'item_price_level',\n",
       " 'item_sales_level',\n",
       " 'item_collected_level',\n",
       " 'item_pv_level',\n",
       " 'user_id',\n",
       " 'user_gender_id',\n",
       " 'user_age_level',\n",
       " 'user_occupation_id',\n",
       " 'user_star_level',\n",
       " 'context_id',\n",
       " 'context_timestamp',\n",
       " 'context_page_id',\n",
       " 'shop_id',\n",
       " 'shop_review_num_level',\n",
       " 'shop_review_positive_rate',\n",
       " 'shop_star_level',\n",
       " 'shop_score_service',\n",
       " 'shop_score_delivery',\n",
       " 'shop_score_description']"
      ]
     },
     "execution_count": 5,
     "metadata": {},
     "output_type": "execute_result"
    }
   ],
   "source": [
    "predictors"
   ]
  },
  {
   "cell_type": "code",
   "execution_count": 6,
   "metadata": {
    "ExecuteTime": {
     "end_time": "2018-03-24T02:14:47.718239Z",
     "start_time": "2018-03-24T02:14:47.713933Z"
    }
   },
   "outputs": [],
   "source": [
    "tuning = gc.Tune(train=dtrain, target=target, predictors=predictors)"
   ]
  },
  {
   "cell_type": "code",
   "execution_count": null,
   "metadata": {
    "ExecuteTime": {
     "start_time": "2018-03-24T02:15:10.601Z"
    }
   },
   "outputs": [
    {
     "name": "stdout",
     "output_type": "stream",
     "text": [
      "simulating...\n",
      "\n",
      "INFO: Number of possible iterations given cooling schedule: 2279\n",
      "\n"
     ]
    }
   ],
   "source": [
    "clf_sim = tuning.simAnneal(alpha=0.98, n_jobs=2)"
   ]
  },
  {
   "cell_type": "code",
   "execution_count": 23,
   "metadata": {
    "ExecuteTime": {
     "end_time": "2018-03-11T00:52:53.496637Z",
     "start_time": "2018-03-11T00:47:49.622064Z"
    }
   },
   "outputs": [
    {
     "name": "stdout",
     "output_type": "stream",
     "text": [
      "\n",
      "predicting...\n"
     ]
    },
    {
     "name": "stderr",
     "output_type": "stream",
     "text": [
      "/Library/Frameworks/Python.framework/Versions/3.6/lib/python3.6/site-packages/sklearn/preprocessing/label.py:151: DeprecationWarning: The truth value of an empty array is ambiguous. Returning False, but in future this will result in an error. Use `array.size > 0` to check that an array is not empty.\n",
      "  if diff:\n",
      "/Library/Frameworks/Python.framework/Versions/3.6/lib/python3.6/site-packages/sklearn/preprocessing/label.py:151: DeprecationWarning: The truth value of an empty array is ambiguous. Returning False, but in future this will result in an error. Use `array.size > 0` to check that an array is not empty.\n",
      "  if diff:\n"
     ]
    },
    {
     "name": "stdout",
     "output_type": "stream",
     "text": [
      "\n",
      "done.\n"
     ]
    }
   ],
   "source": [
    "import warnings\n",
    "warnings.filterwarnings('ignore')\n",
    "\n",
    "rpt = gc.Report(clf, dtrain, dtest, target, predictors)"
   ]
  },
  {
   "cell_type": "code",
   "execution_count": 24,
   "metadata": {
    "ExecuteTime": {
     "end_time": "2018-03-11T00:53:11.562791Z",
     "start_time": "2018-03-11T00:53:07.526921Z"
    }
   },
   "outputs": [
    {
     "name": "stdout",
     "output_type": "stream",
     "text": [
      "\n",
      "Model Report\n",
      "Accuracy : 0.740922\n",
      "AUC Score (train): 0.851094\n",
      "AUC Score (test): 0.678798\n",
      "             precision    recall  f1-score   support\n",
      "\n",
      "          0       0.99      0.73      0.84     93780\n",
      "          1       0.04      0.51      0.07      1848\n",
      "\n",
      "avg / total       0.97      0.73      0.83     95628\n",
      "\n",
      "\n",
      "Model Report\n",
      "Recall metric in the testing dataset:  0.5070346320346321\n"
     ]
    },
    {
     "data": {
      "image/png": "[encoded data removed]",
      "text/plain": [
       "<matplotlib.figure.Figure at 0x11cf5ff98>"
      ]
     },
     "metadata": {},
     "output_type": "display_data"
    },
    {
     "name": "stdout",
     "output_type": "stream",
     "text": [
      "\n",
      "Model Report\n",
      "Average Precision: 0.0424\n"
     ]
    },
    {
     "data": {
      "image/png": "[encoded data removed]",
      "text/plain": [
       "<matplotlib.figure.Figure at 0x11c74ae10>"
      ]
     },
     "metadata": {},
     "output_type": "display_data"
    }
   ],
   "source": [
    "rpt.ALL()"
   ]
  },
  {
   "cell_type": "code",
   "execution_count": null,
   "metadata": {},
   "outputs": [],
   "source": []
  }
 ],
 "metadata": {
  "kernelspec": {
   "display_name": "Python 3",
   "language": "python",
   "name": "python3"
  },
  "language_info": {
   "codemirror_mode": {
    "name": "ipython",
    "version": 3
   },
   "file_extension": ".py",
   "mimetype": "text/x-python",
   "name": "python",
   "nbconvert_exporter": "python",
   "pygments_lexer": "ipython3",
   "version": "3.6.3"
  },
  "toc": {
   "nav_menu": {},
   "number_sections": true,
   "sideBar": true,
   "skip_h1_title": false,
   "toc_cell": false,
   "toc_position": {},
   "toc_section_display": "block",
   "toc_window_display": false
  },
  "varInspector": {
   "cols": {
    "lenName": 16,
    "lenType": 16,
    "lenVar": 40
   },
   "kernels_config": {
    "python": {
     "delete_cmd_postfix": "",
     "delete_cmd_prefix": "del ",
     "library": "var_list.py",
     "varRefreshCmd": "print(var_dic_list())"
    },
    "r": {
     "delete_cmd_postfix": ") ",
     "delete_cmd_prefix": "rm(",
     "library": "var_list.r",
     "varRefreshCmd": "cat(var_dic_list()) "
    }
   },
   "types_to_exclude": [
    "module",
    "function",
    "builtin_function_or_method",
    "instance",
    "_Feature"
   ],
   "window_display": false
  }
 },
 "nbformat": 4,
 "nbformat_minor": 2
}
