{
 "cells": [
  {
   "cell_type": "code",
   "execution_count": 2,
   "metadata": {},
   "outputs": [],
   "source": [
    "import os\n",
    "import pandas as pd\n",
    "import numpy as np\n",
    "from datetime import datetime\n",
    "from functools import partial\n",
    "from sklearn.linear_model import LogisticRegression as LR\n",
    "from sklearn.model_selection import train_test_split\n",
    "from sklearn.metrics import classification_report\n",
    "from sklearn import metrics\n",
    "import features\n",
    "import warnings\n",
    "warnings.filterwarnings(\"ignore\")"
   ]
  },
  {
   "cell_type": "code",
   "execution_count": 3,
   "metadata": {},
   "outputs": [
    {
     "name": "stdout",
     "output_type": "stream",
     "text": [
      "\n",
      "Actually,  0:00:40.876253\n"
     ]
    },
    {
     "data": {
      "text/plain": [
       "(105471, 771)"
      ]
     },
     "execution_count": 3,
     "metadata": {},
     "output_type": "execute_result"
    }
   ],
   "source": [
    "path = '/Users/ewenwang/Documents/loan'\n",
    "filename = 'train_v2.csv'\n",
    "st = datetime.now()\n",
    "dataset = pd.read_csv(os.path.join(path, filename), low_memory=False)\n",
    "dataset = pd.DataFrame(dataset)\n",
    "print('\\nActually, ', datetime.now()-st)\n",
    "\n",
    "dataset.shape"
   ]
  },
  {
   "cell_type": "code",
   "execution_count": 3,
   "metadata": {},
   "outputs": [
    {
     "data": {
      "text/html": [
       "<div>\n",
       "<style scoped>\n",
       "    .dataframe tbody tr th:only-of-type {\n",
       "        vertical-align: middle;\n",
       "    }\n",
       "\n",
       "    .dataframe tbody tr th {\n",
       "        vertical-align: top;\n",
       "    }\n",
       "\n",
       "    .dataframe thead th {\n",
       "        text-align: right;\n",
       "    }\n",
       "</style>\n",
       "<table border=\"1\" class=\"dataframe\">\n",
       "  <thead>\n",
       "    <tr style=\"text-align: right;\">\n",
       "      <th></th>\n",
       "      <th>id</th>\n",
       "      <th>f1</th>\n",
       "      <th>f2</th>\n",
       "      <th>f3</th>\n",
       "      <th>f4</th>\n",
       "      <th>f5</th>\n",
       "      <th>f6</th>\n",
       "      <th>f7</th>\n",
       "      <th>f8</th>\n",
       "      <th>f9</th>\n",
       "      <th>...</th>\n",
       "      <th>f770</th>\n",
       "      <th>f771</th>\n",
       "      <th>f772</th>\n",
       "      <th>f773</th>\n",
       "      <th>f774</th>\n",
       "      <th>f775</th>\n",
       "      <th>f776</th>\n",
       "      <th>f777</th>\n",
       "      <th>f778</th>\n",
       "      <th>loss</th>\n",
       "    </tr>\n",
       "  </thead>\n",
       "  <tbody>\n",
       "    <tr>\n",
       "      <th>0</th>\n",
       "      <td>1</td>\n",
       "      <td>126</td>\n",
       "      <td>10</td>\n",
       "      <td>0.686842</td>\n",
       "      <td>1100</td>\n",
       "      <td>3</td>\n",
       "      <td>13699</td>\n",
       "      <td>7201.0</td>\n",
       "      <td>4949.0</td>\n",
       "      <td>126.75</td>\n",
       "      <td>...</td>\n",
       "      <td>5</td>\n",
       "      <td>2.14</td>\n",
       "      <td>-1.54</td>\n",
       "      <td>1.18</td>\n",
       "      <td>0.1833</td>\n",
       "      <td>0.7873</td>\n",
       "      <td>1</td>\n",
       "      <td>0</td>\n",
       "      <td>5</td>\n",
       "      <td>0</td>\n",
       "    </tr>\n",
       "    <tr>\n",
       "      <th>1</th>\n",
       "      <td>2</td>\n",
       "      <td>121</td>\n",
       "      <td>10</td>\n",
       "      <td>0.782776</td>\n",
       "      <td>1100</td>\n",
       "      <td>3</td>\n",
       "      <td>84645</td>\n",
       "      <td>240.0</td>\n",
       "      <td>1625.0</td>\n",
       "      <td>123.52</td>\n",
       "      <td>...</td>\n",
       "      <td>6</td>\n",
       "      <td>0.54</td>\n",
       "      <td>-0.24</td>\n",
       "      <td>0.13</td>\n",
       "      <td>0.1926</td>\n",
       "      <td>-0.6787</td>\n",
       "      <td>1</td>\n",
       "      <td>0</td>\n",
       "      <td>5</td>\n",
       "      <td>0</td>\n",
       "    </tr>\n",
       "    <tr>\n",
       "      <th>2</th>\n",
       "      <td>3</td>\n",
       "      <td>126</td>\n",
       "      <td>10</td>\n",
       "      <td>0.500080</td>\n",
       "      <td>1100</td>\n",
       "      <td>3</td>\n",
       "      <td>83607</td>\n",
       "      <td>1800.0</td>\n",
       "      <td>1527.0</td>\n",
       "      <td>127.76</td>\n",
       "      <td>...</td>\n",
       "      <td>13</td>\n",
       "      <td>2.89</td>\n",
       "      <td>-1.73</td>\n",
       "      <td>1.04</td>\n",
       "      <td>0.2521</td>\n",
       "      <td>0.7258</td>\n",
       "      <td>1</td>\n",
       "      <td>0</td>\n",
       "      <td>5</td>\n",
       "      <td>0</td>\n",
       "    </tr>\n",
       "    <tr>\n",
       "      <th>3</th>\n",
       "      <td>4</td>\n",
       "      <td>134</td>\n",
       "      <td>10</td>\n",
       "      <td>0.439874</td>\n",
       "      <td>1100</td>\n",
       "      <td>3</td>\n",
       "      <td>82642</td>\n",
       "      <td>7542.0</td>\n",
       "      <td>1730.0</td>\n",
       "      <td>132.94</td>\n",
       "      <td>...</td>\n",
       "      <td>4</td>\n",
       "      <td>1.29</td>\n",
       "      <td>-0.89</td>\n",
       "      <td>0.66</td>\n",
       "      <td>0.2498</td>\n",
       "      <td>0.7119</td>\n",
       "      <td>1</td>\n",
       "      <td>0</td>\n",
       "      <td>5</td>\n",
       "      <td>0</td>\n",
       "    </tr>\n",
       "    <tr>\n",
       "      <th>4</th>\n",
       "      <td>5</td>\n",
       "      <td>109</td>\n",
       "      <td>9</td>\n",
       "      <td>0.502749</td>\n",
       "      <td>2900</td>\n",
       "      <td>4</td>\n",
       "      <td>79124</td>\n",
       "      <td>89.0</td>\n",
       "      <td>491.0</td>\n",
       "      <td>122.72</td>\n",
       "      <td>...</td>\n",
       "      <td>26</td>\n",
       "      <td>6.11</td>\n",
       "      <td>-3.82</td>\n",
       "      <td>2.51</td>\n",
       "      <td>0.2282</td>\n",
       "      <td>-0.5399</td>\n",
       "      <td>0</td>\n",
       "      <td>0</td>\n",
       "      <td>5</td>\n",
       "      <td>0</td>\n",
       "    </tr>\n",
       "  </tbody>\n",
       "</table>\n",
       "<p>5 rows × 771 columns</p>\n",
       "</div>"
      ],
      "text/plain": [
       "   id   f1  f2        f3    f4  f5     f6      f7      f8      f9  ...   f770  \\\n",
       "0   1  126  10  0.686842  1100   3  13699  7201.0  4949.0  126.75  ...      5   \n",
       "1   2  121  10  0.782776  1100   3  84645   240.0  1625.0  123.52  ...      6   \n",
       "2   3  126  10  0.500080  1100   3  83607  1800.0  1527.0  127.76  ...     13   \n",
       "3   4  134  10  0.439874  1100   3  82642  7542.0  1730.0  132.94  ...      4   \n",
       "4   5  109   9  0.502749  2900   4  79124    89.0   491.0  122.72  ...     26   \n",
       "\n",
       "   f771  f772  f773    f774    f775  f776  f777  f778  loss  \n",
       "0  2.14 -1.54  1.18  0.1833  0.7873     1     0     5     0  \n",
       "1  0.54 -0.24  0.13  0.1926 -0.6787     1     0     5     0  \n",
       "2  2.89 -1.73  1.04  0.2521  0.7258     1     0     5     0  \n",
       "3  1.29 -0.89  0.66  0.2498  0.7119     1     0     5     0  \n",
       "4  6.11 -3.82  2.51  0.2282 -0.5399     0     0     5     0  \n",
       "\n",
       "[5 rows x 771 columns]"
      ]
     },
     "execution_count": 3,
     "metadata": {},
     "output_type": "execute_result"
    }
   ],
   "source": [
    "dataset.head()"
   ]
  },
  {
   "cell_type": "code",
   "execution_count": 4,
   "metadata": {},
   "outputs": [
    {
     "name": "stdout",
     "output_type": "stream",
     "text": [
      "<class 'pandas.core.frame.DataFrame'>\n",
      "RangeIndex: 105471 entries, 0 to 105470\n",
      "Columns: 771 entries, id to loss\n",
      "dtypes: float64(652), int64(99), object(19), uint64(1)\n",
      "memory usage: 620.4+ MB\n"
     ]
    }
   ],
   "source": [
    "dataset.info()"
   ]
  },
  {
   "cell_type": "code",
   "execution_count": 5,
   "metadata": {},
   "outputs": [
    {
     "data": {
      "text/plain": [
       "(array([462]),)"
      ]
     },
     "execution_count": 5,
     "metadata": {},
     "output_type": "execute_result"
    }
   ],
   "source": [
    "np.where(dataset.dtypes == 'uint64')"
   ]
  },
  {
   "cell_type": "code",
   "execution_count": 40,
   "metadata": {},
   "outputs": [],
   "source": [
    "# unitFeature = dataset.columns[462]"
   ]
  },
  {
   "cell_type": "code",
   "execution_count": 1,
   "metadata": {},
   "outputs": [],
   "source": [
    "# dataset[unitFeature]"
   ]
  },
  {
   "cell_type": "code",
   "execution_count": 57,
   "metadata": {},
   "outputs": [
    {
     "data": {
      "text/html": [
       "<div>\n",
       "<style scoped>\n",
       "    .dataframe tbody tr th:only-of-type {\n",
       "        vertical-align: middle;\n",
       "    }\n",
       "\n",
       "    .dataframe tbody tr th {\n",
       "        vertical-align: top;\n",
       "    }\n",
       "\n",
       "    .dataframe thead th {\n",
       "        text-align: right;\n",
       "    }\n",
       "</style>\n",
       "<table border=\"1\" class=\"dataframe\">\n",
       "  <thead>\n",
       "    <tr style=\"text-align: right;\">\n",
       "      <th></th>\n",
       "      <th>id</th>\n",
       "      <th>f1</th>\n",
       "      <th>f2</th>\n",
       "      <th>f3</th>\n",
       "      <th>f4</th>\n",
       "      <th>f5</th>\n",
       "      <th>f6</th>\n",
       "      <th>f7</th>\n",
       "      <th>f8</th>\n",
       "    </tr>\n",
       "  </thead>\n",
       "  <tbody>\n",
       "    <tr>\n",
       "      <th>0</th>\n",
       "      <td>1</td>\n",
       "      <td>126</td>\n",
       "      <td>10</td>\n",
       "      <td>0.686842</td>\n",
       "      <td>1100</td>\n",
       "      <td>3</td>\n",
       "      <td>13699</td>\n",
       "      <td>7201.0</td>\n",
       "      <td>4949.0</td>\n",
       "    </tr>\n",
       "    <tr>\n",
       "      <th>1</th>\n",
       "      <td>2</td>\n",
       "      <td>121</td>\n",
       "      <td>10</td>\n",
       "      <td>0.782776</td>\n",
       "      <td>1100</td>\n",
       "      <td>3</td>\n",
       "      <td>84645</td>\n",
       "      <td>240.0</td>\n",
       "      <td>1625.0</td>\n",
       "    </tr>\n",
       "    <tr>\n",
       "      <th>2</th>\n",
       "      <td>3</td>\n",
       "      <td>126</td>\n",
       "      <td>10</td>\n",
       "      <td>0.500080</td>\n",
       "      <td>1100</td>\n",
       "      <td>3</td>\n",
       "      <td>83607</td>\n",
       "      <td>1800.0</td>\n",
       "      <td>1527.0</td>\n",
       "    </tr>\n",
       "    <tr>\n",
       "      <th>3</th>\n",
       "      <td>4</td>\n",
       "      <td>134</td>\n",
       "      <td>10</td>\n",
       "      <td>0.439874</td>\n",
       "      <td>1100</td>\n",
       "      <td>3</td>\n",
       "      <td>82642</td>\n",
       "      <td>7542.0</td>\n",
       "      <td>1730.0</td>\n",
       "    </tr>\n",
       "  </tbody>\n",
       "</table>\n",
       "</div>"
      ],
      "text/plain": [
       "   id   f1  f2        f3    f4  f5     f6      f7      f8\n",
       "0   1  126  10  0.686842  1100   3  13699  7201.0  4949.0\n",
       "1   2  121  10  0.782776  1100   3  84645   240.0  1625.0\n",
       "2   3  126  10  0.500080  1100   3  83607  1800.0  1527.0\n",
       "3   4  134  10  0.439874  1100   3  82642  7542.0  1730.0"
      ]
     },
     "execution_count": 57,
     "metadata": {},
     "output_type": "execute_result"
    }
   ],
   "source": [
    "dataset.iloc[0:4, :9]"
   ]
  },
  {
   "cell_type": "code",
   "execution_count": 52,
   "metadata": {},
   "outputs": [
    {
     "data": {
      "text/plain": [
       "array([ 32,  33,  35,  36,  56,  84,  85,  86,  94,  95,  96, 104, 105,\n",
       "       106, 114, 115, 116, 124, 125, 126, 153, 154, 155, 163, 164, 165,\n",
       "       173, 174, 175, 183, 184, 185, 193, 194, 195, 223, 224, 225, 233,\n",
       "       234, 235, 243, 244, 245, 253, 254, 255, 263, 264, 265, 292, 293,\n",
       "       294, 300, 301, 302, 308, 309, 310, 316, 317, 318, 324, 325, 326,\n",
       "       343, 352, 360, 369, 377, 406, 415, 425, 455, 472, 482, 492, 502,\n",
       "       547, 557, 567, 576, 593, 669, 691, 692, 693, 720, 732, 755, 761])"
      ]
     },
     "execution_count": 52,
     "metadata": {},
     "output_type": "execute_result"
    }
   ],
   "source": [
    "np.where(dataset.head(5000).T.duplicated())[0]"
   ]
  },
  {
   "cell_type": "code",
   "execution_count": 36,
   "metadata": {},
   "outputs": [
    {
     "data": {
      "text/plain": [
       "True"
      ]
     },
     "execution_count": 36,
     "metadata": {},
     "output_type": "execute_result"
    }
   ],
   "source": [
    "dataset.head(5000).T.duplicated().any()"
   ]
  },
  {
   "cell_type": "code",
   "execution_count": 4,
   "metadata": {},
   "outputs": [],
   "source": [
    "df = dataset"
   ]
  },
  {
   "cell_type": "code",
   "execution_count": 97,
   "metadata": {},
   "outputs": [],
   "source": [
    "def features_dup(df, n_head = 5000, print_dup = False):\n",
    "    \"\"\"Check first n_head rows and obtain duplicated features.\"\"\"\n",
    "    if dataset.head(n_head).T.duplicated().any():\n",
    "        dup_list = np.where(df.head(n_head).T.duplicated())[0].tolist()\n",
    "        dup_features = df.columns[dup_list]\n",
    "        if print_dup:\n",
    "            print(dup_features)\n",
    "    return dup_features.tolist()"
   ]
  },
  {
   "cell_type": "code",
   "execution_count": 109,
   "metadata": {},
   "outputs": [],
   "source": [
    "d = features_dup(df)"
   ]
  },
  {
   "cell_type": "code",
   "execution_count": 111,
   "metadata": {},
   "outputs": [],
   "source": [
    "# d.tolist()"
   ]
  },
  {
   "cell_type": "code",
   "execution_count": 124,
   "metadata": {},
   "outputs": [],
   "source": [
    "# [target, 'id', d.tolist()]\n",
    "# d.tolist()+['id', target]"
   ]
  },
  {
   "cell_type": "code",
   "execution_count": 110,
   "metadata": {},
   "outputs": [
    {
     "data": {
      "text/plain": [
       "92"
      ]
     },
     "execution_count": 110,
     "metadata": {},
     "output_type": "execute_result"
    }
   ],
   "source": [
    "len(d)"
   ]
  },
  {
   "cell_type": "code",
   "execution_count": 105,
   "metadata": {
    "scrolled": true
   },
   "outputs": [],
   "source": [
    "target = 'loss'\n",
    "features = [x for x in dataset.columns if x not in ['id', 'defualt', target, d]]"
   ]
  },
  {
   "cell_type": "code",
   "execution_count": 108,
   "metadata": {},
   "outputs": [],
   "source": [
    "# features"
   ]
  },
  {
   "cell_type": "code",
   "execution_count": 107,
   "metadata": {},
   "outputs": [
    {
     "data": {
      "text/plain": [
       "770"
      ]
     },
     "execution_count": 107,
     "metadata": {},
     "output_type": "execute_result"
    }
   ],
   "source": [
    "len(features)"
   ]
  },
  {
   "cell_type": "code",
   "execution_count": 8,
   "metadata": {},
   "outputs": [],
   "source": [
    "def features_clf(df, features):\n",
    "    dtypes = df[features].dtypes.apply(lambda x: x.name).to_dict()\n",
    "    int_features, float_features, object_features = [], [], []\n",
    "    for col, dtype in dtypes.items():\n",
    "        if dtype == 'int64':\n",
    "            int_features.append(col)\n",
    "        elif dtype == 'float64':\n",
    "            float_features.append(col)\n",
    "        elif dtype == 'object':\n",
    "            object_features.append(col)\n",
    "    return int_features, float_features, object_features"
   ]
  },
  {
   "cell_type": "code",
   "execution_count": 26,
   "metadata": {},
   "outputs": [],
   "source": [
    "# dtypes = df[features].dtypes.apply(lambda x: x.name).to_dict()"
   ]
  },
  {
   "cell_type": "code",
   "execution_count": 19,
   "metadata": {},
   "outputs": [],
   "source": [
    "int_cols, float_cols, object_cols = [], [], []\n",
    "for col, dtype in dtypes.items():\n",
    "    if dtype == 'object':\n",
    "        object_cols.append(col)\n",
    "    elif dtype == 'float64':\n",
    "        float_cols.append(col)\n",
    "    elif dtype == 'int64':\n",
    "        int_cols.append(col)"
   ]
  },
  {
   "cell_type": "code",
   "execution_count": 17,
   "metadata": {},
   "outputs": [
    {
     "data": {
      "text/plain": [
       "771"
      ]
     },
     "execution_count": 17,
     "metadata": {},
     "output_type": "execute_result"
    }
   ],
   "source": [
    "len(int_cols)+len(float_cols)+len(object_cols)+2"
   ]
  },
  {
   "cell_type": "code",
   "execution_count": 9,
   "metadata": {},
   "outputs": [],
   "source": [
    "i, f, o = features_clf(df, features)"
   ]
  },
  {
   "cell_type": "code",
   "execution_count": 14,
   "metadata": {},
   "outputs": [
    {
     "data": {
      "text/plain": [
       "91"
      ]
     },
     "execution_count": 14,
     "metadata": {},
     "output_type": "execute_result"
    }
   ],
   "source": [
    "len(d)"
   ]
  },
  {
   "cell_type": "code",
   "execution_count": 15,
   "metadata": {},
   "outputs": [
    {
     "data": {
      "text/plain": [
       "677"
      ]
     },
     "execution_count": 15,
     "metadata": {},
     "output_type": "execute_result"
    }
   ],
   "source": [
    "len(i) + len(f) + len(o)"
   ]
  },
  {
   "cell_type": "code",
   "execution_count": 51,
   "metadata": {},
   "outputs": [],
   "source": [
    "# find_corr_pairs_sub(df[f])"
   ]
  },
  {
   "cell_type": "code",
   "execution_count": 10,
   "metadata": {},
   "outputs": [],
   "source": [
    "def corr_pairs(df, gamma=0.99999):\n",
    "    corr_matrix = df.corr().abs()\n",
    "    os = (corr_matrix.where(np.triu(np.ones(corr_matrix.shape), k=1).astype(np.bool))\n",
    "          .stack()\n",
    "          .sort_values(ascending=False))\n",
    "    return os[os>gamma].index.values.tolist()"
   ]
  },
  {
   "cell_type": "code",
   "execution_count": 11,
   "metadata": {},
   "outputs": [],
   "source": [
    "i_l = corr_pairs(df[i])"
   ]
  },
  {
   "cell_type": "code",
   "execution_count": 18,
   "metadata": {},
   "outputs": [
    {
     "data": {
      "text/plain": [
       "[('f74', 'f722'), ('f36', 'f74'), ('f36', 'f722')]"
      ]
     },
     "execution_count": 18,
     "metadata": {},
     "output_type": "execute_result"
    }
   ],
   "source": [
    "i_l"
   ]
  },
  {
   "cell_type": "code",
   "execution_count": 12,
   "metadata": {},
   "outputs": [],
   "source": [
    "f_l = corr_pairs(df[f])"
   ]
  },
  {
   "cell_type": "code",
   "execution_count": 84,
   "metadata": {},
   "outputs": [
    {
     "data": {
      "text/plain": [
       "[('f676', 'f765'),\n",
       " ('f21', 'f763'),\n",
       " ('f7', 'f439'),\n",
       " ('f264', 'f578'),\n",
       " ('f115', 'f484'),\n",
       " ('f254', 'f569'),\n",
       " ('f85', 'f453'),\n",
       " ('f95', 'f494'),\n",
       " ('f224', 'f539'),\n",
       " ('f105', 'f504'),\n",
       " ('f234', 'f549'),\n",
       " ('f244', 'f559'),\n",
       " ('f8', 'f543'),\n",
       " ('f577', 'f578'),\n",
       " ('f483', 'f484'),\n",
       " ('f264', 'f577'),\n",
       " ('f568', 'f569'),\n",
       " ('f115', 'f483'),\n",
       " ('f452', 'f453'),\n",
       " ('f254', 'f568'),\n",
       " ('f493', 'f494'),\n",
       " ('f85', 'f452'),\n",
       " ('f538', 'f539'),\n",
       " ('f406', 'f768'),\n",
       " ('f503', 'f504'),\n",
       " ('f548', 'f549'),\n",
       " ('f95', 'f493'),\n",
       " ('f224', 'f538'),\n",
       " ('f558', 'f559'),\n",
       " ('f105', 'f503'),\n",
       " ('f234', 'f548'),\n",
       " ('f527', 'f528'),\n",
       " ('f244', 'f558'),\n",
       " ('f274', 'f527'),\n",
       " ('f274', 'f528'),\n",
       " ('f42', 'f644'),\n",
       " ('f389', 'f625'),\n",
       " ('f7', 'f608'),\n",
       " ('f439', 'f608')]"
      ]
     },
     "execution_count": 84,
     "metadata": {},
     "output_type": "execute_result"
    }
   ],
   "source": [
    "f_l"
   ]
  },
  {
   "cell_type": "code",
   "execution_count": 85,
   "metadata": {},
   "outputs": [
    {
     "data": {
      "text/plain": [
       "39"
      ]
     },
     "execution_count": 85,
     "metadata": {},
     "output_type": "execute_result"
    }
   ],
   "source": [
    "n_f_l = len(f_l)\n",
    "n_f_l"
   ]
  },
  {
   "cell_type": "code",
   "execution_count": 43,
   "metadata": {},
   "outputs": [
    {
     "data": {
      "text/html": [
       "<div>\n",
       "<style scoped>\n",
       "    .dataframe tbody tr th:only-of-type {\n",
       "        vertical-align: middle;\n",
       "    }\n",
       "\n",
       "    .dataframe tbody tr th {\n",
       "        vertical-align: top;\n",
       "    }\n",
       "\n",
       "    .dataframe thead th {\n",
       "        text-align: right;\n",
       "    }\n",
       "</style>\n",
       "<table border=\"1\" class=\"dataframe\">\n",
       "  <thead>\n",
       "    <tr style=\"text-align: right;\">\n",
       "      <th></th>\n",
       "      <th>f74</th>\n",
       "      <th>f722</th>\n",
       "    </tr>\n",
       "  </thead>\n",
       "  <tbody>\n",
       "    <tr>\n",
       "      <th>0</th>\n",
       "      <td>5</td>\n",
       "      <td>6</td>\n",
       "    </tr>\n",
       "    <tr>\n",
       "      <th>1</th>\n",
       "      <td>6</td>\n",
       "      <td>7</td>\n",
       "    </tr>\n",
       "    <tr>\n",
       "      <th>2</th>\n",
       "      <td>13</td>\n",
       "      <td>14</td>\n",
       "    </tr>\n",
       "    <tr>\n",
       "      <th>3</th>\n",
       "      <td>4</td>\n",
       "      <td>5</td>\n",
       "    </tr>\n",
       "    <tr>\n",
       "      <th>4</th>\n",
       "      <td>26</td>\n",
       "      <td>27</td>\n",
       "    </tr>\n",
       "  </tbody>\n",
       "</table>\n",
       "</div>"
      ],
      "text/plain": [
       "   f74  f722\n",
       "0    5     6\n",
       "1    6     7\n",
       "2   13    14\n",
       "3    4     5\n",
       "4   26    27"
      ]
     },
     "execution_count": 43,
     "metadata": {},
     "output_type": "execute_result"
    }
   ],
   "source": [
    "df[df.columns & i_l[0]].head()"
   ]
  },
  {
   "cell_type": "code",
   "execution_count": 46,
   "metadata": {},
   "outputs": [
    {
     "data": {
      "text/plain": [
       "array([1])"
      ]
     },
     "execution_count": 46,
     "metadata": {},
     "output_type": "execute_result"
    }
   ],
   "source": [
    "abs(df[i_l[0][0]]-df[i_l[0][1]]).unique()"
   ]
  },
  {
   "cell_type": "code",
   "execution_count": 63,
   "metadata": {},
   "outputs": [
    {
     "name": "stdout",
     "output_type": "stream",
     "text": [
      "0 f74-f722\n",
      "1 f36-f74\n",
      "2 f36-f722\n"
     ]
    }
   ],
   "source": [
    "for index, value in enumerate(i_l):\n",
    "    print(index, '-'.join(value))"
   ]
  },
  {
   "cell_type": "code",
   "execution_count": 64,
   "metadata": {},
   "outputs": [],
   "source": [
    "new_i = pd.DataFrame()\n",
    "for index, value in enumerate(i_l):\n",
    "    new_i['-'.join(value)] = abs(df[i_l[index][0]]-df[i_l[index][1]])"
   ]
  },
  {
   "cell_type": "code",
   "execution_count": 65,
   "metadata": {},
   "outputs": [
    {
     "data": {
      "text/html": [
       "<div>\n",
       "<style scoped>\n",
       "    .dataframe tbody tr th:only-of-type {\n",
       "        vertical-align: middle;\n",
       "    }\n",
       "\n",
       "    .dataframe tbody tr th {\n",
       "        vertical-align: top;\n",
       "    }\n",
       "\n",
       "    .dataframe thead th {\n",
       "        text-align: right;\n",
       "    }\n",
       "</style>\n",
       "<table border=\"1\" class=\"dataframe\">\n",
       "  <thead>\n",
       "    <tr style=\"text-align: right;\">\n",
       "      <th></th>\n",
       "      <th>f74-f722</th>\n",
       "      <th>f36-f74</th>\n",
       "      <th>f36-f722</th>\n",
       "    </tr>\n",
       "  </thead>\n",
       "  <tbody>\n",
       "    <tr>\n",
       "      <th>0</th>\n",
       "      <td>1</td>\n",
       "      <td>0</td>\n",
       "      <td>1</td>\n",
       "    </tr>\n",
       "    <tr>\n",
       "      <th>1</th>\n",
       "      <td>1</td>\n",
       "      <td>0</td>\n",
       "      <td>1</td>\n",
       "    </tr>\n",
       "    <tr>\n",
       "      <th>2</th>\n",
       "      <td>1</td>\n",
       "      <td>0</td>\n",
       "      <td>1</td>\n",
       "    </tr>\n",
       "    <tr>\n",
       "      <th>3</th>\n",
       "      <td>1</td>\n",
       "      <td>0</td>\n",
       "      <td>1</td>\n",
       "    </tr>\n",
       "    <tr>\n",
       "      <th>4</th>\n",
       "      <td>1</td>\n",
       "      <td>0</td>\n",
       "      <td>1</td>\n",
       "    </tr>\n",
       "  </tbody>\n",
       "</table>\n",
       "</div>"
      ],
      "text/plain": [
       "   f74-f722  f36-f74  f36-f722\n",
       "0         1        0         1\n",
       "1         1        0         1\n",
       "2         1        0         1\n",
       "3         1        0         1\n",
       "4         1        0         1"
      ]
     },
     "execution_count": 65,
     "metadata": {},
     "output_type": "execute_result"
    }
   ],
   "source": [
    "new_i.head()"
   ]
  },
  {
   "cell_type": "code",
   "execution_count": 69,
   "metadata": {},
   "outputs": [
    {
     "data": {
      "text/html": [
       "<div>\n",
       "<style scoped>\n",
       "    .dataframe tbody tr th:only-of-type {\n",
       "        vertical-align: middle;\n",
       "    }\n",
       "\n",
       "    .dataframe tbody tr th {\n",
       "        vertical-align: top;\n",
       "    }\n",
       "\n",
       "    .dataframe thead th {\n",
       "        text-align: right;\n",
       "    }\n",
       "</style>\n",
       "<table border=\"1\" class=\"dataframe\">\n",
       "  <thead>\n",
       "    <tr style=\"text-align: right;\">\n",
       "      <th></th>\n",
       "      <th>f74-f722</th>\n",
       "      <th>f36-f74</th>\n",
       "      <th>f36-f722</th>\n",
       "    </tr>\n",
       "  </thead>\n",
       "  <tbody>\n",
       "    <tr>\n",
       "      <th>count</th>\n",
       "      <td>105471.0</td>\n",
       "      <td>105471.000000</td>\n",
       "      <td>105471.000000</td>\n",
       "    </tr>\n",
       "    <tr>\n",
       "      <th>mean</th>\n",
       "      <td>1.0</td>\n",
       "      <td>0.001489</td>\n",
       "      <td>1.001489</td>\n",
       "    </tr>\n",
       "    <tr>\n",
       "      <th>std</th>\n",
       "      <td>0.0</td>\n",
       "      <td>0.038553</td>\n",
       "      <td>0.038553</td>\n",
       "    </tr>\n",
       "    <tr>\n",
       "      <th>min</th>\n",
       "      <td>1.0</td>\n",
       "      <td>0.000000</td>\n",
       "      <td>1.000000</td>\n",
       "    </tr>\n",
       "    <tr>\n",
       "      <th>25%</th>\n",
       "      <td>1.0</td>\n",
       "      <td>0.000000</td>\n",
       "      <td>1.000000</td>\n",
       "    </tr>\n",
       "    <tr>\n",
       "      <th>50%</th>\n",
       "      <td>1.0</td>\n",
       "      <td>0.000000</td>\n",
       "      <td>1.000000</td>\n",
       "    </tr>\n",
       "    <tr>\n",
       "      <th>75%</th>\n",
       "      <td>1.0</td>\n",
       "      <td>0.000000</td>\n",
       "      <td>1.000000</td>\n",
       "    </tr>\n",
       "    <tr>\n",
       "      <th>max</th>\n",
       "      <td>1.0</td>\n",
       "      <td>1.000000</td>\n",
       "      <td>2.000000</td>\n",
       "    </tr>\n",
       "  </tbody>\n",
       "</table>\n",
       "</div>"
      ],
      "text/plain": [
       "       f74-f722        f36-f74       f36-f722\n",
       "count  105471.0  105471.000000  105471.000000\n",
       "mean        1.0       0.001489       1.001489\n",
       "std         0.0       0.038553       0.038553\n",
       "min         1.0       0.000000       1.000000\n",
       "25%         1.0       0.000000       1.000000\n",
       "50%         1.0       0.000000       1.000000\n",
       "75%         1.0       0.000000       1.000000\n",
       "max         1.0       1.000000       2.000000"
      ]
     },
     "execution_count": 69,
     "metadata": {},
     "output_type": "execute_result"
    }
   ],
   "source": [
    "new_i.describe()"
   ]
  },
  {
   "cell_type": "code",
   "execution_count": 72,
   "metadata": {},
   "outputs": [
    {
     "name": "stdout",
     "output_type": "stream",
     "text": [
      "[1]\n",
      "[0 1]\n",
      "[1 2]\n"
     ]
    }
   ],
   "source": [
    "for i in new_i.columns:\n",
    "    print(new_i[i].unique())"
   ]
  },
  {
   "cell_type": "code",
   "execution_count": 81,
   "metadata": {},
   "outputs": [
    {
     "data": {
      "text/plain": [
       "1"
      ]
     },
     "execution_count": 81,
     "metadata": {},
     "output_type": "execute_result"
    }
   ],
   "source": [
    "len((df[i_l[0][0]]-df[i_l[0][1]]).unique())"
   ]
  },
  {
   "cell_type": "code",
   "execution_count": 13,
   "metadata": {},
   "outputs": [],
   "source": [
    "def features_new(df, ls):\n",
    "    new = pd.DataFrame()\n",
    "    for index, value in enumerate(ls):\n",
    "        if len((df[ls[index][0]]-df[ls[index][1]]).unique()) > 1:\n",
    "            new['-'.join(value)] = df[ls[index][0]]-df[ls[index][1]]\n",
    "    return new   "
   ]
  },
  {
   "cell_type": "code",
   "execution_count": 80,
   "metadata": {},
   "outputs": [
    {
     "data": {
      "text/html": [
       "<div>\n",
       "<style scoped>\n",
       "    .dataframe tbody tr th:only-of-type {\n",
       "        vertical-align: middle;\n",
       "    }\n",
       "\n",
       "    .dataframe tbody tr th {\n",
       "        vertical-align: top;\n",
       "    }\n",
       "\n",
       "    .dataframe thead th {\n",
       "        text-align: right;\n",
       "    }\n",
       "</style>\n",
       "<table border=\"1\" class=\"dataframe\">\n",
       "  <thead>\n",
       "    <tr style=\"text-align: right;\">\n",
       "      <th></th>\n",
       "      <th>f36-f74</th>\n",
       "      <th>f36-f722</th>\n",
       "    </tr>\n",
       "  </thead>\n",
       "  <tbody>\n",
       "    <tr>\n",
       "      <th>0</th>\n",
       "      <td>0</td>\n",
       "      <td>-1</td>\n",
       "    </tr>\n",
       "    <tr>\n",
       "      <th>1</th>\n",
       "      <td>0</td>\n",
       "      <td>-1</td>\n",
       "    </tr>\n",
       "    <tr>\n",
       "      <th>2</th>\n",
       "      <td>0</td>\n",
       "      <td>-1</td>\n",
       "    </tr>\n",
       "    <tr>\n",
       "      <th>3</th>\n",
       "      <td>0</td>\n",
       "      <td>-1</td>\n",
       "    </tr>\n",
       "    <tr>\n",
       "      <th>4</th>\n",
       "      <td>0</td>\n",
       "      <td>-1</td>\n",
       "    </tr>\n",
       "  </tbody>\n",
       "</table>\n",
       "</div>"
      ],
      "text/plain": [
       "   f36-f74  f36-f722\n",
       "0        0        -1\n",
       "1        0        -1\n",
       "2        0        -1\n",
       "3        0        -1\n",
       "4        0        -1"
      ]
     },
     "execution_count": 80,
     "metadata": {},
     "output_type": "execute_result"
    }
   ],
   "source": [
    "features_new(df, i_l).head()"
   ]
  },
  {
   "cell_type": "code",
   "execution_count": 15,
   "metadata": {},
   "outputs": [],
   "source": [
    "new_i = features_new(df, i_l)"
   ]
  },
  {
   "cell_type": "code",
   "execution_count": 16,
   "metadata": {},
   "outputs": [],
   "source": [
    "new_f = features_new(df, f_l)"
   ]
  },
  {
   "cell_type": "code",
   "execution_count": 88,
   "metadata": {},
   "outputs": [
    {
     "data": {
      "text/html": [
       "<div>\n",
       "<style scoped>\n",
       "    .dataframe tbody tr th:only-of-type {\n",
       "        vertical-align: middle;\n",
       "    }\n",
       "\n",
       "    .dataframe tbody tr th {\n",
       "        vertical-align: top;\n",
       "    }\n",
       "\n",
       "    .dataframe thead th {\n",
       "        text-align: right;\n",
       "    }\n",
       "</style>\n",
       "<table border=\"1\" class=\"dataframe\">\n",
       "  <thead>\n",
       "    <tr style=\"text-align: right;\">\n",
       "      <th></th>\n",
       "      <th>f676-f765</th>\n",
       "      <th>f21-f763</th>\n",
       "      <th>f7-f439</th>\n",
       "      <th>f264-f578</th>\n",
       "      <th>f115-f484</th>\n",
       "      <th>f254-f569</th>\n",
       "      <th>f85-f453</th>\n",
       "      <th>f95-f494</th>\n",
       "      <th>f224-f539</th>\n",
       "      <th>f105-f504</th>\n",
       "      <th>...</th>\n",
       "      <th>f105-f503</th>\n",
       "      <th>f234-f548</th>\n",
       "      <th>f527-f528</th>\n",
       "      <th>f244-f558</th>\n",
       "      <th>f274-f527</th>\n",
       "      <th>f274-f528</th>\n",
       "      <th>f42-f644</th>\n",
       "      <th>f389-f625</th>\n",
       "      <th>f7-f608</th>\n",
       "      <th>f439-f608</th>\n",
       "    </tr>\n",
       "  </thead>\n",
       "  <tbody>\n",
       "    <tr>\n",
       "      <th>count</th>\n",
       "      <td>105470.0</td>\n",
       "      <td>1.036310e+05</td>\n",
       "      <td>105289.000000</td>\n",
       "      <td>105297.000000</td>\n",
       "      <td>105136.000000</td>\n",
       "      <td>105297.000000</td>\n",
       "      <td>105136.000000</td>\n",
       "      <td>105136.000000</td>\n",
       "      <td>105297.000000</td>\n",
       "      <td>105136.000000</td>\n",
       "      <td>...</td>\n",
       "      <td>105136.000000</td>\n",
       "      <td>105297.000000</td>\n",
       "      <td>105370.000000</td>\n",
       "      <td>105297.000000</td>\n",
       "      <td>105370.000000</td>\n",
       "      <td>105370.000000</td>\n",
       "      <td>105469.000000</td>\n",
       "      <td>104773.000000</td>\n",
       "      <td>105270.000000</td>\n",
       "      <td>105270.000000</td>\n",
       "    </tr>\n",
       "    <tr>\n",
       "      <th>mean</th>\n",
       "      <td>1.0</td>\n",
       "      <td>1.000000e+00</td>\n",
       "      <td>0.000038</td>\n",
       "      <td>0.031978</td>\n",
       "      <td>0.021674</td>\n",
       "      <td>0.021271</td>\n",
       "      <td>0.010875</td>\n",
       "      <td>0.010799</td>\n",
       "      <td>0.010637</td>\n",
       "      <td>0.010751</td>\n",
       "      <td>...</td>\n",
       "      <td>0.095420</td>\n",
       "      <td>0.094411</td>\n",
       "      <td>-1044.903701</td>\n",
       "      <td>0.094870</td>\n",
       "      <td>-2.062121</td>\n",
       "      <td>-1046.965822</td>\n",
       "      <td>0.002095</td>\n",
       "      <td>0.002157</td>\n",
       "      <td>6.851449</td>\n",
       "      <td>6.851411</td>\n",
       "    </tr>\n",
       "    <tr>\n",
       "      <th>std</th>\n",
       "      <td>0.0</td>\n",
       "      <td>1.035788e-17</td>\n",
       "      <td>0.006164</td>\n",
       "      <td>0.049767</td>\n",
       "      <td>0.040132</td>\n",
       "      <td>0.042264</td>\n",
       "      <td>0.030071</td>\n",
       "      <td>0.029932</td>\n",
       "      <td>0.030983</td>\n",
       "      <td>0.029867</td>\n",
       "      <td>...</td>\n",
       "      <td>0.172139</td>\n",
       "      <td>0.175715</td>\n",
       "      <td>4345.411083</td>\n",
       "      <td>0.175305</td>\n",
       "      <td>6226.262833</td>\n",
       "      <td>7636.026910</td>\n",
       "      <td>0.055813</td>\n",
       "      <td>0.056757</td>\n",
       "      <td>11.445368</td>\n",
       "      <td>11.445392</td>\n",
       "    </tr>\n",
       "    <tr>\n",
       "      <th>min</th>\n",
       "      <td>1.0</td>\n",
       "      <td>1.000000e+00</td>\n",
       "      <td>0.000000</td>\n",
       "      <td>-0.300000</td>\n",
       "      <td>0.000000</td>\n",
       "      <td>-0.200000</td>\n",
       "      <td>0.000000</td>\n",
       "      <td>0.000000</td>\n",
       "      <td>-0.100000</td>\n",
       "      <td>0.000000</td>\n",
       "      <td>...</td>\n",
       "      <td>0.000000</td>\n",
       "      <td>-0.560000</td>\n",
       "      <td>-364241.990000</td>\n",
       "      <td>-0.570000</td>\n",
       "      <td>-711219.040000</td>\n",
       "      <td>-877109.430000</td>\n",
       "      <td>0.000000</td>\n",
       "      <td>0.000000</td>\n",
       "      <td>0.000000</td>\n",
       "      <td>-1.000000</td>\n",
       "    </tr>\n",
       "    <tr>\n",
       "      <th>25%</th>\n",
       "      <td>1.0</td>\n",
       "      <td>1.000000e+00</td>\n",
       "      <td>0.000000</td>\n",
       "      <td>0.000000</td>\n",
       "      <td>0.000000</td>\n",
       "      <td>0.000000</td>\n",
       "      <td>0.000000</td>\n",
       "      <td>0.000000</td>\n",
       "      <td>0.000000</td>\n",
       "      <td>0.000000</td>\n",
       "      <td>...</td>\n",
       "      <td>0.000000</td>\n",
       "      <td>0.000000</td>\n",
       "      <td>-906.742500</td>\n",
       "      <td>0.000000</td>\n",
       "      <td>-89.967500</td>\n",
       "      <td>-544.107500</td>\n",
       "      <td>0.000000</td>\n",
       "      <td>0.000000</td>\n",
       "      <td>0.000000</td>\n",
       "      <td>0.000000</td>\n",
       "    </tr>\n",
       "    <tr>\n",
       "      <th>50%</th>\n",
       "      <td>1.0</td>\n",
       "      <td>1.000000e+00</td>\n",
       "      <td>0.000000</td>\n",
       "      <td>0.000000</td>\n",
       "      <td>0.000000</td>\n",
       "      <td>0.000000</td>\n",
       "      <td>0.000000</td>\n",
       "      <td>0.000000</td>\n",
       "      <td>0.000000</td>\n",
       "      <td>0.000000</td>\n",
       "      <td>...</td>\n",
       "      <td>0.000000</td>\n",
       "      <td>0.000000</td>\n",
       "      <td>-313.625000</td>\n",
       "      <td>0.000000</td>\n",
       "      <td>58.725000</td>\n",
       "      <td>0.000000</td>\n",
       "      <td>0.000000</td>\n",
       "      <td>0.000000</td>\n",
       "      <td>2.000000</td>\n",
       "      <td>2.000000</td>\n",
       "    </tr>\n",
       "    <tr>\n",
       "      <th>75%</th>\n",
       "      <td>1.0</td>\n",
       "      <td>1.000000e+00</td>\n",
       "      <td>0.000000</td>\n",
       "      <td>0.100000</td>\n",
       "      <td>0.010000</td>\n",
       "      <td>0.010000</td>\n",
       "      <td>0.000000</td>\n",
       "      <td>0.000000</td>\n",
       "      <td>0.000000</td>\n",
       "      <td>0.000000</td>\n",
       "      <td>...</td>\n",
       "      <td>0.120000</td>\n",
       "      <td>0.120000</td>\n",
       "      <td>-85.692500</td>\n",
       "      <td>0.120000</td>\n",
       "      <td>309.292500</td>\n",
       "      <td>1.980000</td>\n",
       "      <td>0.000000</td>\n",
       "      <td>0.000000</td>\n",
       "      <td>8.000000</td>\n",
       "      <td>8.000000</td>\n",
       "    </tr>\n",
       "    <tr>\n",
       "      <th>max</th>\n",
       "      <td>1.0</td>\n",
       "      <td>1.000000e+00</td>\n",
       "      <td>1.000000</td>\n",
       "      <td>0.410000</td>\n",
       "      <td>0.110000</td>\n",
       "      <td>0.310000</td>\n",
       "      <td>0.110000</td>\n",
       "      <td>0.110000</td>\n",
       "      <td>0.210000</td>\n",
       "      <td>0.110000</td>\n",
       "      <td>...</td>\n",
       "      <td>0.980000</td>\n",
       "      <td>1.280000</td>\n",
       "      <td>0.000000</td>\n",
       "      <td>1.250000</td>\n",
       "      <td>609823.870000</td>\n",
       "      <td>379757.440000</td>\n",
       "      <td>3.000000</td>\n",
       "      <td>3.000000</td>\n",
       "      <td>72.000000</td>\n",
       "      <td>72.000000</td>\n",
       "    </tr>\n",
       "  </tbody>\n",
       "</table>\n",
       "<p>8 rows × 39 columns</p>\n",
       "</div>"
      ],
      "text/plain": [
       "       f676-f765      f21-f763        f7-f439      f264-f578      f115-f484  \\\n",
       "count   105470.0  1.036310e+05  105289.000000  105297.000000  105136.000000   \n",
       "mean         1.0  1.000000e+00       0.000038       0.031978       0.021674   \n",
       "std          0.0  1.035788e-17       0.006164       0.049767       0.040132   \n",
       "min          1.0  1.000000e+00       0.000000      -0.300000       0.000000   \n",
       "25%          1.0  1.000000e+00       0.000000       0.000000       0.000000   \n",
       "50%          1.0  1.000000e+00       0.000000       0.000000       0.000000   \n",
       "75%          1.0  1.000000e+00       0.000000       0.100000       0.010000   \n",
       "max          1.0  1.000000e+00       1.000000       0.410000       0.110000   \n",
       "\n",
       "           f254-f569       f85-f453       f95-f494      f224-f539  \\\n",
       "count  105297.000000  105136.000000  105136.000000  105297.000000   \n",
       "mean        0.021271       0.010875       0.010799       0.010637   \n",
       "std         0.042264       0.030071       0.029932       0.030983   \n",
       "min        -0.200000       0.000000       0.000000      -0.100000   \n",
       "25%         0.000000       0.000000       0.000000       0.000000   \n",
       "50%         0.000000       0.000000       0.000000       0.000000   \n",
       "75%         0.010000       0.000000       0.000000       0.000000   \n",
       "max         0.310000       0.110000       0.110000       0.210000   \n",
       "\n",
       "           f105-f504      ...            f105-f503      f234-f548  \\\n",
       "count  105136.000000      ...        105136.000000  105297.000000   \n",
       "mean        0.010751      ...             0.095420       0.094411   \n",
       "std         0.029867      ...             0.172139       0.175715   \n",
       "min         0.000000      ...             0.000000      -0.560000   \n",
       "25%         0.000000      ...             0.000000       0.000000   \n",
       "50%         0.000000      ...             0.000000       0.000000   \n",
       "75%         0.000000      ...             0.120000       0.120000   \n",
       "max         0.110000      ...             0.980000       1.280000   \n",
       "\n",
       "           f527-f528      f244-f558      f274-f527      f274-f528  \\\n",
       "count  105370.000000  105297.000000  105370.000000  105370.000000   \n",
       "mean    -1044.903701       0.094870      -2.062121   -1046.965822   \n",
       "std      4345.411083       0.175305    6226.262833    7636.026910   \n",
       "min   -364241.990000      -0.570000 -711219.040000 -877109.430000   \n",
       "25%      -906.742500       0.000000     -89.967500    -544.107500   \n",
       "50%      -313.625000       0.000000      58.725000       0.000000   \n",
       "75%       -85.692500       0.120000     309.292500       1.980000   \n",
       "max         0.000000       1.250000  609823.870000  379757.440000   \n",
       "\n",
       "            f42-f644      f389-f625        f7-f608      f439-f608  \n",
       "count  105469.000000  104773.000000  105270.000000  105270.000000  \n",
       "mean        0.002095       0.002157       6.851449       6.851411  \n",
       "std         0.055813       0.056757      11.445368      11.445392  \n",
       "min         0.000000       0.000000       0.000000      -1.000000  \n",
       "25%         0.000000       0.000000       0.000000       0.000000  \n",
       "50%         0.000000       0.000000       2.000000       2.000000  \n",
       "75%         0.000000       0.000000       8.000000       8.000000  \n",
       "max         3.000000       3.000000      72.000000      72.000000  \n",
       "\n",
       "[8 rows x 39 columns]"
      ]
     },
     "execution_count": 88,
     "metadata": {},
     "output_type": "execute_result"
    }
   ],
   "source": [
    "new_f.describe()"
   ]
  },
  {
   "cell_type": "code",
   "execution_count": 17,
   "metadata": {},
   "outputs": [
    {
     "data": {
      "text/plain": [
       "0   -414.28\n",
       "1    -35.73\n",
       "2   -122.26\n",
       "3   -120.58\n",
       "4    -21.47\n",
       "Name: f527-f528, dtype: float64"
      ]
     },
     "execution_count": 17,
     "metadata": {},
     "output_type": "execute_result"
    }
   ],
   "source": [
    "new_f['f527-f528'].head()"
   ]
  },
  {
   "cell_type": "code",
   "execution_count": 19,
   "metadata": {},
   "outputs": [],
   "source": [
    "from sklearn.linear_model import LogisticRegression as LR"
   ]
  },
  {
   "cell_type": "code",
   "execution_count": 39,
   "metadata": {},
   "outputs": [
    {
     "data": {
      "text/html": [
       "<div>\n",
       "<style scoped>\n",
       "    .dataframe tbody tr th:only-of-type {\n",
       "        vertical-align: middle;\n",
       "    }\n",
       "\n",
       "    .dataframe tbody tr th {\n",
       "        vertical-align: top;\n",
       "    }\n",
       "\n",
       "    .dataframe thead th {\n",
       "        text-align: right;\n",
       "    }\n",
       "</style>\n",
       "<table border=\"1\" class=\"dataframe\">\n",
       "  <thead>\n",
       "    <tr style=\"text-align: right;\">\n",
       "      <th></th>\n",
       "      <th>f527-f528</th>\n",
       "    </tr>\n",
       "  </thead>\n",
       "  <tbody>\n",
       "    <tr>\n",
       "      <th>0</th>\n",
       "      <td>-414.28</td>\n",
       "    </tr>\n",
       "    <tr>\n",
       "      <th>1</th>\n",
       "      <td>-35.73</td>\n",
       "    </tr>\n",
       "    <tr>\n",
       "      <th>2</th>\n",
       "      <td>-122.26</td>\n",
       "    </tr>\n",
       "    <tr>\n",
       "      <th>3</th>\n",
       "      <td>-120.58</td>\n",
       "    </tr>\n",
       "    <tr>\n",
       "      <th>4</th>\n",
       "      <td>-21.47</td>\n",
       "    </tr>\n",
       "  </tbody>\n",
       "</table>\n",
       "</div>"
      ],
      "text/plain": [
       "   f527-f528\n",
       "0    -414.28\n",
       "1     -35.73\n",
       "2    -122.26\n",
       "3    -120.58\n",
       "4     -21.47"
      ]
     },
     "execution_count": 39,
     "metadata": {},
     "output_type": "execute_result"
    }
   ],
   "source": [
    "pd.DataFrame(new_f['f527-f528'].fillna(new_f['f527-f528'].median())).head()"
   ]
  },
  {
   "cell_type": "code",
   "execution_count": 40,
   "metadata": {},
   "outputs": [
    {
     "data": {
      "text/plain": [
       "LogisticRegression(C=1.0, class_weight=None, dual=False, fit_intercept=True,\n",
       "          intercept_scaling=1, max_iter=100, multi_class='ovr', n_jobs=1,\n",
       "          penalty='l2', random_state=None, solver='liblinear', tol=0.0001,\n",
       "          verbose=0, warm_start=False)"
      ]
     },
     "execution_count": 40,
     "metadata": {},
     "output_type": "execute_result"
    }
   ],
   "source": [
    "lr = LR()\n",
    "lr.fit(pd.DataFrame(new_f['f527-f528'].fillna(new_f['f527-f528'].median())), df[target])\n",
    "# new_f['f527-f528'].fillna(new_f['f527-f528'].median()).reshape(-1, 1)[:10,:]"
   ]
  },
  {
   "cell_type": "code",
   "execution_count": 41,
   "metadata": {},
   "outputs": [],
   "source": [
    "prob = lr.predict_proba(pd.DataFrame(new_f['f527-f528'].fillna(new_f['f527-f528'].median())))"
   ]
  },
  {
   "cell_type": "code",
   "execution_count": 43,
   "metadata": {},
   "outputs": [
    {
     "data": {
      "text/plain": [
       "dtype('float64')"
      ]
     },
     "execution_count": 43,
     "metadata": {},
     "output_type": "execute_result"
    }
   ],
   "source": [
    "prob.dtype"
   ]
  },
  {
   "cell_type": "code",
   "execution_count": 45,
   "metadata": {},
   "outputs": [
    {
     "data": {
      "text/plain": [
       "array([  0,   1,  16,  19,   4,  11,  21,   2,   9,   5,   3,   7,  13,\n",
       "         6,  25,  44,  17, 100,  10,   8,  65,  15,  12,  29,  22,  20,\n",
       "        18,  41,  55,  28,  23,  14,  38,  42,  33,  27,  24,  39,  26,\n",
       "        31,  35,  64,  32,  54,  37,  61,  79,  51,  43,  77,  47,  36,\n",
       "        46,  81,  78,  60,  45,  85,  84,  34,  90,  40,  50,  92,  74,\n",
       "        62,  53,  59,  89,  48,  30,  49,  99,  73,  95,  83,  56,  70,\n",
       "        71,  68,  94,  72,  57,  58,  52,  63,  69,  76,  80])"
      ]
     },
     "execution_count": 45,
     "metadata": {},
     "output_type": "execute_result"
    }
   ],
   "source": [
    "df[target].unique()"
   ]
  },
  {
   "cell_type": "code",
   "execution_count": 50,
   "metadata": {},
   "outputs": [],
   "source": [
    "default = df[target]\n",
    "default[default>0] = 1"
   ]
  },
  {
   "cell_type": "code",
   "execution_count": 60,
   "metadata": {},
   "outputs": [],
   "source": [
    "df['default'] = default"
   ]
  },
  {
   "cell_type": "code",
   "execution_count": 51,
   "metadata": {},
   "outputs": [],
   "source": [
    "gf = pd.DataFrame(new_f['f527-f528'].fillna(new_f['f527-f528'].median()))"
   ]
  },
  {
   "cell_type": "code",
   "execution_count": 52,
   "metadata": {},
   "outputs": [
    {
     "data": {
      "text/plain": [
       "LogisticRegression(C=1.0, class_weight=None, dual=False, fit_intercept=True,\n",
       "          intercept_scaling=1, max_iter=100, multi_class='ovr', n_jobs=1,\n",
       "          penalty='l2', random_state=None, solver='liblinear', tol=0.0001,\n",
       "          verbose=0, warm_start=False)"
      ]
     },
     "execution_count": 52,
     "metadata": {},
     "output_type": "execute_result"
    }
   ],
   "source": [
    "lr = LR()\n",
    "lr.fit(gf, default)"
   ]
  },
  {
   "cell_type": "code",
   "execution_count": 58,
   "metadata": {},
   "outputs": [],
   "source": [
    "prob = lr.predict_proba(gf)[:,1]"
   ]
  },
  {
   "cell_type": "code",
   "execution_count": 57,
   "metadata": {},
   "outputs": [
    {
     "data": {
      "text/plain": [
       "array([[ 0.91826533,  0.08173467],\n",
       "       [ 0.92285023,  0.07714977],\n",
       "       [ 0.92182344,  0.07817656],\n",
       "       [ 0.92184349,  0.07815651],\n",
       "       [ 0.92301825,  0.07698175],\n",
       "       [ 0.91895742,  0.08104258],\n",
       "       [ 0.92236336,  0.07763664],\n",
       "       [ 0.90897127,  0.09102873],\n",
       "       [ 0.91189284,  0.08810716],\n",
       "       [ 0.91951075,  0.08048925]])"
      ]
     },
     "execution_count": 57,
     "metadata": {},
     "output_type": "execute_result"
    }
   ],
   "source": [
    "prob[:10,:]"
   ]
  },
  {
   "cell_type": "code",
   "execution_count": 59,
   "metadata": {},
   "outputs": [
    {
     "name": "stdout",
     "output_type": "stream",
     "text": [
      "AUC Score (Train): 0.915607\n"
     ]
    }
   ],
   "source": [
    "print(\"AUC Score (Train): %f\" % metrics.roc_auc_score(default, prob))"
   ]
  },
  {
   "cell_type": "code",
   "execution_count": 66,
   "metadata": {},
   "outputs": [],
   "source": [
    "temp = pd.DataFrame(df[i_l[0][0]]-df[i_l[0][1]])"
   ]
  },
  {
   "cell_type": "code",
   "execution_count": 81,
   "metadata": {},
   "outputs": [
    {
     "ename": "AttributeError",
     "evalue": "'numpy.ndarray' object has no attribute 'unique'",
     "output_type": "error",
     "traceback": [
      "\u001b[0;31m---------------------------------------------------------------------------\u001b[0m",
      "\u001b[0;31mAttributeError\u001b[0m                            Traceback (most recent call last)",
      "\u001b[0;32m<ipython-input-81-d6de73edf7f4>\u001b[0m in \u001b[0;36m<module>\u001b[0;34m()\u001b[0m\n\u001b[0;32m----> 1\u001b[0;31m \u001b[0mtemp\u001b[0m\u001b[0;34m.\u001b[0m\u001b[0mvalues\u001b[0m\u001b[0;34m.\u001b[0m\u001b[0mravel\u001b[0m\u001b[0;34m(\u001b[0m\u001b[0;34m)\u001b[0m\u001b[0;34m.\u001b[0m\u001b[0munique\u001b[0m\u001b[0;34m(\u001b[0m\u001b[0;34m)\u001b[0m\u001b[0;34m\u001b[0m\u001b[0m\n\u001b[0m",
      "\u001b[0;31mAttributeError\u001b[0m: 'numpy.ndarray' object has no attribute 'unique'"
     ]
    }
   ],
   "source": [
    "temp.values.ravel().unique()"
   ]
  },
  {
   "cell_type": "code",
   "execution_count": 95,
   "metadata": {},
   "outputs": [],
   "source": [
    "def features_new(df, ls, target, auc_score=0.75, silent = False):\n",
    "    new = pd.DataFrame()\n",
    "    for index, value in enumerate(ls):\n",
    "        temp = df[ls[index][0]]-df[ls[index][1]]\n",
    "        if len(temp.unique()) > 1:\n",
    "            temp = pd.DataFrame(temp.fillna(temp.median()))\n",
    "            lr = LR()\n",
    "            lr.fit(temp, df[target])\n",
    "            prob = lr.predict_proba(temp)[:,1]\n",
    "            auc = metrics.roc_auc_score(df[target], prob)\n",
    "            if auc > auc_score:\n",
    "                if silent:\n",
    "                    print('-'.join(value), ' AUC (train): ', auc)\n",
    "                new['-'.join(value)] = df[ls[index][0]]-df[ls[index][1]]\n",
    "    return new"
   ]
  },
  {
   "cell_type": "code",
   "execution_count": 91,
   "metadata": {},
   "outputs": [
    {
     "data": {
      "text/html": [
       "<div>\n",
       "<style scoped>\n",
       "    .dataframe tbody tr th:only-of-type {\n",
       "        vertical-align: middle;\n",
       "    }\n",
       "\n",
       "    .dataframe tbody tr th {\n",
       "        vertical-align: top;\n",
       "    }\n",
       "\n",
       "    .dataframe thead th {\n",
       "        text-align: right;\n",
       "    }\n",
       "</style>\n",
       "<table border=\"1\" class=\"dataframe\">\n",
       "  <thead>\n",
       "    <tr style=\"text-align: right;\">\n",
       "      <th></th>\n",
       "    </tr>\n",
       "  </thead>\n",
       "  <tbody>\n",
       "  </tbody>\n",
       "</table>\n",
       "</div>"
      ],
      "text/plain": [
       "Empty DataFrame\n",
       "Columns: []\n",
       "Index: []"
      ]
     },
     "execution_count": 91,
     "metadata": {},
     "output_type": "execute_result"
    }
   ],
   "source": [
    "features_new(df, i_l, 'default').head()"
   ]
  },
  {
   "cell_type": "code",
   "execution_count": 96,
   "metadata": {},
   "outputs": [
    {
     "name": "stdout",
     "output_type": "stream",
     "text": [
      "f527-f528  AUC (train):  0.915607274654\n",
      "f274-f527  AUC (train):  0.900140457424\n",
      "f274-f528  AUC (train):  0.937543347206\n"
     ]
    },
    {
     "data": {
      "text/html": [
       "<div>\n",
       "<style scoped>\n",
       "    .dataframe tbody tr th:only-of-type {\n",
       "        vertical-align: middle;\n",
       "    }\n",
       "\n",
       "    .dataframe tbody tr th {\n",
       "        vertical-align: top;\n",
       "    }\n",
       "\n",
       "    .dataframe thead th {\n",
       "        text-align: right;\n",
       "    }\n",
       "</style>\n",
       "<table border=\"1\" class=\"dataframe\">\n",
       "  <thead>\n",
       "    <tr style=\"text-align: right;\">\n",
       "      <th></th>\n",
       "      <th>f527-f528</th>\n",
       "      <th>f274-f527</th>\n",
       "      <th>f274-f528</th>\n",
       "    </tr>\n",
       "  </thead>\n",
       "  <tbody>\n",
       "    <tr>\n",
       "      <th>0</th>\n",
       "      <td>-414.28</td>\n",
       "      <td>-105.69</td>\n",
       "      <td>-519.97</td>\n",
       "    </tr>\n",
       "    <tr>\n",
       "      <th>1</th>\n",
       "      <td>-35.73</td>\n",
       "      <td>35.73</td>\n",
       "      <td>0.00</td>\n",
       "    </tr>\n",
       "    <tr>\n",
       "      <th>2</th>\n",
       "      <td>-122.26</td>\n",
       "      <td>-137.84</td>\n",
       "      <td>-260.10</td>\n",
       "    </tr>\n",
       "    <tr>\n",
       "      <th>3</th>\n",
       "      <td>-120.58</td>\n",
       "      <td>-8.78</td>\n",
       "      <td>-129.36</td>\n",
       "    </tr>\n",
       "    <tr>\n",
       "      <th>4</th>\n",
       "      <td>-21.47</td>\n",
       "      <td>21.50</td>\n",
       "      <td>0.03</td>\n",
       "    </tr>\n",
       "  </tbody>\n",
       "</table>\n",
       "</div>"
      ],
      "text/plain": [
       "   f527-f528  f274-f527  f274-f528\n",
       "0    -414.28    -105.69    -519.97\n",
       "1     -35.73      35.73       0.00\n",
       "2    -122.26    -137.84    -260.10\n",
       "3    -120.58      -8.78    -129.36\n",
       "4     -21.47      21.50       0.03"
      ]
     },
     "execution_count": 96,
     "metadata": {},
     "output_type": "execute_result"
    }
   ],
   "source": [
    "features_new(df, f_l, target='default', auc_score=0.75, silent=True).head()"
   ]
  },
  {
   "cell_type": "code",
   "execution_count": null,
   "metadata": {},
   "outputs": [],
   "source": []
  },
  {
   "cell_type": "code",
   "execution_count": null,
   "metadata": {},
   "outputs": [],
   "source": []
  },
  {
   "cell_type": "code",
   "execution_count": null,
   "metadata": {},
   "outputs": [],
   "source": []
  },
  {
   "cell_type": "code",
   "execution_count": null,
   "metadata": {},
   "outputs": [],
   "source": []
  },
  {
   "cell_type": "code",
   "execution_count": null,
   "metadata": {},
   "outputs": [],
   "source": []
  },
  {
   "cell_type": "code",
   "execution_count": null,
   "metadata": {},
   "outputs": [],
   "source": []
  },
  {
   "cell_type": "code",
   "execution_count": null,
   "metadata": {},
   "outputs": [],
   "source": []
  },
  {
   "cell_type": "code",
   "execution_count": null,
   "metadata": {},
   "outputs": [],
   "source": [
    "##LDA\n",
    "import itertools\n",
    "from sklearn.preprocessing import StandardScaler\n",
    "from sklearn.discriminant_analysis import LinearDiscriminantAnalysis as LDA\n",
    "\n",
    "cl = data_x.columns\n",
    "while (len(cl) - 20 > 5):\n",
    "    lda = LDA(n_components=2)\n",
    "    all_features=StandardScaler().fit_transform(data_x[cl])\n",
    "    X_r2 = lda.fit(all_features, train_loss).transform(all_features)\n",
    "    result_coff=pd.DataFrame({'title':data_x[cl].columns,'coff':lda.coef_.reshape(data_x[cl].shape[1])})\n",
    "    result_coff['coff']=np.abs(result_coff['coff'])\n",
    "    cl = list(result_coff.sort_values(ascending=False,by=['coff']).iloc[:,1].values)\n",
    "    del cl[-20:]\n",
    "    print('Turns Left:', len(cl)/20)\n",
    "\n",
    "cl1 = list(itertools.combinations(cl, 3))\n",
    "aucList = pd.DataFrame(columns= [['AUC values','features']]).astype('object')\n",
    "\n",
    "for i in range(len(cl1)):\n",
    "        golden_features = data_x[list(cl1[i])]\n",
    "        lda = LDA(n_components=2)\n",
    "        X_r2 = lda.fit(golden_features, train_loss).transform(golden_features)\n",
    "        aucList.loc[i] = [dq.F_AUC(X_r2,train_loss,features=['lda']).loc[0][0], list(cl1[i])]\n",
    "        print('Turns Remaining:', len(cl1)-i)\n",
    "\n",
    "aucList.sort_values(['AUC values'],ascending=[False])"
   ]
  },
  {
   "cell_type": "code",
   "execution_count": null,
   "metadata": {},
   "outputs": [],
   "source": []
  },
  {
   "cell_type": "code",
   "execution_count": null,
   "metadata": {},
   "outputs": [],
   "source": []
  },
  {
   "cell_type": "code",
   "execution_count": null,
   "metadata": {},
   "outputs": [],
   "source": []
  },
  {
   "cell_type": "code",
   "execution_count": 28,
   "metadata": {},
   "outputs": [],
   "source": [
    "corr_matrix = df[i].corr().abs()\n",
    "\n",
    "#the matrix is symmetric so we need to extract upper triangle matrix without diagonal (k = 1)\n",
    "os_i = (corr_matrix.where(np.triu(np.ones(corr_matrix.shape), k=1).astype(np.bool))\n",
    "                 .stack()\n",
    "                 .sort_values(ascending=False))\n",
    "#first element of os series is the pair with the bigest correlation"
   ]
  },
  {
   "cell_type": "code",
   "execution_count": 34,
   "metadata": {},
   "outputs": [],
   "source": [
    "pairs_i = os_i[os_i > .99999]"
   ]
  },
  {
   "cell_type": "code",
   "execution_count": 39,
   "metadata": {},
   "outputs": [
    {
     "data": {
      "text/plain": [
       "f74  f722    1.000000\n",
       "f36  f74     0.999998\n",
       "     f722    0.999998\n",
       "dtype: float64"
      ]
     },
     "execution_count": 39,
     "metadata": {},
     "output_type": "execute_result"
    }
   ],
   "source": [
    "pairs_i"
   ]
  },
  {
   "cell_type": "code",
   "execution_count": 30,
   "metadata": {},
   "outputs": [],
   "source": [
    "corr_matrix = df[f].corr().abs()\n",
    "\n",
    "#the matrix is symmetric so we need to extract upper triangle matrix without diagonal (k = 1)\n",
    "os_f = (corr_matrix.where(np.triu(np.ones(corr_matrix.shape), k=1).astype(np.bool))\n",
    "                 .stack()\n",
    "                 .sort_values(ascending=False))\n",
    "#first element of os series is the pair with the bigest correlation"
   ]
  },
  {
   "cell_type": "code",
   "execution_count": null,
   "metadata": {},
   "outputs": [],
   "source": []
  },
  {
   "cell_type": "code",
   "execution_count": null,
   "metadata": {},
   "outputs": [],
   "source": []
  },
  {
   "cell_type": "code",
   "execution_count": null,
   "metadata": {},
   "outputs": [],
   "source": []
  },
  {
   "cell_type": "code",
   "execution_count": null,
   "metadata": {},
   "outputs": [],
   "source": []
  },
  {
   "cell_type": "code",
   "execution_count": null,
   "metadata": {},
   "outputs": [],
   "source": [
    "c = df[i].corr().abs()\n",
    "s = c.unstack()\n",
    "so = s.order(kind=\"quicksort\")"
   ]
  },
  {
   "cell_type": "code",
   "execution_count": 130,
   "metadata": {},
   "outputs": [],
   "source": [
    "c = df[i].corr().abs()"
   ]
  },
  {
   "cell_type": "code",
   "execution_count": 148,
   "metadata": {},
   "outputs": [
    {
     "data": {
      "text/plain": [
       "(array([ 9, 57]),)"
      ]
     },
     "execution_count": 148,
     "metadata": {},
     "output_type": "execute_result"
    }
   ],
   "source": [
    "# c.columns() \n",
    "np.where(c.isnull().all())"
   ]
  },
  {
   "cell_type": "code",
   "execution_count": null,
   "metadata": {},
   "outputs": [],
   "source": []
  },
  {
   "cell_type": "code",
   "execution_count": 143,
   "metadata": {},
   "outputs": [
    {
     "data": {
      "text/html": [
       "<div>\n",
       "<style scoped>\n",
       "    .dataframe tbody tr th:only-of-type {\n",
       "        vertical-align: middle;\n",
       "    }\n",
       "\n",
       "    .dataframe tbody tr th {\n",
       "        vertical-align: top;\n",
       "    }\n",
       "\n",
       "    .dataframe thead th {\n",
       "        text-align: right;\n",
       "    }\n",
       "</style>\n",
       "<table border=\"1\" class=\"dataframe\">\n",
       "  <thead>\n",
       "    <tr style=\"text-align: right;\">\n",
       "      <th></th>\n",
       "      <th>f1</th>\n",
       "      <th>f2</th>\n",
       "      <th>f4</th>\n",
       "      <th>f5</th>\n",
       "      <th>f6</th>\n",
       "      <th>f13</th>\n",
       "      <th>f16</th>\n",
       "      <th>f24</th>\n",
       "      <th>f25</th>\n",
       "      <th>f33</th>\n",
       "      <th>...</th>\n",
       "      <th>f722</th>\n",
       "      <th>f725</th>\n",
       "      <th>f728</th>\n",
       "      <th>f730</th>\n",
       "      <th>f731</th>\n",
       "      <th>f732</th>\n",
       "      <th>f736</th>\n",
       "      <th>f776</th>\n",
       "      <th>f777</th>\n",
       "      <th>f778</th>\n",
       "    </tr>\n",
       "  </thead>\n",
       "  <tbody>\n",
       "    <tr>\n",
       "      <th>f1</th>\n",
       "      <td>1.000000</td>\n",
       "      <td>0.210388</td>\n",
       "      <td>0.782389</td>\n",
       "      <td>0.269849</td>\n",
       "      <td>0.102250</td>\n",
       "      <td>0.056130</td>\n",
       "      <td>0.075052</td>\n",
       "      <td>0.299080</td>\n",
       "      <td>0.302254</td>\n",
       "      <td>NaN</td>\n",
       "      <td>...</td>\n",
       "      <td>0.081430</td>\n",
       "      <td>0.080732</td>\n",
       "      <td>0.003761</td>\n",
       "      <td>0.083830</td>\n",
       "      <td>0.176596</td>\n",
       "      <td>0.267671</td>\n",
       "      <td>NaN</td>\n",
       "      <td>0.078637</td>\n",
       "      <td>0.873927</td>\n",
       "      <td>0.270134</td>\n",
       "    </tr>\n",
       "    <tr>\n",
       "      <th>f2</th>\n",
       "      <td>0.210388</td>\n",
       "      <td>1.000000</td>\n",
       "      <td>0.215980</td>\n",
       "      <td>0.221009</td>\n",
       "      <td>0.091765</td>\n",
       "      <td>0.063015</td>\n",
       "      <td>0.260137</td>\n",
       "      <td>0.026845</td>\n",
       "      <td>0.494467</td>\n",
       "      <td>NaN</td>\n",
       "      <td>...</td>\n",
       "      <td>0.078268</td>\n",
       "      <td>0.241238</td>\n",
       "      <td>0.051839</td>\n",
       "      <td>0.021537</td>\n",
       "      <td>0.011294</td>\n",
       "      <td>0.044443</td>\n",
       "      <td>NaN</td>\n",
       "      <td>0.097982</td>\n",
       "      <td>0.225693</td>\n",
       "      <td>0.221553</td>\n",
       "    </tr>\n",
       "    <tr>\n",
       "      <th>f4</th>\n",
       "      <td>0.782389</td>\n",
       "      <td>0.215980</td>\n",
       "      <td>1.000000</td>\n",
       "      <td>0.256425</td>\n",
       "      <td>0.119798</td>\n",
       "      <td>0.049142</td>\n",
       "      <td>0.106806</td>\n",
       "      <td>0.337085</td>\n",
       "      <td>0.216014</td>\n",
       "      <td>NaN</td>\n",
       "      <td>...</td>\n",
       "      <td>0.108048</td>\n",
       "      <td>0.088469</td>\n",
       "      <td>0.027852</td>\n",
       "      <td>0.063114</td>\n",
       "      <td>0.159975</td>\n",
       "      <td>0.255563</td>\n",
       "      <td>NaN</td>\n",
       "      <td>0.038133</td>\n",
       "      <td>0.875710</td>\n",
       "      <td>0.262051</td>\n",
       "    </tr>\n",
       "    <tr>\n",
       "      <th>f5</th>\n",
       "      <td>0.269849</td>\n",
       "      <td>0.221009</td>\n",
       "      <td>0.256425</td>\n",
       "      <td>1.000000</td>\n",
       "      <td>0.055828</td>\n",
       "      <td>0.113924</td>\n",
       "      <td>0.007983</td>\n",
       "      <td>0.097416</td>\n",
       "      <td>0.115824</td>\n",
       "      <td>NaN</td>\n",
       "      <td>...</td>\n",
       "      <td>0.084133</td>\n",
       "      <td>0.103954</td>\n",
       "      <td>0.057205</td>\n",
       "      <td>0.025927</td>\n",
       "      <td>0.008229</td>\n",
       "      <td>0.042850</td>\n",
       "      <td>NaN</td>\n",
       "      <td>0.036634</td>\n",
       "      <td>0.303485</td>\n",
       "      <td>0.770800</td>\n",
       "    </tr>\n",
       "    <tr>\n",
       "      <th>f6</th>\n",
       "      <td>0.102250</td>\n",
       "      <td>0.091765</td>\n",
       "      <td>0.119798</td>\n",
       "      <td>0.055828</td>\n",
       "      <td>1.000000</td>\n",
       "      <td>0.001726</td>\n",
       "      <td>0.230357</td>\n",
       "      <td>0.090395</td>\n",
       "      <td>0.057398</td>\n",
       "      <td>NaN</td>\n",
       "      <td>...</td>\n",
       "      <td>0.006449</td>\n",
       "      <td>0.010516</td>\n",
       "      <td>0.013691</td>\n",
       "      <td>0.021994</td>\n",
       "      <td>0.030764</td>\n",
       "      <td>0.039208</td>\n",
       "      <td>NaN</td>\n",
       "      <td>0.010537</td>\n",
       "      <td>0.161654</td>\n",
       "      <td>0.070763</td>\n",
       "    </tr>\n",
       "  </tbody>\n",
       "</table>\n",
       "<p>5 rows × 61 columns</p>\n",
       "</div>"
      ],
      "text/plain": [
       "          f1        f2        f4        f5        f6       f13       f16  \\\n",
       "f1  1.000000  0.210388  0.782389  0.269849  0.102250  0.056130  0.075052   \n",
       "f2  0.210388  1.000000  0.215980  0.221009  0.091765  0.063015  0.260137   \n",
       "f4  0.782389  0.215980  1.000000  0.256425  0.119798  0.049142  0.106806   \n",
       "f5  0.269849  0.221009  0.256425  1.000000  0.055828  0.113924  0.007983   \n",
       "f6  0.102250  0.091765  0.119798  0.055828  1.000000  0.001726  0.230357   \n",
       "\n",
       "         f24       f25  f33    ...         f722      f725      f728      f730  \\\n",
       "f1  0.299080  0.302254  NaN    ...     0.081430  0.080732  0.003761  0.083830   \n",
       "f2  0.026845  0.494467  NaN    ...     0.078268  0.241238  0.051839  0.021537   \n",
       "f4  0.337085  0.216014  NaN    ...     0.108048  0.088469  0.027852  0.063114   \n",
       "f5  0.097416  0.115824  NaN    ...     0.084133  0.103954  0.057205  0.025927   \n",
       "f6  0.090395  0.057398  NaN    ...     0.006449  0.010516  0.013691  0.021994   \n",
       "\n",
       "        f731      f732  f736      f776      f777      f778  \n",
       "f1  0.176596  0.267671   NaN  0.078637  0.873927  0.270134  \n",
       "f2  0.011294  0.044443   NaN  0.097982  0.225693  0.221553  \n",
       "f4  0.159975  0.255563   NaN  0.038133  0.875710  0.262051  \n",
       "f5  0.008229  0.042850   NaN  0.036634  0.303485  0.770800  \n",
       "f6  0.030764  0.039208   NaN  0.010537  0.161654  0.070763  \n",
       "\n",
       "[5 rows x 61 columns]"
      ]
     },
     "execution_count": 143,
     "metadata": {},
     "output_type": "execute_result"
    }
   ],
   "source": [
    "c.head()"
   ]
  },
  {
   "cell_type": "code",
   "execution_count": null,
   "metadata": {},
   "outputs": [],
   "source": []
  },
  {
   "cell_type": "code",
   "execution_count": 132,
   "metadata": {},
   "outputs": [],
   "source": [
    "s = c.unstack()"
   ]
  },
  {
   "cell_type": "code",
   "execution_count": 152,
   "metadata": {},
   "outputs": [],
   "source": [
    "so = s.sort_values(kind=\"quicksort\", ascending=False)"
   ]
  },
  {
   "cell_type": "code",
   "execution_count": 164,
   "metadata": {},
   "outputs": [
    {
     "data": {
      "text/plain": [
       "f74   f36     0.999998\n",
       "f36   f74     0.999998\n",
       "      f722    0.999998\n",
       "f722  f36     0.999998\n",
       "f681  f74     0.999855\n",
       "f74   f681    0.999855\n",
       "f681  f722    0.999855\n",
       "f722  f681    0.999855\n",
       "f36   f681    0.999854\n",
       "f681  f36     0.999854\n",
       "f467  f447    0.999364\n",
       "f447  f467    0.999364\n",
       "f532  f521    0.998688\n",
       "f521  f532    0.998688\n",
       "f728  f681    0.994136\n",
       "f681  f728    0.994136\n",
       "f728  f36     0.993618\n",
       "f36   f728    0.993618\n",
       "f722  f728    0.993612\n",
       "f728  f74     0.993612\n",
       "f74   f728    0.993612\n",
       "f728  f722    0.993612\n",
       "      f730    0.991874\n",
       "f730  f728    0.991874\n",
       "      f731    0.990528\n",
       "f731  f730    0.990528\n",
       "      f732    0.990072\n",
       "f732  f731    0.990072\n",
       "dtype: float64"
      ]
     },
     "execution_count": 164,
     "metadata": {},
     "output_type": "execute_result"
    }
   ],
   "source": [
    "so[so > .99][so < 1]"
   ]
  },
  {
   "cell_type": "code",
   "execution_count": null,
   "metadata": {},
   "outputs": [],
   "source": []
  },
  {
   "cell_type": "code",
   "execution_count": 90,
   "metadata": {},
   "outputs": [
    {
     "data": {
      "text/plain": [
       "(nan, 1.0)"
      ]
     },
     "execution_count": 90,
     "metadata": {},
     "output_type": "execute_result"
    }
   ],
   "source": [
    "from scipy.stats.stats import pearsonr\n",
    "pearsonr(dataset.f527, dataset.f528)"
   ]
  },
  {
   "cell_type": "code",
   "execution_count": 5,
   "metadata": {},
   "outputs": [
    {
     "data": {
      "text/plain": [
       "True"
      ]
     },
     "execution_count": 5,
     "metadata": {},
     "output_type": "execute_result"
    }
   ],
   "source": [
    "dataset.f527.isnull().any()"
   ]
  },
  {
   "cell_type": "code",
   "execution_count": 6,
   "metadata": {},
   "outputs": [],
   "source": [
    "df = dataset"
   ]
  },
  {
   "cell_type": "code",
   "execution_count": 11,
   "metadata": {},
   "outputs": [],
   "source": [
    "df.f527 = df.f527.fillna(df.f527.median())\n",
    "df.f528 = df.f528.fillna(df.f528.median())\n",
    "# np.corrcoef(df.f527, df.f528)"
   ]
  },
  {
   "cell_type": "code",
   "execution_count": 13,
   "metadata": {},
   "outputs": [
    {
     "data": {
      "text/plain": [
       "0.99999977947009588"
      ]
     },
     "execution_count": 13,
     "metadata": {},
     "output_type": "execute_result"
    }
   ],
   "source": [
    "np.corrcoef(df.f527, df.f528)[0, 1]"
   ]
  },
  {
   "cell_type": "code",
   "execution_count": 15,
   "metadata": {},
   "outputs": [],
   "source": [
    "target = df.loss\n",
    "target[target > 0] = 1"
   ]
  },
  {
   "cell_type": "code",
   "execution_count": 16,
   "metadata": {},
   "outputs": [
    {
     "data": {
      "text/plain": [
       "-0.18959896011181998"
      ]
     },
     "execution_count": 16,
     "metadata": {},
     "output_type": "execute_result"
    }
   ],
   "source": [
    "np.corrcoef(df.f527-df.f528, target)[0, 1]"
   ]
  },
  {
   "cell_type": "code",
   "execution_count": 95,
   "metadata": {},
   "outputs": [],
   "source": [
    "#dataset.f527"
   ]
  },
  {
   "cell_type": "code",
   "execution_count": 50,
   "metadata": {
    "scrolled": false
   },
   "outputs": [
    {
     "data": {
      "text/html": [
       "<div>\n",
       "<style scoped>\n",
       "    .dataframe tbody tr th:only-of-type {\n",
       "        vertical-align: middle;\n",
       "    }\n",
       "\n",
       "    .dataframe tbody tr th {\n",
       "        vertical-align: top;\n",
       "    }\n",
       "\n",
       "    .dataframe thead th {\n",
       "        text-align: right;\n",
       "    }\n",
       "</style>\n",
       "<table border=\"1\" class=\"dataframe\">\n",
       "  <thead>\n",
       "    <tr style=\"text-align: right;\">\n",
       "      <th></th>\n",
       "      <th>f34</th>\n",
       "      <th>f35</th>\n",
       "      <th>f37</th>\n",
       "      <th>f38</th>\n",
       "      <th>f58</th>\n",
       "      <th>f86</th>\n",
       "      <th>f87</th>\n",
       "      <th>f88</th>\n",
       "      <th>f96</th>\n",
       "      <th>f97</th>\n",
       "      <th>...</th>\n",
       "      <th>f678</th>\n",
       "      <th>f700</th>\n",
       "      <th>f701</th>\n",
       "      <th>f702</th>\n",
       "      <th>f724</th>\n",
       "      <th>f725</th>\n",
       "      <th>f729</th>\n",
       "      <th>f741</th>\n",
       "      <th>f764</th>\n",
       "      <th>f770</th>\n",
       "    </tr>\n",
       "  </thead>\n",
       "  <tbody>\n",
       "    <tr>\n",
       "      <th>0</th>\n",
       "      <td>0</td>\n",
       "      <td>0</td>\n",
       "      <td>0</td>\n",
       "      <td>0</td>\n",
       "      <td>5.0</td>\n",
       "      <td>862.0</td>\n",
       "      <td>862.0</td>\n",
       "      <td>862.0</td>\n",
       "      <td>851.0</td>\n",
       "      <td>851.0</td>\n",
       "      <td>...</td>\n",
       "      <td>0.0</td>\n",
       "      <td>0</td>\n",
       "      <td>0</td>\n",
       "      <td>0</td>\n",
       "      <td>0.0</td>\n",
       "      <td>0</td>\n",
       "      <td>6</td>\n",
       "      <td>6</td>\n",
       "      <td>1</td>\n",
       "      <td>5</td>\n",
       "    </tr>\n",
       "    <tr>\n",
       "      <th>1</th>\n",
       "      <td>0</td>\n",
       "      <td>0</td>\n",
       "      <td>0</td>\n",
       "      <td>0</td>\n",
       "      <td>6.0</td>\n",
       "      <td>26.0</td>\n",
       "      <td>26.0</td>\n",
       "      <td>26.0</td>\n",
       "      <td>20.0</td>\n",
       "      <td>20.0</td>\n",
       "      <td>...</td>\n",
       "      <td>0.0</td>\n",
       "      <td>0</td>\n",
       "      <td>0</td>\n",
       "      <td>0</td>\n",
       "      <td>0.0</td>\n",
       "      <td>0</td>\n",
       "      <td>7</td>\n",
       "      <td>7</td>\n",
       "      <td>1</td>\n",
       "      <td>6</td>\n",
       "    </tr>\n",
       "    <tr>\n",
       "      <th>2</th>\n",
       "      <td>0</td>\n",
       "      <td>0</td>\n",
       "      <td>0</td>\n",
       "      <td>0</td>\n",
       "      <td>13.0</td>\n",
       "      <td>134.0</td>\n",
       "      <td>134.0</td>\n",
       "      <td>134.0</td>\n",
       "      <td>124.0</td>\n",
       "      <td>124.0</td>\n",
       "      <td>...</td>\n",
       "      <td>0.0</td>\n",
       "      <td>0</td>\n",
       "      <td>0</td>\n",
       "      <td>0</td>\n",
       "      <td>0.0</td>\n",
       "      <td>0</td>\n",
       "      <td>14</td>\n",
       "      <td>14</td>\n",
       "      <td>1</td>\n",
       "      <td>13</td>\n",
       "    </tr>\n",
       "    <tr>\n",
       "      <th>3</th>\n",
       "      <td>0</td>\n",
       "      <td>0</td>\n",
       "      <td>0</td>\n",
       "      <td>0</td>\n",
       "      <td>4.0</td>\n",
       "      <td>1088.0</td>\n",
       "      <td>1088.0</td>\n",
       "      <td>1088.0</td>\n",
       "      <td>903.0</td>\n",
       "      <td>903.0</td>\n",
       "      <td>...</td>\n",
       "      <td>0.0</td>\n",
       "      <td>0</td>\n",
       "      <td>0</td>\n",
       "      <td>0</td>\n",
       "      <td>0.0</td>\n",
       "      <td>0</td>\n",
       "      <td>5</td>\n",
       "      <td>5</td>\n",
       "      <td>1</td>\n",
       "      <td>4</td>\n",
       "    </tr>\n",
       "    <tr>\n",
       "      <th>4</th>\n",
       "      <td>0</td>\n",
       "      <td>0</td>\n",
       "      <td>0</td>\n",
       "      <td>0</td>\n",
       "      <td>26.0</td>\n",
       "      <td>5.0</td>\n",
       "      <td>5.0</td>\n",
       "      <td>5.0</td>\n",
       "      <td>5.0</td>\n",
       "      <td>5.0</td>\n",
       "      <td>...</td>\n",
       "      <td>0.0</td>\n",
       "      <td>0</td>\n",
       "      <td>0</td>\n",
       "      <td>0</td>\n",
       "      <td>0.0</td>\n",
       "      <td>0</td>\n",
       "      <td>27</td>\n",
       "      <td>27</td>\n",
       "      <td>1</td>\n",
       "      <td>26</td>\n",
       "    </tr>\n",
       "    <tr>\n",
       "      <th>5</th>\n",
       "      <td>0</td>\n",
       "      <td>0</td>\n",
       "      <td>0</td>\n",
       "      <td>0</td>\n",
       "      <td>22.0</td>\n",
       "      <td>137.0</td>\n",
       "      <td>137.0</td>\n",
       "      <td>137.0</td>\n",
       "      <td>131.0</td>\n",
       "      <td>131.0</td>\n",
       "      <td>...</td>\n",
       "      <td>0.0</td>\n",
       "      <td>0</td>\n",
       "      <td>0</td>\n",
       "      <td>0</td>\n",
       "      <td>0.0</td>\n",
       "      <td>0</td>\n",
       "      <td>23</td>\n",
       "      <td>23</td>\n",
       "      <td>1</td>\n",
       "      <td>22</td>\n",
       "    </tr>\n",
       "    <tr>\n",
       "      <th>6</th>\n",
       "      <td>0</td>\n",
       "      <td>0</td>\n",
       "      <td>0</td>\n",
       "      <td>0</td>\n",
       "      <td>23.0</td>\n",
       "      <td>349.0</td>\n",
       "      <td>349.0</td>\n",
       "      <td>349.0</td>\n",
       "      <td>399.0</td>\n",
       "      <td>399.0</td>\n",
       "      <td>...</td>\n",
       "      <td>0.0</td>\n",
       "      <td>0</td>\n",
       "      <td>0</td>\n",
       "      <td>0</td>\n",
       "      <td>0.0</td>\n",
       "      <td>0</td>\n",
       "      <td>24</td>\n",
       "      <td>24</td>\n",
       "      <td>1</td>\n",
       "      <td>23</td>\n",
       "    </tr>\n",
       "    <tr>\n",
       "      <th>7</th>\n",
       "      <td>0</td>\n",
       "      <td>0</td>\n",
       "      <td>0</td>\n",
       "      <td>0</td>\n",
       "      <td>17.0</td>\n",
       "      <td>956.0</td>\n",
       "      <td>956.0</td>\n",
       "      <td>956.0</td>\n",
       "      <td>837.0</td>\n",
       "      <td>837.0</td>\n",
       "      <td>...</td>\n",
       "      <td>0.0</td>\n",
       "      <td>0</td>\n",
       "      <td>0</td>\n",
       "      <td>0</td>\n",
       "      <td>0.0</td>\n",
       "      <td>0</td>\n",
       "      <td>18</td>\n",
       "      <td>18</td>\n",
       "      <td>1</td>\n",
       "      <td>17</td>\n",
       "    </tr>\n",
       "    <tr>\n",
       "      <th>8</th>\n",
       "      <td>0</td>\n",
       "      <td>0</td>\n",
       "      <td>0</td>\n",
       "      <td>0</td>\n",
       "      <td>7.0</td>\n",
       "      <td>239.0</td>\n",
       "      <td>239.0</td>\n",
       "      <td>239.0</td>\n",
       "      <td>253.0</td>\n",
       "      <td>253.0</td>\n",
       "      <td>...</td>\n",
       "      <td>0.0</td>\n",
       "      <td>0</td>\n",
       "      <td>0</td>\n",
       "      <td>0</td>\n",
       "      <td>0.0</td>\n",
       "      <td>0</td>\n",
       "      <td>8</td>\n",
       "      <td>8</td>\n",
       "      <td>1</td>\n",
       "      <td>7</td>\n",
       "    </tr>\n",
       "    <tr>\n",
       "      <th>9</th>\n",
       "      <td>0</td>\n",
       "      <td>0</td>\n",
       "      <td>0</td>\n",
       "      <td>0</td>\n",
       "      <td>5.0</td>\n",
       "      <td>83.0</td>\n",
       "      <td>83.0</td>\n",
       "      <td>83.0</td>\n",
       "      <td>82.0</td>\n",
       "      <td>82.0</td>\n",
       "      <td>...</td>\n",
       "      <td>0.0</td>\n",
       "      <td>0</td>\n",
       "      <td>0</td>\n",
       "      <td>0</td>\n",
       "      <td>0.0</td>\n",
       "      <td>0</td>\n",
       "      <td>6</td>\n",
       "      <td>6</td>\n",
       "      <td>1</td>\n",
       "      <td>5</td>\n",
       "    </tr>\n",
       "  </tbody>\n",
       "</table>\n",
       "<p>10 rows × 96 columns</p>\n",
       "</div>"
      ],
      "text/plain": [
       "   f34  f35  f37  f38   f58     f86     f87     f88    f96    f97  ...   f678  \\\n",
       "0    0    0    0    0   5.0   862.0   862.0   862.0  851.0  851.0  ...    0.0   \n",
       "1    0    0    0    0   6.0    26.0    26.0    26.0   20.0   20.0  ...    0.0   \n",
       "2    0    0    0    0  13.0   134.0   134.0   134.0  124.0  124.0  ...    0.0   \n",
       "3    0    0    0    0   4.0  1088.0  1088.0  1088.0  903.0  903.0  ...    0.0   \n",
       "4    0    0    0    0  26.0     5.0     5.0     5.0    5.0    5.0  ...    0.0   \n",
       "5    0    0    0    0  22.0   137.0   137.0   137.0  131.0  131.0  ...    0.0   \n",
       "6    0    0    0    0  23.0   349.0   349.0   349.0  399.0  399.0  ...    0.0   \n",
       "7    0    0    0    0  17.0   956.0   956.0   956.0  837.0  837.0  ...    0.0   \n",
       "8    0    0    0    0   7.0   239.0   239.0   239.0  253.0  253.0  ...    0.0   \n",
       "9    0    0    0    0   5.0    83.0    83.0    83.0   82.0   82.0  ...    0.0   \n",
       "\n",
       "   f700  f701  f702  f724  f725  f729  f741  f764  f770  \n",
       "0     0     0     0   0.0     0     6     6     1     5  \n",
       "1     0     0     0   0.0     0     7     7     1     6  \n",
       "2     0     0     0   0.0     0    14    14     1    13  \n",
       "3     0     0     0   0.0     0     5     5     1     4  \n",
       "4     0     0     0   0.0     0    27    27     1    26  \n",
       "5     0     0     0   0.0     0    23    23     1    22  \n",
       "6     0     0     0   0.0     0    24    24     1    23  \n",
       "7     0     0     0   0.0     0    18    18     1    17  \n",
       "8     0     0     0   0.0     0     8     8     1     7  \n",
       "9     0     0     0   0.0     0     6     6     1     5  \n",
       "\n",
       "[10 rows x 96 columns]"
      ]
     },
     "execution_count": 50,
     "metadata": {},
     "output_type": "execute_result"
    }
   ],
   "source": [
    "df = dataset\n",
    "n_head = 250\n",
    "#print(np.where(dataset.head(n_head).T.duplicated())[0])\n",
    "df.iloc[0:10, np.where(dataset.head(n_head).T.duplicated())[0]]"
   ]
  },
  {
   "cell_type": "code",
   "execution_count": null,
   "metadata": {},
   "outputs": [],
   "source": []
  }
 ],
 "metadata": {
  "kernelspec": {
   "display_name": "Python 3",
   "language": "python",
   "name": "python3"
  },
  "language_info": {
   "codemirror_mode": {
    "name": "ipython",
    "version": 3
   },
   "file_extension": ".py",
   "mimetype": "text/x-python",
   "name": "python",
   "nbconvert_exporter": "python",
   "pygments_lexer": "ipython3",
   "version": "3.6.3"
  }
 },
 "nbformat": 4,
 "nbformat_minor": 2
}
