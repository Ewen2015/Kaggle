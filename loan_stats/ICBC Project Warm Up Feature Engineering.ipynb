{
 "cells": [
  {
   "cell_type": "markdown",
   "metadata": {},
   "source": [
    "# ICBC Project Warm-Up: Feature Engineering\n",
    "\n",
    "### Ewen Nov 20, 2017\n",
    "\n",
    "## Introduction\n",
    "\n",
    "Feature engineering is the process of using domain knowledge of the data to create features that make \n",
    "machine learning algorithms work. Feature engineering is fundamental to the application of machine learning, \n",
    "and is both difficult and expensive. The need for manual feature engineering can be obviated by automated \n",
    "feature learning.\n",
    "\n",
    "Feature engineering is an informal topic, but it is considered essential in applied machine learning.\n",
    "\n",
    "## Warm-Up Task\n",
    "\n",
    "The aim of this warm-up to help IBMers in ICBC project to get a big picture of feature engineering and do some hands-on practices. The data can only be used in this project for exerice, please don't share any material including this warm-up practice to poeple outside IBM. Cheers!\n",
    "\n",
    "**Task:**\n",
    "\n",
    "- 1. Summary the data types in the dataset. You may need some EDA to explore it. Please refer to the EDA task.\n",
    "- 2. Try to find possible ways to transform raw data into the one that machine learning algorithms can handle with.\n",
    "- 3. Generate reasonable features with your expert knowledge. Illustrate why you do so.\n",
    "\n",
    "**Requirement: Please provide rational FE w/ descriptions. Do everything w/ a reason and necessary explaination!**\n",
    "\n",
    "A FE start has been given as following, feel free to use it.\n",
    "\n",
    "**Note1:** I didn't include much EDA in this start-up for time saving but it's a must part of feature engineering. You have to know what data you have, how it is distributed, and then you may do some feature engineering on it. \n",
    "\n",
    "**Note2:** I did two data transformation in Excel before this FE: (1) moved out `%` sign; (2) converted date to `short date` type (check out functions in Excel). Make sure you have done these steps before you generate the same results as following."
   ]
  },
  {
   "cell_type": "markdown",
   "metadata": {},
   "source": [
    "## Data Preparation"
   ]
  },
  {
   "cell_type": "code",
   "execution_count": 111,
   "metadata": {},
   "outputs": [],
   "source": [
    "import os\n",
    "import numpy as  np\n",
    "import pandas as pd\n",
    "\n",
    "wd = '/Users/ewenwang/OneDrive/IBM/Project_ICBC/code_wu'\n",
    "os.chdir(wd)\n",
    "datafile = 'lc_2016Q3_clean.csv'\n",
    "data = pd.read_csv(datafile, header=0, encoding='latin-1', low_memory=False)"
   ]
  },
  {
   "cell_type": "code",
   "execution_count": 112,
   "metadata": {},
   "outputs": [
    {
     "data": {
      "text/html": [
       "<div>\n",
       "<style scoped>\n",
       "    .dataframe tbody tr th:only-of-type {\n",
       "        vertical-align: middle;\n",
       "    }\n",
       "\n",
       "    .dataframe tbody tr th {\n",
       "        vertical-align: top;\n",
       "    }\n",
       "\n",
       "    .dataframe thead th {\n",
       "        text-align: right;\n",
       "    }\n",
       "</style>\n",
       "<table border=\"1\" class=\"dataframe\">\n",
       "  <thead>\n",
       "    <tr style=\"text-align: right;\">\n",
       "      <th></th>\n",
       "      <th>loan_amnt</th>\n",
       "      <th>term</th>\n",
       "      <th>int_rate</th>\n",
       "      <th>installment</th>\n",
       "      <th>emp_title</th>\n",
       "      <th>emp_length</th>\n",
       "      <th>home_ownership</th>\n",
       "      <th>annual_inc</th>\n",
       "      <th>verification_status</th>\n",
       "      <th>issue_d</th>\n",
       "      <th>...</th>\n",
       "      <th>num_tl_90g_dpd_24m</th>\n",
       "      <th>num_tl_op_past_12m</th>\n",
       "      <th>pct_tl_nvr_dlq</th>\n",
       "      <th>percent_bc_gt_75</th>\n",
       "      <th>pub_rec_bankruptcies</th>\n",
       "      <th>tax_liens</th>\n",
       "      <th>tot_hi_cred_lim</th>\n",
       "      <th>total_bal_ex_mort</th>\n",
       "      <th>total_bc_limit</th>\n",
       "      <th>total_il_high_credit_limit</th>\n",
       "    </tr>\n",
       "  </thead>\n",
       "  <tbody>\n",
       "    <tr>\n",
       "      <th>0</th>\n",
       "      <td>15000</td>\n",
       "      <td>36 months</td>\n",
       "      <td>13.99</td>\n",
       "      <td>512.60</td>\n",
       "      <td>Fiscal Director</td>\n",
       "      <td>2</td>\n",
       "      <td>RENT</td>\n",
       "      <td>55000.0</td>\n",
       "      <td>Not Verified</td>\n",
       "      <td>01/09/2016</td>\n",
       "      <td>...</td>\n",
       "      <td>0</td>\n",
       "      <td>5</td>\n",
       "      <td>100.0</td>\n",
       "      <td>33.3</td>\n",
       "      <td>0</td>\n",
       "      <td>0</td>\n",
       "      <td>147587</td>\n",
       "      <td>140492</td>\n",
       "      <td>30200</td>\n",
       "      <td>108587</td>\n",
       "    </tr>\n",
       "    <tr>\n",
       "      <th>1</th>\n",
       "      <td>2600</td>\n",
       "      <td>36 months</td>\n",
       "      <td>8.99</td>\n",
       "      <td>82.67</td>\n",
       "      <td>Loaner Coordinator</td>\n",
       "      <td>3</td>\n",
       "      <td>RENT</td>\n",
       "      <td>35000.0</td>\n",
       "      <td>Source Verified</td>\n",
       "      <td>01/09/2016</td>\n",
       "      <td>...</td>\n",
       "      <td>0</td>\n",
       "      <td>0</td>\n",
       "      <td>100.0</td>\n",
       "      <td>0.0</td>\n",
       "      <td>0</td>\n",
       "      <td>0</td>\n",
       "      <td>73227</td>\n",
       "      <td>19497</td>\n",
       "      <td>50200</td>\n",
       "      <td>20527</td>\n",
       "    </tr>\n",
       "    <tr>\n",
       "      <th>2</th>\n",
       "      <td>32200</td>\n",
       "      <td>60 months</td>\n",
       "      <td>21.49</td>\n",
       "      <td>880.02</td>\n",
       "      <td>warehouse/supervisor</td>\n",
       "      <td>10</td>\n",
       "      <td>MORTGAGE</td>\n",
       "      <td>65000.0</td>\n",
       "      <td>Not Verified</td>\n",
       "      <td>01/09/2016</td>\n",
       "      <td>...</td>\n",
       "      <td>0</td>\n",
       "      <td>2</td>\n",
       "      <td>100.0</td>\n",
       "      <td>40.0</td>\n",
       "      <td>1</td>\n",
       "      <td>0</td>\n",
       "      <td>199969</td>\n",
       "      <td>24934</td>\n",
       "      <td>13900</td>\n",
       "      <td>15886</td>\n",
       "    </tr>\n",
       "    <tr>\n",
       "      <th>3</th>\n",
       "      <td>10000</td>\n",
       "      <td>36 months</td>\n",
       "      <td>11.49</td>\n",
       "      <td>329.72</td>\n",
       "      <td>Teacher</td>\n",
       "      <td>10</td>\n",
       "      <td>OWN</td>\n",
       "      <td>55900.0</td>\n",
       "      <td>Not Verified</td>\n",
       "      <td>01/09/2016</td>\n",
       "      <td>...</td>\n",
       "      <td>0</td>\n",
       "      <td>6</td>\n",
       "      <td>100.0</td>\n",
       "      <td>66.7</td>\n",
       "      <td>0</td>\n",
       "      <td>0</td>\n",
       "      <td>68831</td>\n",
       "      <td>38085</td>\n",
       "      <td>13500</td>\n",
       "      <td>36431</td>\n",
       "    </tr>\n",
       "  </tbody>\n",
       "</table>\n",
       "<p>4 rows × 90 columns</p>\n",
       "</div>"
      ],
      "text/plain": [
       "   loan_amnt        term  int_rate  installment             emp_title  \\\n",
       "0      15000   36 months     13.99       512.60       Fiscal Director   \n",
       "1       2600   36 months      8.99        82.67    Loaner Coordinator   \n",
       "2      32200   60 months     21.49       880.02  warehouse/supervisor   \n",
       "3      10000   36 months     11.49       329.72               Teacher   \n",
       "\n",
       "   emp_length home_ownership  annual_inc verification_status     issue_d  \\\n",
       "0           2           RENT     55000.0        Not Verified  01/09/2016   \n",
       "1           3           RENT     35000.0     Source Verified  01/09/2016   \n",
       "2          10       MORTGAGE     65000.0        Not Verified  01/09/2016   \n",
       "3          10            OWN     55900.0        Not Verified  01/09/2016   \n",
       "\n",
       "             ...              num_tl_90g_dpd_24m num_tl_op_past_12m  \\\n",
       "0            ...                               0                  5   \n",
       "1            ...                               0                  0   \n",
       "2            ...                               0                  2   \n",
       "3            ...                               0                  6   \n",
       "\n",
       "  pct_tl_nvr_dlq percent_bc_gt_75 pub_rec_bankruptcies tax_liens  \\\n",
       "0          100.0             33.3                    0         0   \n",
       "1          100.0              0.0                    0         0   \n",
       "2          100.0             40.0                    1         0   \n",
       "3          100.0             66.7                    0         0   \n",
       "\n",
       "  tot_hi_cred_lim  total_bal_ex_mort  total_bc_limit  \\\n",
       "0          147587             140492           30200   \n",
       "1           73227              19497           50200   \n",
       "2          199969              24934           13900   \n",
       "3           68831              38085           13500   \n",
       "\n",
       "  total_il_high_credit_limit  \n",
       "0                     108587  \n",
       "1                      20527  \n",
       "2                      15886  \n",
       "3                      36431  \n",
       "\n",
       "[4 rows x 90 columns]"
      ]
     },
     "execution_count": 112,
     "metadata": {},
     "output_type": "execute_result"
    }
   ],
   "source": [
    "data.head(4)"
   ]
  },
  {
   "cell_type": "code",
   "execution_count": 113,
   "metadata": {},
   "outputs": [],
   "source": [
    "target = data['loan_status']\n",
    "data = data.drop(['loan_status'], 1)"
   ]
  },
  {
   "cell_type": "markdown",
   "metadata": {},
   "source": [
    "Take a look at all `object` data. This start-up will focus on these features."
   ]
  },
  {
   "cell_type": "code",
   "execution_count": 114,
   "metadata": {},
   "outputs": [
    {
     "data": {
      "text/html": [
       "<div>\n",
       "<style scoped>\n",
       "    .dataframe tbody tr th:only-of-type {\n",
       "        vertical-align: middle;\n",
       "    }\n",
       "\n",
       "    .dataframe tbody tr th {\n",
       "        vertical-align: top;\n",
       "    }\n",
       "\n",
       "    .dataframe thead th {\n",
       "        text-align: right;\n",
       "    }\n",
       "</style>\n",
       "<table border=\"1\" class=\"dataframe\">\n",
       "  <thead>\n",
       "    <tr style=\"text-align: right;\">\n",
       "      <th></th>\n",
       "      <th>term</th>\n",
       "      <th>emp_title</th>\n",
       "      <th>home_ownership</th>\n",
       "      <th>verification_status</th>\n",
       "      <th>issue_d</th>\n",
       "      <th>pymnt_plan</th>\n",
       "      <th>desc</th>\n",
       "      <th>purpose</th>\n",
       "      <th>title</th>\n",
       "      <th>zip_code</th>\n",
       "      <th>addr_state</th>\n",
       "      <th>earliest_cr_line</th>\n",
       "      <th>initial_list_status</th>\n",
       "      <th>application_type</th>\n",
       "      <th>verification_status_joint</th>\n",
       "    </tr>\n",
       "  </thead>\n",
       "  <tbody>\n",
       "    <tr>\n",
       "      <th>0</th>\n",
       "      <td>36 months</td>\n",
       "      <td>Fiscal Director</td>\n",
       "      <td>RENT</td>\n",
       "      <td>Not Verified</td>\n",
       "      <td>01/09/2016</td>\n",
       "      <td>n</td>\n",
       "      <td>NaN</td>\n",
       "      <td>debt_consolidation</td>\n",
       "      <td>Debt consolidation</td>\n",
       "      <td>372xx</td>\n",
       "      <td>TN</td>\n",
       "      <td>01/01/1996</td>\n",
       "      <td>f</td>\n",
       "      <td>INDIVIDUAL</td>\n",
       "      <td>NaN</td>\n",
       "    </tr>\n",
       "    <tr>\n",
       "      <th>1</th>\n",
       "      <td>36 months</td>\n",
       "      <td>Loaner Coordinator</td>\n",
       "      <td>RENT</td>\n",
       "      <td>Source Verified</td>\n",
       "      <td>01/09/2016</td>\n",
       "      <td>n</td>\n",
       "      <td>NaN</td>\n",
       "      <td>moving</td>\n",
       "      <td>Moving and relocation</td>\n",
       "      <td>970xx</td>\n",
       "      <td>OR</td>\n",
       "      <td>01/09/2009</td>\n",
       "      <td>w</td>\n",
       "      <td>INDIVIDUAL</td>\n",
       "      <td>NaN</td>\n",
       "    </tr>\n",
       "    <tr>\n",
       "      <th>2</th>\n",
       "      <td>60 months</td>\n",
       "      <td>warehouse/supervisor</td>\n",
       "      <td>MORTGAGE</td>\n",
       "      <td>Not Verified</td>\n",
       "      <td>01/09/2016</td>\n",
       "      <td>n</td>\n",
       "      <td>NaN</td>\n",
       "      <td>credit_card</td>\n",
       "      <td>Credit card refinancing</td>\n",
       "      <td>923xx</td>\n",
       "      <td>CA</td>\n",
       "      <td>01/11/1992</td>\n",
       "      <td>w</td>\n",
       "      <td>INDIVIDUAL</td>\n",
       "      <td>NaN</td>\n",
       "    </tr>\n",
       "    <tr>\n",
       "      <th>3</th>\n",
       "      <td>36 months</td>\n",
       "      <td>Teacher</td>\n",
       "      <td>OWN</td>\n",
       "      <td>Not Verified</td>\n",
       "      <td>01/09/2016</td>\n",
       "      <td>n</td>\n",
       "      <td>NaN</td>\n",
       "      <td>debt_consolidation</td>\n",
       "      <td>Debt consolidation</td>\n",
       "      <td>780xx</td>\n",
       "      <td>TX</td>\n",
       "      <td>01/07/1987</td>\n",
       "      <td>w</td>\n",
       "      <td>INDIVIDUAL</td>\n",
       "      <td>NaN</td>\n",
       "    </tr>\n",
       "  </tbody>\n",
       "</table>\n",
       "</div>"
      ],
      "text/plain": [
       "         term             emp_title home_ownership verification_status  \\\n",
       "0   36 months       Fiscal Director           RENT        Not Verified   \n",
       "1   36 months    Loaner Coordinator           RENT     Source Verified   \n",
       "2   60 months  warehouse/supervisor       MORTGAGE        Not Verified   \n",
       "3   36 months               Teacher            OWN        Not Verified   \n",
       "\n",
       "      issue_d pymnt_plan desc             purpose                    title  \\\n",
       "0  01/09/2016          n  NaN  debt_consolidation       Debt consolidation   \n",
       "1  01/09/2016          n  NaN              moving    Moving and relocation   \n",
       "2  01/09/2016          n  NaN         credit_card  Credit card refinancing   \n",
       "3  01/09/2016          n  NaN  debt_consolidation       Debt consolidation   \n",
       "\n",
       "  zip_code addr_state earliest_cr_line initial_list_status application_type  \\\n",
       "0    372xx         TN       01/01/1996                   f       INDIVIDUAL   \n",
       "1    970xx         OR       01/09/2009                   w       INDIVIDUAL   \n",
       "2    923xx         CA       01/11/1992                   w       INDIVIDUAL   \n",
       "3    780xx         TX       01/07/1987                   w       INDIVIDUAL   \n",
       "\n",
       "  verification_status_joint  \n",
       "0                       NaN  \n",
       "1                       NaN  \n",
       "2                       NaN  \n",
       "3                       NaN  "
      ]
     },
     "execution_count": 114,
     "metadata": {},
     "output_type": "execute_result"
    }
   ],
   "source": [
    "data.select_dtypes(include=['object']).iloc[:,0:20].head(4)"
   ]
  },
  {
   "cell_type": "code",
   "execution_count": 115,
   "metadata": {},
   "outputs": [],
   "source": [
    "data_nonobj = data.select_dtypes(exclude=['object'])\n",
    "data_obj = data.select_dtypes(include=['object'])"
   ]
  },
  {
   "cell_type": "code",
   "execution_count": 116,
   "metadata": {},
   "outputs": [
    {
     "data": {
      "text/html": [
       "<div>\n",
       "<style scoped>\n",
       "    .dataframe tbody tr th:only-of-type {\n",
       "        vertical-align: middle;\n",
       "    }\n",
       "\n",
       "    .dataframe tbody tr th {\n",
       "        vertical-align: top;\n",
       "    }\n",
       "\n",
       "    .dataframe thead th {\n",
       "        text-align: right;\n",
       "    }\n",
       "</style>\n",
       "<table border=\"1\" class=\"dataframe\">\n",
       "  <thead>\n",
       "    <tr style=\"text-align: right;\">\n",
       "      <th></th>\n",
       "      <th>term</th>\n",
       "      <th>emp_title</th>\n",
       "      <th>home_ownership</th>\n",
       "      <th>verification_status</th>\n",
       "      <th>issue_d</th>\n",
       "      <th>pymnt_plan</th>\n",
       "      <th>desc</th>\n",
       "      <th>purpose</th>\n",
       "      <th>title</th>\n",
       "      <th>zip_code</th>\n",
       "      <th>addr_state</th>\n",
       "      <th>earliest_cr_line</th>\n",
       "      <th>initial_list_status</th>\n",
       "      <th>application_type</th>\n",
       "      <th>verification_status_joint</th>\n",
       "    </tr>\n",
       "  </thead>\n",
       "  <tbody>\n",
       "    <tr>\n",
       "      <th>0</th>\n",
       "      <td>36 months</td>\n",
       "      <td>Fiscal Director</td>\n",
       "      <td>RENT</td>\n",
       "      <td>Not Verified</td>\n",
       "      <td>01/09/2016</td>\n",
       "      <td>n</td>\n",
       "      <td>NaN</td>\n",
       "      <td>debt_consolidation</td>\n",
       "      <td>Debt consolidation</td>\n",
       "      <td>372xx</td>\n",
       "      <td>TN</td>\n",
       "      <td>01/01/1996</td>\n",
       "      <td>f</td>\n",
       "      <td>INDIVIDUAL</td>\n",
       "      <td>NaN</td>\n",
       "    </tr>\n",
       "    <tr>\n",
       "      <th>1</th>\n",
       "      <td>36 months</td>\n",
       "      <td>Loaner Coordinator</td>\n",
       "      <td>RENT</td>\n",
       "      <td>Source Verified</td>\n",
       "      <td>01/09/2016</td>\n",
       "      <td>n</td>\n",
       "      <td>NaN</td>\n",
       "      <td>moving</td>\n",
       "      <td>Moving and relocation</td>\n",
       "      <td>970xx</td>\n",
       "      <td>OR</td>\n",
       "      <td>01/09/2009</td>\n",
       "      <td>w</td>\n",
       "      <td>INDIVIDUAL</td>\n",
       "      <td>NaN</td>\n",
       "    </tr>\n",
       "    <tr>\n",
       "      <th>2</th>\n",
       "      <td>60 months</td>\n",
       "      <td>warehouse/supervisor</td>\n",
       "      <td>MORTGAGE</td>\n",
       "      <td>Not Verified</td>\n",
       "      <td>01/09/2016</td>\n",
       "      <td>n</td>\n",
       "      <td>NaN</td>\n",
       "      <td>credit_card</td>\n",
       "      <td>Credit card refinancing</td>\n",
       "      <td>923xx</td>\n",
       "      <td>CA</td>\n",
       "      <td>01/11/1992</td>\n",
       "      <td>w</td>\n",
       "      <td>INDIVIDUAL</td>\n",
       "      <td>NaN</td>\n",
       "    </tr>\n",
       "    <tr>\n",
       "      <th>3</th>\n",
       "      <td>36 months</td>\n",
       "      <td>Teacher</td>\n",
       "      <td>OWN</td>\n",
       "      <td>Not Verified</td>\n",
       "      <td>01/09/2016</td>\n",
       "      <td>n</td>\n",
       "      <td>NaN</td>\n",
       "      <td>debt_consolidation</td>\n",
       "      <td>Debt consolidation</td>\n",
       "      <td>780xx</td>\n",
       "      <td>TX</td>\n",
       "      <td>01/07/1987</td>\n",
       "      <td>w</td>\n",
       "      <td>INDIVIDUAL</td>\n",
       "      <td>NaN</td>\n",
       "    </tr>\n",
       "    <tr>\n",
       "      <th>4</th>\n",
       "      <td>36 months</td>\n",
       "      <td>SERVICE MGR</td>\n",
       "      <td>RENT</td>\n",
       "      <td>Not Verified</td>\n",
       "      <td>01/09/2016</td>\n",
       "      <td>n</td>\n",
       "      <td>NaN</td>\n",
       "      <td>debt_consolidation</td>\n",
       "      <td>Debt consolidation</td>\n",
       "      <td>232xx</td>\n",
       "      <td>VA</td>\n",
       "      <td>01/07/1996</td>\n",
       "      <td>f</td>\n",
       "      <td>INDIVIDUAL</td>\n",
       "      <td>NaN</td>\n",
       "    </tr>\n",
       "  </tbody>\n",
       "</table>\n",
       "</div>"
      ],
      "text/plain": [
       "         term             emp_title home_ownership verification_status  \\\n",
       "0   36 months       Fiscal Director           RENT        Not Verified   \n",
       "1   36 months    Loaner Coordinator           RENT     Source Verified   \n",
       "2   60 months  warehouse/supervisor       MORTGAGE        Not Verified   \n",
       "3   36 months               Teacher            OWN        Not Verified   \n",
       "4   36 months           SERVICE MGR           RENT        Not Verified   \n",
       "\n",
       "      issue_d pymnt_plan desc             purpose                    title  \\\n",
       "0  01/09/2016          n  NaN  debt_consolidation       Debt consolidation   \n",
       "1  01/09/2016          n  NaN              moving    Moving and relocation   \n",
       "2  01/09/2016          n  NaN         credit_card  Credit card refinancing   \n",
       "3  01/09/2016          n  NaN  debt_consolidation       Debt consolidation   \n",
       "4  01/09/2016          n  NaN  debt_consolidation       Debt consolidation   \n",
       "\n",
       "  zip_code addr_state earliest_cr_line initial_list_status application_type  \\\n",
       "0    372xx         TN       01/01/1996                   f       INDIVIDUAL   \n",
       "1    970xx         OR       01/09/2009                   w       INDIVIDUAL   \n",
       "2    923xx         CA       01/11/1992                   w       INDIVIDUAL   \n",
       "3    780xx         TX       01/07/1987                   w       INDIVIDUAL   \n",
       "4    232xx         VA       01/07/1996                   f       INDIVIDUAL   \n",
       "\n",
       "  verification_status_joint  \n",
       "0                       NaN  \n",
       "1                       NaN  \n",
       "2                       NaN  \n",
       "3                       NaN  \n",
       "4                       NaN  "
      ]
     },
     "execution_count": 116,
     "metadata": {},
     "output_type": "execute_result"
    }
   ],
   "source": [
    "data_obj.head()"
   ]
  },
  {
   "cell_type": "code",
   "execution_count": 117,
   "metadata": {},
   "outputs": [
    {
     "name": "stdout",
     "output_type": "stream",
     "text": [
      "<class 'pandas.core.frame.DataFrame'>\n",
      "RangeIndex: 95210 entries, 0 to 95209\n",
      "Data columns (total 15 columns):\n",
      "term                         95210 non-null object\n",
      "emp_title                    89516 non-null object\n",
      "home_ownership               95210 non-null object\n",
      "verification_status          95210 non-null object\n",
      "issue_d                      95210 non-null object\n",
      "pymnt_plan                   95210 non-null object\n",
      "desc                         6 non-null object\n",
      "purpose                      95210 non-null object\n",
      "title                        90065 non-null object\n",
      "zip_code                     95210 non-null object\n",
      "addr_state                   95210 non-null object\n",
      "earliest_cr_line             95210 non-null object\n",
      "initial_list_status          95210 non-null object\n",
      "application_type             95210 non-null object\n",
      "verification_status_joint    501 non-null object\n",
      "dtypes: object(15)\n",
      "memory usage: 10.9+ MB\n"
     ]
    }
   ],
   "source": [
    "data_obj.info()"
   ]
  },
  {
   "cell_type": "code",
   "execution_count": 118,
   "metadata": {},
   "outputs": [
    {
     "data": {
      "text/plain": [
       "2699"
      ]
     },
     "execution_count": 118,
     "metadata": {},
     "output_type": "execute_result"
    }
   ],
   "source": [
    "target.sum()"
   ]
  },
  {
   "cell_type": "code",
   "execution_count": 82,
   "metadata": {},
   "outputs": [],
   "source": [
    "#data_nonobj.info()"
   ]
  },
  {
   "cell_type": "code",
   "execution_count": 83,
   "metadata": {},
   "outputs": [],
   "source": [
    "# data_num = data_nonobj[data_nonobj.columns[~data_nonobj.isnull().any()]]\n",
    "# data_num_nan = data_nonobj[data_nonobj.columns[data_nonobj.isnull().any()]]"
   ]
  },
  {
   "cell_type": "code",
   "execution_count": 69,
   "metadata": {},
   "outputs": [],
   "source": [
    "# features_name = data_num.columns.values\n",
    "# P, D, Q = np.linalg.svd(data_num, full_matrices=False)\n",
    "# data_num_a = np.dot(np.dot(P, np.diag(D)), Q)\n",
    "# data_num_a = pd.DataFrame(data_num_a, columns=features_name)"
   ]
  },
  {
   "cell_type": "code",
   "execution_count": 84,
   "metadata": {},
   "outputs": [],
   "source": [
    "# data_num_a.head()"
   ]
  },
  {
   "cell_type": "code",
   "execution_count": 85,
   "metadata": {},
   "outputs": [],
   "source": [
    "# data_new = data_obj.join(data_num_nan).join(data_num_a).join(y)"
   ]
  },
  {
   "cell_type": "code",
   "execution_count": 86,
   "metadata": {},
   "outputs": [],
   "source": [
    "# data_new.head()"
   ]
  },
  {
   "cell_type": "code",
   "execution_count": 76,
   "metadata": {},
   "outputs": [],
   "source": []
  },
  {
   "cell_type": "markdown",
   "metadata": {},
   "source": [
    "### Strings"
   ]
  },
  {
   "cell_type": "code",
   "execution_count": 119,
   "metadata": {},
   "outputs": [],
   "source": [
    "data['term'] = data['term'].map({' 36 months': 0, ' 60 months': 1})"
   ]
  },
  {
   "cell_type": "code",
   "execution_count": 120,
   "metadata": {},
   "outputs": [],
   "source": [
    "#data['emp_length'].unique()"
   ]
  },
  {
   "cell_type": "code",
   "execution_count": 121,
   "metadata": {},
   "outputs": [],
   "source": [
    "#data['emp_length'] = data['emp_length'].str.extract('(\\d+)', expand=True).astype(float)"
   ]
  },
  {
   "cell_type": "code",
   "execution_count": 122,
   "metadata": {},
   "outputs": [],
   "source": [
    "data['zip_code'] = data['zip_code'].str.strip('xx').astype(int)"
   ]
  },
  {
   "cell_type": "code",
   "execution_count": 123,
   "metadata": {},
   "outputs": [],
   "source": [
    "senior = ['Manager', 'Director', 'Senior', 'manager', 'Supervisor', 'Lead', 'Sr.', 'Officer', 'Sr',\n",
    "         'supervisor', 'Administrator','Management', 'Executive', 'VP', 'Vice', 'President', 'Chief',\n",
    "         'director', 'Admin', 'Administrative', 'Director,' 'MANAGER', 'lead', 'officer','Leader',\n",
    "         'Manager,', 'Mgr', 'Head', 'associate', 'Associate', 'leader', 'Partner', 'Manger', \n",
    "         'SR']\n",
    "middle = ['Coordinator', 'Operations', 'Consultant', 'operator', 'Operator', 'consultant', \n",
    "         'Representative', 'coordinator', 'Advisor',  'Counselor', 'Instructor', 'District', 'Architect', \n",
    "          'Planner', 'Technologist', 'Master', 'Therapist', 'therapist', 'Professor', 'Investigator', \n",
    "         'Coach']\n",
    "junior = ['Specialist', 'Analyst', 'Assistant', 'Sales', 'Engineer', 'Technician', 'Support', 'specialist', \n",
    "          'Account', 'service', 'technician', 'Clerk', 'Nurse','assistant', 'Maintenance', 'driver', 'Driver', \n",
    "          'clerk', 'Client', 'Staff', 'Worker', 'HR', 'Teacher', 'Designer', 'nurse', 'worker', 'Accountant', \n",
    "          'Inspector', 'agent', 'teacher', 'Member', 'Trainer', 'Secretary', 'Auditor', 'Sergeant', 'Processor', \n",
    "          'customer', 'SPECIALIST', 'Banker', 'Student', 'ASSISTANT']\n",
    "\n",
    "#replacing all titles with 3, 2, 1, 0\n",
    "def replace_titles(title):\n",
    "    x = str(title['emp_title'])\n",
    "    x = x.split()\n",
    "    if any(i in senior for i in x):\n",
    "        return 3\n",
    "    elif any(i in middle for i in x):\n",
    "        return 2\n",
    "    elif any(i in junior for i in x):\n",
    "        return 1\n",
    "    else:\n",
    "        return 0"
   ]
  },
  {
   "cell_type": "code",
   "execution_count": 124,
   "metadata": {},
   "outputs": [],
   "source": [
    "data['emp_title'] = pd.DataFrame(data['emp_title']).apply(replace_titles, axis = 1)"
   ]
  },
  {
   "cell_type": "markdown",
   "metadata": {},
   "source": [
    "### Categories"
   ]
  },
  {
   "cell_type": "code",
   "execution_count": 125,
   "metadata": {},
   "outputs": [],
   "source": [
    "# data['grade'] = data['grade'].map({\n",
    "#     'A': 1,\n",
    "#     'B': 2,\n",
    "#     'C': 3,\n",
    "#     'D': 4,\n",
    "#     'E': 5,\n",
    "#     'F': 6,\n",
    "#     'G': 7})\n",
    "\n",
    "# data['sub_grade'] = data['sub_grade'].map({\n",
    "#     'A1': 10,\n",
    "#     'A2': 12,\n",
    "#     'A3': 14,\n",
    "#     'A4': 16,\n",
    "#     'A5': 18,\n",
    "#     'B1': 20,\n",
    "#     'B2': 22,\n",
    "#     'B3': 24,\n",
    "#     'B4': 26,\n",
    "#     'B5': 28,\n",
    "#     'C1': 30,\n",
    "#     'C2': 32,\n",
    "#     'C3': 34,\n",
    "#     'C4': 36,\n",
    "#     'C5': 38,\n",
    "#     'D1': 40,\n",
    "#     'D2': 42,\n",
    "#     'D3': 44,\n",
    "#     'D4': 46,\n",
    "#     'D5': 48,\n",
    "#     'E1': 50,\n",
    "#     'E2': 52,\n",
    "#     'E3': 54,\n",
    "#     'E4': 56,\n",
    "#     'E5': 58,\n",
    "#     'F1': 60,\n",
    "#     'F2': 62,\n",
    "#     'F3': 64,\n",
    "#     'F4': 66,\n",
    "#     'F5': 68,\n",
    "#     'G1': 70,\n",
    "#     'G2': 72,\n",
    "#     'G3': 74,\n",
    "#     'G4': 76,\n",
    "#     'G5': 78,\n",
    "#     })\n",
    "\n",
    "data['pymnt_plan'] = data['pymnt_plan'].map({'n': 0, 'y': 1})\n",
    "data['initial_list_status'] = data['initial_list_status'].map({'f': 0, 'w': 1})\n",
    "data['verification_status_joint'] = data['verification_status_joint'].map({'nan': 0, 'Not Verified': 1})"
   ]
  },
  {
   "cell_type": "code",
   "execution_count": 126,
   "metadata": {},
   "outputs": [],
   "source": [
    "cates = ['home_ownership', 'verification_status', 'purpose', 'addr_state', 'title', 'application_type']\n",
    "\n",
    "features = pd.DataFrame()\n",
    "for cate in cates:\n",
    "    features = pd.get_dummies(data[cate])\n",
    "    data = data.join(features)\n",
    "    data = data.drop([cate], 1)"
   ]
  },
  {
   "cell_type": "markdown",
   "metadata": {},
   "source": [
    "### Datetime"
   ]
  },
  {
   "cell_type": "code",
   "execution_count": 127,
   "metadata": {},
   "outputs": [],
   "source": [
    "datetime = ['issue_d', 'earliest_cr_line'] #, 'last_pymnt_d', 'last_credit_pull_d',  'next_pymnt_d']\n",
    "\n",
    "def date2delta(datetime):\n",
    "    date = pd.to_datetime(datetime)\n",
    "    delta = date - date.min()\n",
    "    return delta.dt.days\n",
    "\n",
    "data[datetime] = data[datetime].apply(date2delta, axis = 0)"
   ]
  },
  {
   "cell_type": "code",
   "execution_count": 128,
   "metadata": {},
   "outputs": [
    {
     "data": {
      "text/html": [
       "<div>\n",
       "<style scoped>\n",
       "    .dataframe tbody tr th:only-of-type {\n",
       "        vertical-align: middle;\n",
       "    }\n",
       "\n",
       "    .dataframe tbody tr th {\n",
       "        vertical-align: top;\n",
       "    }\n",
       "\n",
       "    .dataframe thead th {\n",
       "        text-align: right;\n",
       "    }\n",
       "</style>\n",
       "<table border=\"1\" class=\"dataframe\">\n",
       "  <thead>\n",
       "    <tr style=\"text-align: right;\">\n",
       "      <th></th>\n",
       "      <th>desc</th>\n",
       "    </tr>\n",
       "  </thead>\n",
       "  <tbody>\n",
       "    <tr>\n",
       "      <th>0</th>\n",
       "      <td>NaN</td>\n",
       "    </tr>\n",
       "    <tr>\n",
       "      <th>1</th>\n",
       "      <td>NaN</td>\n",
       "    </tr>\n",
       "    <tr>\n",
       "      <th>2</th>\n",
       "      <td>NaN</td>\n",
       "    </tr>\n",
       "    <tr>\n",
       "      <th>3</th>\n",
       "      <td>NaN</td>\n",
       "    </tr>\n",
       "    <tr>\n",
       "      <th>4</th>\n",
       "      <td>NaN</td>\n",
       "    </tr>\n",
       "  </tbody>\n",
       "</table>\n",
       "</div>"
      ],
      "text/plain": [
       "  desc\n",
       "0  NaN\n",
       "1  NaN\n",
       "2  NaN\n",
       "3  NaN\n",
       "4  NaN"
      ]
     },
     "execution_count": 128,
     "metadata": {},
     "output_type": "execute_result"
    }
   ],
   "source": [
    "data_nonobj = data.select_dtypes(exclude=['object'])\n",
    "data_obj = data.select_dtypes(include=['object'])\n",
    "\n",
    "data_obj.head()"
   ]
  },
  {
   "cell_type": "code",
   "execution_count": 133,
   "metadata": {},
   "outputs": [],
   "source": [
    "data_new = data.select_dtypes(exclude=['object'])"
   ]
  },
  {
   "cell_type": "code",
   "execution_count": 134,
   "metadata": {},
   "outputs": [
    {
     "name": "stdout",
     "output_type": "stream",
     "text": [
      "<class 'pandas.core.frame.DataFrame'>\n",
      "RangeIndex: 95210 entries, 0 to 95209\n",
      "Empty DataFrame"
     ]
    }
   ],
   "source": [
    "data_new.select_dtypes(include=['object']).info()"
   ]
  },
  {
   "cell_type": "code",
   "execution_count": 136,
   "metadata": {},
   "outputs": [],
   "source": [
    "data_new = data_new.join(target)"
   ]
  },
  {
   "cell_type": "markdown",
   "metadata": {},
   "source": [
    "All non-numeric data have been transformed."
   ]
  },
  {
   "cell_type": "markdown",
   "metadata": {},
   "source": [
    "### Write to CSV"
   ]
  },
  {
   "cell_type": "code",
   "execution_count": 137,
   "metadata": {},
   "outputs": [],
   "source": [
    "outfile = 'dataset_new.csv'\n",
    "data_new.to_csv(outfile, index=False)"
   ]
  },
  {
   "cell_type": "code",
   "execution_count": null,
   "metadata": {},
   "outputs": [],
   "source": []
  }
 ],
 "metadata": {
  "kernelspec": {
   "display_name": "Python 3",
   "language": "python",
   "name": "python3"
  },
  "language_info": {
   "codemirror_mode": {
    "name": "ipython",
    "version": 3
   },
   "file_extension": ".py",
   "mimetype": "text/x-python",
   "name": "python",
   "nbconvert_exporter": "python",
   "pygments_lexer": "ipython3",
   "version": "3.6.3"
  }
 },
 "nbformat": 4,
 "nbformat_minor": 2
}
