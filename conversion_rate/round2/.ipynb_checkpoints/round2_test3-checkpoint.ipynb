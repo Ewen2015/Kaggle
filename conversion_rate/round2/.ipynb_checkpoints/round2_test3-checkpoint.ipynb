{
 "cells": [
  {
   "cell_type": "code",
   "execution_count": 2,
   "metadata": {
    "ExecuteTime": {
     "end_time": "2018-05-04T17:27:47.224839Z",
     "start_time": "2018-05-04T17:26:19.349155Z"
    }
   },
   "outputs": [],
   "source": [
    "import pandas as pd\n",
    "wd = ['/Users/ewenwang/Documents/practice_data/conversion_rate/', '/Users/ewenwang/Documents/GitHub/Kaggle/conversion_rate/round2/']\n",
    "\n",
    "data = pd.read_csv(wd[0]+'round2_uisc.txt', sep=' ')"
   ]
  },
  {
   "cell_type": "code",
   "execution_count": 3,
   "metadata": {
    "ExecuteTime": {
     "end_time": "2018-05-04T23:50:24.476078Z",
     "start_time": "2018-05-04T17:43:12.607689Z"
    }
   },
   "outputs": [
    {
     "name": "stdout",
     "output_type": "stream",
     "text": [
      "Training LGBM model...\n",
      "[100]\tvalid_0's binary_logloss: 0.295149\n",
      "[200]\tvalid_0's binary_logloss: 0.202792\n",
      "[300]\tvalid_0's binary_logloss: 0.179529\n",
      "[400]\tvalid_0's binary_logloss: 0.173533\n",
      "[500]\tvalid_0's binary_logloss: 0.171681\n",
      "[600]\tvalid_0's binary_logloss: 0.170876\n",
      "[700]\tvalid_0's binary_logloss: 0.170426\n",
      "[800]\tvalid_0's binary_logloss: 0.170141\n",
      "[900]\tvalid_0's binary_logloss: 0.169957\n",
      "[1000]\tvalid_0's binary_logloss: 0.169817\n",
      "[1100]\tvalid_0's binary_logloss: 0.169728\n",
      "[1200]\tvalid_0's binary_logloss: 0.169669\n",
      "[1300]\tvalid_0's binary_logloss: 0.16961\n",
      "[1400]\tvalid_0's binary_logloss: 0.169565\n",
      "[1500]\tvalid_0's binary_logloss: 0.169532\n",
      "[1600]\tvalid_0's binary_logloss: 0.169513\n",
      "[1700]\tvalid_0's binary_logloss: 0.169509\n",
      "[1800]\tvalid_0's binary_logloss: 0.169482\n",
      "[1900]\tvalid_0's binary_logloss: 0.169453\n",
      "[2000]\tvalid_0's binary_logloss: 0.169433\n",
      "[2100]\tvalid_0's binary_logloss: 0.169405\n",
      "[2200]\tvalid_0's binary_logloss: 0.169378\n",
      "[2300]\tvalid_0's binary_logloss: 0.169359\n",
      "[2400]\tvalid_0's binary_logloss: 0.16935\n",
      "[2500]\tvalid_0's binary_logloss: 0.169346\n",
      "[2600]\tvalid_0's binary_logloss: 0.169329\n",
      "[2700]\tvalid_0's binary_logloss: 0.169333\n",
      "[2800]\tvalid_0's binary_logloss: 0.169324\n",
      "[2900]\tvalid_0's binary_logloss: 0.169307\n",
      "[3000]\tvalid_0's binary_logloss: 0.169292\n",
      "[3100]\tvalid_0's binary_logloss: 0.169298\n",
      "[3200]\tvalid_0's binary_logloss: 0.169288\n",
      "[3300]\tvalid_0's binary_logloss: 0.169281\n",
      "[3400]\tvalid_0's binary_logloss: 0.169275\n",
      "[3500]\tvalid_0's binary_logloss: 0.169267\n",
      "[3600]\tvalid_0's binary_logloss: 0.169262\n",
      "[3700]\tvalid_0's binary_logloss: 0.169264\n",
      "best_iter:  3575 \n",
      "best_score:  defaultdict(<class 'dict'>, {'valid_0': {'binary_logloss': 0.16926017410246647}})\n",
      "Training LGBM model...\n",
      "predicting...\n"
     ]
    },
    {
     "name": "stderr",
     "output_type": "stream",
     "text": [
      "/Users/ewenwang/Documents/GitHub/Kaggle/conversion_rate/round2/Submission.py:63: SettingWithCopyWarning: \n",
      "A value is trying to be set on a copy of a slice from a DataFrame.\n",
      "Try using .loc[row_indexer,col_indexer] = value instead\n",
      "\n",
      "See the caveats in the documentation: http://pandas.pydata.org/pandas-docs/stable/indexing.html#indexing-view-versus-copy\n",
      "  test['predicted_score'] = pred\n"
     ]
    },
    {
     "name": "stdout",
     "output_type": "stream",
     "text": [
      "\n",
      "saving...\n"
     ]
    }
   ],
   "source": [
    "import Submission\n",
    "\n",
    "model = Submission.Submission(data=data, valid_hour=10, wd=wd[0], test_file='round2_ijcai_18_test_a_20180425.txt', output_file='results.txt')"
   ]
  },
  {
   "cell_type": "code",
   "execution_count": null,
   "metadata": {},
   "outputs": [],
   "source": [
    "model_2 = Submission.Submission(data=data, valid_hour=9, wd=wd[0], test_file='round2_ijcai_18_test_a_20180425.txt', output_file='results.txt')"
   ]
  }
 ],
 "metadata": {
  "kernelspec": {
   "display_name": "Python 3",
   "language": "python",
   "name": "python3"
  },
  "language_info": {
   "codemirror_mode": {
    "name": "ipython",
    "version": 3
   },
   "file_extension": ".py",
   "mimetype": "text/x-python",
   "name": "python",
   "nbconvert_exporter": "python",
   "pygments_lexer": "ipython3",
   "version": "3.6.3"
  },
  "toc": {
   "nav_menu": {},
   "number_sections": true,
   "sideBar": true,
   "skip_h1_title": false,
   "toc_cell": false,
   "toc_position": {},
   "toc_section_display": "block",
   "toc_window_display": false
  },
  "varInspector": {
   "cols": {
    "lenName": 16,
    "lenType": 16,
    "lenVar": 40
   },
   "kernels_config": {
    "python": {
     "delete_cmd_postfix": "",
     "delete_cmd_prefix": "del ",
     "library": "var_list.py",
     "varRefreshCmd": "print(var_dic_list())"
    },
    "r": {
     "delete_cmd_postfix": ") ",
     "delete_cmd_prefix": "rm(",
     "library": "var_list.r",
     "varRefreshCmd": "cat(var_dic_list()) "
    }
   },
   "types_to_exclude": [
    "module",
    "function",
    "builtin_function_or_method",
    "instance",
    "_Feature"
   ],
   "window_display": false
  }
 },
 "nbformat": 4,
 "nbformat_minor": 2
}
