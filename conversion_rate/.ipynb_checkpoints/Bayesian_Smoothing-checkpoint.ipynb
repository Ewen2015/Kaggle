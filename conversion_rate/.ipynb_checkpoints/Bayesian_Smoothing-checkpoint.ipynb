{
 "cells": [
  {
   "cell_type": "code",
   "execution_count": 1,
   "metadata": {
    "ExecuteTime": {
     "end_time": "2018-04-18T09:48:10.760801Z",
     "start_time": "2018-04-18T09:47:59.158322Z"
    }
   },
   "outputs": [],
   "source": [
    "import time\n",
    "import pandas as pd \n",
    "from BayesianSM import HyperParam\n",
    "\n",
    "wd = '/Users/ewenwang/Documents/practice_data/conversion_rate/'\n",
    "file = ['round1_ijcai_18_train_20180301.txt', 'round1_ijcai_18_test_a_20180301.txt']\n",
    "\n",
    "def timestamp_datetime(timestamp):\n",
    "    return time.strftime(\"%Y-%m-%d %H:%M:%S\", time.localtime(timestamp))\n",
    "\n",
    "train, test = pd.read_csv(wd+file[0], sep=' '), pd.read_csv(wd+file[1], sep=' ')\n",
    "data = pd.concat([train, test])\n",
    "features = ['instance_id', 'is_trade', 'user_id', 'item_id', 'context_id', 'shop_id', 'context_timestamp']\n",
    "data = data[features]\n",
    "data['realtime'] = pd.to_datetime(data['context_timestamp'].apply(timestamp_datetime))\n",
    "data['day'] = data['realtime'].dt.day"
   ]
  },
  {
   "cell_type": "code",
   "execution_count": 3,
   "metadata": {
    "ExecuteTime": {
     "end_time": "2018-04-18T07:39:00.469696Z",
     "start_time": "2018-04-18T07:39:00.466517Z"
    }
   },
   "outputs": [],
   "source": [
    "days_ahead = 1\n",
    "id_list = ['user_id', 'item_id', 'shop_id', 'context_id']\n",
    "date_list = range(18, 26-days_ahead)"
   ]
  },
  {
   "cell_type": "code",
   "execution_count": 4,
   "metadata": {
    "ExecuteTime": {
     "end_time": "2018-04-18T07:39:01.645204Z",
     "start_time": "2018-04-18T07:39:01.642449Z"
    }
   },
   "outputs": [],
   "source": [
    "feature = 'user_id'"
   ]
  },
  {
   "cell_type": "code",
   "execution_count": 10,
   "metadata": {
    "ExecuteTime": {
     "end_time": "2018-04-18T07:44:00.988194Z",
     "start_time": "2018-04-18T07:44:00.830084Z"
    }
   },
   "outputs": [],
   "source": [
    "feature_clk_df = pd.DataFrame(data.groupby([feature], as_index=False).size().reset_index())\n",
    "feature_clk_df.rename(columns={0:feature+'_count'}, inplace=True)\n",
    "\n",
    "feature_cv_df = pd.DataFrame(data[(data.is_trade==1)].groupby([feature], as_index=False).size().reset_index())\n",
    "feature_cv_df.rename(columns={0:feature+'_trade_count'}, inplace=True)\n",
    "\n",
    "feature_cvr_df = feature_clk_df.merge(feature_cv_df, on=feature, how='left').fillna(0)"
   ]
  },
  {
   "cell_type": "code",
   "execution_count": 11,
   "metadata": {
    "ExecuteTime": {
     "end_time": "2018-04-18T07:44:02.416734Z",
     "start_time": "2018-04-18T07:44:02.387285Z"
    }
   },
   "outputs": [
    {
     "data": {
      "text/html": [
       "<div>\n",
       "<style scoped>\n",
       "    .dataframe tbody tr th:only-of-type {\n",
       "        vertical-align: middle;\n",
       "    }\n",
       "\n",
       "    .dataframe tbody tr th {\n",
       "        vertical-align: top;\n",
       "    }\n",
       "\n",
       "    .dataframe thead th {\n",
       "        text-align: right;\n",
       "    }\n",
       "</style>\n",
       "<table border=\"1\" class=\"dataframe\">\n",
       "  <thead>\n",
       "    <tr style=\"text-align: right;\">\n",
       "      <th></th>\n",
       "      <th>user_id</th>\n",
       "      <th>user_id_count</th>\n",
       "      <th>user_id_trade_count</th>\n",
       "    </tr>\n",
       "  </thead>\n",
       "  <tbody>\n",
       "    <tr>\n",
       "      <th>99983</th>\n",
       "      <td>4442276207895225470</td>\n",
       "      <td>17</td>\n",
       "      <td>4.0</td>\n",
       "    </tr>\n",
       "    <tr>\n",
       "      <th>164495</th>\n",
       "      <td>7302738499556980530</td>\n",
       "      <td>20</td>\n",
       "      <td>3.0</td>\n",
       "    </tr>\n",
       "    <tr>\n",
       "      <th>88046</th>\n",
       "      <td>3919489572177177656</td>\n",
       "      <td>6</td>\n",
       "      <td>3.0</td>\n",
       "    </tr>\n",
       "    <tr>\n",
       "      <th>145954</th>\n",
       "      <td>6482906738945512222</td>\n",
       "      <td>4</td>\n",
       "      <td>3.0</td>\n",
       "    </tr>\n",
       "    <tr>\n",
       "      <th>44527</th>\n",
       "      <td>1965358337508268958</td>\n",
       "      <td>4</td>\n",
       "      <td>3.0</td>\n",
       "    </tr>\n",
       "  </tbody>\n",
       "</table>\n",
       "</div>"
      ],
      "text/plain": [
       "                    user_id  user_id_count  user_id_trade_count\n",
       "99983   4442276207895225470             17                  4.0\n",
       "164495  7302738499556980530             20                  3.0\n",
       "88046   3919489572177177656              6                  3.0\n",
       "145954  6482906738945512222              4                  3.0\n",
       "44527   1965358337508268958              4                  3.0"
      ]
     },
     "execution_count": 11,
     "metadata": {},
     "output_type": "execute_result"
    }
   ],
   "source": [
    "feature_cvr_df.sort_values(by='user_id_trade_count', ascending=False).head()"
   ]
  },
  {
   "cell_type": "code",
   "execution_count": 3,
   "metadata": {
    "ExecuteTime": {
     "end_time": "2018-04-18T09:48:34.544408Z",
     "start_time": "2018-04-18T09:48:34.536354Z"
    }
   },
   "outputs": [],
   "source": [
    "def BayesainSM(I, C):\n",
    "    hyper = HyperParam(1, 1)\n",
    "    hyper.update_from_data_by_moment(I, C)\n",
    "    return (hyper.alpha, hyper.beta)"
   ]
  },
  {
   "cell_type": "code",
   "execution_count": 25,
   "metadata": {
    "ExecuteTime": {
     "end_time": "2018-04-18T08:18:01.113725Z",
     "start_time": "2018-04-18T08:17:56.037785Z"
    }
   },
   "outputs": [
    {
     "name": "stdout",
     "output_type": "stream",
     "text": [
      "0.008030128754018586 0.3525182292255968\n"
     ]
    }
   ],
   "source": [
    "alpha, beta = bayesainSM(feature_cvr_df[feature+'_count'], feature_cvr_df[feature+'_trade_count'])\n",
    "print(alpha, beta)"
   ]
  },
  {
   "cell_type": "code",
   "execution_count": 15,
   "metadata": {
    "ExecuteTime": {
     "end_time": "2018-04-18T08:09:25.764830Z",
     "start_time": "2018-04-18T08:09:25.727240Z"
    }
   },
   "outputs": [],
   "source": [
    "date = 24\n",
    "data_temp = data[data.day < date]"
   ]
  },
  {
   "cell_type": "code",
   "execution_count": 21,
   "metadata": {
    "ExecuteTime": {
     "end_time": "2018-04-18T08:11:08.780521Z",
     "start_time": "2018-04-18T08:11:08.619485Z"
    }
   },
   "outputs": [],
   "source": [
    "feature_clk_temp = pd.DataFrame(data_temp.groupby([feature], as_index=False).size().reset_index())\n",
    "feature_clk_temp.rename(columns={0:feature+'_count'}, inplace=True)\n",
    "\n",
    "feature_cv_temp = pd.DataFrame(data_temp[(data_temp.is_trade==1)].groupby([feature], as_index=False).size().reset_index())\n",
    "feature_cv_temp.rename(columns={0:feature+'_trade_count'}, inplace=True)\n",
    "\n",
    "feature_cvr_temp = feature_clk_temp.merge(feature_cv_temp, on=feature, how='left').fillna(0)\n",
    "\n",
    "feature_cvr_temp[feature+'_cvr'] = (feature_cvr_temp[feature+'_trade_count'] + alpha) / (feature_cvr_temp[feature+'_count'] + alpha + beta)"
   ]
  },
  {
   "cell_type": "code",
   "execution_count": 24,
   "metadata": {
    "ExecuteTime": {
     "end_time": "2018-04-18T08:11:52.409418Z",
     "start_time": "2018-04-18T08:11:52.363485Z"
    }
   },
   "outputs": [
    {
     "data": {
      "text/html": [
       "<div>\n",
       "<style scoped>\n",
       "    .dataframe tbody tr th:only-of-type {\n",
       "        vertical-align: middle;\n",
       "    }\n",
       "\n",
       "    .dataframe tbody tr th {\n",
       "        vertical-align: top;\n",
       "    }\n",
       "\n",
       "    .dataframe thead th {\n",
       "        text-align: right;\n",
       "    }\n",
       "</style>\n",
       "<table border=\"1\" class=\"dataframe\">\n",
       "  <thead>\n",
       "    <tr style=\"text-align: right;\">\n",
       "      <th></th>\n",
       "      <th>user_id</th>\n",
       "      <th>user_id_count</th>\n",
       "      <th>user_id_trade_count</th>\n",
       "      <th>user_id_cvr</th>\n",
       "    </tr>\n",
       "  </thead>\n",
       "  <tbody>\n",
       "    <tr>\n",
       "      <th>62897</th>\n",
       "      <td>3295390691569945567</td>\n",
       "      <td>2</td>\n",
       "      <td>2.0</td>\n",
       "      <td>0.850663</td>\n",
       "    </tr>\n",
       "    <tr>\n",
       "      <th>119642</th>\n",
       "      <td>6246862659914608948</td>\n",
       "      <td>2</td>\n",
       "      <td>2.0</td>\n",
       "      <td>0.850663</td>\n",
       "    </tr>\n",
       "    <tr>\n",
       "      <th>73816</th>\n",
       "      <td>3867613225626564451</td>\n",
       "      <td>2</td>\n",
       "      <td>2.0</td>\n",
       "      <td>0.850663</td>\n",
       "    </tr>\n",
       "    <tr>\n",
       "      <th>24877</th>\n",
       "      <td>1285647314436345292</td>\n",
       "      <td>2</td>\n",
       "      <td>2.0</td>\n",
       "      <td>0.850663</td>\n",
       "    </tr>\n",
       "    <tr>\n",
       "      <th>93893</th>\n",
       "      <td>4914936825121369220</td>\n",
       "      <td>2</td>\n",
       "      <td>2.0</td>\n",
       "      <td>0.850663</td>\n",
       "    </tr>\n",
       "  </tbody>\n",
       "</table>\n",
       "</div>"
      ],
      "text/plain": [
       "                    user_id  user_id_count  user_id_trade_count  user_id_cvr\n",
       "62897   3295390691569945567              2                  2.0     0.850663\n",
       "119642  6246862659914608948              2                  2.0     0.850663\n",
       "73816   3867613225626564451              2                  2.0     0.850663\n",
       "24877   1285647314436345292              2                  2.0     0.850663\n",
       "93893   4914936825121369220              2                  2.0     0.850663"
      ]
     },
     "execution_count": 24,
     "metadata": {},
     "output_type": "execute_result"
    }
   ],
   "source": [
    "feature_cvr_temp.sort_values(by=feature+'_cvr', ascending=False).head()"
   ]
  },
  {
   "cell_type": "code",
   "execution_count": null,
   "metadata": {},
   "outputs": [],
   "source": [
    "id_list = ['user_id', 'item_id', 'shop_id', 'context_id']\n",
    "date_list = range(18, 26-days_ahead)\n",
    "new_data = pd.DataFrame()\n",
    "\n",
    "for date in date_list:\n",
    "    date_df = data[(data.day==date+days_ahead)]\n",
    "    for feature in id_list:\n",
    "        df_add = CVR(data=data[(data.day >= date) & (data.day < date+days_ahead)], feature=feature)\n",
    "        date_df = date_df.merge(df_add, on=feature, how='left')   \n",
    "    if date==18:\n",
    "        new_data = date_df\n",
    "    else:\n",
    "        new_data = pd.concat([new_data, date_df])"
   ]
  },
  {
   "cell_type": "code",
   "execution_count": 2,
   "metadata": {
    "ExecuteTime": {
     "end_time": "2018-04-18T09:48:25.020712Z",
     "start_time": "2018-04-18T09:48:25.007071Z"
    }
   },
   "outputs": [],
   "source": [
    "def PreCVR(data, feature):\n",
    "    feature_clk_df = pd.DataFrame(data.groupby([feature], as_index=False).size().reset_index()).fillna(0)\n",
    "    feature_clk_df.rename(columns={0:feature+'_count'}, inplace=True)\n",
    "\n",
    "    feature_cv_df = pd.DataFrame(data[(data.is_trade==1)].groupby([feature], as_index=False).size().reset_index()).fillna(0)\n",
    "    feature_cv_df.rename(columns={0:feature+'_trade_count'}, inplace=True)\n",
    "\n",
    "    feature_cvr_df = feature_clk_df.merge(feature_cv_df, on=feature, how='left').fillna(0)\n",
    "    return feature_cvr_df"
   ]
  },
  {
   "cell_type": "code",
   "execution_count": 63,
   "metadata": {
    "ExecuteTime": {
     "end_time": "2018-04-18T09:32:47.021571Z",
     "start_time": "2018-04-18T09:32:47.005003Z"
    }
   },
   "outputs": [
    {
     "data": {
      "text/html": [
       "<div>\n",
       "<style scoped>\n",
       "    .dataframe tbody tr th:only-of-type {\n",
       "        vertical-align: middle;\n",
       "    }\n",
       "\n",
       "    .dataframe tbody tr th {\n",
       "        vertical-align: top;\n",
       "    }\n",
       "\n",
       "    .dataframe thead th {\n",
       "        text-align: right;\n",
       "    }\n",
       "</style>\n",
       "<table border=\"1\" class=\"dataframe\">\n",
       "  <thead>\n",
       "    <tr style=\"text-align: right;\">\n",
       "      <th></th>\n",
       "      <th>instance_id</th>\n",
       "      <th>is_trade</th>\n",
       "      <th>user_id</th>\n",
       "      <th>item_id</th>\n",
       "      <th>context_id</th>\n",
       "      <th>shop_id</th>\n",
       "      <th>context_timestamp</th>\n",
       "      <th>realtime</th>\n",
       "      <th>day</th>\n",
       "    </tr>\n",
       "  </thead>\n",
       "  <tbody>\n",
       "    <tr>\n",
       "      <th>0</th>\n",
       "      <td>108641074714126964</td>\n",
       "      <td>0.0</td>\n",
       "      <td>4505772604969228686</td>\n",
       "      <td>3412720377098676069</td>\n",
       "      <td>282924576738839389</td>\n",
       "      <td>6765930309048922341</td>\n",
       "      <td>1537236544</td>\n",
       "      <td>2018-09-18 10:09:04</td>\n",
       "      <td>18</td>\n",
       "    </tr>\n",
       "    <tr>\n",
       "      <th>1</th>\n",
       "      <td>5754713551599725161</td>\n",
       "      <td>0.0</td>\n",
       "      <td>2692638157208937547</td>\n",
       "      <td>3412720377098676069</td>\n",
       "      <td>4007979028023783431</td>\n",
       "      <td>6765930309048922341</td>\n",
       "      <td>1537243232</td>\n",
       "      <td>2018-09-18 12:00:32</td>\n",
       "      <td>18</td>\n",
       "    </tr>\n",
       "    <tr>\n",
       "      <th>2</th>\n",
       "      <td>842679481291040981</td>\n",
       "      <td>0.0</td>\n",
       "      <td>5247924392014515924</td>\n",
       "      <td>3412720377098676069</td>\n",
       "      <td>4884875192608989870</td>\n",
       "      <td>6765930309048922341</td>\n",
       "      <td>1537211052</td>\n",
       "      <td>2018-09-18 03:04:12</td>\n",
       "      <td>18</td>\n",
       "    </tr>\n",
       "    <tr>\n",
       "      <th>3</th>\n",
       "      <td>937088850059189027</td>\n",
       "      <td>0.0</td>\n",
       "      <td>2681414445369714628</td>\n",
       "      <td>3412720377098676069</td>\n",
       "      <td>840119421106178602</td>\n",
       "      <td>6765930309048922341</td>\n",
       "      <td>1537222670</td>\n",
       "      <td>2018-09-18 06:17:50</td>\n",
       "      <td>18</td>\n",
       "    </tr>\n",
       "    <tr>\n",
       "      <th>4</th>\n",
       "      <td>7975697065017708072</td>\n",
       "      <td>0.0</td>\n",
       "      <td>2729475788342039013</td>\n",
       "      <td>3412720377098676069</td>\n",
       "      <td>1736769971710354684</td>\n",
       "      <td>6765930309048922341</td>\n",
       "      <td>1537271320</td>\n",
       "      <td>2018-09-18 19:48:40</td>\n",
       "      <td>18</td>\n",
       "    </tr>\n",
       "  </tbody>\n",
       "</table>\n",
       "</div>"
      ],
      "text/plain": [
       "           instance_id  is_trade              user_id              item_id  \\\n",
       "0   108641074714126964       0.0  4505772604969228686  3412720377098676069   \n",
       "1  5754713551599725161       0.0  2692638157208937547  3412720377098676069   \n",
       "2   842679481291040981       0.0  5247924392014515924  3412720377098676069   \n",
       "3   937088850059189027       0.0  2681414445369714628  3412720377098676069   \n",
       "4  7975697065017708072       0.0  2729475788342039013  3412720377098676069   \n",
       "\n",
       "            context_id              shop_id  context_timestamp  \\\n",
       "0   282924576738839389  6765930309048922341         1537236544   \n",
       "1  4007979028023783431  6765930309048922341         1537243232   \n",
       "2  4884875192608989870  6765930309048922341         1537211052   \n",
       "3   840119421106178602  6765930309048922341         1537222670   \n",
       "4  1736769971710354684  6765930309048922341         1537271320   \n",
       "\n",
       "             realtime  day  \n",
       "0 2018-09-18 10:09:04   18  \n",
       "1 2018-09-18 12:00:32   18  \n",
       "2 2018-09-18 03:04:12   18  \n",
       "3 2018-09-18 06:17:50   18  \n",
       "4 2018-09-18 19:48:40   18  "
      ]
     },
     "execution_count": 63,
     "metadata": {},
     "output_type": "execute_result"
    }
   ],
   "source": [
    "feature = 'user_id'\n",
    "\n",
    "for date in range(18, 26):\n",
    "    date_df = data[(data.day==date)]\n",
    "    cvr_tem = PreCVR(data[data.day < date], feature)\n",
    "    cvr_tem[feature+'_cvr'] = (cvr_tem[feature+'_trade_count'] + alpha) / (cvr_tem[feature+'_count'] + alpha + beta)\n",
    "    date_df = date_df.merge(cvr_tem, on=feature, how='left') \n",
    "    if date==18:\n",
    "        new_data = date_df\n",
    "    else:\n",
    "        new_data = pd.concat([date_df, new_data])"
   ]
  },
  {
   "cell_type": "code",
   "execution_count": null,
   "metadata": {},
   "outputs": [],
   "source": [
    "new_data[new_data.day==25].head()"
   ]
  },
  {
   "cell_type": "code",
   "execution_count": 4,
   "metadata": {
    "ExecuteTime": {
     "end_time": "2018-04-18T09:50:05.303031Z",
     "start_time": "2018-04-18T09:48:42.016794Z"
    },
    "scrolled": false
   },
   "outputs": [],
   "source": [
    "id_list = ['user_id', 'item_id', 'shop_id', 'context_id']\n",
    "\n",
    "data_train = data[data.is_trade.notnull()]\n",
    "                  \n",
    "for feature in id_list:\n",
    "    cvr_df = pd.DataFrame()\n",
    "    cvr_df = PreCVR(data_train, feature)\n",
    "    alpha, beta = BayesainSM(cvr_df[feature+'_count'], cvr_df[feature+'_trade_count'])\n",
    "    \n",
    "    new_data = pd.DataFrame()\n",
    "    \n",
    "    for date in range(18, 26):\n",
    "        date_df = data[(data.day==date)]\n",
    "        cvr_tem = PreCVR(data[data.day < date], feature)\n",
    "        cvr_tem[feature+'_cvr'] = (cvr_tem[feature+'_trade_count'] + alpha) / (cvr_tem[feature+'_count'] + alpha + beta)\n",
    "        date_df = date_df.merge(cvr_tem, on=feature, how='left') \n",
    "        if date==18:\n",
    "            new_data = date_df\n",
    "        else:\n",
    "            new_data = pd.concat([date_df, new_data])\n",
    "    \n",
    "    data = data.merge(new_data[[feature+'_cvr', 'instance_id']], on='instance_id', how='left')"
   ]
  },
  {
   "cell_type": "code",
   "execution_count": 8,
   "metadata": {
    "ExecuteTime": {
     "end_time": "2018-04-18T09:46:17.231431Z",
     "start_time": "2018-04-18T09:44:23.643392Z"
    }
   },
   "outputs": [],
   "source": [
    "data = data.fillna(0)\n",
    "data['sum_cvr'] = data['user_id_cvr'] + data['item_id_cvr'] + data['shop_id_cvr'] + data['context_id_cvr']"
   ]
  },
  {
   "cell_type": "code",
   "execution_count": null,
   "metadata": {
    "ExecuteTime": {
     "start_time": "2018-04-18T09:44:46.967Z"
    }
   },
   "outputs": [],
   "source": [
    "data.sort_values(by=['sum_cvr'], ascending=False)"
   ]
  },
  {
   "cell_type": "code",
   "execution_count": 8,
   "metadata": {
    "ExecuteTime": {
     "end_time": "2018-04-18T10:06:41.154132Z",
     "start_time": "2018-04-18T09:55:45.906264Z"
    },
    "scrolled": true
   },
   "outputs": [
    {
     "name": "stdout",
     "output_type": "stream",
     "text": [
      "saving...\n"
     ]
    }
   ],
   "source": [
    "drop_list = ['is_trade', 'user_id', 'item_id', 'context_id', 'shop_id', 'context_timestamp', 'realtime', 'day']\n",
    "feature_cvr = [x for x in data.columns if x not in drop_list]\n",
    "\n",
    "print('saving...')\n",
    "cvr_data = data[feature_cvr]\n",
    "cvr_data.to_csv(wd+'cvr_bayesianSM.txt', index=False, sep=' ')"
   ]
  },
  {
   "cell_type": "code",
   "execution_count": 10,
   "metadata": {
    "ExecuteTime": {
     "end_time": "2018-04-18T10:15:01.272497Z",
     "start_time": "2018-04-18T10:14:37.406583Z"
    }
   },
   "outputs": [
    {
     "data": {
      "text/html": [
       "<div>\n",
       "<style scoped>\n",
       "    .dataframe tbody tr th:only-of-type {\n",
       "        vertical-align: middle;\n",
       "    }\n",
       "\n",
       "    .dataframe tbody tr th {\n",
       "        vertical-align: top;\n",
       "    }\n",
       "\n",
       "    .dataframe thead th {\n",
       "        text-align: right;\n",
       "    }\n",
       "</style>\n",
       "<table border=\"1\" class=\"dataframe\">\n",
       "  <thead>\n",
       "    <tr style=\"text-align: right;\">\n",
       "      <th></th>\n",
       "      <th>instance_id</th>\n",
       "      <th>user_id_cvr</th>\n",
       "      <th>item_id_cvr</th>\n",
       "      <th>shop_id_cvr</th>\n",
       "      <th>context_id_cvr</th>\n",
       "    </tr>\n",
       "  </thead>\n",
       "  <tbody>\n",
       "    <tr>\n",
       "      <th>89822686</th>\n",
       "      <td>5226517146477941488</td>\n",
       "      <td>0.741807</td>\n",
       "      <td>0.018112</td>\n",
       "      <td>0.018779</td>\n",
       "      <td>NaN</td>\n",
       "    </tr>\n",
       "    <tr>\n",
       "      <th>89865091</th>\n",
       "      <td>3872006301696848808</td>\n",
       "      <td>0.741807</td>\n",
       "      <td>0.001802</td>\n",
       "      <td>0.016515</td>\n",
       "      <td>NaN</td>\n",
       "    </tr>\n",
       "    <tr>\n",
       "      <th>89522730</th>\n",
       "      <td>8562198339727467467</td>\n",
       "      <td>0.741807</td>\n",
       "      <td>NaN</td>\n",
       "      <td>0.034989</td>\n",
       "      <td>NaN</td>\n",
       "    </tr>\n",
       "    <tr>\n",
       "      <th>88914599</th>\n",
       "      <td>327707211534629657</td>\n",
       "      <td>0.741807</td>\n",
       "      <td>0.100050</td>\n",
       "      <td>0.096802</td>\n",
       "      <td>NaN</td>\n",
       "    </tr>\n",
       "    <tr>\n",
       "      <th>44115391</th>\n",
       "      <td>4885675478804658259</td>\n",
       "      <td>0.741807</td>\n",
       "      <td>0.006854</td>\n",
       "      <td>0.010228</td>\n",
       "      <td>NaN</td>\n",
       "    </tr>\n",
       "  </tbody>\n",
       "</table>\n",
       "</div>"
      ],
      "text/plain": [
       "                  instance_id  user_id_cvr  item_id_cvr  shop_id_cvr  \\\n",
       "89822686  5226517146477941488     0.741807     0.018112     0.018779   \n",
       "89865091  3872006301696848808     0.741807     0.001802     0.016515   \n",
       "89522730  8562198339727467467     0.741807          NaN     0.034989   \n",
       "88914599   327707211534629657     0.741807     0.100050     0.096802   \n",
       "44115391  4885675478804658259     0.741807     0.006854     0.010228   \n",
       "\n",
       "          context_id_cvr  \n",
       "89822686             NaN  \n",
       "89865091             NaN  \n",
       "89522730             NaN  \n",
       "88914599             NaN  \n",
       "44115391             NaN  "
      ]
     },
     "execution_count": 10,
     "metadata": {},
     "output_type": "execute_result"
    }
   ],
   "source": [
    "cvr_data.sort_values(by='user_id_cvr', ascending=False).head()"
   ]
  },
  {
   "cell_type": "code",
   "execution_count": 11,
   "metadata": {
    "ExecuteTime": {
     "end_time": "2018-04-18T10:19:08.662044Z",
     "start_time": "2018-04-18T10:19:07.258688Z"
    }
   },
   "outputs": [],
   "source": [
    "import pandas_profiling as pp"
   ]
  },
  {
   "cell_type": "code",
   "execution_count": null,
   "metadata": {
    "ExecuteTime": {
     "start_time": "2018-04-18T10:19:35.913Z"
    }
   },
   "outputs": [],
   "source": [
    "pp.ProfileReport(cvr_data)"
   ]
  },
  {
   "cell_type": "code",
   "execution_count": null,
   "metadata": {},
   "outputs": [],
   "source": []
  }
 ],
 "metadata": {
  "kernelspec": {
   "display_name": "Python 3",
   "language": "python",
   "name": "python3"
  },
  "language_info": {
   "codemirror_mode": {
    "name": "ipython",
    "version": 3
   },
   "file_extension": ".py",
   "mimetype": "text/x-python",
   "name": "python",
   "nbconvert_exporter": "python",
   "pygments_lexer": "ipython3",
   "version": "3.6.3"
  },
  "toc": {
   "nav_menu": {},
   "number_sections": true,
   "sideBar": true,
   "skip_h1_title": false,
   "toc_cell": false,
   "toc_position": {},
   "toc_section_display": "block",
   "toc_window_display": false
  },
  "varInspector": {
   "cols": {
    "lenName": 16,
    "lenType": 16,
    "lenVar": 40
   },
   "kernels_config": {
    "python": {
     "delete_cmd_postfix": "",
     "delete_cmd_prefix": "del ",
     "library": "var_list.py",
     "varRefreshCmd": "print(var_dic_list())"
    },
    "r": {
     "delete_cmd_postfix": ") ",
     "delete_cmd_prefix": "rm(",
     "library": "var_list.r",
     "varRefreshCmd": "cat(var_dic_list()) "
    }
   },
   "types_to_exclude": [
    "module",
    "function",
    "builtin_function_or_method",
    "instance",
    "_Feature"
   ],
   "window_display": false
  }
 },
 "nbformat": 4,
 "nbformat_minor": 2
}
