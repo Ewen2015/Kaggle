{
 "cells": [
  {
   "cell_type": "markdown",
   "metadata": {},
   "source": [
    "# Stacking\n",
    "***"
   ]
  },
  {
   "cell_type": "markdown",
   "metadata": {},
   "source": [
    "# Import"
   ]
  },
  {
   "cell_type": "code",
   "execution_count": 4,
   "metadata": {
    "ExecuteTime": {
     "end_time": "2018-04-20T08:46:25.889019Z",
     "start_time": "2018-04-20T08:46:25.861998Z"
    }
   },
   "outputs": [],
   "source": [
    "from glob import glob\n",
    "import re \n",
    "import numpy as np\n",
    "import pandas as pd\n",
    "np.random.seed(0) # ensure reproducibility\n",
    "np.set_printoptions(suppress = True)\n",
    "from sklearn.model_selection import train_test_split\n",
    "from sklearn.metrics import log_loss\n",
    "# Models\n",
    "from sklearn.naive_bayes import GaussianNB\n",
    "from sklearn.linear_model import LogisticRegression\n",
    "from sklearn.ensemble import ExtraTreesClassifier\n",
    "from sklearn.ensemble import RandomForestClassifier\n",
    "from xgboost import XGBClassifier\n",
    "from lightgbm import LGBMClassifier\n",
    "# NN\n",
    "from keras.models import Sequential\n",
    "from keras.layers import Dense\n",
    "from keras.wrappers.scikit_learn import KerasClassifier\n",
    "# Stacking\n",
    "from vecstack import stacking\n",
    "\n",
    "import warnings\n",
    "warnings.filterwarnings('ignore')"
   ]
  },
  {
   "cell_type": "markdown",
   "metadata": {},
   "source": [
    "# Prepare data"
   ]
  },
  {
   "cell_type": "code",
   "execution_count": 6,
   "metadata": {
    "ExecuteTime": {
     "end_time": "2018-04-20T08:53:32.400239Z",
     "start_time": "2018-04-20T08:49:11.699750Z"
    }
   },
   "outputs": [
    {
     "name": "stdout",
     "output_type": "stream",
     "text": [
      "Train shape: (422660, 333)\n",
      "Test shape:  (57588, 333)\n"
     ]
    }
   ],
   "source": [
    "wd = '/Users/ewenwang/Documents/practice_data/conversion_rate/'\n",
    "test_file = ['round1_ijcai_18_test_a_20180301.txt', 'round1_ijcai_18_test_b_20180418.txt']\n",
    "\n",
    "file_UISC_union = 'snow_data_UISC_union.txt'\n",
    "cvr_sm_union = 'cvr_bayesianSM_union.txt'\n",
    "pagerank_union = 'pagerank_union.txt'\n",
    "\n",
    "output_file = 'result.txt'\n",
    "\n",
    "data = pd.read_csv(wd+file_UISC_union, sep=' ')\n",
    "data = data.merge(pd.read_csv(wd+pagerank_union, sep=' '), on='instance_id', how='left').merge(pd.read_csv(wd+cvr_sm_union, sep=' '), on='instance_id', how='left')\n",
    "\n",
    "target = 'is_trade'\n",
    "drop_list = ['is_trade', 'item_category_list', 'item_property_list', 'predict_category_property', 'realtime', 'context_timestamp']\n",
    "features = [x for x in data.columns if x not in drop_list]\n",
    "\n",
    "test_day = 24\n",
    "train = data[(data['day'] >= 18) & (data['day'] < test_day)]\n",
    "test = data[(data['day'] == test_day)]\n",
    "        \n",
    "X_train = train[features]\n",
    "y_train = train[target]\n",
    "\n",
    "X_test = test[features]\n",
    "y_test = test[target]\n",
    "\n",
    "n_classes = 2\n",
    "\n",
    "print('Train shape:', X_train.shape)\n",
    "print('Test shape: ', X_test.shape)"
   ]
  },
  {
   "cell_type": "markdown",
   "metadata": {},
   "source": [
    "# Initialize 1st level models"
   ]
  },
  {
   "cell_type": "code",
   "execution_count": 22,
   "metadata": {
    "ExecuteTime": {
     "end_time": "2018-04-21T09:57:56.377393Z",
     "start_time": "2018-04-21T09:57:56.348791Z"
    }
   },
   "outputs": [],
   "source": [
    "def build_keras_model_1():\n",
    "    model = Sequential()\n",
    "    model.add(Dense(64, \n",
    "                    input_dim=X_train.shape[1], \n",
    "                    kernel_initializer='normal', \n",
    "                    activation='relu'))\n",
    "    model.add(Dense(1, \n",
    "                    kernel_initializer='normal', \n",
    "                    activation='sigmoid'))\n",
    "    model.compile(optimizer='rmsprop', \n",
    "                  loss='binary_crossentropy', \n",
    "                  metrics=['accuracy'])\n",
    "    return model\n",
    "\n",
    "# Caution! All models and parameter values are just \n",
    "# demonstrational and shouldn't be considered as recommended.\n",
    "models_1 = [ \n",
    "    GaussianNB(),\n",
    "    \n",
    "    LogisticRegression(random_state=0),\n",
    "    \n",
    "    ExtraTreesClassifier(random_state=0, n_jobs=-1, n_estimators=100, max_depth=3),\n",
    "                         \n",
    "    RandomForestClassifier(random_state=0, n_jobs=-1, n_estimators=1000, max_depth=3),\n",
    "        \n",
    "    XGBClassifier(learning_rate=0.01, n_estimators=1000, max_depth=3),\n",
    "                  \n",
    "    LGBMClassifier(random_state=0, n_jobs=-1, learning_rate=0.01, n_estimators=1000, max_depth=4),\n",
    "                  \n",
    "    KerasClassifier(build_fn=build_keras_model_1, epochs=50, batch_size=32, verbose=0)\n",
    "]"
   ]
  },
  {
   "cell_type": "markdown",
   "metadata": {},
   "source": [
    "# Perform stacking"
   ]
  },
  {
   "cell_type": "code",
   "execution_count": 23,
   "metadata": {
    "ExecuteTime": {
     "end_time": "2018-04-21T10:28:19.921283Z",
     "start_time": "2018-04-21T10:02:00.611889Z"
    }
   },
   "outputs": [
    {
     "name": "stdout",
     "output_type": "stream",
     "text": [
      "task:         [classification]\n",
      "n_classes:    [2]\n",
      "metric:       [log_loss]\n",
      "mode:         [oof_pred]\n",
      "n_models:     [7]\n",
      "\n",
      "model  0:     [GaussianNB]\n",
      "    fold  0:  [0.10414938]\n",
      "    fold  1:  [0.10413866]\n",
      "    fold  2:  [0.10405439]\n",
      "    fold  3:  [0.10408151]\n",
      "    fold  4:  [0.10403045]\n",
      "    ----\n",
      "    MEAN:     [0.10409088] + [0.00004643]\n",
      "    FULL:     [0.10409088]\n",
      "\n",
      "    Fitting on full train set...\n",
      "\n",
      "model  1:     [LogisticRegression]\n",
      "    fold  0:  [0.13805420]\n",
      "    fold  1:  [0.13810327]\n",
      "    fold  2:  [0.13821111]\n",
      "    fold  3:  [0.13762233]\n",
      "    fold  4:  [0.13673892]\n",
      "    ----\n",
      "    MEAN:     [0.13774596] + [0.00054193]\n",
      "    FULL:     [0.13774597]\n",
      "\n",
      "    Fitting on full train set...\n",
      "\n",
      "model  2:     [ExtraTreesClassifier]\n",
      "    fold  0:  [0.10034123]\n",
      "    fold  1:  [0.10040215]\n",
      "    fold  2:  [0.10012593]\n",
      "    fold  3:  [0.10007623]\n",
      "    fold  4:  [0.09998751]\n",
      "    ----\n",
      "    MEAN:     [0.10018661] + [0.00015866]\n",
      "    FULL:     [0.10018661]\n",
      "\n",
      "    Fitting on full train set...\n",
      "\n",
      "model  3:     [RandomForestClassifier]\n",
      "    fold  0:  [0.09863281]\n",
      "    fold  1:  [0.09874636]\n",
      "    fold  2:  [0.09836600]\n",
      "    fold  3:  [0.09822498]\n",
      "    fold  4:  [0.09813397]\n",
      "    ----\n",
      "    MEAN:     [0.09842082] + [0.00023433]\n",
      "    FULL:     [0.09842083]\n",
      "\n",
      "    Fitting on full train set...\n",
      "\n",
      "model  4:     [XGBClassifier]\n",
      "    fold  0:  [0.09171859]\n",
      "    fold  1:  [0.09215505]\n",
      "    fold  2:  [0.09108429]\n",
      "    fold  3:  [0.09084226]\n",
      "    fold  4:  [0.09070232]\n",
      "    ----\n",
      "    MEAN:     [0.09130050] + [0.00055129]\n",
      "    FULL:     [0.09130051]\n",
      "\n",
      "    Fitting on full train set...\n",
      "\n",
      "model  5:     [LGBMClassifier]\n",
      "    fold  0:  [0.09170978]\n",
      "    fold  1:  [0.09230075]\n",
      "    fold  2:  [0.09100480]\n",
      "    fold  3:  [0.09086257]\n",
      "    fold  4:  [0.09065976]\n",
      "    ----\n",
      "    MEAN:     [0.09130753] + [0.00060951]\n",
      "    FULL:     [0.09130754]\n",
      "\n",
      "    Fitting on full train set...\n",
      "\n",
      "model  6:     [KerasClassifier]\n",
      "    fold  0:  [33.79270320]\n",
      "    fold  1:  [31.85070653]\n",
      "    fold  2:  [33.79310296]\n",
      "    fold  3:  [0.74568226]\n",
      "    fold  4:  [6.20571076]\n",
      "    ----\n",
      "    MEAN:     [21.27758114] + [14.65453988]\n",
      "    FULL:     [21.27772000]\n",
      "\n",
      "    Fitting on full train set...\n",
      "\n",
      "Result was saved to [./[2018.04.21].[18.28.19].066513.d524f8.npy]\n"
     ]
    }
   ],
   "source": [
    "S_train_1, S_test_1 = stacking(models_1,                   # list of models\n",
    "                               X_train.fillna(0), y_train.fillna(0), X_test.fillna(0),   # data\n",
    "                               regression=False,           # classification task (if you need \n",
    "                                                           #     regression - set to True)\n",
    "                               mode='oof_pred',            # mode: oof for train set, fit on full \n",
    "                                                           #     train and predict test set once\n",
    "                               needs_proba=True,           # predict probabilities (if you need \n",
    "                                                           #     class labels - set to False) \n",
    "                               save_dir='.',               # save result and log in current dir \n",
    "                                                           #     (to disable saving - set to None)\n",
    "                               metric=log_loss,            # metric: callable\n",
    "                               n_folds=5,                  # number of folds\n",
    "                               stratified=True,            # stratified split for folds\n",
    "                               shuffle=True,               # shuffle the data\n",
    "                               random_state=0,             # ensure reproducibility\n",
    "                               verbose=2)                  # print all info"
   ]
  },
  {
   "cell_type": "markdown",
   "metadata": {},
   "source": [
    "# Look at the result"
   ]
  },
  {
   "cell_type": "code",
   "execution_count": 24,
   "metadata": {
    "ExecuteTime": {
     "end_time": "2018-04-21T14:25:55.636558Z",
     "start_time": "2018-04-21T14:25:55.625678Z"
    }
   },
   "outputs": [
    {
     "name": "stdout",
     "output_type": "stream",
     "text": [
      "We have 2 classes and 7 models so in resulting arrays we expect to see 14 columns.\n",
      "S_train_1 shape: (422660, 14)\n",
      "S_test_1 shape:  (57588, 14)\n"
     ]
    }
   ],
   "source": [
    "print('We have %d classes and %d models so in resulting arrays \\\n",
    "we expect to see %d columns.' % (n_classes, len(models_1), n_classes * len(models_1)))\n",
    "print('S_train_1 shape:', S_train_1.shape)\n",
    "print('S_test_1 shape: ', S_test_1.shape)"
   ]
  },
  {
   "cell_type": "code",
   "execution_count": 25,
   "metadata": {
    "ExecuteTime": {
     "end_time": "2018-04-21T14:26:08.946363Z",
     "start_time": "2018-04-21T14:26:08.937706Z"
    },
    "scrolled": true
   },
   "outputs": [
    {
     "data": {
      "text/plain": [
       "array([[0.97541206, 0.02458794, 0.54550544, 0.45449456, 0.97948474,\n",
       "        0.02051526, 0.97528172, 0.02471828, 0.9924463 , 0.00755368,\n",
       "        0.99281573, 0.00718427, 0.        , 1.        ],\n",
       "       [0.97825511, 0.02174489, 0.98888685, 0.01111315, 0.97963651,\n",
       "        0.02036349, 0.97600819, 0.02399181, 0.9939819 , 0.0060181 ,\n",
       "        0.99327291, 0.00672709, 1.        , 0.        ]])"
      ]
     },
     "execution_count": 25,
     "metadata": {},
     "output_type": "execute_result"
    }
   ],
   "source": [
    "S_train_1[:2]"
   ]
  },
  {
   "cell_type": "code",
   "execution_count": 26,
   "metadata": {
    "ExecuteTime": {
     "end_time": "2018-04-21T14:26:18.793617Z",
     "start_time": "2018-04-21T14:26:18.784278Z"
    }
   },
   "outputs": [
    {
     "data": {
      "text/plain": [
       "array([[0.97507169, 0.02492831, 0.77959327, 0.22040673, 0.97324503,\n",
       "        0.02675497, 0.9763691 , 0.0236309 , 0.98846424, 0.01153576,\n",
       "        0.98945386, 0.01054614, 0.        , 1.        ],\n",
       "       [0.98036998, 0.01963002, 0.99846575, 0.00153425, 0.98391833,\n",
       "        0.01608167, 0.98751856, 0.01248144, 0.99601358, 0.00398641,\n",
       "        0.99631791, 0.00368209, 0.        , 1.        ]])"
      ]
     },
     "execution_count": 26,
     "metadata": {},
     "output_type": "execute_result"
    }
   ],
   "source": [
    "S_test_1[:2]"
   ]
  },
  {
   "cell_type": "markdown",
   "metadata": {},
   "source": [
    "# Our arrays and log were saved in current dir"
   ]
  },
  {
   "cell_type": "code",
   "execution_count": 27,
   "metadata": {
    "ExecuteTime": {
     "end_time": "2018-04-21T14:26:36.021969Z",
     "start_time": "2018-04-21T14:26:35.944486Z"
    }
   },
   "outputs": [
    {
     "name": "stdout",
     "output_type": "stream",
     "text": [
      "Arrays:\n",
      "[2018.04.21].[18.28.19].066513.d524f8.npy\n",
      "\n",
      "Logs:\n",
      "[2018.04.21].[18.28.19].066513.d524f8.log.txt\n"
     ]
    }
   ],
   "source": [
    "names = sorted(glob('*.npy'))\n",
    "npy_1_name = names[0] # for later use\n",
    "\n",
    "print('Arrays:')\n",
    "for name in names:\n",
    "    print(name)\n",
    "\n",
    "names = sorted(glob('*.log.txt'))\n",
    "log_1_name = names[0] # for later use\n",
    "\n",
    "print('\\nLogs:')\n",
    "for name in names:\n",
    "    print(name)"
   ]
  },
  {
   "cell_type": "markdown",
   "metadata": {},
   "source": [
    "# Initialize some other 1st level model(s)\n",
    "\n",
    "As we continue to work on the problem we create many other models.  \n",
    "Let's say we want to try more powerful neural network."
   ]
  },
  {
   "cell_type": "code",
   "execution_count": 29,
   "metadata": {
    "ExecuteTime": {
     "end_time": "2018-04-21T14:30:14.383427Z",
     "start_time": "2018-04-21T14:30:14.270026Z"
    }
   },
   "outputs": [],
   "source": [
    "def build_keras_model_2():\n",
    "    model = Sequential()\n",
    "    model.add(Dense(128, \n",
    "                    input_dim=X_train.shape[1], \n",
    "                    kernel_initializer='normal', \n",
    "                    activation='relu'))\n",
    "    model.add(Dense(64, \n",
    "                    kernel_initializer='normal', \n",
    "                    activation='relu'))\n",
    "    model.add(Dense(16, \n",
    "                    kernel_initializer='normal', \n",
    "                    activation='relu'))\n",
    "    model.add(Dense(n_classes, \n",
    "                    kernel_initializer='normal', \n",
    "                    activation='softmax'))\n",
    "    model.compile(optimizer='rmsprop', \n",
    "                  loss='categorical_crossentropy', \n",
    "                  metrics=['categorical_accuracy'])\n",
    "    return model\n",
    "\n",
    "# Caution! All models and parameter values are just \n",
    "# demonstrational and shouldn't be considered as recommended.\n",
    "models_2 = [        \n",
    "    KerasClassifier(build_fn=build_keras_model_2, epochs=150, batch_size=32, verbose=0),\n",
    "    LGBMClassifier(random_state=0, \n",
    "                   n_jobs=-1, \n",
    "                   learning_rate=0.01, \n",
    "                   metric='binary_logloss',\n",
    "                   n_estimators=1700, \n",
    "                   max_depth=4, \n",
    "                   num_leaves=16,\n",
    "                   colsample_bytree=0.6, \n",
    "                   subsample=0.9)\n",
    "]"
   ]
  },
  {
   "cell_type": "markdown",
   "metadata": {},
   "source": [
    "# Perform stacking again"
   ]
  },
  {
   "cell_type": "code",
   "execution_count": 31,
   "metadata": {
    "ExecuteTime": {
     "end_time": "2018-04-21T21:05:30.065409Z",
     "start_time": "2018-04-21T14:32:49.296480Z"
    }
   },
   "outputs": [
    {
     "name": "stdout",
     "output_type": "stream",
     "text": [
      "task:         [classification]\n",
      "n_classes:    [2]\n",
      "metric:       [log_loss]\n",
      "mode:         [oof_pred]\n",
      "n_models:     [2]\n",
      "\n",
      "model  0:     [KerasClassifier]\n",
      "    fold  0:  [0.74607320]\n",
      "    fold  1:  [0.74607320]\n",
      "    fold  2:  [33.79310296]\n",
      "    fold  3:  [0.74568226]\n",
      "    fold  4:  [33.79309414]\n",
      "    ----\n",
      "    MEAN:     [13.96480515] + [16.18973377]\n",
      "    FULL:     [13.96472696]\n",
      "\n",
      "    Fitting on full train set...\n",
      "\n",
      "model  1:     [LGBMClassifier]\n",
      "    fold  0:  [0.08971688]\n",
      "    fold  1:  [0.09015472]\n",
      "    fold  2:  [0.08898464]\n",
      "    fold  3:  [0.08885866]\n",
      "    fold  4:  [0.08825006]\n",
      "    ----\n",
      "    MEAN:     [0.08919299] + [0.00066988]\n",
      "    FULL:     [0.08919300]\n",
      "\n",
      "    Fitting on full train set...\n",
      "\n",
      "Result was saved to [./[2018.04.22].[05.05.29].603954.4e825d.npy]\n"
     ]
    }
   ],
   "source": [
    "S_train_2, S_test_2 = stacking(models_2,                   # list of models\n",
    "                               X_train.fillna(0), y_train.fillna(0), X_test.fillna(0),   # data\n",
    "                               regression=False,           # classification task (if you need \n",
    "                                                           #     regression - set to True)\n",
    "                               mode='oof_pred',            # mode: oof for train set, fit on full \n",
    "                                                           #     train and predict test set once\n",
    "                               needs_proba=True,           # predict probabilities (if you need \n",
    "                                                           #     class labels - set to False) \n",
    "                               save_dir='.',               # save result and log in current dir \n",
    "                                                           #     (to disable saving - set to None)\n",
    "                               metric=log_loss,            # metric: callable\n",
    "                               n_folds=5,                  # number of folds\n",
    "                               stratified=True,            # stratified split for folds\n",
    "                               shuffle=True,               # shuffle the data\n",
    "                               random_state=0,             # ensure reproducibility\n",
    "                               verbose=2)                  # print all info"
   ]
  },
  {
   "cell_type": "markdown",
   "metadata": {},
   "source": [
    "# New arrays and log were saved too"
   ]
  },
  {
   "cell_type": "code",
   "execution_count": 32,
   "metadata": {
    "ExecuteTime": {
     "end_time": "2018-04-21T21:05:31.473091Z",
     "start_time": "2018-04-21T21:05:31.461095Z"
    }
   },
   "outputs": [
    {
     "name": "stdout",
     "output_type": "stream",
     "text": [
      "Arrays:\n",
      "[2018.04.21].[18.28.19].066513.d524f8.npy\n",
      "[2018.04.22].[05.05.29].603954.4e825d.npy\n",
      "\n",
      "Logs:\n",
      "[2018.04.21].[18.28.19].066513.d524f8.log.txt\n",
      "[2018.04.22].[05.05.29].603954.4e825d.log.txt\n"
     ]
    }
   ],
   "source": [
    "names = sorted(glob('*.npy'))\n",
    "\n",
    "print('Arrays:')\n",
    "for name in names:\n",
    "    print(name)\n",
    "    \n",
    "names = sorted(glob('*.log.txt'))\n",
    "\n",
    "print('\\nLogs:')\n",
    "for name in names:\n",
    "    print(name)"
   ]
  },
  {
   "cell_type": "markdown",
   "metadata": {},
   "source": [
    "# Time to collect results\n",
    "\n",
    "After several (many) days of building, optimizing, and testing models we have a lot of files with saved OOF.  \n",
    "At this point we can load and use OOF of specific model or all OOF we have."
   ]
  },
  {
   "cell_type": "markdown",
   "metadata": {},
   "source": [
    "# Find specific model\n",
    "\n",
    "We can open logs and find the model of interest.  \n",
    "We can do it programmatically or just open logs in editor.  \n",
    "Name of the `.log.txt` file is the same as the name of corresponding `.npy` file (except extension).  \n",
    "To find columns containing OOF of specific model we use model index from log:\n",
    "* if we predicted class labels - corresponding column index is just model index\n",
    "* if we predicted probabilities - corresponding column index is model index multiplied by number of classes"
   ]
  },
  {
   "cell_type": "code",
   "execution_count": 33,
   "metadata": {
    "ExecuteTime": {
     "end_time": "2018-04-21T22:43:02.282874Z",
     "start_time": "2018-04-21T22:43:02.260117Z"
    }
   },
   "outputs": [
    {
     "name": "stdout",
     "output_type": "stream",
     "text": [
      "Let's open this log: [2018.04.21].[18.28.19].066513.d524f8.log.txt\n",
      "Let's look what models did we build in those session.\n",
      "\n"
     ]
    }
   ],
   "source": [
    "print(\"Let's open this log: %s\" % log_1_name)\n",
    "with open(log_1_name) as f:\n",
    "    lines = f.readlines()\n",
    "\n",
    "print(\"Let's look what models did we build in those session.\\n\")\n",
    "for line in lines:\n",
    "    if re.search(r'^model [0-9]+', line):\n",
    "        print(line)"
   ]
  },
  {
   "cell_type": "markdown",
   "metadata": {},
   "source": [
    "# Load specific model OOF\n",
    "\n",
    "Let's say we are interested in `LGBMClassifier`.  \n",
    "We found out that it has index 5.  \n",
    "Then we load target `.npy` file and because of probabilities we need 3 columns from 15 (5 \\* 3) to 18 (5 \\* 3 + 3)"
   ]
  },
  {
   "cell_type": "code",
   "execution_count": 34,
   "metadata": {
    "ExecuteTime": {
     "end_time": "2018-04-21T22:43:19.787240Z",
     "start_time": "2018-04-21T22:43:19.209098Z"
    }
   },
   "outputs": [
    {
     "name": "stdout",
     "output_type": "stream",
     "text": [
      "Let's load this .npy file: [2018.04.21].[18.28.19].066513.d524f8.npy\n"
     ]
    }
   ],
   "source": [
    "print(\"Let's load this .npy file: %s\" % npy_1_name)\n",
    "S = np.load(npy_1_name)\n",
    "S_train_lgbm = S[0][:, 15:18]\n",
    "S_test_lgbm = S[1][:, 15:18]"
   ]
  },
  {
   "cell_type": "code",
   "execution_count": 35,
   "metadata": {
    "ExecuteTime": {
     "end_time": "2018-04-21T22:43:31.385612Z",
     "start_time": "2018-04-21T22:43:31.352561Z"
    }
   },
   "outputs": [
    {
     "data": {
      "text/plain": [
       "array([], shape=(5, 0), dtype=float64)"
      ]
     },
     "execution_count": 35,
     "metadata": {},
     "output_type": "execute_result"
    }
   ],
   "source": [
    "S_train_lgbm[:5]"
   ]
  },
  {
   "cell_type": "code",
   "execution_count": 36,
   "metadata": {
    "ExecuteTime": {
     "end_time": "2018-04-21T22:43:33.270961Z",
     "start_time": "2018-04-21T22:43:33.263022Z"
    }
   },
   "outputs": [
    {
     "data": {
      "text/plain": [
       "array([], shape=(5, 0), dtype=float64)"
      ]
     },
     "execution_count": 36,
     "metadata": {},
     "output_type": "execute_result"
    }
   ],
   "source": [
    "S_test_lgbm[:5]"
   ]
  },
  {
   "cell_type": "markdown",
   "metadata": {},
   "source": [
    "# Compute score of specific model"
   ]
  },
  {
   "cell_type": "code",
   "execution_count": 38,
   "metadata": {
    "ExecuteTime": {
     "end_time": "2018-04-21T22:43:53.481213Z",
     "start_time": "2018-04-21T22:43:53.478208Z"
    }
   },
   "outputs": [],
   "source": [
    "# print('LGBMCLassifier log loss: %.8f' % log_loss(y_train, S_train_lgbm))"
   ]
  },
  {
   "cell_type": "markdown",
   "metadata": {},
   "source": [
    "# Load ALL OOF\n",
    "\n",
    "***Note:*** If you load OOF from scratch, don't forget to load `y_train` from initial dataset too."
   ]
  },
  {
   "cell_type": "code",
   "execution_count": 39,
   "metadata": {
    "ExecuteTime": {
     "end_time": "2018-04-21T22:43:59.122741Z",
     "start_time": "2018-04-21T22:43:59.116915Z"
    }
   },
   "outputs": [
    {
     "name": "stdout",
     "output_type": "stream",
     "text": [
      "We have 2 classes and 9 models TOTAL so in resulting arrays we expect to see 18 columns.\n"
     ]
    }
   ],
   "source": [
    "print('We have %d classes and %d models TOTAL so in resulting arrays \\\n",
    "we expect to see %d columns.' % (n_classes, len(models_1) + len(models_2), \n",
    "                                 n_classes * (len(models_1) + len(models_2))))"
   ]
  },
  {
   "cell_type": "code",
   "execution_count": 40,
   "metadata": {
    "ExecuteTime": {
     "end_time": "2018-04-21T22:44:03.924201Z",
     "start_time": "2018-04-21T22:44:03.411028Z"
    }
   },
   "outputs": [
    {
     "name": "stdout",
     "output_type": "stream",
     "text": [
      "Loading: [2018.04.21].[18.28.19].066513.d524f8.npy\n",
      "Loading: [2018.04.22].[05.05.29].603954.4e825d.npy\n",
      "\n",
      "S_train_all shape: (422660, 18)\n",
      "S_test_all shape:  (57588, 18)\n"
     ]
    }
   ],
   "source": [
    "# Create empty arrays\n",
    "S_train_all = np.zeros((X_train.shape[0], 0))\n",
    "S_test_all = np.zeros((X_test.shape[0], 0))\n",
    "\n",
    "# Load results\n",
    "for name in sorted(glob('*.npy')):\n",
    "    print('Loading: %s' % name)\n",
    "    S = np.load(name)\n",
    "    S_train_all = np.c_[S_train_all, S[0]]\n",
    "    S_test_all = np.c_[S_test_all, S[1]]\n",
    "    \n",
    "print('\\nS_train_all shape:', S_train_all.shape)\n",
    "print('S_test_all shape: ', S_test_all.shape)"
   ]
  },
  {
   "cell_type": "markdown",
   "metadata": {},
   "source": [
    "# Apply 2nd level model"
   ]
  },
  {
   "cell_type": "code",
   "execution_count": 42,
   "metadata": {
    "ExecuteTime": {
     "end_time": "2018-04-21T22:45:37.652706Z",
     "start_time": "2018-04-21T22:45:05.137243Z"
    }
   },
   "outputs": [
    {
     "name": "stdout",
     "output_type": "stream",
     "text": [
      "Final prediction score: 0.08545384\n"
     ]
    }
   ],
   "source": [
    "# Initialize 2nd level model\n",
    "model = LGBMClassifier(random_state=0, n_jobs=-1, learning_rate=0.01, n_estimators=1700, max_depth=4, \n",
    "                   colsample_bytree=0.6, subsample=0.9)\n",
    "    \n",
    "# Fit 2nd level model\n",
    "model = model.fit(S_train_all, y_train)\n",
    "\n",
    "# Predict\n",
    "y_pred = model.predict_proba(S_test_all)\n",
    "\n",
    "# Final prediction score\n",
    "print('Final prediction score: %.8f' % log_loss(y_test, y_pred))"
   ]
  },
  {
   "cell_type": "code",
   "execution_count": 44,
   "metadata": {
    "ExecuteTime": {
     "end_time": "2018-04-21T22:49:40.584287Z",
     "start_time": "2018-04-21T22:49:40.035940Z"
    }
   },
   "outputs": [
    {
     "data": {
      "text/plain": [
       "<matplotlib.axes._subplots.AxesSubplot at 0x1da4549b0>"
      ]
     },
     "execution_count": 44,
     "metadata": {},
     "output_type": "execute_result"
    },
    {
     "data": {
      "image/png": "[encoded data removed]",
      "text/plain": [
       "<matplotlib.figure.Figure at 0x1da1bf0b8>"
      ]
     },
     "metadata": {},
     "output_type": "display_data"
    }
   ],
   "source": [
    "import lightgbm as lgb\n",
    "import matplotlib.pyplot as plt\n",
    "%matplotlib inline\n",
    "\n",
    "lgb.plot_importance(model, figsize=(16, 8))"
   ]
  },
  {
   "cell_type": "markdown",
   "metadata": {},
   "source": [
    "## Application"
   ]
  },
  {
   "cell_type": "code",
   "execution_count": 51,
   "metadata": {
    "ExecuteTime": {
     "end_time": "2018-04-22T11:02:23.409566Z",
     "start_time": "2018-04-22T03:32:23.748901Z"
    },
    "scrolled": false
   },
   "outputs": [
    {
     "name": "stdout",
     "output_type": "stream",
     "text": [
      "Train shape: (480248, 333)\n",
      "Test shape:  (61245, 333)\n",
      "task:         [classification]\n",
      "n_classes:    [2]\n",
      "metric:       [log_loss]\n",
      "mode:         [oof_pred]\n",
      "n_models:     [7]\n",
      "\n",
      "model  0:     [GaussianNB]\n",
      "    fold  0:  [0.10271126]\n",
      "    fold  1:  [0.10270963]\n",
      "    fold  2:  [0.10267481]\n",
      "    fold  3:  [0.10263278]\n",
      "    fold  4:  [0.10262926]\n",
      "    ----\n",
      "    MEAN:     [0.10267155] + [0.00003558]\n",
      "    FULL:     [0.10267155]\n",
      "\n",
      "    Fitting on full train set...\n",
      "\n",
      "model  1:     [LogisticRegression]\n",
      "    fold  0:  [0.13848595]\n",
      "    fold  1:  [0.13708020]\n",
      "    fold  2:  [0.13653242]\n",
      "    fold  3:  [0.13645793]\n",
      "    fold  4:  [0.13602683]\n",
      "    ----\n",
      "    MEAN:     [0.13691666] + [0.00085315]\n",
      "    FULL:     [0.13691667]\n",
      "\n",
      "    Fitting on full train set...\n",
      "\n",
      "model  2:     [ExtraTreesClassifier]\n",
      "    fold  0:  [0.09909973]\n",
      "    fold  1:  [0.09911574]\n",
      "    fold  2:  [0.09883850]\n",
      "    fold  3:  [0.09881622]\n",
      "    fold  4:  [0.09890363]\n",
      "    ----\n",
      "    MEAN:     [0.09895476] + [0.00012826]\n",
      "    FULL:     [0.09895477]\n",
      "\n",
      "    Fitting on full train set...\n",
      "\n",
      "model  3:     [RandomForestClassifier]\n",
      "    fold  0:  [0.09752326]\n",
      "    fold  1:  [0.09745991]\n",
      "    fold  2:  [0.09714291]\n",
      "    fold  3:  [0.09707220]\n",
      "    fold  4:  [0.09723375]\n",
      "    ----\n",
      "    MEAN:     [0.09728641] + [0.00017632]\n",
      "    FULL:     [0.09728641]\n",
      "\n",
      "    Fitting on full train set...\n",
      "\n",
      "model  4:     [XGBClassifier]\n",
      "    fold  0:  [0.08836282]\n",
      "    fold  1:  [0.08980045]\n",
      "    fold  2:  [0.08775088]\n",
      "    fold  3:  [0.08873453]\n",
      "    fold  4:  [0.08769055]\n",
      "    ----\n",
      "    MEAN:     [0.08846785] + [0.00077152]\n",
      "    FULL:     [0.08846785]\n",
      "\n",
      "    Fitting on full train set...\n",
      "\n",
      "model  5:     [LGBMClassifier]\n",
      "    fold  0:  [0.08865378]\n",
      "    fold  1:  [0.09020448]\n",
      "    fold  2:  [0.08798007]\n",
      "    fold  3:  [0.08919978]\n",
      "    fold  4:  [0.08772995]\n",
      "    ----\n",
      "    MEAN:     [0.08875361] + [0.00088998]\n",
      "    FULL:     [0.08875361]\n",
      "\n",
      "    Fitting on full train set...\n",
      "\n",
      "model  6:     [KerasClassifier]\n",
      "    fold  0:  [6.99585523]\n",
      "    fold  1:  [0.73284775]\n",
      "    fold  2:  [33.80592865]\n",
      "    fold  3:  [25.60606763]\n",
      "    fold  4:  [10.35778525]\n",
      "    ----\n",
      "    MEAN:     [15.49969690] + [12.28064544]\n",
      "    FULL:     [15.49968656]\n",
      "\n",
      "    Fitting on full train set...\n",
      "\n",
      "Result was saved to [./[2018.04.22].[18.14.36].366676.ea6323.npy]\n",
      "Arrays:\n",
      "[2018.04.22].[09.42.52].302162.cbf835.npy\n",
      "[2018.04.22].[10.29.03].032490.133982.npy\n",
      "[2018.04.22].[18.14.36].366676.ea6323.npy\n",
      "\n",
      "Logs:\n",
      "[2018.04.22].[09.42.52].302162.cbf835.log.txt\n",
      "[2018.04.22].[10.29.03].032490.133982.log.txt\n",
      "[2018.04.22].[18.14.36].366676.ea6323.log.txt\n",
      "task:         [classification]\n",
      "n_classes:    [2]\n",
      "metric:       [log_loss]\n",
      "mode:         [oof_pred]\n",
      "n_models:     [2]\n",
      "\n",
      "model  0:     [KerasClassifier]\n",
      "    fold  0:  [8.11814072]\n",
      "    fold  1:  [33.80592865]\n",
      "    fold  2:  [33.80592865]\n",
      "    fold  3:  [28.69786868]\n",
      "    fold  4:  [11.43693098]\n",
      "    ----\n",
      "    MEAN:     [23.17295953] + [11.14474424]\n",
      "    FULL:     [23.17297247]\n",
      "\n",
      "    Fitting on full train set...\n",
      "\n",
      "model  1:     [LGBMClassifier]\n",
      "    fold  0:  [0.08835899]\n",
      "    fold  1:  [0.08920779]\n",
      "    fold  2:  [0.08768915]\n",
      "    fold  3:  [0.08840900]\n",
      "    fold  4:  [0.08775489]\n",
      "    ----\n",
      "    MEAN:     [0.08828397] + [0.00054926]\n",
      "    FULL:     [0.08828397]\n",
      "\n",
      "    Fitting on full train set...\n",
      "\n",
      "Result was saved to [./[2018.04.22].[19.01.22].007744.c45802.npy]\n",
      "Arrays:\n",
      "[2018.04.22].[09.42.52].302162.cbf835.npy\n",
      "[2018.04.22].[10.29.03].032490.133982.npy\n",
      "[2018.04.22].[18.14.36].366676.ea6323.npy\n",
      "[2018.04.22].[19.01.22].007744.c45802.npy\n",
      "\n",
      "Logs:\n",
      "[2018.04.22].[09.42.52].302162.cbf835.log.txt\n",
      "[2018.04.22].[10.29.03].032490.133982.log.txt\n",
      "[2018.04.22].[18.14.36].366676.ea6323.log.txt\n",
      "[2018.04.22].[19.01.22].007744.c45802.log.txt\n",
      "We have 2 classes and 9 models TOTAL so in resulting arrays we expect to see 18 columns.\n",
      "Loading: [2018.04.22].[09.42.52].302162.cbf835.npy\n",
      "Loading: [2018.04.22].[10.29.03].032490.133982.npy\n",
      "Loading: [2018.04.22].[18.14.36].366676.ea6323.npy\n",
      "Loading: [2018.04.22].[19.01.22].007744.c45802.npy\n",
      "\n",
      "S_train_all shape: (480248, 36)\n",
      "S_test_all shape:  (61245, 36)\n",
      "\n",
      "saving...\n"
     ]
    },
    {
     "data": {
      "text/plain": [
       "<matplotlib.axes._subplots.AxesSubplot at 0x1da52db70>"
      ]
     },
     "execution_count": 51,
     "metadata": {},
     "output_type": "execute_result"
    },
    {
     "data": {
      "image/png": "[encoded data removed]",
      "text/plain": [
       "<matplotlib.figure.Figure at 0x1da52d2b0>"
      ]
     },
     "metadata": {},
     "output_type": "display_data"
    }
   ],
   "source": [
    "train = data[data.is_trade.notnull()]\n",
    "test = data[data.is_trade.isnull()]\n",
    "\n",
    "X_train = train[features]\n",
    "y_train = train[target]\n",
    "\n",
    "X_test = test[features]\n",
    "y_test = test[target]\n",
    "\n",
    "n_classes = 2\n",
    "\n",
    "print('Train shape:', X_train.shape)\n",
    "print('Test shape: ', X_test.shape)\n",
    "\n",
    "def build_keras_model_1():\n",
    "    model = Sequential()\n",
    "    model.add(Dense(32, \n",
    "                    input_dim=X_train.shape[1], \n",
    "                    kernel_initializer='normal', \n",
    "                    activation='relu'))\n",
    "    model.add(Dense(n_classes, \n",
    "                    kernel_initializer='normal', \n",
    "                    activation='softmax'))\n",
    "    model.compile(optimizer='rmsprop', \n",
    "                  loss='categorical_crossentropy', \n",
    "                  metrics=['categorical_accuracy'])\n",
    "    return model\n",
    "\n",
    "# Caution! All models and parameter values are just \n",
    "# demonstrational and shouldn't be considered as recommended.\n",
    "models_1 = [ \n",
    "    GaussianNB(),\n",
    "    \n",
    "    LogisticRegression(random_state=0),\n",
    "    \n",
    "    ExtraTreesClassifier(random_state=0, n_jobs=-1, n_estimators=500, max_depth=3),\n",
    "                         \n",
    "    RandomForestClassifier(random_state=0, n_jobs=-1, n_estimators=500, max_depth=3),\n",
    "        \n",
    "    XGBClassifier(learning_rate=0.1, n_estimators=1000, max_depth=3),\n",
    "                  \n",
    "    LGBMClassifier(random_state=0, n_jobs=-1, learning_rate=0.1, n_estimators=1000, max_depth=3),\n",
    "                  \n",
    "    KerasClassifier(build_fn=build_keras_model_1, epochs=2, batch_size=32, verbose=0)\n",
    "]\n",
    "\n",
    "S_train_1, S_test_1 = stacking(models_1,                   # list of models\n",
    "                               X_train.fillna(0), y_train.fillna(0), X_test.fillna(0),   # data\n",
    "                               regression=False,           # classification task (if you need \n",
    "                                                           #     regression - set to True)\n",
    "                               mode='oof_pred',            # mode: oof for train set, fit on full \n",
    "                                                           #     train and predict test set once\n",
    "                               needs_proba=True,           # predict probabilities (if you need \n",
    "                                                           #     class labels - set to False) \n",
    "                               save_dir='.',               # save result and log in current dir \n",
    "                                                           #     (to disable saving - set to None)\n",
    "                               metric=log_loss,            # metric: callable\n",
    "                               n_folds=5,                  # number of folds\n",
    "                               stratified=True,            # stratified split for folds\n",
    "                               shuffle=True,               # shuffle the data\n",
    "                               random_state=0,             # ensure reproducibility\n",
    "                               verbose=2)                  # print all info\n",
    "\n",
    "names = sorted(glob('*.npy'))\n",
    "npy_1_name = names[0] # for later use\n",
    "\n",
    "print('Arrays:')\n",
    "for name in names:\n",
    "    print(name)\n",
    "\n",
    "names = sorted(glob('*.log.txt'))\n",
    "log_1_name = names[0] # for later use\n",
    "\n",
    "print('\\nLogs:')\n",
    "for name in names:\n",
    "    print(name)\n",
    "\n",
    "def build_keras_model_2():\n",
    "    model = Sequential()\n",
    "    model.add(Dense(128, \n",
    "                    input_dim=X_train.shape[1], \n",
    "                    kernel_initializer='normal', \n",
    "                    activation='relu'))\n",
    "    model.add(Dense(64, \n",
    "                    kernel_initializer='normal', \n",
    "                    activation='relu'))\n",
    "    model.add(Dense(16, \n",
    "                    kernel_initializer='normal', \n",
    "                    activation='relu'))\n",
    "    model.add(Dense(n_classes, \n",
    "                    kernel_initializer='normal', \n",
    "                    activation='softmax'))\n",
    "    model.compile(optimizer='rmsprop', \n",
    "                  loss='categorical_crossentropy', \n",
    "                  metrics=['categorical_accuracy'])\n",
    "    return model\n",
    "\n",
    "# Caution! All models and parameter values are just \n",
    "# demonstrational and shouldn't be considered as recommended.\n",
    "models_2 = [        \n",
    "    KerasClassifier(build_fn=build_keras_model_2, epochs=5, batch_size=32, verbose=0),\n",
    "    LGBMClassifier(random_state=0, n_jobs=-1, learning_rate=0.01, n_estimators=1700, max_depth=4, \n",
    "                   colsample_bytree=0.6, subsample=0.9,)\n",
    "]\n",
    "\n",
    "S_train_2, S_test_2 = stacking(models_2,                   # list of models\n",
    "                               X_train.fillna(0), y_train.fillna(0), X_test.fillna(0),   # data\n",
    "                               regression=False,           # classification task (if you need \n",
    "                                                           #     regression - set to True)\n",
    "                               mode='oof_pred',            # mode: oof for train set, fit on full \n",
    "                                                           #     train and predict test set once\n",
    "                               needs_proba=True,           # predict probabilities (if you need \n",
    "                                                           #     class labels - set to False) \n",
    "                               save_dir='.',               # save result and log in current dir \n",
    "                                                           #     (to disable saving - set to None)\n",
    "                               metric=log_loss,            # metric: callable\n",
    "                               n_folds=5,                  # number of folds\n",
    "                               stratified=True,            # stratified split for folds\n",
    "                               shuffle=True,               # shuffle the data\n",
    "                               random_state=0,             # ensure reproducibility\n",
    "                               verbose=2)                  # print all info\n",
    "\n",
    "names = sorted(glob('*.npy'))\n",
    "\n",
    "print('Arrays:')\n",
    "for name in names:\n",
    "    print(name)\n",
    "    \n",
    "names = sorted(glob('*.log.txt'))\n",
    "\n",
    "print('\\nLogs:')\n",
    "for name in names:\n",
    "    print(name)\n",
    "\n",
    "print('We have %d classes and %d models TOTAL so in resulting arrays \\\n",
    "we expect to see %d columns.' % (n_classes, len(models_1) + len(models_2), \n",
    "                                 n_classes * (len(models_1) + len(models_2))))\n",
    "\n",
    "# Create empty arrays\n",
    "S_train_all = np.zeros((X_train.shape[0], 0))\n",
    "S_test_all = np.zeros((X_test.shape[0], 0))\n",
    "\n",
    "# Load results\n",
    "for name in sorted(glob('*.npy')):\n",
    "    print('Loading: %s' % name)\n",
    "    S = np.load(name)\n",
    "    S_train_all = np.c_[S_train_all, S[0]]\n",
    "    S_test_all = np.c_[S_test_all, S[1]]\n",
    "    \n",
    "print('\\nS_train_all shape:', S_train_all.shape)\n",
    "print('S_test_all shape: ', S_test_all.shape)\n",
    "\n",
    "# Initialize 2nd level model\n",
    "model = LGBMClassifier(random_state=0, n_jobs=-1, learning_rate=0.01, n_estimators=1700, max_depth=4, \n",
    "                   colsample_bytree=0.6, subsample=0.9)\n",
    "    \n",
    "# Fit 2nd level model\n",
    "model = model.fit(S_train_all, y_train)\n",
    "\n",
    "# Predict\n",
    "test['predicted_score'] = model.predict_proba(S_test_all)[:,1]\n",
    "\n",
    "# Submit\n",
    "result = test[['instance_id', 'predicted_score']]\n",
    "result = pd.DataFrame(pd.read_csv(wd+test_file[1], sep=' ')['instance_id']).merge(result, on='instance_id', how='left').fillna(0)\n",
    "print('\\nsaving...')\n",
    "result.to_csv(wd+output_file, sep=' ', index=False)\n",
    "\n",
    "lgb.plot_importance(model, figsize=(16, 8))"
   ]
  },
  {
   "cell_type": "code",
   "execution_count": 49,
   "metadata": {
    "ExecuteTime": {
     "end_time": "2018-04-22T02:37:30.092376Z",
     "start_time": "2018-04-22T02:37:29.498166Z"
    }
   },
   "outputs": [
    {
     "data": {
      "text/plain": [
       "<matplotlib.axes._subplots.AxesSubplot at 0x1ba385ef0>"
      ]
     },
     "execution_count": 49,
     "metadata": {},
     "output_type": "execute_result"
    },
    {
     "data": {
      "image/png": "[encoded data removed]",
      "text/plain": [
       "<matplotlib.figure.Figure at 0x1b6adde10>"
      ]
     },
     "metadata": {},
     "output_type": "display_data"
    }
   ],
   "source": []
  },
  {
   "cell_type": "code",
   "execution_count": null,
   "metadata": {},
   "outputs": [],
   "source": []
  }
 ],
 "metadata": {
  "kernelspec": {
   "display_name": "Python 3",
   "language": "python",
   "name": "python3"
  },
  "language_info": {
   "codemirror_mode": {
    "name": "ipython",
    "version": 3
   },
   "file_extension": ".py",
   "mimetype": "text/x-python",
   "name": "python",
   "nbconvert_exporter": "python",
   "pygments_lexer": "ipython3",
   "version": "3.6.3"
  },
  "toc": {
   "nav_menu": {},
   "number_sections": false,
   "sideBar": true,
   "skip_h1_title": false,
   "toc_cell": false,
   "toc_position": {},
   "toc_section_display": "none",
   "toc_window_display": false
  },
  "varInspector": {
   "cols": {
    "lenName": 16,
    "lenType": 16,
    "lenVar": 40
   },
   "kernels_config": {
    "python": {
     "delete_cmd_postfix": "",
     "delete_cmd_prefix": "del ",
     "library": "var_list.py",
     "varRefreshCmd": "print(var_dic_list())"
    },
    "r": {
     "delete_cmd_postfix": ") ",
     "delete_cmd_prefix": "rm(",
     "library": "var_list.r",
     "varRefreshCmd": "cat(var_dic_list()) "
    }
   },
   "types_to_exclude": [
    "module",
    "function",
    "builtin_function_or_method",
    "instance",
    "_Feature"
   ],
   "window_display": false
  }
 },
 "nbformat": 4,
 "nbformat_minor": 2
}
