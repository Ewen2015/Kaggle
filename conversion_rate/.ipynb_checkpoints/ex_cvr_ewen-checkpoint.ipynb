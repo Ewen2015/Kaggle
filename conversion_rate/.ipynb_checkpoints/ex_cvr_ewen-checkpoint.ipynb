{
 "cells": [
  {
   "cell_type": "code",
   "execution_count": 1,
   "metadata": {
    "ExecuteTime": {
     "end_time": "2018-03-28T08:30:38.633266Z",
     "start_time": "2018-03-28T08:30:38.619440Z"
    }
   },
   "outputs": [],
   "source": [
    "def divider_generator(bin_1_s=None, bin_1_e=None, bin_2_e=None):\n",
    "    def divider(x):\n",
    "        if (x >= bin_1_s) & (x <= bin_1_e):\n",
    "            return 1\n",
    "        elif (x >= (bin_1_e+1)) & (x <= bin_2_e):\n",
    "            return 2\n",
    "        else:\n",
    "            return 3\n",
    "    return divider\n",
    "\n",
    "map_hour = divider_generator(7, 12, 20)"
   ]
  },
  {
   "cell_type": "code",
   "execution_count": 13,
   "metadata": {
    "ExecuteTime": {
     "end_time": "2018-03-28T08:45:48.367478Z",
     "start_time": "2018-03-28T08:45:48.353782Z"
    }
   },
   "outputs": [],
   "source": [
    "def binner_generator(Bin=None, Range=None, stop=None, expt=None):\n",
    "    def binner(x):\n",
    "        Bin = 0.1\n",
    "        for i in range(1, Range):\n",
    "            if (x >= stop + Bin*(i - 1)) & (x <= stop + Bin*i):\n",
    "                return i + 1  \n",
    "        if x == expt:\n",
    "            return 1\n",
    "    return binner\n",
    "\n",
    "deliver = binner_generator(0.1, 20, 4.1, -5)"
   ]
  },
  {
   "cell_type": "code",
   "execution_count": 15,
   "metadata": {
    "ExecuteTime": {
     "end_time": "2018-03-28T08:46:53.145613Z",
     "start_time": "2018-03-28T08:46:53.141109Z"
    }
   },
   "outputs": [
    {
     "data": {
      "text/plain": [
       "2"
      ]
     },
     "execution_count": 15,
     "metadata": {},
     "output_type": "execute_result"
    }
   ],
   "source": [
    "deliver(4.1)"
   ]
  },
  {
   "cell_type": "code",
   "execution_count": 10,
   "metadata": {
    "ExecuteTime": {
     "end_time": "2018-03-28T08:44:12.664726Z",
     "start_time": "2018-03-28T08:44:12.660997Z"
    }
   },
   "outputs": [],
   "source": [
    "def base_counter(data, Base, List):\n",
    "    itemCount = data.groupby([Base], as_index=False)['instance_id'].agg({Base+'_cnt': 'count'})\n",
    "    data = data.merge(itemCount, on=Base, how='lelf')\n",
    "\n",
    "    for f in List:\n",
    "        itemCount = data.groupby([Base, f], on=[Base, f], how='left')\n",
    "        data[str(f)+Base+'_prob'] = data[str(col)+Base+'_cnt'] / data[Base+'_cnt']\n",
    "\n",
    "    del data[Base+'_cnt']\n",
    "    return data"
   ]
  },
  {
   "cell_type": "code",
   "execution_count": 20,
   "metadata": {
    "ExecuteTime": {
     "end_time": "2018-03-28T14:45:07.662638Z",
     "start_time": "2018-03-28T14:45:07.658375Z"
    }
   },
   "outputs": [],
   "source": [
    "item_list = ['item_id', 'item_brand_id', 'item_city_id', 'item_price_level', 'item_sales_level', 'item_collected_level', 'item_pv_level']"
   ]
  },
  {
   "cell_type": "code",
   "execution_count": 21,
   "metadata": {
    "ExecuteTime": {
     "end_time": "2018-03-28T14:45:16.566017Z",
     "start_time": "2018-03-28T14:45:16.561084Z"
    }
   },
   "outputs": [
    {
     "data": {
      "text/plain": [
       "'item_id'"
      ]
     },
     "execution_count": 21,
     "metadata": {},
     "output_type": "execute_result"
    }
   ],
   "source": [
    "item_list[0]"
   ]
  },
  {
   "cell_type": "code",
   "execution_count": 22,
   "metadata": {
    "ExecuteTime": {
     "end_time": "2018-03-28T14:45:23.215482Z",
     "start_time": "2018-03-28T14:45:23.211198Z"
    }
   },
   "outputs": [
    {
     "data": {
      "text/plain": [
       "['item_brand_id',\n",
       " 'item_city_id',\n",
       " 'item_price_level',\n",
       " 'item_sales_level',\n",
       " 'item_collected_level',\n",
       " 'item_pv_level']"
      ]
     },
     "execution_count": 22,
     "metadata": {},
     "output_type": "execute_result"
    }
   ],
   "source": [
    "item_list[1:]"
   ]
  },
  {
   "cell_type": "code",
   "execution_count": 28,
   "metadata": {
    "ExecuteTime": {
     "end_time": "2018-03-28T15:25:50.105639Z",
     "start_time": "2018-03-28T15:25:50.101128Z"
    }
   },
   "outputs": [
    {
     "name": "stdout",
     "output_type": "stream",
     "text": [
      "0 1\n",
      "1 2\n",
      "2 3\n",
      "3 4\n",
      "4 5\n",
      "5 6\n"
     ]
    }
   ],
   "source": [
    "for i in range(len(item_list)-1):\n",
    "    print(i, i+1)"
   ]
  },
  {
   "cell_type": "code",
   "execution_count": 29,
   "metadata": {
    "ExecuteTime": {
     "end_time": "2018-03-28T15:30:33.079614Z",
     "start_time": "2018-03-28T15:30:23.944570Z"
    }
   },
   "outputs": [],
   "source": [
    "import pandas as pd\n",
    "import numpy as np\n",
    "import lightgbm as lgb\n",
    "import pandas_profiling as pp\n",
    "import matplotlib.pyplot as plt\n",
    "%matplotlib inline\n",
    "\n",
    "import gossipcat as gc\n",
    "import Conversion\n",
    "\n",
    "import warnings\n",
    "warnings.filterwarnings('ignore')\n",
    "\n",
    "wd = '/Users/ewenwang/Documents/practice_data/conversion_rate/'\n",
    "\n",
    "Data = Conversion.Data(wd, data_list=Conversion.new_data, is_all=False)\n",
    "train, test = Data.train, Data.test"
   ]
  },
  {
   "cell_type": "code",
   "execution_count": 51,
   "metadata": {
    "ExecuteTime": {
     "end_time": "2018-03-28T16:17:38.988411Z",
     "start_time": "2018-03-28T16:17:38.898875Z"
    }
   },
   "outputs": [],
   "source": [
    "def base_counter(data, Base, List, count_base=True, delete_base=True):\n",
    "    if count_base:\n",
    "        itemCount = data.groupby([Base], as_index=False)['instance_id'].agg({Base+'_cnt': 'count'})\n",
    "        data = data.merge(itemCount, on=Base, how='left')\n",
    "    for f in List:\n",
    "        itemCount = data.groupby([Base, f], as_index=False)['instance_id'].agg({str(f)+'_'+Base+'_cnt': 'count'})\n",
    "        data = data.merge(itemCount, on=[Base, f], how='left')\n",
    "        data[str(f)+'_'+Base+'_prob'] = data[str(f)+'_'+Base+'_cnt'] / data[Base+'_cnt']\n",
    "    if delete_base:\n",
    "        del data[Base+'_cnt']\n",
    "    return data\n",
    "\n",
    "user_list = ['user_id', 'user_gender_id', 'user_age_level', 'user_occupation_id', 'user_star_level']\n",
    "item_list = ['item_id', 'item_brand_id', 'item_city_id', 'item_price_level', 'item_sales_level', 'item_collected_level', 'item_pv_level']\n",
    "shop_list = ['shop_id', 'shop_review_num_level', 'shop_star_level']\n",
    "\n",
    "def UserItemShop(data):\n",
    "    for i in range(len(user_list)-1):   # user\n",
    "        data = data.pipe(base_counter, Base=user_list[i], List=user_list[i+1:])\n",
    "    for i in range(len(item_list)-1):   # item\n",
    "        data = data.pipe(base_counter, Base=item_list[i], List=item_list[i+1:])\n",
    "    for i in range(len(shop_list)-1):   # shop\n",
    "        data = data.pipe(base_counter, Base=shop_list[i], List=shop_list[i+1:])\n",
    "    for i in range(len(user_list)-1):   # user-item\n",
    "        data = data.pipe(base_counter, Base=user_list[i], List=item_list, delete_base=False)\n",
    "    for i in range(len(user_list)-1):   # user-shop\n",
    "        data = data.pipe(base_counter, Base=user_list[i], List=item_list, count_base=False)\n",
    "    for i in range(len(shop_list)-1):   # shop-item\n",
    "        data = data.pipe(base_counter, Base=shop_list[i], List=item_list)\n",
    "    return data"
   ]
  },
  {
   "cell_type": "code",
   "execution_count": 52,
   "metadata": {
    "ExecuteTime": {
     "end_time": "2018-03-28T16:17:39.464267Z",
     "start_time": "2018-03-28T16:17:39.461212Z"
    }
   },
   "outputs": [],
   "source": [
    "temp = test"
   ]
  },
  {
   "cell_type": "code",
   "execution_count": 54,
   "metadata": {
    "ExecuteTime": {
     "end_time": "2018-03-28T16:22:52.874937Z",
     "start_time": "2018-03-28T16:22:52.269977Z"
    }
   },
   "outputs": [],
   "source": [
    "for i in range(len(user_list)-1):   # user\n",
    "    test = test.pipe(base_counter, Base=user_list[i], List=user_list[i+1:])"
   ]
  },
  {
   "cell_type": "code",
   "execution_count": 61,
   "metadata": {
    "ExecuteTime": {
     "end_time": "2018-03-28T16:25:56.227565Z",
     "start_time": "2018-03-28T16:25:56.194712Z"
    }
   },
   "outputs": [
    {
     "data": {
      "text/html": [
       "<div>\n",
       "<style scoped>\n",
       "    .dataframe tbody tr th:only-of-type {\n",
       "        vertical-align: middle;\n",
       "    }\n",
       "\n",
       "    .dataframe tbody tr th {\n",
       "        vertical-align: top;\n",
       "    }\n",
       "\n",
       "    .dataframe thead th {\n",
       "        text-align: right;\n",
       "    }\n",
       "</style>\n",
       "<table border=\"1\" class=\"dataframe\">\n",
       "  <thead>\n",
       "    <tr style=\"text-align: right;\">\n",
       "      <th></th>\n",
       "      <th>instance_id</th>\n",
       "      <th>item_id</th>\n",
       "      <th>item_brand_id</th>\n",
       "      <th>item_city_id</th>\n",
       "      <th>item_price_level</th>\n",
       "      <th>item_sales_level</th>\n",
       "      <th>item_collected_level</th>\n",
       "      <th>item_pv_level</th>\n",
       "      <th>user_id</th>\n",
       "      <th>user_gender_id</th>\n",
       "      <th>...</th>\n",
       "      <th>item_city_id_user_occupation_id_cnt</th>\n",
       "      <th>item_city_id_user_occupation_id_prob</th>\n",
       "      <th>item_price_level_user_occupation_id_cnt</th>\n",
       "      <th>item_price_level_user_occupation_id_prob</th>\n",
       "      <th>item_sales_level_user_occupation_id_cnt</th>\n",
       "      <th>item_sales_level_user_occupation_id_prob</th>\n",
       "      <th>item_collected_level_user_occupation_id_cnt</th>\n",
       "      <th>item_collected_level_user_occupation_id_prob</th>\n",
       "      <th>item_pv_level_user_occupation_id_cnt</th>\n",
       "      <th>item_pv_level_user_occupation_id_prob</th>\n",
       "    </tr>\n",
       "  </thead>\n",
       "  <tbody>\n",
       "    <tr>\n",
       "      <th>0</th>\n",
       "      <td>2475218615076601065</td>\n",
       "      <td>2275895163219263378</td>\n",
       "      <td>7838285046767229711</td>\n",
       "      <td>7534238860363577544</td>\n",
       "      <td>7</td>\n",
       "      <td>6</td>\n",
       "      <td>8</td>\n",
       "      <td>14</td>\n",
       "      <td>4379490381248358680</td>\n",
       "      <td>0</td>\n",
       "      <td>...</td>\n",
       "      <td>4017</td>\n",
       "      <td>0.345133</td>\n",
       "      <td>5407</td>\n",
       "      <td>0.464559</td>\n",
       "      <td>240</td>\n",
       "      <td>0.020620</td>\n",
       "      <td>344</td>\n",
       "      <td>0.029556</td>\n",
       "      <td>621</td>\n",
       "      <td>0.053355</td>\n",
       "    </tr>\n",
       "    <tr>\n",
       "      <th>1</th>\n",
       "      <td>398316874173557226</td>\n",
       "      <td>7096238490711246967</td>\n",
       "      <td>8126195666233054089</td>\n",
       "      <td>3948283326616421003</td>\n",
       "      <td>6</td>\n",
       "      <td>9</td>\n",
       "      <td>8</td>\n",
       "      <td>16</td>\n",
       "      <td>2629129219935839101</td>\n",
       "      <td>1</td>\n",
       "      <td>...</td>\n",
       "      <td>571</td>\n",
       "      <td>0.102624</td>\n",
       "      <td>970</td>\n",
       "      <td>0.174335</td>\n",
       "      <td>449</td>\n",
       "      <td>0.080697</td>\n",
       "      <td>197</td>\n",
       "      <td>0.035406</td>\n",
       "      <td>799</td>\n",
       "      <td>0.143602</td>\n",
       "    </tr>\n",
       "    <tr>\n",
       "      <th>2</th>\n",
       "      <td>6586402638209028583</td>\n",
       "      <td>7096238490711246967</td>\n",
       "      <td>8126195666233054089</td>\n",
       "      <td>3948283326616421003</td>\n",
       "      <td>6</td>\n",
       "      <td>9</td>\n",
       "      <td>8</td>\n",
       "      <td>16</td>\n",
       "      <td>1092007111346257147</td>\n",
       "      <td>0</td>\n",
       "      <td>...</td>\n",
       "      <td>571</td>\n",
       "      <td>0.102624</td>\n",
       "      <td>970</td>\n",
       "      <td>0.174335</td>\n",
       "      <td>449</td>\n",
       "      <td>0.080697</td>\n",
       "      <td>197</td>\n",
       "      <td>0.035406</td>\n",
       "      <td>799</td>\n",
       "      <td>0.143602</td>\n",
       "    </tr>\n",
       "    <tr>\n",
       "      <th>3</th>\n",
       "      <td>1040996105851528465</td>\n",
       "      <td>7096238490711246967</td>\n",
       "      <td>8126195666233054089</td>\n",
       "      <td>3948283326616421003</td>\n",
       "      <td>6</td>\n",
       "      <td>9</td>\n",
       "      <td>8</td>\n",
       "      <td>16</td>\n",
       "      <td>5353289677517820939</td>\n",
       "      <td>1</td>\n",
       "      <td>...</td>\n",
       "      <td>571</td>\n",
       "      <td>0.102624</td>\n",
       "      <td>970</td>\n",
       "      <td>0.174335</td>\n",
       "      <td>449</td>\n",
       "      <td>0.080697</td>\n",
       "      <td>197</td>\n",
       "      <td>0.035406</td>\n",
       "      <td>799</td>\n",
       "      <td>0.143602</td>\n",
       "    </tr>\n",
       "    <tr>\n",
       "      <th>4</th>\n",
       "      <td>6316278569655873454</td>\n",
       "      <td>7096238490711246967</td>\n",
       "      <td>8126195666233054089</td>\n",
       "      <td>3948283326616421003</td>\n",
       "      <td>6</td>\n",
       "      <td>9</td>\n",
       "      <td>8</td>\n",
       "      <td>16</td>\n",
       "      <td>1098833840660870025</td>\n",
       "      <td>0</td>\n",
       "      <td>...</td>\n",
       "      <td>32</td>\n",
       "      <td>0.133333</td>\n",
       "      <td>37</td>\n",
       "      <td>0.154167</td>\n",
       "      <td>20</td>\n",
       "      <td>0.083333</td>\n",
       "      <td>12</td>\n",
       "      <td>0.050000</td>\n",
       "      <td>43</td>\n",
       "      <td>0.179167</td>\n",
       "    </tr>\n",
       "  </tbody>\n",
       "</table>\n",
       "<p>5 rows × 164 columns</p>\n",
       "</div>"
      ],
      "text/plain": [
       "           instance_id              item_id        item_brand_id  \\\n",
       "0  2475218615076601065  2275895163219263378  7838285046767229711   \n",
       "1   398316874173557226  7096238490711246967  8126195666233054089   \n",
       "2  6586402638209028583  7096238490711246967  8126195666233054089   \n",
       "3  1040996105851528465  7096238490711246967  8126195666233054089   \n",
       "4  6316278569655873454  7096238490711246967  8126195666233054089   \n",
       "\n",
       "          item_city_id  item_price_level  item_sales_level  \\\n",
       "0  7534238860363577544                 7                 6   \n",
       "1  3948283326616421003                 6                 9   \n",
       "2  3948283326616421003                 6                 9   \n",
       "3  3948283326616421003                 6                 9   \n",
       "4  3948283326616421003                 6                 9   \n",
       "\n",
       "   item_collected_level  item_pv_level              user_id  user_gender_id  \\\n",
       "0                     8             14  4379490381248358680               0   \n",
       "1                     8             16  2629129219935839101               1   \n",
       "2                     8             16  1092007111346257147               0   \n",
       "3                     8             16  5353289677517820939               1   \n",
       "4                     8             16  1098833840660870025               0   \n",
       "\n",
       "                   ...                    item_city_id_user_occupation_id_cnt  \\\n",
       "0                  ...                                                   4017   \n",
       "1                  ...                                                    571   \n",
       "2                  ...                                                    571   \n",
       "3                  ...                                                    571   \n",
       "4                  ...                                                     32   \n",
       "\n",
       "   item_city_id_user_occupation_id_prob  \\\n",
       "0                              0.345133   \n",
       "1                              0.102624   \n",
       "2                              0.102624   \n",
       "3                              0.102624   \n",
       "4                              0.133333   \n",
       "\n",
       "   item_price_level_user_occupation_id_cnt  \\\n",
       "0                                     5407   \n",
       "1                                      970   \n",
       "2                                      970   \n",
       "3                                      970   \n",
       "4                                       37   \n",
       "\n",
       "   item_price_level_user_occupation_id_prob  \\\n",
       "0                                  0.464559   \n",
       "1                                  0.174335   \n",
       "2                                  0.174335   \n",
       "3                                  0.174335   \n",
       "4                                  0.154167   \n",
       "\n",
       "   item_sales_level_user_occupation_id_cnt  \\\n",
       "0                                      240   \n",
       "1                                      449   \n",
       "2                                      449   \n",
       "3                                      449   \n",
       "4                                       20   \n",
       "\n",
       "   item_sales_level_user_occupation_id_prob  \\\n",
       "0                                  0.020620   \n",
       "1                                  0.080697   \n",
       "2                                  0.080697   \n",
       "3                                  0.080697   \n",
       "4                                  0.083333   \n",
       "\n",
       "   item_collected_level_user_occupation_id_cnt  \\\n",
       "0                                          344   \n",
       "1                                          197   \n",
       "2                                          197   \n",
       "3                                          197   \n",
       "4                                           12   \n",
       "\n",
       "   item_collected_level_user_occupation_id_prob  \\\n",
       "0                                      0.029556   \n",
       "1                                      0.035406   \n",
       "2                                      0.035406   \n",
       "3                                      0.035406   \n",
       "4                                      0.050000   \n",
       "\n",
       "   item_pv_level_user_occupation_id_cnt  item_pv_level_user_occupation_id_prob  \n",
       "0                                   621                               0.053355  \n",
       "1                                   799                               0.143602  \n",
       "2                                   799                               0.143602  \n",
       "3                                   799                               0.143602  \n",
       "4                                    43                               0.179167  \n",
       "\n",
       "[5 rows x 164 columns]"
      ]
     },
     "execution_count": 61,
     "metadata": {},
     "output_type": "execute_result"
    }
   ],
   "source": [
    "test.head()"
   ]
  },
  {
   "cell_type": "code",
   "execution_count": 56,
   "metadata": {
    "ExecuteTime": {
     "end_time": "2018-03-28T16:23:42.896602Z",
     "start_time": "2018-03-28T16:23:39.911324Z"
    }
   },
   "outputs": [],
   "source": [
    "for i in range(len(item_list)-1):   # item\n",
    "    test = test.pipe(base_counter, Base=item_list[i], List=item_list[i+1:])"
   ]
  },
  {
   "cell_type": "code",
   "execution_count": 58,
   "metadata": {
    "ExecuteTime": {
     "end_time": "2018-03-28T16:24:31.944943Z",
     "start_time": "2018-03-28T16:24:30.761437Z"
    }
   },
   "outputs": [],
   "source": [
    "for i in range(len(shop_list)-1):   # shop\n",
    "    test = test.pipe(base_counter, Base=shop_list[i], List=shop_list[i+1:])"
   ]
  },
  {
   "cell_type": "code",
   "execution_count": 60,
   "metadata": {
    "ExecuteTime": {
     "end_time": "2018-03-28T16:25:51.013611Z",
     "start_time": "2018-03-28T16:25:39.979375Z"
    }
   },
   "outputs": [],
   "source": [
    "for i in range(len(user_list)-1):   # user-item\n",
    "    test = test.pipe(base_counter, Base=user_list[i], List=item_list, delete_base=False)"
   ]
  },
  {
   "cell_type": "code",
   "execution_count": null,
   "metadata": {},
   "outputs": [],
   "source": [
    "    for i in range(len(user_list)-1):   # user-shop\n",
    "        data = data.pipe(base_counter, Base=user_list[i], List=item_list, count_base=False)"
   ]
  }
 ],
 "metadata": {
  "kernelspec": {
   "display_name": "Python 3",
   "language": "python",
   "name": "python3"
  },
  "language_info": {
   "codemirror_mode": {
    "name": "ipython",
    "version": 3
   },
   "file_extension": ".py",
   "mimetype": "text/x-python",
   "name": "python",
   "nbconvert_exporter": "python",
   "pygments_lexer": "ipython3",
   "version": "3.6.3"
  },
  "toc": {
   "nav_menu": {},
   "number_sections": true,
   "sideBar": true,
   "skip_h1_title": false,
   "toc_cell": false,
   "toc_position": {},
   "toc_section_display": "block",
   "toc_window_display": false
  },
  "varInspector": {
   "cols": {
    "lenName": 16,
    "lenType": 16,
    "lenVar": 40
   },
   "kernels_config": {
    "python": {
     "delete_cmd_postfix": "",
     "delete_cmd_prefix": "del ",
     "library": "var_list.py",
     "varRefreshCmd": "print(var_dic_list())"
    },
    "r": {
     "delete_cmd_postfix": ") ",
     "delete_cmd_prefix": "rm(",
     "library": "var_list.r",
     "varRefreshCmd": "cat(var_dic_list()) "
    }
   },
   "types_to_exclude": [
    "module",
    "function",
    "builtin_function_or_method",
    "instance",
    "_Feature"
   ],
   "window_display": false
  }
 },
 "nbformat": 4,
 "nbformat_minor": 2
}
