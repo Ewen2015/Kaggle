{
 "cells": [
  {
   "cell_type": "code",
   "execution_count": 1,
   "metadata": {
    "ExecuteTime": {
     "end_time": "2018-05-07T08:54:09.735803Z",
     "start_time": "2018-05-07T08:52:54.211955Z"
    }
   },
   "outputs": [
    {
     "name": "stdout",
     "output_type": "stream",
     "text": [
      "train shape:  (1077175, 126) \n",
      "test shape:  (519889, 125)\n"
     ]
    }
   ],
   "source": [
    "import pandas as pd\n",
    "import Submission\n",
    "import lightgbm as lgb\n",
    "%matplotlib inline\n",
    "\n",
    "import warnings\n",
    "warnings.filterwarnings('ignore')\n",
    "\n",
    "wd = ['/Users/ewenwang/Documents/practice_data/conversion_rate/', '/Users/ewenwang/Documents/GitHub/Kaggle/conversion_rate/round2/']\n",
    "file = ['round2_mat_data.txt', 'round2_mat_train_day7.txt' ,'round2_mat_test_a.txt']\n",
    "match = ['round2_match_train_day3.txt', 'round2_match_test_a.txt']\n",
    "\n",
    "train = pd.read_csv(wd[0]+file[1], sep='#', na_values=['-1', '\\\\N'])\n",
    "test = pd.read_csv(wd[0]+file[2], sep='#', na_values=['-1', '\\\\N'])\n",
    "print('train shape: ', train.shape, '\\ntest shape: ', test.shape)\n",
    "\n",
    "# data = pd.read_csv(wd[0]+file[0], sep=' ')\n",
    "# train = data[data.is_trade.notnull()]\n",
    "# test = data[data.is_trade.isnull()]\n",
    "# print('train shape: ', train.shape, '\\ntest shape: ', test.shape, '\\ndata shape: ', data.shape)"
   ]
  },
  {
   "cell_type": "code",
   "execution_count": 5,
   "metadata": {
    "ExecuteTime": {
     "end_time": "2018-05-07T12:26:42.373450Z",
     "start_time": "2018-05-07T12:22:17.243987Z"
    }
   },
   "outputs": [],
   "source": [
    "train.to_csv(wd[0]+file[1], index=False, sep=' ')\n",
    "test.to_csv(wd[0]+file[2], index=False, sep=' ')"
   ]
  },
  {
   "cell_type": "code",
   "execution_count": 2,
   "metadata": {
    "ExecuteTime": {
     "end_time": "2018-05-07T12:03:10.000898Z",
     "start_time": "2018-05-07T08:54:09.745152Z"
    },
    "scrolled": true
   },
   "outputs": [
    {
     "name": "stdout",
     "output_type": "stream",
     "text": [
      "Training LGBM model...\n",
      "[100]\tvalid_0's binary_logloss: 0.296889\n",
      "[200]\tvalid_0's binary_logloss: 0.206067\n",
      "[300]\tvalid_0's binary_logloss: 0.183825\n",
      "[400]\tvalid_0's binary_logloss: 0.178506\n",
      "[500]\tvalid_0's binary_logloss: 0.176877\n",
      "[600]\tvalid_0's binary_logloss: 0.176131\n",
      "[700]\tvalid_0's binary_logloss: 0.175685\n",
      "[800]\tvalid_0's binary_logloss: 0.175396\n",
      "[900]\tvalid_0's binary_logloss: 0.175188\n",
      "[1000]\tvalid_0's binary_logloss: 0.175031\n",
      "[1100]\tvalid_0's binary_logloss: 0.174906\n",
      "[1200]\tvalid_0's binary_logloss: 0.174804\n",
      "[1300]\tvalid_0's binary_logloss: 0.17474\n",
      "[1400]\tvalid_0's binary_logloss: 0.174681\n",
      "[1500]\tvalid_0's binary_logloss: 0.174622\n",
      "[1600]\tvalid_0's binary_logloss: 0.174582\n",
      "[1700]\tvalid_0's binary_logloss: 0.174532\n",
      "[1800]\tvalid_0's binary_logloss: 0.174491\n",
      "[1900]\tvalid_0's binary_logloss: 0.17445\n",
      "[2000]\tvalid_0's binary_logloss: 0.174416\n",
      "[2100]\tvalid_0's binary_logloss: 0.174385\n",
      "[2200]\tvalid_0's binary_logloss: 0.174358\n",
      "[2300]\tvalid_0's binary_logloss: 0.174337\n",
      "[2400]\tvalid_0's binary_logloss: 0.174315\n",
      "[2500]\tvalid_0's binary_logloss: 0.174294\n",
      "[2600]\tvalid_0's binary_logloss: 0.174276\n",
      "[2700]\tvalid_0's binary_logloss: 0.174253\n",
      "[2800]\tvalid_0's binary_logloss: 0.174232\n",
      "[2900]\tvalid_0's binary_logloss: 0.174219\n",
      "[3000]\tvalid_0's binary_logloss: 0.174209\n",
      "[3100]\tvalid_0's binary_logloss: 0.174199\n",
      "[3200]\tvalid_0's binary_logloss: 0.174185\n",
      "[3300]\tvalid_0's binary_logloss: 0.174173\n",
      "[3400]\tvalid_0's binary_logloss: 0.174157\n",
      "[3500]\tvalid_0's binary_logloss: 0.174149\n",
      "[3600]\tvalid_0's binary_logloss: 0.174138\n",
      "[3700]\tvalid_0's binary_logloss: 0.174131\n",
      "[3800]\tvalid_0's binary_logloss: 0.174124\n",
      "[3900]\tvalid_0's binary_logloss: 0.174124\n",
      "[4000]\tvalid_0's binary_logloss: 0.174111\n",
      "[4100]\tvalid_0's binary_logloss: 0.174099\n",
      "[4200]\tvalid_0's binary_logloss: 0.174091\n",
      "[4300]\tvalid_0's binary_logloss: 0.174075\n",
      "[4400]\tvalid_0's binary_logloss: 0.174071\n",
      "[4500]\tvalid_0's binary_logloss: 0.174067\n",
      "[4600]\tvalid_0's binary_logloss: 0.174056\n",
      "[4700]\tvalid_0's binary_logloss: 0.174042\n",
      "[4800]\tvalid_0's binary_logloss: 0.174041\n",
      "[4900]\tvalid_0's binary_logloss: 0.174033\n",
      "[5000]\tvalid_0's binary_logloss: 0.174025\n",
      "[5100]\tvalid_0's binary_logloss: 0.174024\n",
      "[5200]\tvalid_0's binary_logloss: 0.174016\n",
      "[5300]\tvalid_0's binary_logloss: 0.17401\n",
      "[5400]\tvalid_0's binary_logloss: 0.174009\n",
      "[5500]\tvalid_0's binary_logloss: 0.174002\n",
      "[5600]\tvalid_0's binary_logloss: 0.174\n",
      "[5700]\tvalid_0's binary_logloss: 0.173994\n",
      "[5800]\tvalid_0's binary_logloss: 0.173979\n",
      "[5900]\tvalid_0's binary_logloss: 0.173976\n",
      "[6000]\tvalid_0's binary_logloss: 0.173968\n",
      "[6100]\tvalid_0's binary_logloss: 0.173965\n",
      "[6200]\tvalid_0's binary_logloss: 0.173962\n",
      "[6300]\tvalid_0's binary_logloss: 0.173956\n",
      "[6400]\tvalid_0's binary_logloss: 0.173951\n",
      "[6500]\tvalid_0's binary_logloss: 0.173946\n",
      "[6600]\tvalid_0's binary_logloss: 0.17394\n",
      "[6700]\tvalid_0's binary_logloss: 0.173934\n",
      "[6800]\tvalid_0's binary_logloss: 0.173929\n",
      "[6900]\tvalid_0's binary_logloss: 0.173927\n",
      "[7000]\tvalid_0's binary_logloss: 0.173921\n",
      "[7100]\tvalid_0's binary_logloss: 0.173919\n",
      "[7200]\tvalid_0's binary_logloss: 0.173911\n",
      "[7300]\tvalid_0's binary_logloss: 0.173905\n",
      "[7400]\tvalid_0's binary_logloss: 0.173908\n",
      "best_iter:  7260 \n",
      "best_score:  defaultdict(<class 'dict'>, {'valid_0': {'binary_logloss': 0.1739040998559151}})\n",
      "Training LGBM model...\n",
      "predicting...\n"
     ]
    },
    {
     "ename": "TypeError",
     "evalue": "can only concatenate list (not \"str\") to list",
     "output_type": "error",
     "traceback": [
      "\u001b[0;31m---------------------------------------------------------------------------\u001b[0m",
      "\u001b[0;31mTypeError\u001b[0m                                 Traceback (most recent call last)",
      "\u001b[0;32m<ipython-input-2-e34162a56fc1>\u001b[0m in \u001b[0;36m<module>\u001b[0;34m()\u001b[0m\n\u001b[0;32m----> 1\u001b[0;31m \u001b[0mmodel\u001b[0m \u001b[0;34m=\u001b[0m \u001b[0mSubmission\u001b[0m\u001b[0;34m.\u001b[0m\u001b[0mSubmission\u001b[0m\u001b[0;34m(\u001b[0m\u001b[0mtrain\u001b[0m\u001b[0;34m=\u001b[0m\u001b[0mtrain\u001b[0m\u001b[0;34m,\u001b[0m \u001b[0mtest\u001b[0m\u001b[0;34m=\u001b[0m\u001b[0mtest\u001b[0m\u001b[0;34m,\u001b[0m \u001b[0mvalid_hour\u001b[0m\u001b[0;34m=\u001b[0m\u001b[0;36m11\u001b[0m\u001b[0;34m,\u001b[0m \u001b[0mwd\u001b[0m\u001b[0;34m=\u001b[0m\u001b[0mwd\u001b[0m\u001b[0;34m,\u001b[0m \u001b[0mtest_file\u001b[0m\u001b[0;34m=\u001b[0m\u001b[0;34m'round2_ijcai_18_test_a_20180425.txt'\u001b[0m\u001b[0;34m,\u001b[0m \u001b[0moutput_file\u001b[0m\u001b[0;34m=\u001b[0m\u001b[0;34m'results.txt'\u001b[0m\u001b[0;34m)\u001b[0m\u001b[0;34m\u001b[0m\u001b[0m\n\u001b[0m",
      "\u001b[0;32m~/Documents/GitHub/Kaggle/conversion_rate/round2/Submission.py\u001b[0m in \u001b[0;36mSubmission\u001b[0;34m(train, test, valid_hour, wd, test_file, output_file)\u001b[0m\n\u001b[1;32m     66\u001b[0m \u001b[0;34m\u001b[0m\u001b[0m\n\u001b[1;32m     67\u001b[0m     \u001b[0mresult\u001b[0m \u001b[0;34m=\u001b[0m \u001b[0mtest\u001b[0m\u001b[0;34m[\u001b[0m\u001b[0;34m[\u001b[0m\u001b[0;34m'instance_id'\u001b[0m\u001b[0;34m,\u001b[0m \u001b[0;34m'predicted_score'\u001b[0m\u001b[0;34m]\u001b[0m\u001b[0;34m]\u001b[0m\u001b[0;34m\u001b[0m\u001b[0m\n\u001b[0;32m---> 68\u001b[0;31m     \u001b[0mresult\u001b[0m \u001b[0;34m=\u001b[0m \u001b[0mpd\u001b[0m\u001b[0;34m.\u001b[0m\u001b[0mDataFrame\u001b[0m\u001b[0;34m(\u001b[0m\u001b[0mpd\u001b[0m\u001b[0;34m.\u001b[0m\u001b[0mread_csv\u001b[0m\u001b[0;34m(\u001b[0m\u001b[0mwd\u001b[0m\u001b[0;34m+\u001b[0m\u001b[0mtest_file\u001b[0m\u001b[0;34m,\u001b[0m \u001b[0msep\u001b[0m\u001b[0;34m=\u001b[0m\u001b[0;34m' '\u001b[0m\u001b[0;34m)\u001b[0m\u001b[0;34m[\u001b[0m\u001b[0;34m'instance_id'\u001b[0m\u001b[0;34m]\u001b[0m\u001b[0;34m)\u001b[0m\u001b[0;34m.\u001b[0m\u001b[0mmerge\u001b[0m\u001b[0;34m(\u001b[0m\u001b[0mresult\u001b[0m\u001b[0;34m,\u001b[0m \u001b[0mon\u001b[0m\u001b[0;34m=\u001b[0m\u001b[0;34m'instance_id'\u001b[0m\u001b[0;34m,\u001b[0m \u001b[0mhow\u001b[0m\u001b[0;34m=\u001b[0m\u001b[0;34m'left'\u001b[0m\u001b[0;34m)\u001b[0m\u001b[0;34m.\u001b[0m\u001b[0mfillna\u001b[0m\u001b[0;34m(\u001b[0m\u001b[0;36m0\u001b[0m\u001b[0;34m)\u001b[0m\u001b[0;34m\u001b[0m\u001b[0m\n\u001b[0m\u001b[1;32m     69\u001b[0m     \u001b[0mprint\u001b[0m\u001b[0;34m(\u001b[0m\u001b[0;34m'\\nsaving...'\u001b[0m\u001b[0;34m)\u001b[0m\u001b[0;34m\u001b[0m\u001b[0m\n\u001b[1;32m     70\u001b[0m     \u001b[0mresult\u001b[0m\u001b[0;34m.\u001b[0m\u001b[0mto_csv\u001b[0m\u001b[0;34m(\u001b[0m\u001b[0mwd\u001b[0m\u001b[0;34m+\u001b[0m\u001b[0moutput_file\u001b[0m\u001b[0;34m,\u001b[0m \u001b[0msep\u001b[0m\u001b[0;34m=\u001b[0m\u001b[0;34m' '\u001b[0m\u001b[0;34m,\u001b[0m \u001b[0mindex\u001b[0m\u001b[0;34m=\u001b[0m\u001b[0;32mFalse\u001b[0m\u001b[0;34m)\u001b[0m\u001b[0;34m\u001b[0m\u001b[0m\n",
      "\u001b[0;31mTypeError\u001b[0m: can only concatenate list (not \"str\") to list"
     ]
    }
   ],
   "source": [
    "model = Submission.Submission(train=train, test=test, valid_hour=11, wd=wd, test_file='round2_ijcai_18_test_a_20180425.txt', output_file='results.txt')"
   ]
  },
  {
   "cell_type": "code",
   "execution_count": 4,
   "metadata": {
    "ExecuteTime": {
     "end_time": "2018-05-07T12:18:02.431091Z",
     "start_time": "2018-05-07T12:18:02.395683Z"
    }
   },
   "outputs": [
    {
     "ename": "NameError",
     "evalue": "name 'model' is not defined",
     "output_type": "error",
     "traceback": [
      "\u001b[0;31m---------------------------------------------------------------------------\u001b[0m",
      "\u001b[0;31mNameError\u001b[0m                                 Traceback (most recent call last)",
      "\u001b[0;32m<ipython-input-4-de89fdccc828>\u001b[0m in \u001b[0;36m<module>\u001b[0;34m()\u001b[0m\n\u001b[1;32m      1\u001b[0m \u001b[0;32mimport\u001b[0m \u001b[0mlightgbm\u001b[0m \u001b[0;32mas\u001b[0m \u001b[0mlgb\u001b[0m\u001b[0;34m\u001b[0m\u001b[0m\n\u001b[1;32m      2\u001b[0m \u001b[0;34m\u001b[0m\u001b[0m\n\u001b[0;32m----> 3\u001b[0;31m \u001b[0mlgb\u001b[0m\u001b[0;34m.\u001b[0m\u001b[0mplot_importance\u001b[0m\u001b[0;34m(\u001b[0m\u001b[0mmodel\u001b[0m\u001b[0;34m,\u001b[0m \u001b[0mfigsize\u001b[0m\u001b[0;34m=\u001b[0m\u001b[0;34m(\u001b[0m\u001b[0;36m12\u001b[0m\u001b[0;34m,\u001b[0m \u001b[0;36m30\u001b[0m\u001b[0;34m)\u001b[0m\u001b[0;34m)\u001b[0m\u001b[0;34m\u001b[0m\u001b[0m\n\u001b[0m",
      "\u001b[0;31mNameError\u001b[0m: name 'model' is not defined"
     ]
    }
   ],
   "source": [
    "import lightgbm as lgb\n",
    "\n",
    "lgb.plot_importance(model, figsize=(12, 30))"
   ]
  },
  {
   "cell_type": "code",
   "execution_count": null,
   "metadata": {
    "ExecuteTime": {
     "end_time": "2018-05-07T12:03:10.005346Z",
     "start_time": "2018-05-07T08:52:54.216Z"
    }
   },
   "outputs": [],
   "source": [
    "# from tpot import TPOTClassifier\n",
    "# from sklearn.model_selection import train_test_split\n",
    "\n",
    "# target = 'is_trade'\n",
    "# drop_list = ['is_trade', 'instance_id',\n",
    "#              'item_category_list', 'item_property_list', 'predict_category_property', \n",
    "#              'context_realtime', 'context_hour', 'context_day']\n",
    "# features = [x for x in train.columns if x not in drop_list]\n",
    "\n",
    "# X_train, X_test, y_train, y_test = train_test_split(train[features], train[target], train_size=0.75, test_size=0.25, random_state=0)\n",
    "\n",
    "# tpot = TPOTClassifier(generations=5, population_size=20, verbosity=2, n_jobs=-1)\n",
    "# tpot.fit(X_train, y_train)\n",
    "# print(tpot.score(X_test, y_test))\n",
    "\n",
    "# wd = ['/Users/ewenwang/Documents/practice_data/conversion_rate/', '/Users/ewenwang/Documents/GitHub/Kaggle/conversion_rate/round2/']\n",
    "# tpot.export(wd[1]+'tpot_cvr_pipeline.py')"
   ]
  },
  {
   "cell_type": "code",
   "execution_count": null,
   "metadata": {},
   "outputs": [],
   "source": []
  }
 ],
 "metadata": {
  "kernelspec": {
   "display_name": "Python 3",
   "language": "python",
   "name": "python3"
  },
  "language_info": {
   "codemirror_mode": {
    "name": "ipython",
    "version": 3
   },
   "file_extension": ".py",
   "mimetype": "text/x-python",
   "name": "python",
   "nbconvert_exporter": "python",
   "pygments_lexer": "ipython3",
   "version": "3.6.3"
  },
  "toc": {
   "nav_menu": {},
   "number_sections": true,
   "sideBar": true,
   "skip_h1_title": false,
   "toc_cell": false,
   "toc_position": {},
   "toc_section_display": "block",
   "toc_window_display": false
  },
  "varInspector": {
   "cols": {
    "lenName": 16,
    "lenType": 16,
    "lenVar": 40
   },
   "kernels_config": {
    "python": {
     "delete_cmd_postfix": "",
     "delete_cmd_prefix": "del ",
     "library": "var_list.py",
     "varRefreshCmd": "print(var_dic_list())"
    },
    "r": {
     "delete_cmd_postfix": ") ",
     "delete_cmd_prefix": "rm(",
     "library": "var_list.r",
     "varRefreshCmd": "cat(var_dic_list()) "
    }
   },
   "types_to_exclude": [
    "module",
    "function",
    "builtin_function_or_method",
    "instance",
    "_Feature"
   ],
   "window_display": false
  }
 },
 "nbformat": 4,
 "nbformat_minor": 2
}
