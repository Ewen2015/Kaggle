{
 "cells": [
  {
   "cell_type": "code",
   "execution_count": 1,
   "metadata": {
    "ExecuteTime": {
     "end_time": "2018-07-05T09:47:24.288826Z",
     "start_time": "2018-07-05T09:47:23.049605Z"
    }
   },
   "outputs": [],
   "source": [
    "import warnings \n",
    "warnings.filterwarnings('ignore')\n",
    "import pandas as pd"
   ]
  },
  {
   "cell_type": "code",
   "execution_count": 2,
   "metadata": {
    "ExecuteTime": {
     "end_time": "2018-07-05T09:47:27.985573Z",
     "start_time": "2018-07-05T09:47:24.364891Z"
    }
   },
   "outputs": [
    {
     "data": {
      "text/html": [
       "<div>\n",
       "<style scoped>\n",
       "    .dataframe tbody tr th:only-of-type {\n",
       "        vertical-align: middle;\n",
       "    }\n",
       "\n",
       "    .dataframe tbody tr th {\n",
       "        vertical-align: top;\n",
       "    }\n",
       "\n",
       "    .dataframe thead th {\n",
       "        text-align: right;\n",
       "    }\n",
       "</style>\n",
       "<table border=\"1\" class=\"dataframe\">\n",
       "  <thead>\n",
       "    <tr style=\"text-align: right;\">\n",
       "      <th></th>\n",
       "      <th>Time</th>\n",
       "      <th>V1</th>\n",
       "      <th>V2</th>\n",
       "      <th>V3</th>\n",
       "      <th>V4</th>\n",
       "      <th>V5</th>\n",
       "      <th>V6</th>\n",
       "      <th>V7</th>\n",
       "      <th>V8</th>\n",
       "      <th>V9</th>\n",
       "      <th>...</th>\n",
       "      <th>V21</th>\n",
       "      <th>V22</th>\n",
       "      <th>V23</th>\n",
       "      <th>V24</th>\n",
       "      <th>V25</th>\n",
       "      <th>V26</th>\n",
       "      <th>V27</th>\n",
       "      <th>V28</th>\n",
       "      <th>Amount</th>\n",
       "      <th>Class</th>\n",
       "    </tr>\n",
       "  </thead>\n",
       "  <tbody>\n",
       "    <tr>\n",
       "      <th>0</th>\n",
       "      <td>0.0</td>\n",
       "      <td>-1.359807</td>\n",
       "      <td>-0.072781</td>\n",
       "      <td>2.536347</td>\n",
       "      <td>1.378155</td>\n",
       "      <td>-0.338321</td>\n",
       "      <td>0.462388</td>\n",
       "      <td>0.239599</td>\n",
       "      <td>0.098698</td>\n",
       "      <td>0.363787</td>\n",
       "      <td>...</td>\n",
       "      <td>-0.018307</td>\n",
       "      <td>0.277838</td>\n",
       "      <td>-0.110474</td>\n",
       "      <td>0.066928</td>\n",
       "      <td>0.128539</td>\n",
       "      <td>-0.189115</td>\n",
       "      <td>0.133558</td>\n",
       "      <td>-0.021053</td>\n",
       "      <td>149.62</td>\n",
       "      <td>0</td>\n",
       "    </tr>\n",
       "    <tr>\n",
       "      <th>1</th>\n",
       "      <td>0.0</td>\n",
       "      <td>1.191857</td>\n",
       "      <td>0.266151</td>\n",
       "      <td>0.166480</td>\n",
       "      <td>0.448154</td>\n",
       "      <td>0.060018</td>\n",
       "      <td>-0.082361</td>\n",
       "      <td>-0.078803</td>\n",
       "      <td>0.085102</td>\n",
       "      <td>-0.255425</td>\n",
       "      <td>...</td>\n",
       "      <td>-0.225775</td>\n",
       "      <td>-0.638672</td>\n",
       "      <td>0.101288</td>\n",
       "      <td>-0.339846</td>\n",
       "      <td>0.167170</td>\n",
       "      <td>0.125895</td>\n",
       "      <td>-0.008983</td>\n",
       "      <td>0.014724</td>\n",
       "      <td>2.69</td>\n",
       "      <td>0</td>\n",
       "    </tr>\n",
       "    <tr>\n",
       "      <th>2</th>\n",
       "      <td>1.0</td>\n",
       "      <td>-1.358354</td>\n",
       "      <td>-1.340163</td>\n",
       "      <td>1.773209</td>\n",
       "      <td>0.379780</td>\n",
       "      <td>-0.503198</td>\n",
       "      <td>1.800499</td>\n",
       "      <td>0.791461</td>\n",
       "      <td>0.247676</td>\n",
       "      <td>-1.514654</td>\n",
       "      <td>...</td>\n",
       "      <td>0.247998</td>\n",
       "      <td>0.771679</td>\n",
       "      <td>0.909412</td>\n",
       "      <td>-0.689281</td>\n",
       "      <td>-0.327642</td>\n",
       "      <td>-0.139097</td>\n",
       "      <td>-0.055353</td>\n",
       "      <td>-0.059752</td>\n",
       "      <td>378.66</td>\n",
       "      <td>0</td>\n",
       "    </tr>\n",
       "    <tr>\n",
       "      <th>3</th>\n",
       "      <td>1.0</td>\n",
       "      <td>-0.966272</td>\n",
       "      <td>-0.185226</td>\n",
       "      <td>1.792993</td>\n",
       "      <td>-0.863291</td>\n",
       "      <td>-0.010309</td>\n",
       "      <td>1.247203</td>\n",
       "      <td>0.237609</td>\n",
       "      <td>0.377436</td>\n",
       "      <td>-1.387024</td>\n",
       "      <td>...</td>\n",
       "      <td>-0.108300</td>\n",
       "      <td>0.005274</td>\n",
       "      <td>-0.190321</td>\n",
       "      <td>-1.175575</td>\n",
       "      <td>0.647376</td>\n",
       "      <td>-0.221929</td>\n",
       "      <td>0.062723</td>\n",
       "      <td>0.061458</td>\n",
       "      <td>123.50</td>\n",
       "      <td>0</td>\n",
       "    </tr>\n",
       "    <tr>\n",
       "      <th>4</th>\n",
       "      <td>2.0</td>\n",
       "      <td>-1.158233</td>\n",
       "      <td>0.877737</td>\n",
       "      <td>1.548718</td>\n",
       "      <td>0.403034</td>\n",
       "      <td>-0.407193</td>\n",
       "      <td>0.095921</td>\n",
       "      <td>0.592941</td>\n",
       "      <td>-0.270533</td>\n",
       "      <td>0.817739</td>\n",
       "      <td>...</td>\n",
       "      <td>-0.009431</td>\n",
       "      <td>0.798278</td>\n",
       "      <td>-0.137458</td>\n",
       "      <td>0.141267</td>\n",
       "      <td>-0.206010</td>\n",
       "      <td>0.502292</td>\n",
       "      <td>0.219422</td>\n",
       "      <td>0.215153</td>\n",
       "      <td>69.99</td>\n",
       "      <td>0</td>\n",
       "    </tr>\n",
       "  </tbody>\n",
       "</table>\n",
       "<p>5 rows × 31 columns</p>\n",
       "</div>"
      ],
      "text/plain": [
       "   Time        V1        V2        V3        V4        V5        V6        V7  \\\n",
       "0   0.0 -1.359807 -0.072781  2.536347  1.378155 -0.338321  0.462388  0.239599   \n",
       "1   0.0  1.191857  0.266151  0.166480  0.448154  0.060018 -0.082361 -0.078803   \n",
       "2   1.0 -1.358354 -1.340163  1.773209  0.379780 -0.503198  1.800499  0.791461   \n",
       "3   1.0 -0.966272 -0.185226  1.792993 -0.863291 -0.010309  1.247203  0.237609   \n",
       "4   2.0 -1.158233  0.877737  1.548718  0.403034 -0.407193  0.095921  0.592941   \n",
       "\n",
       "         V8        V9  ...         V21       V22       V23       V24  \\\n",
       "0  0.098698  0.363787  ...   -0.018307  0.277838 -0.110474  0.066928   \n",
       "1  0.085102 -0.255425  ...   -0.225775 -0.638672  0.101288 -0.339846   \n",
       "2  0.247676 -1.514654  ...    0.247998  0.771679  0.909412 -0.689281   \n",
       "3  0.377436 -1.387024  ...   -0.108300  0.005274 -0.190321 -1.175575   \n",
       "4 -0.270533  0.817739  ...   -0.009431  0.798278 -0.137458  0.141267   \n",
       "\n",
       "        V25       V26       V27       V28  Amount  Class  \n",
       "0  0.128539 -0.189115  0.133558 -0.021053  149.62      0  \n",
       "1  0.167170  0.125895 -0.008983  0.014724    2.69      0  \n",
       "2 -0.327642 -0.139097 -0.055353 -0.059752  378.66      0  \n",
       "3  0.647376 -0.221929  0.062723  0.061458  123.50      0  \n",
       "4 -0.206010  0.502292  0.219422  0.215153   69.99      0  \n",
       "\n",
       "[5 rows x 31 columns]"
      ]
     },
     "execution_count": 2,
     "metadata": {},
     "output_type": "execute_result"
    }
   ],
   "source": [
    "# load dataset\n",
    "\n",
    "wd = '/Users/ewenwang/Documents/practice_data/'\n",
    "file = 'credit_card.csv'\n",
    "data = pd.read_csv(wd+file)\n",
    "data.head()"
   ]
  },
  {
   "cell_type": "code",
   "execution_count": 3,
   "metadata": {
    "ExecuteTime": {
     "end_time": "2018-07-05T09:47:29.894741Z",
     "start_time": "2018-07-05T09:47:28.701374Z"
    }
   },
   "outputs": [],
   "source": [
    "from sklearn.model_selection import train_test_split\n",
    "\n",
    "train, test = train_test_split(data, test_size=0.2, random_state=0)\n",
    "\n",
    "target = 'Class'\n",
    "features = [x for x in data.columns if x not in [target]]"
   ]
  },
  {
   "cell_type": "code",
   "execution_count": 4,
   "metadata": {
    "ExecuteTime": {
     "end_time": "2018-07-05T09:47:32.146822Z",
     "start_time": "2018-07-05T09:47:31.376515Z"
    }
   },
   "outputs": [],
   "source": [
    "import Comparison\n",
    "\n",
    "com = Comparison.Comparison(train, target, features, scoring='average_precision', record_file='comparison.log')"
   ]
  },
  {
   "cell_type": "code",
   "execution_count": 5,
   "metadata": {
    "ExecuteTime": {
     "end_time": "2018-06-22T08:59:32.573674Z",
     "start_time": "2018-06-22T08:37:37.860794Z"
    }
   },
   "outputs": [
    {
     "name": "stdout",
     "output_type": "stream",
     "text": [
      "LR:\t0.567120 (0.074925)\ttime: 23.071090 s\n",
      "SDG:\t0.002740 (0.000592)\ttime: 2.821413 s\n",
      "LDA:\t0.741559 (0.087796)\ttime: 7.566606 s\n",
      "KNN:\t0.122592 (0.042042)\ttime: 17.755049 s\n",
      "NB:\t0.168716 (0.038380)\ttime: 1.882462 s\n",
      "CART:\t0.542351 (0.068355)\ttime: 134.037567 s\n",
      "RF:\t0.808768 (0.053817)\ttime: 172.475949 s\n",
      "GBDT:\t0.573530 (0.186598)\ttime: 877.359941 s\n",
      "NN:\t0.298597 (0.241850)\ttime: 77.697750 s\n"
     ]
    },
    {
     "data": {
      "text/html": [
       "<div>\n",
       "<style scoped>\n",
       "    .dataframe tbody tr th:only-of-type {\n",
       "        vertical-align: middle;\n",
       "    }\n",
       "\n",
       "    .dataframe tbody tr th {\n",
       "        vertical-align: top;\n",
       "    }\n",
       "\n",
       "    .dataframe thead th {\n",
       "        text-align: right;\n",
       "    }\n",
       "</style>\n",
       "<table border=\"1\" class=\"dataframe\">\n",
       "  <thead>\n",
       "    <tr style=\"text-align: right;\">\n",
       "      <th></th>\n",
       "      <th>model</th>\n",
       "      <th>score_mean</th>\n",
       "      <th>score_std</th>\n",
       "      <th>time</th>\n",
       "    </tr>\n",
       "  </thead>\n",
       "  <tbody>\n",
       "    <tr>\n",
       "      <th>0</th>\n",
       "      <td>LR</td>\n",
       "      <td>0.567120</td>\n",
       "      <td>0.074925</td>\n",
       "      <td>23.071090</td>\n",
       "    </tr>\n",
       "    <tr>\n",
       "      <th>1</th>\n",
       "      <td>SDG</td>\n",
       "      <td>0.002740</td>\n",
       "      <td>0.000592</td>\n",
       "      <td>2.821413</td>\n",
       "    </tr>\n",
       "    <tr>\n",
       "      <th>2</th>\n",
       "      <td>LDA</td>\n",
       "      <td>0.741559</td>\n",
       "      <td>0.087796</td>\n",
       "      <td>7.566606</td>\n",
       "    </tr>\n",
       "    <tr>\n",
       "      <th>3</th>\n",
       "      <td>KNN</td>\n",
       "      <td>0.122592</td>\n",
       "      <td>0.042042</td>\n",
       "      <td>17.755049</td>\n",
       "    </tr>\n",
       "    <tr>\n",
       "      <th>4</th>\n",
       "      <td>NB</td>\n",
       "      <td>0.168716</td>\n",
       "      <td>0.038380</td>\n",
       "      <td>1.882462</td>\n",
       "    </tr>\n",
       "    <tr>\n",
       "      <th>5</th>\n",
       "      <td>CART</td>\n",
       "      <td>0.542351</td>\n",
       "      <td>0.068355</td>\n",
       "      <td>134.037567</td>\n",
       "    </tr>\n",
       "    <tr>\n",
       "      <th>6</th>\n",
       "      <td>RF</td>\n",
       "      <td>0.808768</td>\n",
       "      <td>0.053817</td>\n",
       "      <td>172.475949</td>\n",
       "    </tr>\n",
       "    <tr>\n",
       "      <th>7</th>\n",
       "      <td>GBDT</td>\n",
       "      <td>0.573530</td>\n",
       "      <td>0.186598</td>\n",
       "      <td>877.359941</td>\n",
       "    </tr>\n",
       "    <tr>\n",
       "      <th>8</th>\n",
       "      <td>NN</td>\n",
       "      <td>0.298597</td>\n",
       "      <td>0.241850</td>\n",
       "      <td>77.697750</td>\n",
       "    </tr>\n",
       "  </tbody>\n",
       "</table>\n",
       "</div>"
      ],
      "text/plain": [
       "  model  score_mean  score_std        time\n",
       "0    LR    0.567120   0.074925   23.071090\n",
       "1   SDG    0.002740   0.000592    2.821413\n",
       "2   LDA    0.741559   0.087796    7.566606\n",
       "3   KNN    0.122592   0.042042   17.755049\n",
       "4    NB    0.168716   0.038380    1.882462\n",
       "5  CART    0.542351   0.068355  134.037567\n",
       "6    RF    0.808768   0.053817  172.475949\n",
       "7  GBDT    0.573530   0.186598  877.359941\n",
       "8    NN    0.298597   0.241850   77.697750"
      ]
     },
     "execution_count": 5,
     "metadata": {},
     "output_type": "execute_result"
    }
   ],
   "source": [
    "com.AmongModels()"
   ]
  },
  {
   "cell_type": "code",
   "execution_count": 7,
   "metadata": {
    "ExecuteTime": {
     "end_time": "2018-06-22T08:59:59.022011Z",
     "start_time": "2018-06-22T08:59:58.600583Z"
    }
   },
   "outputs": [
    {
     "data": {
      "image/png": "[encoded data removed]",
      "text/plain": [
       "<matplotlib.figure.Figure at 0x1265fa978>"
      ]
     },
     "metadata": {},
     "output_type": "display_data"
    }
   ],
   "source": [
    "com.Visual()"
   ]
  },
  {
   "cell_type": "code",
   "execution_count": 8,
   "metadata": {
    "ExecuteTime": {
     "end_time": "2018-06-22T09:00:22.652018Z",
     "start_time": "2018-06-22T09:00:22.250789Z"
    }
   },
   "outputs": [
    {
     "data": {
      "image/png": "[encoded data removed]",
      "text/plain": [
       "<matplotlib.figure.Figure at 0x1217a9828>"
      ]
     },
     "metadata": {},
     "output_type": "display_data"
    }
   ],
   "source": [
    "com.Visual(time=True)"
   ]
  },
  {
   "cell_type": "code",
   "execution_count": 5,
   "metadata": {
    "ExecuteTime": {
     "end_time": "2018-07-05T10:04:58.691975Z",
     "start_time": "2018-07-05T09:47:33.477317Z"
    },
    "scrolled": false
   },
   "outputs": [
    {
     "name": "stdout",
     "output_type": "stream",
     "text": [
      "task:         [classification]\n",
      "n_classes:    [2]\n",
      "metric:       [log_loss]\n",
      "mode:         [oof_pred]\n",
      "n_models:     [11]\n",
      "\n",
      "model  0:     [LogisticRegression]\n",
      "    fold  0:  [0.01108304]\n",
      "    fold  1:  [0.01072470]\n",
      "    fold  2:  [0.01126099]\n",
      "    fold  3:  [0.01220150]\n",
      "    fold  4:  [0.01028771]\n",
      "    ----\n",
      "    MEAN:     [0.01111159] + [0.00063867]\n",
      "    FULL:     [0.01111159]\n",
      "\n",
      "    Fitting on full train set...\n",
      "\n",
      "model  1:     [LinearDiscriminantAnalysis]\n",
      "    fold  0:  [0.01667442]\n",
      "    fold  1:  [0.01894862]\n",
      "    fold  2:  [0.02436132]\n",
      "    fold  3:  [0.02501224]\n",
      "    fold  4:  [0.01771538]\n",
      "    ----\n",
      "    MEAN:     [0.02054240] + [0.00346575]\n",
      "    FULL:     [0.02054239]\n",
      "\n",
      "    Fitting on full train set...\n",
      "\n",
      "model  2:     [KNeighborsClassifier]\n",
      "    fold  0:  [0.04011015]\n",
      "    fold  1:  [0.05041802]\n",
      "    fold  2:  [0.05029559]\n",
      "    fold  3:  [0.04813053]\n",
      "    fold  4:  [0.04379224]\n",
      "    ----\n",
      "    MEAN:     [0.04654931] + [0.00401413]\n",
      "    FULL:     [0.04654929]\n",
      "\n",
      "    Fitting on full train set...\n",
      "\n",
      "model  3:     [GaussianNB]\n",
      "    fold  0:  [0.15317895]\n",
      "    fold  1:  [0.13755884]\n",
      "    fold  2:  [0.12920651]\n",
      "    fold  3:  [0.13109884]\n",
      "    fold  4:  [0.13950896]\n",
      "    ----\n",
      "    MEAN:     [0.13811042] + [0.00845887]\n",
      "    FULL:     [0.13811048]\n",
      "\n",
      "    Fitting on full train set...\n",
      "\n",
      "model  4:     [DecisionTreeClassifier]\n",
      "    fold  0:  [0.02425369]\n",
      "    fold  1:  [0.02880189]\n",
      "    fold  2:  [0.03562340]\n",
      "    fold  3:  [0.02955984]\n",
      "    fold  4:  [0.03335029]\n",
      "    ----\n",
      "    MEAN:     [0.03031782] + [0.00392406]\n",
      "    FULL:     [0.03031778]\n",
      "\n",
      "    Fitting on full train set...\n",
      "\n",
      "model  5:     [BaggingClassifier]\n",
      "    fold  0:  [0.00981829]\n",
      "    fold  1:  [0.00925682]\n",
      "    fold  2:  [0.01005742]\n",
      "    fold  3:  [0.01586603]\n",
      "    fold  4:  [0.00702291]\n",
      "    ----\n",
      "    MEAN:     [0.01040429] + [0.00293410]\n",
      "    FULL:     [0.01040431]\n",
      "\n",
      "    Fitting on full train set...\n",
      "\n",
      "model  6:     [RandomForestClassifier]\n",
      "    fold  0:  [0.01056487]\n",
      "    fold  1:  [0.01071456]\n",
      "    fold  2:  [0.00715914]\n",
      "    fold  3:  [0.01583121]\n",
      "    fold  4:  [0.00769246]\n",
      "    ----\n",
      "    MEAN:     [0.01039245] + [0.00308084]\n",
      "    FULL:     [0.01039246]\n",
      "\n",
      "    Fitting on full train set...\n",
      "\n",
      "model  7:     [ExtraTreesClassifier]\n",
      "    fold  0:  [0.00784455]\n",
      "    fold  1:  [0.00999512]\n",
      "    fold  2:  [0.00858927]\n",
      "    fold  3:  [0.01371908]\n",
      "    fold  4:  [0.00632709]\n",
      "    ----\n",
      "    MEAN:     [0.00929502] + [0.00250890]\n",
      "    FULL:     [0.00929503]\n",
      "\n",
      "    Fitting on full train set...\n",
      "\n",
      "model  8:     [AdaBoostClassifier]\n",
      "    fold  0:  [0.02425369]\n",
      "    fold  1:  [0.03334956]\n",
      "    fold  2:  [0.03410751]\n",
      "    fold  3:  [0.03107573]\n",
      "    fold  4:  [0.03107641]\n",
      "    ----\n",
      "    MEAN:     [0.03077258] + [0.00347686]\n",
      "    FULL:     [0.03077255]\n",
      "\n",
      "    Fitting on full train set...\n",
      "\n",
      "model  9:     [GradientBoostingClassifier]\n",
      "    fold  0:  [0.01076840]\n",
      "    fold  1:  [0.01594222]\n",
      "    fold  2:  [0.01075352]\n",
      "    fold  3:  [0.01115146]\n",
      "    fold  4:  [0.01437296]\n",
      "    ----\n",
      "    MEAN:     [0.01259771] + [0.00215297]\n",
      "    FULL:     [0.01259770]\n",
      "\n",
      "    Fitting on full train set...\n",
      "\n",
      "model 10:     [MLPClassifier]\n",
      "    fold  0:  [0.03063048]\n",
      "    fold  1:  [0.06611138]\n",
      "    fold  2:  [0.06139250]\n",
      "    fold  3:  [0.05135240]\n",
      "    fold  4:  [0.05912154]\n",
      "    ----\n",
      "    MEAN:     [0.05372166] + [0.01249257]\n",
      "    FULL:     [0.05372153]\n",
      "\n",
      "    Fitting on full train set...\n",
      "\n",
      "Result was saved to [./[2018.07.05].[18.04.57].245617.c6cfdf.npy]\n",
      "\n",
      "Model Report\n",
      "Average Precision: 0.84\n",
      "             precision    recall  f1-score   support\n",
      "\n",
      "          0       1.00      1.00      1.00     56861\n",
      "          1       0.93      0.76      0.84       101\n",
      "\n",
      "avg / total       1.00      1.00      1.00     56962\n",
      "\n"
     ]
    },
    {
     "data": {
      "image/png": "[encoded data removed]",
      "text/plain": [
       "<matplotlib.figure.Figure at 0x110e85cf8>"
      ]
     },
     "metadata": {},
     "output_type": "display_data"
    }
   ],
   "source": [
    "import Stack\n",
    "\n",
    "stack = Stack.Stack(train, test, target, features)\n",
    "stack.Level_1(append_model=None)\n",
    "stack.Level_2()"
   ]
  },
  {
   "cell_type": "code",
   "execution_count": null,
   "metadata": {},
   "outputs": [],
   "source": []
  }
 ],
 "metadata": {
  "kernelspec": {
   "display_name": "Python 3",
   "language": "python",
   "name": "python3"
  },
  "language_info": {
   "codemirror_mode": {
    "name": "ipython",
    "version": 3
   },
   "file_extension": ".py",
   "mimetype": "text/x-python",
   "name": "python",
   "nbconvert_exporter": "python",
   "pygments_lexer": "ipython3",
   "version": "3.6.3"
  },
  "toc": {
   "nav_menu": {},
   "number_sections": true,
   "sideBar": true,
   "skip_h1_title": false,
   "toc_cell": false,
   "toc_position": {},
   "toc_section_display": "block",
   "toc_window_display": false
  },
  "varInspector": {
   "cols": {
    "lenName": 16,
    "lenType": 16,
    "lenVar": 40
   },
   "kernels_config": {
    "python": {
     "delete_cmd_postfix": "",
     "delete_cmd_prefix": "del ",
     "library": "var_list.py",
     "varRefreshCmd": "print(var_dic_list())"
    },
    "r": {
     "delete_cmd_postfix": ") ",
     "delete_cmd_prefix": "rm(",
     "library": "var_list.r",
     "varRefreshCmd": "cat(var_dic_list()) "
    }
   },
   "types_to_exclude": [
    "module",
    "function",
    "builtin_function_or_method",
    "instance",
    "_Feature"
   ],
   "window_display": false
  }
 },
 "nbformat": 4,
 "nbformat_minor": 2
}
