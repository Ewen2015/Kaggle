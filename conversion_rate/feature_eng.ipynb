{
 "cells": [
  {
   "cell_type": "code",
   "execution_count": 1,
   "metadata": {
    "ExecuteTime": {
     "end_time": "2018-03-08T15:22:50.847780Z",
     "start_time": "2018-03-08T15:22:40.864276Z"
    }
   },
   "outputs": [],
   "source": [
    "import os \n",
    "import pandas as pd\n",
    "import gossipcat as gc\n",
    "\n",
    "wd = '/Users/ewenwang/Documents/practice_data/conversion_rate'\n",
    "os.chdir(wd)\n",
    "\n",
    "train_file = 'round1_ijcai_18_train_20180301.txt'\n",
    "train_data = pd.read_csv(train_file, sep=' ')\n",
    "\n",
    "target = 'is_trade'\n",
    "features = [x for x in train_data.columns if x not in [target]]\n",
    "\n",
    "feature = gc.Feature(data=train_data, target=target, features=features)"
   ]
  },
  {
   "cell_type": "code",
   "execution_count": 5,
   "metadata": {
    "ExecuteTime": {
     "end_time": "2018-03-08T14:04:42.930197Z",
     "start_time": "2018-03-08T14:04:41.793534Z"
    }
   },
   "outputs": [
    {
     "name": "stdout",
     "output_type": "stream",
     "text": [
      "checking...\n",
      "no duplicated columns in first 5000 rows.\n"
     ]
    },
    {
     "data": {
      "text/plain": [
       "[]"
      ]
     },
     "execution_count": 5,
     "metadata": {},
     "output_type": "execute_result"
    }
   ],
   "source": [
    "feature.duplicated()"
   ]
  },
  {
   "cell_type": "code",
   "execution_count": 6,
   "metadata": {
    "ExecuteTime": {
     "end_time": "2018-03-08T14:05:23.994813Z",
     "start_time": "2018-03-08T14:05:21.747375Z"
    }
   },
   "outputs": [
    {
     "name": "stdout",
     "output_type": "stream",
     "text": [
      "checking...\n",
      "no duplicated columns in first 10000 rows.\n"
     ]
    },
    {
     "data": {
      "text/plain": [
       "[]"
      ]
     },
     "execution_count": 6,
     "metadata": {},
     "output_type": "execute_result"
    }
   ],
   "source": [
    "feature.duplicated(n_head=10000)"
   ]
  },
  {
   "cell_type": "code",
   "execution_count": 8,
   "metadata": {
    "ExecuteTime": {
     "end_time": "2018-03-08T14:09:06.295698Z",
     "start_time": "2018-03-08T14:09:06.132620Z"
    }
   },
   "outputs": [
    {
     "name": "stdout",
     "output_type": "stream",
     "text": [
      "classifying...\n",
      "int features count: 19 \n",
      "float features count: 4 \n",
      "object features count: 3\n"
     ]
    }
   ],
   "source": [
    "int_f, float_f, obj_f = feature.classify()"
   ]
  },
  {
   "cell_type": "code",
   "execution_count": 9,
   "metadata": {
    "ExecuteTime": {
     "end_time": "2018-03-08T14:09:42.070499Z",
     "start_time": "2018-03-08T14:09:42.066046Z"
    }
   },
   "outputs": [
    {
     "data": {
      "text/plain": [
       "['item_category_list', 'item_property_list', 'predict_category_property']"
      ]
     },
     "execution_count": 9,
     "metadata": {},
     "output_type": "execute_result"
    }
   ],
   "source": [
    "obj_f"
   ]
  },
  {
   "cell_type": "code",
   "execution_count": 10,
   "metadata": {
    "ExecuteTime": {
     "end_time": "2018-03-08T14:15:03.327976Z",
     "start_time": "2018-03-08T14:15:02.826183Z"
    }
   },
   "outputs": [],
   "source": [
    "int_p = feature.corr_pairs(col_list=int_f, gamma=.99)"
   ]
  },
  {
   "cell_type": "code",
   "execution_count": 11,
   "metadata": {
    "ExecuteTime": {
     "end_time": "2018-03-08T14:15:10.158171Z",
     "start_time": "2018-03-08T14:15:10.153567Z"
    }
   },
   "outputs": [
    {
     "data": {
      "text/plain": [
       "[('user_occupation_id', 'user_star_level'),\n",
       " ('user_age_level', 'user_occupation_id'),\n",
       " ('user_age_level', 'user_star_level')]"
      ]
     },
     "execution_count": 11,
     "metadata": {},
     "output_type": "execute_result"
    }
   ],
   "source": [
    "int_p"
   ]
  },
  {
   "cell_type": "code",
   "execution_count": 12,
   "metadata": {
    "ExecuteTime": {
     "end_time": "2018-03-08T14:20:25.839993Z",
     "start_time": "2018-03-08T14:20:23.989932Z"
    }
   },
   "outputs": [
    {
     "name": "stdout",
     "output_type": "stream",
     "text": [
      "generating...\n",
      "no features meet the requirement.\n"
     ]
    }
   ],
   "source": [
    "corr_int, corr_col = feature.generate_corr(corr_list=int_p, auc_score=0.7)"
   ]
  },
  {
   "cell_type": "code",
   "execution_count": 13,
   "metadata": {
    "ExecuteTime": {
     "end_time": "2018-03-08T14:22:10.767998Z",
     "start_time": "2018-03-08T14:22:06.775028Z"
    }
   },
   "outputs": [
    {
     "name": "stdout",
     "output_type": "stream",
     "text": [
      "checking...\n",
      "no duplicated columns in first 5000 rows.\n",
      "classifying...\n",
      "int features count: 19 \n",
      "float features count: 4 \n",
      "object features count: 3\n",
      "generating...\n",
      "no features meet the requirement.\n"
     ]
    }
   ],
   "source": [
    "corr, corr_col = feature.aut_corr()"
   ]
  },
  {
   "cell_type": "code",
   "execution_count": 2,
   "metadata": {
    "ExecuteTime": {
     "end_time": "2018-03-08T15:24:00.682448Z",
     "start_time": "2018-03-08T15:22:57.207686Z"
    }
   },
   "outputs": [
    {
     "name": "stdout",
     "output_type": "stream",
     "text": [
      "checking...\n",
      "no duplicated columns in first 5000 rows.\n",
      "classifying...\n",
      "int features count: 19 \n",
      "float features count: 4 \n",
      "object features count: 3\n",
      "\n",
      "filtering....\n",
      "Turns Left: 22\n",
      "Turns Left: 21\n",
      "Turns Left: 20\n",
      "\n",
      "Number of features left:  20\n",
      "\n",
      "combinations checking...\n",
      "Turns Remaining:  190\n",
      "Turns Remaining:  150\n",
      "Turns Remaining:  110\n",
      "Turns Remaining:  70\n",
      "Turns Remaining:  30\n",
      "no new features generated.\n"
     ]
    }
   ],
   "source": [
    "comb, comb_col = feature.aut_comb(features_max=20, kill=1, n_print=40)"
   ]
  },
  {
   "cell_type": "code",
   "execution_count": null,
   "metadata": {},
   "outputs": [],
   "source": []
  }
 ],
 "metadata": {
  "kernelspec": {
   "display_name": "Python 3",
   "language": "python",
   "name": "python3"
  },
  "language_info": {
   "codemirror_mode": {
    "name": "ipython",
    "version": 3
   },
   "file_extension": ".py",
   "mimetype": "text/x-python",
   "name": "python",
   "nbconvert_exporter": "python",
   "pygments_lexer": "ipython3",
   "version": "3.6.3"
  },
  "toc": {
   "nav_menu": {},
   "number_sections": true,
   "sideBar": true,
   "skip_h1_title": false,
   "toc_cell": false,
   "toc_position": {},
   "toc_section_display": "block",
   "toc_window_display": false
  },
  "varInspector": {
   "cols": {
    "lenName": 16,
    "lenType": 16,
    "lenVar": 40
   },
   "kernels_config": {
    "python": {
     "delete_cmd_postfix": "",
     "delete_cmd_prefix": "del ",
     "library": "var_list.py",
     "varRefreshCmd": "print(var_dic_list())"
    },
    "r": {
     "delete_cmd_postfix": ") ",
     "delete_cmd_prefix": "rm(",
     "library": "var_list.r",
     "varRefreshCmd": "cat(var_dic_list()) "
    }
   },
   "types_to_exclude": [
    "module",
    "function",
    "builtin_function_or_method",
    "instance",
    "_Feature"
   ],
   "window_display": false
  }
 },
 "nbformat": 4,
 "nbformat_minor": 2
}
