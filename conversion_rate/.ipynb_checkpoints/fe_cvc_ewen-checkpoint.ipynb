{
 "cells": [
  {
   "cell_type": "code",
   "execution_count": 1,
   "metadata": {
    "ExecuteTime": {
     "end_time": "2018-03-10T23:49:36.798612Z",
     "start_time": "2018-03-10T23:49:18.171086Z"
    }
   },
   "outputs": [],
   "source": [
    "import os \n",
    "import pandas as pd\n",
    "import gossipcat as gc\n",
    "\n",
    "wd = '/Users/ewenwang/Documents/practice_data/conversion_rate'\n",
    "os.chdir(wd)\n",
    "\n",
    "train_file = 'round1_ijcai_18_train_20180301.txt'\n",
    "train_data = pd.read_csv(train_file, sep=' ')\n",
    "\n",
    "target = 'is_trade'\n",
    "features = [x for x in train_data.columns if x not in [target]]\n",
    "\n",
    "feature = gc.Feature(data=train_data, target=target, features=features)"
   ]
  },
  {
   "cell_type": "code",
   "execution_count": 5,
   "metadata": {
    "ExecuteTime": {
     "end_time": "2018-03-08T14:04:42.930197Z",
     "start_time": "2018-03-08T14:04:41.793534Z"
    }
   },
   "outputs": [
    {
     "name": "stdout",
     "output_type": "stream",
     "text": [
      "checking...\n",
      "no duplicated columns in first 5000 rows.\n"
     ]
    },
    {
     "data": {
      "text/plain": [
       "[]"
      ]
     },
     "execution_count": 5,
     "metadata": {},
     "output_type": "execute_result"
    }
   ],
   "source": [
    "feature.duplicated()"
   ]
  },
  {
   "cell_type": "code",
   "execution_count": 6,
   "metadata": {
    "ExecuteTime": {
     "end_time": "2018-03-08T14:05:23.994813Z",
     "start_time": "2018-03-08T14:05:21.747375Z"
    }
   },
   "outputs": [
    {
     "name": "stdout",
     "output_type": "stream",
     "text": [
      "checking...\n",
      "no duplicated columns in first 10000 rows.\n"
     ]
    },
    {
     "data": {
      "text/plain": [
       "[]"
      ]
     },
     "execution_count": 6,
     "metadata": {},
     "output_type": "execute_result"
    }
   ],
   "source": [
    "feature.duplicated(n_head=10000)"
   ]
  },
  {
   "cell_type": "code",
   "execution_count": 8,
   "metadata": {
    "ExecuteTime": {
     "end_time": "2018-03-08T14:09:06.295698Z",
     "start_time": "2018-03-08T14:09:06.132620Z"
    }
   },
   "outputs": [
    {
     "name": "stdout",
     "output_type": "stream",
     "text": [
      "classifying...\n",
      "int features count: 19 \n",
      "float features count: 4 \n",
      "object features count: 3\n"
     ]
    }
   ],
   "source": [
    "int_f, float_f, obj_f = feature.classify()"
   ]
  },
  {
   "cell_type": "code",
   "execution_count": 9,
   "metadata": {
    "ExecuteTime": {
     "end_time": "2018-03-08T14:09:42.070499Z",
     "start_time": "2018-03-08T14:09:42.066046Z"
    }
   },
   "outputs": [
    {
     "data": {
      "text/plain": [
       "['item_category_list', 'item_property_list', 'predict_category_property']"
      ]
     },
     "execution_count": 9,
     "metadata": {},
     "output_type": "execute_result"
    }
   ],
   "source": [
    "obj_f"
   ]
  },
  {
   "cell_type": "code",
   "execution_count": 10,
   "metadata": {
    "ExecuteTime": {
     "end_time": "2018-03-08T14:15:03.327976Z",
     "start_time": "2018-03-08T14:15:02.826183Z"
    }
   },
   "outputs": [],
   "source": [
    "int_p = feature.corr_pairs(col_list=int_f, gamma=.99)"
   ]
  },
  {
   "cell_type": "code",
   "execution_count": 11,
   "metadata": {
    "ExecuteTime": {
     "end_time": "2018-03-08T14:15:10.158171Z",
     "start_time": "2018-03-08T14:15:10.153567Z"
    }
   },
   "outputs": [
    {
     "data": {
      "text/plain": [
       "[('user_occupation_id', 'user_star_level'),\n",
       " ('user_age_level', 'user_occupation_id'),\n",
       " ('user_age_level', 'user_star_level')]"
      ]
     },
     "execution_count": 11,
     "metadata": {},
     "output_type": "execute_result"
    }
   ],
   "source": [
    "int_p"
   ]
  },
  {
   "cell_type": "code",
   "execution_count": 12,
   "metadata": {
    "ExecuteTime": {
     "end_time": "2018-03-08T14:20:25.839993Z",
     "start_time": "2018-03-08T14:20:23.989932Z"
    }
   },
   "outputs": [
    {
     "name": "stdout",
     "output_type": "stream",
     "text": [
      "generating...\n",
      "no features meet the requirement.\n"
     ]
    }
   ],
   "source": [
    "corr_int, corr_col = feature.generate_corr(corr_list=int_p, auc_score=0.7)"
   ]
  },
  {
   "cell_type": "code",
   "execution_count": 13,
   "metadata": {
    "ExecuteTime": {
     "end_time": "2018-03-08T14:22:10.767998Z",
     "start_time": "2018-03-08T14:22:06.775028Z"
    }
   },
   "outputs": [
    {
     "name": "stdout",
     "output_type": "stream",
     "text": [
      "checking...\n",
      "no duplicated columns in first 5000 rows.\n",
      "classifying...\n",
      "int features count: 19 \n",
      "float features count: 4 \n",
      "object features count: 3\n",
      "generating...\n",
      "no features meet the requirement.\n"
     ]
    }
   ],
   "source": [
    "corr, corr_col = feature.aut_corr()"
   ]
  },
  {
   "cell_type": "code",
   "execution_count": 2,
   "metadata": {
    "ExecuteTime": {
     "end_time": "2018-03-08T15:24:00.682448Z",
     "start_time": "2018-03-08T15:22:57.207686Z"
    }
   },
   "outputs": [
    {
     "name": "stdout",
     "output_type": "stream",
     "text": [
      "checking...\n",
      "no duplicated columns in first 5000 rows.\n",
      "classifying...\n",
      "int features count: 19 \n",
      "float features count: 4 \n",
      "object features count: 3\n",
      "\n",
      "filtering....\n",
      "Turns Left: 22\n",
      "Turns Left: 21\n",
      "Turns Left: 20\n",
      "\n",
      "Number of features left:  20\n",
      "\n",
      "combinations checking...\n",
      "Turns Remaining:  190\n",
      "Turns Remaining:  150\n",
      "Turns Remaining:  110\n",
      "Turns Remaining:  70\n",
      "Turns Remaining:  30\n",
      "no new features generated.\n"
     ]
    }
   ],
   "source": [
    "comb, comb_col = feature.aut_comb(features_max=20, kill=1, n_print=40)"
   ]
  },
  {
   "cell_type": "code",
   "execution_count": 31,
   "metadata": {
    "ExecuteTime": {
     "end_time": "2018-03-11T00:19:26.134258Z",
     "start_time": "2018-03-11T00:19:25.935164Z"
    }
   },
   "outputs": [
    {
     "name": "stdout",
     "output_type": "stream",
     "text": [
      "classifying...\n",
      "int features count: 19 \n",
      "float features count: 4 \n",
      "object features count: 3\n",
      "['item_category_list', 'item_property_list', 'predict_category_property']\n"
     ]
    }
   ],
   "source": [
    "int_f, float_f, obj_f = feature.classify()\n",
    "print(obj_f )"
   ]
  },
  {
   "cell_type": "code",
   "execution_count": 2,
   "metadata": {
    "ExecuteTime": {
     "end_time": "2018-03-10T23:50:01.043238Z",
     "start_time": "2018-03-10T23:50:01.027444Z"
    }
   },
   "outputs": [
    {
     "data": {
      "text/plain": [
       "0    7908382889764677758;5799347067982556520\n",
       "1    7908382889764677758;5799347067982556520\n",
       "2    7908382889764677758;5799347067982556520\n",
       "3    7908382889764677758;5799347067982556520\n",
       "4    7908382889764677758;5799347067982556520\n",
       "Name: item_category_list, dtype: object"
      ]
     },
     "execution_count": 2,
     "metadata": {},
     "output_type": "execute_result"
    }
   ],
   "source": [
    "train_data.item_category_list.head()"
   ]
  },
  {
   "cell_type": "code",
   "execution_count": null,
   "metadata": {},
   "outputs": [],
   "source": [
    "item_cat = train_data.item_category_list"
   ]
  },
  {
   "cell_type": "code",
   "execution_count": 7,
   "metadata": {
    "ExecuteTime": {
     "end_time": "2018-03-10T23:59:58.566622Z",
     "start_time": "2018-03-10T23:57:18.501852Z"
    }
   },
   "outputs": [],
   "source": [
    "item_cat_df = item_cat.apply(lambda x: pd.Series(x.split(';')))"
   ]
  },
  {
   "cell_type": "code",
   "execution_count": 10,
   "metadata": {
    "ExecuteTime": {
     "end_time": "2018-03-11T00:01:26.961399Z",
     "start_time": "2018-03-11T00:01:26.956539Z"
    }
   },
   "outputs": [],
   "source": [
    "item_cat_df.columns = ['item_cat_1', 'item_cat_2', 'item_cat_3']"
   ]
  },
  {
   "cell_type": "code",
   "execution_count": 11,
   "metadata": {
    "ExecuteTime": {
     "end_time": "2018-03-11T00:01:42.484075Z",
     "start_time": "2018-03-11T00:01:42.471278Z"
    }
   },
   "outputs": [
    {
     "data": {
      "text/html": [
       "<div>\n",
       "<style scoped>\n",
       "    .dataframe tbody tr th:only-of-type {\n",
       "        vertical-align: middle;\n",
       "    }\n",
       "\n",
       "    .dataframe tbody tr th {\n",
       "        vertical-align: top;\n",
       "    }\n",
       "\n",
       "    .dataframe thead th {\n",
       "        text-align: right;\n",
       "    }\n",
       "</style>\n",
       "<table border=\"1\" class=\"dataframe\">\n",
       "  <thead>\n",
       "    <tr style=\"text-align: right;\">\n",
       "      <th></th>\n",
       "      <th>item_cat_1</th>\n",
       "      <th>item_cat_2</th>\n",
       "      <th>item_cat_3</th>\n",
       "    </tr>\n",
       "  </thead>\n",
       "  <tbody>\n",
       "    <tr>\n",
       "      <th>0</th>\n",
       "      <td>7908382889764677758</td>\n",
       "      <td>5799347067982556520</td>\n",
       "      <td>NaN</td>\n",
       "    </tr>\n",
       "    <tr>\n",
       "      <th>1</th>\n",
       "      <td>7908382889764677758</td>\n",
       "      <td>5799347067982556520</td>\n",
       "      <td>NaN</td>\n",
       "    </tr>\n",
       "    <tr>\n",
       "      <th>2</th>\n",
       "      <td>7908382889764677758</td>\n",
       "      <td>5799347067982556520</td>\n",
       "      <td>NaN</td>\n",
       "    </tr>\n",
       "    <tr>\n",
       "      <th>3</th>\n",
       "      <td>7908382889764677758</td>\n",
       "      <td>5799347067982556520</td>\n",
       "      <td>NaN</td>\n",
       "    </tr>\n",
       "    <tr>\n",
       "      <th>4</th>\n",
       "      <td>7908382889764677758</td>\n",
       "      <td>5799347067982556520</td>\n",
       "      <td>NaN</td>\n",
       "    </tr>\n",
       "  </tbody>\n",
       "</table>\n",
       "</div>"
      ],
      "text/plain": [
       "            item_cat_1           item_cat_2 item_cat_3\n",
       "0  7908382889764677758  5799347067982556520        NaN\n",
       "1  7908382889764677758  5799347067982556520        NaN\n",
       "2  7908382889764677758  5799347067982556520        NaN\n",
       "3  7908382889764677758  5799347067982556520        NaN\n",
       "4  7908382889764677758  5799347067982556520        NaN"
      ]
     },
     "execution_count": 11,
     "metadata": {},
     "output_type": "execute_result"
    }
   ],
   "source": [
    "item_cat_df.head()"
   ]
  },
  {
   "cell_type": "code",
   "execution_count": 79,
   "metadata": {
    "ExecuteTime": {
     "end_time": "2018-03-11T01:25:34.691250Z",
     "start_time": "2018-03-11T01:25:34.302476Z"
    }
   },
   "outputs": [
    {
     "name": "stdout",
     "output_type": "stream",
     "text": [
      "1\n",
      "['7908382889764677758']\n",
      "13\n",
      "['5799347067982556520' '8277336076276184272' '5755694407684602296'\n",
      " '4879721024980945592' '509660095530134768' '2436715285093487584'\n",
      " '7258015885215914736' '8710739180200009128' '2011981573061447208'\n",
      " '22731265849056483' '3203673979138763595' '2642175453151805566'\n",
      " '1968056100269760729']\n",
      "3\n",
      "[nan '8868887661186419229' '6233669177166538628']\n"
     ]
    }
   ],
   "source": [
    "for col in item_cat_df.columns:\n",
    "    print(len(item_cat_df[col].unique()))\n",
    "    print(item_cat_df[col].unique())"
   ]
  },
  {
   "cell_type": "code",
   "execution_count": 32,
   "metadata": {
    "ExecuteTime": {
     "end_time": "2018-03-11T00:19:39.745622Z",
     "start_time": "2018-03-11T00:19:39.739196Z"
    }
   },
   "outputs": [
    {
     "data": {
      "text/plain": [
       "0    2072967855524022579;5131280576272319091;263639...\n",
       "1    2072967855524022579;5131280576272319091;263639...\n",
       "2    2072967855524022579;5131280576272319091;263639...\n",
       "3    2072967855524022579;5131280576272319091;263639...\n",
       "4    2072967855524022579;5131280576272319091;263639...\n",
       "Name: item_property_list, dtype: object"
      ]
     },
     "execution_count": 32,
     "metadata": {},
     "output_type": "execute_result"
    }
   ],
   "source": [
    "train_data.item_property_list.head()"
   ]
  },
  {
   "cell_type": "code",
   "execution_count": 34,
   "metadata": {
    "ExecuteTime": {
     "end_time": "2018-03-11T00:27:36.245844Z",
     "start_time": "2018-03-11T00:24:00.944112Z"
    }
   },
   "outputs": [
    {
     "data": {
      "text/html": [
       "<div>\n",
       "<style scoped>\n",
       "    .dataframe tbody tr th:only-of-type {\n",
       "        vertical-align: middle;\n",
       "    }\n",
       "\n",
       "    .dataframe tbody tr th {\n",
       "        vertical-align: top;\n",
       "    }\n",
       "\n",
       "    .dataframe thead th {\n",
       "        text-align: right;\n",
       "    }\n",
       "</style>\n",
       "<table border=\"1\" class=\"dataframe\">\n",
       "  <thead>\n",
       "    <tr style=\"text-align: right;\">\n",
       "      <th></th>\n",
       "      <th>0</th>\n",
       "      <th>1</th>\n",
       "      <th>2</th>\n",
       "      <th>3</th>\n",
       "      <th>4</th>\n",
       "      <th>5</th>\n",
       "      <th>6</th>\n",
       "      <th>7</th>\n",
       "      <th>8</th>\n",
       "      <th>9</th>\n",
       "      <th>...</th>\n",
       "      <th>90</th>\n",
       "      <th>91</th>\n",
       "      <th>92</th>\n",
       "      <th>93</th>\n",
       "      <th>94</th>\n",
       "      <th>95</th>\n",
       "      <th>96</th>\n",
       "      <th>97</th>\n",
       "      <th>98</th>\n",
       "      <th>99</th>\n",
       "    </tr>\n",
       "  </thead>\n",
       "  <tbody>\n",
       "    <tr>\n",
       "      <th>0</th>\n",
       "      <td>2072967855524022579</td>\n",
       "      <td>5131280576272319091</td>\n",
       "      <td>2636395404473730413</td>\n",
       "      <td>8070395809181082496</td>\n",
       "      <td>6434796455031995313</td>\n",
       "      <td>7839592306500064003</td>\n",
       "      <td>3657871859501171040</td>\n",
       "      <td>1782439090818545916</td>\n",
       "      <td>6936314038707413523</td>\n",
       "      <td>5117290135792467652</td>\n",
       "      <td>...</td>\n",
       "      <td>NaN</td>\n",
       "      <td>NaN</td>\n",
       "      <td>NaN</td>\n",
       "      <td>NaN</td>\n",
       "      <td>NaN</td>\n",
       "      <td>NaN</td>\n",
       "      <td>NaN</td>\n",
       "      <td>NaN</td>\n",
       "      <td>NaN</td>\n",
       "      <td>NaN</td>\n",
       "    </tr>\n",
       "    <tr>\n",
       "      <th>1</th>\n",
       "      <td>2072967855524022579</td>\n",
       "      <td>5131280576272319091</td>\n",
       "      <td>2636395404473730413</td>\n",
       "      <td>8070395809181082496</td>\n",
       "      <td>6434796455031995313</td>\n",
       "      <td>7839592306500064003</td>\n",
       "      <td>3657871859501171040</td>\n",
       "      <td>1782439090818545916</td>\n",
       "      <td>6936314038707413523</td>\n",
       "      <td>5117290135792467652</td>\n",
       "      <td>...</td>\n",
       "      <td>NaN</td>\n",
       "      <td>NaN</td>\n",
       "      <td>NaN</td>\n",
       "      <td>NaN</td>\n",
       "      <td>NaN</td>\n",
       "      <td>NaN</td>\n",
       "      <td>NaN</td>\n",
       "      <td>NaN</td>\n",
       "      <td>NaN</td>\n",
       "      <td>NaN</td>\n",
       "    </tr>\n",
       "    <tr>\n",
       "      <th>2</th>\n",
       "      <td>2072967855524022579</td>\n",
       "      <td>5131280576272319091</td>\n",
       "      <td>2636395404473730413</td>\n",
       "      <td>8070395809181082496</td>\n",
       "      <td>6434796455031995313</td>\n",
       "      <td>7839592306500064003</td>\n",
       "      <td>3657871859501171040</td>\n",
       "      <td>1782439090818545916</td>\n",
       "      <td>6936314038707413523</td>\n",
       "      <td>5117290135792467652</td>\n",
       "      <td>...</td>\n",
       "      <td>NaN</td>\n",
       "      <td>NaN</td>\n",
       "      <td>NaN</td>\n",
       "      <td>NaN</td>\n",
       "      <td>NaN</td>\n",
       "      <td>NaN</td>\n",
       "      <td>NaN</td>\n",
       "      <td>NaN</td>\n",
       "      <td>NaN</td>\n",
       "      <td>NaN</td>\n",
       "    </tr>\n",
       "    <tr>\n",
       "      <th>3</th>\n",
       "      <td>2072967855524022579</td>\n",
       "      <td>5131280576272319091</td>\n",
       "      <td>2636395404473730413</td>\n",
       "      <td>8070395809181082496</td>\n",
       "      <td>6434796455031995313</td>\n",
       "      <td>7839592306500064003</td>\n",
       "      <td>3657871859501171040</td>\n",
       "      <td>1782439090818545916</td>\n",
       "      <td>6936314038707413523</td>\n",
       "      <td>5117290135792467652</td>\n",
       "      <td>...</td>\n",
       "      <td>NaN</td>\n",
       "      <td>NaN</td>\n",
       "      <td>NaN</td>\n",
       "      <td>NaN</td>\n",
       "      <td>NaN</td>\n",
       "      <td>NaN</td>\n",
       "      <td>NaN</td>\n",
       "      <td>NaN</td>\n",
       "      <td>NaN</td>\n",
       "      <td>NaN</td>\n",
       "    </tr>\n",
       "    <tr>\n",
       "      <th>4</th>\n",
       "      <td>2072967855524022579</td>\n",
       "      <td>5131280576272319091</td>\n",
       "      <td>2636395404473730413</td>\n",
       "      <td>8070395809181082496</td>\n",
       "      <td>6434796455031995313</td>\n",
       "      <td>7839592306500064003</td>\n",
       "      <td>3657871859501171040</td>\n",
       "      <td>1782439090818545916</td>\n",
       "      <td>6936314038707413523</td>\n",
       "      <td>5117290135792467652</td>\n",
       "      <td>...</td>\n",
       "      <td>NaN</td>\n",
       "      <td>NaN</td>\n",
       "      <td>NaN</td>\n",
       "      <td>NaN</td>\n",
       "      <td>NaN</td>\n",
       "      <td>NaN</td>\n",
       "      <td>NaN</td>\n",
       "      <td>NaN</td>\n",
       "      <td>NaN</td>\n",
       "      <td>NaN</td>\n",
       "    </tr>\n",
       "  </tbody>\n",
       "</table>\n",
       "<p>5 rows × 100 columns</p>\n",
       "</div>"
      ],
      "text/plain": [
       "                    0                    1                    2   \\\n",
       "0  2072967855524022579  5131280576272319091  2636395404473730413   \n",
       "1  2072967855524022579  5131280576272319091  2636395404473730413   \n",
       "2  2072967855524022579  5131280576272319091  2636395404473730413   \n",
       "3  2072967855524022579  5131280576272319091  2636395404473730413   \n",
       "4  2072967855524022579  5131280576272319091  2636395404473730413   \n",
       "\n",
       "                    3                    4                    5   \\\n",
       "0  8070395809181082496  6434796455031995313  7839592306500064003   \n",
       "1  8070395809181082496  6434796455031995313  7839592306500064003   \n",
       "2  8070395809181082496  6434796455031995313  7839592306500064003   \n",
       "3  8070395809181082496  6434796455031995313  7839592306500064003   \n",
       "4  8070395809181082496  6434796455031995313  7839592306500064003   \n",
       "\n",
       "                    6                    7                    8   \\\n",
       "0  3657871859501171040  1782439090818545916  6936314038707413523   \n",
       "1  3657871859501171040  1782439090818545916  6936314038707413523   \n",
       "2  3657871859501171040  1782439090818545916  6936314038707413523   \n",
       "3  3657871859501171040  1782439090818545916  6936314038707413523   \n",
       "4  3657871859501171040  1782439090818545916  6936314038707413523   \n",
       "\n",
       "                    9  ...    90   91   92   93   94   95   96   97   98   99  \n",
       "0  5117290135792467652 ...   NaN  NaN  NaN  NaN  NaN  NaN  NaN  NaN  NaN  NaN  \n",
       "1  5117290135792467652 ...   NaN  NaN  NaN  NaN  NaN  NaN  NaN  NaN  NaN  NaN  \n",
       "2  5117290135792467652 ...   NaN  NaN  NaN  NaN  NaN  NaN  NaN  NaN  NaN  NaN  \n",
       "3  5117290135792467652 ...   NaN  NaN  NaN  NaN  NaN  NaN  NaN  NaN  NaN  NaN  \n",
       "4  5117290135792467652 ...   NaN  NaN  NaN  NaN  NaN  NaN  NaN  NaN  NaN  NaN  \n",
       "\n",
       "[5 rows x 100 columns]"
      ]
     },
     "execution_count": 34,
     "metadata": {},
     "output_type": "execute_result"
    }
   ],
   "source": [
    "item_prop = train_data.item_property_list\n",
    "item_prop_df = item_prop.apply(lambda x: pd.Series(x.split(';')))\n",
    "item_prop_df.head()"
   ]
  },
  {
   "cell_type": "code",
   "execution_count": 78,
   "metadata": {
    "ExecuteTime": {
     "end_time": "2018-03-11T01:24:34.246752Z",
     "start_time": "2018-03-11T01:24:27.029431Z"
    },
    "scrolled": true
   },
   "outputs": [
    {
     "name": "stdout",
     "output_type": "stream",
     "text": [
      "217\n",
      "125\n",
      "195\n",
      "275\n",
      "381\n",
      "494\n",
      "692\n",
      "932\n",
      "1260\n",
      "1671\n",
      "2067\n",
      "2438\n",
      "2827\n",
      "3129\n",
      "3369\n",
      "3594\n",
      "3845\n",
      "4041\n",
      "4114\n",
      "4217\n",
      "4278\n",
      "4281\n",
      "4301\n",
      "4247\n",
      "4211\n",
      "4079\n",
      "3844\n",
      "3641\n",
      "3423\n",
      "3192\n",
      "2930\n",
      "2641\n",
      "2433\n",
      "2167\n",
      "1903\n",
      "1694\n",
      "1497\n",
      "1338\n",
      "1192\n",
      "1049\n",
      "909\n",
      "799\n",
      "682\n",
      "616\n",
      "539\n",
      "461\n",
      "394\n",
      "331\n",
      "282\n",
      "236\n",
      "202\n",
      "171\n",
      "155\n",
      "139\n",
      "119\n",
      "106\n",
      "99\n",
      "87\n",
      "83\n",
      "65\n",
      "55\n",
      "52\n",
      "45\n",
      "37\n",
      "35\n",
      "31\n",
      "33\n",
      "27\n",
      "23\n",
      "23\n",
      "21\n",
      "19\n",
      "20\n",
      "19\n",
      "18\n",
      "17\n",
      "16\n",
      "16\n",
      "16\n",
      "17\n",
      "18\n",
      "17\n",
      "13\n",
      "13\n",
      "14\n",
      "13\n",
      "13\n",
      "13\n",
      "12\n",
      "11\n",
      "11\n",
      "9\n",
      "9\n",
      "7\n",
      "7\n",
      "7\n",
      "7\n",
      "6\n",
      "5\n",
      "4\n"
     ]
    }
   ],
   "source": [
    "for col in item_prop_df.columns:\n",
    "    print(len(item_prop_df[col].unique()))"
   ]
  },
  {
   "cell_type": "code",
   "execution_count": 90,
   "metadata": {
    "ExecuteTime": {
     "end_time": "2018-03-11T01:32:07.736493Z",
     "start_time": "2018-03-11T01:32:07.727427Z"
    },
    "scrolled": true
   },
   "outputs": [
    {
     "name": "stdout",
     "output_type": "stream",
     "text": [
      "2072967855524022579\n",
      "5131280576272319091\n",
      "2636395404473730413\n",
      "8070395809181082496\n",
      "6434796455031995313\n",
      "7839592306500064003\n",
      "3657871859501171040\n",
      "1782439090818545916\n",
      "6936314038707413523\n",
      "5117290135792467652\n",
      "720840888466250585\n",
      "8838717711606756251\n",
      "9172976955054793469\n",
      "6296485275518770064\n",
      "8154150695030794787\n",
      "8199832121759092112\n",
      "773321667872991333\n",
      "7270669313837600482\n",
      "3408398779125901630\n",
      "4359277201620147874\n",
      "448184584262668803\n",
      "9029095803741432716\n",
      "nan\n",
      "nan\n",
      "nan\n",
      "nan\n",
      "nan\n",
      "nan\n",
      "nan\n",
      "nan\n",
      "nan\n",
      "nan\n",
      "nan\n",
      "nan\n",
      "nan\n",
      "nan\n",
      "nan\n",
      "nan\n",
      "nan\n",
      "nan\n",
      "nan\n",
      "nan\n",
      "nan\n",
      "nan\n",
      "nan\n",
      "nan\n",
      "nan\n",
      "nan\n",
      "nan\n",
      "nan\n",
      "nan\n",
      "nan\n",
      "nan\n",
      "nan\n",
      "nan\n",
      "nan\n",
      "nan\n",
      "nan\n",
      "nan\n",
      "nan\n",
      "nan\n",
      "nan\n",
      "nan\n",
      "nan\n",
      "nan\n",
      "nan\n",
      "nan\n",
      "nan\n",
      "nan\n",
      "nan\n",
      "nan\n",
      "nan\n",
      "nan\n",
      "nan\n",
      "nan\n",
      "nan\n",
      "nan\n",
      "nan\n",
      "nan\n",
      "nan\n",
      "nan\n",
      "nan\n",
      "nan\n",
      "nan\n",
      "nan\n",
      "nan\n",
      "nan\n",
      "nan\n",
      "nan\n",
      "nan\n",
      "nan\n",
      "nan\n",
      "nan\n",
      "nan\n",
      "nan\n",
      "nan\n",
      "nan\n",
      "nan\n",
      "nan\n",
      "nan\n"
     ]
    }
   ],
   "source": [
    "for i in item_prop_df.values[0,:]: \n",
    "    print(i)"
   ]
  },
  {
   "cell_type": "code",
   "execution_count": 37,
   "metadata": {
    "ExecuteTime": {
     "end_time": "2018-03-11T00:37:49.368559Z",
     "start_time": "2018-03-11T00:35:01.488481Z"
    }
   },
   "outputs": [
    {
     "data": {
      "text/html": [
       "<div>\n",
       "<style scoped>\n",
       "    .dataframe tbody tr th:only-of-type {\n",
       "        vertical-align: middle;\n",
       "    }\n",
       "\n",
       "    .dataframe tbody tr th {\n",
       "        vertical-align: top;\n",
       "    }\n",
       "\n",
       "    .dataframe thead th {\n",
       "        text-align: right;\n",
       "    }\n",
       "</style>\n",
       "<table border=\"1\" class=\"dataframe\">\n",
       "  <thead>\n",
       "    <tr style=\"text-align: right;\">\n",
       "      <th></th>\n",
       "      <th>0</th>\n",
       "      <th>1</th>\n",
       "      <th>2</th>\n",
       "      <th>3</th>\n",
       "      <th>4</th>\n",
       "      <th>5</th>\n",
       "      <th>6</th>\n",
       "      <th>7</th>\n",
       "      <th>8</th>\n",
       "      <th>9</th>\n",
       "      <th>10</th>\n",
       "      <th>11</th>\n",
       "      <th>12</th>\n",
       "      <th>13</th>\n",
       "    </tr>\n",
       "  </thead>\n",
       "  <tbody>\n",
       "    <tr>\n",
       "      <th>0</th>\n",
       "      <td>5799347067982556520:-1</td>\n",
       "      <td>509660095530134768:-1</td>\n",
       "      <td>5755694407684602296:-1</td>\n",
       "      <td>8277336076276184272:9148482949976129397</td>\n",
       "      <td>7908382889764677758:-1</td>\n",
       "      <td>NaN</td>\n",
       "      <td>NaN</td>\n",
       "      <td>NaN</td>\n",
       "      <td>NaN</td>\n",
       "      <td>NaN</td>\n",
       "      <td>NaN</td>\n",
       "      <td>NaN</td>\n",
       "      <td>NaN</td>\n",
       "      <td>NaN</td>\n",
       "    </tr>\n",
       "    <tr>\n",
       "      <th>1</th>\n",
       "      <td>5799347067982556520:9172976955054793469</td>\n",
       "      <td>7908382889764677758:1787573075717641245,917297...</td>\n",
       "      <td>NaN</td>\n",
       "      <td>NaN</td>\n",
       "      <td>NaN</td>\n",
       "      <td>NaN</td>\n",
       "      <td>NaN</td>\n",
       "      <td>NaN</td>\n",
       "      <td>NaN</td>\n",
       "      <td>NaN</td>\n",
       "      <td>NaN</td>\n",
       "      <td>NaN</td>\n",
       "      <td>NaN</td>\n",
       "      <td>NaN</td>\n",
       "    </tr>\n",
       "    <tr>\n",
       "      <th>2</th>\n",
       "      <td>5799347067982556520:5131280576272319091</td>\n",
       "      <td>7258015885215914736:5131280576272319091</td>\n",
       "      <td>7908382889764677758:5131280576272319091</td>\n",
       "      <td>NaN</td>\n",
       "      <td>NaN</td>\n",
       "      <td>NaN</td>\n",
       "      <td>NaN</td>\n",
       "      <td>NaN</td>\n",
       "      <td>NaN</td>\n",
       "      <td>NaN</td>\n",
       "      <td>NaN</td>\n",
       "      <td>NaN</td>\n",
       "      <td>NaN</td>\n",
       "      <td>NaN</td>\n",
       "    </tr>\n",
       "    <tr>\n",
       "      <th>3</th>\n",
       "      <td>509660095530134768:-1</td>\n",
       "      <td>5799347067982556520:-1</td>\n",
       "      <td>7908382889764677758:1787573075717641245,914848...</td>\n",
       "      <td>7492960463130085436:9148482949976129397</td>\n",
       "      <td>1950314698730389427:8218883658021718578,664100...</td>\n",
       "      <td>NaN</td>\n",
       "      <td>NaN</td>\n",
       "      <td>NaN</td>\n",
       "      <td>NaN</td>\n",
       "      <td>NaN</td>\n",
       "      <td>NaN</td>\n",
       "      <td>NaN</td>\n",
       "      <td>NaN</td>\n",
       "      <td>NaN</td>\n",
       "    </tr>\n",
       "    <tr>\n",
       "      <th>4</th>\n",
       "      <td>5799347067982556520:9172976955054793469</td>\n",
       "      <td>7908382889764677758:9172976955054793469</td>\n",
       "      <td>NaN</td>\n",
       "      <td>NaN</td>\n",
       "      <td>NaN</td>\n",
       "      <td>NaN</td>\n",
       "      <td>NaN</td>\n",
       "      <td>NaN</td>\n",
       "      <td>NaN</td>\n",
       "      <td>NaN</td>\n",
       "      <td>NaN</td>\n",
       "      <td>NaN</td>\n",
       "      <td>NaN</td>\n",
       "      <td>NaN</td>\n",
       "    </tr>\n",
       "  </tbody>\n",
       "</table>\n",
       "</div>"
      ],
      "text/plain": [
       "                                        0   \\\n",
       "0                   5799347067982556520:-1   \n",
       "1  5799347067982556520:9172976955054793469   \n",
       "2  5799347067982556520:5131280576272319091   \n",
       "3                    509660095530134768:-1   \n",
       "4  5799347067982556520:9172976955054793469   \n",
       "\n",
       "                                                  1   \\\n",
       "0                              509660095530134768:-1   \n",
       "1  7908382889764677758:1787573075717641245,917297...   \n",
       "2            7258015885215914736:5131280576272319091   \n",
       "3                             5799347067982556520:-1   \n",
       "4            7908382889764677758:9172976955054793469   \n",
       "\n",
       "                                                  2   \\\n",
       "0                             5755694407684602296:-1   \n",
       "1                                                NaN   \n",
       "2            7908382889764677758:5131280576272319091   \n",
       "3  7908382889764677758:1787573075717641245,914848...   \n",
       "4                                                NaN   \n",
       "\n",
       "                                        3   \\\n",
       "0  8277336076276184272:9148482949976129397   \n",
       "1                                      NaN   \n",
       "2                                      NaN   \n",
       "3  7492960463130085436:9148482949976129397   \n",
       "4                                      NaN   \n",
       "\n",
       "                                                  4    5    6    7    8    9   \\\n",
       "0                             7908382889764677758:-1  NaN  NaN  NaN  NaN  NaN   \n",
       "1                                                NaN  NaN  NaN  NaN  NaN  NaN   \n",
       "2                                                NaN  NaN  NaN  NaN  NaN  NaN   \n",
       "3  1950314698730389427:8218883658021718578,664100...  NaN  NaN  NaN  NaN  NaN   \n",
       "4                                                NaN  NaN  NaN  NaN  NaN  NaN   \n",
       "\n",
       "    10   11   12   13  \n",
       "0  NaN  NaN  NaN  NaN  \n",
       "1  NaN  NaN  NaN  NaN  \n",
       "2  NaN  NaN  NaN  NaN  \n",
       "3  NaN  NaN  NaN  NaN  \n",
       "4  NaN  NaN  NaN  NaN  "
      ]
     },
     "execution_count": 37,
     "metadata": {},
     "output_type": "execute_result"
    }
   ],
   "source": [
    "train_data.predict_category_property.head()\n",
    "\n",
    "pred_cat_prop = train_data.predict_category_property\n",
    "pred_cat_prop_df = pred_cat_prop.apply(lambda x: pd.Series(x.split(';')))\n",
    "\n",
    "pred_cat_prop_df.head()\n",
    "\n",
    "# for col in pred_cat_prop_df.columns:\n",
    "#     print(pred_cat_prop_df[col].unique())"
   ]
  },
  {
   "cell_type": "code",
   "execution_count": 39,
   "metadata": {
    "ExecuteTime": {
     "end_time": "2018-03-11T00:40:36.402093Z",
     "start_time": "2018-03-11T00:40:36.394913Z"
    }
   },
   "outputs": [
    {
     "data": {
      "text/plain": [
       "0                     5799347067982556520:-1\n",
       "1    5799347067982556520:9172976955054793469\n",
       "2    5799347067982556520:5131280576272319091\n",
       "3                      509660095530134768:-1\n",
       "4    5799347067982556520:9172976955054793469\n",
       "Name: 0, dtype: object"
      ]
     },
     "execution_count": 39,
     "metadata": {},
     "output_type": "execute_result"
    }
   ],
   "source": [
    "pred_cat_prop_df[0].head()"
   ]
  },
  {
   "cell_type": "code",
   "execution_count": 41,
   "metadata": {
    "ExecuteTime": {
     "end_time": "2018-03-11T00:44:27.740178Z",
     "start_time": "2018-03-11T00:42:22.234835Z"
    }
   },
   "outputs": [],
   "source": [
    "pcp_0_df = pred_cat_prop_df[0].apply(lambda x: pd.Series(x.split(':')))"
   ]
  },
  {
   "cell_type": "code",
   "execution_count": 66,
   "metadata": {
    "ExecuteTime": {
     "end_time": "2018-03-11T01:13:50.470896Z",
     "start_time": "2018-03-11T01:13:49.781673Z"
    }
   },
   "outputs": [
    {
     "data": {
      "text/html": [
       "<div>\n",
       "<style scoped>\n",
       "    .dataframe tbody tr th:only-of-type {\n",
       "        vertical-align: middle;\n",
       "    }\n",
       "\n",
       "    .dataframe tbody tr th {\n",
       "        vertical-align: top;\n",
       "    }\n",
       "\n",
       "    .dataframe thead th {\n",
       "        text-align: right;\n",
       "    }\n",
       "</style>\n",
       "<table border=\"1\" class=\"dataframe\">\n",
       "  <thead>\n",
       "    <tr style=\"text-align: right;\">\n",
       "      <th></th>\n",
       "      <th>0</th>\n",
       "      <th>1</th>\n",
       "    </tr>\n",
       "  </thead>\n",
       "  <tbody>\n",
       "    <tr>\n",
       "      <th>0</th>\n",
       "      <td>5799347067982556520</td>\n",
       "      <td>nan</td>\n",
       "    </tr>\n",
       "    <tr>\n",
       "      <th>1</th>\n",
       "      <td>5799347067982556520</td>\n",
       "      <td>9172976955054793469</td>\n",
       "    </tr>\n",
       "    <tr>\n",
       "      <th>2</th>\n",
       "      <td>5799347067982556520</td>\n",
       "      <td>5131280576272319091</td>\n",
       "    </tr>\n",
       "    <tr>\n",
       "      <th>3</th>\n",
       "      <td>509660095530134768</td>\n",
       "      <td>nan</td>\n",
       "    </tr>\n",
       "    <tr>\n",
       "      <th>4</th>\n",
       "      <td>5799347067982556520</td>\n",
       "      <td>9172976955054793469</td>\n",
       "    </tr>\n",
       "  </tbody>\n",
       "</table>\n",
       "</div>"
      ],
      "text/plain": [
       "                     0                    1\n",
       "0  5799347067982556520                  nan\n",
       "1  5799347067982556520  9172976955054793469\n",
       "2  5799347067982556520  5131280576272319091\n",
       "3   509660095530134768                  nan\n",
       "4  5799347067982556520  9172976955054793469"
      ]
     },
     "execution_count": 66,
     "metadata": {},
     "output_type": "execute_result"
    }
   ],
   "source": [
    "pcp_0_df = pcp_0_df.replace('-1', float('nan'))\n",
    "pcp_0_df.head()"
   ]
  },
  {
   "cell_type": "code",
   "execution_count": 71,
   "metadata": {
    "ExecuteTime": {
     "end_time": "2018-03-11T01:20:28.535160Z",
     "start_time": "2018-03-11T01:20:28.273685Z"
    }
   },
   "outputs": [
    {
     "name": "stdout",
     "output_type": "stream",
     "text": [
      "284\n",
      "5997\n"
     ]
    }
   ],
   "source": [
    "for col in pcp_0_df.columns:\n",
    "    print(len(pcp_0_df[col].unique()))"
   ]
  },
  {
   "cell_type": "code",
   "execution_count": 76,
   "metadata": {
    "ExecuteTime": {
     "end_time": "2018-03-11T01:23:50.780340Z",
     "start_time": "2018-03-11T01:23:50.595976Z"
    }
   },
   "outputs": [
    {
     "data": {
      "text/plain": [
       "284"
      ]
     },
     "execution_count": 76,
     "metadata": {},
     "output_type": "execute_result"
    }
   ],
   "source": [
    "cpc_0_ls = pd.unique(pcp_0_df[0].values)\n",
    "len(cpc_0_ls)"
   ]
  },
  {
   "cell_type": "code",
   "execution_count": 77,
   "metadata": {
    "ExecuteTime": {
     "end_time": "2018-03-11T01:23:53.141649Z",
     "start_time": "2018-03-11T01:23:53.134983Z"
    }
   },
   "outputs": [
    {
     "data": {
      "text/plain": [
       "array(['5799347067982556520', '509660095530134768', '2011981573061447208',\n",
       "       '5755694407684602296', '8277336076276184272',\n",
       "       '4879721024980945592', '1760164811125093110',\n",
       "       '2436715285093487584', '8710739180200009128',\n",
       "       '7908382889764677758', '3203673979138763595',\n",
       "       '8257512457089702259', '7258015885215914736', '22731265849056483',\n",
       "       '3408983515963747643', '9121432215720987772',\n",
       "       '8896700187874717254', '7447522129235776380',\n",
       "       '1852600517265062354', '7730907179336883505', '870939953932227873',\n",
       "       '836752724084922533', '2648343924459474923', '1663704347152186027',\n",
       "       '1852495838110822601', '2482352103497268539',\n",
       "       '2948160913626618607', '7822717283490579102',\n",
       "       '7492960463130085436', '4144951645589726964',\n",
       "       '4864561375761257861', '1353756234974938268',\n",
       "       '6413919745771111236', '3492642177859571113',\n",
       "       '6948560137918828076', '6007511169620956394',\n",
       "       '1773757399237042247', '6032885783280918461',\n",
       "       '8841625760168847319', '4620042370703789850',\n",
       "       '7314150500379498593', '6731593623692005614',\n",
       "       '6670526099037031245', '1953169263543805253',\n",
       "       '7999314233231522439', '1156125343031872952',\n",
       "       '4819515067119430897', '596933531797916720', '6806706604435245287',\n",
       "       '4037168025701375468', '7520112009058395034',\n",
       "       '1421900015824192217', '8868887661186419229', '231638252485472935',\n",
       "       '1771349742445680985', '1036082357054043890',\n",
       "       '5119332056286574581', '1968056100269760729',\n",
       "       '1367421226574550486', '9030622377694665158',\n",
       "       '1902871814867878102', '8010602907289637527',\n",
       "       '8265375421668603503', '1147074168968532252',\n",
       "       '6233669177166538628', '6370392357088946840',\n",
       "       '5952411683233315814', '5814506717202244251',\n",
       "       '7497531498747093265', '6053399217025158422',\n",
       "       '2279114624729220736', '8473145397493788181',\n",
       "       '3768375377413427961', '8011713568458980446',\n",
       "       '6693726201323251689', '6240911761927948918',\n",
       "       '5559736036676927531', '5390210082253408046', '77525030870938598',\n",
       "       '8658630417297894718', '995612817165476287', '4332250915150960064',\n",
       "       '7557574421900036259', '5326797772223936924',\n",
       "       '4888462454920417820', '4513051088619736037',\n",
       "       '2308918340928022291', '991307944113117788', '2898216563045278189',\n",
       "       '9134320006264436949', '2951576502300430305', '416667236979926888',\n",
       "       '9109898854975432992', '5723817164425749092',\n",
       "       '8714728490717795196', '2675133727328127132', '510522230473089981',\n",
       "       '9061459071355452228', '7226013370341271704',\n",
       "       '5233487413262451303', '1660865242526967073', '768579787521575291',\n",
       "       '2222713293674190470', '6968309549876618411',\n",
       "       '5997917900752697187', '8826467575698439758',\n",
       "       '8178498593137827131', '3427945825845572921',\n",
       "       '7088387418785311437', '598785576234881950', '1947424149252018611',\n",
       "       '3190884749855208977', '541195343849803599', '5353983309451150895',\n",
       "       '8304446472251162190', '8813539172661235331',\n",
       "       '3712442254009782586', '4854786947242227492',\n",
       "       '2706913464029803515', '4940811011443046037',\n",
       "       '6841185571686447647', '1532161334071698699',\n",
       "       '3035072468277339626', '1916390345133212703',\n",
       "       '3590680674178190675', '6100563319418948866',\n",
       "       '3613783563199627217', '7908245377725930396',\n",
       "       '1214375565347289759', '7543687248262166082',\n",
       "       '7390523966275935803', '9103921237747238946',\n",
       "       '4693760017306237466', '4629811996637600909',\n",
       "       '7821807206541608243', '8886628242878777739',\n",
       "       '8123435010580049163', '4855776388560178940',\n",
       "       '8962983589738484387', '2638411403405836807',\n",
       "       '6285250735680851998', '1270200392831981176',\n",
       "       '7975407100834801263', '2679753859731979673',\n",
       "       '8885255308586761802', '5823291704403323172',\n",
       "       '7428248074757953364', '500951058931720948', '3891969090542268865',\n",
       "       '2423793224080796244', '2648074179660854406', '960969376310804217',\n",
       "       '7182265970478435534', '2475528574156590650',\n",
       "       '7848078693615386447', '3534174300499718190',\n",
       "       '4553561117494353284', '6611550637714176552',\n",
       "       '3487239649522238477', '1851878448883958882',\n",
       "       '2104555450664741842', '1094549894078844117',\n",
       "       '7007033289750638624', '4608590153444643301',\n",
       "       '4611941175787962677', 'nan', '3000958535079606898',\n",
       "       '3792586910824243956', '7590907158503847398',\n",
       "       '7615821822392100056', '8691964174295918140',\n",
       "       '7364796010898818736', '5324542298909132317',\n",
       "       '8009556227083201357', '4250623834429308201',\n",
       "       '5021947489824347884', '1950314698730389427',\n",
       "       '8468370105908620354', '3730507955044674036', '453525480366550911',\n",
       "       '84877409021910922', '8096917686185033019', '4077733886889964865',\n",
       "       '1909641874861640857', '5386920686374043258',\n",
       "       '7416455871774641094', '3876693557918392475',\n",
       "       '7224576923489035154', '1293247329449002670',\n",
       "       '2437442097680292676', '9156433647945903765', '322657246305530821',\n",
       "       '3348197449185791127', '1433572652414468240',\n",
       "       '7876068889369232765', '6131237609033285909',\n",
       "       '3009411247682753793', '9037876373578030680',\n",
       "       '5733771750334505757', '43870964042627935', '4540634398568959837',\n",
       "       '8120527952236412312', '1829020670764733184',\n",
       "       '6234834436277342144', '3959709506300357172',\n",
       "       '6690563957235072224', '8915639008199923773',\n",
       "       '8925395455335767801', '7899287111326217088',\n",
       "       '7489557886059487483', '5912343598847406450',\n",
       "       '4856333156915227171', '564500746834485095', '8539565075992520457',\n",
       "       '6314722360194207890', '1983141302274983641',\n",
       "       '3154773780920385924', '8654071318811112372', '68713976886192286',\n",
       "       '2198579144723909322', '5358956369787657646',\n",
       "       '3672034803212863488', '6028174809514958463',\n",
       "       '6059255566866771231', '5757900435490851209',\n",
       "       '6560158943823249569', '130463776254459567', '8050559805707846452',\n",
       "       '8292549251931826390', '6037483208352134782',\n",
       "       '7591947160248815405', '6029089215584073728',\n",
       "       '8348064284318464500', '7442042898147234918',\n",
       "       '2524764279916455164', '5456713628567459269',\n",
       "       '6485861266073404265', '2368798439533020424',\n",
       "       '3469298314053625797', '5896127768779493900',\n",
       "       '6710193631325909769', '2448768909165858775',\n",
       "       '3212661357958936053', '8950364145558810005',\n",
       "       '3939176735868448356', '4116265023966136377', '205417762340398589',\n",
       "       '8190716055759423915', '5251904720881420340',\n",
       "       '1923130679917048904', '2642175453151805566',\n",
       "       '2871729383671301763', '3012947035589138891',\n",
       "       '8781127550986727067', '253759867280873980', '4547830483930216203',\n",
       "       '7269591698525912163', '7123061298028578016', '546607638342813676',\n",
       "       '3234867841426648203', '5451920839830874139',\n",
       "       '5688283788355685150', '962384920639163745', '569105874343475094',\n",
       "       '7466406735004566059', '4153892417546422287',\n",
       "       '8118896089717457914', '8723742812959850525',\n",
       "       '6360827599793375011', '7923181264786104630',\n",
       "       '1269820854813022399', '7780851529918223923',\n",
       "       '3590360628477594896', '4782940324184008212',\n",
       "       '1414806584228710192', '4015428351287020126', '497699440922553999',\n",
       "       '7720572603497953416', '4545277625141755124', '394915394741096735',\n",
       "       '5561962162667675708', '5941301806663871051',\n",
       "       '1300279445102111365', '3895786168208947873'], dtype=object)"
      ]
     },
     "execution_count": 77,
     "metadata": {},
     "output_type": "execute_result"
    }
   ],
   "source": [
    "cpc_0_ls"
   ]
  },
  {
   "cell_type": "code",
   "execution_count": 68,
   "metadata": {
    "ExecuteTime": {
     "end_time": "2018-03-11T01:14:03.954066Z",
     "start_time": "2018-03-11T01:14:03.945168Z"
    }
   },
   "outputs": [
    {
     "data": {
      "text/plain": [
       "0                                                       nan\n",
       "1                                       9172976955054793469\n",
       "2                                       5131280576272319091\n",
       "3                                                       nan\n",
       "4                                       9172976955054793469\n",
       "5                                       9172976955054793469\n",
       "6                                       7199361004668592209\n",
       "7                                       7199361004668592209\n",
       "8                                                       nan\n",
       "9                                        820214312075361939\n",
       "10                                      7199361004668592209\n",
       "11                                                      nan\n",
       "12                   5131280576272319091,820214312075361939\n",
       "13                  2636395404473730413,8778097678320011358\n",
       "14                  2636395404473730413,7199361004668592209\n",
       "15                                      8778097678320011358\n",
       "16                                                      nan\n",
       "17                  2253152183208719552,1700133266819299183\n",
       "18                                      7199361004668592209\n",
       "19                                       820214312075361939\n",
       "20                                       116615220158388148\n",
       "21                                       820214312075361939\n",
       "22                                                      nan\n",
       "23                  2253152183208719552,1700133266819299183\n",
       "24                  2253152183208719552,1700133266819299183\n",
       "25                  2253152183208719552,1700133266819299183\n",
       "26                                       820214312075361939\n",
       "27                                                      nan\n",
       "28                   7199361004668592209,820214312075361939\n",
       "29                                      2636395404473730413\n",
       "                                ...                        \n",
       "478108    4034352801467268686,5131280576272319091,357954...\n",
       "478109    5131280576272319091,9148482949976129397,403435...\n",
       "478110              1725845221699571933,4034352801467268686\n",
       "478111              1725845221699571933,4034352801467268686\n",
       "478112                                  7323906747451897092\n",
       "478113                                                  nan\n",
       "478114    2636395404473730413,6571595198026771850,857087...\n",
       "478115                                  2636395404473730413\n",
       "478116                                                  nan\n",
       "478117                                  5131280576272319091\n",
       "478118              2636395404473730413,1530585142987372715\n",
       "478119                                  9148482949976129397\n",
       "478120                                   820214312075361939\n",
       "478121                                   820214312075361939\n",
       "478122                                                  nan\n",
       "478123                                                  nan\n",
       "478124                                                  nan\n",
       "478125                                  8687006518815244261\n",
       "478126                                                  nan\n",
       "478127                                                  nan\n",
       "478128                                                  nan\n",
       "478129                                  2636395404473730413\n",
       "478130                                                  nan\n",
       "478131                                  5131280576272319091\n",
       "478132              3994732721176203348,2008359857263316777\n",
       "478133                                  8895425924056041189\n",
       "478134                                                  nan\n",
       "478135                                                  nan\n",
       "478136                                                  nan\n",
       "478137                                                  nan\n",
       "Name: 1, Length: 478138, dtype: object"
      ]
     },
     "execution_count": 68,
     "metadata": {},
     "output_type": "execute_result"
    }
   ],
   "source": [
    "pcp_0_df[1]"
   ]
  },
  {
   "cell_type": "code",
   "execution_count": 69,
   "metadata": {
    "ExecuteTime": {
     "end_time": "2018-03-11T01:18:47.899160Z",
     "start_time": "2018-03-11T01:18:46.932796Z"
    }
   },
   "outputs": [
    {
     "data": {
      "text/plain": [
       "array(['nan', '9172976955054793469', '5131280576272319091',\n",
       "       '7199361004668592209', '820214312075361939', '2636395404473730413',\n",
       "       '8778097678320011358', '2253152183208719552',\n",
       "       '1700133266819299183', '116615220158388148', '9148482949976129397',\n",
       "       '423030395394927110', '2145526801521340881', '1895089419167761448',\n",
       "       '3258780649701680217', '9142827274221572643',\n",
       "       '2072967855524022579', '8500395963709890328',\n",
       "       '6876557539744929185', '6538068079754090196', '382245422974992603',\n",
       "       '1059069563122377316', '6754256946356212513',\n",
       "       '3657871859501171040', '3965165427527476577',\n",
       "       '1787573075717641245', '216555019471416386', '5294979155797339020',\n",
       "       '6117550882835083024', '5172685342804830679', '938942550188415640',\n",
       "       '880789391723108122', '6116320173639482726', '6611726991947724280',\n",
       "       '2587827533226673402', '5657144549825861580',\n",
       "       '6936525844801519937', '8218883658021718578',\n",
       "       '2033679869864207699', '1638788240663720013',\n",
       "       '5601993239904894396', '13534940502119749', '1718876660563213756',\n",
       "       '6783726433847476034', '2373672281545619967',\n",
       "       '8296607845439825002', '5087848242810459720',\n",
       "       '4038060334629950706', '4569616146978668040',\n",
       "       '3816453261466648331', '1584022574423753132',\n",
       "       '6523408575051868011', '5807890143304906833',\n",
       "       '2154457258534483423', '3455624626683061307',\n",
       "       '4621934203383159480', '1210779090663804691',\n",
       "       '2974843664763356676', '1530585142987372715',\n",
       "       '7652388025646932093', '1987515896409064481', '772325102984507165',\n",
       "       '5250928339820605915', '1013419034389836991',\n",
       "       '1681016445984867074', '276459097592305747', '6201222335898087949',\n",
       "       '6992797671726882210', '3163265386149801264',\n",
       "       '3802510553218572927', '9139238620419323343',\n",
       "       '6204037460538277950', '5824288901503723741', '302719828435032992',\n",
       "       '8969704821218616246', '2848840921284838772',\n",
       "       '5146823797513319844', '1146438177910356588',\n",
       "       '5232589478504282965', '684068495848233859', '5117290135792467652',\n",
       "       '125886551669890998', '7070153948098681983', '6491818071284064879',\n",
       "       '3540471119339706981', '7429744967504106294',\n",
       "       '6072714026257332214', '1243768796732904674', '968231669345392659',\n",
       "       '8172571482669383751', '2873517529422403724',\n",
       "       '6575662641165862481', '8310666836135933688',\n",
       "       '5269459561362589679', '4586716338952763313',\n",
       "       '5103206280374780290', '8399888477341455089', '18773227022480660',\n",
       "       '2886347676380617486', '8225510777796915077',\n",
       "       '4900887246807203991', '7349752535977137045',\n",
       "       '2440037403827610904', '5272084803144509998',\n",
       "       '8070395809181082496', '8632838827018969686',\n",
       "       '2934253623626865993', '6457208937217973355',\n",
       "       '1725845221699571933', '4034352801467268686',\n",
       "       '5505269043768761187', '1171664030814650688',\n",
       "       '4879814494995266944', '1459941273081862902',\n",
       "       '3110677345556441261', '7014931774007355144',\n",
       "       '1885623735035256840', '3257385717871127564',\n",
       "       '3455328527623636528', '4083958765544089731',\n",
       "       '3605305489057951035', '4195997301391045944',\n",
       "       '4110591369872703088', '8295547020603580482',\n",
       "       '5544396398274366723', '7344985833148694227',\n",
       "       '8851425427477388664', '8811789203980651726',\n",
       "       '8635907683907958038', '5514263782641507570',\n",
       "       '1541712866841486046', '472716149596902195', '1803832408109955492',\n",
       "       '6914500122677572753', '9173428221474519642', '357954758031852148',\n",
       "       '271411513165613855', '4752555856988678273', '7546966568109010364',\n",
       "       '8037186986555353917', '8524800381251222325',\n",
       "       '7043977654046657963', '6316409171236514711',\n",
       "       '3609861674619569089', '4324484723289924768',\n",
       "       '7731581851357328826', '3831698877599682071',\n",
       "       '6775691643351286074', '8190366128343404781',\n",
       "       '9186000847964263543', '1667949271803926094',\n",
       "       '7894262360834725099', '8514118603979844666', '439304260594257401',\n",
       "       '8206980241340306905', '6259453346544304519',\n",
       "       '8119690472103182049', '4496231527298556453', '343813537575039244',\n",
       "       '2656119471558611980', '5163746043904423349', '296270104965272366',\n",
       "       '8689439327673289769', '7641965736702676165',\n",
       "       '7148204383715083097', '367082587220462692', '820647477041419307',\n",
       "       '6972974632358979335', '6144930455626332552', '792781902817689193',\n",
       "       '752744206738694360', '5903984687624666123', '8845411770887364091',\n",
       "       '5013179492014373655', '260865214640550397', '1354874066266948599',\n",
       "       '1134982063610307090', '1972069903722514407',\n",
       "       '4880191681171063911', '767876611898607472', '9046466251092965005',\n",
       "       '6963067909881553879', '9122474353231522458',\n",
       "       '8452679086468090561', '7210281857290322874',\n",
       "       '6735513936746054954', '4297383381290650617',\n",
       "       '2891682021882519203', '2139419476959870057',\n",
       "       '5818524590372601736', '9206586546611312731',\n",
       "       '5977512434884267894', '2885720547055603924',\n",
       "       '8925992109677360994', '7271630337430743106',\n",
       "       '1975237382674245143', '7101789066330380481',\n",
       "       '6929438550311130887', '8406904694298788397',\n",
       "       '7656067194464420824', '5238292632612719358', '905375499369428629',\n",
       "       '6168291655501442648', '2881649990294240333',\n",
       "       '7557400419871705925', '6733391946663346352',\n",
       "       '3945676146300155760', '7145278029856447358',\n",
       "       '2008359857263316777', '7848231705109835940',\n",
       "       '5321292925843452606', '8737345181316700245',\n",
       "       '4913099718482300153', '6481705612232337279',\n",
       "       '1161475897712267051', '7624853067885516669',\n",
       "       '1914459684371024600', '8653317963118063666', '993144277562949297',\n",
       "       '947442329808034264', '507340079498998005', '8246577505456811518',\n",
       "       '6231855672068029403', '4511711289468110462', '165663476199849870',\n",
       "       '4228488786095558499', '4293046575640871844',\n",
       "       '6710896787717691749', '1656543221963567205',\n",
       "       '3994732721176203348', '367564025510739418', '9174734765179664664',\n",
       "       '1765474776528274256', '2100661205679928732',\n",
       "       '6063013378011270127', '2302854195654097523',\n",
       "       '2612404686706819637', '2880595152599604130',\n",
       "       '6571595198026771850', '4487645330399551308',\n",
       "       '6434796455031995313', '3942086361646704866',\n",
       "       '3260255649437374521', '3292847841638807757',\n",
       "       '6910403114891524302', '618091132594793724', '3749629542652371225',\n",
       "       '4585257130970159663', '4547447396826130799',\n",
       "       '1217321901643479838', '4514023099843029084',\n",
       "       '5645754766855803982', '7323906747451897092', '954040879537335970',\n",
       "       '7674243629402549267', '1393290990666439099', '637468789824502949',\n",
       "       '6296485275518770064', '422690147597355277', '5075793313445984652',\n",
       "       '7839592306500064003', '729852372809400333', '6996293497602802499',\n",
       "       '9174179327339305933', '3764631743124915781',\n",
       "       '8398003474655786697', '6369895983299512834',\n",
       "       '8649575561133562083', '1326487468817980284',\n",
       "       '4292183384616971767', '1020574272016076773',\n",
       "       '4757527856108186889', '708017611294974673', '3480876984427839465',\n",
       "       '3535583304200841800', '4859870894564764703',\n",
       "       '6048265394477193459', '6084851818132696079',\n",
       "       '5195139481388729954', '8311658760088702115',\n",
       "       '6412801914479100905', '323384927223967940', '5517293733763626053',\n",
       "       '279881907157909938', '5060559478504874481', '99108370224756554',\n",
       "       '965463874480819860', '117253231633290777', '8294605611553094411',\n",
       "       '7143647682769926072', '4184839086554617322',\n",
       "       '7028665885434540403', '4896829997226946694',\n",
       "       '3652643889577809863', '9206891174234386411',\n",
       "       '3318302586153176094', '4168643807850563094',\n",
       "       '1302524211476398932', '2535241394315522537',\n",
       "       '2879744490872907756', '5411328347990852271',\n",
       "       '7312071789625332753', '1385138688917614842',\n",
       "       '2842836631110389827', '1770509987816880037',\n",
       "       '2007545380719473779', '8833035145586185926',\n",
       "       '7093347540112215761', '5698389659972261515',\n",
       "       '5161772778667657693', '5538467368281628189',\n",
       "       '1404690527068277626', '3272276940269326713', '647079818200736533',\n",
       "       '3860181048941742181', '7375741836277355355', '702672568390800314',\n",
       "       '475930909407231547', '5187778674001545684', '3566080565501584536',\n",
       "       '192470619746398720', '4688353595256175096', '2488701964620097331',\n",
       "       '6271132580717642404', '396346106366291050', '4551572919177847394',\n",
       "       '699452333555316139', '3385159086823135020', '2164949488983657446',\n",
       "       '1708967652638664561', '25093837264036222', '283793358800935529',\n",
       "       '3995998797710394988', '6739934941415969266',\n",
       "       '2784824386298379960', '702531327847861691', '6165347051143749031',\n",
       "       '2673786472518796754', '3123721915907352444',\n",
       "       '2567408744198162385', '1803516442928610625',\n",
       "       '7422828355050797095', '2760922935583608235', '484810631550910759',\n",
       "       '3461887752512461447', '3790935933512358322',\n",
       "       '1853849920575552572', '8980775093245230022',\n",
       "       '1248784780798586835', '6556896890082244813',\n",
       "       '3880983275892070897', '2228582026228202202',\n",
       "       '2865114645280905956', '761119359971559235', '3719938219661619871',\n",
       "       '1487334859093940976', '7830227171678663340',\n",
       "       '4310886569093513581', '3145741777362890024',\n",
       "       '8403821048199656501', '2650207293232286408',\n",
       "       '5574668489662498963', '7755154092752128280',\n",
       "       '9087941421802332337', '7738633316138579888',\n",
       "       '5425816855450891842', '6652542533110494290',\n",
       "       '7203563917923041775', '2543995460448955001',\n",
       "       '3898398490346735810', '5008525300462856561', '621621933868357132',\n",
       "       '8248919745410008940', '3010148124637862615',\n",
       "       '5921540236855315223', '4873015352531401063',\n",
       "       '4629234233767255288', '344847625695252409', '600832441806860945',\n",
       "       '3950215267046307162', '4760523144379136433',\n",
       "       '2491171320310628511', '8313512103014479246',\n",
       "       '4055647279941040228', '2337897895747674442',\n",
       "       '2486412089231411327', '1154020199378122130',\n",
       "       '5770097542888125908', '1283359330038139278',\n",
       "       '5453486094909977682', '3596743925297940658',\n",
       "       '8194735933177714667', '7674886545904137373', '273590685947762979',\n",
       "       '8747527281136353480', '1654633561589693949',\n",
       "       '2036184461376994646', '3797824693725790530',\n",
       "       '6239769963035722943', '3314043031480230897',\n",
       "       '9210577114692259975', '1317844814456332199',\n",
       "       '5173410509634582466', '1910982279765540627', '838514338883792950',\n",
       "       '8240392130342951699', '1465894915299780202',\n",
       "       '6750406026756351303', '6490790819546835568',\n",
       "       '7771455788953692138', '486550438944717089', '761358417052169692',\n",
       "       '8511978268505564147', '8687006518815244261',\n",
       "       '7682864612961335449', '3563111873289565965',\n",
       "       '6641007758333551406', '143660112368942257', '1602328929602300473',\n",
       "       '1603550572659582161', '4067423259602772173',\n",
       "       '8427781902836732692', '3371959938346774944',\n",
       "       '1625484499256676687', '5733996110881841805',\n",
       "       '3249698766940778390', '1375151293475523139',\n",
       "       '3375788200461566725', '6374384990079610405',\n",
       "       '8821946739808520396', '5569438927703102161',\n",
       "       '4178372708222282057', '4490492604150518258',\n",
       "       '5395120701931250617', '2511716794513053819',\n",
       "       '1155948988798325224', '628137892081499030', '1815651388372142050',\n",
       "       '129470688487642489', '1560043507982216979', '2580609338111735531',\n",
       "       '1848444369850783102', '8988820672502459480',\n",
       "       '6344329061153176539', '4399205437427383266', '211572499209818281',\n",
       "       '8190913615004050276', '4126509767502891146',\n",
       "       '6001405401911847848', '3749546050828432289',\n",
       "       '1329584798998616466', '4741768685801858788',\n",
       "       '7571672196469473179', '3546875453396746186', '501260188067457262',\n",
       "       '3786650512885991341', '2685431830746323904',\n",
       "       '1144443800734602380', '988798281670022630', '8953235428459492754',\n",
       "       '7409232986308026433', '4531908261474358173',\n",
       "       '3585340905223728690', '5316490082908068617',\n",
       "       '3482813419007655095', '4547477201187005443',\n",
       "       '8350042002135880260', '5160202815782622122',\n",
       "       '1676950092752784843', '5775477412454364819',\n",
       "       '9068750752933348554', '4943731303045436772',\n",
       "       '3220228583919918705', '1068578652104255803',\n",
       "       '7416503477258308079', '957317000704424309', '1063318167806713250',\n",
       "       '3663527535255727794', '8937222853836075725',\n",
       "       '7702116691190255405', '1766434726098477556',\n",
       "       '4304683102883891707', '6591180407093620300',\n",
       "       '3624844221233907990', '5307529503290639459',\n",
       "       '5907639351774172231', '3711821000442077768',\n",
       "       '1311647505120917275', '5823161038860837801',\n",
       "       '6528239062078865898', '720840888466250585', '7813953447682596156',\n",
       "       '7438026171671991980', '4512543437012818581',\n",
       "       '7527104188531182983', '6597640920052051094',\n",
       "       '3458257746284210742', '3697266697636126797',\n",
       "       '5308990621339845522', '1201061509607939282',\n",
       "       '1418324867218214039', '4728090911235956397',\n",
       "       '1042093437513121458', '3787705216424341093',\n",
       "       '2916479965529238218', '2963557582857554395',\n",
       "       '3533790063107054754', '7173968071190998802',\n",
       "       '6054979206716936548', '5156281697825297735',\n",
       "       '4678897401153276921', '3088778579592772583', '308836471702466097',\n",
       "       '6653997168884967167', '5533572164943785691',\n",
       "       '2510116536779031976', '8831356245438833173',\n",
       "       '2468978076078561095', '6635017087553438499', '10680693939284325',\n",
       "       '4571959938806743125', '2781921423729810119',\n",
       "       '8843472958321025622', '1242899956502766', '7489191371213669983',\n",
       "       '2851959807899797315', '9206064295070499301',\n",
       "       '2998728203225734525', '2482509131270958072',\n",
       "       '8589907951210232060', '8570872513417612558',\n",
       "       '7650422749112758727', '3312252823513782656',\n",
       "       '3313614271164803600', '6030963040212449654',\n",
       "       '2121945353913807343', '8297877882028186732',\n",
       "       '6601970183774962117', '7754599341597719635', '194061051349729443',\n",
       "       '6522451362718414634', '2091104467901777821',\n",
       "       '4829724330480061215', '9200707874524865474',\n",
       "       '4203029757075911535', '3075526995413138477',\n",
       "       '7149158642952902648', '5433069737229443169',\n",
       "       '8111035064438965826', '6995263330499199778',\n",
       "       '8124278017483033777', '160244791306847856', '7319226017939870513',\n",
       "       '2376748065898842308', '571694859402454290', '2669707149406824700',\n",
       "       '4146670858087345367', '5095819083979922836',\n",
       "       '6531935700865932813', '8425915909754782560',\n",
       "       '2514100563763852788', '4678095570925618478',\n",
       "       '8895425924056041189', '6797255196087848537',\n",
       "       '1299102648867149454', '4195337156428635742',\n",
       "       '3173019226877578014', '2127336878016615509',\n",
       "       '2837588596075823283', '2786992804053969858',\n",
       "       '8139928283142746568', '8065528739229750479',\n",
       "       '3124022048610761890', '5940511869111966775',\n",
       "       '6852491067946307368', '8024564726979525144',\n",
       "       '4562747919324019386', '3806772328258739307',\n",
       "       '1185559447713443250', '2175614273657484581', '880111907626379218',\n",
       "       '4179689331433184977', '1574643775764317514',\n",
       "       '3009186296901310904', '1257251695633110486',\n",
       "       '1268810779221851060', '9164240141693603967',\n",
       "       '8453324148193949288', '5256172674187602470',\n",
       "       '8318650831638377667', '1789288754799680056',\n",
       "       '6624238017678069771', '2798026503345382768',\n",
       "       '9139232965071737483', '2420909539077363056', '664128295046918221',\n",
       "       '3662095981027512569', '2566843699552839526',\n",
       "       '4995484896000020247', '6065994034091750740',\n",
       "       '4109804121244878464', '7936854529518926146',\n",
       "       '5250749366178325942', '7074196014549903593',\n",
       "       '3535336918914668823', '5040756428012841133',\n",
       "       '7350587276872072322', '3748986280285765301',\n",
       "       '1160224200200357085', '4024591850839185057',\n",
       "       '3096803200718779659', '9031620039485141086',\n",
       "       '8023260934147535561', '6274226667180960144',\n",
       "       '8274692449501786343', '9095189843310242561',\n",
       "       '4594216274830806033', '9165009637213412777',\n",
       "       '8875551650034891487', '6849083198847698071',\n",
       "       '1396564160947554463', '2408002633983396839',\n",
       "       '5314079086161157448', '3958713857487766983',\n",
       "       '1161011848203696257', '4299227893892019071',\n",
       "       '6850176468228379656', '5358524521722468209',\n",
       "       '6012837631223244434', '5156135912143377577',\n",
       "       '6590137080806521280', '3979970764321708411',\n",
       "       '7760425187790541574', '6722594759016844540',\n",
       "       '9004560182623441176', '7036850654573936588',\n",
       "       '3513950222922126521', '7837013315095975340',\n",
       "       '5293515618368760708', '1694961954488717290',\n",
       "       '7460093122161378091', '6292218142016430124',\n",
       "       '7468838065445974571', '6182933996454838553',\n",
       "       '3524724214050521202', '7564145082177445709',\n",
       "       '2749317289819852038', '1923755817945194530',\n",
       "       '8870799771441521756', '1432403157179040925',\n",
       "       '5477358517693642419', '1807081594883623781',\n",
       "       '7243791827604046193', '5982451250981091869',\n",
       "       '5631014201084099276', '8420672767558257010',\n",
       "       '1945441670176129725', '1628389447598666217',\n",
       "       '2432047919107043154', '1846135743890734281',\n",
       "       '2914438333311443201', '7407167249870569418',\n",
       "       '9122253533551365123', '8537972223857410424',\n",
       "       '4898993503006931640', '4112481611555815537',\n",
       "       '1437113499660671947', '7677007054745379086',\n",
       "       '2867515860945206175', '5754228743327842435',\n",
       "       '2962822217045874819', '7341434978571021976',\n",
       "       '3741959602660197915', '6006263212053312506',\n",
       "       '1761412768692736998', '283659800221151697', '4380245261457033790',\n",
       "       '7648088382362201021', '1426657922378834271',\n",
       "       '5574222346081308156', '60949042776503316', '167861015010408276',\n",
       "       '1735365135046622908', '8349891723877149962',\n",
       "       '3693197555825764727', '5959407659224069148',\n",
       "       '8117275485034671644', '7489479976691407539', '615076485672811995',\n",
       "       '3141873330233545317', '3435094409144853924',\n",
       "       '5653271440447321358', '7354867173621150952',\n",
       "       '6267147102966267020', '4149876147683829717',\n",
       "       '3845212523776717541', '6523907184013144830', '768828051073099341',\n",
       "       '726661490058300850', '3704174015035141801', '3461225712430246348',\n",
       "       '912858771957416418', '6897429896460440392', '125699274771879532',\n",
       "       '3309679209728634701', '3549413452409391517',\n",
       "       '5348190879704683533', '5975908117069250252',\n",
       "       '4845288187645402445', '2249780197058080353',\n",
       "       '2872344879395080175', '3332055761739444581',\n",
       "       '6360887281762076531', '2580306979278481093', '375686065147074114',\n",
       "       '1413925622724667035', '1927651215658337240',\n",
       "       '4413770101744759606', '6711611618653477616',\n",
       "       '6156995493380192923', '8689140778307567946',\n",
       "       '8781095015135886495', '7402041674461756711',\n",
       "       '3821064540706659480', '6633394276132988201',\n",
       "       '2250362258981597145', '8983880797855705418',\n",
       "       '1410087372348628770', '1157271807762276908',\n",
       "       '3463263783036597680', '4795911965580042177',\n",
       "       '3020449163552540416', '8454302507203750875',\n",
       "       '4486633046967803136', '1146080240354230931',\n",
       "       '6416955978598354693', '1782439090818545916',\n",
       "       '3887123259183658228', '7126426653086863522',\n",
       "       '7722946458745902795', '8654640418366661400',\n",
       "       '6499832915381875098', '8937999427946707066',\n",
       "       '2784684027472046651', '7962562323469445015',\n",
       "       '3338675950915834513', '2022532375716026136',\n",
       "       '3510321078640925295', '4783032357341903938',\n",
       "       '4363581357159329774', '4137410447992644735',\n",
       "       '8895562023873690643', '3039990190713908281',\n",
       "       '6064195102325444681', '859135402924055000', '5691034080711344371',\n",
       "       '9061239375067100074', '741607136623834773', '8170175137807925998',\n",
       "       '4947299288539089446', '2260301291119421528',\n",
       "       '4189577632002273908', '7617044734950700063',\n",
       "       '6126317682853655957', '3446647686200740300',\n",
       "       '7720067047352333360', '8806223656837490366',\n",
       "       '7469114068413920922', '9011444777478954178',\n",
       "       '7669558901928702024', '8976929482173272471', '147009656946163082',\n",
       "       '8402837029054975192', '6160715237676848426',\n",
       "       '4615922107210037634', '5022262378350059235',\n",
       "       '8893080384096639696', '5806052740432101049',\n",
       "       '2331643983386597172', '1005941471573913698',\n",
       "       '8776048032150154292', '7423403716305010341',\n",
       "       '3223794519551472752', '7138596973623795131',\n",
       "       '4528193468147399196', '1672872082390633438',\n",
       "       '5607822498405615875', '7698223218827582859',\n",
       "       '6455326994187227899', '8990508695482225386',\n",
       "       '2892393670337009933', '7817992580197701162',\n",
       "       '6838607703845609805', '1470125547220956359',\n",
       "       '2750526971641311050', '6622833496869141078',\n",
       "       '8078854593228731184', '773444760330250165', '3374041352617277434',\n",
       "       '1587014020171364049', '3352406432871160543',\n",
       "       '3608312507002094050', '5637871327458400176',\n",
       "       '2878948665402366264', '5225448208821057020',\n",
       "       '5320468090843686429', '7310026348010302571',\n",
       "       '3865691811540563752', '6083839800773542530',\n",
       "       '3165233393393738973', '7121483409148762489',\n",
       "       '8244620025601979003', '372252302396697064', '651569030620942248',\n",
       "       '2487716201032030601', '6114170102428335439', '94555234079386603',\n",
       "       '358174970251366030', '7269905271836802773', '6692165810746517992',\n",
       "       '2491440720445946968', '6119406272844735639',\n",
       "       '6750535989283018955', '8517728222702519541',\n",
       "       '4969439333471645763', '6049916549646843762',\n",
       "       '4275675099617159264', '1589014868207061718',\n",
       "       '6348050327519997281', '3830670553804997786',\n",
       "       '7182885264000874122', '5409608531600912433',\n",
       "       '3143839900698671329', '5574987986944899425',\n",
       "       '2020806760772021089', '3913125758193239116',\n",
       "       '6481439510333424809', '5281263891514638177',\n",
       "       '8796002963285448330', '5298687000782871969',\n",
       "       '8012586993772506596', '1265745774837875758',\n",
       "       '4741519304097723370', '1307119710505230477',\n",
       "       '8579437331830977553', '6991059980411866159',\n",
       "       '3683717215201959773', '7110463027462226608',\n",
       "       '1841162515695917784', '2207755880445489454',\n",
       "       '3552765515598801862', '4150903726712768421',\n",
       "       '6104580206269298640', '8143872601534503784',\n",
       "       '5648131310587016281', '6005857306755624848',\n",
       "       '7991111451582312233', '195741071152248011', '3237965828544219751',\n",
       "       '6984420241885319845', '335121820262819261', '4261886034061689523',\n",
       "       '6417182058901812589', '490638802968377304', '463715999364644511',\n",
       "       '8998787091021931379', '6607576939613807052',\n",
       "       '6219031304291305389', '3574583075153362927',\n",
       "       '1443611452390252889', '374694350734217921', '1316094867893018870',\n",
       "       '2963388225245659523', '7988589326759642706',\n",
       "       '6241534230954727302', '1350457907098262523',\n",
       "       '2697402348384223946', '8115339640717877394',\n",
       "       '3340379688284014261', '7605215851461976743',\n",
       "       '4719660433739432964', '4604184749617479504',\n",
       "       '5139976964606228955', '5752095929703248087', '999155839821778940',\n",
       "       '8374473754065792366', '1037155650781712070',\n",
       "       '6037989473275029798', '3411309686639922276',\n",
       "       '3893023181730611879', '5293510166950171424',\n",
       "       '7602552970496089702', '5609222070175044677',\n",
       "       '5317011417834975286', '4710033419282920425',\n",
       "       '6625633998042058771', '7213917323114992554',\n",
       "       '2775354526515120696', '7982979299849278882',\n",
       "       '1471999903126451365', '7811001592182308502',\n",
       "       '2032595807574745346', '8240873113118393044',\n",
       "       '8642883631586507466', '5900016055830474043',\n",
       "       '1364068718224033919', '7933339456945899374',\n",
       "       '5167088520493536626', '444771035389296157', '1156123978679615636',\n",
       "       '2731472702303943713', '8207676861948217104', '143294587204370697',\n",
       "       '7811552232018295937', '2646737141668921575',\n",
       "       '4091457588507391230', '2472087851623195207', '270289899693142551',\n",
       "       '2082245497500177583', '5758609573877676786',\n",
       "       '1140848167919353030', '9193552653311780621',\n",
       "       '6491418568624084339', '7033075388276275712',\n",
       "       '2593351582836732414', '8315945273952521453',\n",
       "       '6216570530123206444', '1492383766889998253',\n",
       "       '6622197428860533756', '887595507248462983', '4696708120340872747',\n",
       "       '3893538392331827954', '6747101708729972731',\n",
       "       '8198562711061878538', '5921454205144872322', '280138676617376930',\n",
       "       '7270616792979678618', '2643492875954798591',\n",
       "       '4039652474073223826', '639228713552738893', '8245301404047011640',\n",
       "       '4058209491091645206', '7861406109900636525',\n",
       "       '7564592161114627398', '9100479331284486493',\n",
       "       '6381353776413461697', '5676482997178313678',\n",
       "       '5436231048645552137', '4340999884210481326',\n",
       "       '5939293373645089878', '7166843538939188559',\n",
       "       '4915980195763848540', '8420769169079499556',\n",
       "       '5507404922564477314', '126073167057852735', '7583628788399193310',\n",
       "       '7632258599985146892', '7568930909944363779',\n",
       "       '3430283314554722625', '6481291737115009234',\n",
       "       '2192065224219464412', '32837367980151091', '4717554274358496891',\n",
       "       '8029152493533358205', '5295588129122854297',\n",
       "       '4328303322286010389', '360508730875480086', '6258111852895446795',\n",
       "       '1843333420443544408', '5448872799650126263',\n",
       "       '2195429860778604562', '4557333467732078071',\n",
       "       '2190392856114541718', '305537482092070809', '2540832913364282815',\n",
       "       '9129934065290959332', '143821724119731531', '6871804210130429071',\n",
       "       '8687897027128030010', '2652322279533397482',\n",
       "       '7046835092279798919', '6331684169764759279',\n",
       "       '2204139916386380313', '755171363920862580', '1774445998443566883',\n",
       "       '6846415327106663054', '793113590407372869', '676871660154835820',\n",
       "       '4065485409972172123', '2356019796848256693',\n",
       "       '5719953903233228873', '6578208118527953209',\n",
       "       '1718997360407872381', '8562963514366210016',\n",
       "       '4347383923198742833', '3596313750115362218',\n",
       "       '3166429252072587416', '3678744968589068672',\n",
       "       '8120519306435203124', '2664038568232025579'], dtype=object)"
      ]
     },
     "execution_count": 69,
     "metadata": {},
     "output_type": "execute_result"
    }
   ],
   "source": [
    "cpc_01_ls=[]\n",
    "\n",
    "for x in pcp_0_df[1]:\n",
    "    if pd.isnull(x): \n",
    "        pass\n",
    "    elif isinstance(x, (float)):\n",
    "        cpc_01_ls.append(x)\n",
    "    else:\n",
    "        cpc_01_ls += list(x.split(','))\n",
    "\n",
    "pd.unique(cpc_01_ls)"
   ]
  },
  {
   "cell_type": "code",
   "execution_count": 70,
   "metadata": {
    "ExecuteTime": {
     "end_time": "2018-03-11T01:19:34.144952Z",
     "start_time": "2018-03-11T01:19:33.911753Z"
    }
   },
   "outputs": [
    {
     "data": {
      "text/plain": [
       "1000"
      ]
     },
     "execution_count": 70,
     "metadata": {},
     "output_type": "execute_result"
    }
   ],
   "source": [
    "len(pd.unique(cpc_01_ls))"
   ]
  },
  {
   "cell_type": "code",
   "execution_count": null,
   "metadata": {},
   "outputs": [],
   "source": []
  }
 ],
 "metadata": {
  "kernelspec": {
   "display_name": "Python 3",
   "language": "python",
   "name": "python3"
  },
  "language_info": {
   "codemirror_mode": {
    "name": "ipython",
    "version": 3
   },
   "file_extension": ".py",
   "mimetype": "text/x-python",
   "name": "python",
   "nbconvert_exporter": "python",
   "pygments_lexer": "ipython3",
   "version": "3.6.3"
  },
  "toc": {
   "nav_menu": {},
   "number_sections": true,
   "sideBar": true,
   "skip_h1_title": false,
   "toc_cell": false,
   "toc_position": {},
   "toc_section_display": "block",
   "toc_window_display": false
  },
  "varInspector": {
   "cols": {
    "lenName": 16,
    "lenType": 16,
    "lenVar": 40
   },
   "kernels_config": {
    "python": {
     "delete_cmd_postfix": "",
     "delete_cmd_prefix": "del ",
     "library": "var_list.py",
     "varRefreshCmd": "print(var_dic_list())"
    },
    "r": {
     "delete_cmd_postfix": ") ",
     "delete_cmd_prefix": "rm(",
     "library": "var_list.r",
     "varRefreshCmd": "cat(var_dic_list()) "
    }
   },
   "types_to_exclude": [
    "module",
    "function",
    "builtin_function_or_method",
    "instance",
    "_Feature"
   ],
   "window_display": false
  }
 },
 "nbformat": 4,
 "nbformat_minor": 2
}
