{
 "cells": [
  {
   "cell_type": "markdown",
   "metadata": {},
   "source": [
    "# Training Data Setup\n",
    "\n",
    "## Introduction\n",
    "\n",
    "We considered three ways to build up a training dataset, \n",
    "\n",
    "- Start with `user_id`: firstly, predict who would buy anything, and then predict what would they buy.\n",
    "    \n",
    "- Start with `sku_id`: consider each product as an object, and predict if it would be bought and by whom.\n",
    "    \n",
    "- Start with `user_id and sku_id` pair: take these pairs as objects and check if the any purchase activity would happen in 5 days.\n",
    "    \n",
    "\n",
    "We finally decided to start with the third method and may consider other ways when time allows.\n",
    "\n",
    "## User and Product Pair\n",
    "\n",
    "Features may be considered:\n",
    "\n",
    "- **User**: age, sex, level, user_lv_cd, browse_num, addcart_num, delcart_num, buy_num, favor_num, click_num\n",
    "- **Product**: attr1, attr2, attr3, cate, brand, comment_num, has_bad_comment, bad_comment_rate, browse_num, addcart_num, delcart_num, buy_num, favor_num, click_num\n",
    "- **Behavior**: today_brow_num, today_addcart_num, today_delcart_num, today_buy_num, today_favor_num, today_click_num; 5day_brow_num, 5day_addcart_num, 5day_delcart_num, 5day_buy_num, 5day_favor_num, 5day_click_num;\n"
   ]
  },
  {
   "cell_type": "code",
   "execution_count": 2,
   "metadata": {
    "collapsed": true
   },
   "outputs": [],
   "source": [
    "import pandas as pd\n",
    "import numpy as np\n",
    "from collections import Counter\n",
    "import os"
   ]
  },
  {
   "cell_type": "code",
   "execution_count": 3,
   "metadata": {
    "collapsed": true
   },
   "outputs": [],
   "source": [
    "path = 'D:/JData_New/'\n",
    "os.chdir(path)"
   ]
  },
  {
   "cell_type": "code",
   "execution_count": 32,
   "metadata": {
    "collapsed": true
   },
   "outputs": [],
   "source": [
    "data = pd.read_csv(\"JData_Action_201604.csv\", header=0)"
   ]
  },
  {
   "cell_type": "code",
   "execution_count": 60,
   "metadata": {
    "collapsed": false
   },
   "outputs": [
    {
     "data": {
      "text/plain": [
       "(13199934, 8)"
      ]
     },
     "execution_count": 60,
     "metadata": {},
     "output_type": "execute_result"
    }
   ],
   "source": [
    "data.shape"
   ]
  },
  {
   "cell_type": "code",
   "execution_count": 88,
   "metadata": {
    "collapsed": false
   },
   "outputs": [
    {
     "data": {
      "text/html": [
       "<div>\n",
       "<table border=\"1\" class=\"dataframe\">\n",
       "  <thead>\n",
       "    <tr style=\"text-align: right;\">\n",
       "      <th></th>\n",
       "      <th>user_id</th>\n",
       "      <th>sku_id</th>\n",
       "      <th>time</th>\n",
       "      <th>type</th>\n",
       "      <th>user_sku</th>\n",
       "    </tr>\n",
       "  </thead>\n",
       "  <tbody>\n",
       "    <tr>\n",
       "      <th>0</th>\n",
       "      <td>287842</td>\n",
       "      <td>75018</td>\n",
       "      <td>2016-03-31 23:59:01</td>\n",
       "      <td>6</td>\n",
       "      <td>287842_75018</td>\n",
       "    </tr>\n",
       "    <tr>\n",
       "      <th>1</th>\n",
       "      <td>208266</td>\n",
       "      <td>31662</td>\n",
       "      <td>2016-03-31 23:59:04</td>\n",
       "      <td>1</td>\n",
       "      <td>208266_31662</td>\n",
       "    </tr>\n",
       "    <tr>\n",
       "      <th>2</th>\n",
       "      <td>209390</td>\n",
       "      <td>118799</td>\n",
       "      <td>2016-03-31 23:59:05</td>\n",
       "      <td>6</td>\n",
       "      <td>209390_118799</td>\n",
       "    </tr>\n",
       "    <tr>\n",
       "      <th>3</th>\n",
       "      <td>237311</td>\n",
       "      <td>5825</td>\n",
       "      <td>2016-03-31 23:59:05</td>\n",
       "      <td>1</td>\n",
       "      <td>237311_5825</td>\n",
       "    </tr>\n",
       "    <tr>\n",
       "      <th>4</th>\n",
       "      <td>257651</td>\n",
       "      <td>128104</td>\n",
       "      <td>2016-03-31 23:59:05</td>\n",
       "      <td>1</td>\n",
       "      <td>257651_128104</td>\n",
       "    </tr>\n",
       "  </tbody>\n",
       "</table>\n",
       "</div>"
      ],
      "text/plain": [
       "   user_id  sku_id                time  type       user_sku\n",
       "0   287842   75018 2016-03-31 23:59:01     6   287842_75018\n",
       "1   208266   31662 2016-03-31 23:59:04     1   208266_31662\n",
       "2   209390  118799 2016-03-31 23:59:05     6  209390_118799\n",
       "3   237311    5825 2016-03-31 23:59:05     1    237311_5825\n",
       "4   257651  128104 2016-03-31 23:59:05     1  257651_128104"
      ]
     },
     "execution_count": 88,
     "metadata": {},
     "output_type": "execute_result"
    }
   ],
   "source": [
    "data.head(5)"
   ]
  },
  {
   "cell_type": "markdown",
   "metadata": {},
   "source": [
    "As all data in `model_id` are missing data, it is reasonable to ignore this feature in the mdoel. In addition, feature `cate` and `brand` are already included in the `item_table`, therefore should be left out in the behavior table."
   ]
  },
  {
   "cell_type": "code",
   "execution_count": 75,
   "metadata": {
    "collapsed": true
   },
   "outputs": [],
   "source": [
    "data['user_id'] = data['user_id'].astype(int)\n",
    "data[\"time\"] = pd.to_datetime(data[\"time\"])\n",
    "\n",
    "data = data.drop('model_id', 1)\n",
    "data = data.drop('cate', 1)\n",
    "data = data.drop('brand', 1)"
   ]
  },
  {
   "cell_type": "markdown",
   "metadata": {},
   "source": [
    "### Data from April 5 to 10"
   ]
  },
  {
   "cell_type": "code",
   "execution_count": 86,
   "metadata": {
    "collapsed": true
   },
   "outputs": [],
   "source": [
    "mask_5_10 = (data['time'] > \"2016-04-5\") & (data['time'] < \"2016-04-11\") "
   ]
  },
  {
   "cell_type": "code",
   "execution_count": 87,
   "metadata": {
    "collapsed": false
   },
   "outputs": [
    {
     "data": {
      "text/plain": [
       "(5358431, 5)"
      ]
     },
     "execution_count": 87,
     "metadata": {},
     "output_type": "execute_result"
    }
   ],
   "source": [
    "data.loc[mask_5_10].shape"
   ]
  },
  {
   "cell_type": "code",
   "execution_count": 90,
   "metadata": {
    "collapsed": true
   },
   "outputs": [],
   "source": [
    "data_5_10 = data.loc[mask_5_10]"
   ]
  },
  {
   "cell_type": "code",
   "execution_count": 94,
   "metadata": {
    "collapsed": false
   },
   "outputs": [
    {
     "data": {
      "text/html": [
       "<div>\n",
       "<table border=\"1\" class=\"dataframe\">\n",
       "  <thead>\n",
       "    <tr style=\"text-align: right;\">\n",
       "      <th></th>\n",
       "      <th>user_id</th>\n",
       "      <th>sku_id</th>\n",
       "      <th>time</th>\n",
       "      <th>type</th>\n",
       "      <th>user_sku</th>\n",
       "    </tr>\n",
       "  </thead>\n",
       "  <tbody>\n",
       "    <tr>\n",
       "      <th>3149276</th>\n",
       "      <td>208409</td>\n",
       "      <td>135376</td>\n",
       "      <td>2016-04-05 00:00:01</td>\n",
       "      <td>6</td>\n",
       "      <td>208409_135376</td>\n",
       "    </tr>\n",
       "    <tr>\n",
       "      <th>3149277</th>\n",
       "      <td>214828</td>\n",
       "      <td>129711</td>\n",
       "      <td>2016-04-05 00:00:01</td>\n",
       "      <td>6</td>\n",
       "      <td>214828_129711</td>\n",
       "    </tr>\n",
       "    <tr>\n",
       "      <th>3149278</th>\n",
       "      <td>214828</td>\n",
       "      <td>129711</td>\n",
       "      <td>2016-04-05 00:00:01</td>\n",
       "      <td>1</td>\n",
       "      <td>214828_129711</td>\n",
       "    </tr>\n",
       "    <tr>\n",
       "      <th>3149279</th>\n",
       "      <td>268579</td>\n",
       "      <td>115851</td>\n",
       "      <td>2016-04-05 00:00:01</td>\n",
       "      <td>6</td>\n",
       "      <td>268579_115851</td>\n",
       "    </tr>\n",
       "    <tr>\n",
       "      <th>3149280</th>\n",
       "      <td>268579</td>\n",
       "      <td>115851</td>\n",
       "      <td>2016-04-05 00:00:01</td>\n",
       "      <td>6</td>\n",
       "      <td>268579_115851</td>\n",
       "    </tr>\n",
       "  </tbody>\n",
       "</table>\n",
       "</div>"
      ],
      "text/plain": [
       "         user_id  sku_id                time  type       user_sku\n",
       "3149276   208409  135376 2016-04-05 00:00:01     6  208409_135376\n",
       "3149277   214828  129711 2016-04-05 00:00:01     6  214828_129711\n",
       "3149278   214828  129711 2016-04-05 00:00:01     1  214828_129711\n",
       "3149279   268579  115851 2016-04-05 00:00:01     6  268579_115851\n",
       "3149280   268579  115851 2016-04-05 00:00:01     6  268579_115851"
      ]
     },
     "execution_count": 94,
     "metadata": {},
     "output_type": "execute_result"
    }
   ],
   "source": [
    "data_5_10.head()"
   ]
  },
  {
   "cell_type": "code",
   "execution_count": 91,
   "metadata": {
    "collapsed": true
   },
   "outputs": [],
   "source": [
    "data_5_10.to_csv('data_5_10.csv', index=False)"
   ]
  },
  {
   "cell_type": "code",
   "execution_count": null,
   "metadata": {
    "collapsed": true
   },
   "outputs": [],
   "source": [
    "def add_type_count(group):\n",
    "    behavior_type = group.type.astype(int)\n",
    "    type_cnt = Counter(behavior_type)\n",
    "\n",
    "    group['browse_num'] = type_cnt[1]\n",
    "    group['addcart_num'] = type_cnt[2]\n",
    "    group['delcart_num'] = type_cnt[3]\n",
    "    group['buy_num'] = type_cnt[4]\n",
    "    group['favor_num'] = type_cnt[5]\n",
    "    group['click_num'] = type_cnt[6]\n",
    "\n",
    "    return group[['user_sku', 'user_id', 'sku_id',\n",
    "                  'browse_num', 'addcart_num', 'delcart_num',\n",
    "                  'buy_num', 'favor_num', 'click_num']]"
   ]
  },
  {
   "cell_type": "code",
   "execution_count": null,
   "metadata": {
    "collapsed": true
   },
   "outputs": [],
   "source": [
    "user_behavior_5_10 = data_5_10.groupby(['user_sku'], as_index=False).apply(add_type_count_today)\n",
    "user_behavior_5_10 = user_behavior_5_10.drop_duplicates('user_sku')"
   ]
  },
  {
   "cell_type": "code",
   "execution_count": 96,
   "metadata": {
    "collapsed": false,
    "scrolled": true
   },
   "outputs": [
    {
     "data": {
      "text/html": [
       "<div>\n",
       "<table border=\"1\" class=\"dataframe\">\n",
       "  <thead>\n",
       "    <tr style=\"text-align: right;\">\n",
       "      <th></th>\n",
       "      <th>user_sku</th>\n",
       "      <th>user_id</th>\n",
       "      <th>sku_id</th>\n",
       "      <th>browse_num</th>\n",
       "      <th>addcart_num</th>\n",
       "      <th>delcart_num</th>\n",
       "      <th>buy_num</th>\n",
       "      <th>favor_num</th>\n",
       "      <th>click_num</th>\n",
       "    </tr>\n",
       "  </thead>\n",
       "  <tbody>\n",
       "    <tr>\n",
       "      <th>3149276</th>\n",
       "      <td>208409_135376</td>\n",
       "      <td>208409</td>\n",
       "      <td>135376</td>\n",
       "      <td>2</td>\n",
       "      <td>0</td>\n",
       "      <td>1</td>\n",
       "      <td>0</td>\n",
       "      <td>0</td>\n",
       "      <td>8</td>\n",
       "    </tr>\n",
       "    <tr>\n",
       "      <th>3149277</th>\n",
       "      <td>214828_129711</td>\n",
       "      <td>214828</td>\n",
       "      <td>129711</td>\n",
       "      <td>2</td>\n",
       "      <td>0</td>\n",
       "      <td>0</td>\n",
       "      <td>0</td>\n",
       "      <td>0</td>\n",
       "      <td>4</td>\n",
       "    </tr>\n",
       "    <tr>\n",
       "      <th>3149279</th>\n",
       "      <td>268579_115851</td>\n",
       "      <td>268579</td>\n",
       "      <td>115851</td>\n",
       "      <td>2</td>\n",
       "      <td>0</td>\n",
       "      <td>0</td>\n",
       "      <td>0</td>\n",
       "      <td>0</td>\n",
       "      <td>5</td>\n",
       "    </tr>\n",
       "    <tr>\n",
       "      <th>3149284</th>\n",
       "      <td>302666_156064</td>\n",
       "      <td>302666</td>\n",
       "      <td>156064</td>\n",
       "      <td>8</td>\n",
       "      <td>1</td>\n",
       "      <td>0</td>\n",
       "      <td>0</td>\n",
       "      <td>0</td>\n",
       "      <td>7</td>\n",
       "    </tr>\n",
       "    <tr>\n",
       "      <th>3149291</th>\n",
       "      <td>268662_45678</td>\n",
       "      <td>268662</td>\n",
       "      <td>45678</td>\n",
       "      <td>3</td>\n",
       "      <td>0</td>\n",
       "      <td>0</td>\n",
       "      <td>0</td>\n",
       "      <td>0</td>\n",
       "      <td>5</td>\n",
       "    </tr>\n",
       "  </tbody>\n",
       "</table>\n",
       "</div>"
      ],
      "text/plain": [
       "              user_sku  user_id  sku_id  browse_num  addcart_num  delcart_num  \\\n",
       "3149276  208409_135376   208409  135376           2            0            1   \n",
       "3149277  214828_129711   214828  129711           2            0            0   \n",
       "3149279  268579_115851   268579  115851           2            0            0   \n",
       "3149284  302666_156064   302666  156064           8            1            0   \n",
       "3149291   268662_45678   268662   45678           3            0            0   \n",
       "\n",
       "         buy_num  favor_num  click_num  \n",
       "3149276        0          0          8  \n",
       "3149277        0          0          4  \n",
       "3149279        0          0          5  \n",
       "3149284        0          0          7  \n",
       "3149291        0          0          5  "
      ]
     },
     "execution_count": 96,
     "metadata": {},
     "output_type": "execute_result"
    }
   ],
   "source": [
    "user_behavior_5_10.head()"
   ]
  },
  {
   "cell_type": "code",
   "execution_count": 97,
   "metadata": {
    "collapsed": false
   },
   "outputs": [
    {
     "data": {
      "text/plain": [
       "(477985, 9)"
      ]
     },
     "execution_count": 97,
     "metadata": {},
     "output_type": "execute_result"
    }
   ],
   "source": [
    "user_behavior_5_10.shape"
   ]
  },
  {
   "cell_type": "code",
   "execution_count": null,
   "metadata": {
    "collapsed": true
   },
   "outputs": [],
   "source": []
  },
  {
   "cell_type": "markdown",
   "metadata": {},
   "source": [
    "### Data on April 10"
   ]
  },
  {
   "cell_type": "code",
   "execution_count": 77,
   "metadata": {
    "collapsed": false
   },
   "outputs": [],
   "source": [
    "mask_10 = (data['time'] > \"2016-04-10\") & (data['time'] < \"2016-04-11\") "
   ]
  },
  {
   "cell_type": "code",
   "execution_count": 98,
   "metadata": {
    "collapsed": false
   },
   "outputs": [],
   "source": [
    "data_10 = data.loc[mask_10]"
   ]
  },
  {
   "cell_type": "code",
   "execution_count": 99,
   "metadata": {
    "collapsed": false
   },
   "outputs": [
    {
     "data": {
      "text/plain": [
       "(880913, 5)"
      ]
     },
     "execution_count": 99,
     "metadata": {},
     "output_type": "execute_result"
    }
   ],
   "source": [
    "data_10.shape"
   ]
  },
  {
   "cell_type": "code",
   "execution_count": 180,
   "metadata": {
    "collapsed": true
   },
   "outputs": [],
   "source": [
    "def add_type_count_today(group):\n",
    "    behavior_type = group.type.astype(int)\n",
    "    type_cnt = Counter(behavior_type)\n",
    "\n",
    "    group['browse_num_today'] = type_cnt[1]\n",
    "    group['addcart_num_today'] = type_cnt[2]\n",
    "    group['delcart_num_today'] = type_cnt[3]\n",
    "    group['buy_num_today'] = type_cnt[4]\n",
    "    group['favor_num_today'] = type_cnt[5]\n",
    "    group['click_num_today'] = type_cnt[6]\n",
    "\n",
    "    return group[['user_sku', 'user_id', 'sku_id',\n",
    "                  'browse_num_today', 'addcart_num_today', 'delcart_num_today',\n",
    "                  'buy_num_today', 'favor_num_today', 'click_num_today']]"
   ]
  },
  {
   "cell_type": "code",
   "execution_count": 101,
   "metadata": {
    "collapsed": false
   },
   "outputs": [],
   "source": [
    "user_behavior_10 = data_10.groupby(['user_sku'], as_index=False).apply(add_type_count_today)\n",
    "user_behavior_10 = user_behavior_10.drop_duplicates('user_sku')"
   ]
  },
  {
   "cell_type": "code",
   "execution_count": 104,
   "metadata": {
    "collapsed": false
   },
   "outputs": [
    {
     "data": {
      "text/html": [
       "<div>\n",
       "<table border=\"1\" class=\"dataframe\">\n",
       "  <thead>\n",
       "    <tr style=\"text-align: right;\">\n",
       "      <th></th>\n",
       "      <th>user_sku</th>\n",
       "      <th>user_id</th>\n",
       "      <th>sku_id</th>\n",
       "      <th>browse_num</th>\n",
       "      <th>addcart_num</th>\n",
       "      <th>delcart_num</th>\n",
       "      <th>buy_num</th>\n",
       "      <th>favor_num</th>\n",
       "      <th>click_num</th>\n",
       "    </tr>\n",
       "  </thead>\n",
       "  <tbody>\n",
       "    <tr>\n",
       "      <th>7626794</th>\n",
       "      <td>259734_110899</td>\n",
       "      <td>259734</td>\n",
       "      <td>110899</td>\n",
       "      <td>2</td>\n",
       "      <td>0</td>\n",
       "      <td>0</td>\n",
       "      <td>0</td>\n",
       "      <td>0</td>\n",
       "      <td>3</td>\n",
       "    </tr>\n",
       "    <tr>\n",
       "      <th>7626795</th>\n",
       "      <td>242595_62476</td>\n",
       "      <td>242595</td>\n",
       "      <td>62476</td>\n",
       "      <td>0</td>\n",
       "      <td>0</td>\n",
       "      <td>0</td>\n",
       "      <td>0</td>\n",
       "      <td>0</td>\n",
       "      <td>2</td>\n",
       "    </tr>\n",
       "    <tr>\n",
       "      <th>7626796</th>\n",
       "      <td>262977_113675</td>\n",
       "      <td>262977</td>\n",
       "      <td>113675</td>\n",
       "      <td>2</td>\n",
       "      <td>0</td>\n",
       "      <td>0</td>\n",
       "      <td>0</td>\n",
       "      <td>0</td>\n",
       "      <td>3</td>\n",
       "    </tr>\n",
       "    <tr>\n",
       "      <th>7626797</th>\n",
       "      <td>271730_141243</td>\n",
       "      <td>271730</td>\n",
       "      <td>141243</td>\n",
       "      <td>2</td>\n",
       "      <td>0</td>\n",
       "      <td>0</td>\n",
       "      <td>0</td>\n",
       "      <td>0</td>\n",
       "      <td>2</td>\n",
       "    </tr>\n",
       "    <tr>\n",
       "      <th>7626809</th>\n",
       "      <td>236537_125756</td>\n",
       "      <td>236537</td>\n",
       "      <td>125756</td>\n",
       "      <td>4</td>\n",
       "      <td>0</td>\n",
       "      <td>0</td>\n",
       "      <td>0</td>\n",
       "      <td>0</td>\n",
       "      <td>5</td>\n",
       "    </tr>\n",
       "  </tbody>\n",
       "</table>\n",
       "</div>"
      ],
      "text/plain": [
       "              user_sku  user_id  sku_id  browse_num  addcart_num  delcart_num  \\\n",
       "7626794  259734_110899   259734  110899           2            0            0   \n",
       "7626795   242595_62476   242595   62476           0            0            0   \n",
       "7626796  262977_113675   262977  113675           2            0            0   \n",
       "7626797  271730_141243   271730  141243           2            0            0   \n",
       "7626809  236537_125756   236537  125756           4            0            0   \n",
       "\n",
       "         buy_num  favor_num  click_num  \n",
       "7626794        0          0          3  \n",
       "7626795        0          0          2  \n",
       "7626796        0          0          3  \n",
       "7626797        0          0          2  \n",
       "7626809        0          0          5  "
      ]
     },
     "execution_count": 104,
     "metadata": {},
     "output_type": "execute_result"
    }
   ],
   "source": [
    "user_behavior_10.head()"
   ]
  },
  {
   "cell_type": "code",
   "execution_count": 105,
   "metadata": {
    "collapsed": false
   },
   "outputs": [
    {
     "data": {
      "text/plain": [
       "(92657, 9)"
      ]
     },
     "execution_count": 105,
     "metadata": {},
     "output_type": "execute_result"
    }
   ],
   "source": [
    "user_behavior_10.shape"
   ]
  },
  {
   "cell_type": "code",
   "execution_count": 111,
   "metadata": {
    "collapsed": true
   },
   "outputs": [],
   "source": [
    "user_behavior_10.to_csv('user_behavior_10.csv', index=False)"
   ]
  },
  {
   "cell_type": "code",
   "execution_count": null,
   "metadata": {
    "collapsed": true
   },
   "outputs": [],
   "source": []
  },
  {
   "cell_type": "markdown",
   "metadata": {},
   "source": [
    "### Data from April 5 to 9"
   ]
  },
  {
   "cell_type": "code",
   "execution_count": 79,
   "metadata": {
    "collapsed": true
   },
   "outputs": [],
   "source": [
    "mask_5_9 = (data['time'] > \"2016-04-5\") & (data['time'] < \"2016-04-10\") "
   ]
  },
  {
   "cell_type": "code",
   "execution_count": 107,
   "metadata": {
    "collapsed": false
   },
   "outputs": [
    {
     "data": {
      "text/plain": [
       "(4477515, 5)"
      ]
     },
     "execution_count": 107,
     "metadata": {},
     "output_type": "execute_result"
    }
   ],
   "source": [
    "data_5_9 = data.loc[mask_5_9]\n",
    "data_5_9.shape"
   ]
  },
  {
   "cell_type": "code",
   "execution_count": null,
   "metadata": {
    "collapsed": true
   },
   "outputs": [],
   "source": [
    "def add_type_count_5days(group):\n",
    "    behavior_type = group.type.astype(int)\n",
    "    type_cnt = Counter(behavior_type)\n",
    "\n",
    "    group['browse_num_5days'] = type_cnt[1]\n",
    "    group['addcart_num_5days'] = type_cnt[2]\n",
    "    group['delcart_num_5days'] = type_cnt[3]\n",
    "    group['buy_num_5days'] = type_cnt[4]\n",
    "    group['favor_num_5days'] = type_cnt[5]\n",
    "    group['click_num_5days'] = type_cnt[6]\n",
    "\n",
    "    return group[['user_sku', 'user_id', 'sku_id',\n",
    "                  'browse_num_5days', 'addcart_num_5days', 'delcart_num_5days',\n",
    "                  'buy_num_5days', 'favor_num_5days', 'click_num_5days']]"
   ]
  },
  {
   "cell_type": "code",
   "execution_count": 108,
   "metadata": {
    "collapsed": false
   },
   "outputs": [],
   "source": [
    "user_behavior_5_9 = data_5_9.groupby(['user_sku'], as_index=False).apply(add_type_count_5days)\n",
    "user_behavior_5_9 = user_behavior_5_9.drop_duplicates('user_sku')"
   ]
  },
  {
   "cell_type": "code",
   "execution_count": 109,
   "metadata": {
    "collapsed": false
   },
   "outputs": [
    {
     "data": {
      "text/html": [
       "<div>\n",
       "<table border=\"1\" class=\"dataframe\">\n",
       "  <thead>\n",
       "    <tr style=\"text-align: right;\">\n",
       "      <th></th>\n",
       "      <th>user_sku</th>\n",
       "      <th>user_id</th>\n",
       "      <th>sku_id</th>\n",
       "      <th>browse_num</th>\n",
       "      <th>addcart_num</th>\n",
       "      <th>delcart_num</th>\n",
       "      <th>buy_num</th>\n",
       "      <th>favor_num</th>\n",
       "      <th>click_num</th>\n",
       "    </tr>\n",
       "  </thead>\n",
       "  <tbody>\n",
       "    <tr>\n",
       "      <th>7626794</th>\n",
       "      <td>259734_110899</td>\n",
       "      <td>259734</td>\n",
       "      <td>110899</td>\n",
       "      <td>2</td>\n",
       "      <td>0</td>\n",
       "      <td>0</td>\n",
       "      <td>0</td>\n",
       "      <td>0</td>\n",
       "      <td>3</td>\n",
       "    </tr>\n",
       "    <tr>\n",
       "      <th>7626795</th>\n",
       "      <td>242595_62476</td>\n",
       "      <td>242595</td>\n",
       "      <td>62476</td>\n",
       "      <td>0</td>\n",
       "      <td>0</td>\n",
       "      <td>0</td>\n",
       "      <td>0</td>\n",
       "      <td>0</td>\n",
       "      <td>2</td>\n",
       "    </tr>\n",
       "    <tr>\n",
       "      <th>7626796</th>\n",
       "      <td>262977_113675</td>\n",
       "      <td>262977</td>\n",
       "      <td>113675</td>\n",
       "      <td>2</td>\n",
       "      <td>0</td>\n",
       "      <td>0</td>\n",
       "      <td>0</td>\n",
       "      <td>0</td>\n",
       "      <td>3</td>\n",
       "    </tr>\n",
       "    <tr>\n",
       "      <th>7626797</th>\n",
       "      <td>271730_141243</td>\n",
       "      <td>271730</td>\n",
       "      <td>141243</td>\n",
       "      <td>2</td>\n",
       "      <td>0</td>\n",
       "      <td>0</td>\n",
       "      <td>0</td>\n",
       "      <td>0</td>\n",
       "      <td>2</td>\n",
       "    </tr>\n",
       "    <tr>\n",
       "      <th>7626809</th>\n",
       "      <td>236537_125756</td>\n",
       "      <td>236537</td>\n",
       "      <td>125756</td>\n",
       "      <td>4</td>\n",
       "      <td>0</td>\n",
       "      <td>0</td>\n",
       "      <td>0</td>\n",
       "      <td>0</td>\n",
       "      <td>5</td>\n",
       "    </tr>\n",
       "  </tbody>\n",
       "</table>\n",
       "</div>"
      ],
      "text/plain": [
       "              user_sku  user_id  sku_id  browse_num  addcart_num  delcart_num  \\\n",
       "7626794  259734_110899   259734  110899           2            0            0   \n",
       "7626795   242595_62476   242595   62476           0            0            0   \n",
       "7626796  262977_113675   262977  113675           2            0            0   \n",
       "7626797  271730_141243   271730  141243           2            0            0   \n",
       "7626809  236537_125756   236537  125756           4            0            0   \n",
       "\n",
       "         buy_num  favor_num  click_num  \n",
       "7626794        0          0          3  \n",
       "7626795        0          0          2  \n",
       "7626796        0          0          3  \n",
       "7626797        0          0          2  \n",
       "7626809        0          0          5  "
      ]
     },
     "execution_count": 109,
     "metadata": {},
     "output_type": "execute_result"
    }
   ],
   "source": [
    "user_behavior_5_9.head()"
   ]
  },
  {
   "cell_type": "code",
   "execution_count": 110,
   "metadata": {
    "collapsed": false
   },
   "outputs": [
    {
     "data": {
      "text/plain": [
       "(92657, 9)"
      ]
     },
     "execution_count": 110,
     "metadata": {},
     "output_type": "execute_result"
    }
   ],
   "source": [
    "user_behavior_5_9.shape"
   ]
  },
  {
   "cell_type": "code",
   "execution_count": 112,
   "metadata": {
    "collapsed": true
   },
   "outputs": [],
   "source": [
    "user_behavior_5_10.to_csv('user_behavior_5_9.csv', index=False)"
   ]
  },
  {
   "cell_type": "code",
   "execution_count": null,
   "metadata": {
    "collapsed": true
   },
   "outputs": [],
   "source": []
  },
  {
   "cell_type": "markdown",
   "metadata": {},
   "source": [
    "### Data from April 11 to 15"
   ]
  },
  {
   "cell_type": "code",
   "execution_count": 81,
   "metadata": {
    "collapsed": true
   },
   "outputs": [],
   "source": [
    "mask_11_15 = (data['time'] > \"2016-04-11\") & (data['time'] < \"2016-04-16\") "
   ]
  },
  {
   "cell_type": "code",
   "execution_count": 117,
   "metadata": {
    "collapsed": false
   },
   "outputs": [],
   "source": [
    "data_11_15 = data.loc[mask_11_15]"
   ]
  },
  {
   "cell_type": "code",
   "execution_count": 120,
   "metadata": {
    "collapsed": false
   },
   "outputs": [],
   "source": [
    "data_11_15 = data_11_15.drop('time', 1)"
   ]
  },
  {
   "cell_type": "code",
   "execution_count": 121,
   "metadata": {
    "collapsed": false
   },
   "outputs": [
    {
     "data": {
      "text/html": [
       "<div>\n",
       "<table border=\"1\" class=\"dataframe\">\n",
       "  <thead>\n",
       "    <tr style=\"text-align: right;\">\n",
       "      <th></th>\n",
       "      <th>user_id</th>\n",
       "      <th>sku_id</th>\n",
       "      <th>type</th>\n",
       "      <th>user_sku</th>\n",
       "    </tr>\n",
       "  </thead>\n",
       "  <tbody>\n",
       "    <tr>\n",
       "      <th>8507727</th>\n",
       "      <td>232832</td>\n",
       "      <td>4595</td>\n",
       "      <td>1</td>\n",
       "      <td>232832_4595</td>\n",
       "    </tr>\n",
       "    <tr>\n",
       "      <th>8507728</th>\n",
       "      <td>232832</td>\n",
       "      <td>4595</td>\n",
       "      <td>1</td>\n",
       "      <td>232832_4595</td>\n",
       "    </tr>\n",
       "    <tr>\n",
       "      <th>8507729</th>\n",
       "      <td>232832</td>\n",
       "      <td>4595</td>\n",
       "      <td>6</td>\n",
       "      <td>232832_4595</td>\n",
       "    </tr>\n",
       "    <tr>\n",
       "      <th>8507730</th>\n",
       "      <td>232832</td>\n",
       "      <td>4595</td>\n",
       "      <td>6</td>\n",
       "      <td>232832_4595</td>\n",
       "    </tr>\n",
       "    <tr>\n",
       "      <th>8507731</th>\n",
       "      <td>245252</td>\n",
       "      <td>7418</td>\n",
       "      <td>1</td>\n",
       "      <td>245252_7418</td>\n",
       "    </tr>\n",
       "  </tbody>\n",
       "</table>\n",
       "</div>"
      ],
      "text/plain": [
       "         user_id  sku_id  type     user_sku\n",
       "8507727   232832    4595     1  232832_4595\n",
       "8507728   232832    4595     1  232832_4595\n",
       "8507729   232832    4595     6  232832_4595\n",
       "8507730   232832    4595     6  232832_4595\n",
       "8507731   245252    7418     1  245252_7418"
      ]
     },
     "execution_count": 121,
     "metadata": {},
     "output_type": "execute_result"
    }
   ],
   "source": [
    "data_11_15.head()"
   ]
  },
  {
   "cell_type": "code",
   "execution_count": 122,
   "metadata": {
    "collapsed": false
   },
   "outputs": [
    {
     "data": {
      "text/plain": [
       "(4692207, 4)"
      ]
     },
     "execution_count": 122,
     "metadata": {},
     "output_type": "execute_result"
    }
   ],
   "source": [
    "data_11_15.shape"
   ]
  },
  {
   "cell_type": "code",
   "execution_count": null,
   "metadata": {
    "collapsed": true
   },
   "outputs": [],
   "source": [
    "def add_dependent(group):\n",
    "    behavior_type = group.type.astype(int)\n",
    "    type_cnt = Counter(behavior_type)\n",
    "    \n",
    "    if type_cnt[4] == 0:\n",
    "        group['buy'] = 0\n",
    "    else:\n",
    "        group['buy'] = 1\n",
    "\n",
    "    return group[['user_sku', 'user_id', 'sku_id', 'buy']]"
   ]
  },
  {
   "cell_type": "code",
   "execution_count": 123,
   "metadata": {
    "collapsed": true
   },
   "outputs": [],
   "source": [
    "user_behavior_11_15 = data_11_15.groupby(['user_sku'], as_index=False).apply(add_type_count_future)\n",
    "# Select unique row\n",
    "user_behavior_11_15 = user_behavior_11_15.drop_duplicates('user_sku')"
   ]
  },
  {
   "cell_type": "code",
   "execution_count": 124,
   "metadata": {
    "collapsed": false
   },
   "outputs": [
    {
     "data": {
      "text/html": [
       "<div>\n",
       "<table border=\"1\" class=\"dataframe\">\n",
       "  <thead>\n",
       "    <tr style=\"text-align: right;\">\n",
       "      <th></th>\n",
       "      <th>user_sku</th>\n",
       "      <th>user_id</th>\n",
       "      <th>sku_id</th>\n",
       "      <th>browse_num</th>\n",
       "      <th>addcart_num</th>\n",
       "      <th>delcart_num</th>\n",
       "      <th>buy_num</th>\n",
       "      <th>favor_num</th>\n",
       "      <th>click_num</th>\n",
       "    </tr>\n",
       "  </thead>\n",
       "  <tbody>\n",
       "    <tr>\n",
       "      <th>8507727</th>\n",
       "      <td>232832_4595</td>\n",
       "      <td>232832</td>\n",
       "      <td>4595</td>\n",
       "      <td>12</td>\n",
       "      <td>0</td>\n",
       "      <td>0</td>\n",
       "      <td>0</td>\n",
       "      <td>0</td>\n",
       "      <td>25</td>\n",
       "    </tr>\n",
       "    <tr>\n",
       "      <th>8507731</th>\n",
       "      <td>245252_7418</td>\n",
       "      <td>245252</td>\n",
       "      <td>7418</td>\n",
       "      <td>30</td>\n",
       "      <td>2</td>\n",
       "      <td>0</td>\n",
       "      <td>1</td>\n",
       "      <td>0</td>\n",
       "      <td>66</td>\n",
       "    </tr>\n",
       "    <tr>\n",
       "      <th>8507732</th>\n",
       "      <td>247398_38222</td>\n",
       "      <td>247398</td>\n",
       "      <td>38222</td>\n",
       "      <td>1</td>\n",
       "      <td>0</td>\n",
       "      <td>0</td>\n",
       "      <td>0</td>\n",
       "      <td>0</td>\n",
       "      <td>0</td>\n",
       "    </tr>\n",
       "    <tr>\n",
       "      <th>8507736</th>\n",
       "      <td>224358_154636</td>\n",
       "      <td>224358</td>\n",
       "      <td>154636</td>\n",
       "      <td>32</td>\n",
       "      <td>1</td>\n",
       "      <td>0</td>\n",
       "      <td>0</td>\n",
       "      <td>0</td>\n",
       "      <td>11</td>\n",
       "    </tr>\n",
       "    <tr>\n",
       "      <th>8507742</th>\n",
       "      <td>274699_95976</td>\n",
       "      <td>274699</td>\n",
       "      <td>95976</td>\n",
       "      <td>2</td>\n",
       "      <td>0</td>\n",
       "      <td>0</td>\n",
       "      <td>0</td>\n",
       "      <td>0</td>\n",
       "      <td>6</td>\n",
       "    </tr>\n",
       "  </tbody>\n",
       "</table>\n",
       "</div>"
      ],
      "text/plain": [
       "              user_sku  user_id  sku_id  browse_num  addcart_num  delcart_num  \\\n",
       "8507727    232832_4595   232832    4595          12            0            0   \n",
       "8507731    245252_7418   245252    7418          30            2            0   \n",
       "8507732   247398_38222   247398   38222           1            0            0   \n",
       "8507736  224358_154636   224358  154636          32            1            0   \n",
       "8507742   274699_95976   274699   95976           2            0            0   \n",
       "\n",
       "         buy_num  favor_num  click_num  \n",
       "8507727        0          0         25  \n",
       "8507731        1          0         66  \n",
       "8507732        0          0          0  \n",
       "8507736        0          0         11  \n",
       "8507742        0          0          6  "
      ]
     },
     "execution_count": 124,
     "metadata": {},
     "output_type": "execute_result"
    }
   ],
   "source": [
    "user_behavior_11_15.head()"
   ]
  },
  {
   "cell_type": "code",
   "execution_count": 131,
   "metadata": {
    "collapsed": false
   },
   "outputs": [],
   "source": [
    "user_behavior_11_15 = user_behavior_11_15.drop('user_id', 1)\n",
    "user_behavior_11_15 = user_behavior_11_15.drop('sku_id', 1)"
   ]
  },
  {
   "cell_type": "code",
   "execution_count": 132,
   "metadata": {
    "collapsed": false
   },
   "outputs": [
    {
     "data": {
      "text/plain": [
       "(410940, 2)"
      ]
     },
     "execution_count": 132,
     "metadata": {},
     "output_type": "execute_result"
    }
   ],
   "source": [
    "user_behavior_11_15.shape"
   ]
  },
  {
   "cell_type": "code",
   "execution_count": 133,
   "metadata": {
    "collapsed": false
   },
   "outputs": [
    {
     "data": {
      "text/html": [
       "<div>\n",
       "<table border=\"1\" class=\"dataframe\">\n",
       "  <thead>\n",
       "    <tr style=\"text-align: right;\">\n",
       "      <th></th>\n",
       "      <th>user_sku</th>\n",
       "      <th>buy_num</th>\n",
       "    </tr>\n",
       "  </thead>\n",
       "  <tbody>\n",
       "    <tr>\n",
       "      <th>8507727</th>\n",
       "      <td>232832_4595</td>\n",
       "      <td>0</td>\n",
       "    </tr>\n",
       "    <tr>\n",
       "      <th>8507731</th>\n",
       "      <td>245252_7418</td>\n",
       "      <td>1</td>\n",
       "    </tr>\n",
       "    <tr>\n",
       "      <th>8507732</th>\n",
       "      <td>247398_38222</td>\n",
       "      <td>0</td>\n",
       "    </tr>\n",
       "    <tr>\n",
       "      <th>8507736</th>\n",
       "      <td>224358_154636</td>\n",
       "      <td>0</td>\n",
       "    </tr>\n",
       "    <tr>\n",
       "      <th>8507742</th>\n",
       "      <td>274699_95976</td>\n",
       "      <td>0</td>\n",
       "    </tr>\n",
       "  </tbody>\n",
       "</table>\n",
       "</div>"
      ],
      "text/plain": [
       "              user_sku  buy_num\n",
       "8507727    232832_4595        0\n",
       "8507731    245252_7418        1\n",
       "8507732   247398_38222        0\n",
       "8507736  224358_154636        0\n",
       "8507742   274699_95976        0"
      ]
     },
     "execution_count": 133,
     "metadata": {},
     "output_type": "execute_result"
    }
   ],
   "source": [
    "user_behavior_11_15.head()"
   ]
  },
  {
   "cell_type": "code",
   "execution_count": 150,
   "metadata": {
    "collapsed": false
   },
   "outputs": [
    {
     "data": {
      "text/plain": [
       "<matplotlib.axes._subplots.AxesSubplot at 0x19169b5f470>"
      ]
     },
     "execution_count": 150,
     "metadata": {},
     "output_type": "execute_result"
    },
    {
     "data": {
      "image/png": "[encoded data removed]",
      "text/plain": [
       "<matplotlib.figure.Figure at 0x19169c616a0>"
      ]
     },
     "metadata": {},
     "output_type": "display_data"
    }
   ],
   "source": [
    "import matplotlib.pyplot as plt\n",
    "%matplotlib inline\n",
    "\n",
    "user_behavior_11_15.buy_num.value_counts().plot(kind='bar')"
   ]
  },
  {
   "cell_type": "code",
   "execution_count": 151,
   "metadata": {
    "collapsed": false
   },
   "outputs": [
    {
     "data": {
      "text/plain": [
       "array([0, 1, 2, 3, 6, 4, 5, 8], dtype=int64)"
      ]
     },
     "execution_count": 151,
     "metadata": {},
     "output_type": "execute_result"
    }
   ],
   "source": [
    "user_behavior_11_15.buy_num.unique()"
   ]
  },
  {
   "cell_type": "code",
   "execution_count": 152,
   "metadata": {
    "collapsed": true
   },
   "outputs": [],
   "source": [
    "user_behavior_11_15.to_csv('user_behavior_11_15.csv', index=False)"
   ]
  },
  {
   "cell_type": "code",
   "execution_count": 159,
   "metadata": {
    "collapsed": false
   },
   "outputs": [
    {
     "data": {
      "text/html": [
       "<div>\n",
       "<table border=\"1\" class=\"dataframe\">\n",
       "  <thead>\n",
       "    <tr style=\"text-align: right;\">\n",
       "      <th></th>\n",
       "      <th>user_sku</th>\n",
       "      <th>browse_num_x</th>\n",
       "      <th>addcart_num_x</th>\n",
       "      <th>delcart_num_x</th>\n",
       "      <th>buy_num_x</th>\n",
       "      <th>favor_num_x</th>\n",
       "      <th>click_num_x</th>\n",
       "      <th>browse_num_y</th>\n",
       "      <th>addcart_num_y</th>\n",
       "      <th>delcart_num_y</th>\n",
       "      <th>buy_num_y</th>\n",
       "      <th>favor_num_y</th>\n",
       "      <th>click_num_y</th>\n",
       "    </tr>\n",
       "  </thead>\n",
       "  <tbody>\n",
       "    <tr>\n",
       "      <th>0</th>\n",
       "      <td>259734_110899</td>\n",
       "      <td>2</td>\n",
       "      <td>0</td>\n",
       "      <td>0</td>\n",
       "      <td>0</td>\n",
       "      <td>0</td>\n",
       "      <td>3</td>\n",
       "      <td>2</td>\n",
       "      <td>0</td>\n",
       "      <td>0</td>\n",
       "      <td>0</td>\n",
       "      <td>0</td>\n",
       "      <td>3</td>\n",
       "    </tr>\n",
       "    <tr>\n",
       "      <th>1</th>\n",
       "      <td>242595_62476</td>\n",
       "      <td>0</td>\n",
       "      <td>0</td>\n",
       "      <td>0</td>\n",
       "      <td>0</td>\n",
       "      <td>0</td>\n",
       "      <td>2</td>\n",
       "      <td>0</td>\n",
       "      <td>0</td>\n",
       "      <td>0</td>\n",
       "      <td>0</td>\n",
       "      <td>0</td>\n",
       "      <td>2</td>\n",
       "    </tr>\n",
       "    <tr>\n",
       "      <th>2</th>\n",
       "      <td>262977_113675</td>\n",
       "      <td>2</td>\n",
       "      <td>0</td>\n",
       "      <td>0</td>\n",
       "      <td>0</td>\n",
       "      <td>0</td>\n",
       "      <td>3</td>\n",
       "      <td>2</td>\n",
       "      <td>0</td>\n",
       "      <td>0</td>\n",
       "      <td>0</td>\n",
       "      <td>0</td>\n",
       "      <td>3</td>\n",
       "    </tr>\n",
       "    <tr>\n",
       "      <th>3</th>\n",
       "      <td>271730_141243</td>\n",
       "      <td>2</td>\n",
       "      <td>0</td>\n",
       "      <td>0</td>\n",
       "      <td>0</td>\n",
       "      <td>0</td>\n",
       "      <td>2</td>\n",
       "      <td>2</td>\n",
       "      <td>0</td>\n",
       "      <td>0</td>\n",
       "      <td>0</td>\n",
       "      <td>0</td>\n",
       "      <td>2</td>\n",
       "    </tr>\n",
       "    <tr>\n",
       "      <th>4</th>\n",
       "      <td>236537_125756</td>\n",
       "      <td>4</td>\n",
       "      <td>0</td>\n",
       "      <td>0</td>\n",
       "      <td>0</td>\n",
       "      <td>0</td>\n",
       "      <td>5</td>\n",
       "      <td>4</td>\n",
       "      <td>0</td>\n",
       "      <td>0</td>\n",
       "      <td>0</td>\n",
       "      <td>0</td>\n",
       "      <td>5</td>\n",
       "    </tr>\n",
       "  </tbody>\n",
       "</table>\n",
       "</div>"
      ],
      "text/plain": [
       "        user_sku  browse_num_x  addcart_num_x  delcart_num_x  buy_num_x  \\\n",
       "0  259734_110899             2              0              0          0   \n",
       "1   242595_62476             0              0              0          0   \n",
       "2  262977_113675             2              0              0          0   \n",
       "3  271730_141243             2              0              0          0   \n",
       "4  236537_125756             4              0              0          0   \n",
       "\n",
       "   favor_num_x  click_num_x  browse_num_y  addcart_num_y  delcart_num_y  \\\n",
       "0            0            3             2              0              0   \n",
       "1            0            2             0              0              0   \n",
       "2            0            3             2              0              0   \n",
       "3            0            2             2              0              0   \n",
       "4            0            5             4              0              0   \n",
       "\n",
       "   buy_num_y  favor_num_y  click_num_y  \n",
       "0          0            0            3  \n",
       "1          0            0            2  \n",
       "2          0            0            3  \n",
       "3          0            0            2  \n",
       "4          0            0            5  "
      ]
     },
     "execution_count": 159,
     "metadata": {},
     "output_type": "execute_result"
    }
   ],
   "source": [
    "user_behavior_10 = user_behavior_10.drop('user_id', 1)\n",
    "user_behavior_10 = user_behavior_10.drop('sku_id', 1)\n",
    "user_behavior_5_9 = user_behavior_5_9.drop('user_id', 1)\n",
    "user_behavior_5_9 = user_behavior_5_9.drop('sku_id', 1)\n",
    "\n",
    "train = pd.merge(user_behavior_10, user_behavior_5_9, on=['user_sku'], how='outer')\n",
    "\n",
    "train.head()\n"
   ]
  },
  {
   "cell_type": "code",
   "execution_count": 160,
   "metadata": {
    "collapsed": false
   },
   "outputs": [
    {
     "data": {
      "text/html": [
       "<div>\n",
       "<table border=\"1\" class=\"dataframe\">\n",
       "  <thead>\n",
       "    <tr style=\"text-align: right;\">\n",
       "      <th></th>\n",
       "      <th>user_sku</th>\n",
       "      <th>browse_num_x</th>\n",
       "      <th>addcart_num_x</th>\n",
       "      <th>delcart_num_x</th>\n",
       "      <th>buy_num_x</th>\n",
       "      <th>favor_num_x</th>\n",
       "      <th>click_num_x</th>\n",
       "      <th>browse_num_y</th>\n",
       "      <th>addcart_num_y</th>\n",
       "      <th>delcart_num_y</th>\n",
       "      <th>buy_num_y</th>\n",
       "      <th>favor_num_y</th>\n",
       "      <th>click_num_y</th>\n",
       "      <th>buy_num</th>\n",
       "    </tr>\n",
       "  </thead>\n",
       "  <tbody>\n",
       "    <tr>\n",
       "      <th>0</th>\n",
       "      <td>259734_110899</td>\n",
       "      <td>2</td>\n",
       "      <td>0</td>\n",
       "      <td>0</td>\n",
       "      <td>0</td>\n",
       "      <td>0</td>\n",
       "      <td>3</td>\n",
       "      <td>2</td>\n",
       "      <td>0</td>\n",
       "      <td>0</td>\n",
       "      <td>0</td>\n",
       "      <td>0</td>\n",
       "      <td>3</td>\n",
       "      <td>NaN</td>\n",
       "    </tr>\n",
       "    <tr>\n",
       "      <th>1</th>\n",
       "      <td>242595_62476</td>\n",
       "      <td>0</td>\n",
       "      <td>0</td>\n",
       "      <td>0</td>\n",
       "      <td>0</td>\n",
       "      <td>0</td>\n",
       "      <td>2</td>\n",
       "      <td>0</td>\n",
       "      <td>0</td>\n",
       "      <td>0</td>\n",
       "      <td>0</td>\n",
       "      <td>0</td>\n",
       "      <td>2</td>\n",
       "      <td>NaN</td>\n",
       "    </tr>\n",
       "    <tr>\n",
       "      <th>2</th>\n",
       "      <td>262977_113675</td>\n",
       "      <td>2</td>\n",
       "      <td>0</td>\n",
       "      <td>0</td>\n",
       "      <td>0</td>\n",
       "      <td>0</td>\n",
       "      <td>3</td>\n",
       "      <td>2</td>\n",
       "      <td>0</td>\n",
       "      <td>0</td>\n",
       "      <td>0</td>\n",
       "      <td>0</td>\n",
       "      <td>3</td>\n",
       "      <td>NaN</td>\n",
       "    </tr>\n",
       "    <tr>\n",
       "      <th>3</th>\n",
       "      <td>271730_141243</td>\n",
       "      <td>2</td>\n",
       "      <td>0</td>\n",
       "      <td>0</td>\n",
       "      <td>0</td>\n",
       "      <td>0</td>\n",
       "      <td>2</td>\n",
       "      <td>2</td>\n",
       "      <td>0</td>\n",
       "      <td>0</td>\n",
       "      <td>0</td>\n",
       "      <td>0</td>\n",
       "      <td>2</td>\n",
       "      <td>0.0</td>\n",
       "    </tr>\n",
       "    <tr>\n",
       "      <th>4</th>\n",
       "      <td>236537_125756</td>\n",
       "      <td>4</td>\n",
       "      <td>0</td>\n",
       "      <td>0</td>\n",
       "      <td>0</td>\n",
       "      <td>0</td>\n",
       "      <td>5</td>\n",
       "      <td>4</td>\n",
       "      <td>0</td>\n",
       "      <td>0</td>\n",
       "      <td>0</td>\n",
       "      <td>0</td>\n",
       "      <td>5</td>\n",
       "      <td>NaN</td>\n",
       "    </tr>\n",
       "  </tbody>\n",
       "</table>\n",
       "</div>"
      ],
      "text/plain": [
       "        user_sku  browse_num_x  addcart_num_x  delcart_num_x  buy_num_x  \\\n",
       "0  259734_110899             2              0              0          0   \n",
       "1   242595_62476             0              0              0          0   \n",
       "2  262977_113675             2              0              0          0   \n",
       "3  271730_141243             2              0              0          0   \n",
       "4  236537_125756             4              0              0          0   \n",
       "\n",
       "   favor_num_x  click_num_x  browse_num_y  addcart_num_y  delcart_num_y  \\\n",
       "0            0            3             2              0              0   \n",
       "1            0            2             0              0              0   \n",
       "2            0            3             2              0              0   \n",
       "3            0            2             2              0              0   \n",
       "4            0            5             4              0              0   \n",
       "\n",
       "   buy_num_y  favor_num_y  click_num_y  buy_num  \n",
       "0          0            0            3      NaN  \n",
       "1          0            0            2      NaN  \n",
       "2          0            0            3      NaN  \n",
       "3          0            0            2      0.0  \n",
       "4          0            0            5      NaN  "
      ]
     },
     "execution_count": 160,
     "metadata": {},
     "output_type": "execute_result"
    }
   ],
   "source": [
    "train = pd.merge(train, user_behavior_11_15, on=['user_sku'], how='left')\n",
    "\n",
    "train.head()"
   ]
  },
  {
   "cell_type": "code",
   "execution_count": 171,
   "metadata": {
    "collapsed": false
   },
   "outputs": [
    {
     "name": "stdout",
     "output_type": "stream",
     "text": [
      "69402\n",
      "92657\n",
      "0.7490205812836591\n"
     ]
    }
   ],
   "source": [
    "print(np.count_nonzero(train.isnull()))\n",
    "print(train.shape[0])\n",
    "print(np.count_nonzero(train.isnull())/train.shape[0])"
   ]
  },
  {
   "cell_type": "code",
   "execution_count": 174,
   "metadata": {
    "collapsed": false
   },
   "outputs": [
    {
     "data": {
      "text/html": [
       "<div>\n",
       "<table border=\"1\" class=\"dataframe\">\n",
       "  <thead>\n",
       "    <tr style=\"text-align: right;\">\n",
       "      <th></th>\n",
       "      <th>user_sku</th>\n",
       "      <th>browse_num_x</th>\n",
       "      <th>addcart_num_x</th>\n",
       "      <th>delcart_num_x</th>\n",
       "      <th>buy_num_x</th>\n",
       "      <th>favor_num_x</th>\n",
       "      <th>click_num_x</th>\n",
       "      <th>browse_num_y</th>\n",
       "      <th>addcart_num_y</th>\n",
       "      <th>delcart_num_y</th>\n",
       "      <th>buy_num_y</th>\n",
       "      <th>favor_num_y</th>\n",
       "      <th>click_num_y</th>\n",
       "      <th>buy_num</th>\n",
       "    </tr>\n",
       "  </thead>\n",
       "  <tbody>\n",
       "    <tr>\n",
       "      <th>0</th>\n",
       "      <td>259734_110899</td>\n",
       "      <td>2</td>\n",
       "      <td>0</td>\n",
       "      <td>0</td>\n",
       "      <td>0</td>\n",
       "      <td>0</td>\n",
       "      <td>3</td>\n",
       "      <td>2</td>\n",
       "      <td>0</td>\n",
       "      <td>0</td>\n",
       "      <td>0</td>\n",
       "      <td>0</td>\n",
       "      <td>3</td>\n",
       "      <td>0.0</td>\n",
       "    </tr>\n",
       "    <tr>\n",
       "      <th>1</th>\n",
       "      <td>242595_62476</td>\n",
       "      <td>0</td>\n",
       "      <td>0</td>\n",
       "      <td>0</td>\n",
       "      <td>0</td>\n",
       "      <td>0</td>\n",
       "      <td>2</td>\n",
       "      <td>0</td>\n",
       "      <td>0</td>\n",
       "      <td>0</td>\n",
       "      <td>0</td>\n",
       "      <td>0</td>\n",
       "      <td>2</td>\n",
       "      <td>0.0</td>\n",
       "    </tr>\n",
       "    <tr>\n",
       "      <th>2</th>\n",
       "      <td>262977_113675</td>\n",
       "      <td>2</td>\n",
       "      <td>0</td>\n",
       "      <td>0</td>\n",
       "      <td>0</td>\n",
       "      <td>0</td>\n",
       "      <td>3</td>\n",
       "      <td>2</td>\n",
       "      <td>0</td>\n",
       "      <td>0</td>\n",
       "      <td>0</td>\n",
       "      <td>0</td>\n",
       "      <td>3</td>\n",
       "      <td>0.0</td>\n",
       "    </tr>\n",
       "    <tr>\n",
       "      <th>3</th>\n",
       "      <td>271730_141243</td>\n",
       "      <td>2</td>\n",
       "      <td>0</td>\n",
       "      <td>0</td>\n",
       "      <td>0</td>\n",
       "      <td>0</td>\n",
       "      <td>2</td>\n",
       "      <td>2</td>\n",
       "      <td>0</td>\n",
       "      <td>0</td>\n",
       "      <td>0</td>\n",
       "      <td>0</td>\n",
       "      <td>2</td>\n",
       "      <td>0.0</td>\n",
       "    </tr>\n",
       "    <tr>\n",
       "      <th>4</th>\n",
       "      <td>236537_125756</td>\n",
       "      <td>4</td>\n",
       "      <td>0</td>\n",
       "      <td>0</td>\n",
       "      <td>0</td>\n",
       "      <td>0</td>\n",
       "      <td>5</td>\n",
       "      <td>4</td>\n",
       "      <td>0</td>\n",
       "      <td>0</td>\n",
       "      <td>0</td>\n",
       "      <td>0</td>\n",
       "      <td>5</td>\n",
       "      <td>0.0</td>\n",
       "    </tr>\n",
       "  </tbody>\n",
       "</table>\n",
       "</div>"
      ],
      "text/plain": [
       "        user_sku  browse_num_x  addcart_num_x  delcart_num_x  buy_num_x  \\\n",
       "0  259734_110899             2              0              0          0   \n",
       "1   242595_62476             0              0              0          0   \n",
       "2  262977_113675             2              0              0          0   \n",
       "3  271730_141243             2              0              0          0   \n",
       "4  236537_125756             4              0              0          0   \n",
       "\n",
       "   favor_num_x  click_num_x  browse_num_y  addcart_num_y  delcart_num_y  \\\n",
       "0            0            3             2              0              0   \n",
       "1            0            2             0              0              0   \n",
       "2            0            3             2              0              0   \n",
       "3            0            2             2              0              0   \n",
       "4            0            5             4              0              0   \n",
       "\n",
       "   buy_num_y  favor_num_y  click_num_y  buy_num  \n",
       "0          0            0            3      0.0  \n",
       "1          0            0            2      0.0  \n",
       "2          0            0            3      0.0  \n",
       "3          0            0            2      0.0  \n",
       "4          0            0            5      0.0  "
      ]
     },
     "execution_count": 174,
     "metadata": {},
     "output_type": "execute_result"
    }
   ],
   "source": [
    "train = train.fillna(0)\n",
    "train.head()"
   ]
  },
  {
   "cell_type": "code",
   "execution_count": 181,
   "metadata": {
    "collapsed": false
   },
   "outputs": [
    {
     "data": {
      "text/plain": [
       "<matplotlib.axes._subplots.AxesSubplot at 0x1916a0c7550>"
      ]
     },
     "execution_count": 181,
     "metadata": {},
     "output_type": "execute_result"
    },
    {
     "data": {
      "image/png": "[encoded data removed]",
      "text/plain": [
       "<matplotlib.figure.Figure at 0x1916a096550>"
      ]
     },
     "metadata": {},
     "output_type": "display_data"
    }
   ],
   "source": [
    "train.buy_num.value_counts().plot(kind='bar')"
   ]
  },
  {
   "cell_type": "code",
   "execution_count": 184,
   "metadata": {
    "collapsed": false
   },
   "outputs": [
    {
     "data": {
      "text/plain": [
       "'259734'"
      ]
     },
     "execution_count": 184,
     "metadata": {},
     "output_type": "execute_result"
    }
   ],
   "source": [
    "train.user_sku[0].rsplit('_', 1)[0]"
   ]
  },
  {
   "cell_type": "code",
   "execution_count": 185,
   "metadata": {
    "collapsed": false
   },
   "outputs": [
    {
     "data": {
      "text/plain": [
       "'110899'"
      ]
     },
     "execution_count": 185,
     "metadata": {},
     "output_type": "execute_result"
    }
   ],
   "source": [
    "train.user_sku[0].rsplit('_', 1)[1]"
   ]
  },
  {
   "cell_type": "code",
   "execution_count": 189,
   "metadata": {
    "collapsed": false
   },
   "outputs": [],
   "source": [
    "train['user_id'] = train.user_sku.apply(lambda x: x.rsplit('_', 1)[0]).astype(int)\n",
    "train['sku_id'] = train.user_sku.apply(lambda x: x.rsplit('_', 1)[1]).astype(int)"
   ]
  },
  {
   "cell_type": "code",
   "execution_count": 190,
   "metadata": {
    "collapsed": true
   },
   "outputs": [],
   "source": [
    "user_table = pd.read_csv('user_table.csv', header=0)\n",
    "item_table = pd.read_csv('item_table.csv', header=0)"
   ]
  },
  {
   "cell_type": "code",
   "execution_count": 192,
   "metadata": {
    "collapsed": false
   },
   "outputs": [
    {
     "data": {
      "text/plain": [
       "0    200001\n",
       "1    200002\n",
       "2    200003\n",
       "3    200004\n",
       "4    200005\n",
       "Name: user_id, dtype: int64"
      ]
     },
     "execution_count": 192,
     "metadata": {},
     "output_type": "execute_result"
    }
   ],
   "source": [
    "user_table.user_id.head()"
   ]
  },
  {
   "cell_type": "code",
   "execution_count": 193,
   "metadata": {
    "collapsed": false
   },
   "outputs": [
    {
     "data": {
      "text/plain": [
       "0    259734\n",
       "1    242595\n",
       "2    262977\n",
       "3    271730\n",
       "4    236537\n",
       "Name: user_id, dtype: int32"
      ]
     },
     "execution_count": 193,
     "metadata": {},
     "output_type": "execute_result"
    }
   ],
   "source": [
    "train.user_id.head()"
   ]
  },
  {
   "cell_type": "code",
   "execution_count": null,
   "metadata": {
    "collapsed": true
   },
   "outputs": [],
   "source": []
  },
  {
   "cell_type": "code",
   "execution_count": null,
   "metadata": {
    "collapsed": true
   },
   "outputs": [],
   "source": []
  },
  {
   "cell_type": "code",
   "execution_count": null,
   "metadata": {
    "collapsed": true
   },
   "outputs": [],
   "source": []
  },
  {
   "cell_type": "code",
   "execution_count": null,
   "metadata": {
    "collapsed": true
   },
   "outputs": [],
   "source": []
  }
 ],
 "metadata": {
  "kernelspec": {
   "display_name": "Python 3",
   "language": "python",
   "name": "python3"
  },
  "language_info": {
   "codemirror_mode": {
    "name": "ipython",
    "version": 3
   },
   "file_extension": ".py",
   "mimetype": "text/x-python",
   "name": "python",
   "nbconvert_exporter": "python",
   "pygments_lexer": "ipython3",
   "version": "3.6.0"
  }
 },
 "nbformat": 4,
 "nbformat_minor": 2
}
