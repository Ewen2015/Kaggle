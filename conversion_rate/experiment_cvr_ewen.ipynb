{
 "cells": [
  {
   "cell_type": "code",
   "execution_count": 1,
   "metadata": {
    "ExecuteTime": {
     "end_time": "2018-04-02T13:56:01.451208Z",
     "start_time": "2018-04-02T13:56:00.058240Z"
    }
   },
   "outputs": [
    {
     "name": "stdout",
     "output_type": "stream",
     "text": [
      "(18371, 2) (18371, 2)\n"
     ]
    }
   ],
   "source": [
    "import pandas as pd\n",
    "\n",
    "wd = \"/Users/ewenwang/Documents/practice_data/conversion_rate/\"\n",
    "\n",
    "result_3 = pd.read_csv(wd+'result_3.txt', sep=' ')\n",
    "result_1 = pd.read_csv(wd+'result_1.txt', sep=' ')\n",
    "\n",
    "print(result_1.shape, result_3.shape)"
   ]
  },
  {
   "cell_type": "code",
   "execution_count": 8,
   "metadata": {
    "ExecuteTime": {
     "end_time": "2018-03-31T01:27:10.187036Z",
     "start_time": "2018-03-31T01:26:35.563063Z"
    }
   },
   "outputs": [],
   "source": [
    "data = pd.read_csv(wd+'snow_data.txt', sep=' ')"
   ]
  },
  {
   "cell_type": "code",
   "execution_count": 28,
   "metadata": {
    "ExecuteTime": {
     "end_time": "2018-03-31T02:14:21.478911Z",
     "start_time": "2018-03-31T02:14:21.466101Z"
    }
   },
   "outputs": [
    {
     "data": {
      "text/plain": [
       "array([18, 21, 19, 20, 22, 23, 24, 25])"
      ]
     },
     "execution_count": 28,
     "metadata": {},
     "output_type": "execute_result"
    }
   ],
   "source": [
    "data.day.unique()"
   ]
  },
  {
   "cell_type": "code",
   "execution_count": 29,
   "metadata": {
    "ExecuteTime": {
     "end_time": "2018-03-31T02:14:36.819325Z",
     "start_time": "2018-03-31T02:14:34.146507Z"
    }
   },
   "outputs": [],
   "source": [
    "train = data[(data['day'] <= 23)]\n",
    "test = data[(data['day'] == 24)]"
   ]
  },
  {
   "cell_type": "code",
   "execution_count": 32,
   "metadata": {
    "ExecuteTime": {
     "end_time": "2018-03-31T02:19:50.391050Z",
     "start_time": "2018-03-31T02:19:50.388323Z"
    }
   },
   "outputs": [],
   "source": [
    "from Submission import Submission"
   ]
  },
  {
   "cell_type": "code",
   "execution_count": 24,
   "metadata": {
    "ExecuteTime": {
     "end_time": "2018-03-31T02:11:23.910227Z",
     "start_time": "2018-03-31T02:11:23.897203Z"
    }
   },
   "outputs": [],
   "source": [
    "submision = result_1.drop('predicted_score', axis=1).merge(result_3, on='instance_id', how='left').fillna(0)"
   ]
  },
  {
   "cell_type": "code",
   "execution_count": 25,
   "metadata": {
    "ExecuteTime": {
     "end_time": "2018-03-31T02:11:24.387978Z",
     "start_time": "2018-03-31T02:11:24.381211Z"
    }
   },
   "outputs": [
    {
     "data": {
      "text/plain": [
       "(18371, 2)"
      ]
     },
     "execution_count": 25,
     "metadata": {},
     "output_type": "execute_result"
    }
   ],
   "source": [
    "submision.shape"
   ]
  },
  {
   "cell_type": "code",
   "execution_count": 26,
   "metadata": {
    "ExecuteTime": {
     "end_time": "2018-03-31T02:11:25.552079Z",
     "start_time": "2018-03-31T02:11:25.540247Z"
    }
   },
   "outputs": [
    {
     "data": {
      "text/html": [
       "<div>\n",
       "<style scoped>\n",
       "    .dataframe tbody tr th:only-of-type {\n",
       "        vertical-align: middle;\n",
       "    }\n",
       "\n",
       "    .dataframe tbody tr th {\n",
       "        vertical-align: top;\n",
       "    }\n",
       "\n",
       "    .dataframe thead th {\n",
       "        text-align: right;\n",
       "    }\n",
       "</style>\n",
       "<table border=\"1\" class=\"dataframe\">\n",
       "  <thead>\n",
       "    <tr style=\"text-align: right;\">\n",
       "      <th></th>\n",
       "      <th>instance_id</th>\n",
       "      <th>predicted_score</th>\n",
       "    </tr>\n",
       "  </thead>\n",
       "  <tbody>\n",
       "    <tr>\n",
       "      <th>0</th>\n",
       "      <td>2475218615076601065</td>\n",
       "      <td>0.007114</td>\n",
       "    </tr>\n",
       "    <tr>\n",
       "      <th>1</th>\n",
       "      <td>398316874173557226</td>\n",
       "      <td>0.017694</td>\n",
       "    </tr>\n",
       "    <tr>\n",
       "      <th>2</th>\n",
       "      <td>6586402638209028583</td>\n",
       "      <td>0.024523</td>\n",
       "    </tr>\n",
       "    <tr>\n",
       "      <th>3</th>\n",
       "      <td>1040996105851528465</td>\n",
       "      <td>0.022867</td>\n",
       "    </tr>\n",
       "    <tr>\n",
       "      <th>4</th>\n",
       "      <td>6316278569655873454</td>\n",
       "      <td>0.022635</td>\n",
       "    </tr>\n",
       "  </tbody>\n",
       "</table>\n",
       "</div>"
      ],
      "text/plain": [
       "           instance_id  predicted_score\n",
       "0  2475218615076601065         0.007114\n",
       "1   398316874173557226         0.017694\n",
       "2  6586402638209028583         0.024523\n",
       "3  1040996105851528465         0.022867\n",
       "4  6316278569655873454         0.022635"
      ]
     },
     "execution_count": 26,
     "metadata": {},
     "output_type": "execute_result"
    }
   ],
   "source": [
    "submision.head()"
   ]
  },
  {
   "cell_type": "code",
   "execution_count": null,
   "metadata": {
    "ExecuteTime": {
     "end_time": "2018-03-31T02:10:26.831855Z",
     "start_time": "2018-03-31T02:10:26.795795Z"
    }
   },
   "outputs": [],
   "source": []
  },
  {
   "cell_type": "code",
   "execution_count": 27,
   "metadata": {
    "ExecuteTime": {
     "end_time": "2018-03-31T02:11:28.651665Z",
     "start_time": "2018-03-31T02:11:28.535285Z"
    }
   },
   "outputs": [],
   "source": [
    "submision.to_csv(wd+'result_3.txt', index=False, sep=' ')"
   ]
  },
  {
   "cell_type": "code",
   "execution_count": 2,
   "metadata": {
    "ExecuteTime": {
     "end_time": "2018-04-02T13:56:17.390783Z",
     "start_time": "2018-04-02T13:56:17.386828Z"
    }
   },
   "outputs": [],
   "source": [
    "wd = '/Users/ewenwang/Documents/practice_data/conversion_rate/'\n",
    "test_file = 'round1_ijcai_18_test_a_20180301.txt'"
   ]
  },
  {
   "cell_type": "code",
   "execution_count": 3,
   "metadata": {
    "ExecuteTime": {
     "end_time": "2018-04-02T13:56:19.250877Z",
     "start_time": "2018-04-02T13:56:18.897415Z"
    }
   },
   "outputs": [],
   "source": [
    "result = pd.DataFrame(pd.read_csv(wd+test_file, sep=' ')['instance_id']).merge(result_3, on='instance_id', how='left').fillna(0)"
   ]
  },
  {
   "cell_type": "code",
   "execution_count": 7,
   "metadata": {
    "ExecuteTime": {
     "end_time": "2018-04-01T04:20:34.076487Z",
     "start_time": "2018-04-01T04:20:34.067206Z"
    }
   },
   "outputs": [
    {
     "data": {
      "text/html": [
       "<div>\n",
       "<style scoped>\n",
       "    .dataframe tbody tr th:only-of-type {\n",
       "        vertical-align: middle;\n",
       "    }\n",
       "\n",
       "    .dataframe tbody tr th {\n",
       "        vertical-align: top;\n",
       "    }\n",
       "\n",
       "    .dataframe thead th {\n",
       "        text-align: right;\n",
       "    }\n",
       "</style>\n",
       "<table border=\"1\" class=\"dataframe\">\n",
       "  <thead>\n",
       "    <tr style=\"text-align: right;\">\n",
       "      <th></th>\n",
       "      <th>instance_id</th>\n",
       "      <th>predicted_score</th>\n",
       "    </tr>\n",
       "  </thead>\n",
       "  <tbody>\n",
       "    <tr>\n",
       "      <th>0</th>\n",
       "      <td>2475218615076601065</td>\n",
       "      <td>0.007114</td>\n",
       "    </tr>\n",
       "    <tr>\n",
       "      <th>1</th>\n",
       "      <td>398316874173557226</td>\n",
       "      <td>0.017694</td>\n",
       "    </tr>\n",
       "    <tr>\n",
       "      <th>2</th>\n",
       "      <td>6586402638209028583</td>\n",
       "      <td>0.024523</td>\n",
       "    </tr>\n",
       "    <tr>\n",
       "      <th>3</th>\n",
       "      <td>1040996105851528465</td>\n",
       "      <td>0.022867</td>\n",
       "    </tr>\n",
       "    <tr>\n",
       "      <th>4</th>\n",
       "      <td>6316278569655873454</td>\n",
       "      <td>0.022635</td>\n",
       "    </tr>\n",
       "  </tbody>\n",
       "</table>\n",
       "</div>"
      ],
      "text/plain": [
       "           instance_id  predicted_score\n",
       "0  2475218615076601065         0.007114\n",
       "1   398316874173557226         0.017694\n",
       "2  6586402638209028583         0.024523\n",
       "3  1040996105851528465         0.022867\n",
       "4  6316278569655873454         0.022635"
      ]
     },
     "execution_count": 7,
     "metadata": {},
     "output_type": "execute_result"
    }
   ],
   "source": [
    "result.head()"
   ]
  },
  {
   "cell_type": "code",
   "execution_count": 8,
   "metadata": {
    "ExecuteTime": {
     "end_time": "2018-04-01T04:22:51.920351Z",
     "start_time": "2018-04-01T04:22:51.576472Z"
    }
   },
   "outputs": [],
   "source": [
    "test = pd.read_csv(wd+test_file, sep=' ')"
   ]
  },
  {
   "cell_type": "code",
   "execution_count": 10,
   "metadata": {
    "ExecuteTime": {
     "end_time": "2018-04-01T04:23:54.725724Z",
     "start_time": "2018-04-01T04:23:54.632959Z"
    }
   },
   "outputs": [],
   "source": [
    "import time\n",
    "\n",
    "def timestamp_datetime(timestamp):\n",
    "    return time.strftime(\"%Y-%m-%d %H:%M:%S\", time.localtime(timestamp))\n",
    "\n",
    "test['realtime'] = test['context_timestamp'].apply(timestamp_datetime)"
   ]
  },
  {
   "cell_type": "code",
   "execution_count": 12,
   "metadata": {
    "ExecuteTime": {
     "end_time": "2018-04-01T04:24:21.649473Z",
     "start_time": "2018-04-01T04:24:21.640864Z"
    }
   },
   "outputs": [
    {
     "data": {
      "text/plain": [
       "0    2018-09-25 22:28:20\n",
       "1    2018-09-25 16:07:23\n",
       "2    2018-09-25 14:50:22\n",
       "3    2018-09-25 15:35:15\n",
       "4    2018-09-25 15:04:34\n",
       "5    2018-09-25 16:02:57\n",
       "6    2018-09-25 11:35:09\n",
       "7    2018-09-25 13:11:09\n",
       "8    2018-09-25 11:28:03\n",
       "9    2018-09-25 14:09:08\n",
       "Name: realtime, dtype: object"
      ]
     },
     "execution_count": 12,
     "metadata": {},
     "output_type": "execute_result"
    }
   ],
   "source": [
    "test.realtime[:10]"
   ]
  },
  {
   "cell_type": "code",
   "execution_count": null,
   "metadata": {},
   "outputs": [],
   "source": []
  }
 ],
 "metadata": {
  "kernelspec": {
   "display_name": "Python 3",
   "language": "python",
   "name": "python3"
  },
  "language_info": {
   "codemirror_mode": {
    "name": "ipython",
    "version": 3
   },
   "file_extension": ".py",
   "mimetype": "text/x-python",
   "name": "python",
   "nbconvert_exporter": "python",
   "pygments_lexer": "ipython3",
   "version": "3.6.3"
  },
  "toc": {
   "nav_menu": {},
   "number_sections": true,
   "sideBar": true,
   "skip_h1_title": false,
   "toc_cell": false,
   "toc_position": {},
   "toc_section_display": "block",
   "toc_window_display": false
  },
  "varInspector": {
   "cols": {
    "lenName": 16,
    "lenType": 16,
    "lenVar": 40
   },
   "kernels_config": {
    "python": {
     "delete_cmd_postfix": "",
     "delete_cmd_prefix": "del ",
     "library": "var_list.py",
     "varRefreshCmd": "print(var_dic_list())"
    },
    "r": {
     "delete_cmd_postfix": ") ",
     "delete_cmd_prefix": "rm(",
     "library": "var_list.r",
     "varRefreshCmd": "cat(var_dic_list()) "
    }
   },
   "types_to_exclude": [
    "module",
    "function",
    "builtin_function_or_method",
    "instance",
    "_Feature"
   ],
   "window_display": false
  }
 },
 "nbformat": 4,
 "nbformat_minor": 2
}
