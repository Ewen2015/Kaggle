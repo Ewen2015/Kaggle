{
 "cells": [
  {
   "cell_type": "code",
   "execution_count": 1,
   "metadata": {
    "ExecuteTime": {
     "end_time": "2018-03-25T09:09:54.863819Z",
     "start_time": "2018-03-25T09:09:46.972593Z"
    }
   },
   "outputs": [],
   "source": [
    "import pandas as pd\n",
    "import lightgbm as lgb\n",
    "import Conversion\n",
    "from Conversion import Train\n",
    "\n",
    "import warnings\n",
    "warnings.filterwarnings('ignore')\n",
    "\n",
    "train, test = Conversion.load_data(data_list=Conversion.new_data)\n",
    "models = Train(train=train, target=Conversion.target, features=Conversion.numeric_features, validation_day=24)"
   ]
  },
  {
   "cell_type": "code",
   "execution_count": 2,
   "metadata": {
    "ExecuteTime": {
     "end_time": "2018-03-25T09:10:31.465699Z",
     "start_time": "2018-03-25T09:10:13.933368Z"
    }
   },
   "outputs": [
    {
     "name": "stdout",
     "output_type": "stream",
     "text": [
      "log loss:  0.08314635413059049\n"
     ]
    }
   ],
   "source": [
    "clf_bsline = models.Baseline()"
   ]
  },
  {
   "cell_type": "code",
   "execution_count": 3,
   "metadata": {
    "ExecuteTime": {
     "end_time": "2018-03-25T09:19:58.695198Z",
     "start_time": "2018-03-25T09:10:51.895536Z"
    }
   },
   "outputs": [
    {
     "name": "stdout",
     "output_type": "stream",
     "text": [
      "simulating...\n",
      "\n",
      "INFO: Number of possible iterations given cooling schedule: 2279\n",
      "\n"
     ]
    },
    {
     "name": "stderr",
     "output_type": "stream",
     "text": [
      "[Parallel(n_jobs=1)]: Done   5 out of   5 | elapsed:  1.1min finished\n"
     ]
    },
    {
     "name": "stdout",
     "output_type": "stream",
     "text": [
      "2 T: 10.0, score: -0.0906, std: 0.0030, params: {'max_depth': '2.00', 'subsample': '0.56', 'colsample_bytree': '0.89'}\n"
     ]
    },
    {
     "name": "stderr",
     "output_type": "stream",
     "text": [
      "[Parallel(n_jobs=1)]: Done   5 out of   5 | elapsed:   56.4s finished\n"
     ]
    },
    {
     "name": "stdout",
     "output_type": "stream",
     "text": [
      "3 T: 10.0, score: -0.0905, std: 0.0030, params: {'max_depth': '2.00', 'subsample': '0.26', 'colsample_bytree': '0.89'}\n"
     ]
    },
    {
     "name": "stderr",
     "output_type": "stream",
     "text": [
      "[Parallel(n_jobs=1)]: Done   5 out of   5 | elapsed:   52.0s finished\n"
     ]
    },
    {
     "name": "stdout",
     "output_type": "stream",
     "text": [
      "4 T: 10.0, score: -0.0904, std: 0.0030, params: {'max_depth': '2.00', 'subsample': '0.18', 'colsample_bytree': '0.89'}\n"
     ]
    },
    {
     "name": "stderr",
     "output_type": "stream",
     "text": [
      "[Parallel(n_jobs=1)]: Done   5 out of   5 | elapsed:  1.3min finished\n"
     ]
    },
    {
     "name": "stdout",
     "output_type": "stream",
     "text": [
      "5 T: 10.0, score: -0.0907, std: 0.0029, params: {'max_depth': '2.00', 'subsample': '0.95', 'colsample_bytree': '0.89'}\n"
     ]
    },
    {
     "name": "stderr",
     "output_type": "stream",
     "text": [
      "[Parallel(n_jobs=1)]: Done   5 out of   5 | elapsed:  2.3min finished\n"
     ]
    },
    {
     "name": "stdout",
     "output_type": "stream",
     "text": [
      "6 T: 10.0, score: -0.0898, std: 0.0029, params: {'max_depth': '8.00', 'subsample': '0.95', 'colsample_bytree': '0.89'}\n",
      "\n",
      "best score: -0.089831 \n",
      "log loss: 0.082079 \n",
      "best parameters: {'max_depth': '8.00', 'subsample': '0.95', 'colsample_bytree': '0.89'}\n"
     ]
    }
   ],
   "source": [
    "clf_sim_1 = models.simAnneal(alpha=0.98, scoring='neg_log_loss')"
   ]
  },
  {
   "cell_type": "code",
   "execution_count": 4,
   "metadata": {
    "ExecuteTime": {
     "end_time": "2018-03-25T09:32:50.392949Z",
     "start_time": "2018-03-25T09:20:48.334657Z"
    }
   },
   "outputs": [
    {
     "name": "stdout",
     "output_type": "stream",
     "text": [
      "simulating...\n",
      "\n",
      "INFO: Number of possible iterations given cooling schedule: 2279\n",
      "\n"
     ]
    },
    {
     "name": "stderr",
     "output_type": "stream",
     "text": [
      "[Parallel(n_jobs=1)]: Done   5 out of   5 | elapsed:  2.3min finished\n"
     ]
    },
    {
     "name": "stdout",
     "output_type": "stream",
     "text": [
      "2 T: 10.0, score: 0.6902, std: 0.0050, params: {'max_depth': '14.00', 'subsample': '0.99', 'colsample_bytree': '0.40'}\n"
     ]
    },
    {
     "name": "stderr",
     "output_type": "stream",
     "text": [
      "[Parallel(n_jobs=1)]: Done   5 out of   5 | elapsed:  2.2min finished\n"
     ]
    },
    {
     "name": "stdout",
     "output_type": "stream",
     "text": [
      "3 T: 10.0, score: 0.6905, std: 0.0049, params: {'max_depth': '14.00', 'subsample': '0.90', 'colsample_bytree': '0.40'}\n"
     ]
    },
    {
     "name": "stderr",
     "output_type": "stream",
     "text": [
      "[Parallel(n_jobs=1)]: Done   5 out of   5 | elapsed:  2.1min finished\n"
     ]
    },
    {
     "name": "stdout",
     "output_type": "stream",
     "text": [
      "4 T: 10.0, score: 0.6706, std: 0.0041, params: {'max_depth': '14.00', 'subsample': '0.90', 'colsample_bytree': '0.01'}\n"
     ]
    },
    {
     "name": "stderr",
     "output_type": "stream",
     "text": [
      "[Parallel(n_jobs=1)]: Done   5 out of   5 | elapsed:  1.3min finished\n"
     ]
    },
    {
     "name": "stdout",
     "output_type": "stream",
     "text": [
      "5 T: 10.0, score: 0.6705, std: 0.0036, params: {'max_depth': '14.00', 'subsample': '0.09', 'colsample_bytree': '0.01'}\n"
     ]
    },
    {
     "name": "stderr",
     "output_type": "stream",
     "text": [
      "[Parallel(n_jobs=1)]: Done   5 out of   5 | elapsed:  1.3min finished\n"
     ]
    },
    {
     "name": "stdout",
     "output_type": "stream",
     "text": [
      "6 T: 10.0, score: 0.6704, std: 0.0036, params: {'max_depth': '13.00', 'subsample': '0.09', 'colsample_bytree': '0.01'}\n",
      "\n",
      "best score: 0.690520 \n",
      "log loss: 0.082087 \n",
      "best parameters: {'max_depth': '14.00', 'subsample': '0.90', 'colsample_bytree': '0.40'}\n"
     ]
    }
   ],
   "source": [
    "clf_sim_2 = models.simAnneal(alpha=0.98, scoring='roc_auc')"
   ]
  },
  {
   "cell_type": "code",
   "execution_count": 5,
   "metadata": {
    "ExecuteTime": {
     "end_time": "2018-03-25T09:46:15.771494Z",
     "start_time": "2018-03-25T09:35:31.159615Z"
    }
   },
   "outputs": [
    {
     "name": "stdout",
     "output_type": "stream",
     "text": [
      "simulating...\n",
      "\n",
      "INFO: Number of possible iterations given cooling schedule: 2279\n",
      "\n"
     ]
    },
    {
     "name": "stderr",
     "output_type": "stream",
     "text": [
      "[Parallel(n_jobs=1)]: Done   5 out of   5 | elapsed:  1.2min finished\n"
     ]
    },
    {
     "name": "stdout",
     "output_type": "stream",
     "text": [
      "2 T: 10.0, score: -0.0900, std: 0.0029, params: {'max_depth': '4.00', 'subsample': '0.16', 'colsample_bytree': '0.62'}\n"
     ]
    },
    {
     "name": "stderr",
     "output_type": "stream",
     "text": [
      "[Parallel(n_jobs=1)]: Done   5 out of   5 | elapsed:  1.7min finished\n"
     ]
    },
    {
     "name": "stdout",
     "output_type": "stream",
     "text": [
      "3 T: 10.0, score: -0.0900, std: 0.0029, params: {'max_depth': '4.00', 'subsample': '0.92', 'colsample_bytree': '0.62'}\n"
     ]
    },
    {
     "name": "stderr",
     "output_type": "stream",
     "text": [
      "[Parallel(n_jobs=1)]: Done   5 out of   5 | elapsed:  1.6min finished\n"
     ]
    },
    {
     "name": "stdout",
     "output_type": "stream",
     "text": [
      "4 T: 10.0, score: -0.0900, std: 0.0029, params: {'max_depth': '4.00', 'subsample': '0.87', 'colsample_bytree': '0.62'}\n"
     ]
    },
    {
     "name": "stderr",
     "output_type": "stream",
     "text": [
      "[Parallel(n_jobs=1)]: Done   5 out of   5 | elapsed:  2.1min finished\n"
     ]
    },
    {
     "name": "stdout",
     "output_type": "stream",
     "text": [
      "5 T: 10.0, score: -0.0898, std: 0.0029, params: {'max_depth': '11.00', 'subsample': '0.87', 'colsample_bytree': '0.62'}\n"
     ]
    },
    {
     "name": "stderr",
     "output_type": "stream",
     "text": [
      "[Parallel(n_jobs=1)]: Done   5 out of   5 | elapsed:  2.1min finished\n"
     ]
    },
    {
     "name": "stdout",
     "output_type": "stream",
     "text": [
      "6 T: 10.0, score: -0.0898, std: 0.0029, params: {'max_depth': '11.00', 'subsample': '0.87', 'colsample_bytree': '0.83'}\n",
      "\n",
      "best score: -0.089830 \n",
      "log loss: 0.082067 \n",
      "best parameters: {'max_depth': '11.00', 'subsample': '0.87', 'colsample_bytree': '0.83'}\n"
     ]
    }
   ],
   "source": [
    "clf_sim_3 = models.simAnneal(alpha=0.98, scoring='neg_log_loss', seed=0)"
   ]
  },
  {
   "cell_type": "code",
   "execution_count": 6,
   "metadata": {
    "ExecuteTime": {
     "end_time": "2018-03-25T10:04:04.521226Z",
     "start_time": "2018-03-25T09:47:56.354284Z"
    }
   },
   "outputs": [
    {
     "name": "stdout",
     "output_type": "stream",
     "text": [
      "simulating...\n",
      "\n",
      "INFO: Number of possible iterations given cooling schedule: 4582\n",
      "\n"
     ]
    },
    {
     "name": "stderr",
     "output_type": "stream",
     "text": [
      "[Parallel(n_jobs=1)]: Done   5 out of   5 | elapsed:  2.0min finished\n"
     ]
    },
    {
     "name": "stdout",
     "output_type": "stream",
     "text": [
      "2 T: 10.0, score: -0.0898, std: 0.0029, params: {'max_depth': '15.00', 'subsample': '0.68', 'colsample_bytree': '0.86'}\n"
     ]
    },
    {
     "name": "stderr",
     "output_type": "stream",
     "text": [
      "[Parallel(n_jobs=1)]: Done   5 out of   5 | elapsed:  3.9min finished\n"
     ]
    },
    {
     "name": "stdout",
     "output_type": "stream",
     "text": [
      "3 T: 10.0, score: -0.0898, std: 0.0029, params: {'max_depth': '9.00', 'subsample': '0.68', 'colsample_bytree': '0.86'}\n"
     ]
    },
    {
     "name": "stderr",
     "output_type": "stream",
     "text": [
      "[Parallel(n_jobs=1)]: Done   5 out of   5 | elapsed:  2.1min finished\n"
     ]
    },
    {
     "name": "stdout",
     "output_type": "stream",
     "text": [
      "4 T: 10.0, score: -0.0898, std: 0.0029, params: {'max_depth': '18.00', 'subsample': '0.68', 'colsample_bytree': '0.86'}\n"
     ]
    },
    {
     "name": "stderr",
     "output_type": "stream",
     "text": [
      "[Parallel(n_jobs=1)]: Done   5 out of   5 | elapsed:  2.0min finished\n"
     ]
    },
    {
     "name": "stdout",
     "output_type": "stream",
     "text": [
      "5 T: 10.0, score: -0.0899, std: 0.0029, params: {'max_depth': '18.00', 'subsample': '0.68', 'colsample_bytree': '0.97'}\n"
     ]
    },
    {
     "name": "stderr",
     "output_type": "stream",
     "text": [
      "[Parallel(n_jobs=1)]: Done   5 out of   5 | elapsed:  3.7min finished\n"
     ]
    },
    {
     "name": "stdout",
     "output_type": "stream",
     "text": [
      "6 T: 10.0, score: -0.0915, std: 0.0029, params: {'max_depth': '18.00', 'subsample': '0.68', 'colsample_bytree': '0.11'}\n",
      "\n",
      "best score: -0.089812 \n",
      "log loss: 0.082051 \n",
      "best parameters: {'max_depth': '9.00', 'subsample': '0.68', 'colsample_bytree': '0.86'}\n"
     ]
    }
   ],
   "source": [
    "clf_sim_4 = models.simAnneal(alpha=0.99, scoring='neg_log_loss', seed=0)"
   ]
  },
  {
   "cell_type": "code",
   "execution_count": 8,
   "metadata": {
    "ExecuteTime": {
     "end_time": "2018-03-25T10:08:08.553099Z",
     "start_time": "2018-03-25T10:08:08.024699Z"
    }
   },
   "outputs": [
    {
     "data": {
      "text/html": [
       "<div>\n",
       "<style scoped>\n",
       "    .dataframe tbody tr th:only-of-type {\n",
       "        vertical-align: middle;\n",
       "    }\n",
       "\n",
       "    .dataframe tbody tr th {\n",
       "        vertical-align: top;\n",
       "    }\n",
       "\n",
       "    .dataframe thead th {\n",
       "        text-align: right;\n",
       "    }\n",
       "</style>\n",
       "<table border=\"1\" class=\"dataframe\">\n",
       "  <thead>\n",
       "    <tr style=\"text-align: right;\">\n",
       "      <th></th>\n",
       "      <th>instance_id</th>\n",
       "      <th>predicted_score</th>\n",
       "    </tr>\n",
       "  </thead>\n",
       "  <tbody>\n",
       "    <tr>\n",
       "      <th>0</th>\n",
       "      <td>2475218615076601065</td>\n",
       "      <td>0.007346</td>\n",
       "    </tr>\n",
       "    <tr>\n",
       "      <th>1</th>\n",
       "      <td>398316874173557226</td>\n",
       "      <td>0.023628</td>\n",
       "    </tr>\n",
       "    <tr>\n",
       "      <th>2</th>\n",
       "      <td>6586402638209028583</td>\n",
       "      <td>0.023034</td>\n",
       "    </tr>\n",
       "    <tr>\n",
       "      <th>3</th>\n",
       "      <td>1040996105851528465</td>\n",
       "      <td>0.020208</td>\n",
       "    </tr>\n",
       "    <tr>\n",
       "      <th>4</th>\n",
       "      <td>6316278569655873454</td>\n",
       "      <td>0.020356</td>\n",
       "    </tr>\n",
       "  </tbody>\n",
       "</table>\n",
       "</div>"
      ],
      "text/plain": [
       "           instance_id  predicted_score\n",
       "0  2475218615076601065         0.007346\n",
       "1   398316874173557226         0.023628\n",
       "2  6586402638209028583         0.023034\n",
       "3  1040996105851528465         0.020208\n",
       "4  6316278569655873454         0.020356"
      ]
     },
     "execution_count": 8,
     "metadata": {},
     "output_type": "execute_result"
    }
   ],
   "source": [
    "output = pd.DataFrame()\n",
    "prediction = pd.DataFrame(clf_sim_4.best_estimator_.predict_proba(test[Conversion.numeric_features])[:,1])\n",
    "output['instance_id'] = test['instance_id']\n",
    "output['predicted_score'] = prediction\n",
    "\n",
    "output.head()"
   ]
  },
  {
   "cell_type": "code",
   "execution_count": 9,
   "metadata": {
    "ExecuteTime": {
     "end_time": "2018-03-25T10:08:17.437713Z",
     "start_time": "2018-03-25T10:08:17.309637Z"
    }
   },
   "outputs": [],
   "source": [
    "output.to_csv('result_1.txt', index=False, sep=' ')"
   ]
  },
  {
   "cell_type": "code",
   "execution_count": null,
   "metadata": {},
   "outputs": [],
   "source": []
  }
 ],
 "metadata": {
  "kernelspec": {
   "display_name": "Python 3",
   "language": "python",
   "name": "python3"
  },
  "language_info": {
   "codemirror_mode": {
    "name": "ipython",
    "version": 3
   },
   "file_extension": ".py",
   "mimetype": "text/x-python",
   "name": "python",
   "nbconvert_exporter": "python",
   "pygments_lexer": "ipython3",
   "version": "3.6.3"
  },
  "toc": {
   "nav_menu": {},
   "number_sections": true,
   "sideBar": true,
   "skip_h1_title": false,
   "toc_cell": false,
   "toc_position": {},
   "toc_section_display": "block",
   "toc_window_display": false
  },
  "varInspector": {
   "cols": {
    "lenName": 16,
    "lenType": 16,
    "lenVar": 40
   },
   "kernels_config": {
    "python": {
     "delete_cmd_postfix": "",
     "delete_cmd_prefix": "del ",
     "library": "var_list.py",
     "varRefreshCmd": "print(var_dic_list())"
    },
    "r": {
     "delete_cmd_postfix": ") ",
     "delete_cmd_prefix": "rm(",
     "library": "var_list.r",
     "varRefreshCmd": "cat(var_dic_list()) "
    }
   },
   "types_to_exclude": [
    "module",
    "function",
    "builtin_function_or_method",
    "instance",
    "_Feature"
   ],
   "window_display": false
  }
 },
 "nbformat": 4,
 "nbformat_minor": 2
}
