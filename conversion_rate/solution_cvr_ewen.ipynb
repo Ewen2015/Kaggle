{
 "cells": [
  {
   "cell_type": "markdown",
   "metadata": {},
   "source": [
    "# Solution to IJCAI-2018\n",
    "\n",
    "## Data Processing\n",
    "\n",
    "'instance_id'\n",
    "\n",
    "'item_id'\n",
    "'item_category_list'\n",
    "    'item_category_list_0'\n",
    "    'item_category_list_1'\n",
    "    'item_category_list_2'\n",
    "'item_property_list'\n",
    "    'item_property_prob'\n",
    "'item_brand_id'\n",
    "'item_city_id'\n",
    "'item_price_level'\n",
    "'item_sales_level'\n",
    "'item_collected_level'\n",
    "'item_pv_level'\n",
    "\n",
    "'user_id' \n",
    "'user_gender_id'\n",
    "    'gender_bin'\n",
    "'user_age_level'\n",
    "'user_occupation_id' \n",
    "    'occupation_bin'\n",
    "'user_star_level'\n",
    "    'star_bin'\n",
    "\n",
    "'context_id'\n",
    "'context_timestamp'\n",
    "    'realtime'\n",
    "        'day'\n",
    "        'hour'\n",
    "'context_page_id'\n",
    "'predict_category_property'\n",
    "    'predict_category_property_0'\n",
    "    'predict_category_property_1'\n",
    "    'predict_category_property_2'\n",
    "    'predict_category_property_3'\n",
    "    'predict_category_property_4'\n",
    "\n",
    "'shop_id'\n",
    "'shop_review_num_level'\n",
    "'shop_review_positive_rate'\n",
    "'shop_star_level'\n",
    "'shop_score_service' \n",
    "'shop_score_delivery'\n",
    "'shop_score_description' \n",
    "\n",
    "'is_trade'\n",
    "\n",
    "## Feature Engineering\n",
    "\n",
    "### Binning\n",
    "\n",
    "### Rates\n",
    "\n",
    "### Count & Sliding Count\n",
    "\n",
    "### Conversion Rate\n",
    "\n",
    "### Graph Metrics\n",
    "\n"
   ]
  }
 ],
 "metadata": {
  "kernelspec": {
   "display_name": "Python 3",
   "language": "python",
   "name": "python3"
  },
  "language_info": {
   "codemirror_mode": {
    "name": "ipython",
    "version": 3
   },
   "file_extension": ".py",
   "mimetype": "text/x-python",
   "name": "python",
   "nbconvert_exporter": "python",
   "pygments_lexer": "ipython3",
   "version": "3.6.3"
  },
  "toc": {
   "nav_menu": {},
   "number_sections": true,
   "sideBar": true,
   "skip_h1_title": false,
   "toc_cell": false,
   "toc_position": {},
   "toc_section_display": "block",
   "toc_window_display": false
  },
  "varInspector": {
   "cols": {
    "lenName": 16,
    "lenType": 16,
    "lenVar": 40
   },
   "kernels_config": {
    "python": {
     "delete_cmd_postfix": "",
     "delete_cmd_prefix": "del ",
     "library": "var_list.py",
     "varRefreshCmd": "print(var_dic_list())"
    },
    "r": {
     "delete_cmd_postfix": ") ",
     "delete_cmd_prefix": "rm(",
     "library": "var_list.r",
     "varRefreshCmd": "cat(var_dic_list()) "
    }
   },
   "types_to_exclude": [
    "module",
    "function",
    "builtin_function_or_method",
    "instance",
    "_Feature"
   ],
   "window_display": false
  }
 },
 "nbformat": 4,
 "nbformat_minor": 2
}
