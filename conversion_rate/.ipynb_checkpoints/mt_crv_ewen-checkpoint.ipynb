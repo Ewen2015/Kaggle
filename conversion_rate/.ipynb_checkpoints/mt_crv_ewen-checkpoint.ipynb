{
 "cells": [
  {
   "cell_type": "code",
   "execution_count": 1,
   "metadata": {
    "ExecuteTime": {
     "end_time": "2018-03-24T02:14:40.800486Z",
     "start_time": "2018-03-24T02:14:30.257496Z"
    }
   },
   "outputs": [],
   "source": [
    "import os \n",
    "import pandas as pd\n",
    "import gossipcat as gc\n",
    "\n",
    "wd = '/Users/ewenwang/Documents/practice_data/conversion_rate'\n",
    "os.chdir(wd)\n",
    "\n",
    "train_file = 'round1_ijcai_18_train_20180301.txt'\n",
    "train_data = pd.read_csv(train_file, sep=' ')\n",
    "\n",
    "test_file = 'round1_ijcai_18_test_a_20180301.txt'\n",
    "test_data = pd.read_csv(test_file, sep=' ')\n",
    "\n",
    "target = 'is_trade'\n",
    "features = [x for x in train_data.columns if x not in [target]]\n",
    "\n",
    "feature = gc.Feature(data=train_data, target=target, features=features)"
   ]
  },
  {
   "cell_type": "code",
   "execution_count": 2,
   "metadata": {
    "ExecuteTime": {
     "end_time": "2018-03-24T02:14:42.624614Z",
     "start_time": "2018-03-24T02:14:42.290481Z"
    }
   },
   "outputs": [],
   "source": [
    "from sklearn.model_selection import train_test_split\n",
    "\n",
    "seed = 2018\n",
    "test_size = 0.2\n",
    "\n",
    "dtrain, dtest = train_test_split(train_data, test_size = test_size, random_state = seed)"
   ]
  },
  {
   "cell_type": "code",
   "execution_count": 3,
   "metadata": {
    "ExecuteTime": {
     "end_time": "2018-03-24T02:14:44.264988Z",
     "start_time": "2018-03-24T02:14:44.159386Z"
    }
   },
   "outputs": [
    {
     "name": "stdout",
     "output_type": "stream",
     "text": [
      "classifying...\n",
      "int features count: 19 \n",
      "float features count: 4 \n",
      "object features count: 3\n"
     ]
    }
   ],
   "source": [
    "int_f, float_f, obj_f = feature.classify()\n",
    "\n",
    "predictors = [x for x in train_data.columns if x not in obj_f+[target]]"
   ]
  },
  {
   "cell_type": "code",
   "execution_count": 4,
   "metadata": {
    "ExecuteTime": {
     "end_time": "2018-03-24T02:14:45.172499Z",
     "start_time": "2018-03-24T02:14:45.166312Z"
    }
   },
   "outputs": [
    {
     "data": {
      "text/plain": [
       "['item_category_list', 'item_property_list', 'predict_category_property']"
      ]
     },
     "execution_count": 4,
     "metadata": {},
     "output_type": "execute_result"
    }
   ],
   "source": [
    "obj_f"
   ]
  },
  {
   "cell_type": "code",
   "execution_count": 5,
   "metadata": {
    "ExecuteTime": {
     "end_time": "2018-03-24T02:14:46.259005Z",
     "start_time": "2018-03-24T02:14:46.251022Z"
    }
   },
   "outputs": [
    {
     "data": {
      "text/plain": [
       "['instance_id',\n",
       " 'item_id',\n",
       " 'item_brand_id',\n",
       " 'item_city_id',\n",
       " 'item_price_level',\n",
       " 'item_sales_level',\n",
       " 'item_collected_level',\n",
       " 'item_pv_level',\n",
       " 'user_id',\n",
       " 'user_gender_id',\n",
       " 'user_age_level',\n",
       " 'user_occupation_id',\n",
       " 'user_star_level',\n",
       " 'context_id',\n",
       " 'context_timestamp',\n",
       " 'context_page_id',\n",
       " 'shop_id',\n",
       " 'shop_review_num_level',\n",
       " 'shop_review_positive_rate',\n",
       " 'shop_star_level',\n",
       " 'shop_score_service',\n",
       " 'shop_score_delivery',\n",
       " 'shop_score_description']"
      ]
     },
     "execution_count": 5,
     "metadata": {},
     "output_type": "execute_result"
    }
   ],
   "source": [
    "predictors"
   ]
  },
  {
   "cell_type": "code",
   "execution_count": 6,
   "metadata": {
    "ExecuteTime": {
     "end_time": "2018-03-24T02:14:47.718239Z",
     "start_time": "2018-03-24T02:14:47.713933Z"
    }
   },
   "outputs": [],
   "source": [
    "tuning = gc.Tune(train=dtrain, target=target, predictors=predictors)"
   ]
  },
  {
   "cell_type": "code",
   "execution_count": 11,
   "metadata": {
    "ExecuteTime": {
     "end_time": "2018-03-24T05:13:11.589716Z",
     "start_time": "2018-03-24T04:15:04.455445Z"
    }
   },
   "outputs": [
    {
     "name": "stdout",
     "output_type": "stream",
     "text": [
      "simulating...\n",
      "\n",
      "INFO: Number of possible iterations given cooling schedule: 160\n",
      "\n"
     ]
    },
    {
     "name": "stderr",
     "output_type": "stream",
     "text": [
      "[Parallel(n_jobs=1)]: Done   5 out of   5 | elapsed: 11.7min finished\n"
     ]
    },
    {
     "name": "stdout",
     "output_type": "stream",
     "text": [
      "2 T: 10.0, score: 0.6662, std: 0.0046, params: {'max_depth': '5.00', 'subsample': '0.40', 'colsample_bytree': '0.40'}\n"
     ]
    },
    {
     "name": "stderr",
     "output_type": "stream",
     "text": [
      "[Parallel(n_jobs=1)]: Done   5 out of   5 | elapsed: 12.3min finished\n"
     ]
    },
    {
     "name": "stdout",
     "output_type": "stream",
     "text": [
      "3 T: 10.0, score: 0.6665, std: 0.0048, params: {'max_depth': '5.00', 'subsample': '0.50', 'colsample_bytree': '0.40'}\n"
     ]
    },
    {
     "name": "stderr",
     "output_type": "stream",
     "text": [
      "[Parallel(n_jobs=1)]: Done   5 out of   5 | elapsed:  5.4min finished\n"
     ]
    },
    {
     "name": "stdout",
     "output_type": "stream",
     "text": [
      "4 T: 10.0, score: 0.6695, std: 0.0049, params: {'max_depth': '1.00', 'subsample': '0.50', 'colsample_bytree': '0.40'}\n"
     ]
    },
    {
     "name": "stderr",
     "output_type": "stream",
     "text": [
      "[Parallel(n_jobs=1)]: Done   5 out of   5 | elapsed:  5.9min finished\n"
     ]
    },
    {
     "name": "stdout",
     "output_type": "stream",
     "text": [
      "5 T: 10.0, score: 0.6690, std: 0.0049, params: {'max_depth': '1.00', 'subsample': '0.80', 'colsample_bytree': '0.40'}\n"
     ]
    },
    {
     "name": "stderr",
     "output_type": "stream",
     "text": [
      "[Parallel(n_jobs=1)]: Done   5 out of   5 | elapsed: 11.2min finished\n"
     ]
    },
    {
     "name": "stdout",
     "output_type": "stream",
     "text": [
      "6 T: 10.0, score: 0.6679, std: 0.0053, params: {'max_depth': '10.00', 'subsample': '0.80', 'colsample_bytree': '0.40'}\n",
      "\n",
      "best score: 0.669460 \n",
      "best parameters: {'max_depth': '1.00', 'subsample': '0.50', 'colsample_bytree': '0.40'}\n"
     ]
    }
   ],
   "source": [
    "clf_sim = tuning.simAnneal(alpha=0.75, n_jobs=1)"
   ]
  },
  {
   "cell_type": "code",
   "execution_count": 14,
   "metadata": {
    "ExecuteTime": {
     "end_time": "2018-03-24T05:20:33.998650Z",
     "start_time": "2018-03-24T05:19:54.670646Z"
    }
   },
   "outputs": [
    {
     "name": "stdout",
     "output_type": "stream",
     "text": [
      "\n",
      "predicting...\n",
      "\n",
      "done.\n"
     ]
    }
   ],
   "source": [
    "import warnings\n",
    "warnings.filterwarnings('ignore')\n",
    "\n",
    "rpt = gc.Report(clf_sim.best_estimator_, dtrain, dtest, target, predictors)"
   ]
  },
  {
   "cell_type": "code",
   "execution_count": 15,
   "metadata": {
    "ExecuteTime": {
     "end_time": "2018-03-24T05:20:37.627271Z",
     "start_time": "2018-03-24T05:20:35.969517Z"
    },
    "scrolled": false
   },
   "outputs": [
    {
     "name": "stdout",
     "output_type": "stream",
     "text": [
      "\n",
      "Model Report\n",
      "Accuracy : 0.633965\n",
      "AUC Score (train): 0.679275\n",
      "AUC Score (test): 0.671505\n",
      "             precision    recall  f1-score   support\n",
      "\n",
      "          0       0.99      0.63      0.77     93780\n",
      "          1       0.03      0.62      0.06      1848\n",
      "\n",
      "avg / total       0.97      0.63      0.76     95628\n",
      "\n",
      "\n",
      "Model Report\n",
      "Recall metric in the testing dataset:  0.6174242424242424\n"
     ]
    },
    {
     "data": {
      "image/png": "[encoded data removed]",
      "text/plain": [
       "<matplotlib.figure.Figure at 0x115851e80>"
      ]
     },
     "metadata": {},
     "output_type": "display_data"
    },
    {
     "data": {
      "image/png": "[encoded data removed]",
      "text/plain": [
       "<matplotlib.figure.Figure at 0x117be1470>"
      ]
     },
     "metadata": {},
     "output_type": "display_data"
    },
    {
     "name": "stdout",
     "output_type": "stream",
     "text": [
      "\n",
      "Model Report\n",
      "Average Precision: 0.0392\n"
     ]
    },
    {
     "data": {
      "image/png": "[encoded data removed]",
      "text/plain": [
       "<matplotlib.figure.Figure at 0x1165884e0>"
      ]
     },
     "metadata": {},
     "output_type": "display_data"
    }
   ],
   "source": [
    "rpt.ALL()"
   ]
  },
  {
   "cell_type": "code",
   "execution_count": 16,
   "metadata": {
    "ExecuteTime": {
     "end_time": "2018-03-24T05:22:05.770284Z",
     "start_time": "2018-03-24T05:22:05.766997Z"
    }
   },
   "outputs": [],
   "source": [
    "from sklearn import metrics"
   ]
  },
  {
   "cell_type": "code",
   "execution_count": 22,
   "metadata": {
    "ExecuteTime": {
     "end_time": "2018-03-24T05:25:47.910180Z",
     "start_time": "2018-03-24T05:25:47.854463Z"
    }
   },
   "outputs": [
    {
     "data": {
      "text/plain": [
       "12.671873497301043"
      ]
     },
     "execution_count": 22,
     "metadata": {},
     "output_type": "execute_result"
    }
   ],
   "source": [
    "metrics.log_loss(rpt.test[rpt.target], rpt.test_predictions)"
   ]
  },
  {
   "cell_type": "code",
   "execution_count": 32,
   "metadata": {
    "ExecuteTime": {
     "end_time": "2018-03-24T05:31:37.349586Z",
     "start_time": "2018-03-24T05:31:36.604297Z"
    }
   },
   "outputs": [],
   "source": [
    "prediction = pd.DataFrame(clf_sim.best_estimator_.predict_proba(test_data[predictors])[:,1])"
   ]
  },
  {
   "cell_type": "code",
   "execution_count": 33,
   "metadata": {
    "ExecuteTime": {
     "end_time": "2018-03-24T05:31:38.240306Z",
     "start_time": "2018-03-24T05:31:38.232568Z"
    }
   },
   "outputs": [
    {
     "data": {
      "text/html": [
       "<div>\n",
       "<style scoped>\n",
       "    .dataframe tbody tr th:only-of-type {\n",
       "        vertical-align: middle;\n",
       "    }\n",
       "\n",
       "    .dataframe tbody tr th {\n",
       "        vertical-align: top;\n",
       "    }\n",
       "\n",
       "    .dataframe thead th {\n",
       "        text-align: right;\n",
       "    }\n",
       "</style>\n",
       "<table border=\"1\" class=\"dataframe\">\n",
       "  <thead>\n",
       "    <tr style=\"text-align: right;\">\n",
       "      <th></th>\n",
       "      <th>0</th>\n",
       "    </tr>\n",
       "  </thead>\n",
       "  <tbody>\n",
       "    <tr>\n",
       "      <th>0</th>\n",
       "      <td>0.174280</td>\n",
       "    </tr>\n",
       "    <tr>\n",
       "      <th>1</th>\n",
       "      <td>0.479189</td>\n",
       "    </tr>\n",
       "    <tr>\n",
       "      <th>2</th>\n",
       "      <td>0.417693</td>\n",
       "    </tr>\n",
       "    <tr>\n",
       "      <th>3</th>\n",
       "      <td>0.466145</td>\n",
       "    </tr>\n",
       "    <tr>\n",
       "      <th>4</th>\n",
       "      <td>0.381145</td>\n",
       "    </tr>\n",
       "  </tbody>\n",
       "</table>\n",
       "</div>"
      ],
      "text/plain": [
       "          0\n",
       "0  0.174280\n",
       "1  0.479189\n",
       "2  0.417693\n",
       "3  0.466145\n",
       "4  0.381145"
      ]
     },
     "execution_count": 33,
     "metadata": {},
     "output_type": "execute_result"
    }
   ],
   "source": [
    "prediction.head()"
   ]
  },
  {
   "cell_type": "code",
   "execution_count": 40,
   "metadata": {
    "ExecuteTime": {
     "end_time": "2018-03-24T05:32:38.319329Z",
     "start_time": "2018-03-24T05:32:38.310931Z"
    },
    "scrolled": true
   },
   "outputs": [],
   "source": [
    "output = pd.DataFrame()\n",
    "output['instance_id'] = test_data['instance_id']\n",
    "output['predicted_score'] = prediction"
   ]
  },
  {
   "cell_type": "code",
   "execution_count": 41,
   "metadata": {
    "ExecuteTime": {
     "end_time": "2018-03-24T05:32:39.403435Z",
     "start_time": "2018-03-24T05:32:39.393664Z"
    }
   },
   "outputs": [
    {
     "data": {
      "text/html": [
       "<div>\n",
       "<style scoped>\n",
       "    .dataframe tbody tr th:only-of-type {\n",
       "        vertical-align: middle;\n",
       "    }\n",
       "\n",
       "    .dataframe tbody tr th {\n",
       "        vertical-align: top;\n",
       "    }\n",
       "\n",
       "    .dataframe thead th {\n",
       "        text-align: right;\n",
       "    }\n",
       "</style>\n",
       "<table border=\"1\" class=\"dataframe\">\n",
       "  <thead>\n",
       "    <tr style=\"text-align: right;\">\n",
       "      <th></th>\n",
       "      <th>instance_id</th>\n",
       "      <th>predicted_score</th>\n",
       "    </tr>\n",
       "  </thead>\n",
       "  <tbody>\n",
       "    <tr>\n",
       "      <th>0</th>\n",
       "      <td>2475218615076601065</td>\n",
       "      <td>0.174280</td>\n",
       "    </tr>\n",
       "    <tr>\n",
       "      <th>1</th>\n",
       "      <td>398316874173557226</td>\n",
       "      <td>0.479189</td>\n",
       "    </tr>\n",
       "    <tr>\n",
       "      <th>2</th>\n",
       "      <td>6586402638209028583</td>\n",
       "      <td>0.417693</td>\n",
       "    </tr>\n",
       "    <tr>\n",
       "      <th>3</th>\n",
       "      <td>1040996105851528465</td>\n",
       "      <td>0.466145</td>\n",
       "    </tr>\n",
       "    <tr>\n",
       "      <th>4</th>\n",
       "      <td>6316278569655873454</td>\n",
       "      <td>0.381145</td>\n",
       "    </tr>\n",
       "  </tbody>\n",
       "</table>\n",
       "</div>"
      ],
      "text/plain": [
       "           instance_id  predicted_score\n",
       "0  2475218615076601065         0.174280\n",
       "1   398316874173557226         0.479189\n",
       "2  6586402638209028583         0.417693\n",
       "3  1040996105851528465         0.466145\n",
       "4  6316278569655873454         0.381145"
      ]
     },
     "execution_count": 41,
     "metadata": {},
     "output_type": "execute_result"
    }
   ],
   "source": [
    "output.head()"
   ]
  },
  {
   "cell_type": "code",
   "execution_count": 43,
   "metadata": {
    "ExecuteTime": {
     "end_time": "2018-03-24T12:12:15.968940Z",
     "start_time": "2018-03-24T12:12:15.843182Z"
    }
   },
   "outputs": [],
   "source": [
    "output.to_csv('result_0.txt', index=False, sep=' ')"
   ]
  },
  {
   "cell_type": "markdown",
   "metadata": {},
   "source": [
    "## With Conversion.py"
   ]
  },
  {
   "cell_type": "code",
   "execution_count": 1,
   "metadata": {
    "ExecuteTime": {
     "end_time": "2018-03-25T08:45:21.552136Z",
     "start_time": "2018-03-25T08:45:15.979721Z"
    }
   },
   "outputs": [],
   "source": [
    "import pandas as pd\n",
    "import lightgbm as lgb\n",
    "import Conversion\n",
    "from Conversion import Train\n",
    "\n",
    "import warnings\n",
    "warnings.filterwarnings('ignore')\n",
    "\n",
    "train, test = Conversion.load_data(data_list=Conversion.new_data)"
   ]
  },
  {
   "cell_type": "code",
   "execution_count": 2,
   "metadata": {
    "ExecuteTime": {
     "end_time": "2018-03-25T08:12:35.893519Z",
     "start_time": "2018-03-25T08:12:16.068420Z"
    }
   },
   "outputs": [
    {
     "name": "stdout",
     "output_type": "stream",
     "text": [
      "0.08314635413059049\n"
     ]
    }
   ],
   "source": [
    "clf = Conversion.Baseline(train, features=Conversion.numeric_features, validation_day=24)"
   ]
  },
  {
   "cell_type": "code",
   "execution_count": 2,
   "metadata": {
    "ExecuteTime": {
     "end_time": "2018-03-25T08:45:25.741242Z",
     "start_time": "2018-03-25T08:45:25.547236Z"
    }
   },
   "outputs": [],
   "source": [
    "models = Train(train=train, target=Conversion.target, features=Conversion.numeric_features, validation_day=24)"
   ]
  },
  {
   "cell_type": "code",
   "execution_count": 3,
   "metadata": {
    "ExecuteTime": {
     "end_time": "2018-03-25T08:45:43.291872Z",
     "start_time": "2018-03-25T08:45:27.356885Z"
    }
   },
   "outputs": [
    {
     "name": "stdout",
     "output_type": "stream",
     "text": [
      "log loss:  0.08314635413059049\n"
     ]
    }
   ],
   "source": [
    "clf_bsline = models.Baseline()"
   ]
  },
  {
   "cell_type": "code",
   "execution_count": 4,
   "metadata": {
    "ExecuteTime": {
     "end_time": "2018-03-25T08:54:32.674339Z",
     "start_time": "2018-03-25T08:45:46.822200Z"
    }
   },
   "outputs": [
    {
     "name": "stdout",
     "output_type": "stream",
     "text": [
      "simulating...\n",
      "\n",
      "INFO: Number of possible iterations given cooling schedule: 437\n",
      "\n"
     ]
    },
    {
     "name": "stderr",
     "output_type": "stream",
     "text": [
      "[Parallel(n_jobs=1)]: Done   5 out of   5 | elapsed:   39.1s finished\n"
     ]
    },
    {
     "name": "stdout",
     "output_type": "stream",
     "text": [
      "2 T: 10.0, score: -0.0933, std: 0.0029, params: {'max_depth': '3.00', 'subsample': '0.50', 'colsample_bytree': '0.10'}\n"
     ]
    },
    {
     "name": "stderr",
     "output_type": "stream",
     "text": [
      "[Parallel(n_jobs=1)]: Done   5 out of   5 | elapsed:   38.7s finished\n"
     ]
    },
    {
     "name": "stdout",
     "output_type": "stream",
     "text": [
      "3 T: 10.0, score: -0.0933, std: 0.0028, params: {'max_depth': '3.00', 'subsample': '0.80', 'colsample_bytree': '0.10'}\n"
     ]
    },
    {
     "name": "stderr",
     "output_type": "stream",
     "text": [
      "[Parallel(n_jobs=1)]: Done   5 out of   5 | elapsed:   41.5s finished\n"
     ]
    },
    {
     "name": "stdout",
     "output_type": "stream",
     "text": [
      "4 T: 10.0, score: -0.0916, std: 0.0028, params: {'max_depth': '3.00', 'subsample': '0.80', 'colsample_bytree': '0.70'}\n"
     ]
    },
    {
     "name": "stderr",
     "output_type": "stream",
     "text": [
      "[Parallel(n_jobs=1)]: Done   5 out of   5 | elapsed:   40.9s finished\n"
     ]
    },
    {
     "name": "stdout",
     "output_type": "stream",
     "text": [
      "5 T: 10.0, score: -0.0919, std: 0.0028, params: {'max_depth': '3.00', 'subsample': '0.80', 'colsample_bytree': '0.40'}\n"
     ]
    },
    {
     "name": "stderr",
     "output_type": "stream",
     "text": [
      "[Parallel(n_jobs=1)]: Done   5 out of   5 | elapsed:  5.2min finished\n"
     ]
    },
    {
     "name": "stdout",
     "output_type": "stream",
     "text": [
      "6 T: 10.0, score: -0.0918, std: 0.0029, params: {'max_depth': '3.00', 'subsample': '0.40', 'colsample_bytree': '0.40'}\n",
      "\n",
      "best score: -0.091608 \n",
      "log loss: 0.083650 \n",
      "best parameters: {'max_depth': '3.00', 'subsample': '0.80', 'colsample_bytree': '0.70'}\n"
     ]
    }
   ],
   "source": [
    "clf_sim = models.simAnneal(alpha=0.9)"
   ]
  },
  {
   "cell_type": "code",
   "execution_count": 7,
   "metadata": {
    "ExecuteTime": {
     "end_time": "2018-03-25T09:07:28.948786Z",
     "start_time": "2018-03-25T09:01:07.998307Z"
    }
   },
   "outputs": [
    {
     "name": "stdout",
     "output_type": "stream",
     "text": [
      "simulating...\n",
      "\n",
      "INFO: Number of possible iterations given cooling schedule: 2279\n",
      "\n"
     ]
    },
    {
     "name": "stderr",
     "output_type": "stream",
     "text": [
      "[Parallel(n_jobs=1)]: Done   5 out of   5 | elapsed:   36.9s finished\n"
     ]
    },
    {
     "name": "stdout",
     "output_type": "stream",
     "text": [
      "2 T: 10.0, score: -0.0934, std: 0.0029, params: {'max_depth': '2.00', 'subsample': '0.90', 'colsample_bytree': '0.10'}\n"
     ]
    },
    {
     "name": "stderr",
     "output_type": "stream",
     "text": [
      "[Parallel(n_jobs=1)]: Done   5 out of   5 | elapsed:   29.9s finished\n"
     ]
    },
    {
     "name": "stdout",
     "output_type": "stream",
     "text": [
      "3 T: 10.0, score: -0.0938, std: 0.0029, params: {'max_depth': '1.00', 'subsample': '0.90', 'colsample_bytree': '0.10'}\n"
     ]
    },
    {
     "name": "stderr",
     "output_type": "stream",
     "text": [
      "[Parallel(n_jobs=1)]: Done   5 out of   5 | elapsed:   43.2s finished\n"
     ]
    },
    {
     "name": "stdout",
     "output_type": "stream",
     "text": [
      "4 T: 10.0, score: -0.0933, std: 0.0028, params: {'max_depth': '3.00', 'subsample': '0.90', 'colsample_bytree': '0.10'}\n"
     ]
    },
    {
     "name": "stderr",
     "output_type": "stream",
     "text": [
      "[Parallel(n_jobs=1)]: Done   5 out of   5 | elapsed:   27.1s finished\n"
     ]
    },
    {
     "name": "stdout",
     "output_type": "stream",
     "text": [
      "5 T: 10.0, score: -0.0934, std: 0.0028, params: {'max_depth': '3.00', 'subsample': '0.10', 'colsample_bytree': '0.10'}\n"
     ]
    },
    {
     "name": "stderr",
     "output_type": "stream",
     "text": [
      "[Parallel(n_jobs=1)]: Done   5 out of   5 | elapsed:   18.4s finished\n"
     ]
    },
    {
     "name": "stdout",
     "output_type": "stream",
     "text": [
      "6 T: 10.0, score: -0.0937, std: 0.0029, params: {'max_depth': '1.00', 'subsample': '0.10', 'colsample_bytree': '0.10'}\n"
     ]
    },
    {
     "name": "stderr",
     "output_type": "stream",
     "text": [
      "[Parallel(n_jobs=1)]: Done   5 out of   5 | elapsed:   19.4s finished\n"
     ]
    },
    {
     "name": "stdout",
     "output_type": "stream",
     "text": [
      "7 T: 9.8, score: -0.0929, std: 0.0029, params: {'max_depth': '1.00', 'subsample': '0.10', 'colsample_bytree': '0.70'}\n"
     ]
    },
    {
     "name": "stderr",
     "output_type": "stream",
     "text": [
      "[Parallel(n_jobs=1)]: Done   5 out of   5 | elapsed:   19.4s finished\n"
     ]
    },
    {
     "name": "stdout",
     "output_type": "stream",
     "text": [
      "8 T: 9.8, score: -0.0930, std: 0.0029, params: {'max_depth': '1.00', 'subsample': '0.10', 'colsample_bytree': '0.40'}\n"
     ]
    },
    {
     "name": "stderr",
     "output_type": "stream",
     "text": [
      "[Parallel(n_jobs=1)]: Done   5 out of   5 | elapsed:   49.2s finished\n"
     ]
    },
    {
     "name": "stdout",
     "output_type": "stream",
     "text": [
      "9 T: 9.8, score: -0.0912, std: 0.0028, params: {'max_depth': '6.00', 'subsample': '0.10', 'colsample_bytree': '0.40'}\n"
     ]
    },
    {
     "name": "stderr",
     "output_type": "stream",
     "text": [
      "[Parallel(n_jobs=1)]: Done   5 out of   5 | elapsed:   44.8s finished\n"
     ]
    },
    {
     "name": "stdout",
     "output_type": "stream",
     "text": [
      "10 T: 9.8, score: -0.0908, std: 0.0028, params: {'max_depth': '6.00', 'subsample': '0.10', 'colsample_bytree': '0.80'}\n"
     ]
    },
    {
     "name": "stderr",
     "output_type": "stream",
     "text": [
      "[Parallel(n_jobs=1)]: Done   5 out of   5 | elapsed:   46.2s finished\n"
     ]
    },
    {
     "name": "stdout",
     "output_type": "stream",
     "text": [
      "11 T: 9.8, score: -0.0916, std: 0.0029, params: {'max_depth': '6.00', 'subsample': '0.10', 'colsample_bytree': '0.30'}\n",
      "\n",
      "best score: -0.090847 \n",
      "log loss: 0.083283 \n",
      "best parameters: {'max_depth': '6.00', 'subsample': '0.10', 'colsample_bytree': '0.80'}\n"
     ]
    }
   ],
   "source": [
    "clf_sim_2 = models.simAnneal(alpha=0.98)"
   ]
  },
  {
   "cell_type": "code",
   "execution_count": null,
   "metadata": {},
   "outputs": [],
   "source": []
  }
 ],
 "metadata": {
  "kernelspec": {
   "display_name": "Python 3",
   "language": "python",
   "name": "python3"
  },
  "language_info": {
   "codemirror_mode": {
    "name": "ipython",
    "version": 3
   },
   "file_extension": ".py",
   "mimetype": "text/x-python",
   "name": "python",
   "nbconvert_exporter": "python",
   "pygments_lexer": "ipython3",
   "version": "3.6.3"
  },
  "toc": {
   "nav_menu": {},
   "number_sections": true,
   "sideBar": true,
   "skip_h1_title": false,
   "toc_cell": false,
   "toc_position": {},
   "toc_section_display": "block",
   "toc_window_display": false
  },
  "varInspector": {
   "cols": {
    "lenName": 16,
    "lenType": 16,
    "lenVar": 40
   },
   "kernels_config": {
    "python": {
     "delete_cmd_postfix": "",
     "delete_cmd_prefix": "del ",
     "library": "var_list.py",
     "varRefreshCmd": "print(var_dic_list())"
    },
    "r": {
     "delete_cmd_postfix": ") ",
     "delete_cmd_prefix": "rm(",
     "library": "var_list.r",
     "varRefreshCmd": "cat(var_dic_list()) "
    }
   },
   "types_to_exclude": [
    "module",
    "function",
    "builtin_function_or_method",
    "instance",
    "_Feature"
   ],
   "window_display": false
  }
 },
 "nbformat": 4,
 "nbformat_minor": 2
}
